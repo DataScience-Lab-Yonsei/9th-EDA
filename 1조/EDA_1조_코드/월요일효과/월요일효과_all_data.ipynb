{
  "nbformat": 4,
  "nbformat_minor": 0,
  "metadata": {
    "colab": {
      "provenance": [],
      "toc_visible": true
    },
    "kernelspec": {
      "name": "python3",
      "display_name": "Python 3"
    },
    "language_info": {
      "name": "python"
    }
  },
  "cells": [
    {
      "cell_type": "markdown",
      "source": [
        "## 기본 "
      ],
      "metadata": {
        "id": "PCuOWo8cAdjB"
      }
    },
    {
      "cell_type": "code",
      "source": [
        "from google.colab import drive\n",
        "drive.mount('/content/drive')"
      ],
      "metadata": {
        "colab": {
          "base_uri": "https://localhost:8080/"
        },
        "id": "vEWayA3hePxe",
        "outputId": "0e6b9862-121c-4760-b4fe-3cbd474aff3a"
      },
      "execution_count": 1,
      "outputs": [
        {
          "output_type": "stream",
          "name": "stdout",
          "text": [
            "Mounted at /content/drive\n"
          ]
        }
      ]
    },
    {
      "cell_type": "code",
      "execution_count": 2,
      "metadata": {
        "colab": {
          "base_uri": "https://localhost:8080/"
        },
        "id": "yCbsA5ZSeBqi",
        "outputId": "b4a301bd-cc79-4dee-fe61-5ce9604e4025"
      },
      "outputs": [
        {
          "output_type": "stream",
          "name": "stdout",
          "text": [
            "Reading package lists... Done\n",
            "Building dependency tree       \n",
            "Reading state information... Done\n",
            "The following NEW packages will be installed:\n",
            "  fonts-nanum\n",
            "0 upgraded, 1 newly installed, 0 to remove and 27 not upgraded.\n",
            "Need to get 9,599 kB of archives.\n",
            "After this operation, 29.6 MB of additional disk space will be used.\n",
            "Get:1 http://archive.ubuntu.com/ubuntu focal/universe amd64 fonts-nanum all 20180306-3 [9,599 kB]\n",
            "Fetched 9,599 kB in 2s (5,389 kB/s)\n",
            "debconf: unable to initialize frontend: Dialog\n",
            "debconf: (No usable dialog-like program is installed, so the dialog based frontend cannot be used. at /usr/share/perl5/Debconf/FrontEnd/Dialog.pm line 76, <> line 1.)\n",
            "debconf: falling back to frontend: Readline\n",
            "debconf: unable to initialize frontend: Readline\n",
            "debconf: (This frontend requires a controlling tty.)\n",
            "debconf: falling back to frontend: Teletype\n",
            "dpkg-preconfigure: unable to re-open stdin: \n",
            "Selecting previously unselected package fonts-nanum.\n",
            "(Reading database ... 129502 files and directories currently installed.)\n",
            "Preparing to unpack .../fonts-nanum_20180306-3_all.deb ...\n",
            "Unpacking fonts-nanum (20180306-3) ...\n",
            "Setting up fonts-nanum (20180306-3) ...\n",
            "Processing triggers for fontconfig (2.13.1-2ubuntu3) ...\n",
            "/usr/share/fonts: caching, new cache contents: 0 fonts, 1 dirs\n",
            "/usr/share/fonts/truetype: caching, new cache contents: 0 fonts, 3 dirs\n",
            "/usr/share/fonts/truetype/humor-sans: caching, new cache contents: 1 fonts, 0 dirs\n",
            "/usr/share/fonts/truetype/liberation: caching, new cache contents: 16 fonts, 0 dirs\n",
            "/usr/share/fonts/truetype/nanum: caching, new cache contents: 10 fonts, 0 dirs\n",
            "/usr/local/share/fonts: caching, new cache contents: 0 fonts, 0 dirs\n",
            "/root/.local/share/fonts: skipping, no such directory\n",
            "/root/.fonts: skipping, no such directory\n",
            "/usr/share/fonts/truetype: skipping, looped directory detected\n",
            "/usr/share/fonts/truetype/humor-sans: skipping, looped directory detected\n",
            "/usr/share/fonts/truetype/liberation: skipping, looped directory detected\n",
            "/usr/share/fonts/truetype/nanum: skipping, looped directory detected\n",
            "/var/cache/fontconfig: cleaning cache directory\n",
            "/root/.cache/fontconfig: not cleaning non-existent cache directory\n",
            "/root/.fontconfig: not cleaning non-existent cache directory\n",
            "fc-cache: succeeded\n"
          ]
        }
      ],
      "source": [
        "import numpy as np\n",
        "import pandas as pd\n",
        "import seaborn as sns\n",
        "import matplotlib.pyplot as plt\n",
        "from scipy import stats\n",
        "plt.rc('font', family='NanumBarunGothic') \n",
        "\n",
        "!sudo apt-get install -y fonts-nanum\n",
        "!sudo fc-cache -fv\n",
        "!rm ~/.cache/matplotlib -rf"
      ]
    },
    {
      "cell_type": "code",
      "source": [],
      "metadata": {
        "id": "Q3P8BVa5eHey"
      },
      "execution_count": 2,
      "outputs": []
    },
    {
      "cell_type": "markdown",
      "source": [
        "# 세팅"
      ],
      "metadata": {
        "id": "q9cN5FZweISe"
      }
    },
    {
      "cell_type": "markdown",
      "source": [
        "## KOSPI"
      ],
      "metadata": {
        "id": "CQJHVdchAj_j"
      }
    },
    {
      "cell_type": "code",
      "source": [
        "# KOSPI 데이터 불러오기 \n",
        "kospi = pd.read_csv('/content/drive/MyDrive/DSL/kospi_data.csv')"
      ],
      "metadata": {
        "id": "8mMeXvFieL3w"
      },
      "execution_count": 3,
      "outputs": []
    },
    {
      "cell_type": "code",
      "source": [
        "kospi['Close_lag'] = kospi['Close'].shift(1)\n",
        "kospi['Log_Rate'] = np.log(kospi['Close']/kospi['Close_lag'])\n",
        "\n",
        "kospi['Date'] = pd.to_datetime(kospi['Date'])\n",
        "kospi['Month'] = [x.month for x in kospi['Date']]\n",
        "kospi['Day'] = [x.day for x in kospi['Date']]\n",
        "kospi['Year'] = [x.year for x in kospi['Date']]\n",
        "kospi['Weekday'] = kospi['Date'].dt.dayofweek\n",
        "rate = kospi.groupby(['Year', 'Month'])['Log_Rate'].sum()\n",
        "kospi_change = rate.reset_index()\n"
      ],
      "metadata": {
        "id": "PteFJk9NAgDm"
      },
      "execution_count": 4,
      "outputs": []
    },
    {
      "cell_type": "markdown",
      "source": [
        "##KOSDAQ"
      ],
      "metadata": {
        "id": "OTIBtGEreYSe"
      }
    },
    {
      "cell_type": "code",
      "source": [
        "kosdaq = pd.read_csv('/content/drive/MyDrive/DSL/kosdaq_data.csv')\n",
        "kosdaq.head()"
      ],
      "metadata": {
        "colab": {
          "base_uri": "https://localhost:8080/",
          "height": 206
        },
        "outputId": "2f11bd5c-d53c-4920-a4cf-fe0fa8e590aa",
        "id": "_It5KZg3eYSf"
      },
      "execution_count": 5,
      "outputs": [
        {
          "output_type": "execute_result",
          "data": {
            "text/plain": [
              "        Date   Close  Change  Fluctuation    Open    High     Low   Volume  \\\n",
              "0  2023.1.19  712.89    1.14         0.16  707.66  712.94  705.76  1008733   \n",
              "1  2023.1.18  711.75    2.04         0.29  711.12  713.28  708.79  1175236   \n",
              "2  2023.1.17  709.71   -7.18        -1.00  716.70  718.90  708.54  1162083   \n",
              "3  2023.1.16  716.89    5.07         0.71  714.71  718.15  713.19  1230666   \n",
              "4  2023.1.13  711.82    1.00         0.14  712.24  714.75  709.26  1082282   \n",
              "\n",
              "   Transaction   Market_cap  \n",
              "0    6275313.0  332000000.0  \n",
              "1    6534155.0  331000000.0  \n",
              "2    6282539.0  330000000.0  \n",
              "3    5646744.0  333000000.0  \n",
              "4    5228817.0  331000000.0  "
            ],
            "text/html": [
              "\n",
              "  <div id=\"df-a17b9455-301c-4460-a23a-06738367d3b7\">\n",
              "    <div class=\"colab-df-container\">\n",
              "      <div>\n",
              "<style scoped>\n",
              "    .dataframe tbody tr th:only-of-type {\n",
              "        vertical-align: middle;\n",
              "    }\n",
              "\n",
              "    .dataframe tbody tr th {\n",
              "        vertical-align: top;\n",
              "    }\n",
              "\n",
              "    .dataframe thead th {\n",
              "        text-align: right;\n",
              "    }\n",
              "</style>\n",
              "<table border=\"1\" class=\"dataframe\">\n",
              "  <thead>\n",
              "    <tr style=\"text-align: right;\">\n",
              "      <th></th>\n",
              "      <th>Date</th>\n",
              "      <th>Close</th>\n",
              "      <th>Change</th>\n",
              "      <th>Fluctuation</th>\n",
              "      <th>Open</th>\n",
              "      <th>High</th>\n",
              "      <th>Low</th>\n",
              "      <th>Volume</th>\n",
              "      <th>Transaction</th>\n",
              "      <th>Market_cap</th>\n",
              "    </tr>\n",
              "  </thead>\n",
              "  <tbody>\n",
              "    <tr>\n",
              "      <th>0</th>\n",
              "      <td>2023.1.19</td>\n",
              "      <td>712.89</td>\n",
              "      <td>1.14</td>\n",
              "      <td>0.16</td>\n",
              "      <td>707.66</td>\n",
              "      <td>712.94</td>\n",
              "      <td>705.76</td>\n",
              "      <td>1008733</td>\n",
              "      <td>6275313.0</td>\n",
              "      <td>332000000.0</td>\n",
              "    </tr>\n",
              "    <tr>\n",
              "      <th>1</th>\n",
              "      <td>2023.1.18</td>\n",
              "      <td>711.75</td>\n",
              "      <td>2.04</td>\n",
              "      <td>0.29</td>\n",
              "      <td>711.12</td>\n",
              "      <td>713.28</td>\n",
              "      <td>708.79</td>\n",
              "      <td>1175236</td>\n",
              "      <td>6534155.0</td>\n",
              "      <td>331000000.0</td>\n",
              "    </tr>\n",
              "    <tr>\n",
              "      <th>2</th>\n",
              "      <td>2023.1.17</td>\n",
              "      <td>709.71</td>\n",
              "      <td>-7.18</td>\n",
              "      <td>-1.00</td>\n",
              "      <td>716.70</td>\n",
              "      <td>718.90</td>\n",
              "      <td>708.54</td>\n",
              "      <td>1162083</td>\n",
              "      <td>6282539.0</td>\n",
              "      <td>330000000.0</td>\n",
              "    </tr>\n",
              "    <tr>\n",
              "      <th>3</th>\n",
              "      <td>2023.1.16</td>\n",
              "      <td>716.89</td>\n",
              "      <td>5.07</td>\n",
              "      <td>0.71</td>\n",
              "      <td>714.71</td>\n",
              "      <td>718.15</td>\n",
              "      <td>713.19</td>\n",
              "      <td>1230666</td>\n",
              "      <td>5646744.0</td>\n",
              "      <td>333000000.0</td>\n",
              "    </tr>\n",
              "    <tr>\n",
              "      <th>4</th>\n",
              "      <td>2023.1.13</td>\n",
              "      <td>711.82</td>\n",
              "      <td>1.00</td>\n",
              "      <td>0.14</td>\n",
              "      <td>712.24</td>\n",
              "      <td>714.75</td>\n",
              "      <td>709.26</td>\n",
              "      <td>1082282</td>\n",
              "      <td>5228817.0</td>\n",
              "      <td>331000000.0</td>\n",
              "    </tr>\n",
              "  </tbody>\n",
              "</table>\n",
              "</div>\n",
              "      <button class=\"colab-df-convert\" onclick=\"convertToInteractive('df-a17b9455-301c-4460-a23a-06738367d3b7')\"\n",
              "              title=\"Convert this dataframe to an interactive table.\"\n",
              "              style=\"display:none;\">\n",
              "        \n",
              "  <svg xmlns=\"http://www.w3.org/2000/svg\" height=\"24px\"viewBox=\"0 0 24 24\"\n",
              "       width=\"24px\">\n",
              "    <path d=\"M0 0h24v24H0V0z\" fill=\"none\"/>\n",
              "    <path d=\"M18.56 5.44l.94 2.06.94-2.06 2.06-.94-2.06-.94-.94-2.06-.94 2.06-2.06.94zm-11 1L8.5 8.5l.94-2.06 2.06-.94-2.06-.94L8.5 2.5l-.94 2.06-2.06.94zm10 10l.94 2.06.94-2.06 2.06-.94-2.06-.94-.94-2.06-.94 2.06-2.06.94z\"/><path d=\"M17.41 7.96l-1.37-1.37c-.4-.4-.92-.59-1.43-.59-.52 0-1.04.2-1.43.59L10.3 9.45l-7.72 7.72c-.78.78-.78 2.05 0 2.83L4 21.41c.39.39.9.59 1.41.59.51 0 1.02-.2 1.41-.59l7.78-7.78 2.81-2.81c.8-.78.8-2.07 0-2.86zM5.41 20L4 18.59l7.72-7.72 1.47 1.35L5.41 20z\"/>\n",
              "  </svg>\n",
              "      </button>\n",
              "      \n",
              "  <style>\n",
              "    .colab-df-container {\n",
              "      display:flex;\n",
              "      flex-wrap:wrap;\n",
              "      gap: 12px;\n",
              "    }\n",
              "\n",
              "    .colab-df-convert {\n",
              "      background-color: #E8F0FE;\n",
              "      border: none;\n",
              "      border-radius: 50%;\n",
              "      cursor: pointer;\n",
              "      display: none;\n",
              "      fill: #1967D2;\n",
              "      height: 32px;\n",
              "      padding: 0 0 0 0;\n",
              "      width: 32px;\n",
              "    }\n",
              "\n",
              "    .colab-df-convert:hover {\n",
              "      background-color: #E2EBFA;\n",
              "      box-shadow: 0px 1px 2px rgba(60, 64, 67, 0.3), 0px 1px 3px 1px rgba(60, 64, 67, 0.15);\n",
              "      fill: #174EA6;\n",
              "    }\n",
              "\n",
              "    [theme=dark] .colab-df-convert {\n",
              "      background-color: #3B4455;\n",
              "      fill: #D2E3FC;\n",
              "    }\n",
              "\n",
              "    [theme=dark] .colab-df-convert:hover {\n",
              "      background-color: #434B5C;\n",
              "      box-shadow: 0px 1px 3px 1px rgba(0, 0, 0, 0.15);\n",
              "      filter: drop-shadow(0px 1px 2px rgba(0, 0, 0, 0.3));\n",
              "      fill: #FFFFFF;\n",
              "    }\n",
              "  </style>\n",
              "\n",
              "      <script>\n",
              "        const buttonEl =\n",
              "          document.querySelector('#df-a17b9455-301c-4460-a23a-06738367d3b7 button.colab-df-convert');\n",
              "        buttonEl.style.display =\n",
              "          google.colab.kernel.accessAllowed ? 'block' : 'none';\n",
              "\n",
              "        async function convertToInteractive(key) {\n",
              "          const element = document.querySelector('#df-a17b9455-301c-4460-a23a-06738367d3b7');\n",
              "          const dataTable =\n",
              "            await google.colab.kernel.invokeFunction('convertToInteractive',\n",
              "                                                     [key], {});\n",
              "          if (!dataTable) return;\n",
              "\n",
              "          const docLinkHtml = 'Like what you see? Visit the ' +\n",
              "            '<a target=\"_blank\" href=https://colab.research.google.com/notebooks/data_table.ipynb>data table notebook</a>'\n",
              "            + ' to learn more about interactive tables.';\n",
              "          element.innerHTML = '';\n",
              "          dataTable['output_type'] = 'display_data';\n",
              "          await google.colab.output.renderOutput(dataTable, element);\n",
              "          const docLink = document.createElement('div');\n",
              "          docLink.innerHTML = docLinkHtml;\n",
              "          element.appendChild(docLink);\n",
              "        }\n",
              "      </script>\n",
              "    </div>\n",
              "  </div>\n",
              "  "
            ]
          },
          "metadata": {},
          "execution_count": 5
        }
      ]
    },
    {
      "cell_type": "code",
      "source": [
        "kosdaq['Close_lag'] = kosdaq['Close'].shift(1)\n",
        "kosdaq['Log_Rate'] =  (kosdaq['Close']-kosdaq['Close_lag'])/kosdaq['Close_lag'] \n",
        "\n",
        "\n",
        "kosdaq['Date'] = pd.to_datetime(kosdaq['Date'])\n",
        "kosdaq['Month'] = [x.month for x in kosdaq['Date']]\n",
        "kosdaq['Day'] = [x.day for x in kosdaq['Date']]\n",
        "kosdaq['Year'] = [x.year for x in kosdaq['Date']]\n",
        "kosdaq['Weekday'] = kosdaq['Date'].dt.dayofweek\n",
        "\n",
        "df = pd.DataFrame({'Year':kosdaq['Year'], \n",
        "\t\t\t\t\t\t\t\t\t'Month':kosdaq['Month']}).drop_duplicates(['Year', 'Month'])\n",
        "\n",
        "rate = kosdaq.groupby(['Year', 'Month'])['Log_Rate'].sum()\n",
        "df['Monthly_Rate'] = list(rate)\n",
        "kosdaq_change = rate.reset_index()"
      ],
      "metadata": {
        "id": "2Xf8scKgeYSf"
      },
      "execution_count": 7,
      "outputs": []
    },
    {
      "cell_type": "markdown",
      "source": [
        "## S&P\n"
      ],
      "metadata": {
        "id": "hvLD_92Senze"
      }
    },
    {
      "cell_type": "code",
      "source": [
        "SP = pd.read_csv('/content/drive/MyDrive/DSL/S&P_data.csv')"
      ],
      "metadata": {
        "id": "sViaZdSkenzm"
      },
      "execution_count": 8,
      "outputs": []
    },
    {
      "cell_type": "code",
      "source": [
        "#날짜Date 칼럼을 datetime 타입으로 바꾸기\n",
        "SP['Date'] = pd.to_datetime(SP['Date'])\n",
        "#Date에서 월과 년만 분리해서 변수 만들기\n",
        "SP['Month'] = [x.month for x in SP['Date']]\n",
        "SP['Day'] = [x.day for x in SP['Date']]\n",
        "SP['Year'] = [x.year for x in SP['Date']]\n",
        "SP['Weekday'] = SP['Date'].dt.dayofweek\n",
        "\n",
        "#각 연도와 월에 해당하는 월간수익률을 계산하기 위해 새로운 데이터프레임을 만듭니다\n",
        "df = pd.DataFrame({'Year':SP['Year'], \n",
        "\t\t\t\t\t\t\t\t\t'Month':SP['Month']}).drop_duplicates(['Year', 'Month'])\n",
        "#각 연도와 월에 해당하는 로그수익률들만 모아서 합해주면 월간수익률이 얻어집니다.\n",
        "rate_SP = SP.groupby(['Year', 'Month'])['Log_Rate'].sum()\n",
        "\n",
        "SP_change = rate.reset_index()"
      ],
      "metadata": {
        "id": "Zzu_8yXeenzm"
      },
      "execution_count": 9,
      "outputs": []
    },
    {
      "cell_type": "markdown",
      "source": [
        "## NASDAQ"
      ],
      "metadata": {
        "id": "EFz2djede0X-"
      }
    },
    {
      "cell_type": "code",
      "source": [
        "nasdaq = pd.read_csv('/content/drive/MyDrive/DSL/nasdaq_data.csv')"
      ],
      "metadata": {
        "id": "rVmEC-5Qe0X-"
      },
      "execution_count": 10,
      "outputs": []
    },
    {
      "cell_type": "code",
      "source": [
        "#종가를 뒤로 1일 미룬 Close_lag 칼럼 생성\n",
        "nasdaq['Close_lag'] = nasdaq['Close'].shift(1)\n",
        "\n",
        "#로그수익률 칼럼 생성\n",
        "nasdaq['Log_Rate'] = np.log(nasdaq['Close']/nasdaq['Close_lag'])\n",
        "\n",
        "#수익률 칼럼 생성\n",
        "nasdaq['Change'] =  (nasdaq['Close']-nasdaq['Close_lag'])/nasdaq['Close_lag'] \n",
        "nasdaq"
      ],
      "metadata": {
        "colab": {
          "base_uri": "https://localhost:8080/",
          "height": 468
        },
        "outputId": "cf6fa201-25be-40fa-94a0-9e3ea6b0f429",
        "id": "cjYas-tEe0X_"
      },
      "execution_count": 11,
      "outputs": [
        {
          "output_type": "execute_result",
          "data": {
            "text/plain": [
              "             Date          Open          High           Low         Close  \\\n",
              "0      1971-02-05    100.000000    100.000000    100.000000    100.000000   \n",
              "1      1971-02-08    100.839996    100.839996    100.839996    100.839996   \n",
              "2      1971-02-09    100.760002    100.760002    100.760002    100.760002   \n",
              "3      1971-02-10    100.690002    100.690002    100.690002    100.690002   \n",
              "4      1971-02-11    101.449997    101.449997    101.449997    101.449997   \n",
              "...           ...           ...           ...           ...           ...   \n",
              "13097  2023-01-11  10794.990234  10932.440430  10762.730469  10931.669922   \n",
              "13098  2023-01-12  10969.259766  11027.750000  10797.120117  11001.099609   \n",
              "13099  2023-01-13  10906.370117  11084.009766  10900.160156  11079.160156   \n",
              "13100  2023-01-17  11070.000000  11145.440430  11024.719727  11095.110352   \n",
              "13101  2023-01-18  11170.950195  11223.410156  10952.049805  10957.009766   \n",
              "\n",
              "          Adj Close      Volume     Close_lag  Log_Rate    Change  \n",
              "0        100.000000           0           NaN       NaN       NaN  \n",
              "1        100.839996           0    100.000000  0.008365  0.008400  \n",
              "2        100.760002           0    100.839996 -0.000794 -0.000793  \n",
              "3        100.690002           0    100.760002 -0.000695 -0.000695  \n",
              "4        101.449997           0    100.690002  0.007520  0.007548  \n",
              "...             ...         ...           ...       ...       ...  \n",
              "13097  10931.669922  5284390000  10742.629883  0.017444  0.017597  \n",
              "13098  11001.099609  5681240000  10931.669922  0.006331  0.006351  \n",
              "13099  11079.160156  5077990000  11001.099609  0.007071  0.007096  \n",
              "13100  11095.110352  5138410000  11079.160156  0.001439  0.001440  \n",
              "13101  10957.009766  5288630000  11095.110352 -0.012525 -0.012447  \n",
              "\n",
              "[13102 rows x 10 columns]"
            ],
            "text/html": [
              "\n",
              "  <div id=\"df-a5377d7e-84a0-477f-b974-080abb8ced3a\">\n",
              "    <div class=\"colab-df-container\">\n",
              "      <div>\n",
              "<style scoped>\n",
              "    .dataframe tbody tr th:only-of-type {\n",
              "        vertical-align: middle;\n",
              "    }\n",
              "\n",
              "    .dataframe tbody tr th {\n",
              "        vertical-align: top;\n",
              "    }\n",
              "\n",
              "    .dataframe thead th {\n",
              "        text-align: right;\n",
              "    }\n",
              "</style>\n",
              "<table border=\"1\" class=\"dataframe\">\n",
              "  <thead>\n",
              "    <tr style=\"text-align: right;\">\n",
              "      <th></th>\n",
              "      <th>Date</th>\n",
              "      <th>Open</th>\n",
              "      <th>High</th>\n",
              "      <th>Low</th>\n",
              "      <th>Close</th>\n",
              "      <th>Adj Close</th>\n",
              "      <th>Volume</th>\n",
              "      <th>Close_lag</th>\n",
              "      <th>Log_Rate</th>\n",
              "      <th>Change</th>\n",
              "    </tr>\n",
              "  </thead>\n",
              "  <tbody>\n",
              "    <tr>\n",
              "      <th>0</th>\n",
              "      <td>1971-02-05</td>\n",
              "      <td>100.000000</td>\n",
              "      <td>100.000000</td>\n",
              "      <td>100.000000</td>\n",
              "      <td>100.000000</td>\n",
              "      <td>100.000000</td>\n",
              "      <td>0</td>\n",
              "      <td>NaN</td>\n",
              "      <td>NaN</td>\n",
              "      <td>NaN</td>\n",
              "    </tr>\n",
              "    <tr>\n",
              "      <th>1</th>\n",
              "      <td>1971-02-08</td>\n",
              "      <td>100.839996</td>\n",
              "      <td>100.839996</td>\n",
              "      <td>100.839996</td>\n",
              "      <td>100.839996</td>\n",
              "      <td>100.839996</td>\n",
              "      <td>0</td>\n",
              "      <td>100.000000</td>\n",
              "      <td>0.008365</td>\n",
              "      <td>0.008400</td>\n",
              "    </tr>\n",
              "    <tr>\n",
              "      <th>2</th>\n",
              "      <td>1971-02-09</td>\n",
              "      <td>100.760002</td>\n",
              "      <td>100.760002</td>\n",
              "      <td>100.760002</td>\n",
              "      <td>100.760002</td>\n",
              "      <td>100.760002</td>\n",
              "      <td>0</td>\n",
              "      <td>100.839996</td>\n",
              "      <td>-0.000794</td>\n",
              "      <td>-0.000793</td>\n",
              "    </tr>\n",
              "    <tr>\n",
              "      <th>3</th>\n",
              "      <td>1971-02-10</td>\n",
              "      <td>100.690002</td>\n",
              "      <td>100.690002</td>\n",
              "      <td>100.690002</td>\n",
              "      <td>100.690002</td>\n",
              "      <td>100.690002</td>\n",
              "      <td>0</td>\n",
              "      <td>100.760002</td>\n",
              "      <td>-0.000695</td>\n",
              "      <td>-0.000695</td>\n",
              "    </tr>\n",
              "    <tr>\n",
              "      <th>4</th>\n",
              "      <td>1971-02-11</td>\n",
              "      <td>101.449997</td>\n",
              "      <td>101.449997</td>\n",
              "      <td>101.449997</td>\n",
              "      <td>101.449997</td>\n",
              "      <td>101.449997</td>\n",
              "      <td>0</td>\n",
              "      <td>100.690002</td>\n",
              "      <td>0.007520</td>\n",
              "      <td>0.007548</td>\n",
              "    </tr>\n",
              "    <tr>\n",
              "      <th>...</th>\n",
              "      <td>...</td>\n",
              "      <td>...</td>\n",
              "      <td>...</td>\n",
              "      <td>...</td>\n",
              "      <td>...</td>\n",
              "      <td>...</td>\n",
              "      <td>...</td>\n",
              "      <td>...</td>\n",
              "      <td>...</td>\n",
              "      <td>...</td>\n",
              "    </tr>\n",
              "    <tr>\n",
              "      <th>13097</th>\n",
              "      <td>2023-01-11</td>\n",
              "      <td>10794.990234</td>\n",
              "      <td>10932.440430</td>\n",
              "      <td>10762.730469</td>\n",
              "      <td>10931.669922</td>\n",
              "      <td>10931.669922</td>\n",
              "      <td>5284390000</td>\n",
              "      <td>10742.629883</td>\n",
              "      <td>0.017444</td>\n",
              "      <td>0.017597</td>\n",
              "    </tr>\n",
              "    <tr>\n",
              "      <th>13098</th>\n",
              "      <td>2023-01-12</td>\n",
              "      <td>10969.259766</td>\n",
              "      <td>11027.750000</td>\n",
              "      <td>10797.120117</td>\n",
              "      <td>11001.099609</td>\n",
              "      <td>11001.099609</td>\n",
              "      <td>5681240000</td>\n",
              "      <td>10931.669922</td>\n",
              "      <td>0.006331</td>\n",
              "      <td>0.006351</td>\n",
              "    </tr>\n",
              "    <tr>\n",
              "      <th>13099</th>\n",
              "      <td>2023-01-13</td>\n",
              "      <td>10906.370117</td>\n",
              "      <td>11084.009766</td>\n",
              "      <td>10900.160156</td>\n",
              "      <td>11079.160156</td>\n",
              "      <td>11079.160156</td>\n",
              "      <td>5077990000</td>\n",
              "      <td>11001.099609</td>\n",
              "      <td>0.007071</td>\n",
              "      <td>0.007096</td>\n",
              "    </tr>\n",
              "    <tr>\n",
              "      <th>13100</th>\n",
              "      <td>2023-01-17</td>\n",
              "      <td>11070.000000</td>\n",
              "      <td>11145.440430</td>\n",
              "      <td>11024.719727</td>\n",
              "      <td>11095.110352</td>\n",
              "      <td>11095.110352</td>\n",
              "      <td>5138410000</td>\n",
              "      <td>11079.160156</td>\n",
              "      <td>0.001439</td>\n",
              "      <td>0.001440</td>\n",
              "    </tr>\n",
              "    <tr>\n",
              "      <th>13101</th>\n",
              "      <td>2023-01-18</td>\n",
              "      <td>11170.950195</td>\n",
              "      <td>11223.410156</td>\n",
              "      <td>10952.049805</td>\n",
              "      <td>10957.009766</td>\n",
              "      <td>10957.009766</td>\n",
              "      <td>5288630000</td>\n",
              "      <td>11095.110352</td>\n",
              "      <td>-0.012525</td>\n",
              "      <td>-0.012447</td>\n",
              "    </tr>\n",
              "  </tbody>\n",
              "</table>\n",
              "<p>13102 rows × 10 columns</p>\n",
              "</div>\n",
              "      <button class=\"colab-df-convert\" onclick=\"convertToInteractive('df-a5377d7e-84a0-477f-b974-080abb8ced3a')\"\n",
              "              title=\"Convert this dataframe to an interactive table.\"\n",
              "              style=\"display:none;\">\n",
              "        \n",
              "  <svg xmlns=\"http://www.w3.org/2000/svg\" height=\"24px\"viewBox=\"0 0 24 24\"\n",
              "       width=\"24px\">\n",
              "    <path d=\"M0 0h24v24H0V0z\" fill=\"none\"/>\n",
              "    <path d=\"M18.56 5.44l.94 2.06.94-2.06 2.06-.94-2.06-.94-.94-2.06-.94 2.06-2.06.94zm-11 1L8.5 8.5l.94-2.06 2.06-.94-2.06-.94L8.5 2.5l-.94 2.06-2.06.94zm10 10l.94 2.06.94-2.06 2.06-.94-2.06-.94-.94-2.06-.94 2.06-2.06.94z\"/><path d=\"M17.41 7.96l-1.37-1.37c-.4-.4-.92-.59-1.43-.59-.52 0-1.04.2-1.43.59L10.3 9.45l-7.72 7.72c-.78.78-.78 2.05 0 2.83L4 21.41c.39.39.9.59 1.41.59.51 0 1.02-.2 1.41-.59l7.78-7.78 2.81-2.81c.8-.78.8-2.07 0-2.86zM5.41 20L4 18.59l7.72-7.72 1.47 1.35L5.41 20z\"/>\n",
              "  </svg>\n",
              "      </button>\n",
              "      \n",
              "  <style>\n",
              "    .colab-df-container {\n",
              "      display:flex;\n",
              "      flex-wrap:wrap;\n",
              "      gap: 12px;\n",
              "    }\n",
              "\n",
              "    .colab-df-convert {\n",
              "      background-color: #E8F0FE;\n",
              "      border: none;\n",
              "      border-radius: 50%;\n",
              "      cursor: pointer;\n",
              "      display: none;\n",
              "      fill: #1967D2;\n",
              "      height: 32px;\n",
              "      padding: 0 0 0 0;\n",
              "      width: 32px;\n",
              "    }\n",
              "\n",
              "    .colab-df-convert:hover {\n",
              "      background-color: #E2EBFA;\n",
              "      box-shadow: 0px 1px 2px rgba(60, 64, 67, 0.3), 0px 1px 3px 1px rgba(60, 64, 67, 0.15);\n",
              "      fill: #174EA6;\n",
              "    }\n",
              "\n",
              "    [theme=dark] .colab-df-convert {\n",
              "      background-color: #3B4455;\n",
              "      fill: #D2E3FC;\n",
              "    }\n",
              "\n",
              "    [theme=dark] .colab-df-convert:hover {\n",
              "      background-color: #434B5C;\n",
              "      box-shadow: 0px 1px 3px 1px rgba(0, 0, 0, 0.15);\n",
              "      filter: drop-shadow(0px 1px 2px rgba(0, 0, 0, 0.3));\n",
              "      fill: #FFFFFF;\n",
              "    }\n",
              "  </style>\n",
              "\n",
              "      <script>\n",
              "        const buttonEl =\n",
              "          document.querySelector('#df-a5377d7e-84a0-477f-b974-080abb8ced3a button.colab-df-convert');\n",
              "        buttonEl.style.display =\n",
              "          google.colab.kernel.accessAllowed ? 'block' : 'none';\n",
              "\n",
              "        async function convertToInteractive(key) {\n",
              "          const element = document.querySelector('#df-a5377d7e-84a0-477f-b974-080abb8ced3a');\n",
              "          const dataTable =\n",
              "            await google.colab.kernel.invokeFunction('convertToInteractive',\n",
              "                                                     [key], {});\n",
              "          if (!dataTable) return;\n",
              "\n",
              "          const docLinkHtml = 'Like what you see? Visit the ' +\n",
              "            '<a target=\"_blank\" href=https://colab.research.google.com/notebooks/data_table.ipynb>data table notebook</a>'\n",
              "            + ' to learn more about interactive tables.';\n",
              "          element.innerHTML = '';\n",
              "          dataTable['output_type'] = 'display_data';\n",
              "          await google.colab.output.renderOutput(dataTable, element);\n",
              "          const docLink = document.createElement('div');\n",
              "          docLink.innerHTML = docLinkHtml;\n",
              "          element.appendChild(docLink);\n",
              "        }\n",
              "      </script>\n",
              "    </div>\n",
              "  </div>\n",
              "  "
            ]
          },
          "metadata": {},
          "execution_count": 11
        }
      ]
    },
    {
      "cell_type": "code",
      "source": [
        "nasdaq['Date'] = pd.to_datetime(nasdaq['Date'])\n",
        "\n",
        "nasdaq['Month'] = [x.month for x in nasdaq['Date']]\n",
        "nasdaq['Day'] = [x.day for x in nasdaq['Date']]\n",
        "nasdaq['Year'] = [x.year for x in nasdaq['Date']]\n",
        "\n",
        "nasdaq['Weekday'] = nasdaq['Date'].dt.dayofweek\n",
        "\n",
        "df = pd.DataFrame({'Year':nasdaq['Year'], \n",
        "\t\t\t\t\t\t\t\t\t'Month':nasdaq['Month']}).drop_duplicates(['Year', 'Month'])\n",
        "\n",
        "rate = nasdaq.groupby(['Year', 'Month'])['Log_Rate'].sum()\n",
        "nasdaq_change = rate.reset_index()"
      ],
      "metadata": {
        "id": "bQiZHbhTe0X_"
      },
      "execution_count": 12,
      "outputs": []
    },
    {
      "cell_type": "code",
      "source": [],
      "metadata": {
        "id": "rV5ebj2Ye0X_"
      },
      "execution_count": 12,
      "outputs": []
    },
    {
      "cell_type": "markdown",
      "source": [
        "# KOSPI"
      ],
      "metadata": {
        "id": "fHzV-SemAqFb"
      }
    },
    {
      "cell_type": "code",
      "source": [
        "weekday = kospi.groupby('Weekday').mean()\n",
        "weekday.index = ['Mon','Tue','Wed','Thu','Fri','Sat']\n",
        "\n",
        "weekday['Change'].plot(kind = 'bar', title = 'KOSPI weekday mean change',\n",
        "                       figsize = (6,4))\n",
        "plt.show()"
      ],
      "metadata": {
        "colab": {
          "base_uri": "https://localhost:8080/",
          "height": 329
        },
        "id": "hfLANootF_dX",
        "outputId": "2595eb97-0b40-4ebb-d3a7-81fa094d680a"
      },
      "execution_count": 13,
      "outputs": [
        {
          "output_type": "stream",
          "name": "stderr",
          "text": [
            "WARNING:matplotlib.font_manager:findfont: Font family ['NanumBarunGothic'] not found. Falling back to DejaVu Sans.\n",
            "WARNING:matplotlib.font_manager:findfont: Font family ['NanumBarunGothic'] not found. Falling back to DejaVu Sans.\n"
          ]
        },
        {
          "output_type": "display_data",
          "data": {
            "text/plain": [
              "<Figure size 432x288 with 1 Axes>"
            ],
            "image/png": "[encoded data removed]"
          },
          "metadata": {
            "needs_background": "light"
          }
        }
      ]
    },
    {
      "cell_type": "markdown",
      "source": [
        "월요일에 실제로 평균 수익률이 가장 낮다\n",
        "\n"
      ],
      "metadata": {
        "id": "6KN5YRdmGl9h"
      }
    },
    {
      "cell_type": "code",
      "source": [
        "lst = []\n",
        "for i in range(0, 6): \n",
        "  t_stat, p_value = stats.ttest_ind(kospi[kospi['Weekday'] == 0]['Change'], kospi[kospi['Weekday'] == i]['Change'], equal_var=False, alternative= 'less')\n",
        "  lst.append(p_value)\n",
        "\n",
        "lst = pd.DataFrame(lst)\n",
        "lst.index = ['Mon','Tue','Wed','Thu','Fri', 'Sat']\n",
        "lst.plot(kind='bar', title = 'KOSPI Monday effect p-value', color = 'pink',\n",
        "         figsize = (6,4))\n",
        "plt.axhline(0.05, color='black', lw=2)\n"
      ],
      "metadata": {
        "colab": {
          "base_uri": "https://localhost:8080/",
          "height": 311
        },
        "id": "OQjzprIac4jT",
        "outputId": "45bc4874-c85d-48ba-d57a-72de4051c5e5"
      },
      "execution_count": 14,
      "outputs": [
        {
          "output_type": "execute_result",
          "data": {
            "text/plain": [
              "<matplotlib.lines.Line2D at 0x7f7173c4d1f0>"
            ]
          },
          "metadata": {},
          "execution_count": 14
        },
        {
          "output_type": "display_data",
          "data": {
            "text/plain": [
              "<Figure size 432x288 with 1 Axes>"
            ],
            "image/png": "[encoded data removed]"
          },
          "metadata": {
            "needs_background": "light"
          }
        }
      ]
    },
    {
      "cell_type": "code",
      "source": [
        "t_stat, p_value = stats.ttest_ind(kospi[kospi['Weekday'] == 0]['Change'].dropna(), kospi[kospi['Weekday'] != 0]['Change'].dropna(), equal_var=True, alternative= 'less')\n",
        "print('p_value :', p_value)"
      ],
      "metadata": {
        "colab": {
          "base_uri": "https://localhost:8080/"
        },
        "id": "934eRsH_TYvU",
        "outputId": "943a2a7e-f9b0-43f1-b5f0-e603ada0630a"
      },
      "execution_count": 15,
      "outputs": [
        {
          "output_type": "stream",
          "name": "stdout",
          "text": [
            "p_value : 0.018139640853102733\n"
          ]
        }
      ]
    },
    {
      "cell_type": "markdown",
      "source": [
        "월요일과 다른 요일들의 평균 T-test 단측검정: p-value < 0.05\n",
        "-> 월요일 수익률 평균 < 다른 요일 수익률 평균"
      ],
      "metadata": {
        "id": "lUnlfG-ATZtO"
      }
    },
    {
      "cell_type": "code",
      "source": [
        "weekday = pd.DataFrame()\n",
        "for i in range(0,6): \n",
        "  weekday.loc[:,i] = kospi[kospi['Weekday'] == i]['Change'].reset_index().drop(columns = 'index')\n",
        "\n",
        "for j in range(0,6): # 요일 \n",
        "  sum = 0\n",
        "  for i in range(0, len(weekday[j].dropna())): # 요일별 행 \n",
        "    if weekday.loc[i, j] < 0: \n",
        "      sum += 1 \n",
        "  print(sum / len(weekday[j].dropna()))"
      ],
      "metadata": {
        "colab": {
          "base_uri": "https://localhost:8080/"
        },
        "id": "4b2pCvu4g_TU",
        "outputId": "93d4b4ba-82db-4d3b-d4d8-8ef60326e095"
      },
      "execution_count": 16,
      "outputs": [
        {
          "output_type": "stream",
          "name": "stdout",
          "text": [
            "0.49876786594381467\n",
            "0.4948250369640217\n",
            "0.474592994573261\n",
            "0.48496796451453916\n",
            "0.45835386890093643\n",
            "0.4645760743321719\n"
          ]
        }
      ]
    },
    {
      "cell_type": "markdown",
      "source": [
        "수익률이 0보다 작을 때를 1로 두고 다 더해서 요일 길이로 나눴을 때는 거의 다 0.5에 수렴. "
      ],
      "metadata": {
        "id": "85syxeC7kyZC"
      }
    },
    {
      "cell_type": "markdown",
      "source": [
        "# KOSDAQ"
      ],
      "metadata": {
        "id": "mku70wEjB3oy"
      }
    },
    {
      "cell_type": "code",
      "source": [
        "weekday = kospi.groupby('Weekday').mean()\n",
        "weekday.index = ['Mon','Tue','Wed','Thu','Fri', 'Sat']\n",
        "weekday['Change'].plot(kind = 'bar', title = 'KOSDAQ weekday mean change',\n",
        "                       figsize = (6,4))\n",
        "plt.show()"
      ],
      "metadata": {
        "colab": {
          "base_uri": "https://localhost:8080/",
          "height": 0
        },
        "id": "kUB9s7nMJYi1",
        "outputId": "65397df2-8736-466a-d6cb-c915aa153ae7"
      },
      "execution_count": 17,
      "outputs": [
        {
          "output_type": "display_data",
          "data": {
            "text/plain": [
              "<Figure size 432x288 with 1 Axes>"
            ],
            "image/png": "[encoded data removed]"
          },
          "metadata": {
            "needs_background": "light"
          }
        }
      ]
    },
    {
      "cell_type": "code",
      "source": [
        "lst = []\n",
        "for i in range(0, 6): \n",
        "  t_stat, p_value = stats.ttest_ind(kosdaq[kosdaq['Weekday'] == 0]['Change'].dropna(), kosdaq[kosdaq['Weekday'] == i]['Change'].dropna(), equal_var=True, alternative= 'less')\n",
        "  lst.append(p_value)\n",
        "\n",
        "lst = pd.DataFrame(lst)\n",
        "lst = lst.drop(5)\n",
        "lst.index = ['Mon','Tue','Wed','Thu','Fri']\n",
        "lst.plot(kind='bar', title = 'KOSDAQ Monday effect p-value', color = 'pink',\n",
        "         figsize = (6,4))\n",
        "plt.axhline(0.05, color='black', lw=2)"
      ],
      "metadata": {
        "colab": {
          "base_uri": "https://localhost:8080/",
          "height": 0
        },
        "id": "LQYp4TLxKbb5",
        "outputId": "2dd1ff85-f51e-449c-a0f1-12807ed40e56"
      },
      "execution_count": 18,
      "outputs": [
        {
          "output_type": "execute_result",
          "data": {
            "text/plain": [
              "<matplotlib.lines.Line2D at 0x7f71619a14f0>"
            ]
          },
          "metadata": {},
          "execution_count": 18
        },
        {
          "output_type": "display_data",
          "data": {
            "text/plain": [
              "<Figure size 432x288 with 1 Axes>"
            ],
            "image/png": "[encoded data removed]"
          },
          "metadata": {
            "needs_background": "light"
          }
        }
      ]
    },
    {
      "cell_type": "code",
      "source": [
        "t_stat, p_value = stats.ttest_ind(kospi[kospi['Weekday'] == 0]['Change'].dropna(), kospi[kospi['Weekday'] != 0]['Change'].dropna(), equal_var=False, alternative= 'less')\n",
        "print('p-value : ', p_value)"
      ],
      "metadata": {
        "colab": {
          "base_uri": "https://localhost:8080/"
        },
        "id": "wKBSK7OqT3dj",
        "outputId": "61794c7c-77e5-4cf2-b328-ab2934a63c14"
      },
      "execution_count": 19,
      "outputs": [
        {
          "output_type": "stream",
          "name": "stdout",
          "text": [
            "p-value :  0.026114237679449995\n"
          ]
        }
      ]
    },
    {
      "cell_type": "markdown",
      "source": [
        "월요일, 다른 요일 단측검정 T-test p-value < 0.05: 귀무가설 기각 <br>\n",
        "-> 월요일 평균 수익률 < 다른 요일 평균 수익률 "
      ],
      "metadata": {
        "id": "lH6ZAR-sT4C_"
      }
    },
    {
      "cell_type": "markdown",
      "source": [
        "# S&P 500\n"
      ],
      "metadata": {
        "id": "Vdis1j2FX2gR"
      }
    },
    {
      "cell_type": "code",
      "source": [
        "weekday = SP.groupby('Weekday').mean()\n",
        "weekday.index = ['Mon','Tue','Wed','Thu','Fri']\n",
        "\n",
        "weekday['Change'].plot(kind = 'bar', title = 'SP weekday mean change',\n",
        "                       figsize = (6,4))"
      ],
      "metadata": {
        "colab": {
          "base_uri": "https://localhost:8080/",
          "height": 0
        },
        "outputId": "ebf062ae-e55a-4263-95d0-e876bc7f38b1",
        "id": "mf232t4GYSnD"
      },
      "execution_count": 20,
      "outputs": [
        {
          "output_type": "execute_result",
          "data": {
            "text/plain": [
              "<matplotlib.axes._subplots.AxesSubplot at 0x7f7163a378b0>"
            ]
          },
          "metadata": {},
          "execution_count": 20
        },
        {
          "output_type": "display_data",
          "data": {
            "text/plain": [
              "<Figure size 432x288 with 1 Axes>"
            ],
            "image/png": "[encoded data removed]"
          },
          "metadata": {
            "needs_background": "light"
          }
        }
      ]
    },
    {
      "cell_type": "markdown",
      "source": [
        "월요일에 실제로 평균 수익률이 가장 낮다\n",
        "\n"
      ],
      "metadata": {
        "id": "fT9PYG_XYSnE"
      }
    },
    {
      "cell_type": "code",
      "source": [
        "lst = []\n",
        "for i in range(0, 5): \n",
        "  t_stat, p_value = stats.ttest_ind(SP[SP['Weekday'] == 0]['Change'], SP[SP['Weekday'] == i]['Change'], equal_var=True, alternative= 'less')\n",
        "  lst.append(p_value)\n",
        "  print(i, \"t-statistics : {}, p-value : {}\".format(t_stat, p_value))\n",
        "\n",
        "lst = pd.DataFrame(lst)\n",
        "lst.index = ['Mon','Tue','Wed','Thu','Fri']\n",
        "lst.plot(kind='bar', title = 'SP Monday effect p-value', color = 'pink',\n",
        "         figsize = (6,4))\n",
        "plt.axhline(0.05, color='black', lw=2)\n"
      ],
      "metadata": {
        "colab": {
          "base_uri": "https://localhost:8080/",
          "height": 0
        },
        "outputId": "c36be939-288c-468c-fadb-0b81f8896043",
        "id": "jsCaKePBYSnE"
      },
      "execution_count": 21,
      "outputs": [
        {
          "output_type": "stream",
          "name": "stdout",
          "text": [
            "0 t-statistics : 0.0, p-value : 0.5\n",
            "1 t-statistics : -2.0707673945165443, p-value : 0.01922019626732419\n",
            "2 t-statistics : -1.8803678727194453, p-value : 0.030062929729158663\n",
            "3 t-statistics : -0.5069716622824653, p-value : 0.30610054548159926\n",
            "4 t-statistics : -0.8934115950767936, p-value : 0.18584387053160267\n"
          ]
        },
        {
          "output_type": "execute_result",
          "data": {
            "text/plain": [
              "<matplotlib.lines.Line2D at 0x7f7161891b80>"
            ]
          },
          "metadata": {},
          "execution_count": 21
        },
        {
          "output_type": "display_data",
          "data": {
            "text/plain": [
              "<Figure size 432x288 with 1 Axes>"
            ],
            "image/png": "[encoded data removed]"
          },
          "metadata": {
            "needs_background": "light"
          }
        }
      ]
    },
    {
      "cell_type": "code",
      "source": [
        "t_stat, p_value = stats.ttest_ind(SP[SP['Weekday'] == 0]['Change'].dropna(), SP[SP['Weekday'] != 0]['Change'].dropna(), equal_var=True, alternative= 'less')\n",
        "print('p_value :', p_value)"
      ],
      "metadata": {
        "colab": {
          "base_uri": "https://localhost:8080/"
        },
        "outputId": "78296805-5513-4b3f-fa9a-7385f2111a04",
        "id": "GMO59K0LYSnE"
      },
      "execution_count": 22,
      "outputs": [
        {
          "output_type": "stream",
          "name": "stdout",
          "text": [
            "p_value : 0.03754685057809612\n"
          ]
        }
      ]
    },
    {
      "cell_type": "markdown",
      "source": [
        "월요일과 다른 요일들의 평균 T-test 단측검정: p-value < 0.05\n",
        "-> 월요일 수익률 평균 < 다른 요일 수익률 평균"
      ],
      "metadata": {
        "id": "d6nGUbbDYSnF"
      }
    },
    {
      "cell_type": "markdown",
      "source": [],
      "metadata": {
        "id": "ImbLK2rgYSnF"
      }
    },
    {
      "cell_type": "code",
      "source": [
        "weekday = pd.DataFrame()\n",
        "for i in range(0,5): \n",
        "  weekday.loc[:,i] = kospi[kospi['Weekday'] == i]['Change'].reset_index().drop(columns = 'index')\n",
        "\n",
        "for j in range(0, 5): # 요일 \n",
        "  sum = 0\n",
        "  for i in range(0, len(weekday[j].dropna())): # 요일별 행 \n",
        "    if weekday.loc[i, j] < 0: \n",
        "      sum += 1 \n",
        "  print(sum / len(weekday[j].dropna()))"
      ],
      "metadata": {
        "colab": {
          "base_uri": "https://localhost:8080/"
        },
        "outputId": "c6733f72-37dd-42d6-dcff-799aec46f56c",
        "id": "f-UTAA1kYSnF"
      },
      "execution_count": 23,
      "outputs": [
        {
          "output_type": "stream",
          "name": "stdout",
          "text": [
            "0.49876786594381467\n",
            "0.4948250369640217\n",
            "0.474592994573261\n",
            "0.48496796451453916\n",
            "0.45835386890093643\n"
          ]
        }
      ]
    },
    {
      "cell_type": "markdown",
      "source": [
        "수익률이 0보다 작을 때를 1로 두고 다 더해서 요일 길이로 나눴을 때는 거의 다 0.5에 수렴. "
      ],
      "metadata": {
        "id": "eLmzH_-8YSnF"
      }
    },
    {
      "cell_type": "code",
      "source": [
        "SP.boxplot(column='Change',by='Weekday', figsize = (6,10))\n",
        "plt.ylim((-5,5))"
      ],
      "metadata": {
        "colab": {
          "base_uri": "https://localhost:8080/",
          "height": 0
        },
        "outputId": "636a49e2-0d6e-41e9-f460-1d127c223545",
        "id": "XaY46p69YSnF"
      },
      "execution_count": 24,
      "outputs": [
        {
          "output_type": "stream",
          "name": "stderr",
          "text": [
            "/usr/local/lib/python3.8/dist-packages/matplotlib/cbook/__init__.py:1376: VisibleDeprecationWarning: Creating an ndarray from ragged nested sequences (which is a list-or-tuple of lists-or-tuples-or ndarrays with different lengths or shapes) is deprecated. If you meant to do this, you must specify 'dtype=object' when creating the ndarray.\n",
            "  X = np.atleast_1d(X.T if isinstance(X, np.ndarray) else np.asarray(X))\n"
          ]
        },
        {
          "output_type": "execute_result",
          "data": {
            "text/plain": [
              "(-5.0, 5.0)"
            ]
          },
          "metadata": {},
          "execution_count": 24
        },
        {
          "output_type": "display_data",
          "data": {
            "text/plain": [
              "<Figure size 432x720 with 1 Axes>"
            ],
            "image/png": "[encoded data removed]"
          },
          "metadata": {
            "needs_background": "light"
          }
        }
      ]
    },
    {
      "cell_type": "markdown",
      "source": [
        "# NASDAQ"
      ],
      "metadata": {
        "id": "RY12kH_Yadsl"
      }
    },
    {
      "cell_type": "code",
      "source": [
        "weekday = nasdaq.groupby('Weekday').mean() \n",
        "weekday.index = ['Mon','Tue','Wed','Thu','Fri']\n",
        "\n",
        "weekday['Change'].plot(kind = 'bar', title = 'nasdaq weekday mean change',\n",
        "                       figsize = (6,4))"
      ],
      "metadata": {
        "colab": {
          "base_uri": "https://localhost:8080/",
          "height": 0
        },
        "outputId": "da1b5bee-3199-46bb-de89-d04c32fb5997",
        "id": "NLWxkq91ft58"
      },
      "execution_count": 25,
      "outputs": [
        {
          "output_type": "execute_result",
          "data": {
            "text/plain": [
              "<matplotlib.axes._subplots.AxesSubplot at 0x7f716173abe0>"
            ]
          },
          "metadata": {},
          "execution_count": 25
        },
        {
          "output_type": "display_data",
          "data": {
            "text/plain": [
              "<Figure size 432x288 with 1 Axes>"
            ],
            "image/png": "[encoded data removed]"
          },
          "metadata": {
            "needs_background": "light"
          }
        }
      ]
    },
    {
      "cell_type": "markdown",
      "source": [
        "월요일에 실제로 평균 수익률이 가장 낮다\n",
        "\n"
      ],
      "metadata": {
        "id": "FkvB_vOMft59"
      }
    },
    {
      "cell_type": "code",
      "source": [
        "lst = []\n",
        "for i in range(0, 5): \n",
        "  t_stat, p_value = stats.ttest_ind(nasdaq[nasdaq['Weekday'] == 0]['Change'], nasdaq[nasdaq['Weekday'] == i]['Change'], equal_var=True, alternative= 'less')\n",
        "  lst.append(p_value)\n",
        "\n",
        "lst = pd.DataFrame(lst)\n",
        "lst.index = ['Mon','Tue','Wed','Thu','Fri']\n",
        "lst.plot(kind='bar', title = 'nasdaq Monday effect p-value', color = 'pink',\n",
        "         figsize = (6,4))\n",
        "plt.axhline(0.05, color='black', lw=2)\n"
      ],
      "metadata": {
        "colab": {
          "base_uri": "https://localhost:8080/",
          "height": 0
        },
        "outputId": "d0329fc2-3d33-4af3-cc7d-5461c6f45daa",
        "id": "Lm7ALbskft59"
      },
      "execution_count": 26,
      "outputs": [
        {
          "output_type": "execute_result",
          "data": {
            "text/plain": [
              "<matplotlib.lines.Line2D at 0x7f71616903d0>"
            ]
          },
          "metadata": {},
          "execution_count": 26
        },
        {
          "output_type": "display_data",
          "data": {
            "text/plain": [
              "<Figure size 432x288 with 1 Axes>"
            ],
            "image/png": "[encoded data removed]"
          },
          "metadata": {
            "needs_background": "light"
          }
        }
      ]
    },
    {
      "cell_type": "code",
      "source": [
        "t_stat, p_value = stats.ttest_ind(nasdaq[nasdaq['Weekday'] == 0]['Change'].dropna(), nasdaq[nasdaq['Weekday'] != 0]['Change'].dropna(), \n",
        "                                  equal_var= False, alternative= 'less')\n",
        "print('p_value :', p_value)"
      ],
      "metadata": {
        "colab": {
          "base_uri": "https://localhost:8080/"
        },
        "outputId": "e86570c7-7ba1-433d-a623-46a5ce21f69c",
        "id": "jQtWVQ2Ift59"
      },
      "execution_count": 27,
      "outputs": [
        {
          "output_type": "stream",
          "name": "stdout",
          "text": [
            "p_value : 5.6768590430434257e-08\n"
          ]
        }
      ]
    },
    {
      "cell_type": "markdown",
      "source": [
        "월요일과 다른 요일들의 평균 T-test 단측검정: p-value < 0.05\n",
        "- ->월요일 수익률 평균 < 다른 요일 수익률 평균"
      ],
      "metadata": {
        "id": "R4GhpMIVft59"
      }
    },
    {
      "cell_type": "code",
      "source": [
        "nasdaq.boxplot(column='Change',by='Weekday', figsize = (6,6))"
      ],
      "metadata": {
        "colab": {
          "base_uri": "https://localhost:8080/",
          "height": 0
        },
        "outputId": "3765536e-fdfb-4880-aedf-78d0e3e4a88a",
        "id": "1FR5SD4cft5-"
      },
      "execution_count": 28,
      "outputs": [
        {
          "output_type": "stream",
          "name": "stderr",
          "text": [
            "/usr/local/lib/python3.8/dist-packages/matplotlib/cbook/__init__.py:1376: VisibleDeprecationWarning: Creating an ndarray from ragged nested sequences (which is a list-or-tuple of lists-or-tuples-or ndarrays with different lengths or shapes) is deprecated. If you meant to do this, you must specify 'dtype=object' when creating the ndarray.\n",
            "  X = np.atleast_1d(X.T if isinstance(X, np.ndarray) else np.asarray(X))\n"
          ]
        },
        {
          "output_type": "execute_result",
          "data": {
            "text/plain": [
              "<matplotlib.axes._subplots.AxesSubplot at 0x7f716172ad30>"
            ]
          },
          "metadata": {},
          "execution_count": 28
        },
        {
          "output_type": "display_data",
          "data": {
            "text/plain": [
              "<Figure size 432x432 with 1 Axes>"
            ],
            "image/png": "[encoded data removed]"
          },
          "metadata": {
            "needs_background": "light"
          }
        }
      ]
    }
  ]
}