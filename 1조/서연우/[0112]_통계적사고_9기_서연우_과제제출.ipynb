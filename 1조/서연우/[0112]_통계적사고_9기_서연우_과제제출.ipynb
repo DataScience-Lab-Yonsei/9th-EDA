{
  "nbformat": 4,
  "nbformat_minor": 0,
  "metadata": {
    "colab": {
      "provenance": []
    },
    "kernelspec": {
      "name": "python3",
      "display_name": "Python 3"
    },
    "language_info": {
      "name": "python"
    }
  },
  "cells": [
    {
      "cell_type": "markdown",
      "source": [
        "## KOSPI"
      ],
      "metadata": {
        "id": "hxkSV2hHeEbd"
      }
    },
    {
      "cell_type": "markdown",
      "source": [
        "### 세팅"
      ],
      "metadata": {
        "id": "f4GvRm5JelMc"
      }
    },
    {
      "cell_type": "code",
      "source": [
        "from google.colab import drive\n",
        "drive.mount('/content/drive')"
      ],
      "metadata": {
        "colab": {
          "base_uri": "https://localhost:8080/"
        },
        "id": "vEWayA3hePxe",
        "outputId": "089b57fc-bc2b-4bfe-d17a-806707e2f4d8"
      },
      "execution_count": 1,
      "outputs": [
        {
          "output_type": "stream",
          "name": "stdout",
          "text": [
            "Mounted at /content/drive\n"
          ]
        }
      ]
    },
    {
      "cell_type": "code",
      "execution_count": 2,
      "metadata": {
        "colab": {
          "base_uri": "https://localhost:8080/"
        },
        "id": "yCbsA5ZSeBqi",
        "outputId": "c6604ed7-e605-476c-f134-fc3cd04660d7"
      },
      "outputs": [
        {
          "output_type": "stream",
          "name": "stdout",
          "text": [
            "Reading package lists... Done\n",
            "Building dependency tree       \n",
            "Reading state information... Done\n",
            "The following package was automatically installed and is no longer required:\n",
            "  libnvidia-common-460\n",
            "Use 'sudo apt autoremove' to remove it.\n",
            "The following NEW packages will be installed:\n",
            "  fonts-nanum\n",
            "0 upgraded, 1 newly installed, 0 to remove and 21 not upgraded.\n",
            "Need to get 9,604 kB of archives.\n",
            "After this operation, 29.5 MB of additional disk space will be used.\n",
            "Get:1 http://archive.ubuntu.com/ubuntu bionic/universe amd64 fonts-nanum all 20170925-1 [9,604 kB]\n",
            "Fetched 9,604 kB in 1s (11.8 MB/s)\n",
            "debconf: unable to initialize frontend: Dialog\n",
            "debconf: (No usable dialog-like program is installed, so the dialog based frontend cannot be used. at /usr/share/perl5/Debconf/FrontEnd/Dialog.pm line 76, <> line 1.)\n",
            "debconf: falling back to frontend: Readline\n",
            "debconf: unable to initialize frontend: Readline\n",
            "debconf: (This frontend requires a controlling tty.)\n",
            "debconf: falling back to frontend: Teletype\n",
            "dpkg-preconfigure: unable to re-open stdin: \n",
            "Selecting previously unselected package fonts-nanum.\n",
            "(Reading database ... 124016 files and directories currently installed.)\n",
            "Preparing to unpack .../fonts-nanum_20170925-1_all.deb ...\n",
            "Unpacking fonts-nanum (20170925-1) ...\n",
            "Setting up fonts-nanum (20170925-1) ...\n",
            "Processing triggers for fontconfig (2.12.6-0ubuntu2) ...\n",
            "/usr/share/fonts: caching, new cache contents: 0 fonts, 1 dirs\n",
            "/usr/share/fonts/truetype: caching, new cache contents: 0 fonts, 3 dirs\n",
            "/usr/share/fonts/truetype/humor-sans: caching, new cache contents: 1 fonts, 0 dirs\n",
            "/usr/share/fonts/truetype/liberation: caching, new cache contents: 16 fonts, 0 dirs\n",
            "/usr/share/fonts/truetype/nanum: caching, new cache contents: 10 fonts, 0 dirs\n",
            "/usr/local/share/fonts: caching, new cache contents: 0 fonts, 0 dirs\n",
            "/root/.local/share/fonts: skipping, no such directory\n",
            "/root/.fonts: skipping, no such directory\n",
            "/var/cache/fontconfig: cleaning cache directory\n",
            "/root/.cache/fontconfig: not cleaning non-existent cache directory\n",
            "/root/.fontconfig: not cleaning non-existent cache directory\n",
            "fc-cache: succeeded\n"
          ]
        }
      ],
      "source": [
        "import numpy as np\n",
        "import pandas as pd\n",
        "import matplotlib.pyplot as plt\n",
        "from scipy import stats\n",
        "plt.rc('font', family='NanumBarunGothic') \n",
        "\n",
        "!sudo apt-get install -y fonts-nanum\n",
        "!sudo fc-cache -fv\n",
        "!rm ~/.cache/matplotlib -rf"
      ]
    },
    {
      "cell_type": "code",
      "source": [
        "# KOSPI 데이터 불러오기 \n",
        "kospi = pd.read_csv('/content/drive/MyDrive/DSL/kospi_data.csv')"
      ],
      "metadata": {
        "id": "8mMeXvFieL3w"
      },
      "execution_count": 89,
      "outputs": []
    },
    {
      "cell_type": "code",
      "source": [
        "#종가를 뒤로 1일 미룬 Close_lag 칼럼 생성\n",
        "kospi['Close_lag'] = kospi['Close'].shift(1)\n",
        "\n",
        "#로그수익률 칼럼 생성\n",
        "kospi['Log_Rate'] = np.log(kospi['Close']/kospi['Close_lag'])\n",
        "kospi"
      ],
      "metadata": {
        "colab": {
          "base_uri": "https://localhost:8080/",
          "height": 424
        },
        "id": "o1gFBnFBfStc",
        "outputId": "127310e0-217e-4fa2-d368-87f6dc8b36bc"
      },
      "execution_count": 90,
      "outputs": [
        {
          "output_type": "execute_result",
          "data": {
            "text/plain": [
              "             Date    Close     Open     High      Low       Volume  Change  \\\n",
              "0      1981-05-01   123.60   123.60   123.60   123.60    3330000.0  0.0098   \n",
              "1      1981-05-02   123.50   123.50   123.50   123.50    2040000.0 -0.0008   \n",
              "2      1981-05-04   120.60   120.60   120.60   120.60    1930000.0 -0.0235   \n",
              "3      1981-05-06   120.70   120.70   120.70   120.70    1690000.0  0.0008   \n",
              "4      1981-05-07   119.30   119.30   119.30   119.30    1480000.0 -0.0116   \n",
              "...           ...      ...      ...      ...      ...          ...     ...   \n",
              "11019  2022-08-25  2477.26  2459.79  2477.26  2455.32  426230000.0  0.0122   \n",
              "11020  2022-08-26  2481.03  2489.14  2497.76  2476.75  520090000.0  0.0015   \n",
              "11021  2022-08-29  2426.89  2432.06  2432.89  2417.01  448750000.0 -0.0218   \n",
              "11022  2022-08-30  2450.93  2441.21  2453.91  2433.48     327210.0  0.0099   \n",
              "11023  2022-08-31  2472.05  2433.47  2473.75  2426.14     397290.0  0.0086   \n",
              "\n",
              "       Close_lag  Log_Rate  \n",
              "0            NaN       NaN  \n",
              "1         123.60 -0.000809  \n",
              "2         123.50 -0.023762  \n",
              "3         120.60  0.000829  \n",
              "4         120.70 -0.011667  \n",
              "...          ...       ...  \n",
              "11019    2447.45  0.012106  \n",
              "11020    2477.26  0.001521  \n",
              "11021    2481.03 -0.022063  \n",
              "11022    2426.89  0.009857  \n",
              "11023    2450.93  0.008580  \n",
              "\n",
              "[11024 rows x 9 columns]"
            ],
            "text/html": [
              "\n",
              "  <div id=\"df-e7e48998-57ee-46c7-b9be-8a7b5aea085d\">\n",
              "    <div class=\"colab-df-container\">\n",
              "      <div>\n",
              "<style scoped>\n",
              "    .dataframe tbody tr th:only-of-type {\n",
              "        vertical-align: middle;\n",
              "    }\n",
              "\n",
              "    .dataframe tbody tr th {\n",
              "        vertical-align: top;\n",
              "    }\n",
              "\n",
              "    .dataframe thead th {\n",
              "        text-align: right;\n",
              "    }\n",
              "</style>\n",
              "<table border=\"1\" class=\"dataframe\">\n",
              "  <thead>\n",
              "    <tr style=\"text-align: right;\">\n",
              "      <th></th>\n",
              "      <th>Date</th>\n",
              "      <th>Close</th>\n",
              "      <th>Open</th>\n",
              "      <th>High</th>\n",
              "      <th>Low</th>\n",
              "      <th>Volume</th>\n",
              "      <th>Change</th>\n",
              "      <th>Close_lag</th>\n",
              "      <th>Log_Rate</th>\n",
              "    </tr>\n",
              "  </thead>\n",
              "  <tbody>\n",
              "    <tr>\n",
              "      <th>0</th>\n",
              "      <td>1981-05-01</td>\n",
              "      <td>123.60</td>\n",
              "      <td>123.60</td>\n",
              "      <td>123.60</td>\n",
              "      <td>123.60</td>\n",
              "      <td>3330000.0</td>\n",
              "      <td>0.0098</td>\n",
              "      <td>NaN</td>\n",
              "      <td>NaN</td>\n",
              "    </tr>\n",
              "    <tr>\n",
              "      <th>1</th>\n",
              "      <td>1981-05-02</td>\n",
              "      <td>123.50</td>\n",
              "      <td>123.50</td>\n",
              "      <td>123.50</td>\n",
              "      <td>123.50</td>\n",
              "      <td>2040000.0</td>\n",
              "      <td>-0.0008</td>\n",
              "      <td>123.60</td>\n",
              "      <td>-0.000809</td>\n",
              "    </tr>\n",
              "    <tr>\n",
              "      <th>2</th>\n",
              "      <td>1981-05-04</td>\n",
              "      <td>120.60</td>\n",
              "      <td>120.60</td>\n",
              "      <td>120.60</td>\n",
              "      <td>120.60</td>\n",
              "      <td>1930000.0</td>\n",
              "      <td>-0.0235</td>\n",
              "      <td>123.50</td>\n",
              "      <td>-0.023762</td>\n",
              "    </tr>\n",
              "    <tr>\n",
              "      <th>3</th>\n",
              "      <td>1981-05-06</td>\n",
              "      <td>120.70</td>\n",
              "      <td>120.70</td>\n",
              "      <td>120.70</td>\n",
              "      <td>120.70</td>\n",
              "      <td>1690000.0</td>\n",
              "      <td>0.0008</td>\n",
              "      <td>120.60</td>\n",
              "      <td>0.000829</td>\n",
              "    </tr>\n",
              "    <tr>\n",
              "      <th>4</th>\n",
              "      <td>1981-05-07</td>\n",
              "      <td>119.30</td>\n",
              "      <td>119.30</td>\n",
              "      <td>119.30</td>\n",
              "      <td>119.30</td>\n",
              "      <td>1480000.0</td>\n",
              "      <td>-0.0116</td>\n",
              "      <td>120.70</td>\n",
              "      <td>-0.011667</td>\n",
              "    </tr>\n",
              "    <tr>\n",
              "      <th>...</th>\n",
              "      <td>...</td>\n",
              "      <td>...</td>\n",
              "      <td>...</td>\n",
              "      <td>...</td>\n",
              "      <td>...</td>\n",
              "      <td>...</td>\n",
              "      <td>...</td>\n",
              "      <td>...</td>\n",
              "      <td>...</td>\n",
              "    </tr>\n",
              "    <tr>\n",
              "      <th>11019</th>\n",
              "      <td>2022-08-25</td>\n",
              "      <td>2477.26</td>\n",
              "      <td>2459.79</td>\n",
              "      <td>2477.26</td>\n",
              "      <td>2455.32</td>\n",
              "      <td>426230000.0</td>\n",
              "      <td>0.0122</td>\n",
              "      <td>2447.45</td>\n",
              "      <td>0.012106</td>\n",
              "    </tr>\n",
              "    <tr>\n",
              "      <th>11020</th>\n",
              "      <td>2022-08-26</td>\n",
              "      <td>2481.03</td>\n",
              "      <td>2489.14</td>\n",
              "      <td>2497.76</td>\n",
              "      <td>2476.75</td>\n",
              "      <td>520090000.0</td>\n",
              "      <td>0.0015</td>\n",
              "      <td>2477.26</td>\n",
              "      <td>0.001521</td>\n",
              "    </tr>\n",
              "    <tr>\n",
              "      <th>11021</th>\n",
              "      <td>2022-08-29</td>\n",
              "      <td>2426.89</td>\n",
              "      <td>2432.06</td>\n",
              "      <td>2432.89</td>\n",
              "      <td>2417.01</td>\n",
              "      <td>448750000.0</td>\n",
              "      <td>-0.0218</td>\n",
              "      <td>2481.03</td>\n",
              "      <td>-0.022063</td>\n",
              "    </tr>\n",
              "    <tr>\n",
              "      <th>11022</th>\n",
              "      <td>2022-08-30</td>\n",
              "      <td>2450.93</td>\n",
              "      <td>2441.21</td>\n",
              "      <td>2453.91</td>\n",
              "      <td>2433.48</td>\n",
              "      <td>327210.0</td>\n",
              "      <td>0.0099</td>\n",
              "      <td>2426.89</td>\n",
              "      <td>0.009857</td>\n",
              "    </tr>\n",
              "    <tr>\n",
              "      <th>11023</th>\n",
              "      <td>2022-08-31</td>\n",
              "      <td>2472.05</td>\n",
              "      <td>2433.47</td>\n",
              "      <td>2473.75</td>\n",
              "      <td>2426.14</td>\n",
              "      <td>397290.0</td>\n",
              "      <td>0.0086</td>\n",
              "      <td>2450.93</td>\n",
              "      <td>0.008580</td>\n",
              "    </tr>\n",
              "  </tbody>\n",
              "</table>\n",
              "<p>11024 rows × 9 columns</p>\n",
              "</div>\n",
              "      <button class=\"colab-df-convert\" onclick=\"convertToInteractive('df-e7e48998-57ee-46c7-b9be-8a7b5aea085d')\"\n",
              "              title=\"Convert this dataframe to an interactive table.\"\n",
              "              style=\"display:none;\">\n",
              "        \n",
              "  <svg xmlns=\"http://www.w3.org/2000/svg\" height=\"24px\"viewBox=\"0 0 24 24\"\n",
              "       width=\"24px\">\n",
              "    <path d=\"M0 0h24v24H0V0z\" fill=\"none\"/>\n",
              "    <path d=\"M18.56 5.44l.94 2.06.94-2.06 2.06-.94-2.06-.94-.94-2.06-.94 2.06-2.06.94zm-11 1L8.5 8.5l.94-2.06 2.06-.94-2.06-.94L8.5 2.5l-.94 2.06-2.06.94zm10 10l.94 2.06.94-2.06 2.06-.94-2.06-.94-.94-2.06-.94 2.06-2.06.94z\"/><path d=\"M17.41 7.96l-1.37-1.37c-.4-.4-.92-.59-1.43-.59-.52 0-1.04.2-1.43.59L10.3 9.45l-7.72 7.72c-.78.78-.78 2.05 0 2.83L4 21.41c.39.39.9.59 1.41.59.51 0 1.02-.2 1.41-.59l7.78-7.78 2.81-2.81c.8-.78.8-2.07 0-2.86zM5.41 20L4 18.59l7.72-7.72 1.47 1.35L5.41 20z\"/>\n",
              "  </svg>\n",
              "      </button>\n",
              "      \n",
              "  <style>\n",
              "    .colab-df-container {\n",
              "      display:flex;\n",
              "      flex-wrap:wrap;\n",
              "      gap: 12px;\n",
              "    }\n",
              "\n",
              "    .colab-df-convert {\n",
              "      background-color: #E8F0FE;\n",
              "      border: none;\n",
              "      border-radius: 50%;\n",
              "      cursor: pointer;\n",
              "      display: none;\n",
              "      fill: #1967D2;\n",
              "      height: 32px;\n",
              "      padding: 0 0 0 0;\n",
              "      width: 32px;\n",
              "    }\n",
              "\n",
              "    .colab-df-convert:hover {\n",
              "      background-color: #E2EBFA;\n",
              "      box-shadow: 0px 1px 2px rgba(60, 64, 67, 0.3), 0px 1px 3px 1px rgba(60, 64, 67, 0.15);\n",
              "      fill: #174EA6;\n",
              "    }\n",
              "\n",
              "    [theme=dark] .colab-df-convert {\n",
              "      background-color: #3B4455;\n",
              "      fill: #D2E3FC;\n",
              "    }\n",
              "\n",
              "    [theme=dark] .colab-df-convert:hover {\n",
              "      background-color: #434B5C;\n",
              "      box-shadow: 0px 1px 3px 1px rgba(0, 0, 0, 0.15);\n",
              "      filter: drop-shadow(0px 1px 2px rgba(0, 0, 0, 0.3));\n",
              "      fill: #FFFFFF;\n",
              "    }\n",
              "  </style>\n",
              "\n",
              "      <script>\n",
              "        const buttonEl =\n",
              "          document.querySelector('#df-e7e48998-57ee-46c7-b9be-8a7b5aea085d button.colab-df-convert');\n",
              "        buttonEl.style.display =\n",
              "          google.colab.kernel.accessAllowed ? 'block' : 'none';\n",
              "\n",
              "        async function convertToInteractive(key) {\n",
              "          const element = document.querySelector('#df-e7e48998-57ee-46c7-b9be-8a7b5aea085d');\n",
              "          const dataTable =\n",
              "            await google.colab.kernel.invokeFunction('convertToInteractive',\n",
              "                                                     [key], {});\n",
              "          if (!dataTable) return;\n",
              "\n",
              "          const docLinkHtml = 'Like what you see? Visit the ' +\n",
              "            '<a target=\"_blank\" href=https://colab.research.google.com/notebooks/data_table.ipynb>data table notebook</a>'\n",
              "            + ' to learn more about interactive tables.';\n",
              "          element.innerHTML = '';\n",
              "          dataTable['output_type'] = 'display_data';\n",
              "          await google.colab.output.renderOutput(dataTable, element);\n",
              "          const docLink = document.createElement('div');\n",
              "          docLink.innerHTML = docLinkHtml;\n",
              "          element.appendChild(docLink);\n",
              "        }\n",
              "      </script>\n",
              "    </div>\n",
              "  </div>\n",
              "  "
            ]
          },
          "metadata": {},
          "execution_count": 90
        }
      ]
    },
    {
      "cell_type": "code",
      "source": [
        "kospi['Date'] = pd.to_datetime(kospi['Date'])\n",
        "\n",
        "kospi['Month'] = [x.month for x in kospi['Date']]\n",
        "kospi['Day'] = [x.day for x in kospi['Date']]\n",
        "kospi['Year'] = [x.year for x in kospi['Date']]\n",
        "\n",
        "df = pd.DataFrame({'Year':kospi['Year'], \n",
        "\t\t\t\t\t\t\t\t\t'Month':kospi['Month']}).drop_duplicates(['Year', 'Month'])\n",
        "\n",
        "rate = kospi.groupby(['Year', 'Month'])['Log_Rate'].sum()"
      ],
      "metadata": {
        "id": "fmi-H9QbeL64"
      },
      "execution_count": 91,
      "outputs": []
    },
    {
      "cell_type": "markdown",
      "source": [
        "### one sample t-test"
      ],
      "metadata": {
        "id": "oonABKh-fY10"
      }
    },
    {
      "cell_type": "code",
      "source": [
        "rate = kospi.groupby(['Year', 'Month'])['Log_Rate'].sum()\n",
        "change = rate.reset_index()\n",
        "july_log_rate = change[change['Month'] == 7]['Log_Rate']\n",
        "aug_log_rate = change[change['Month'] == 8]['Log_Rate']\n",
        "\n",
        "print(np.mean(july_log_rate))\n",
        "print(np.mean(aug_log_rate))"
      ],
      "metadata": {
        "colab": {
          "base_uri": "https://localhost:8080/"
        },
        "id": "fvXQHxKeeL8t",
        "outputId": "2cea69c3-8f67-4e85-9cfb-f1bbfab20a1e"
      },
      "execution_count": 92,
      "outputs": [
        {
          "output_type": "stream",
          "name": "stdout",
          "text": [
            "0.019596279503788255\n",
            "-0.01501265078519986\n"
          ]
        }
      ]
    },
    {
      "cell_type": "code",
      "source": [
        "t_stat, p_value = stats.ttest_1samp(july_log_rate, np.mean(july_log_rate))\n",
        "print(\"t-statistics : {}, p-value : {}\".format(t_stat, p_value))"
      ],
      "metadata": {
        "colab": {
          "base_uri": "https://localhost:8080/"
        },
        "id": "vGpXT9GeezjF",
        "outputId": "f03c3bd7-0093-4c15-b0fb-075128756895"
      },
      "execution_count": 17,
      "outputs": [
        {
          "output_type": "stream",
          "name": "stdout",
          "text": [
            "t-statistics : 0.0, p-value : 1.0\n"
          ]
        }
      ]
    },
    {
      "cell_type": "code",
      "source": [
        "t_stat, p_value = stats.ttest_1samp(aug_log_rate, np.mean(aug_log_rate))\n",
        "print(\"t-statistics : {}, p-value : {}\".format(t_stat, p_value))"
      ],
      "metadata": {
        "colab": {
          "base_uri": "https://localhost:8080/"
        },
        "id": "ZPa8-vjZe2Gs",
        "outputId": "ae954469-e11d-466a-bf70-ff1f4bbd1ad0"
      },
      "execution_count": 18,
      "outputs": [
        {
          "output_type": "stream",
          "name": "stdout",
          "text": [
            "t-statistics : 0.0, p-value : 1.0\n"
          ]
        }
      ]
    },
    {
      "cell_type": "markdown",
      "source": [
        "-> p-value > 0.05이므로 귀무가설을 기각할 수 없다. \n",
        "따라서 7월은 평균이 약 0.0196, 8월은 약 -0.015라고 말할 수 있다. \n",
        "\n"
      ],
      "metadata": {
        "id": "5frpnkyKaswS"
      }
    },
    {
      "cell_type": "markdown",
      "source": [
        "###two sample t-test"
      ],
      "metadata": {
        "id": "PW79yAEKfFGQ"
      }
    },
    {
      "cell_type": "code",
      "source": [
        "## 7월 ''월별'' 수익률 T-test\n",
        "\n",
        "lst = []\n",
        "for i in range(1, 13): \n",
        "  t_stat, p_value = stats.ttest_ind(july_log_rate, change[change['Month'] == i]['Log_Rate'], equal_var=True, alternative=\"two-sided\")\n",
        "  lst.append(p_value)\n",
        "  print(\"t-statistics : {}, p-value : {}\".format(t_stat, p_value))\n",
        "\n",
        "lst = pd.DataFrame(lst)\n",
        "lst.index = lst.index + 1\n",
        "lst.plot(kind='bar', title = 'July kospi T-test p-value')\n",
        "plt.axhline(0.05, color='black', lw=2)"
      ],
      "metadata": {
        "colab": {
          "base_uri": "https://localhost:8080/",
          "height": 516
        },
        "id": "qCqhVy_zzfPI",
        "outputId": "ef1c7d51-72f6-4faf-e491-a897d0ad94a6"
      },
      "execution_count": 93,
      "outputs": [
        {
          "output_type": "stream",
          "name": "stdout",
          "text": [
            "t-statistics : 0.21753986955901117, p-value : 0.8283346987874091\n",
            "t-statistics : 1.7504871977767493, p-value : 0.08382068161610985\n",
            "t-statistics : 0.22501991772935442, p-value : 0.8225304967780607\n",
            "t-statistics : 0.6078026095847519, p-value : 0.5450187776830915\n",
            "t-statistics : 1.3248820601118154, p-value : 0.18889051407659668\n",
            "t-statistics : 1.4718171517542864, p-value : 0.14489790404741618\n",
            "t-statistics : 0.0, p-value : 1.0\n",
            "t-statistics : 2.6368423374961876, p-value : 0.010007627944567983\n",
            "t-statistics : 1.7292717574733922, p-value : 0.08756991217705065\n",
            "t-statistics : 1.1096237047384865, p-value : 0.2704446845576739\n",
            "t-statistics : -0.163233445184716, p-value : 0.8707412130676576\n",
            "t-statistics : 0.09265655178414503, p-value : 0.9264052038434277\n"
          ]
        },
        {
          "output_type": "execute_result",
          "data": {
            "text/plain": [
              "<matplotlib.lines.Line2D at 0x7f0b72850850>"
            ]
          },
          "metadata": {},
          "execution_count": 93
        },
        {
          "output_type": "display_data",
          "data": {
            "text/plain": [
              "<Figure size 432x288 with 1 Axes>"
            ],
            "image/png": "[encoded data removed]"
          },
          "metadata": {
            "needs_background": "light"
          }
        }
      ]
    },
    {
      "cell_type": "markdown",
      "source": [
        "**7월**\n",
        "\n",
        "- 8월 \n",
        "  - 7월과 8월의 월 평균 변화율의 차이는 유의미하다. p-value < 0.05이므로 귀무가설 기각 가능. \n",
        "- 그 외 \n",
        "  - 그러나 다른 월과는 p-value > 0.05이므로 평균의 차이가 유의미하다고 할 수 없다. \n",
        "\n",
        "=> 7월, 8월의 평균 차이만이 확실한 결과 차이를 낳고 있다. 이유가 분명 존재할 것 "
      ],
      "metadata": {
        "id": "E2TnOLyX-ZRn"
      }
    },
    {
      "cell_type": "code",
      "source": [
        "## 8월 ''월별'' 수익률 T-test\n",
        "\n",
        "lst = []\n",
        "for i in range(1, 13): \n",
        "  t_stat, p_value = stats.ttest_ind(aug_log_rate, change[change['Month'] == i]['Log_Rate'], equal_var=True, alternative=\"two-sided\")\n",
        "  lst.append(p_value)\n",
        "  print(\"t-statistics : {}, p-value : {}\".format(t_stat, p_value))\n",
        "\n",
        "lst = pd.DataFrame(lst)\n",
        "lst.index = lst.index + 1\n",
        "lst.plot(kind='bar', title = 'August kospi T-test p-value')\n",
        "plt.axhline(0.05, color='black', lw=2)"
      ],
      "metadata": {
        "id": "gTyaQHUO_q3B",
        "colab": {
          "base_uri": "https://localhost:8080/",
          "height": 516
        },
        "outputId": "bb7c521b-8673-4575-dc30-e7e15dfbce82"
      },
      "execution_count": 94,
      "outputs": [
        {
          "output_type": "stream",
          "name": "stdout",
          "text": [
            "t-statistics : -1.7864412596582446, p-value : 0.07776961755827873\n",
            "t-statistics : -0.9356542211222497, p-value : 0.35223243941493154\n",
            "t-statistics : -2.3417544627459135, p-value : 0.02165014571529974\n",
            "t-statistics : -1.6914891762858206, p-value : 0.09458761926107126\n",
            "t-statistics : -1.0973759156999294, p-value : 0.275689161344285\n",
            "t-statistics : -0.9623064031773282, p-value : 0.3387249139667112\n",
            "t-statistics : -2.6368423374961876, p-value : 0.010007627944567983\n",
            "t-statistics : 0.0, p-value : 1.0\n",
            "t-statistics : -0.8132534851258963, p-value : 0.418456834429767\n",
            "t-statistics : -0.7607828603290056, p-value : 0.44899583029414236\n",
            "t-statistics : -2.7268455299718104, p-value : 0.007836403546791408\n",
            "t-statistics : -2.634457754493404, p-value : 0.010093628828300342\n"
          ]
        },
        {
          "output_type": "execute_result",
          "data": {
            "text/plain": [
              "<matplotlib.lines.Line2D at 0x7f0b6eef0a90>"
            ]
          },
          "metadata": {},
          "execution_count": 94
        },
        {
          "output_type": "display_data",
          "data": {
            "text/plain": [
              "<Figure size 432x288 with 1 Axes>"
            ],
            "image/png": "[encoded data removed]"
          },
          "metadata": {
            "needs_background": "light"
          }
        }
      ]
    },
    {
      "cell_type": "markdown",
      "source": [
        "**8월** \n",
        "- 월별:    7, 11, 12월 과의 차이가 유의미하다. \n",
        "- 일별: 3, 7, 11, 12월과의 차이가 유의미하다. "
      ],
      "metadata": {
        "id": "3w-Kvyv1_Sxu"
      }
    },
    {
      "cell_type": "markdown",
      "source": [
        "#### 일별 수익률 T-test\n"
      ],
      "metadata": {
        "id": "pizkaZ5nzvsF"
      }
    },
    {
      "cell_type": "code",
      "source": [
        "## 7월 ''일별'' 수익률 T-test\n",
        "\n",
        "july = kospi[kospi['Month' ]== 7]['Log_Rate']\n",
        "aug = kospi[kospi['Month' ]== 8]['Log_Rate']\n",
        "\n",
        "for i in range(1, 13): \n",
        "  t_stat, p_value = stats.ttest_ind(july, kospi[kospi['Month'] == i]['Log_Rate'], equal_var=True, alternative=\"two-sided\")\n",
        "  print(i)\n",
        "  print(\"t-statistics : {}, p-value : {}\".format(t_stat, p_value))"
      ],
      "metadata": {
        "colab": {
          "base_uri": "https://localhost:8080/"
        },
        "id": "r2egmkB_f7a3",
        "outputId": "4fa6ee8a-dcb8-4a43-99c8-472a235a000a"
      },
      "execution_count": 78,
      "outputs": [
        {
          "output_type": "stream",
          "name": "stdout",
          "text": [
            "1\n",
            "t-statistics : 0.29672378174160663, p-value : 0.7667115759937959\n",
            "2\n",
            "t-statistics : 1.0543113534575557, p-value : 0.2918872736507664\n",
            "3\n",
            "t-statistics : 0.31402502246333236, p-value : 0.7535374397646276\n",
            "4\n",
            "t-statistics : -0.5372746719221458, p-value : 0.5911444172978506\n",
            "5\n",
            "t-statistics : 0.31954052947423683, p-value : 0.7493534374908206\n",
            "6\n",
            "t-statistics : 1.1327716300327448, p-value : 0.25745872211565696\n",
            "7\n",
            "t-statistics : 0.0, p-value : 1.0\n",
            "8\n",
            "t-statistics : 1.1389148329207095, p-value : 0.25488541780215396\n",
            "9\n",
            "t-statistics : 2.0728228887669466, p-value : 0.038332054017970005\n",
            "10\n",
            "t-statistics : 0.02603865722631086, p-value : 0.979229302609312\n",
            "11\n",
            "t-statistics : -0.6707412372694126, p-value : 0.5024721629583254\n",
            "12\n",
            "t-statistics : nan, p-value : nan\n"
          ]
        }
      ]
    },
    {
      "cell_type": "code",
      "source": [
        "## 8월 ''일별'' 수익률 T-test\n",
        "\n",
        "for i in range(1, 13): \n",
        "  t_stat, p_value = stats.ttest_ind(aug, kospi[kospi['Month'] == i]['Log_Rate'], equal_var=True, alternative=\"two-sided\")\n",
        "  print(i)\n",
        "  print(\"t-statistics : {}, p-value : {}\".format(t_stat, p_value))"
      ],
      "metadata": {
        "colab": {
          "base_uri": "https://localhost:8080/"
        },
        "id": "n0mS1xuFhWF9",
        "outputId": "988fd37b-3ae9-4339-eab2-7c2045b385bf"
      },
      "execution_count": 76,
      "outputs": [
        {
          "output_type": "stream",
          "name": "stdout",
          "text": [
            "1\n",
            "t-statistics : -0.7870509622924127, p-value : 0.43135317525584826\n",
            "2\n",
            "t-statistics : -0.09268136874465098, p-value : 0.926167157942112\n",
            "3\n",
            "t-statistics : -0.6384992615765362, p-value : 0.5232260534710973\n",
            "4\n",
            "t-statistics : -1.5722960574178844, p-value : 0.1160540199657434\n",
            "5\n",
            "t-statistics : -0.8298086505759547, p-value : 0.40675369467851463\n",
            "6\n",
            "t-statistics : -0.08290068523980071, p-value : 0.9339393864948221\n",
            "7\n",
            "t-statistics : -1.1389148329207095, p-value : 0.25488541780215396\n",
            "8\n",
            "t-statistics : 0.0, p-value : 1.0\n",
            "9\n",
            "t-statistics : 0.9354562043973449, p-value : 0.3496770040520013\n",
            "10\n",
            "t-statistics : -0.8193994785366508, p-value : 0.41266140948925467\n",
            "11\n",
            "t-statistics : -1.6502245644599798, p-value : 0.09906899447020306\n",
            "12\n",
            "t-statistics : nan, p-value : nan\n"
          ]
        }
      ]
    },
    {
      "cell_type": "markdown",
      "source": [],
      "metadata": {
        "id": "mJ92HVV8hxn5"
      }
    },
    {
      "cell_type": "markdown",
      "source": [
        "### **결론**\n",
        "\n",
        "- 7월에 오른다 -> 기각 (6,7월 p-value > 0.05) \n",
        "- 8월에 내린다 -> 기각 불가 (7,8월 p-value < 0.05)\n",
        "\n",
        "\n",
        "- 7월의 수익률이 다른 모든 달보다 유의미하게 낮다 -> 기각 불가\n",
        "  - 7월의 수익률이 8월 보다 낮다 -> 기각\n",
        "- 8월의 수익률이 다른 모든 달보다 유의미하게 높다 -> 기각 불가\n",
        "  - 8월의 수익률이 7, 11, 12월보다 높다 -> 기각\n",
        "\n",
        "  \n"
      ],
      "metadata": {
        "id": "xguxefQXBEzN"
      }
    },
    {
      "cell_type": "markdown",
      "source": [
        "## S&P 500"
      ],
      "metadata": {
        "id": "ajxrK829ikJL"
      }
    },
    {
      "cell_type": "markdown",
      "source": [
        "### 세팅\n"
      ],
      "metadata": {
        "id": "8obz54Ghim9w"
      }
    },
    {
      "cell_type": "code",
      "source": [
        "SP = pd.read_csv('/content/drive/MyDrive/DSL/S&P_data.csv')"
      ],
      "metadata": {
        "id": "glKO1Fq3ipLe"
      },
      "execution_count": 109,
      "outputs": []
    },
    {
      "cell_type": "code",
      "source": [
        "#날짜Date 칼럼을 datetime 타입으로 바꾸기\n",
        "SP['Date'] = pd.to_datetime(SP['Date'])\n",
        "#Date에서 월과 년만 분리해서 변수 만들기\n",
        "SP['Month'] = [x.month for x in SP['Date']]\n",
        "SP['Day'] = [x.day for x in SP['Date']]\n",
        "SP['Year'] = [x.year for x in SP['Date']]\n",
        "\n",
        "#각 연도와 월에 해당하는 월간수익률을 계산하기 위해 새로운 데이터프레임을 만듭니다\n",
        "df = pd.DataFrame({'Year':SP['Year'], \n",
        "\t\t\t\t\t\t\t\t\t'Month':SP['Month']}).drop_duplicates(['Year', 'Month'])\n",
        "#각 연도와 월에 해당하는 로그수익률들만 모아서 합해주면 월간수익률이 얻어집니다.\n",
        "rate_SP = SP.groupby(['Year', 'Month'])['Log_Rate'].sum()"
      ],
      "metadata": {
        "id": "UFyVtq_YipQk"
      },
      "execution_count": 110,
      "outputs": []
    },
    {
      "cell_type": "markdown",
      "source": [
        "### one sample T-test"
      ],
      "metadata": {
        "id": "B5HngItVrKvY"
      }
    },
    {
      "cell_type": "code",
      "source": [
        "kospi = SP"
      ],
      "metadata": {
        "id": "WoYQveegipUg"
      },
      "execution_count": 103,
      "outputs": []
    },
    {
      "cell_type": "code",
      "source": [
        "rate = kospi.groupby(['Year', 'Month'])['Log_Rate'].sum()\n",
        "change = rate.reset_index()\n",
        "july_log_rate = change[change['Month'] == 7]['Log_Rate']\n",
        "aug_log_rate = change[change['Month'] == 8]['Log_Rate']\n",
        "sep_log_rate = change[change['Month'] == 9]['Log_Rate']\n",
        "oct_log_rate = change[change['Month'] == 10]['Log_Rate']\n",
        "\n",
        "print(np.mean(july_log_rate))\n",
        "print(np.mean(aug_log_rate))\n",
        "print(np.mean(sep_log_rate))\n",
        "print(np.mean(oct_log_rate))"
      ],
      "metadata": {
        "colab": {
          "base_uri": "https://localhost:8080/"
        },
        "outputId": "aa3e25e1-61c5-472f-d04a-14c687fdd37e",
        "id": "ZoqKWCxbrTpL"
      },
      "execution_count": 105,
      "outputs": [
        {
          "output_type": "stream",
          "name": "stdout",
          "text": [
            "0.011285173842094933\n",
            "-0.0001282472316965585\n",
            "-0.010178410147081865\n",
            "0.011411825730453285\n"
          ]
        }
      ]
    },
    {
      "cell_type": "code",
      "source": [
        "t_stat, p_value = stats.ttest_1samp(sep_log_rate, np.mean(sep_log_rate))\n",
        "print(\"t-statistics : {}, p-value : {}\".format(t_stat, p_value))"
      ],
      "metadata": {
        "colab": {
          "base_uri": "https://localhost:8080/"
        },
        "outputId": "615c4bc4-27fe-4eb3-b4d0-3a0cc6ce859d",
        "id": "rLIaYRawrTpM"
      },
      "execution_count": 99,
      "outputs": [
        {
          "output_type": "stream",
          "name": "stdout",
          "text": [
            "t-statistics : 0.0, p-value : 1.0\n"
          ]
        }
      ]
    },
    {
      "cell_type": "code",
      "source": [
        "t_stat, p_value = stats.ttest_1samp(oct_log_rate, np.mean(oct_log_rate))\n",
        "print(\"t-statistics : {}, p-value : {}\".format(t_stat, p_value))"
      ],
      "metadata": {
        "colab": {
          "base_uri": "https://localhost:8080/"
        },
        "outputId": "da4c3bf2-3a3a-444c-f827-18c5ed17caee",
        "id": "iG5UeinArTpN"
      },
      "execution_count": 100,
      "outputs": [
        {
          "output_type": "stream",
          "name": "stdout",
          "text": [
            "t-statistics : 0.0, p-value : 1.0\n"
          ]
        }
      ]
    },
    {
      "cell_type": "markdown",
      "source": [
        "### two sample T-test"
      ],
      "metadata": {
        "id": "CXjH3u1asQr9"
      }
    },
    {
      "cell_type": "code",
      "source": [
        "### 9월 '' 월별 '' 수익률 T-test \n",
        "\n",
        "lst = []\n",
        "for i in range(1, 13): \n",
        "  t_stat, p_value = stats.ttest_ind(sep_log_rate, change[change['Month'] == i]['Log_Rate'], equal_var=True, alternative=\"two-sided\")\n",
        "  lst.append(p_value)\n",
        "  print(i, ':', \"t-statistics : {}, p-value : {}\".format(t_stat, p_value))\n",
        "\n",
        "lst = pd.DataFrame(lst)\n",
        "lst.index = lst.index + 1\n",
        "lst.plot(kind='bar', title = 'S&P september T-test p-value')\n",
        "plt.axhline(0.05, color='black', lw=2)\n"
      ],
      "metadata": {
        "colab": {
          "base_uri": "https://localhost:8080/",
          "height": 516
        },
        "outputId": "a6d30f47-0f34-40b6-be9e-a3d906e32225",
        "id": "hx5tlExzsRB-"
      },
      "execution_count": 111,
      "outputs": [
        {
          "output_type": "stream",
          "name": "stdout",
          "text": [
            "1 : t-statistics : -1.8394846436960224, p-value : 0.06933504108359928\n",
            "2 : t-statistics : -1.141081324824362, p-value : 0.2570788099086528\n",
            "3 : t-statistics : -1.8487994815301751, p-value : 0.06800490501582464\n",
            "4 : t-statistics : -2.829378476092086, p-value : 0.005831943631400136\n",
            "5 : t-statistics : -2.0380186622664476, p-value : 0.044694409699604754\n",
            "6 : t-statistics : -1.2217329474396443, p-value : 0.22522622663157219\n",
            "7 : t-statistics : -2.294138655257301, p-value : 0.024278455406392434\n",
            "8 : t-statistics : -0.956306934037954, p-value : 0.3416613832159683\n",
            "9 : t-statistics : 0.0, p-value : 1.0\n",
            "10 : t-statistics : -1.7862965466068252, p-value : 0.07765949978971529\n",
            "11 : t-statistics : -2.863644190935973, p-value : 0.005287507729314456\n",
            "12 : t-statistics : -2.383715874603461, p-value : 0.01936601652418123\n"
          ]
        },
        {
          "output_type": "execute_result",
          "data": {
            "text/plain": [
              "<matplotlib.lines.Line2D at 0x7f0b6edc52b0>"
            ]
          },
          "metadata": {},
          "execution_count": 111
        },
        {
          "output_type": "display_data",
          "data": {
            "text/plain": [
              "<Figure size 432x288 with 1 Axes>"
            ],
            "image/png": "[encoded data removed]"
          },
          "metadata": {
            "needs_background": "light"
          }
        }
      ]
    },
    {
      "cell_type": "markdown",
      "source": [
        "- "
      ],
      "metadata": {
        "id": "1_gJZas-xMIn"
      }
    },
    {
      "cell_type": "code",
      "source": [
        "## 10월 ''월별'' 수익률 T-test\n",
        "\n",
        "lst= []\n",
        "for i in range(1, 13): \n",
        "  t_stat, p_value = stats.ttest_ind(oct_log_rate, change[change['Month'] == i]['Log_Rate'], equal_var=True, alternative=\"two-sided\")\n",
        "  lst.append(p_value)\n",
        "  print(i)\n",
        "  print(\"t-statistics : {}, p-value : {}\".format(t_stat, p_value))\n",
        "\n",
        "lst = pd.DataFrame(lst)\n",
        "lst.index = lst.index + 1\n",
        "lst.plot(kind='bar', title = 'S&P 500 October T-test p-value')\n",
        "plt.axhline(0.05, color='black', lw=2)"
      ],
      "metadata": {
        "colab": {
          "base_uri": "https://localhost:8080/",
          "height": 730
        },
        "outputId": "3b5089c2-d717-4fd2-d298-79b8e08c2a47",
        "id": "5Rcqv39XsRCA"
      },
      "execution_count": 112,
      "outputs": [
        {
          "output_type": "stream",
          "name": "stdout",
          "text": [
            "1\n",
            "t-statistics : 0.28912720183747903, p-value : 0.7731880410388956\n",
            "2\n",
            "t-statistics : 0.9092983383075036, p-value : 0.36579432696487646\n",
            "3\n",
            "t-statistics : 0.29761009322165144, p-value : 0.7667355735309622\n",
            "4\n",
            "t-statistics : -0.4238357857989436, p-value : 0.6727689562087704\n",
            "5\n",
            "t-statistics : 0.2814387309377359, p-value : 0.7790660552469231\n",
            "6\n",
            "t-statistics : 0.9607351974180699, p-value : 0.3394427005438877\n",
            "7\n",
            "t-statistics : 0.011028334910690553, p-value : 0.9912269907531827\n",
            "8\n",
            "t-statistics : 0.9275129951403243, p-value : 0.3563176808770496\n",
            "9\n",
            "t-statistics : 1.7862965466068252, p-value : 0.07765949978971529\n",
            "10\n",
            "t-statistics : 0.0, p-value : 1.0\n",
            "11\n",
            "t-statistics : -0.5352095428115696, p-value : 0.5939190702727106\n",
            "12\n",
            "t-statistics : 0.028011582127415485, p-value : 0.9777185764904723\n"
          ]
        },
        {
          "output_type": "execute_result",
          "data": {
            "text/plain": [
              "<matplotlib.lines.Line2D at 0x7f0b6ede2a30>"
            ]
          },
          "metadata": {},
          "execution_count": 112
        },
        {
          "output_type": "display_data",
          "data": {
            "text/plain": [
              "<Figure size 432x288 with 1 Axes>"
            ],
            "image/png": "[encoded data removed]"
          },
          "metadata": {
            "needs_background": "light"
          }
        }
      ]
    },
    {
      "cell_type": "code",
      "source": [
        "## 9월 ''일별'' 수익률 T-test \n",
        "\n",
        "sep = kospi[kospi['Month' ]== 9]['Log_Rate']\n",
        "oct = kospi[kospi['Month' ]== 10]['Log_Rate']\n",
        "\n",
        "for i in range(1, 13): \n",
        "  t_stat, p_value = stats.ttest_ind(sep, kospi[kospi['Month'] == i]['Log_Rate'], equal_var=True, alternative=\"two-sided\")\n",
        "  print(i)\n",
        "  print(\"t-statistics : {}, p-value : {}\".format(t_stat, p_value))"
      ],
      "metadata": {
        "colab": {
          "base_uri": "https://localhost:8080/"
        },
        "outputId": "3142c22c-a877-4c5d-8df7-ea0955ddc88b",
        "id": "01j7HQ7gsRB_"
      },
      "execution_count": 41,
      "outputs": [
        {
          "output_type": "stream",
          "name": "stdout",
          "text": [
            "1\n",
            "t-statistics : -1.676649793007429, p-value : 0.09378766943875895\n",
            "2\n",
            "t-statistics : -1.0219655703451207, p-value : 0.3069426013042919\n",
            "3\n",
            "t-statistics : -1.4296851493994136, p-value : 0.15297941103375917\n",
            "4\n",
            "t-statistics : -2.4257703061338916, p-value : 0.015375720975898831\n",
            "5\n",
            "t-statistics : -1.7690058587298378, p-value : 0.07706401870496503\n",
            "6\n",
            "t-statistics : -1.0670719531550776, p-value : 0.2860829189069125\n",
            "7\n",
            "t-statistics : -2.0728228887669466, p-value : 0.038332054017970005\n",
            "8\n",
            "t-statistics : -0.9354562043973449, p-value : 0.3496770040520013\n",
            "9\n",
            "t-statistics : 0.0, p-value : 1.0\n",
            "10\n",
            "t-statistics : -1.520748879108375, p-value : 0.128496285383864\n",
            "11\n",
            "t-statistics : -2.4563739431186185, p-value : 0.01413117565411193\n",
            "12\n",
            "t-statistics : nan, p-value : nan\n"
          ]
        }
      ]
    },
    {
      "cell_type": "code",
      "source": [
        "## 10월 ''일별'' 수익률 T-test\n",
        "\n",
        "for i in range(1, 13): \n",
        "  t_stat, p_value = stats.ttest_ind(oct, kospi[kospi['Month'] == i]['Log_Rate'], equal_var=True, alternative=\"two-sided\")\n",
        "  print(i)\n",
        "  print(\"t-statistics : {}, p-value : {}\".format(t_stat, p_value))"
      ],
      "metadata": {
        "colab": {
          "base_uri": "https://localhost:8080/"
        },
        "outputId": "16acd99b-ed58-4dc9-d022-defcbb810076",
        "id": "QyGmks91sRCA"
      },
      "execution_count": 43,
      "outputs": [
        {
          "output_type": "stream",
          "name": "stdout",
          "text": [
            "1\n",
            "t-statistics : 0.1922926978181403, p-value : 0.8475341343843171\n",
            "2\n",
            "t-statistics : 0.725738231194457, p-value : 0.4680950422384328\n",
            "3\n",
            "t-statistics : 0.2251335513377516, p-value : 0.8218997321419558\n",
            "4\n",
            "t-statistics : -0.41687152022000123, p-value : 0.6768211192689844\n",
            "5\n",
            "t-statistics : 0.2012708632998996, p-value : 0.8405088626334194\n",
            "6\n",
            "t-statistics : 0.778790220989534, p-value : 0.436201993005662\n",
            "7\n",
            "t-statistics : -0.02603865722631086, p-value : 0.979229302609312\n",
            "8\n",
            "t-statistics : 0.8193994785366508, p-value : 0.41266140948925467\n",
            "9\n",
            "t-statistics : 1.520748879108375, p-value : 0.128496285383864\n",
            "10\n",
            "t-statistics : 0.0, p-value : 1.0\n",
            "11\n",
            "t-statistics : -0.5254449795416745, p-value : 0.5993377588496449\n",
            "12\n",
            "t-statistics : nan, p-value : nan\n"
          ]
        }
      ]
    }
  ]
}