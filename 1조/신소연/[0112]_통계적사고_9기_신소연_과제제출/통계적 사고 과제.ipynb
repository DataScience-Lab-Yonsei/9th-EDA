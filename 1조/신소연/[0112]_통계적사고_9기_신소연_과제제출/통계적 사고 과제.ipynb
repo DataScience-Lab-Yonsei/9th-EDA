{
 "cells": [
  {
   "cell_type": "markdown",
   "id": "3e3e8575",
   "metadata": {},
   "source": [
    "# (a) 상반기 평균 수익률이 하반기 평균 수익률과 같다"
   ]
  },
  {
   "cell_type": "markdown",
   "id": "0dcf7695",
   "metadata": {},
   "source": [
    "귀무가설 : \"상반기 평균 수익률이 하반기 평균 수익률과 같다\"\n",
    "\n",
    "\n",
    "대립가설 : \"상반기 평균 수익률이 하반기 평균 수익률과 같지 않다\""
   ]
  },
  {
   "cell_type": "markdown",
   "id": "5ab81777",
   "metadata": {},
   "source": [
    "일간수익률 밑에도(데이터를 가져와 써야 해서 같은 파일에 작성했습니다) 상반기 중 종가가 내렸으면 1, 올랐으면 0의 값을 갖는 확률변수의 평균이 0.5이다 - 라는 가설을 증명하고자 했으나 NaN이 나와서 완성하지 못했습니다ㅠㅡㅠ"
   ]
  },
  {
   "cell_type": "code",
   "execution_count": 1,
   "id": "c4e7cf81",
   "metadata": {},
   "outputs": [],
   "source": [
    "import pandas as pd\n",
    "import numpy as np\n",
    "import matplotlib.pyplot as plt\n",
    "\n",
    "kospi_df = pd.read_csv(r\"C:\\Users\\SHIN Soyeon\\Desktop\\EDA Project\\Dataset\\kospi_data.csv\")\n",
    "from datetime import datetime\n",
    "kospi_df[\"Date\"] = pd.to_datetime(kospi_df[\"Date\"])"
   ]
  },
  {
   "cell_type": "markdown",
   "id": "6d38747f",
   "metadata": {},
   "source": [
    "유의수준 : 0.05"
   ]
  },
  {
   "cell_type": "code",
   "execution_count": 85,
   "id": "ed32142d",
   "metadata": {},
   "outputs": [],
   "source": [
    "pdt13s = kospi_df[(kospi_df[\"Date\"]>=\"1990-12-01\")&(kospi_df[\"Date\"]<=\"1992-12-01\")]['Change']\n",
    "A_mean = sum(pdt13s) / len(pdt13s)\n",
    "\n",
    "pdt13f = kospi_df[(kospi_df[\"Date\"]>=\"1987-12-01\")&(kospi_df[\"Date\"]<=\"1990-12-01\")]['Change']\n",
    "B_mean = sum(pdt13f) / len(pdt13f)"
   ]
  },
  {
   "cell_type": "code",
   "execution_count": 87,
   "id": "df8f5bbe",
   "metadata": {},
   "outputs": [],
   "source": [
    "def twoSampZ(X1, X2, mudiff, sd1, sd2, n1, n2):\n",
    "    from numpy import sqrt, abs, round\n",
    "    from scipy.stats import norm\n",
    "    pooledSE = sqrt(sd1**2/n1 + sd2**2/n2)\n",
    "    z = ((X1 - X2) - mudiff)/pooledSE\n",
    "    pval = 2*(norm.sf(abs(z)))\n",
    "    return round(z, 3), round(pval, 4)"
   ]
  },
  {
   "cell_type": "code",
   "execution_count": 96,
   "id": "6a185310",
   "metadata": {},
   "outputs": [],
   "source": [
    "a = np.std(pdt13s)\n",
    "b = np.std(pdt13f)\n",
    "c = len(pdt13s)\n",
    "d = len(pdt13f)"
   ]
  },
  {
   "cell_type": "code",
   "execution_count": 98,
   "id": "17e7c8a0",
   "metadata": {},
   "outputs": [
    {
     "name": "stdout",
     "output_type": "stream",
     "text": [
      "-0.711 0.4771\n"
     ]
    }
   ],
   "source": [
    "z, p = twoSampZ(A_mean, B_mean, 0, a, b, c, d)\n",
    "print(z,p)"
   ]
  },
  {
   "cell_type": "markdown",
   "id": "54306748",
   "metadata": {},
   "source": [
    "p값이 0.05(유의수준)보다 크기 때문에 귀무가설 채택"
   ]
  }
 ],
 "metadata": {
  "kernelspec": {
   "display_name": "Python 3 (ipykernel)",
   "language": "python",
   "name": "python3"
  },
  "language_info": {
   "codemirror_mode": {
    "name": "ipython",
    "version": 3
   },
   "file_extension": ".py",
   "mimetype": "text/x-python",
   "name": "python",
   "nbconvert_exporter": "python",
   "pygments_lexer": "ipython3",
   "version": "3.9.13"
  }
 },
 "nbformat": 4,
 "nbformat_minor": 5
}
