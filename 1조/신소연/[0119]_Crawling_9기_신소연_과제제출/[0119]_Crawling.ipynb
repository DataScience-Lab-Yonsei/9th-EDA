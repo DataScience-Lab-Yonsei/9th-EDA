{
 "cells": [
  {
   "cell_type": "code",
   "execution_count": 1,
   "metadata": {
    "colab": {
     "base_uri": "https://localhost:8080/"
    },
    "id": "j83bcMikiAqG",
    "outputId": "6175a040-abf1-47b7-f923-9533a31a5ab7"
   },
   "outputs": [
    {
     "name": "stdout",
     "output_type": "stream",
     "text": [
      "응답코드: 200\n"
     ]
    }
   ],
   "source": [
    "import requests\n",
    "url = 'https://blog.minitab.com/ko/statistics-and-quality-data-analysis/what-are-t-values-and-p-values-in-statistics'\n",
    "res = requests.get(url)\n",
    "print('응답코드:', res.status_code)"
   ]
  },
  {
   "cell_type": "code",
   "execution_count": 42,
   "metadata": {
    "colab": {
     "base_uri": "https://localhost:8080/"
    },
    "id": "bcQ5DBEujbUT",
    "outputId": "b0e3c38c-dacf-4e61-cead-be392934687d"
   },
   "outputs": [
    {
     "name": "stdout",
     "output_type": "stream",
     "text": [
      "응답코드: 404\n"
     ]
    }
   ],
   "source": [
    "import requests\n",
    "url = \"https://nadocoding1.tistory.com\"\n",
    "res = requests.get(url)\n",
    "print('응답코드:', res.status_code)"
   ]
  },
  {
   "cell_type": "markdown",
   "metadata": {
    "id": "zT0h6vtTzSti"
   },
   "source": [
    "## 유튜브 댓글 추출"
   ]
  },
  {
   "cell_type": "code",
   "execution_count": 2,
   "metadata": {
    "colab": {
     "base_uri": "https://localhost:8080/"
    },
    "id": "X2MBoWxAzVDS",
    "outputId": "f116debc-4158-4aeb-a762-90a0e7f1c82d"
   },
   "outputs": [
    {
     "ename": "NameError",
     "evalue": "name 'webdriver' is not defined",
     "output_type": "error",
     "traceback": [
      "\u001b[1;31m---------------------------------------------------------------------------\u001b[0m",
      "\u001b[1;31mNameError\u001b[0m                                 Traceback (most recent call last)",
      "\u001b[1;32m~\\AppData\\Local\\Temp\\ipykernel_12132\\2316275550.py\u001b[0m in \u001b[0;36m<module>\u001b[1;34m\u001b[0m\n\u001b[1;32m----> 1\u001b[1;33m \u001b[0mdriver\u001b[0m \u001b[1;33m=\u001b[0m \u001b[0mwebdriver\u001b[0m\u001b[1;33m.\u001b[0m\u001b[0mChrome\u001b[0m\u001b[1;33m(\u001b[0m\u001b[1;34m'chromedriver'\u001b[0m\u001b[1;33m,\u001b[0m \u001b[0moptions\u001b[0m\u001b[1;33m=\u001b[0m\u001b[0moptions\u001b[0m\u001b[1;33m)\u001b[0m\u001b[1;33m\u001b[0m\u001b[1;33m\u001b[0m\u001b[0m\n\u001b[0m\u001b[0;32m      2\u001b[0m \u001b[0murl\u001b[0m \u001b[1;33m=\u001b[0m \u001b[1;34m'https://www.youtube.com/watch?v=ioqECVfBGP4'\u001b[0m\u001b[1;33m\u001b[0m\u001b[1;33m\u001b[0m\u001b[0m\n\u001b[0;32m      3\u001b[0m \u001b[0mdriver\u001b[0m\u001b[1;33m.\u001b[0m\u001b[0mget\u001b[0m\u001b[1;33m(\u001b[0m\u001b[0murl\u001b[0m\u001b[1;33m)\u001b[0m\u001b[1;33m\u001b[0m\u001b[1;33m\u001b[0m\u001b[0m\n\u001b[0;32m      4\u001b[0m \u001b[0mtime\u001b[0m\u001b[1;33m.\u001b[0m\u001b[0msleep\u001b[0m\u001b[1;33m(\u001b[0m\u001b[1;36m3\u001b[0m\u001b[1;33m)\u001b[0m \u001b[1;31m#3초대기\u001b[0m\u001b[1;33m\u001b[0m\u001b[1;33m\u001b[0m\u001b[0m\n\u001b[0;32m      5\u001b[0m \u001b[0mdriver\u001b[0m\u001b[1;33m.\u001b[0m\u001b[0mexecute_script\u001b[0m\u001b[1;33m(\u001b[0m\u001b[1;34m\"window.scrollTo(0, 600)\"\u001b[0m\u001b[1;33m)\u001b[0m\u001b[1;33m\u001b[0m\u001b[1;33m\u001b[0m\u001b[0m\n",
      "\u001b[1;31mNameError\u001b[0m: name 'webdriver' is not defined"
     ]
    }
   ],
   "source": [
    "driver = webdriver.Chrome('chromedriver', options=options)\n",
    "url = 'https://www.youtube.com/watch?v=ioqECVfBGP4'\n",
    "driver.get(url)\n",
    "time.sleep(3) #3초대기\n",
    "driver.execute_script(\"window.scrollTo(0, 600)\") \n",
    "time.sleep(1)\n",
    "\n",
    "#스크롤 높이 가져옴\n",
    "last_page_height = driver.execute_script(\"return document.documentElement.scrollHeight\")\n",
    "#지금 현재 스크롤이 어디 있는지 가져옴\n",
    "\n",
    "while True:\n",
    "    #끝까지 스크롤 다운\n",
    "    driver.execute_script(\"window.scrollTo(300, document.documentElement.scrollHeight);\")\n",
    "    time.sleep(2)\n",
    "    # 새로 업데이트 된 스크롤 높이 가져옴\n",
    "    new_page_height = driver.execute_script(\"return document.documentElement.scrollHeight\")\n",
    "    \n",
    "    # 더 이상 새로고침이 되지 않는다면 break\n",
    "    if new_page_height == last_page_height:\n",
    "        break\n",
    "    last_page_height = new_page_height\n",
    "    \n",
    "#동적 페이지 수집 도중에도 소스 코드를 정적 텍스트로 바꾸어 Beautiful Soup 이용 가능\n",
    "html_source = driver.page_source\n",
    "\n",
    "\n",
    "soup = BeautifulSoup(html_source, 'html.parser')\n",
    "\n",
    "youtube_comments = soup.select('yt-formatted-string#content-text')\n",
    "youtube_likes = soup.select('div#toolbar > span')\n",
    "\n",
    "\n",
    "str_youtube_comments = []\n",
    "str_youtube_likes = []\n",
    "\n",
    "for i in range(len(youtube_comments)):\n",
    "    str_tmp = str(youtube_comments[i].text) \n",
    "    str_tmp = str_tmp.replace('\\n', '')\n",
    "    str_tmp = str_tmp.replace('\\t', '')\n",
    "    str_tmp = str_tmp.replace('               ', '')\n",
    "   \n",
    "    str_youtube_comments.append(str_tmp)\n",
    "    \n",
    "    str_l = str(youtube_likes[i].text.strip(' '))\n",
    "    str_l = str_l.replace('\\n', '')\n",
    "    str_youtube_likes.append(str_l)\n",
    "    \n",
    "for i in range(len(str_youtube_comments)):\n",
    "    print(str_youtube_comments[i], str_youtube_likes[i])\n",
    "\n",
    "driver.quit()\n",
    "\n",
    "pd_data = {\"Comment\":str_youtube_comments, \"Likes\":str_youtube_likes}\n",
    "\n",
    "youtube_pd = pd.DataFrame(pd_data)"
   ]
  },
  {
   "cell_type": "code",
   "execution_count": 4,
   "metadata": {
    "colab": {
     "base_uri": "https://localhost:8080/",
     "height": 424
    },
    "id": "evwPsKA0HZrK",
    "outputId": "3625ce66-52c3-4e6b-b95b-3aaf97eaab38"
   },
   "outputs": [
    {
     "ename": "NameError",
     "evalue": "name 'pd_data' is not defined",
     "output_type": "error",
     "traceback": [
      "\u001b[1;31m---------------------------------------------------------------------------\u001b[0m",
      "\u001b[1;31mNameError\u001b[0m                                 Traceback (most recent call last)",
      "\u001b[1;32m~\\AppData\\Local\\Temp\\ipykernel_12132\\2567936157.py\u001b[0m in \u001b[0;36m<module>\u001b[1;34m\u001b[0m\n\u001b[0;32m      1\u001b[0m \u001b[1;32mimport\u001b[0m \u001b[0mpandas\u001b[0m \u001b[1;32mas\u001b[0m \u001b[0mpd\u001b[0m\u001b[1;33m\u001b[0m\u001b[1;33m\u001b[0m\u001b[0m\n\u001b[0;32m      2\u001b[0m \u001b[1;33m\u001b[0m\u001b[0m\n\u001b[1;32m----> 3\u001b[1;33m \u001b[0myoutube_pd\u001b[0m \u001b[1;33m=\u001b[0m \u001b[0mpd\u001b[0m\u001b[1;33m.\u001b[0m\u001b[0mDataFrame\u001b[0m\u001b[1;33m(\u001b[0m\u001b[0mpd_data\u001b[0m\u001b[1;33m)\u001b[0m\u001b[1;33m\u001b[0m\u001b[1;33m\u001b[0m\u001b[0m\n\u001b[0m\u001b[0;32m      4\u001b[0m \u001b[0myoutube_pd\u001b[0m\u001b[1;33m\u001b[0m\u001b[1;33m\u001b[0m\u001b[0m\n",
      "\u001b[1;31mNameError\u001b[0m: name 'pd_data' is not defined"
     ]
    }
   ],
   "source": [
    "import pandas as pd\n",
    "\n",
    "youtube_pd = pd.DataFrame(pd_data)\n",
    "youtube_pd"
   ]
  },
  {
   "cell_type": "code",
   "execution_count": null,
   "metadata": {
    "id": "t7n7C4OwIrmz"
   },
   "outputs": [],
   "source": []
  }
 ],
 "metadata": {
  "accelerator": "GPU",
  "colab": {
   "provenance": [],
   "toc_visible": true
  },
  "gpuClass": "standard",
  "kernelspec": {
   "display_name": "Python 3 (ipykernel)",
   "language": "python",
   "name": "python3"
  },
  "language_info": {
   "codemirror_mode": {
    "name": "ipython",
    "version": 3
   },
   "file_extension": ".py",
   "mimetype": "text/x-python",
   "name": "python",
   "nbconvert_exporter": "python",
   "pygments_lexer": "ipython3",
   "version": "3.9.13"
  }
 },
 "nbformat": 4,
 "nbformat_minor": 1
}
