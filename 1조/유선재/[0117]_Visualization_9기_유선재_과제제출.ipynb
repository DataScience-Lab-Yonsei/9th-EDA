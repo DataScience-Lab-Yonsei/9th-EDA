{
 "cells": [
  {
   "cell_type": "code",
   "execution_count": 2,
   "id": "18a3d972",
   "metadata": {},
   "outputs": [],
   "source": [
    "import numpy as np\n",
    "import pandas as pd\n",
    "import matplotlib.pyplot as plt\n",
    "from scipy import stats\n"
   ]
  },
  {
   "cell_type": "code",
   "execution_count": 3,
   "id": "66c9a7ad",
   "metadata": {},
   "outputs": [
    {
     "data": {
      "text/html": [
       "<div>\n",
       "<style scoped>\n",
       "    .dataframe tbody tr th:only-of-type {\n",
       "        vertical-align: middle;\n",
       "    }\n",
       "\n",
       "    .dataframe tbody tr th {\n",
       "        vertical-align: top;\n",
       "    }\n",
       "\n",
       "    .dataframe thead th {\n",
       "        text-align: right;\n",
       "    }\n",
       "</style>\n",
       "<table border=\"1\" class=\"dataframe\">\n",
       "  <thead>\n",
       "    <tr style=\"text-align: right;\">\n",
       "      <th></th>\n",
       "      <th>Date</th>\n",
       "      <th>Close</th>\n",
       "      <th>Open</th>\n",
       "      <th>High</th>\n",
       "      <th>Low</th>\n",
       "      <th>Volume</th>\n",
       "      <th>Change</th>\n",
       "    </tr>\n",
       "  </thead>\n",
       "  <tbody>\n",
       "    <tr>\n",
       "      <th>0</th>\n",
       "      <td>1981-05-01</td>\n",
       "      <td>123.60</td>\n",
       "      <td>123.60</td>\n",
       "      <td>123.60</td>\n",
       "      <td>123.60</td>\n",
       "      <td>3330000.0</td>\n",
       "      <td>0.0098</td>\n",
       "    </tr>\n",
       "    <tr>\n",
       "      <th>1</th>\n",
       "      <td>1981-05-02</td>\n",
       "      <td>123.50</td>\n",
       "      <td>123.50</td>\n",
       "      <td>123.50</td>\n",
       "      <td>123.50</td>\n",
       "      <td>2040000.0</td>\n",
       "      <td>-0.0008</td>\n",
       "    </tr>\n",
       "    <tr>\n",
       "      <th>2</th>\n",
       "      <td>1981-05-04</td>\n",
       "      <td>120.60</td>\n",
       "      <td>120.60</td>\n",
       "      <td>120.60</td>\n",
       "      <td>120.60</td>\n",
       "      <td>1930000.0</td>\n",
       "      <td>-0.0235</td>\n",
       "    </tr>\n",
       "    <tr>\n",
       "      <th>3</th>\n",
       "      <td>1981-05-06</td>\n",
       "      <td>120.70</td>\n",
       "      <td>120.70</td>\n",
       "      <td>120.70</td>\n",
       "      <td>120.70</td>\n",
       "      <td>1690000.0</td>\n",
       "      <td>0.0008</td>\n",
       "    </tr>\n",
       "    <tr>\n",
       "      <th>4</th>\n",
       "      <td>1981-05-07</td>\n",
       "      <td>119.30</td>\n",
       "      <td>119.30</td>\n",
       "      <td>119.30</td>\n",
       "      <td>119.30</td>\n",
       "      <td>1480000.0</td>\n",
       "      <td>-0.0116</td>\n",
       "    </tr>\n",
       "    <tr>\n",
       "      <th>...</th>\n",
       "      <td>...</td>\n",
       "      <td>...</td>\n",
       "      <td>...</td>\n",
       "      <td>...</td>\n",
       "      <td>...</td>\n",
       "      <td>...</td>\n",
       "      <td>...</td>\n",
       "    </tr>\n",
       "    <tr>\n",
       "      <th>11019</th>\n",
       "      <td>2022-08-25</td>\n",
       "      <td>2477.26</td>\n",
       "      <td>2459.79</td>\n",
       "      <td>2477.26</td>\n",
       "      <td>2455.32</td>\n",
       "      <td>426230000.0</td>\n",
       "      <td>0.0122</td>\n",
       "    </tr>\n",
       "    <tr>\n",
       "      <th>11020</th>\n",
       "      <td>2022-08-26</td>\n",
       "      <td>2481.03</td>\n",
       "      <td>2489.14</td>\n",
       "      <td>2497.76</td>\n",
       "      <td>2476.75</td>\n",
       "      <td>520090000.0</td>\n",
       "      <td>0.0015</td>\n",
       "    </tr>\n",
       "    <tr>\n",
       "      <th>11021</th>\n",
       "      <td>2022-08-29</td>\n",
       "      <td>2426.89</td>\n",
       "      <td>2432.06</td>\n",
       "      <td>2432.89</td>\n",
       "      <td>2417.01</td>\n",
       "      <td>448750000.0</td>\n",
       "      <td>-0.0218</td>\n",
       "    </tr>\n",
       "    <tr>\n",
       "      <th>11022</th>\n",
       "      <td>2022-08-30</td>\n",
       "      <td>2450.93</td>\n",
       "      <td>2441.21</td>\n",
       "      <td>2453.91</td>\n",
       "      <td>2433.48</td>\n",
       "      <td>327210.0</td>\n",
       "      <td>0.0099</td>\n",
       "    </tr>\n",
       "    <tr>\n",
       "      <th>11023</th>\n",
       "      <td>2022-08-31</td>\n",
       "      <td>2472.05</td>\n",
       "      <td>2433.47</td>\n",
       "      <td>2473.75</td>\n",
       "      <td>2426.14</td>\n",
       "      <td>397290.0</td>\n",
       "      <td>0.0086</td>\n",
       "    </tr>\n",
       "  </tbody>\n",
       "</table>\n",
       "<p>11024 rows × 7 columns</p>\n",
       "</div>"
      ],
      "text/plain": [
       "             Date    Close     Open     High      Low       Volume  Change\n",
       "0      1981-05-01   123.60   123.60   123.60   123.60    3330000.0  0.0098\n",
       "1      1981-05-02   123.50   123.50   123.50   123.50    2040000.0 -0.0008\n",
       "2      1981-05-04   120.60   120.60   120.60   120.60    1930000.0 -0.0235\n",
       "3      1981-05-06   120.70   120.70   120.70   120.70    1690000.0  0.0008\n",
       "4      1981-05-07   119.30   119.30   119.30   119.30    1480000.0 -0.0116\n",
       "...           ...      ...      ...      ...      ...          ...     ...\n",
       "11019  2022-08-25  2477.26  2459.79  2477.26  2455.32  426230000.0  0.0122\n",
       "11020  2022-08-26  2481.03  2489.14  2497.76  2476.75  520090000.0  0.0015\n",
       "11021  2022-08-29  2426.89  2432.06  2432.89  2417.01  448750000.0 -0.0218\n",
       "11022  2022-08-30  2450.93  2441.21  2453.91  2433.48     327210.0  0.0099\n",
       "11023  2022-08-31  2472.05  2433.47  2473.75  2426.14     397290.0  0.0086\n",
       "\n",
       "[11024 rows x 7 columns]"
      ]
     },
     "execution_count": 3,
     "metadata": {},
     "output_type": "execute_result"
    }
   ],
   "source": [
    "kospi = pd.read_csv(\"kospi_data.csv\")\n",
    "kospi"
   ]
  },
  {
   "cell_type": "code",
   "execution_count": 4,
   "id": "7beb07a2",
   "metadata": {},
   "outputs": [
    {
     "data": {
      "image/png": "[encoded data removed]",
      "text/plain": [
       "<Figure size 640x480 with 1 Axes>"
      ]
     },
     "metadata": {},
     "output_type": "display_data"
    }
   ],
   "source": [
    "plt.plot(kospi['Volume'])\n",
    "plt.show()"
   ]
  },
  {
   "cell_type": "code",
   "execution_count": 94,
   "id": "6462436b",
   "metadata": {},
   "outputs": [
    {
     "data": {
      "text/html": [
       "<div>\n",
       "<style scoped>\n",
       "    .dataframe tbody tr th:only-of-type {\n",
       "        vertical-align: middle;\n",
       "    }\n",
       "\n",
       "    .dataframe tbody tr th {\n",
       "        vertical-align: top;\n",
       "    }\n",
       "\n",
       "    .dataframe thead th {\n",
       "        text-align: right;\n",
       "    }\n",
       "</style>\n",
       "<table border=\"1\" class=\"dataframe\">\n",
       "  <thead>\n",
       "    <tr style=\"text-align: right;\">\n",
       "      <th></th>\n",
       "      <th>Date</th>\n",
       "      <th>Close</th>\n",
       "      <th>Open</th>\n",
       "      <th>High</th>\n",
       "      <th>Low</th>\n",
       "      <th>Volume</th>\n",
       "      <th>Change</th>\n",
       "      <th>Close_lag</th>\n",
       "      <th>Log_Rate</th>\n",
       "      <th>Day</th>\n",
       "      <th>Rate</th>\n",
       "    </tr>\n",
       "  </thead>\n",
       "  <tbody>\n",
       "    <tr>\n",
       "      <th>0</th>\n",
       "      <td>1981-05-01</td>\n",
       "      <td>123.60</td>\n",
       "      <td>123.60</td>\n",
       "      <td>123.60</td>\n",
       "      <td>123.60</td>\n",
       "      <td>3330000.0</td>\n",
       "      <td>0.0098</td>\n",
       "      <td>NaN</td>\n",
       "      <td>NaN</td>\n",
       "      <td>4</td>\n",
       "      <td>NaN</td>\n",
       "    </tr>\n",
       "    <tr>\n",
       "      <th>1</th>\n",
       "      <td>1981-05-02</td>\n",
       "      <td>123.50</td>\n",
       "      <td>123.50</td>\n",
       "      <td>123.50</td>\n",
       "      <td>123.50</td>\n",
       "      <td>2040000.0</td>\n",
       "      <td>-0.0008</td>\n",
       "      <td>3330000.0</td>\n",
       "      <td>-0.490022</td>\n",
       "      <td>5</td>\n",
       "      <td>-0.387387</td>\n",
       "    </tr>\n",
       "    <tr>\n",
       "      <th>2</th>\n",
       "      <td>1981-05-04</td>\n",
       "      <td>120.60</td>\n",
       "      <td>120.60</td>\n",
       "      <td>120.60</td>\n",
       "      <td>120.60</td>\n",
       "      <td>1930000.0</td>\n",
       "      <td>-0.0235</td>\n",
       "      <td>2040000.0</td>\n",
       "      <td>-0.055430</td>\n",
       "      <td>0</td>\n",
       "      <td>-0.053922</td>\n",
       "    </tr>\n",
       "    <tr>\n",
       "      <th>3</th>\n",
       "      <td>1981-05-06</td>\n",
       "      <td>120.70</td>\n",
       "      <td>120.70</td>\n",
       "      <td>120.70</td>\n",
       "      <td>120.70</td>\n",
       "      <td>1690000.0</td>\n",
       "      <td>0.0008</td>\n",
       "      <td>1930000.0</td>\n",
       "      <td>-0.132791</td>\n",
       "      <td>2</td>\n",
       "      <td>-0.124352</td>\n",
       "    </tr>\n",
       "    <tr>\n",
       "      <th>4</th>\n",
       "      <td>1981-05-07</td>\n",
       "      <td>119.30</td>\n",
       "      <td>119.30</td>\n",
       "      <td>119.30</td>\n",
       "      <td>119.30</td>\n",
       "      <td>1480000.0</td>\n",
       "      <td>-0.0116</td>\n",
       "      <td>1690000.0</td>\n",
       "      <td>-0.132686</td>\n",
       "      <td>3</td>\n",
       "      <td>-0.124260</td>\n",
       "    </tr>\n",
       "    <tr>\n",
       "      <th>...</th>\n",
       "      <td>...</td>\n",
       "      <td>...</td>\n",
       "      <td>...</td>\n",
       "      <td>...</td>\n",
       "      <td>...</td>\n",
       "      <td>...</td>\n",
       "      <td>...</td>\n",
       "      <td>...</td>\n",
       "      <td>...</td>\n",
       "      <td>...</td>\n",
       "      <td>...</td>\n",
       "    </tr>\n",
       "    <tr>\n",
       "      <th>11019</th>\n",
       "      <td>2022-08-25</td>\n",
       "      <td>2477.26</td>\n",
       "      <td>2459.79</td>\n",
       "      <td>2477.26</td>\n",
       "      <td>2455.32</td>\n",
       "      <td>426230000.0</td>\n",
       "      <td>0.0122</td>\n",
       "      <td>423500000.0</td>\n",
       "      <td>0.006426</td>\n",
       "      <td>3</td>\n",
       "      <td>0.006446</td>\n",
       "    </tr>\n",
       "    <tr>\n",
       "      <th>11020</th>\n",
       "      <td>2022-08-26</td>\n",
       "      <td>2481.03</td>\n",
       "      <td>2489.14</td>\n",
       "      <td>2497.76</td>\n",
       "      <td>2476.75</td>\n",
       "      <td>520090000.0</td>\n",
       "      <td>0.0015</td>\n",
       "      <td>426230000.0</td>\n",
       "      <td>0.199023</td>\n",
       "      <td>4</td>\n",
       "      <td>0.220210</td>\n",
       "    </tr>\n",
       "    <tr>\n",
       "      <th>11021</th>\n",
       "      <td>2022-08-29</td>\n",
       "      <td>2426.89</td>\n",
       "      <td>2432.06</td>\n",
       "      <td>2432.89</td>\n",
       "      <td>2417.01</td>\n",
       "      <td>448750000.0</td>\n",
       "      <td>-0.0218</td>\n",
       "      <td>520090000.0</td>\n",
       "      <td>-0.147536</td>\n",
       "      <td>0</td>\n",
       "      <td>-0.137169</td>\n",
       "    </tr>\n",
       "    <tr>\n",
       "      <th>11022</th>\n",
       "      <td>2022-08-30</td>\n",
       "      <td>2450.93</td>\n",
       "      <td>2441.21</td>\n",
       "      <td>2453.91</td>\n",
       "      <td>2433.48</td>\n",
       "      <td>327210.0</td>\n",
       "      <td>0.0099</td>\n",
       "      <td>448750000.0</td>\n",
       "      <td>-7.223619</td>\n",
       "      <td>1</td>\n",
       "      <td>-0.999271</td>\n",
       "    </tr>\n",
       "    <tr>\n",
       "      <th>11023</th>\n",
       "      <td>2022-08-31</td>\n",
       "      <td>2472.05</td>\n",
       "      <td>2433.47</td>\n",
       "      <td>2473.75</td>\n",
       "      <td>2426.14</td>\n",
       "      <td>397290.0</td>\n",
       "      <td>0.0086</td>\n",
       "      <td>327210.0</td>\n",
       "      <td>0.194064</td>\n",
       "      <td>2</td>\n",
       "      <td>0.214174</td>\n",
       "    </tr>\n",
       "  </tbody>\n",
       "</table>\n",
       "<p>11024 rows × 11 columns</p>\n",
       "</div>"
      ],
      "text/plain": [
       "            Date    Close     Open     High      Low       Volume  Change  \\\n",
       "0     1981-05-01   123.60   123.60   123.60   123.60    3330000.0  0.0098   \n",
       "1     1981-05-02   123.50   123.50   123.50   123.50    2040000.0 -0.0008   \n",
       "2     1981-05-04   120.60   120.60   120.60   120.60    1930000.0 -0.0235   \n",
       "3     1981-05-06   120.70   120.70   120.70   120.70    1690000.0  0.0008   \n",
       "4     1981-05-07   119.30   119.30   119.30   119.30    1480000.0 -0.0116   \n",
       "...          ...      ...      ...      ...      ...          ...     ...   \n",
       "11019 2022-08-25  2477.26  2459.79  2477.26  2455.32  426230000.0  0.0122   \n",
       "11020 2022-08-26  2481.03  2489.14  2497.76  2476.75  520090000.0  0.0015   \n",
       "11021 2022-08-29  2426.89  2432.06  2432.89  2417.01  448750000.0 -0.0218   \n",
       "11022 2022-08-30  2450.93  2441.21  2453.91  2433.48     327210.0  0.0099   \n",
       "11023 2022-08-31  2472.05  2433.47  2473.75  2426.14     397290.0  0.0086   \n",
       "\n",
       "         Close_lag  Log_Rate  Day      Rate  \n",
       "0              NaN       NaN    4       NaN  \n",
       "1        3330000.0 -0.490022    5 -0.387387  \n",
       "2        2040000.0 -0.055430    0 -0.053922  \n",
       "3        1930000.0 -0.132791    2 -0.124352  \n",
       "4        1690000.0 -0.132686    3 -0.124260  \n",
       "...            ...       ...  ...       ...  \n",
       "11019  423500000.0  0.006426    3  0.006446  \n",
       "11020  426230000.0  0.199023    4  0.220210  \n",
       "11021  520090000.0 -0.147536    0 -0.137169  \n",
       "11022  448750000.0 -7.223619    1 -0.999271  \n",
       "11023     327210.0  0.194064    2  0.214174  \n",
       "\n",
       "[11024 rows x 11 columns]"
      ]
     },
     "execution_count": 94,
     "metadata": {},
     "output_type": "execute_result"
    }
   ],
   "source": [
    "#로그 수익률\n",
    "kospi['Close_lag'] = kospi['Volume'].shift(1)\n",
    "kospi['Log_Rate'] = np.log(kospi['Volume']/kospi['Close_lag'])\n",
    "kospi['Rate'] = (kospi['Volume'] - kospi['Close_lag'])/kospi['Close_lag']\n",
    "kospi\n",
    "\n",
    "#1981- 05- 01 (금) "
   ]
  },
  {
   "cell_type": "code",
   "execution_count": null,
   "id": "57a1f127",
   "metadata": {},
   "outputs": [],
   "source": []
  },
  {
   "cell_type": "code",
   "execution_count": 6,
   "id": "d31b7ec6",
   "metadata": {},
   "outputs": [],
   "source": [
    "#날짜Date 칼럼을 datetime 타입으로 바꾸기\n",
    "kospi['Date'] = pd.to_datetime(kospi['Date'])"
   ]
  },
  {
   "cell_type": "code",
   "execution_count": 7,
   "id": "78a5a76c",
   "metadata": {},
   "outputs": [],
   "source": [
    "from datetime import datetime, date\n",
    "\n",
    "kospi['Day'] = [x.weekday() for x in kospi['Date']]"
   ]
  },
  {
   "cell_type": "code",
   "execution_count": 8,
   "id": "d0f18a0c",
   "metadata": {},
   "outputs": [
    {
     "data": {
      "text/plain": [
       "0        4\n",
       "1        5\n",
       "2        0\n",
       "3        2\n",
       "4        3\n",
       "        ..\n",
       "11019    3\n",
       "11020    4\n",
       "11021    0\n",
       "11022    1\n",
       "11023    2\n",
       "Name: Day, Length: 11024, dtype: int64"
      ]
     },
     "execution_count": 8,
     "metadata": {},
     "output_type": "execute_result"
    }
   ],
   "source": [
    "kospi['Day']"
   ]
  },
  {
   "cell_type": "code",
   "execution_count": 53,
   "id": "1b845885",
   "metadata": {},
   "outputs": [
    {
     "data": {
      "text/html": [
       "<div>\n",
       "<style scoped>\n",
       "    .dataframe tbody tr th:only-of-type {\n",
       "        vertical-align: middle;\n",
       "    }\n",
       "\n",
       "    .dataframe tbody tr th {\n",
       "        vertical-align: top;\n",
       "    }\n",
       "\n",
       "    .dataframe thead th {\n",
       "        text-align: right;\n",
       "    }\n",
       "</style>\n",
       "<table border=\"1\" class=\"dataframe\">\n",
       "  <thead>\n",
       "    <tr style=\"text-align: right;\">\n",
       "      <th></th>\n",
       "      <th>Day</th>\n",
       "    </tr>\n",
       "  </thead>\n",
       "  <tbody>\n",
       "    <tr>\n",
       "      <th>월</th>\n",
       "      <td>0</td>\n",
       "    </tr>\n",
       "    <tr>\n",
       "      <th>화</th>\n",
       "      <td>1</td>\n",
       "    </tr>\n",
       "    <tr>\n",
       "      <th>수</th>\n",
       "      <td>2</td>\n",
       "    </tr>\n",
       "    <tr>\n",
       "      <th>목</th>\n",
       "      <td>3</td>\n",
       "    </tr>\n",
       "    <tr>\n",
       "      <th>금</th>\n",
       "      <td>4</td>\n",
       "    </tr>\n",
       "    <tr>\n",
       "      <th>토</th>\n",
       "      <td>5</td>\n",
       "    </tr>\n",
       "  </tbody>\n",
       "</table>\n",
       "</div>"
      ],
      "text/plain": [
       "   Day\n",
       "월    0\n",
       "화    1\n",
       "수    2\n",
       "목    3\n",
       "금    4\n",
       "토    5"
      ]
     },
     "execution_count": 53,
     "metadata": {},
     "output_type": "execute_result"
    }
   ],
   "source": [
    "kospi_df = pd.DataFrame({'Day':kospi['Day']}).drop_duplicates(['Day'])\n",
    "kospi_df = kospi_df.sort_values(\"Day\").reset_index(drop = True)\n",
    "kospi_df = kospi_df.rename(index={0: '월', 1: '화', 2: '수', 3:'목', 4:'금', 5:'토'})\n",
    "kospi_df"
   ]
  },
  {
   "cell_type": "code",
   "execution_count": 34,
   "id": "59e8bf8a",
   "metadata": {},
   "outputs": [
    {
     "data": {
      "text/plain": [
       "Day\n",
       "0    0.077038\n",
       "1    0.068653\n",
       "2    0.024013\n",
       "3    0.019350\n",
       "4   -0.017045\n",
       "5   -0.408693\n",
       "Name: Log_Rate, dtype: float64"
      ]
     },
     "execution_count": 34,
     "metadata": {},
     "output_type": "execute_result"
    }
   ],
   "source": [
    "rate = kospi.groupby(['Day'])['Log_Rate'].mean()\n",
    "rate"
   ]
  },
  {
   "cell_type": "code",
   "execution_count": 57,
   "id": "37e563a4",
   "metadata": {},
   "outputs": [],
   "source": [
    "kospi_df['Day_Volume_Mean'] = list(rate)\n",
    "# kospi_df.sort_values(\"Day\")\n",
    "kospi_df = kospi_df.drop('토')"
   ]
  },
  {
   "cell_type": "code",
   "execution_count": 58,
   "id": "2916ac64",
   "metadata": {},
   "outputs": [
    {
     "data": {
      "text/html": [
       "<div>\n",
       "<style scoped>\n",
       "    .dataframe tbody tr th:only-of-type {\n",
       "        vertical-align: middle;\n",
       "    }\n",
       "\n",
       "    .dataframe tbody tr th {\n",
       "        vertical-align: top;\n",
       "    }\n",
       "\n",
       "    .dataframe thead th {\n",
       "        text-align: right;\n",
       "    }\n",
       "</style>\n",
       "<table border=\"1\" class=\"dataframe\">\n",
       "  <thead>\n",
       "    <tr style=\"text-align: right;\">\n",
       "      <th></th>\n",
       "      <th>Day</th>\n",
       "      <th>Day_Volume_Mean</th>\n",
       "    </tr>\n",
       "  </thead>\n",
       "  <tbody>\n",
       "    <tr>\n",
       "      <th>월</th>\n",
       "      <td>0</td>\n",
       "      <td>0.077038</td>\n",
       "    </tr>\n",
       "    <tr>\n",
       "      <th>화</th>\n",
       "      <td>1</td>\n",
       "      <td>0.068653</td>\n",
       "    </tr>\n",
       "    <tr>\n",
       "      <th>수</th>\n",
       "      <td>2</td>\n",
       "      <td>0.024013</td>\n",
       "    </tr>\n",
       "    <tr>\n",
       "      <th>목</th>\n",
       "      <td>3</td>\n",
       "      <td>0.019350</td>\n",
       "    </tr>\n",
       "    <tr>\n",
       "      <th>금</th>\n",
       "      <td>4</td>\n",
       "      <td>-0.017045</td>\n",
       "    </tr>\n",
       "  </tbody>\n",
       "</table>\n",
       "</div>"
      ],
      "text/plain": [
       "   Day  Day_Volume_Mean\n",
       "월    0         0.077038\n",
       "화    1         0.068653\n",
       "수    2         0.024013\n",
       "목    3         0.019350\n",
       "금    4        -0.017045"
      ]
     },
     "execution_count": 58,
     "metadata": {},
     "output_type": "execute_result"
    }
   ],
   "source": [
    "kospi_df"
   ]
  },
  {
   "cell_type": "code",
   "execution_count": 60,
   "id": "6ac95973",
   "metadata": {
    "scrolled": true
   },
   "outputs": [
    {
     "data": {
      "image/png": "[encoded data removed]",
      "text/plain": [
       "<Figure size 640x480 with 1 Axes>"
      ]
     },
     "metadata": {},
     "output_type": "display_data"
    }
   ],
   "source": [
    "label = ['Mon', 'Tue', 'Wed', 'Thr','Fri']\n",
    "\n",
    "plt.bar(kospi_df['Day'], kospi_df['Day_Volume_Mean'])\n",
    "plt.xticks(kospi_df['Day'], label)\n",
    "\n",
    "plt.show()"
   ]
  },
  {
   "cell_type": "markdown",
   "id": "39e6e6b2",
   "metadata": {},
   "source": [
    "H0 : 월요일 = 다른 요일 ; 모든 요일의 평균 거래량이 같다. \n",
    "\n",
    "H1 : 월요일의 평균 거래량이 다른 요일의 평균 거래량보다 높다."
   ]
  },
  {
   "cell_type": "markdown",
   "id": "9f8c9542",
   "metadata": {},
   "source": [
    "검정통계량 $T = \\frac{(\\bar{x_{1}} - \\bar{x_{2}}) - (\\mu_{1} - \\mu_{2})}{\\sqrt{\\frac{s_{1}^2}{n_{1}}+ \\frac{s_{2}^2}{n_{2}}}}$"
   ]
  },
  {
   "cell_type": "code",
   "execution_count": 97,
   "id": "4ad4b712",
   "metadata": {},
   "outputs": [
    {
     "data": {
      "text/html": [
       "<div>\n",
       "<style scoped>\n",
       "    .dataframe tbody tr th:only-of-type {\n",
       "        vertical-align: middle;\n",
       "    }\n",
       "\n",
       "    .dataframe tbody tr th {\n",
       "        vertical-align: top;\n",
       "    }\n",
       "\n",
       "    .dataframe thead th {\n",
       "        text-align: right;\n",
       "    }\n",
       "</style>\n",
       "<table border=\"1\" class=\"dataframe\">\n",
       "  <thead>\n",
       "    <tr style=\"text-align: right;\">\n",
       "      <th></th>\n",
       "      <th>Date</th>\n",
       "      <th>Close</th>\n",
       "      <th>Open</th>\n",
       "      <th>High</th>\n",
       "      <th>Low</th>\n",
       "      <th>Volume</th>\n",
       "      <th>Change</th>\n",
       "      <th>Close_lag</th>\n",
       "      <th>Log_Rate</th>\n",
       "      <th>Day</th>\n",
       "      <th>Rate</th>\n",
       "    </tr>\n",
       "  </thead>\n",
       "  <tbody>\n",
       "    <tr>\n",
       "      <th>0</th>\n",
       "      <td>1981-05-01</td>\n",
       "      <td>123.60</td>\n",
       "      <td>123.60</td>\n",
       "      <td>123.60</td>\n",
       "      <td>123.60</td>\n",
       "      <td>3330000.0</td>\n",
       "      <td>0.0098</td>\n",
       "      <td>NaN</td>\n",
       "      <td>NaN</td>\n",
       "      <td>4</td>\n",
       "      <td>NaN</td>\n",
       "    </tr>\n",
       "    <tr>\n",
       "      <th>3</th>\n",
       "      <td>1981-05-06</td>\n",
       "      <td>120.70</td>\n",
       "      <td>120.70</td>\n",
       "      <td>120.70</td>\n",
       "      <td>120.70</td>\n",
       "      <td>1690000.0</td>\n",
       "      <td>0.0008</td>\n",
       "      <td>1930000.0</td>\n",
       "      <td>-0.132791</td>\n",
       "      <td>2</td>\n",
       "      <td>-0.124352</td>\n",
       "    </tr>\n",
       "    <tr>\n",
       "      <th>4</th>\n",
       "      <td>1981-05-07</td>\n",
       "      <td>119.30</td>\n",
       "      <td>119.30</td>\n",
       "      <td>119.30</td>\n",
       "      <td>119.30</td>\n",
       "      <td>1480000.0</td>\n",
       "      <td>-0.0116</td>\n",
       "      <td>1690000.0</td>\n",
       "      <td>-0.132686</td>\n",
       "      <td>3</td>\n",
       "      <td>-0.124260</td>\n",
       "    </tr>\n",
       "    <tr>\n",
       "      <th>5</th>\n",
       "      <td>1981-05-08</td>\n",
       "      <td>118.70</td>\n",
       "      <td>118.70</td>\n",
       "      <td>118.70</td>\n",
       "      <td>118.70</td>\n",
       "      <td>1090000.0</td>\n",
       "      <td>-0.0050</td>\n",
       "      <td>1480000.0</td>\n",
       "      <td>-0.305864</td>\n",
       "      <td>4</td>\n",
       "      <td>-0.263514</td>\n",
       "    </tr>\n",
       "    <tr>\n",
       "      <th>7</th>\n",
       "      <td>1981-05-12</td>\n",
       "      <td>118.80</td>\n",
       "      <td>118.80</td>\n",
       "      <td>118.80</td>\n",
       "      <td>118.80</td>\n",
       "      <td>543000.0</td>\n",
       "      <td>0.0000</td>\n",
       "      <td>598000.0</td>\n",
       "      <td>-0.096481</td>\n",
       "      <td>1</td>\n",
       "      <td>-0.091973</td>\n",
       "    </tr>\n",
       "    <tr>\n",
       "      <th>...</th>\n",
       "      <td>...</td>\n",
       "      <td>...</td>\n",
       "      <td>...</td>\n",
       "      <td>...</td>\n",
       "      <td>...</td>\n",
       "      <td>...</td>\n",
       "      <td>...</td>\n",
       "      <td>...</td>\n",
       "      <td>...</td>\n",
       "      <td>...</td>\n",
       "      <td>...</td>\n",
       "    </tr>\n",
       "    <tr>\n",
       "      <th>11018</th>\n",
       "      <td>2022-08-24</td>\n",
       "      <td>2447.45</td>\n",
       "      <td>2446.18</td>\n",
       "      <td>2454.01</td>\n",
       "      <td>2430.69</td>\n",
       "      <td>423500000.0</td>\n",
       "      <td>0.0050</td>\n",
       "      <td>471170000.0</td>\n",
       "      <td>-0.106665</td>\n",
       "      <td>2</td>\n",
       "      <td>-0.101174</td>\n",
       "    </tr>\n",
       "    <tr>\n",
       "      <th>11019</th>\n",
       "      <td>2022-08-25</td>\n",
       "      <td>2477.26</td>\n",
       "      <td>2459.79</td>\n",
       "      <td>2477.26</td>\n",
       "      <td>2455.32</td>\n",
       "      <td>426230000.0</td>\n",
       "      <td>0.0122</td>\n",
       "      <td>423500000.0</td>\n",
       "      <td>0.006426</td>\n",
       "      <td>3</td>\n",
       "      <td>0.006446</td>\n",
       "    </tr>\n",
       "    <tr>\n",
       "      <th>11020</th>\n",
       "      <td>2022-08-26</td>\n",
       "      <td>2481.03</td>\n",
       "      <td>2489.14</td>\n",
       "      <td>2497.76</td>\n",
       "      <td>2476.75</td>\n",
       "      <td>520090000.0</td>\n",
       "      <td>0.0015</td>\n",
       "      <td>426230000.0</td>\n",
       "      <td>0.199023</td>\n",
       "      <td>4</td>\n",
       "      <td>0.220210</td>\n",
       "    </tr>\n",
       "    <tr>\n",
       "      <th>11022</th>\n",
       "      <td>2022-08-30</td>\n",
       "      <td>2450.93</td>\n",
       "      <td>2441.21</td>\n",
       "      <td>2453.91</td>\n",
       "      <td>2433.48</td>\n",
       "      <td>327210.0</td>\n",
       "      <td>0.0099</td>\n",
       "      <td>448750000.0</td>\n",
       "      <td>-7.223619</td>\n",
       "      <td>1</td>\n",
       "      <td>-0.999271</td>\n",
       "    </tr>\n",
       "    <tr>\n",
       "      <th>11023</th>\n",
       "      <td>2022-08-31</td>\n",
       "      <td>2472.05</td>\n",
       "      <td>2433.47</td>\n",
       "      <td>2473.75</td>\n",
       "      <td>2426.14</td>\n",
       "      <td>397290.0</td>\n",
       "      <td>0.0086</td>\n",
       "      <td>327210.0</td>\n",
       "      <td>0.194064</td>\n",
       "      <td>2</td>\n",
       "      <td>0.214174</td>\n",
       "    </tr>\n",
       "  </tbody>\n",
       "</table>\n",
       "<p>8134 rows × 11 columns</p>\n",
       "</div>"
      ],
      "text/plain": [
       "            Date    Close     Open     High      Low       Volume  Change  \\\n",
       "0     1981-05-01   123.60   123.60   123.60   123.60    3330000.0  0.0098   \n",
       "3     1981-05-06   120.70   120.70   120.70   120.70    1690000.0  0.0008   \n",
       "4     1981-05-07   119.30   119.30   119.30   119.30    1480000.0 -0.0116   \n",
       "5     1981-05-08   118.70   118.70   118.70   118.70    1090000.0 -0.0050   \n",
       "7     1981-05-12   118.80   118.80   118.80   118.80     543000.0  0.0000   \n",
       "...          ...      ...      ...      ...      ...          ...     ...   \n",
       "11018 2022-08-24  2447.45  2446.18  2454.01  2430.69  423500000.0  0.0050   \n",
       "11019 2022-08-25  2477.26  2459.79  2477.26  2455.32  426230000.0  0.0122   \n",
       "11020 2022-08-26  2481.03  2489.14  2497.76  2476.75  520090000.0  0.0015   \n",
       "11022 2022-08-30  2450.93  2441.21  2453.91  2433.48     327210.0  0.0099   \n",
       "11023 2022-08-31  2472.05  2433.47  2473.75  2426.14     397290.0  0.0086   \n",
       "\n",
       "         Close_lag  Log_Rate  Day      Rate  \n",
       "0              NaN       NaN    4       NaN  \n",
       "3        1930000.0 -0.132791    2 -0.124352  \n",
       "4        1690000.0 -0.132686    3 -0.124260  \n",
       "5        1480000.0 -0.305864    4 -0.263514  \n",
       "7         598000.0 -0.096481    1 -0.091973  \n",
       "...            ...       ...  ...       ...  \n",
       "11018  471170000.0 -0.106665    2 -0.101174  \n",
       "11019  423500000.0  0.006426    3  0.006446  \n",
       "11020  426230000.0  0.199023    4  0.220210  \n",
       "11022  448750000.0 -7.223619    1 -0.999271  \n",
       "11023     327210.0  0.194064    2  0.214174  \n",
       "\n",
       "[8134 rows x 11 columns]"
      ]
     },
     "execution_count": 97,
     "metadata": {},
     "output_type": "execute_result"
    }
   ],
   "source": [
    "kospi[(kospi['Day'] != 0) & (kospi['Day'] != 5)]"
   ]
  },
  {
   "cell_type": "code",
   "execution_count": 99,
   "id": "ff8e8b7e",
   "metadata": {},
   "outputs": [
    {
     "data": {
      "text/plain": [
       "0             NaN\n",
       "3       -0.132791\n",
       "4       -0.132686\n",
       "5       -0.305864\n",
       "7       -0.096481\n",
       "           ...   \n",
       "11018   -0.106665\n",
       "11019    0.006426\n",
       "11020    0.199023\n",
       "11022   -7.223619\n",
       "11023    0.194064\n",
       "Name: Log_Rate, Length: 8134, dtype: float64"
      ]
     },
     "execution_count": 99,
     "metadata": {},
     "output_type": "execute_result"
    }
   ],
   "source": [
    "kospi[(kospi['Day'] != 0) & (kospi['Day'] != 5)]['Log_Rate']"
   ]
  },
  {
   "cell_type": "code",
   "execution_count": 102,
   "id": "b1ff85cc",
   "metadata": {},
   "outputs": [
    {
     "data": {
      "text/plain": [
       "0.02378551805296608"
      ]
     },
     "execution_count": 102,
     "metadata": {},
     "output_type": "execute_result"
    }
   ],
   "source": [
    "mean_mon = 0.077038\n",
    "mean_other = np.mean(kospi[(kospi['Day'] != 0) & (kospi['Day'] != 5)]['Log_Rate'])\n",
    "\n",
    "mean_other"
   ]
  },
  {
   "cell_type": "code",
   "execution_count": 104,
   "id": "527e9ee9",
   "metadata": {},
   "outputs": [
    {
     "data": {
      "text/plain": [
       "0.31024064339764207"
      ]
     },
     "execution_count": 104,
     "metadata": {},
     "output_type": "execute_result"
    }
   ],
   "source": [
    "sd_mon = np.std(kospi[kospi['Day'] == 0]['Log_Rate'])\n",
    "sd_other = np.std(kospi[(kospi['Day'] != 0) & (kospi['Day'] != 5)]['Log_Rate'])\n",
    "\n",
    "sd_mon\n",
    "sd_other"
   ]
  },
  {
   "cell_type": "code",
   "execution_count": 109,
   "id": "f0071c84",
   "metadata": {},
   "outputs": [
    {
     "data": {
      "text/plain": [
       "8134"
      ]
     },
     "execution_count": 109,
     "metadata": {},
     "output_type": "execute_result"
    }
   ],
   "source": [
    "n_mon = len(kospi[kospi['Day'] == 0]['Log_Rate'])\n",
    "n_other = len(kospi[(kospi['Day'] != 0) & (kospi['Day'] != 5)]['Log_Rate'])\n",
    "\n",
    "n_mon\n",
    "n_other"
   ]
  },
  {
   "cell_type": "code",
   "execution_count": 114,
   "id": "2b33e37d",
   "metadata": {},
   "outputs": [
    {
     "data": {
      "text/plain": [
       "0.053252481947033914"
      ]
     },
     "execution_count": 114,
     "metadata": {},
     "output_type": "execute_result"
    }
   ],
   "source": [
    "bunja = mean_mon - mean_other\n",
    "bunja"
   ]
  },
  {
   "cell_type": "code",
   "execution_count": 112,
   "id": "85952902",
   "metadata": {},
   "outputs": [
    {
     "data": {
      "text/plain": [
       "0.00884387906855761"
      ]
     },
     "execution_count": 112,
     "metadata": {},
     "output_type": "execute_result"
    }
   ],
   "source": [
    "bunmo = np.sqrt((sd_mon**2/n_mon) + (sd_other**2/n_other))\n",
    "bunmo"
   ]
  },
  {
   "cell_type": "code",
   "execution_count": 116,
   "id": "59b8a016",
   "metadata": {},
   "outputs": [
    {
     "data": {
      "text/plain": [
       "6.021394179434332"
      ]
     },
     "execution_count": 116,
     "metadata": {},
     "output_type": "execute_result"
    }
   ],
   "source": [
    "t = bunja / bunmo\n",
    "t"
   ]
  },
  {
   "cell_type": "code",
   "execution_count": 118,
   "id": "f2b28d9c",
   "metadata": {},
   "outputs": [
    {
     "data": {
      "text/plain": [
       "8.646052762628642e-10"
      ]
     },
     "execution_count": 118,
     "metadata": {},
     "output_type": "execute_result"
    }
   ],
   "source": [
    "1 - stats.norm.cdf(t)"
   ]
  }
 ],
 "metadata": {
  "kernelspec": {
   "display_name": "Python 3 (ipykernel)",
   "language": "python",
   "name": "python3"
  },
  "language_info": {
   "codemirror_mode": {
    "name": "ipython",
    "version": 3
   },
   "file_extension": ".py",
   "mimetype": "text/x-python",
   "name": "python",
   "nbconvert_exporter": "python",
   "pygments_lexer": "ipython3",
   "version": "3.9.13"
  }
 },
 "nbformat": 4,
 "nbformat_minor": 5
}
