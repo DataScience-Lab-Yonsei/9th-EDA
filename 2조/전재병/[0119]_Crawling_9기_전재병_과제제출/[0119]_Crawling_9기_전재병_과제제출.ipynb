{
  "cells": [
    {
      "cell_type": "code",
      "execution_count": 3,
      "metadata": {},
      "outputs": [],
      "source": [
        "import pandas as pd"
      ]
    },
    {
      "cell_type": "code",
      "execution_count": 66,
      "metadata": {
        "id": "zhROooBnj83M"
      },
      "outputs": [],
      "source": [
        "from selenium import webdriver\n",
        "from selenium.webdriver.common.by import By\n",
        "from selenium.webdriver.support.ui import WebDriverWait\n",
        "from selenium.webdriver.support.select import Select\n",
        "from selenium.webdriver.support import expected_conditions as EC\n",
        "from selenium.webdriver.common.keys import Keys\n",
        "from time import sleep\n",
        "\n",
        "global options\n",
        "global driver\n",
        "\n",
        "url = 'https://www.innoforest.co.kr/dataroom'\n",
        "options = webdriver.ChromeOptions()\n",
        "\n",
        "driver = webdriver.Chrome('./chromedriver', options=options)\n",
        "driver.implicitly_wait(15)\n",
        "driver.get(url)\n",
        "\n",
        "sleep(5)\n",
        "\n",
        "names = driver.find_elements_by_tag_name('strong')\n",
        "name = [n.text for n in names]\n",
        "name = name[1:]\n",
        "\n",
        "descriptions = driver.find_elements_by_css_selector('#__next > main > div.css-c0cixj > div:nth-child(2) > div > article > table > tbody a div.css-pzsc88')\n",
        "description = [d.text for d in descriptions]\n",
        "\n",
        "num_of_employees = driver.find_elements_by_css_selector('#__next > main > div.css-c0cixj > div:nth-child(2) > div > article > table > tbody td.css-2zt2q2')\n",
        "num_of_employee = [n.text for n in num_of_employees]\n",
        "\n",
        "revenues = driver.find_elements_by_class_name('css-15ll3ms')\n",
        "revenue = [r.text for r in revenues]\n",
        "\n",
        "driver.quit()"
      ]
    },
    {
      "cell_type": "code",
      "execution_count": 67,
      "metadata": {},
      "outputs": [],
      "source": [
        "num = []\n",
        "for i in range(15):\n",
        "    num.append(num_of_employee[2 * i])"
      ]
    },
    {
      "cell_type": "code",
      "execution_count": 68,
      "metadata": {},
      "outputs": [],
      "source": [
        "cum = []\n",
        "for i in range(15):\n",
        "    cum.append(num_of_employee[2 * i + 1])"
      ]
    },
    {
      "cell_type": "code",
      "execution_count": 73,
      "metadata": {},
      "outputs": [],
      "source": [
        "df = pd.DataFrame(zip(name, description, num, cum, revenue), columns = ['name', 'description', 'num_of_employees', 'cum_of_investments', 'revenue'])"
      ]
    },
    {
      "cell_type": "code",
      "execution_count": 75,
      "metadata": {},
      "outputs": [],
      "source": [
        "df.to_csv(\"./[0119]_Crawling_9기_전재병_과제제출.csv\")"
      ]
    },
    {
      "cell_type": "code",
      "execution_count": null,
      "metadata": {},
      "outputs": [],
      "source": []
    }
  ],
  "metadata": {
    "accelerator": "GPU",
    "colab": {
      "provenance": [],
      "toc_visible": true
    },
    "gpuClass": "standard",
    "kernelspec": {
      "display_name": "tf_m1",
      "language": "python",
      "name": "conda"
    },
    "language_info": {
      "codemirror_mode": {
        "name": "ipython",
        "version": 3
      },
      "file_extension": ".py",
      "mimetype": "text/x-python",
      "name": "python",
      "nbconvert_exporter": "python",
      "pygments_lexer": "ipython3",
      "version": "3.8.13"
    }
  },
  "nbformat": 4,
  "nbformat_minor": 0
}
