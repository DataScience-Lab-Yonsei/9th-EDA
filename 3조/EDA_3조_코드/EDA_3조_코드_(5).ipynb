{
  "nbformat": 4,
  "nbformat_minor": 0,
  "metadata": {
    "colab": {
      "provenance": []
    },
    "kernelspec": {
      "name": "python3",
      "display_name": "Python 3"
    },
    "language_info": {
      "name": "python"
    }
  },
  "cells": [
    {
      "cell_type": "code",
      "execution_count": 1,
      "metadata": {
        "id": "97A52jzOmSuG"
      },
      "outputs": [],
      "source": [
        "import numpy as np\n",
        "import pandas as pd\n",
        "import seaborn as sns\n",
        "import matplotlib.pyplot as plt"
      ]
    },
    {
      "cell_type": "code",
      "source": [
        "import matplotlib as mpl\n",
        "import matplotlib.pyplot as plt\n",
        " \n",
        "%config InlineBackend.figure_format = 'retina'\n",
        " \n",
        "!apt -qq -y install fonts-nanum\n",
        " \n",
        "import matplotlib.font_manager as fm\n",
        "fontpath = '/usr/share/fonts/truetype/nanum/NanumBarunGothic.ttf'\n",
        "font = fm.FontProperties(fname=fontpath, size=9)\n",
        "plt.rc('font', family='NanumBarunGothic') \n",
        "mpl.font_manager._rebuild()"
      ],
      "metadata": {
        "id": "qlNlPwLgm2ri",
        "colab": {
          "base_uri": "https://localhost:8080/"
        },
        "outputId": "dc1b828a-02a4-4e5a-b20a-156c0d88a5c9"
      },
      "execution_count": 2,
      "outputs": [
        {
          "output_type": "stream",
          "name": "stdout",
          "text": [
            "fonts-nanum is already the newest version (20180306-3).\n",
            "0 upgraded, 0 newly installed, 0 to remove and 27 not upgraded.\n"
          ]
        }
      ]
    },
    {
      "cell_type": "code",
      "source": [
        "age_sex_df = pd.read_csv('/content/drive/MyDrive/DSL/EDA프로젝트/지역화폐연령별성별이용현황.csv')\n",
        "age_sex_df1 = age_sex_df.groupby(['연령대', '성별']).sum().reset_index()\n",
        "age_sex_df2 = pd.concat([age_sex_df1.iloc[[0,1],:],age_sex_df1.iloc[6:20,:]])"
      ],
      "metadata": {
        "id": "NGvTecb6mnL4"
      },
      "execution_count": 4,
      "outputs": []
    },
    {
      "cell_type": "code",
      "source": [
        "sns.barplot(data = age_sex_df2, x = '연령대', y = '결제금액', hue = '성별')\n",
        "plt.show()"
      ],
      "metadata": {
        "id": "g70Q7Wg6mzS6",
        "colab": {
          "base_uri": "https://localhost:8080/",
          "height": 292
        },
        "outputId": "fb953cc1-3935-475e-af6f-7b56c25c64fb"
      },
      "execution_count": 5,
      "outputs": [
        {
          "output_type": "display_data",
          "data": {
            "text/plain": [
              "<Figure size 432x288 with 1 Axes>"
            ],
            "image/png": "[encoded data removed]"
          },
          "metadata": {
            "image/png": {
              "width": 377,
              "height": 275
            },
            "needs_background": "light"
          }
        }
      ]
    }
  ]
}