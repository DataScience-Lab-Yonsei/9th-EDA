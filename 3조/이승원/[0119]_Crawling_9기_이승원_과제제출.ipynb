{
  "nbformat": 4,
  "nbformat_minor": 0,
  "metadata": {
    "colab": {
      "provenance": []
    },
    "kernelspec": {
      "name": "python3",
      "display_name": "Python 3"
    },
    "language_info": {
      "name": "python"
    }
  },
  "cells": [
    {
      "cell_type": "markdown",
      "source": [
        "![image.png](data:image/png;base64,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)"
      ],
      "metadata": {
        "id": "REZrkXjSxWzx"
      }
    },
    {
      "cell_type": "markdown",
      "source": [
        "![image.png](data:image/png;base64,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)"
      ],
      "metadata": {
        "id": "SqaI4ekgXy80"
      }
    },
    {
      "cell_type": "markdown",
      "source": [
        "> **변수값 설정**"
      ],
      "metadata": {
        "id": "qrYw2rpydg0k"
      }
    },
    {
      "cell_type": "code",
      "source": [
        "if __name__ == \"__main__\":\n",
        "    url = \"https://www.kma.go.kr/wid/queryDFSRSS.jsp?zone=1141058500\"\n",
        "else: from __main__ import *    "
      ],
      "metadata": {
        "id": "mhTl_y3fdge6"
      },
      "execution_count": 6,
      "outputs": []
    },
    {
      "cell_type": "markdown",
      "source": [
        "> **코드 작성**"
      ],
      "metadata": {
        "id": "d3SDyMg1dGMl"
      }
    },
    {
      "cell_type": "code",
      "source": [
        "import requests\n",
        "from bs4 import BeautifulSoup\n",
        "\n",
        "text = requests.get(url).text\n",
        "soup = BeautifulSoup(text, 'xml')"
      ],
      "metadata": {
        "id": "Kbrl8neHgkl2"
      },
      "execution_count": 7,
      "outputs": []
    },
    {
      "cell_type": "code",
      "source": [
        "tag_list = soup.find_all('temp')\n",
        "\n",
        "print(tag_list)"
      ],
      "metadata": {
        "id": "rzLqPII9gynJ",
        "colab": {
          "base_uri": "https://localhost:8080/"
        },
        "outputId": "b69a0536-4b8c-4b74-df15-90442cad95af"
      },
      "execution_count": 8,
      "outputs": [
        {
          "output_type": "stream",
          "name": "stdout",
          "text": [
            "[<temp>1.0</temp>, <temp>0.0</temp>, <temp>-0.0</temp>, <temp>0.0</temp>, <temp>3.0</temp>, <temp>3.0</temp>, <temp>-0.0</temp>, <temp>-5.0</temp>, <temp>-9.0</temp>, <temp>-12.0</temp>, <temp>-15.0</temp>, <temp>-16.0</temp>, <temp>-14.0</temp>, <temp>-12.0</temp>, <temp>-14.0</temp>, <temp>-15.0</temp>, <temp>-16.0</temp>]\n"
          ]
        }
      ]
    },
    {
      "cell_type": "code",
      "source": [
        "temp_list = []\n",
        "\n",
        "for tag in tag_list:\n",
        "    temp = float(tag.get_text())\n",
        "    temp_list.append(temp)\n",
        "\n",
        "print(temp_list)"
      ],
      "metadata": {
        "id": "l5QW4nNVXzwc",
        "colab": {
          "base_uri": "https://localhost:8080/"
        },
        "outputId": "f3c078a3-dd94-47bd-8763-97a7848c6b80"
      },
      "execution_count": 9,
      "outputs": [
        {
          "output_type": "stream",
          "name": "stdout",
          "text": [
            "[1.0, 0.0, -0.0, 0.0, 3.0, 3.0, -0.0, -5.0, -9.0, -12.0, -15.0, -16.0, -14.0, -12.0, -14.0, -15.0, -16.0]\n"
          ]
        }
      ]
    },
    {
      "cell_type": "markdown",
      "source": [
        "> **출력 결과**"
      ],
      "metadata": {
        "id": "lHtSKQ4PdWgu"
      }
    },
    {
      "cell_type": "code",
      "source": [
        "\n",
        "print(temp_list)\n"
      ],
      "metadata": {
        "id": "ab4lYcaxdYiU",
        "colab": {
          "base_uri": "https://localhost:8080/"
        },
        "outputId": "ebe41267-71af-4228-9bb3-3acd8fd0d67b"
      },
      "execution_count": 10,
      "outputs": [
        {
          "output_type": "stream",
          "name": "stdout",
          "text": [
            "[1.0, 0.0, -0.0, 0.0, 3.0, 3.0, -0.0, -5.0, -9.0, -12.0, -15.0, -16.0, -14.0, -12.0, -14.0, -15.0, -16.0]\n"
          ]
        }
      ]
    }
  ]
}