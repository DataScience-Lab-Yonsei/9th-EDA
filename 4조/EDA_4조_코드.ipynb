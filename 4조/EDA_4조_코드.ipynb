{
 "cells": [
  {
   "cell_type": "markdown",
   "id": "f9e74f99",
   "metadata": {},
   "source": [
    "# 목차:\n",
    "\n",
    "## * [1.워드클라우드](#1.워드클라우드)\n",
    "## * [2.지도 시각화](#2.지도시각화)\n",
    "## * [3.광진구](#3.광진구)\n",
    "## * [4.서초구](#4.서초구)\n",
    "## * [5.마포구](#5.마포구)\n",
    "## * [6.영등포구](#6.영등포구)\n",
    "## * [7.송파구](#7.송파구)"
   ]
  },
  {
   "cell_type": "code",
   "execution_count": null,
   "id": "7ca1ebc0",
   "metadata": {},
   "outputs": [],
   "source": [
    "import numpy as np\n",
    "import pandas as pd\n",
    "import matplotlib.pyplot as plt\n",
    "import seaborn as sns\n",
    "import warnings\n",
    "from datetime import datetime\n",
    "warnings.filterwarnings(action='ignore')\n",
    "\n",
    "plt.rcParams['font.family'] = 'NanumGothic'\n",
    "\n",
    "#시각화 색상 통일\n",
    "\n",
    "col=['#6B4E24','#EECA98','#EBAA4F','#6B5B45','#B8853E','#AB891A','#6B5610','#EBBC23','#F7B50F']"
   ]
  },
  {
   "cell_type": "markdown",
   "id": "542782d1",
   "metadata": {},
   "source": [
    "# 1. 워드클라우드 <a class=\"anchor\" id=\"1.워드클라우드\"></a>\n",
    "---\n",
    "### 9기 조의현"
   ]
  },
  {
   "cell_type": "code",
   "execution_count": null,
   "id": "0d5c8a1d",
   "metadata": {},
   "outputs": [],
   "source": [
    "# open-api로 블로그 json 파일 가져오기\n",
    "\n",
    "import urllib.request\n",
    "import requests\n",
    "\n",
    "Id = str(input('아이디: '))\n",
    "password = str(input('비번: '))\n",
    "text = input('블로그 검색어 입력: ')\n",
    "txt = urllib.parse.quote(text)\n",
    "num =  input(\"출력결과 개수: \")\n",
    "\n",
    "open_api = 'https://openapi.naver.com/v1/search/blog?query=' + txt + \"&display=\" + num\n",
    "header_params = {'X-Naver-Client-Id' : Id, 'X-Naver-Client-Secret' : password}\n",
    "res = requests.get(open_api, headers = header_params)\n",
    "\n",
    "data = res.json()"
   ]
  },
  {
   "cell_type": "code",
   "execution_count": null,
   "id": "16a27090",
   "metadata": {},
   "outputs": [],
   "source": [
    "# json파일에서 블로그 포스팅 링크 가져오기\n",
    "\n",
    "links = []\n",
    "\n",
    "for _ in range(len(data['items'])):\n",
    "    links.append(data['items'][_]['link'])"
   ]
  },
  {
   "cell_type": "code",
   "execution_count": null,
   "id": "7e754a85",
   "metadata": {},
   "outputs": [],
   "source": [
    "# 크롬드라이버 가상환경에 설치\n",
    "\n",
    "import time\n",
    "from selenium import webdriver\n",
    "from webdriver_manager.chrome import ChromeDriverManager\n",
    "\n",
    "driver = webdriver.Chrome(ChromeDriverManager().install())\n",
    "driver.implicitly_wait(2)"
   ]
  },
  {
   "cell_type": "code",
   "execution_count": null,
   "id": "7358bdc3",
   "metadata": {},
   "outputs": [],
   "source": [
    "# 블로그 포스트 본문 크롤링\n",
    "\n",
    "from tqdm import tqdm\n",
    "from selenium.webdriver.common.by import By\n",
    "\n",
    "blog_posts = []\n",
    "\n",
    "for _ in tqdm(links):\n",
    "    driver.get(_)\n",
    "    time.sleep(1)\n",
    "    \n",
    "    driver.switch_to.frame('mainFrame')\n",
    "    \n",
    "    try:\n",
    "        post = driver.find_element(By.CSS_SELECTOR, 'div.se-main-container').text\n",
    "        blog_posts.append(post.replace('\\n', ' '))\n",
    "    except:\n",
    "        post = driver.find_element(By.CSS_SELECTOR, 'div#content-area').text\n",
    "        blog_posts.append(post.replace('\\n', ' '))\n",
    "        \n",
    "driver.quit()"
   ]
  },
  {
   "cell_type": "code",
   "execution_count": null,
   "id": "b1a1f520",
   "metadata": {},
   "outputs": [],
   "source": [
    "# df에 데이터 할당 후 csv파일로 저장\n",
    "\n",
    "import pandas as pd\n",
    "\n",
    "df = pd.DataFrame({'blog' : blog_posts})\n",
    "df.to_csv('naver_blog_review.csv', index = False)"
   ]
  },
  {
   "cell_type": "markdown",
   "id": "5f275dfd",
   "metadata": {},
   "source": [
    "**2. 블로그 포스팅 내용으로 워드클라우드 제작** <br>\n",
    "출처 : 2021-fall-basicsession 텍스트마이닝 섹션"
   ]
  },
  {
   "cell_type": "code",
   "execution_count": null,
   "id": "1fc0e0fe",
   "metadata": {},
   "outputs": [],
   "source": [
    "# csv파일 오픈 후 텍스트 파일 불러오기\n",
    "\n",
    "import re\n",
    "import konlpy\n",
    "import pandas as pd\n",
    "\n",
    "with open(r'./naver_blog_review', encoding='utf-8') as f:\n",
    "    text = f.readlines()"
   ]
  },
  {
   "cell_type": "code",
   "execution_count": null,
   "id": "897dcdaf",
   "metadata": {},
   "outputs": [],
   "source": [
    "# 텍스트 전처리\n",
    "\n",
    "text_strip = list([i.strip() for i in text if i != '\\n'])\n",
    "text_join = ' '.join(text_strip)\n",
    "filtered_content = re.sub(r'[^\\d\\s\\w]', ' ', text_join)"
   ]
  },
  {
   "cell_type": "code",
   "execution_count": null,
   "id": "45d0fc52",
   "metadata": {},
   "outputs": [],
   "source": [
    "# 한국어 텍스트 형태소분석기 komoran 정의\n",
    "\n",
    "komoran = konlpy.tag.Komoran()\n",
    "komoran_pos = komoran.pos(filtered_content)\n",
    "\n",
    "komoran.morphs(filtered_content)\n",
    "\n",
    "komoran_nouns = komoran.nouns(filtered_content)"
   ]
  },
  {
   "cell_type": "code",
   "execution_count": null,
   "id": "17426f2b",
   "metadata": {},
   "outputs": [],
   "source": [
    "# 불용어처리 후 토큰화\n",
    "\n",
    "stop_words = []\n",
    "\n",
    "def tokenizer(text):\n",
    "    nouns = komoran.nouns(text)\n",
    "    go_words = [noun for noun in nouns if noun not in stop_words]\n",
    "    return [go_word for go_word in go_words if len(go_word)>1]\n",
    "\n",
    "filtered_double = tokenizer(filtered_content)"
   ]
  },
  {
   "cell_type": "code",
   "execution_count": null,
   "id": "9004c09b",
   "metadata": {},
   "outputs": [],
   "source": [
    "# 단어 갯수 count\n",
    "\n",
    "from collections import Counter\n",
    "c = Counter(filtered_double)\n",
    "frequent = c.most_common(10)"
   ]
  },
  {
   "cell_type": "code",
   "execution_count": null,
   "id": "0d96f564",
   "metadata": {},
   "outputs": [],
   "source": [
    "# 워드클라우드 제작 -> 벚꽃 wordcloud\n",
    "\n",
    "from wordcloud import WordCloud\n",
    "import matplotlib.pyplot as plt\n",
    "from os import path\n",
    "from wordcloud import ImageColorGenerator\n",
    "\n",
    "FONT_PATH = \"C:/windows/fonts/malgun.ttf\"\n",
    "\n",
    "wordcloud1 = WordCloud(\n",
    "        font_path=FONT_PATH,\n",
    "        background_color = \"black\",\n",
    "        random_state = 1,\n",
    "        color_func = ImageColorGenerator(img),        \n",
    "        mask = img\n",
    ")\n",
    "wordcloud1.generate_from_frequencies(c)\n",
    "wordcloud1.to_image()"
   ]
  },
  {
   "cell_type": "code",
   "execution_count": null,
   "id": "8bb94de0",
   "metadata": {},
   "outputs": [],
   "source": [
    "# 워드클라우드 제작 -> 미세먼지 wordcloud\n",
    "\n",
    "from wordcloud import WordCloud\n",
    "import matplotlib.pyplot as plt\n",
    "from os import path\n",
    "from wordcloud import ImageColorGenerator\n",
    "import numpy as np\n",
    "\n",
    "FONT_PATH = \"C:/windows/fonts/malgun.ttf\"\n",
    "\n",
    "def color_func(word, font_size, position, orientation, random_state=None, **kwargs):\n",
    "    return(\"hsl(40, 70%%, %d%%)\" % np.random.randint(45,55))\n",
    "\n",
    "img = plt.imread(\"blossom.jpg\")\n",
    "\n",
    "wordcloud1 = WordCloud(\n",
    "        font_path=FONT_PATH,\n",
    "        background_color = \"black\",\n",
    "        random_state = 1,       \n",
    "        mask = img\n",
    ")\n",
    "wordcloud1.generate_from_frequencies(c)\n",
    "wordcloud1.recolor(color_func = color_func)\n",
    "wordcloud1.to_image()"
   ]
  },
  {
   "cell_type": "markdown",
   "id": "cf57d313",
   "metadata": {},
   "source": [
    "# 2. 지도 시각화 <a class=\"anchor\" id=\"2.지도시각화\"></a>\n",
    "---\n",
    "### 9기 김서진"
   ]
  },
  {
   "cell_type": "markdown",
   "id": "f7ad57fc",
   "metadata": {},
   "source": [
    "### 0. 데이터 준비"
   ]
  },
  {
   "cell_type": "code",
   "execution_count": null,
   "id": "f89df581",
   "metadata": {},
   "outputs": [],
   "source": [
    "import numpy as np\n",
    "import pandas as pd\n",
    "import matplotlib.pyplot as plt\n",
    "import seaborn as sns\n",
    "import folium\n",
    "import json"
   ]
  },
  {
   "cell_type": "code",
   "execution_count": null,
   "id": "cc708ebe",
   "metadata": {},
   "outputs": [],
   "source": [
    "year_cont_df = pd.read_csv('/Users/gimseojin/Desktop/2023-1/DSL/EDA_project/EDA_data/서울시 년도별 평균 대기오염도 정보.csv',\n",
    "                           skiprows=0, encoding = 'EUC-KR')\n",
    "year_cont_df.head()"
   ]
  },
  {
   "cell_type": "code",
   "execution_count": null,
   "id": "2a2224dc",
   "metadata": {},
   "outputs": [],
   "source": [
    "# 편의를 위해 열 이름 변경\n",
    "year_cont_df.rename(columns={\"측정년도\":\"Year\", \"측정소명\":\"Where\",\"이산화질소농도(ppm)\":\"NO2\",\n",
    "                             \"오존농도(ppm)\":\"O3\",\"일산화탄소농도(ppm)\":\"CO\",\n",
    "                            \"아황산가스(ppm)\":\"SO2\", \"미세먼지(㎍/㎥)\":\"Dust\",\n",
    "                             \"초미세먼지(㎍/㎥)\":\"F_dust\"}, inplace=True)\n",
    "year_cont_df"
   ]
  },
  {
   "cell_type": "code",
   "execution_count": null,
   "id": "4a8b5f4b",
   "metadata": {},
   "outputs": [],
   "source": [
    "# 결측치 보간\n",
    "mean_no2 = year_cont_df['NO2'].mean()\n",
    "mean_o3 = year_cont_df['O3'].mean()\n",
    "mean_co = year_cont_df['CO'].mean()\n",
    "mean_so2 = year_cont_df['SO2'].mean()\n",
    "year_cont_df['NO2'].fillna(mean_no2, inplace=True)\n",
    "year_cont_df['O3'].fillna(mean_o3, inplace=True)\n",
    "year_cont_df['CO'].fillna(mean_co, inplace=True)\n",
    "year_cont_df['SO2'].fillna(mean_so2, inplace=True)\n",
    "#year_cont_df['Dust'].interpolate(method = 'linear', inplace = True)\n",
    "#year_cont_df['F_dust'].interpolate(method = 'linear', inplace = True)\n",
    "year_cont_df.isnull().sum()"
   ]
  },
  {
   "cell_type": "code",
   "execution_count": null,
   "id": "4fc21e86",
   "metadata": {},
   "outputs": [],
   "source": [
    "# 지역별로 데이터 그룹화\n",
    "group_2 = year_cont_df.groupby('Where')"
   ]
  },
  {
   "cell_type": "code",
   "execution_count": null,
   "id": "11c9e126",
   "metadata": {},
   "outputs": [],
   "source": [
    "geo_path = 'EDA_data/HangJeongDong_ver20220701.geojson'\n",
    "geo_str = json.load(open(geo_path, encoding='utf-8')) "
   ]
  },
  {
   "cell_type": "code",
   "execution_count": null,
   "id": "51777c03",
   "metadata": {},
   "outputs": [],
   "source": [
    "mean = group_2.mean()\n",
    "mean.head()\n",
    "mean.drop('Year', axis = 1, inplace = True)"
   ]
  },
  {
   "cell_type": "code",
   "execution_count": null,
   "id": "1a94da95",
   "metadata": {},
   "outputs": [],
   "source": [
    "map3 = folium.Map(location=[37.5502, 126.982],   # 지도의 중심 위치(위도, 경도)\n",
    "\t\t\t\t zoom_start=11,                 # 0~18 단계\n",
    "                 tiles='cartodbpositron') # Stamen Toner, Stamen Terrain, ...\n",
    "\n",
    "bins_NO2 = list(mean['NO2'].quantile([0, 0.1, 0.2, 0.3, 0.4, 0.5, 0.6, 0.7, 0.8, 0.9, 1]))\n",
    "\n",
    "# 지도에 영역 표시\n",
    "folium.Choropleth(geo_data = geo_str,\n",
    "               data = mean['NO2'],\n",
    "               columns = [mean.index, mean['NO2']],\n",
    "               fill_color = 'YlOrBr', #PuRd, YlGnBu\n",
    "               key_on = 'feature.properties.sggnm',\n",
    "               highlight = True, \n",
    "               legend = '지역구별 이산화질소 연간 평균 농도',\n",
    "               bins=bins_NO2).add_to(map3)\n",
    "map3"
   ]
  },
  {
   "cell_type": "code",
   "execution_count": null,
   "id": "027f96a0",
   "metadata": {},
   "outputs": [],
   "source": [
    "map5 = folium.Map(location=[37.5502, 126.982],   # 지도의 중심 위치(위도, 경도)\n",
    "\t\t\t\t zoom_start=11,                 # 0~18 단계\n",
    "                 tiles='cartodbpositron') # Stamen Toner, Stamen Terrain, ...\n",
    "\n",
    "bins_O3 = list(mean['O3'].quantile([0, 0.1, 0.2, 0.3, 0.4, 0.5, 0.6, 0.7, 0.8, 0.9, 1]))\n",
    "\n",
    "# 지도에 영역 표시\n",
    "folium.Choropleth(geo_data = geo_str,\n",
    "               data = mean['O3'],\n",
    "               columns = [mean.index, mean['O3']],\n",
    "               fill_color = 'YlOrBr', #PuRd, YlGnBu\n",
    "               key_on = 'feature.properties.sggnm',\n",
    "               highlight = True, \n",
    "               legend = '지역구별 오존 연간 평균 농도',\n",
    "               bins=bins_O3).add_to(map5)\n",
    "map5.save('지역구별 오존 연간 평균 농도.html')\n",
    "map5"
   ]
  },
  {
   "cell_type": "code",
   "execution_count": null,
   "id": "4ed953b0",
   "metadata": {},
   "outputs": [],
   "source": [
    "map6 = folium.Map(location=[37.5502, 126.982],   # 지도의 중심 위치(위도, 경도)\n",
    "\t\t\t\t zoom_start=11,                 # 0~18 단계\n",
    "                 tiles='cartodbpositron') # Stamen Toner, Stamen Terrain, ...\n",
    "\n",
    "bins_O3 = list(mean['Dust'].quantile([0, 0.1, 0.2, 0.3, 0.4, 0.5, 0.6, 0.7, 0.8, 0.9, 1]))\n",
    "\n",
    "# 지도에 영역 표시\n",
    "folium.Choropleth(geo_data = geo_str,\n",
    "               data = mean['Dust'],\n",
    "               columns = [mean.index, mean['Dust']],\n",
    "               fill_color = 'YlOrBr', #PuRd, YlGnBu\n",
    "               key_on = 'feature.properties.sggnm',\n",
    "               highlight = True, \n",
    "               legend = '지역구별 미세먼지 연간 평균 농도',\n",
    "               bins=bins_O3).add_to(map6)\n",
    "\n",
    "map6.save('지역구별 미세먼지 연간 평균 농도.html')\n",
    "map6"
   ]
  },
  {
   "cell_type": "code",
   "execution_count": null,
   "id": "ae46541b",
   "metadata": {},
   "outputs": [],
   "source": [
    "map7 = folium.Map(location=[37.5502, 126.982],   # 지도의 중심 위치(위도, 경도)\n",
    "\t\t\t\t zoom_start=11,                 # 0~18 단계\n",
    "                 tiles='cartodbpositron') # Stamen Toner, Stamen Terrain, ...\n",
    "\n",
    "bins_Fdust = list(mean['F_dust'].quantile([0, 0.1, 0.2, 0.3, 0.4, 0.5, 0.6, 0.7, 0.8, 0.9, 1]))\n",
    "\n",
    "# 지도에 영역 표시\n",
    "folium.Choropleth(geo_data = geo_str,\n",
    "               data = mean['F_dust'],\n",
    "               columns = [mean.index, mean['F_dust']],\n",
    "               fill_color = 'YlOrBr', #PuRd, YlGnBu\n",
    "               key_on = 'feature.properties.sggnm',\n",
    "               highlight = True, \n",
    "               legend = '지역구별 초미세먼지 연간 평균 농도',\n",
    "               bins=bins_Fdust).add_to(map7)\n",
    "\n",
    "map7.save('지역구별 연간 초미세먼지 평균 농도.html')\n",
    "map7"
   ]
  },
  {
   "cell_type": "markdown",
   "id": "bddbe238",
   "metadata": {},
   "source": [
    "# 3. 광진구 <a class=\"anchor\" id=\"3.광진구\"></a>\n",
    "---\n",
    "### 9기 박서연"
   ]
  },
  {
   "cell_type": "markdown",
   "id": "3ba76fe6",
   "metadata": {},
   "source": [
    "## 1. 광진구 연도별 분석"
   ]
  },
  {
   "cell_type": "code",
   "execution_count": null,
   "id": "48f3908e",
   "metadata": {},
   "outputs": [],
   "source": [
    "### calling packages\n",
    "\n",
    "import numpy as np\n",
    "import pandas as pd\n",
    "\n",
    "import seaborn as sns\n",
    "import matplotlib.pyplot as plt\n",
    "\n",
    "from scipy import stats\n",
    "\n",
    "import time\n",
    "from datetime import datetime"
   ]
  },
  {
   "cell_type": "markdown",
   "id": "65c04d6c",
   "metadata": {},
   "source": [
    "### 0. 통일성을 위한 공통 작업"
   ]
  },
  {
   "cell_type": "code",
   "execution_count": null,
   "id": "564a3ea3",
   "metadata": {},
   "outputs": [],
   "source": [
    "### matplotlib, seaborn 한글 깨짐 현상 해결\n",
    "\n",
    "from matplotlib import font_manager, rc # matplotlib, seaborn에서 한글 깨짐 현상을 해결하기 위함\n",
    "\n",
    "font_path = \"C:/WINDOWS/FONTS/MALGUNSL.TTF\"\n",
    "font = font_manager.FontProperties(fname=font_path).get_name()\n",
    "rc('font', family=font)"
   ]
  },
  {
   "cell_type": "code",
   "execution_count": null,
   "id": "2bbf5f3d",
   "metadata": {},
   "outputs": [],
   "source": [
    "### 색상 통일\n",
    "\n",
    "col=['#6B4E24','#EECA98','#EBAA4F','#6B5B45','#B8853E','#AB891A','#6B5610','#EBBC23','#F7B50F']"
   ]
  },
  {
   "cell_type": "markdown",
   "id": "480e603c",
   "metadata": {},
   "source": [
    "### 1. 연도별 평균 데이터를 이용해 전체적인 추이를 보자!"
   ]
  },
  {
   "cell_type": "code",
   "execution_count": null,
   "id": "9a1bbac9",
   "metadata": {},
   "outputs": [],
   "source": [
    "### '서울시 년도별 평균 대기오염도 정보.csv'를 ATM_yearly_df라는 데이터프레임 형태로 불러오기\n",
    "\n",
    "ATM_yearly_df = pd.read_csv('C:/Users/izzle/Downloads/서울시 년도별 평균 대기오염도 정보.csv', encoding='cp949')\n",
    "ATM_yearly_df.head(10)"
   ]
  },
  {
   "cell_type": "code",
   "execution_count": null,
   "id": "3652d3f4",
   "metadata": {},
   "outputs": [],
   "source": [
    "### 광진구 자료만 추출하기\n",
    "\n",
    "gwangjin_yearly = ATM_yearly_df[ATM_yearly_df['측정소명'] == '광진구']\n",
    "gwangjin_yearly.head(10)"
   ]
  },
  {
   "cell_type": "code",
   "execution_count": null,
   "id": "731cf3d6",
   "metadata": {},
   "outputs": [],
   "source": [
    "### 결측치\n",
    "\n",
    "gwangjin_yearly.isnull().sum()\n",
    "\n",
    "# 연도별 데이터의 경우 미세먼지, 초미세먼지에만 결측치가 존재\n",
    "# 미세먼지, 초미세먼지를 제외한 다른 대기오염물질의 경우 측정이 1987년부터 시작되었는데,\n",
    "# 미세먼지는 2000년부터, 초미세먼지는 2012년부터 측정 데이터가 존재하여 발생하는 결측치이므로 보간할 필요가 없다고 판단됨."
   ]
  },
  {
   "cell_type": "code",
   "execution_count": null,
   "id": "782c6a13",
   "metadata": {},
   "outputs": [],
   "source": [
    "### 연도 범위 파악\n",
    "\n",
    "print(gwangjin_yearly.max()['측정년도'])\n",
    "print(gwangjin_yearly.min()['측정년도'])"
   ]
  },
  {
   "cell_type": "code",
   "execution_count": null,
   "id": "de9ea88e",
   "metadata": {},
   "outputs": [],
   "source": [
    "### 초미세먼지 범위 파악\n",
    "\n",
    "pd.DataFrame(gwangjin_yearly.dropna(axis=0, inplace=False))\n",
    "\n",
    "# 서울시 년도별 평균 대기오염도 정보 파일에서 초미세먼지는 2012~2023 데이터가 존재"
   ]
  },
  {
   "cell_type": "code",
   "execution_count": null,
   "id": "34d64fa9",
   "metadata": {},
   "outputs": [],
   "source": [
    "### 미세먼지 범위 파악\n",
    "\n",
    "gwangjin_noPM25 = gwangjin_yearly.drop(['초미세먼지(㎍/㎥)'], axis=1, inplace=False)\n",
    "gwangjin_noPM25.dropna(axis=0, inplace=False)\n",
    "\n",
    "# 서울시 년도별 평균 대기오염도 정보 파일에서 미세먼지는 2000~2023 데이터가 존재"
   ]
  },
  {
   "cell_type": "code",
   "execution_count": null,
   "id": "5631ca1d",
   "metadata": {},
   "outputs": [],
   "source": [
    "### 광진구 이산화탄소, 오존 농도 시계열 그래프(1987~2023)\n",
    "\n",
    "gwangjin_yearly.plot(x='측정년도', y=['이산화질소농도(ppm)', '오존농도(ppm)'], color = col, figsize=(25, 7))\n",
    "plt.ylabel('농도(ppm)')\n",
    "plt.xlabel('측정년도')\n",
    "plt.title('광진구 이산화질소, 오존 농도 시계열 그래프(1987~2023)', fontsize = 15, pad = 20)\n",
    "\n",
    "# plt.savefig('광진구 이산화질소, 오존 농도 시계열.png', facecolor = 'white', bbox_inches='tight', pad_inches=0.5)"
   ]
  },
  {
   "cell_type": "code",
   "execution_count": null,
   "id": "681c8ac4",
   "metadata": {},
   "outputs": [],
   "source": [
    "### 광진구 미세먼지(2000~2023), 초미세먼지(2012~2023) 시계열 그래프\n",
    "\n",
    "gwangjin_yearly.plot(x='측정년도', y=['미세먼지(㎍/㎥)', '초미세먼지(㎍/㎥)'], color = col, figsize=(25, 7))\n",
    "plt.ylabel('농도(㎍/㎥)')\n",
    "plt.xlabel('측정년도')\n",
    "plt.title('광진구 미세먼지(2000~2023), 초미세먼지(2012~2023) 시계열 그래프', fontsize = 15, pad = 20)\n",
    "\n",
    "# plt.savefig('광진구 미세먼지, 초미세먼지 시계열.png', facecolor = 'white', bbox_inches='tight', pad_inches=0.5)"
   ]
  },
  {
   "cell_type": "markdown",
   "id": "2afc4b29",
   "metadata": {},
   "source": [
    "## 2. 광진구 월별 분석"
   ]
  },
  {
   "cell_type": "markdown",
   "id": "386bb53b",
   "metadata": {},
   "source": [
    "### 월별 평균 데이터를 통해 월별 경향성을 살펴보자!"
   ]
  },
  {
   "cell_type": "markdown",
   "id": "f6f33158",
   "metadata": {},
   "source": [
    "##### 전체 기간 월별 시계열 그래프"
   ]
  },
  {
   "cell_type": "code",
   "execution_count": null,
   "id": "24644ed8",
   "metadata": {},
   "outputs": [],
   "source": [
    "### '서울시 월별 평균 대기오염도 정보.csv'를 ATM_monthly_df라는 데이터프레임 형태로 불러오기\n",
    "\n",
    "ATM_monthly_df = pd.read_csv('C:/Users/izzle/Downloads/서울시 월별 평균 대기오염도 정보.csv', encoding='cp949')\n",
    "ATM_monthly_df.head(10)"
   ]
  },
  {
   "cell_type": "code",
   "execution_count": null,
   "id": "abbafb69",
   "metadata": {},
   "outputs": [],
   "source": [
    "### 광진구 자료만 추출하기\n",
    "\n",
    "gwangjin_monthly = ATM_monthly_df[ATM_monthly_df['측정소명'] == '광진구']\n",
    "gwangjin_monthly"
   ]
  },
  {
   "cell_type": "code",
   "execution_count": null,
   "id": "30e08ce5",
   "metadata": {},
   "outputs": [],
   "source": [
    "### 결측치 확인\n",
    "\n",
    "gwangjin_monthly.isnull().sum()"
   ]
  },
  {
   "cell_type": "code",
   "execution_count": null,
   "id": "96302eb4",
   "metadata": {},
   "outputs": [],
   "source": [
    "### 결측치 보간\n",
    "# 미세먼지, 초미세먼지 결측치가 많은 것은 측정 시작 시점의 차이 때문이라서 우선은 이산화질소, 오존에 대해서만 평균값을 이용해 보간\n",
    "\n",
    "mean_NO2 = gwangjin_monthly['이산화질소농도(ppm)'].mean()\n",
    "mean_O3 = gwangjin_monthly['오존농도(ppm)'].mean()\n",
    "\n",
    "gwangjin_monthly['이산화질소농도(ppm)'].fillna(mean_NO2, inplace = True)\n",
    "gwangjin_monthly['오존농도(ppm)'].fillna(mean_O3, inplace = True)"
   ]
  },
  {
   "cell_type": "code",
   "execution_count": null,
   "id": "80824d70",
   "metadata": {},
   "outputs": [],
   "source": [
    "### datetime 적용하기\n",
    "\n",
    "gwangjin_monthly['day'] = 1\n",
    "gwangjin_monthly['year'] = gwangjin_monthly['측정월']//100\n",
    "gwangjin_monthly['month'] = gwangjin_monthly['측정월']%100\n",
    "gwangjin_monthly.head(10)"
   ]
  },
  {
   "cell_type": "code",
   "execution_count": null,
   "id": "159bacee",
   "metadata": {},
   "outputs": [],
   "source": [
    "### datetime 적용하기\n",
    "\n",
    "gwangjin_monthly['date'] = pd.to_datetime(gwangjin_monthly[['year', 'month', 'day']])\n",
    "gwangjin_monthly.head(10)"
   ]
  },
  {
   "cell_type": "code",
   "execution_count": null,
   "id": "cb8274ac",
   "metadata": {},
   "outputs": [],
   "source": [
    "gwangjin_18_22 = gwangjin_monthly.loc[9:2886]\n",
    "gwangjin_18_22.head()"
   ]
  },
  {
   "cell_type": "markdown",
   "id": "3a0df9da",
   "metadata": {},
   "source": [
    "##### 2018~2022 최근 5개년 월별 box plot"
   ]
  },
  {
   "cell_type": "code",
   "execution_count": null,
   "id": "b0035c43",
   "metadata": {},
   "outputs": [],
   "source": [
    "### 이산화질소 농도 box plot\n",
    "\n",
    "plt.figure(figsize = (10, 6))\n",
    "plt.boxplot([gwangjin_18_22[gwangjin_18_22['month'] == 1]['이산화질소농도(ppm)'],\n",
    "            gwangjin_18_22[gwangjin_18_22['month'] == 2]['이산화질소농도(ppm)'],\n",
    "            gwangjin_18_22[gwangjin_18_22['month'] == 3]['이산화질소농도(ppm)'],\n",
    "            gwangjin_18_22[gwangjin_18_22['month'] == 4]['이산화질소농도(ppm)'],\n",
    "            gwangjin_18_22[gwangjin_18_22['month'] == 5]['이산화질소농도(ppm)'],\n",
    "            gwangjin_18_22[gwangjin_18_22['month'] == 6]['이산화질소농도(ppm)'],\n",
    "            gwangjin_18_22[gwangjin_18_22['month'] == 7]['이산화질소농도(ppm)'],\n",
    "            gwangjin_18_22[gwangjin_18_22['month'] == 8]['이산화질소농도(ppm)'],\n",
    "            gwangjin_18_22[gwangjin_18_22['month'] == 9]['이산화질소농도(ppm)'],\n",
    "            gwangjin_18_22[gwangjin_18_22['month'] == 10]['이산화질소농도(ppm)'],\n",
    "            gwangjin_18_22[gwangjin_18_22['month'] == 11]['이산화질소농도(ppm)'],\n",
    "            gwangjin_18_22[gwangjin_18_22['month'] == 12]['이산화질소농도(ppm)']], sym = 'b*')\n",
    "\n",
    "plt.xticks([1, 2, 3, 4, 5, 6, 7, 8, 9, 10, 11, 12], ['1월', '2월', '3월', '4월', '5월', '6월', '7월', '8월', '9월', '10월', '11월', '12월'])\n",
    "plt.title('광진구 최근 5개년 월별 이산화질소 농도 box plot', fontsize = 15, pad = 20)\n",
    "plt.xlabel('월')\n",
    "plt.ylabel('농도(ppm)')\n",
    "\n",
    "# plt.savefig('광진구 최근 5개년 월별 이산화질소 농도 box plot.png', facecolor = 'white', bbox_inches='tight', pad_inches=0.5)"
   ]
  },
  {
   "cell_type": "code",
   "execution_count": null,
   "id": "ce69fc15",
   "metadata": {},
   "outputs": [],
   "source": [
    "### 오존 농도 box plot\n",
    "\n",
    "plt.figure(figsize = (10, 6))\n",
    "plt.boxplot([gwangjin_18_22[gwangjin_18_22['month'] == 1]['오존농도(ppm)'],\n",
    "            gwangjin_18_22[gwangjin_18_22['month'] == 2]['오존농도(ppm)'],\n",
    "            gwangjin_18_22[gwangjin_18_22['month'] == 3]['오존농도(ppm)'],\n",
    "            gwangjin_18_22[gwangjin_18_22['month'] == 4]['오존농도(ppm)'],\n",
    "            gwangjin_18_22[gwangjin_18_22['month'] == 5]['오존농도(ppm)'],\n",
    "            gwangjin_18_22[gwangjin_18_22['month'] == 6]['오존농도(ppm)'],\n",
    "            gwangjin_18_22[gwangjin_18_22['month'] == 7]['오존농도(ppm)'],\n",
    "            gwangjin_18_22[gwangjin_18_22['month'] == 8]['오존농도(ppm)'],\n",
    "            gwangjin_18_22[gwangjin_18_22['month'] == 9]['오존농도(ppm)'],\n",
    "            gwangjin_18_22[gwangjin_18_22['month'] == 10]['오존농도(ppm)'],\n",
    "            gwangjin_18_22[gwangjin_18_22['month'] == 11]['오존농도(ppm)'],\n",
    "            gwangjin_18_22[gwangjin_18_22['month'] == 12]['오존농도(ppm)']], sym = 'b*')\n",
    "\n",
    "plt.xticks([1, 2, 3, 4, 5, 6, 7, 8, 9, 10, 11, 12], ['1월', '2월', '3월', '4월', '5월', '6월', '7월', '8월', '9월', '10월', '11월', '12월'])\n",
    "plt.title('광진구 최근 5개년 월별 오존 농도 box plot', fontsize = 15, pad = 20)\n",
    "plt.xlabel('월')\n",
    "plt.ylabel('농도(ppm)')\n",
    "\n",
    "# plt.savefig('광진구 최근 5개년 월별 오존 농도 box plot.png', facecolor = 'white', bbox_inches='tight', pad_inches=0.5)"
   ]
  },
  {
   "cell_type": "code",
   "execution_count": null,
   "id": "3e840129",
   "metadata": {},
   "outputs": [],
   "source": [
    "### 미세먼지 농도 box plot\n",
    "\n",
    "plt.figure(figsize = (10, 6))\n",
    "plt.boxplot([gwangjin_18_22[gwangjin_18_22['month'] == 1]['미세먼지(㎍/㎥)'],\n",
    "            gwangjin_18_22[gwangjin_18_22['month'] == 2]['미세먼지(㎍/㎥)'],\n",
    "            gwangjin_18_22[gwangjin_18_22['month'] == 3]['미세먼지(㎍/㎥)'],\n",
    "            gwangjin_18_22[gwangjin_18_22['month'] == 4]['미세먼지(㎍/㎥)'],\n",
    "            gwangjin_18_22[gwangjin_18_22['month'] == 5]['미세먼지(㎍/㎥)'],\n",
    "            gwangjin_18_22[gwangjin_18_22['month'] == 6]['미세먼지(㎍/㎥)'],\n",
    "            gwangjin_18_22[gwangjin_18_22['month'] == 7]['미세먼지(㎍/㎥)'],\n",
    "            gwangjin_18_22[gwangjin_18_22['month'] == 8]['미세먼지(㎍/㎥)'],\n",
    "            gwangjin_18_22[gwangjin_18_22['month'] == 9]['미세먼지(㎍/㎥)'],\n",
    "            gwangjin_18_22[gwangjin_18_22['month'] == 10]['미세먼지(㎍/㎥)'],\n",
    "            gwangjin_18_22[gwangjin_18_22['month'] == 11]['미세먼지(㎍/㎥)'],\n",
    "            gwangjin_18_22[gwangjin_18_22['month'] == 12]['미세먼지(㎍/㎥)']], sym = 'b*')\n",
    "\n",
    "plt.xticks([1, 2, 3, 4, 5, 6, 7, 8, 9, 10, 11, 12], ['1월', '2월', '3월', '4월', '5월', '6월', '7월', '8월', '9월', '10월', '11월', '12월'])\n",
    "plt.title('광진구 최근 5개년 월별 미세먼지 농도 box plot', fontsize = 15, pad = 20)\n",
    "plt.xlabel('월')\n",
    "plt.ylabel('농도(㎍/㎥)')\n",
    "\n",
    "# plt.savefig('광진구 최근 5개년 월별 미세먼지 농도 box plot.png', facecolor = 'white', bbox_inches='tight', pad_inches=0.5)"
   ]
  },
  {
   "cell_type": "code",
   "execution_count": null,
   "id": "f04aae8e",
   "metadata": {},
   "outputs": [],
   "source": [
    "### 초미세먼지 농도 box plot\n",
    "\n",
    "plt.figure(figsize = (10, 6))\n",
    "plt.boxplot([gwangjin_18_22[gwangjin_18_22['month'] == 1]['초미세먼지(㎍/㎥)'],\n",
    "            gwangjin_18_22[gwangjin_18_22['month'] == 2]['초미세먼지(㎍/㎥)'],\n",
    "            gwangjin_18_22[gwangjin_18_22['month'] == 3]['초미세먼지(㎍/㎥)'],\n",
    "            gwangjin_18_22[gwangjin_18_22['month'] == 4]['초미세먼지(㎍/㎥)'],\n",
    "            gwangjin_18_22[gwangjin_18_22['month'] == 5]['초미세먼지(㎍/㎥)'],\n",
    "            gwangjin_18_22[gwangjin_18_22['month'] == 6]['초미세먼지(㎍/㎥)'],\n",
    "            gwangjin_18_22[gwangjin_18_22['month'] == 7]['초미세먼지(㎍/㎥)'],\n",
    "            gwangjin_18_22[gwangjin_18_22['month'] == 8]['초미세먼지(㎍/㎥)'],\n",
    "            gwangjin_18_22[gwangjin_18_22['month'] == 9]['초미세먼지(㎍/㎥)'],\n",
    "            gwangjin_18_22[gwangjin_18_22['month'] == 10]['초미세먼지(㎍/㎥)'],\n",
    "            gwangjin_18_22[gwangjin_18_22['month'] == 11]['초미세먼지(㎍/㎥)'],\n",
    "            gwangjin_18_22[gwangjin_18_22['month'] == 12]['초미세먼지(㎍/㎥)']], sym = 'b*')\n",
    "\n",
    "plt.xticks([1, 2, 3, 4, 5, 6, 7, 8, 9, 10, 11, 12], ['1월', '2월', '3월', '4월', '5월', '6월', '7월', '8월', '9월', '10월', '11월', '12월'])\n",
    "plt.title('광진구 최근 5개년 월별 초미세먼지 농도 box plot', fontsize = 15, pad = 20)\n",
    "plt.xlabel('월')\n",
    "plt.ylabel('농도(㎍/㎥)')\n",
    "\n",
    "# plt.savefig('광진구 최근 5개년 월별 초미세먼지 농도 box plot.png', facecolor = 'white', bbox_inches='tight', pad_inches=0.5)"
   ]
  },
  {
   "cell_type": "markdown",
   "id": "b83b9ca1",
   "metadata": {},
   "source": [
    "##### 이산화질소 계절성 검증을 위한 Two sample t-test\n",
    "\n",
    "H0: 이산화질소의 여름 평균과 겨울 평균은 같다  \n",
    "H1: 이산화질소의 여름 평균이 겨울 평균보다 작다(단측검정)"
   ]
  },
  {
   "cell_type": "code",
   "execution_count": null,
   "id": "b0bc9fdc",
   "metadata": {},
   "outputs": [],
   "source": [
    "### 이산화질소 농도 결측치가 있는 행 제거\n",
    "\n",
    "nonna_NO2_monthly = gwangjin_monthly.dropna(subset=['이산화질소농도(ppm)'])\n",
    "nonna_NO2_monthly.head()"
   ]
  },
  {
   "cell_type": "code",
   "execution_count": null,
   "id": "f89c61e6",
   "metadata": {},
   "outputs": [],
   "source": [
    "### 결측치 재확인\n",
    "\n",
    "nonna_NO2_monthly.isnull().sum()"
   ]
  },
  {
   "cell_type": "code",
   "execution_count": null,
   "id": "2893ae19",
   "metadata": {},
   "outputs": [],
   "source": [
    "### 여름(6~8월) 데이터 추출하기\n",
    "\n",
    "summer_NO2_monthly = nonna_NO2_monthly[((nonna_NO2_monthly['month'] > 5) & (nonna_NO2_monthly['month'] < 9))]\n",
    "summer_NO2_monthly.head(10)"
   ]
  },
  {
   "cell_type": "code",
   "execution_count": null,
   "id": "ced9e49b",
   "metadata": {},
   "outputs": [],
   "source": [
    "### 겨울(12~2월) 데이터 추출하기\n",
    "\n",
    "winter_NO2_monthly = nonna_NO2_monthly[((nonna_NO2_monthly['month'] == 12) | (nonna_NO2_monthly['month'] < 3))]\n",
    "winter_NO2_monthly.head(10)"
   ]
  },
  {
   "cell_type": "code",
   "execution_count": null,
   "id": "c8da6e4e",
   "metadata": {},
   "outputs": [],
   "source": [
    "### 이산화질소 데이터 추출하기\n",
    "\n",
    "summer_NO2_monthly = summer_NO2_monthly['이산화질소농도(ppm)']\n",
    "winter_NO2_monthly = winter_NO2_monthly['이산화질소농도(ppm)']"
   ]
  },
  {
   "cell_type": "code",
   "execution_count": null,
   "id": "c266cd13",
   "metadata": {},
   "outputs": [],
   "source": [
    "### 확률밀도함수\n",
    "\n",
    "plt.figure(figsize = (10, 6))\n",
    "sns.kdeplot(data=summer_NO2_monthly, palette = col, shade=True, label='여름(6~8월)')\n",
    "sns.kdeplot(data=winter_NO2_monthly, palette = col, shade=True, label='겨울(12~2월)')\n",
    "plt.legend()\n",
    "plt.title('이산화질소 농도의 여름 vs 겨울 확률밀도함수', fontsize = 15, pad = 20)\n",
    "\n",
    "# plt.savefig('이산화질소 여름vs겨울 확률밀도함수.png', facecolor = 'white', bbox_inches='tight', pad_inches=0.5)"
   ]
  },
  {
   "cell_type": "code",
   "execution_count": null,
   "id": "9defb69c",
   "metadata": {},
   "outputs": [],
   "source": [
    "### Two sample t-test 수행\n",
    "\n",
    "t_stat, p_value = stats.ttest_ind(summer_NO2_monthly, winter_NO2_monthly, equal_var=True, alternative=\"less\")\n",
    "print(\"t-statistics : {}, p-value : {}\".format(t_stat, p_value))"
   ]
  },
  {
   "cell_type": "markdown",
   "id": "18c392a3",
   "metadata": {},
   "source": [
    "p-value < 0.05 이므로 귀무가설을 기각할 수 있다.  \n",
    "이산화질소의 여름 평균이 겨울 평균에 비해 낮다고 말할 수 있다. 즉, 이산화질소에 계절성이 존재한다."
   ]
  },
  {
   "cell_type": "markdown",
   "id": "5e79c866",
   "metadata": {},
   "source": [
    "##### 오존 계절성 검증을 위한 Two sample t-test\n",
    "\n",
    "H0: 오존의 여름 평균과 겨울 평균은 같다  \n",
    "H1: 오존의 여름 평균이 겨울 평균보다 크다(단측검정)"
   ]
  },
  {
   "cell_type": "code",
   "execution_count": null,
   "id": "95d94072",
   "metadata": {},
   "outputs": [],
   "source": [
    "### 오존 농도 결측치가 있는 행 제거\n",
    "\n",
    "nonna_O3_monthly = gwangjin_monthly.dropna(subset=['오존농도(ppm)'])\n",
    "nonna_O3_monthly.head()"
   ]
  },
  {
   "cell_type": "code",
   "execution_count": null,
   "id": "04faa6d8",
   "metadata": {},
   "outputs": [],
   "source": [
    "### 결측치 재확인\n",
    "\n",
    "nonna_O3_monthly.isnull().sum()"
   ]
  },
  {
   "cell_type": "code",
   "execution_count": null,
   "id": "07052951",
   "metadata": {},
   "outputs": [],
   "source": [
    "### 여름(6~8월) 데이터 추출하기\n",
    "\n",
    "summer_O3_monthly = nonna_O3_monthly[((nonna_O3_monthly['month'] > 5) & (nonna_O3_monthly['month'] < 9))]\n",
    "summer_O3_monthly.head(10)"
   ]
  },
  {
   "cell_type": "code",
   "execution_count": null,
   "id": "fc6087f6",
   "metadata": {},
   "outputs": [],
   "source": [
    "### 겨울(12~2월) 데이터 추출하기\n",
    "\n",
    "winter_O3_monthly = nonna_O3_monthly[((nonna_O3_monthly['month'] == 12) | (nonna_O3_monthly['month'] < 3))]\n",
    "winter_O3_monthly.head(10)"
   ]
  },
  {
   "cell_type": "code",
   "execution_count": null,
   "id": "5866c161",
   "metadata": {},
   "outputs": [],
   "source": [
    "### 오존 데이터 추출하기\n",
    "\n",
    "summer_O3_monthly = summer_O3_monthly['오존농도(ppm)']\n",
    "winter_O3_monthly = winter_O3_monthly['오존농도(ppm)']"
   ]
  },
  {
   "cell_type": "code",
   "execution_count": null,
   "id": "cd934087",
   "metadata": {},
   "outputs": [],
   "source": [
    "### 확률밀도함수\n",
    "\n",
    "plt.figure(figsize = (10, 6))\n",
    "sns.kdeplot(data=summer_O3_monthly, palette = col, shade=True, label='여름(6~8월)')\n",
    "sns.kdeplot(data=winter_O3_monthly, palette = col, shade=True, label='겨울(12~2월)')\n",
    "plt.legend()\n",
    "plt.title('오존 농도의 여름 vs 겨울 확률밀도함수', fontsize = 15, pad = 20)\n",
    "\n",
    "# plt.savefig('오존 여름vs겨울 확률밀도함수.png', facecolor = 'white', bbox_inches='tight', pad_inches=0.5)"
   ]
  },
  {
   "cell_type": "code",
   "execution_count": null,
   "id": "daf29bca",
   "metadata": {},
   "outputs": [],
   "source": [
    "### Two sample t-test 수행\n",
    "\n",
    "t_stat, p_value = stats.ttest_ind(summer_O3_monthly, winter_O3_monthly, equal_var=True, alternative=\"greater\")\n",
    "print(\"t-statistics : {}, p-value : {}\".format(t_stat, p_value))"
   ]
  },
  {
   "cell_type": "markdown",
   "id": "84e35c53",
   "metadata": {},
   "source": [
    "p-value < 0.05 이므로 귀무가설을 기각할 수 있다.  \n",
    "오존의 여름 평균이 겨울 평균에 비해 높다고 말할 수 있다. 즉, 이산화질소에 계절성이 존재한다."
   ]
  },
  {
   "cell_type": "markdown",
   "id": "d37829a7",
   "metadata": {},
   "source": [
    "## 3. 광진구 요일별 분석"
   ]
  },
  {
   "cell_type": "markdown",
   "id": "3875141e",
   "metadata": {},
   "source": [
    "### 기간별 일평균 데이터를 통해 요일 경향성을 살펴보자!"
   ]
  },
  {
   "cell_type": "code",
   "execution_count": null,
   "id": "617e83a7",
   "metadata": {},
   "outputs": [],
   "source": [
    "### '서울시 기간별 일평균 대기환경 정보.csv'를 ATM_daily_df라는 데이터프레임 형태로 불러오기\n",
    "\n",
    "ATM_daily_df = pd.read_csv('C:/Users/izzle/Downloads/서울시 기간별 일평균 대기환경 정보.csv', encoding='cp949')\n",
    "ATM_daily_df.head(10)"
   ]
  },
  {
   "cell_type": "code",
   "execution_count": null,
   "id": "ff628600",
   "metadata": {},
   "outputs": [],
   "source": [
    "### 광진구 자료만 추출하기\n",
    "\n",
    "gwangjin_daily = ATM_daily_df[ATM_daily_df['측정소명'] == '광진구']\n",
    "gwangjin_daily.head(10)"
   ]
  },
  {
   "cell_type": "code",
   "execution_count": null,
   "id": "1ffb92d3",
   "metadata": {},
   "outputs": [],
   "source": [
    "### 데이터 타입\n",
    "\n",
    "gwangjin_daily.dtypes"
   ]
  },
  {
   "cell_type": "code",
   "execution_count": null,
   "id": "9d00f60f",
   "metadata": {},
   "outputs": [],
   "source": [
    "### 결측치 확인\n",
    "\n",
    "gwangjin_daily.isnull().sum()"
   ]
  },
  {
   "cell_type": "code",
   "execution_count": null,
   "id": "5173838f",
   "metadata": {},
   "outputs": [],
   "source": [
    "### datetime 적용하기\n",
    "\n",
    "gwangjin_daily['측정일자'] = gwangjin_daily['측정일자'].astype(str)\n",
    "gwangjin_daily['측정일자'] = pd.to_datetime(gwangjin_daily['측정일자'])"
   ]
  },
  {
   "cell_type": "code",
   "execution_count": null,
   "id": "d1ac19cd",
   "metadata": {},
   "outputs": [],
   "source": [
    "### 데이터 타입 재확인\n",
    "\n",
    "gwangjin_daily.dtypes"
   ]
  },
  {
   "cell_type": "code",
   "execution_count": null,
   "id": "ad447631",
   "metadata": {},
   "outputs": [],
   "source": [
    "### 요일 알아내기\n",
    "# 0: 월요일, 1: 화요일, 2: 수요일, 3: 목요일, 4: 금요일, 5: 토요일, 6: 일요일\n",
    "\n",
    "gwangjin_daily['요일'] = gwangjin_daily['측정일자'].dt.weekday\n",
    "gwangjin_daily.head()"
   ]
  },
  {
   "cell_type": "code",
   "execution_count": null,
   "id": "e4a2157a",
   "metadata": {},
   "outputs": [],
   "source": [
    "### 요일별 평균 알아내기\n",
    "\n",
    "day_group = gwangjin_daily.groupby('요일')\n",
    "day_group.mean()"
   ]
  },
  {
   "cell_type": "code",
   "execution_count": null,
   "id": "723dbe40",
   "metadata": {},
   "outputs": [],
   "source": [
    "### 이산화질소 농도에 대해 내림차순\n",
    "\n",
    "day_group.mean().sort_values(by='이산화질소농도(ppm)', ascending=False, inplace=False)\n",
    "\n",
    "# 이산화질소 농도는 평균적으로 목요일이 가장 높고, 일요일이 가장 낮다"
   ]
  },
  {
   "cell_type": "code",
   "execution_count": null,
   "id": "07729734",
   "metadata": {},
   "outputs": [],
   "source": [
    "### 오존 농도에 대해 내림차순\n",
    "\n",
    "day_group.mean().sort_values(by='오존(ppm)', ascending=False, inplace=False)\n",
    "\n",
    "# 오존 농도는 평균적으로 일요일이 가장 높고, 월요일이 가장 낮다"
   ]
  },
  {
   "cell_type": "code",
   "execution_count": null,
   "id": "409533c6",
   "metadata": {},
   "outputs": [],
   "source": [
    "### 미세먼지 농도에 대해 내림차순\n",
    "\n",
    "day_group.mean().sort_values(by='미세먼지(㎍/㎥)', ascending=False, inplace=False)\n",
    "\n",
    "# 미세먼지 농도는 평균적으로 토요일이 가장 높고, 월요일이 가장 낮다"
   ]
  },
  {
   "cell_type": "code",
   "execution_count": null,
   "id": "f806fcb5",
   "metadata": {},
   "outputs": [],
   "source": [
    "### 초미세먼지 농도에 대해 내림차순\n",
    "\n",
    "day_group.mean().sort_values(by='초미세먼지(㎍/㎥)', ascending=False, inplace=False)\n",
    "\n",
    "# 초미세먼지 농도는 평균적으로 금요일이 가장 높고, 월요일이 가장 낮다"
   ]
  },
  {
   "cell_type": "markdown",
   "id": "74649066",
   "metadata": {},
   "source": [
    "##### 요일별 barplot"
   ]
  },
  {
   "cell_type": "code",
   "execution_count": null,
   "id": "fa57007c",
   "metadata": {},
   "outputs": [],
   "source": [
    "### 이산화질소 농도 요일별 barplot\n",
    "\n",
    "plt.figure(figsize = (10, 6))\n",
    "sns.barplot(data = gwangjin_daily, x = '요일', y = '이산화질소농도(ppm)', palette = col, order = [0, 1, 2, 3, 4, 5, 6])\n",
    "plt.xticks([0, 1, 2, 3, 4, 5, 6], ['월', '화', '수', '목', '금', '토', '일'])\n",
    "plt.title('광진구 요일별 이산화질소 농도 barplot', fontsize = 15, pad = 20)\n",
    "\n",
    "# plt.savefig('광진구 이산화질소 농도 요일별 barplot.png', facecolor = 'white', bbox_inches='tight', pad_inches=0.5)"
   ]
  },
  {
   "cell_type": "code",
   "execution_count": null,
   "id": "ff22ad8f",
   "metadata": {},
   "outputs": [],
   "source": [
    "### 오존 농도 요일별 barplot\n",
    "\n",
    "plt.figure(figsize = (10, 6))\n",
    "sns.barplot(data = gwangjin_daily, x = '요일', y = '오존(ppm)', palette = col, order = [0, 1, 2, 3, 4, 5, 6])\n",
    "plt.xticks([0, 1, 2, 3, 4, 5, 6], ['월', '화', '수', '목', '금', '토', '일'])\n",
    "plt.title('광진구 요일별 오존 농도 barplot', fontsize = 15, pad = 20)\n",
    "\n",
    "# plt.savefig('광진구 오존 농도 요일별 barplot.png', facecolor = 'white', bbox_inches='tight', pad_inches=0.5)"
   ]
  },
  {
   "cell_type": "code",
   "execution_count": null,
   "id": "f44abe2b",
   "metadata": {},
   "outputs": [],
   "source": [
    "### 미세먼지 농도 요일별 barplot\n",
    "\n",
    "plt.figure(figsize = (10, 6))\n",
    "sns.barplot(data = gwangjin_daily, x = '요일', y = '미세먼지(㎍/㎥)', palette = col, order = [0, 1, 2, 3, 4, 5, 6])\n",
    "plt.xticks([0, 1, 2, 3, 4, 5, 6], ['월', '화', '수', '목', '금', '토', '일'])\n",
    "plt.title('광진구 요일별 미세먼지 농도 barplot', fontsize = 15, pad = 20)\n",
    "\n",
    "# plt.savefig('광진구 미세먼지 농도 요일별 barplot.png', facecolor = 'white', bbox_inches='tight', pad_inches=0.5)"
   ]
  },
  {
   "cell_type": "code",
   "execution_count": null,
   "id": "01a4a34c",
   "metadata": {},
   "outputs": [],
   "source": [
    "### 초미세먼지 농도 요일별 barplot\n",
    "\n",
    "plt.figure(figsize = (10, 6))\n",
    "sns.barplot(data = gwangjin_daily, x = '요일', y = '초미세먼지(㎍/㎥)', palette = col, order = [0, 1, 2, 3, 4, 5, 6])\n",
    "plt.xticks([0, 1, 2, 3, 4, 5, 6], ['월', '화', '수', '목', '금', '토', '일'])\n",
    "plt.title('광진구 요일별 초미세먼지 농도 barplot', fontsize = 15, pad = 20)\n",
    "\n",
    "# plt.savefig('광진구 초미세먼지 농도 요일별 barplot.png', facecolor = 'white', bbox_inches='tight', pad_inches=0.5)"
   ]
  },
  {
   "cell_type": "markdown",
   "id": "97b1e409",
   "metadata": {},
   "source": [
    "## 4. 광진구 시간별 분석"
   ]
  },
  {
   "cell_type": "markdown",
   "id": "4e7e1482",
   "metadata": {},
   "source": [
    "### 기간별 시간평균 데이터를 통해 일변화 경향성을 살펴보자!"
   ]
  },
  {
   "cell_type": "code",
   "execution_count": null,
   "id": "075f1a49",
   "metadata": {},
   "outputs": [],
   "source": [
    "### '서울시 기간별 시간평균 대기환경 정보.csv'를 ATM_daily_df라는 데이터프레임 형태로 불러오기\n",
    "\n",
    "ATM_hourly_df = pd.read_csv('C:/Users/izzle/Downloads/서울시 기간별 시간평균 대기환경 정보.csv', encoding='cp949')\n",
    "ATM_hourly_df.head(10)"
   ]
  },
  {
   "cell_type": "code",
   "execution_count": null,
   "id": "9f2290f2",
   "metadata": {},
   "outputs": [],
   "source": [
    "### 광진구 자료만 추출하기\n",
    "\n",
    "gwangjin_hourly = ATM_hourly_df[ATM_hourly_df['측정소명'] == '광진구']\n",
    "gwangjin_hourly.head(10)"
   ]
  },
  {
   "cell_type": "code",
   "execution_count": null,
   "id": "1e1629ea",
   "metadata": {},
   "outputs": [],
   "source": [
    "### 데이터 타입\n",
    "\n",
    "gwangjin_hourly.dtypes"
   ]
  },
  {
   "cell_type": "code",
   "execution_count": null,
   "id": "a73bce89",
   "metadata": {},
   "outputs": [],
   "source": [
    "### 결측치 확인\n",
    "\n",
    "gwangjin_hourly.isnull().sum()"
   ]
  },
  {
   "cell_type": "code",
   "execution_count": null,
   "id": "b32d46de",
   "metadata": {},
   "outputs": [],
   "source": [
    "### datetime 적용하기\n",
    "\n",
    "gwangjin_hourly['측정일시2'] = pd.to_datetime(gwangjin_hourly['측정일시'], format = '%Y/%m/%d %H:%M')\n",
    "gwangjin_hourly"
   ]
  },
  {
   "cell_type": "code",
   "execution_count": null,
   "id": "e8fc080d",
   "metadata": {},
   "outputs": [],
   "source": [
    "### 시간 컬럼 분리하기\n",
    "\n",
    "gwangjin_hourly['시간'] = gwangjin_hourly['측정일시2'].dt.time\n",
    "gwangjin_hourly"
   ]
  },
  {
   "cell_type": "code",
   "execution_count": null,
   "id": "f6d7a350",
   "metadata": {},
   "outputs": [],
   "source": [
    "### 데이터 타입 재확인\n",
    "\n",
    "gwangjin_hourly.dtypes"
   ]
  },
  {
   "cell_type": "code",
   "execution_count": null,
   "id": "47fbcd24",
   "metadata": {},
   "outputs": [],
   "source": [
    "### '시간만' 추출\n",
    "\n",
    "gwangjin_hourly['time'] = gwangjin_hourly.apply(lambda row: int(str(row['시간'])[:2]), axis=1)\n",
    "gwangjin_hourly"
   ]
  },
  {
   "cell_type": "code",
   "execution_count": null,
   "id": "2f734432",
   "metadata": {},
   "outputs": [],
   "source": [
    "### 데이터 처리\n",
    "\n",
    "mean_NO2_by_hour = gwangjin_hourly.groupby('time')['이산화질소농도(ppm)'].mean()\n",
    "mean_O3_by_hour = gwangjin_hourly.groupby('time')['오존(ppm)'].mean()\n",
    "mean_PM10_by_hour = gwangjin_hourly.groupby('time')['미세먼지 1시간(㎍/㎥)'].mean()\n",
    "mean_PM25_by_hour = gwangjin_hourly.groupby('time')['초미세먼지(㎍/㎥)'].mean()"
   ]
  },
  {
   "cell_type": "code",
   "execution_count": null,
   "id": "54d2bdaf",
   "metadata": {},
   "outputs": [],
   "source": [
    "### 이산화질소, 오존 농도 시간별 평균 그래프\n",
    "\n",
    "plt.figure(figsize = (10, 6))\n",
    "plt.plot(mean_NO2_by_hour, color = '#6B4E24', label = '이산화질소농도')\n",
    "plt.plot(mean_O3_by_hour, color = '#EECA98', label = '오존농도')\n",
    "plt.xticks(np.arange(0, 24))\n",
    "plt.xlabel('시간')\n",
    "plt.ylabel('농도(ppm)')\n",
    "plt.legend()\n",
    "plt.title('광진구 이산화질소, 오존 농도 시간별 평균 그래프', fontsize = 15, pad = 20)\n",
    "\n",
    "# plt.savefig('광진구 이산화질소, 오존 농도 시간별 평균.png', facecolor = 'white', bbox_inches='tight', pad_inches=0.5)"
   ]
  },
  {
   "cell_type": "code",
   "execution_count": null,
   "id": "42332a10",
   "metadata": {},
   "outputs": [],
   "source": [
    "### 미세먼지, 초미세먼지 농도 시간별 평균 그래프\n",
    "\n",
    "plt.figure(figsize = (10, 6))\n",
    "plt.plot(mean_PM10_by_hour, color = '#6B4E24', label = '미세먼지농도')\n",
    "plt.plot(mean_PM25_by_hour, color = '#EECA98', label = '초미세먼지농도')\n",
    "plt.xticks(np.arange(0, 24))\n",
    "plt.xlabel('시간')\n",
    "plt.ylabel('농도(㎍/㎥)')\n",
    "plt.legend()\n",
    "plt.title('광진구 미세먼지, 초미세먼지 농도 시간별 평균 그래프', fontsize = 15, pad = 20)\n",
    "\n",
    "# plt.savefig('광진구 미세먼지, 초미세먼지 농도 시간별 평균.png', facecolor = 'white', bbox_inches='tight', pad_inches=0.5)"
   ]
  },
  {
   "cell_type": "markdown",
   "id": "a5789db2",
   "metadata": {},
   "source": [
    "## 5. 벚꽃 개화 시기의 대기오염물질 농도 분석"
   ]
  },
  {
   "cell_type": "markdown",
   "id": "66f126d5",
   "metadata": {},
   "source": [
    "### 벚꽃 시즌(3월 셋째주~4월 둘째주) 분석"
   ]
  },
  {
   "cell_type": "markdown",
   "id": "5e1b8980",
   "metadata": {},
   "source": [
    "##### 3월 셋째주 주말"
   ]
  },
  {
   "cell_type": "code",
   "execution_count": null,
   "id": "19ff2eb7",
   "metadata": {},
   "outputs": [],
   "source": [
    "### 3월 셋째주 토요일 분석\n",
    "\n",
    "blossom_03_03 = pd.merge(blossom_2019_03_03, blossom_2020_03_03, how='left', on='시간')\n",
    "blossom_03_03['총합'] = blossom_03_03['합']+blossom_03_03['합2']\n",
    "blossom_03_03.sort_values(by='총합', ascending=True, inplace=False)\n",
    "\n",
    "# 오전 10시: 총합 96.102"
   ]
  },
  {
   "cell_type": "code",
   "execution_count": null,
   "id": "34a55efb",
   "metadata": {},
   "outputs": [],
   "source": [
    "### 3월 셋째주 일요일 분석\n",
    "\n",
    "blossom_03_03_2 = pd.merge(blossom_2019_03_03_2, blossom_2020_03_03_2, how='left', on='시간')\n",
    "blossom_03_03_2['총합'] = blossom_03_03_2['합']+blossom_03_03_2['합2']\n",
    "blossom_03_03_2.sort_values(by='총합', ascending=True, inplace=False)\n",
    "\n",
    "# 오후 3시: 총합 43.099"
   ]
  },
  {
   "cell_type": "markdown",
   "id": "05997eea",
   "metadata": {},
   "source": [
    "##### 3월 넷째주 주말"
   ]
  },
  {
   "cell_type": "code",
   "execution_count": null,
   "id": "69b2b163",
   "metadata": {},
   "outputs": [],
   "source": [
    "### 3월 넷째주 토요일 분석\n",
    "\n",
    "blossom_03_04 = pd.merge(blossom_2019_03_04, blossom_2020_03_04, how='left', on='시간')\n",
    "blossom_03_04['총합'] = blossom_03_04['합']+blossom_03_04['합2']\n",
    "blossom_03_04.sort_values(by='총합', ascending=True, inplace=False)\n",
    "\n",
    "# 오후 6시: 총합 53.093"
   ]
  },
  {
   "cell_type": "code",
   "execution_count": null,
   "id": "d12eacda",
   "metadata": {},
   "outputs": [],
   "source": [
    "### 3월 넷째주 일요일 분석\n",
    "\n",
    "blossom_03_04_2 = pd.merge(blossom_2019_03_04_2, blossom_2020_03_04_2, how='left', on='시간')\n",
    "blossom_03_04_2['총합'] = blossom_03_04_2['합']+blossom_03_04_2['합2']\n",
    "blossom_03_04_2.sort_values(by='총합', ascending=True, inplace=False)\n",
    "\n",
    "# 오후 5시: 총합 80.101"
   ]
  },
  {
   "cell_type": "markdown",
   "id": "20526299",
   "metadata": {},
   "source": [
    "##### 4월 첫째주 주말"
   ]
  },
  {
   "cell_type": "code",
   "execution_count": null,
   "id": "b0071528",
   "metadata": {},
   "outputs": [],
   "source": [
    "### 4월 첫째주 토요일 분석\n",
    "\n",
    "blossom_04_01 = pd.merge(blossom_2019_04_01, blossom_2020_04_01, how='left', on='시간')\n",
    "blossom_04_01['총합'] = blossom_04_01['합']+blossom_04_01['합2']\n",
    "blossom_04_01.sort_values(by='총합', ascending=True, inplace=False)\n",
    "\n",
    "# 오후 5시: 총합 134.103"
   ]
  },
  {
   "cell_type": "code",
   "execution_count": null,
   "id": "f5a91ca5",
   "metadata": {},
   "outputs": [],
   "source": [
    "### 4월 첫째주 일요일 분석\n",
    "\n",
    "blossom_04_01_2 = pd.merge(blossom_2019_04_01_2, blossom_2020_04_01_2, how='left', on='시간')\n",
    "blossom_04_01_2['총합'] = blossom_04_01_2['합']+blossom_04_01_2['합2']\n",
    "blossom_04_01_2.sort_values(by='총합', ascending=True, inplace=False)\n",
    "\n",
    "# 오후 3시: 총합 110.109"
   ]
  },
  {
   "cell_type": "markdown",
   "id": "acc1900c",
   "metadata": {},
   "source": [
    "##### 4월 둘째주 주말"
   ]
  },
  {
   "cell_type": "code",
   "execution_count": null,
   "id": "51b44e40",
   "metadata": {},
   "outputs": [],
   "source": [
    "### 4월 둘째주 토요일 분석\n",
    "\n",
    "blossom_04_02 = pd.merge(blossom_2019_04_02, blossom_2020_04_02, how='left', on='시간')\n",
    "blossom_04_02['총합'] = blossom_04_02['합']+blossom_04_02['합2']\n",
    "blossom_04_02.sort_values(by='총합', ascending=True, inplace=False)\n",
    "\n",
    "# 오후 6시: 총합 98.126"
   ]
  },
  {
   "cell_type": "code",
   "execution_count": null,
   "id": "70cbb0a2",
   "metadata": {},
   "outputs": [],
   "source": [
    "### 4월 둘째주 일요일 분석\n",
    "\n",
    "blossom_04_02_2 = pd.merge(blossom_2019_04_02_2, blossom_2020_04_02_2, how='left', on='시간')\n",
    "blossom_04_02_2['총합'] = blossom_04_02_2['합']+blossom_04_02_2['합2']\n",
    "blossom_04_02_2.sort_values(by='총합', ascending=True, inplace=False)\n",
    "\n",
    "# 오후 4시: 총합 89.114"
   ]
  },
  {
   "cell_type": "markdown",
   "id": "e57112c0",
   "metadata": {},
   "source": [
    "* 보통 피크닉을 주말 낮에 간다는 점을 고려하여 벚꽃 시즌(3월 셋째주~4월 둘째주)의 각 주 주말의 오전 10시~오후 6시 시간대 중   \n",
    "**대기오염물질 농도 총합이 최소**가 되는 때를 적어 두었습니다.  \n",
    "\n",
    "* 2019년 1년만의 데이터로만 말하기는 부족할 것 같아서 2020년 데이터를 찾아 2019+2020 총합이 가장 낮은 시간대를 알아보았습니다.  \n",
    "\n",
    "* 2019년은 3월이 다섯째주까지 있어 최대한 2020년과 날짜를 맞추기 위해, 2019년 3월 넷째주를 셋째주로, 다섯째주를 넷째주로 생각하였습니다.\n",
    "\n",
    "- 3월 셋째주 주말: 일요일, 오후 3시(2019+2020 총합: 43.099)\n",
    "- 3월 넷째주 주말: 토요일, 오후 6시(2019+2020 총합 53.093)\n",
    "- 4월 첫째주 주말: 일요일, 오후 3시(2019+2020 총합 110.109)\n",
    "- 4월 둘째주 주말: 일요일, 오후 4시(2019+2020 총합 89.114)"
   ]
  },
  {
   "cell_type": "markdown",
   "id": "02aea8e8",
   "metadata": {},
   "source": [
    "# 4. 서초구 <a class=\"anchor\" id=\"4.서초구\"></a>\n",
    "---\n",
    "### 9기 임선민"
   ]
  },
  {
   "cell_type": "markdown",
   "id": "0354ec87",
   "metadata": {},
   "source": [
    "## 서초구 연도별 데이터"
   ]
  },
  {
   "cell_type": "markdown",
   "id": "5175ccb1",
   "metadata": {},
   "source": [
    "- 서초구의 연도별 대기오염물질 농도 추이 관찰\n",
    "- 서울시 연도별 평균 대기오염도 정보 데이터를 사용함"
   ]
  },
  {
   "cell_type": "code",
   "execution_count": null,
   "id": "f5b80912",
   "metadata": {},
   "outputs": [],
   "source": [
    "# 서초구 연도별 데이터 가져오기\n",
    "year = pd.read_csv('/content/drive/MyDrive/DSL/EDA/year.csv', encoding='cp949')\n",
    "s_year = year[year['측정소명'] == '서초구']\n",
    "\n",
    "#불필요한 column 제거\n",
    "s_year = s_year[[\"측정년도\", \"측정소명\", \"이산화질소농도(ppm)\", \"오존농도(ppm)\", \"미세먼지(㎍/㎥)\", \"초미세먼지(㎍/㎥)\"]]\n",
    "\n",
    "# 편의를 위해 열 이름 변경\n",
    "s_year.rename(columns = {\"이산화질소농도(ppm)\":\"NO2\", \"오존농도(ppm)\":\"O3\", \"미세먼지(㎍/㎥)\":\"Dust\", \"초미세먼지(㎍/㎥)\":\"F_dust\"}, inplace=True)\n",
    "s_year.head()\n",
    "\n",
    "print(s_year.shape)\n",
    "print('-' * 10)\n",
    "print(s_year.head(11).isnull().sum())"
   ]
  },
  {
   "cell_type": "code",
   "execution_count": null,
   "id": "a832c9c3",
   "metadata": {},
   "outputs": [],
   "source": [
    "#결측치 보간 -> 대기변수별 평균값으로 결측치를 채워줌.\n",
    "mean_Dust = s_year['Dust'].mean()\n",
    "mean_F_dust = s_year['F_dust'].mean()\n",
    "\n",
    "s_year['Dust'].fillna(mean_Dust, inplace=True)\n",
    "s_year['F_dust'].fillna(mean_F_dust, inplace=True)\n",
    "\n",
    "s_year.isna().sum()"
   ]
  },
  {
   "cell_type": "code",
   "execution_count": null,
   "id": "b0352d40",
   "metadata": {},
   "outputs": [],
   "source": [
    "s_year = s_year[s_year['측정년도'] < 2023]\n",
    "s_year = s_year[s_year['측정년도'] > 2011]\n",
    "s_year"
   ]
  },
  {
   "cell_type": "markdown",
   "id": "3b41b7c6",
   "metadata": {},
   "source": [
    "### 대기오염물질 분석"
   ]
  },
  {
   "cell_type": "code",
   "execution_count": null,
   "id": "8e56b5ce",
   "metadata": {},
   "outputs": [],
   "source": [
    "# 이산화질소, 오존 분석\n",
    "s_year.plot(x='측정년도', y=['NO2', 'O3'], color = col, marker = 'o', figsize=(10, 6))\n",
    "plt.grid(True)\n",
    "plt.ylabel('농도(ppm)')\n",
    "plt.xlabel('측정년도')\n",
    "plt.title('서초구 이산화질소, 오존 농도 추이 (2012~2022)', fontsize = 15, pad = 15)"
   ]
  },
  {
   "cell_type": "code",
   "execution_count": null,
   "id": "251c5c5d",
   "metadata": {},
   "outputs": [],
   "source": [
    "# 미세먼지, 초미세먼지 분석\n",
    "s_year.plot(x='측정년도', y=['Dust', 'F_dust'], color = col,marker = 'o', figsize=(10, 6))\n",
    "plt.grid(True)\n",
    "plt.ylabel('농도(ppm)')\n",
    "plt.xlabel('측정년도')\n",
    "plt.title('서초구 미세먼지, 초미세먼지 농도 추이 (2012~2022)', fontsize = 15, pad = 15)"
   ]
  },
  {
   "cell_type": "markdown",
   "id": "323f410e",
   "metadata": {},
   "source": [
    "#### 월별 합산 분석"
   ]
  },
  {
   "cell_type": "code",
   "execution_count": null,
   "id": "a1906440",
   "metadata": {},
   "outputs": [],
   "source": [
    "# 이산화질소 분석\n",
    "plt.bar(x = s_month['month'], height = s_month['NO2'], color = col)\n",
    "plt.title('서초구 월별 이산화질소 농도', fontsize=15, pad=15)\n",
    "plt.xlabel('month')\n",
    "plt.ylabel('농도(ppm)')\n",
    "\n",
    "plt.plot(s_month['month'], s_month['NO2'], marker = 'o', color = col[0])\n",
    "\n",
    "plt.show()"
   ]
  },
  {
   "cell_type": "code",
   "execution_count": null,
   "id": "715b6c08",
   "metadata": {},
   "outputs": [],
   "source": [
    "# 오존 분석\n",
    "plt.bar(x = s_month['month'], height = s_month['O3'], color = col)\n",
    "plt.title('서초구 월별 오존 농도', fontsize=15, pad=15)\n",
    "plt.xlabel('month')\n",
    "plt.ylabel('농도(ppm)')\n",
    "\n",
    "plt.plot(s_month['month'], s_month['O3'], marker = 'o', color = col[3])\n",
    "\n",
    "plt.show()"
   ]
  },
  {
   "cell_type": "code",
   "execution_count": null,
   "id": "624a15b4",
   "metadata": {},
   "outputs": [],
   "source": [
    "# 미세먼지 분석\n",
    "plt.bar(x = s_month['month'], height = s_month['Dust'], color = col)\n",
    "plt.title('서초구 월별 미세먼지 농도', fontsize=15, pad=15)\n",
    "plt.xlabel('month')\n",
    "plt.ylabel('농도(㎍/㎥)')\n",
    "\n",
    "plt.plot(s_month['month'], s_month['Dust'], marker = 'o', color = col[0])\n",
    "\n",
    "plt.show()"
   ]
  },
  {
   "cell_type": "code",
   "execution_count": null,
   "id": "baa203d9",
   "metadata": {},
   "outputs": [],
   "source": [
    "# 초미세먼지 분석\n",
    "plt.bar(x = s_month['month'], height = s_month['F_dust'], color = col)\n",
    "plt.title('서초구 월별 초미세먼지 농도', fontsize=15, pad=15)\n",
    "plt.xlabel('month')\n",
    "plt.ylabel('농도(㎍/㎥)')\n",
    "\n",
    "plt.plot(s_month['month'], s_month['F_dust'], marker = 'o', color = col[3])\n",
    "\n",
    "plt.show()"
   ]
  },
  {
   "cell_type": "code",
   "execution_count": null,
   "id": "2de3231d",
   "metadata": {},
   "outputs": [],
   "source": [
    "from sklearn.preprocessing import StandardScaler\n",
    "\n",
    "sc = StandardScaler()\n",
    "month_scaled = pd.DataFrame(sc.fit_transform(s_month), index = s_month.index, columns = s_month.columns)\n",
    "month_scaled"
   ]
  },
  {
   "cell_type": "code",
   "execution_count": null,
   "id": "f22679b2",
   "metadata": {},
   "outputs": [],
   "source": [
    "# 합산 분석\n",
    "plt.bar(x = month_scaled.index, height = month_scaled['Sum'], color = col)\n",
    "plt.title('서초구 월별 대기오염물질 농도 (합산)', fontsize=15, pad=15)\n",
    "#plt.grid()\n",
    "plt.rcParams['axes.unicode_minus'] = False\n",
    "plt.xlabel('month')\n",
    "plt.ylabel('농도')\n",
    "plt.show()"
   ]
  },
  {
   "cell_type": "markdown",
   "id": "6072d431",
   "metadata": {},
   "source": [
    "- 벚꽃개화시기 (3~4월)의 미세먼지, 초미세먼지, 이산화질소의 농도는 다른 월별 데이터와 비교해봤을 때, 상대적으로 매우 높은 수치를 보이며, 오존의 농도 또한 3,4월에 점점 증가하는 추세를 보임."
   ]
  },
  {
   "cell_type": "markdown",
   "id": "f9ae30aa",
   "metadata": {},
   "source": [
    "## 서초구 3&4월 요일별 데이터"
   ]
  },
  {
   "cell_type": "markdown",
   "id": "036e3ec6",
   "metadata": {},
   "source": [
    "- 서초구의 요일별 대기오염물질 농도 추이 관찰\n",
    "- 서울시 기간별 일평균 대기환경 정보 데이터를 사용함"
   ]
  },
  {
   "cell_type": "markdown",
   "id": "0deae04c",
   "metadata": {},
   "source": [
    "### 데이터셋 가져오기"
   ]
  },
  {
   "cell_type": "code",
   "execution_count": null,
   "id": "daf23b7a",
   "metadata": {},
   "outputs": [],
   "source": [
    "# 서초구 일평균 데이터 가져오기\n",
    "day = pd.read_csv('/content/drive/MyDrive/DSL/EDA/day.csv', encoding='cp949')\n",
    "day = day[day['측정소명'] == '서초구']\n",
    "\n",
    "#불필요한 column 제거\n",
    "day = day[[\"측정일자\", \"측정소명\", \"이산화질소농도(ppm)\", \"오존(ppm)\", \"미세먼지(㎍/㎥)\", \"초미세먼지(㎍/㎥)\"]]\n",
    "\n",
    "# 편의를 위해 열 이름 변경\n",
    "day.rename(columns = {\"이산화질소농도(ppm)\":\"NO2\", \"오존(ppm)\":\"O3\", \"미세먼지(㎍/㎥)\":\"Dust\", \"초미세먼지(㎍/㎥)\":\"F_dust\"}, inplace=True)\n",
    "\n",
    "print(day.shape)\n",
    "print('-' * 10)\n",
    "print(day.isnull().sum())"
   ]
  },
  {
   "cell_type": "code",
   "execution_count": null,
   "id": "432c29a6",
   "metadata": {},
   "outputs": [],
   "source": [
    "#20220301~20220430 3,4월 데이터 추출하기\n",
    "\n",
    "day = day[(day['측정일자']-20220300) <= 130]\n",
    "day = day[(day['측정일자']-20220300) >= 1]\n",
    "day"
   ]
  },
  {
   "cell_type": "code",
   "execution_count": null,
   "id": "d50a974e",
   "metadata": {},
   "outputs": [],
   "source": [
    "day['day'] = [5, 4, 3, 2, 1, 7, 6] * 8 + [5, 4, 3, 2, 1]\n",
    "day.head()"
   ]
  },
  {
   "cell_type": "code",
   "execution_count": null,
   "id": "4d4b0507",
   "metadata": {},
   "outputs": [],
   "source": [
    "# 요일별 합산 데이터 s_day\n",
    "s_day = day.groupby(['day']).agg({'NO2' : 'mean', 'O3' : 'mean', 'Dust' : 'mean', 'F_dust': 'mean', 'day' : 'mean'})\n",
    "s_day"
   ]
  },
  {
   "cell_type": "code",
   "execution_count": null,
   "id": "7b49b16f",
   "metadata": {},
   "outputs": [],
   "source": [
    "s_day['day'][1] = '월'\n",
    "s_day['day'][2] = '화'\n",
    "s_day['day'][3] = '수'\n",
    "s_day['day'][4] = '목'\n",
    "s_day['day'][5] = '금'\n",
    "s_day['day'][6] = '토'\n",
    "s_day['day'][7] = '일'\n",
    "s_day"
   ]
  },
  {
   "cell_type": "markdown",
   "id": "1a4d810b",
   "metadata": {},
   "source": [
    "### 대기오염물질 농도 분석"
   ]
  },
  {
   "cell_type": "code",
   "execution_count": null,
   "id": "1ef73b91",
   "metadata": {},
   "outputs": [],
   "source": [
    "# 이산화질소 분석\n",
    "plt.bar(x = s_day['day'], height = s_day['NO2'], color = col)\n",
    "plt.title('서초구 요일별 이산화질소 농도', fontsize=15, pad=15)\n",
    "plt.xlabel('day')\n",
    "plt.ylabel('농도(ppm)')\n",
    "\n",
    "plt.plot(s_day['day'], s_day['NO2'], marker = 'o', color = col[0])\n",
    "\n",
    "plt.show()"
   ]
  },
  {
   "cell_type": "code",
   "execution_count": null,
   "id": "f13dea38",
   "metadata": {},
   "outputs": [],
   "source": [
    "# 오존 분석\n",
    "plt.bar(x = s_day['day'], height = s_day['O3'], color = col)\n",
    "plt.title('서초구 요일별 오존 농도', fontsize=15, pad=15)\n",
    "plt.xlabel('day')\n",
    "plt.ylabel('농도(ppm)')\n",
    "\n",
    "plt.plot(s_day['day'], s_day['O3'], marker = 'o', color = col[0])\n",
    "\n",
    "plt.show()"
   ]
  },
  {
   "cell_type": "code",
   "execution_count": null,
   "id": "45b09610",
   "metadata": {},
   "outputs": [],
   "source": [
    "# 미세먼지 분석\n",
    "plt.bar(x = s_day['day'], height = s_day['Dust'], color = col)\n",
    "plt.title('서초구 요일별 미세먼지 농도', fontsize=15, pad=15)\n",
    "plt.xlabel('day')\n",
    "plt.ylabel('농도(㎍/㎥)')\n",
    "\n",
    "plt.plot(s_day['day'], s_day['Dust'], marker = 'o', color = col[0])\n",
    "\n",
    "plt.show()"
   ]
  },
  {
   "cell_type": "code",
   "execution_count": null,
   "id": "2f6c9fc7",
   "metadata": {},
   "outputs": [],
   "source": [
    "# 초미세먼지 분석\n",
    "plt.bar(x = s_day['day'], height = s_day['F_dust'], color = col)\n",
    "plt.title('서초구 요일별 초미세먼지 농도', fontsize=15, pad=15)\n",
    "plt.xlabel('day')\n",
    "plt.ylabel('농도(㎍/㎥)')\n",
    "\n",
    "plt.plot(s_day['day'], s_day['F_dust'], marker = 'o', color = col[0])\n",
    "\n",
    "plt.show()"
   ]
  },
  {
   "cell_type": "code",
   "execution_count": null,
   "id": "1545cec5",
   "metadata": {},
   "outputs": [],
   "source": [
    "from sklearn.preprocessing import StandardScaler\n",
    "\n",
    "sc = StandardScaler()\n",
    "day_scaled = pd.DataFrame(sc.fit_transform(s_day), index = s_day.index, columns = s_day.columns)\n",
    "day_scaled"
   ]
  },
  {
   "cell_type": "code",
   "execution_count": null,
   "id": "0fbf3ea8",
   "metadata": {},
   "outputs": [],
   "source": [
    "day_scaled['Sum'] = day_scaled['Dust']+day_scaled['F_dust']+day_scaled['NO2']+day_scaled['O3']"
   ]
  },
  {
   "cell_type": "code",
   "execution_count": null,
   "id": "368aade8",
   "metadata": {},
   "outputs": [],
   "source": [
    "hi = pd.DataFrame({'day':[1,2,3,4,5,6,7], 'date' : ['월', '화','수','목','금','토','일',]})\n",
    "#hi = hi.set_index(keys=['day'], inplace=False, drop=False)\n",
    "hi"
   ]
  },
  {
   "cell_type": "code",
   "execution_count": null,
   "id": "16e73f85",
   "metadata": {},
   "outputs": [],
   "source": [
    "day_scaled = pd.merge(hi, day_scaled, on=\"day\")"
   ]
  },
  {
   "cell_type": "code",
   "execution_count": null,
   "id": "7d7488c8",
   "metadata": {},
   "outputs": [],
   "source": [
    "# 합산 분석\n",
    "plt.bar(x = day_scaled['date'], height = day_scaled['Sum'], color = col)\n",
    "plt.title('서초구 요일별 대기오염물질 농도 (합산)', fontsize=15, pad=15)\n",
    "#plt.grid()\n",
    "plt.rcParams['axes.unicode_minus'] = False\n",
    "plt.xlabel('day')\n",
    "plt.ylabel('농도')\n",
    "plt.show()"
   ]
  },
  {
   "cell_type": "markdown",
   "id": "9692f858",
   "metadata": {},
   "source": [
    "- 미세먼지: 화 > 수 > 월 > 금 > 목 > 일 > 토 -> 주말에 낮은 수치를 보임.\n",
    "- 초미세먼지: 화 > 월 > 일 > 수 > 목 > 금 > 토 -> 금, 토에 높은 수치를 보이고, 일, 월에 낮은 수피를 보임. 미세먼지와 비슷한 경향성.\n",
    "- NO2: 일 > 목 > 수 > 화 > 월 > 금 > 토 -> 주중에 높은 수치를 보이고, 주말에 상대적으로 낮아짐.\n",
    "- O3: 토 > 금 > 목 > 월 > 수 > 일 > 화 -> NO2와 대체로 반대의 경향성을 보임. 토요일에 높은 수치를 보임.\n",
    "\n",
    "--> 합산: 서초구 3&4월 한강 피크닉은 토요일을 강추!!"
   ]
  },
  {
   "cell_type": "markdown",
   "id": "553150bb",
   "metadata": {},
   "source": [
    "## 서초구 3&4월 시간별 데이터"
   ]
  },
  {
   "cell_type": "markdown",
   "id": "d738edeb",
   "metadata": {},
   "source": [
    "- 서초구의 시간별 대기오염물질 농도 추이 관찰\n",
    "- 서울시 기간별 시간평균 대기환경 정보 데이터를 사용함"
   ]
  },
  {
   "cell_type": "code",
   "execution_count": null,
   "id": "3ccec307",
   "metadata": {},
   "outputs": [],
   "source": [
    "# 서초구 2019년 일평균 데이터 가져오기\n",
    "time_2019 = pd.read_csv('/content/drive/MyDrive/DSL/EDA/2019_time.csv')\n",
    "time_2019 = time_2019[time_2019['측정소명'] == '서초구']\n",
    "\n",
    "#불필요한 column 제거\n",
    "time_2019 = time_2019[[\"측정일시\", \"측정소명\", \"이산화질소농도(ppm)\", \"오존(ppm)\", \"미세먼지 24시간(㎍/㎥)\", \"초미세먼지(㎍/㎥)\"]]\n",
    "\n",
    "# 편의를 위해 열 이름 변경\n",
    "time_2019.rename(columns = {\"이산화질소농도(ppm)\":\"NO2\", \"오존(ppm)\":\"O3\", \"미세먼지 24시간(㎍/㎥)\":\"Dust\", \"초미세먼지(㎍/㎥)\":\"F_dust\"}, inplace=True)\n",
    "\n",
    "print(time_2019.shape)\n",
    "print('-' * 10)\n",
    "print(time_2019.isnull().sum())\n",
    "print('-' * 10)\n",
    "time_2019.head()"
   ]
  },
  {
   "cell_type": "code",
   "execution_count": null,
   "id": "58353796",
   "metadata": {},
   "outputs": [],
   "source": [
    "# 서초구 2019년 3&4월 데이터\n",
    "time_2019 = time_2019[time_2019['측정일시'] >= 201903010000]\n",
    "time_2019 = time_2019[time_2019['측정일시'] <= 201904302300]\n",
    "time_2019.sort_values(by=['측정일시'], ascending=True, inplace=True)\n",
    "time_2019"
   ]
  },
  {
   "cell_type": "code",
   "execution_count": null,
   "id": "aa897885",
   "metadata": {},
   "outputs": [],
   "source": [
    "time_2019.isna().sum()"
   ]
  },
  {
   "cell_type": "code",
   "execution_count": null,
   "id": "b4a27f52",
   "metadata": {},
   "outputs": [],
   "source": [
    "time_2020_3 = pd.read_csv('/content/drive/MyDrive/DSL/EDA/2020_03_time.csv', encoding='cp949')\n",
    "time_2020_3 = time_2020_3[time_2020_3['측정소명'] == '서초구']\n",
    "\n",
    "#불필요한 column 제거\n",
    "time_2020_3 = time_2020_3[[\"측정일시\", \"측정소명\", \"이산화질소농도(ppm)\", \"오존(ppm)\", \"미세먼지 24시간(㎍/㎥)\", \"초미세먼지(㎍/㎥)\"]]\n",
    "\n",
    "# 편의를 위해 열 이름 변경\n",
    "time_2020_3.rename(columns = {\"이산화질소농도(ppm)\":\"NO2\", \"오존(ppm)\":\"O3\", \"미세먼지 24시간(㎍/㎥)\":\"Dust\", \"초미세먼지(㎍/㎥)\":\"F_dust\"}, inplace=True)\n",
    "\n",
    "print(time_2020_3.shape)\n",
    "print('-' * 10)\n",
    "print(time_2020_3.isnull().sum())\n",
    "print('-' * 10)\n",
    "time_2020_3.head()"
   ]
  },
  {
   "cell_type": "code",
   "execution_count": null,
   "id": "2a6a0d1b",
   "metadata": {},
   "outputs": [],
   "source": [
    "time_2020_4 = pd.read_csv('/content/drive/MyDrive/DSL/EDA/2020_04_time.csv', encoding='cp949')\n",
    "time_2020_4 = time_2020_4[time_2020_4['측정소명'] == '서초구']\n",
    "\n",
    "#불필요한 column 제거\n",
    "time_2020_4 = time_2020_4[[\"측정일시\", \"측정소명\", \"이산화질소농도(ppm)\", \"오존(ppm)\", \"미세먼지 24시간(㎍/㎥)\", \"초미세먼지(㎍/㎥)\"]]\n",
    "\n",
    "# 편의를 위해 열 이름 변경\n",
    "time_2020_4.rename(columns = {\"이산화질소농도(ppm)\":\"NO2\", \"오존(ppm)\":\"O3\", \"미세먼지 24시간(㎍/㎥)\":\"Dust\", \"초미세먼지(㎍/㎥)\":\"F_dust\"}, inplace=True)\n",
    "\n",
    "print(time_2020_4.shape)\n",
    "print('-' * 10)\n",
    "print(time_2020_4.isnull().sum())\n",
    "print('-' * 10)\n",
    "time_2020_4.head()"
   ]
  },
  {
   "cell_type": "code",
   "execution_count": null,
   "id": "57022082",
   "metadata": {},
   "outputs": [],
   "source": [
    "# 서초구 2020년 3&4월 데이터\n",
    "time_2020 = pd.concat([time_2020_3, time_2020_4])\n",
    "time_2020"
   ]
  },
  {
   "cell_type": "code",
   "execution_count": null,
   "id": "f759524b",
   "metadata": {},
   "outputs": [],
   "source": [
    "time_2020.isna().sum()"
   ]
  },
  {
   "cell_type": "code",
   "execution_count": null,
   "id": "4747363d",
   "metadata": {},
   "outputs": [],
   "source": [
    "# 서초구 2019년 & 2020년 3&4월 데이터 합치기\n",
    "s_time = pd.concat([time_2019, time_2020])\n",
    "s_time"
   ]
  },
  {
   "cell_type": "code",
   "execution_count": null,
   "id": "4387d006",
   "metadata": {},
   "outputs": [],
   "source": [
    "# datetime 적용하기\n",
    "s_time['측정일시'] = s_time.apply(lambda row: datetime.strptime(str(row['측정일시']), '%Y%m%d%H%M'), axis = 1)\n",
    "s_time.head(10)"
   ]
  },
  {
   "cell_type": "code",
   "execution_count": null,
   "id": "d125ea9c",
   "metadata": {},
   "outputs": [],
   "source": [
    "s_time['월'] = s_time['측정일시'].dt.month\n",
    "s_time.head(10)"
   ]
  },
  {
   "cell_type": "code",
   "execution_count": null,
   "id": "59e55a6c",
   "metadata": {},
   "outputs": [],
   "source": [
    "### 요일 알아내기\n",
    "# 0: 월요일, 1: 화요일, 2: 수요일, 3: 목요일, 4: 금요일, 5: 토요일, 6: 일요일\n",
    "\n",
    "s_time['요일'] = s_time['측정일시'].dt.weekday\n",
    "s_time.head()"
   ]
  },
  {
   "cell_type": "code",
   "execution_count": null,
   "id": "886dfbbd",
   "metadata": {},
   "outputs": [],
   "source": [
    "s_time['시간'] = s_time['측정일시'].dt.time\n",
    "s_time.head(10)"
   ]
  },
  {
   "cell_type": "code",
   "execution_count": null,
   "id": "890cb129",
   "metadata": {},
   "outputs": [],
   "source": [
    "s_time_sat = s_time[s_time['요일']==5]\n",
    "s_time_sat"
   ]
  },
  {
   "cell_type": "code",
   "execution_count": null,
   "id": "977770d3",
   "metadata": {},
   "outputs": [],
   "source": [
    "s_time_sat['time'] = s_time_sat['측정일시'].dt.hour\n",
    "s_time_sat.head(10)"
   ]
  },
  {
   "cell_type": "code",
   "execution_count": null,
   "id": "4ef1198d",
   "metadata": {},
   "outputs": [],
   "source": [
    "time_avg = s_time_sat.groupby(['시간']).agg({'NO2' : 'mean', 'O3' : 'mean', 'Dust' : 'mean', 'F_dust': 'mean', 'time' : 'mean'})\n",
    "time_avg"
   ]
  },
  {
   "cell_type": "code",
   "execution_count": null,
   "id": "19e0ce00",
   "metadata": {},
   "outputs": [],
   "source": [
    "time_avg = time_avg[time_avg['time'] >= 10.0]\n",
    "time_avg = time_avg[time_avg['time'] <= 21.0]\n",
    "time_avg"
   ]
  },
  {
   "cell_type": "code",
   "execution_count": null,
   "id": "37e2038d",
   "metadata": {},
   "outputs": [],
   "source": [
    "time_avg.index=[0,1,2,3,4,5,6,7,8,9,10,11]\n",
    "time_avg"
   ]
  },
  {
   "cell_type": "code",
   "execution_count": null,
   "id": "17aae658",
   "metadata": {},
   "outputs": [],
   "source": [
    "range = pd.DataFrame({'range':['A', 'A', 'A', 'A', 'B', 'B', 'B', 'B', 'C', 'C','C','C'], 'time': [10.0, 11.0, 12.0, 13.0, 14.0, 15.0, 16.0, 17.0, 18.0, 19.0, 20.0, 21.0]}, )\n",
    "range\n",
    "#hi = hi.set_index(keys=['day'], inplace=False, drop=False)\n",
    "time_avg = pd.merge(time_avg, range)\n",
    "time_avg"
   ]
  },
  {
   "cell_type": "code",
   "execution_count": null,
   "id": "5de244e8",
   "metadata": {},
   "outputs": [],
   "source": [
    "# A: 10시 ~ 13시 // B: 14시 ~ 17시 // C: 18시 ~ 21시\n",
    "\n",
    "time_avg = time_avg.groupby(['range']).agg({'NO2' : 'mean', 'O3' : 'mean', 'Dust' : 'mean', 'F_dust': 'mean', 'time' : 'mean'})\n",
    "time_avg"
   ]
  },
  {
   "cell_type": "markdown",
   "id": "029df2dc",
   "metadata": {},
   "source": [
    "### 대기오염물질 분석"
   ]
  },
  {
   "cell_type": "code",
   "execution_count": null,
   "id": "7917071b",
   "metadata": {},
   "outputs": [],
   "source": [
    "# 이산화질소 분석\n",
    "plt.bar(x = time_avg.index, height = time_avg['NO2'], color = col)\n",
    "plt.title('서초구 토요일 시간대별 이산화질소 농도', fontsize=15, pad=15)\n",
    "plt.xlabel('시간대')\n",
    "plt.ylabel('농도(ppm)')\n",
    "\n",
    "plt.show()"
   ]
  },
  {
   "cell_type": "markdown",
   "id": "e1c0d001",
   "metadata": {},
   "source": [
    "### 시간별 합산 분석"
   ]
  },
  {
   "cell_type": "code",
   "execution_count": null,
   "id": "00406f5d",
   "metadata": {},
   "outputs": [],
   "source": [
    "from sklearn.preprocessing import StandardScaler\n",
    "\n",
    "sc = StandardScaler()\n",
    "time_scaled = pd.DataFrame(sc.fit_transform(time_avg), index = time_avg.index, columns = time_avg.columns)\n",
    "time_scaled"
   ]
  },
  {
   "cell_type": "code",
   "execution_count": null,
   "id": "ccf4a613",
   "metadata": {},
   "outputs": [],
   "source": [
    "time_scaled['Sum'] = time_scaled['Dust']+time_scaled['F_dust']+time_scaled['NO2']+time_scaled['O3']"
   ]
  },
  {
   "cell_type": "code",
   "execution_count": null,
   "id": "2b50b7cf",
   "metadata": {},
   "outputs": [],
   "source": [
    "# 합산 분석\n",
    "plt.bar(x = s_time_sat['time'], height = s_time_sat['sum'], color = col)\n",
    "plt.title('서초구 토요일 시간별 대기오염물질 농도', fontsize=15, pad=15)\n",
    "#plt.grid()\n",
    "plt.rcParams['axes.unicode_minus'] = False\n",
    "plt.xlabel('time')\n",
    "plt.ylabel('농도')\n",
    "plt.show()"
   ]
  },
  {
   "cell_type": "markdown",
   "id": "7916a9b2",
   "metadata": {},
   "source": [
    "# 5. 마포구 <a class=\"anchor\" id=\"5.마포구\"></a>\n",
    "---\n",
    "### 9기 조의현"
   ]
  },
  {
   "cell_type": "markdown",
   "id": "c981904a",
   "metadata": {},
   "source": [
    "**1. 요일별 마포구 미세먼지 등급 발령 횟수, barplot, piechart** <br>\n",
    "출처: pandas.DataFrame.apply.html, matplotlib.pyplot.subplots_adjust.html"
   ]
  },
  {
   "cell_type": "code",
   "execution_count": null,
   "id": "a968f740",
   "metadata": {},
   "outputs": [],
   "source": [
    "# datetime 변수를 요일변수로 할당\n",
    "\n",
    "week = ['월', '화', '수', '목', '금', '토', '일']\n",
    "\n",
    "df['요일'] = df.apply(lambda row: week[datetime.date(row['측정일시']).weekday()], axis = 1)"
   ]
  },
  {
   "cell_type": "code",
   "execution_count": null,
   "id": "24d1844e",
   "metadata": {},
   "outputs": [],
   "source": [
    "df_al = df[df['dust'] >= 81]\n",
    "days = df_al.groupby(['요일']).agg({'dust' : 'count'}).reset_index()\n",
    "days "
   ]
  },
  {
   "cell_type": "code",
   "execution_count": null,
   "id": "0ab8515d",
   "metadata": {},
   "outputs": [],
   "source": [
    "fig, axes = plt.subplots(2, 1, figsize=(8,12))\n",
    "\n",
    "sns.barplot(ax = axes[0], x = days['요일'],\n",
    "            y = days['dust'], palette = col).set_title('요일별 마포구 미세먼지 등급 발령', size = 20)\n",
    "axes[0].axis([-0.5, 6.5, 80, 200])\n",
    "axes[1].pie(labels = days['요일'], x = days['dust'],\n",
    "            colors = col, textprops = {'fontsize' : 12}, autopct = \"%.2f%%\")\n",
    "plt.title('요일별 마포구 미세먼지 등급 발령', size = 16)\n",
    "plt.subplots_adjust(left = 0.125, bottom = 0.1,  right = 0.9, top = 0.9, wspace = 0.2, hspace = 0.35)\n",
    "plt.show()"
   ]
  },
  {
   "cell_type": "markdown",
   "id": "005c74d0",
   "metadata": {},
   "source": [
    "**2. 미세먼지가 가장 심한 날짜시간 Top 10**"
   ]
  },
  {
   "cell_type": "markdown",
   "id": "4004a006",
   "metadata": {},
   "source": [
    "**미세먼지가 심한 날 Top 10 중 3월 5일이 2번, 3월 4일이 6번 있는 등 미세먼지가 심한 시간이 몰려서 있는 밀집현상을 보이고 있습니다.**"
   ]
  },
  {
   "cell_type": "code",
   "execution_count": null,
   "id": "60a58419",
   "metadata": {},
   "outputs": [],
   "source": [
    "# 미세먼지가 가장 심한 날 Top 10\n",
    "\n",
    "plt.figure(figsize = (12, 8))\n",
    "\n",
    "dust_srt = df.sort_values('dust', ascending = False)\n",
    "sns.barplot(x = dust_srt['dust'][:10], y = dust_srt['측정일시'][:10].apply(lambda x : x.strftime('%m월%d일-%H시')), palette = col)\n",
    "plt.axis([180, 250, 9.5, - 0.5])\n",
    "plt.show()"
   ]
  },
  {
   "cell_type": "markdown",
   "id": "daa52b72",
   "metadata": {},
   "source": [
    "**미세먼지 심한 시간대 top 100 중에서 총 13일로 집중되어 있는 집중현상을 발견 가능합니다.**"
   ]
  },
  {
   "cell_type": "code",
   "execution_count": null,
   "id": "0354a5f2",
   "metadata": {},
   "outputs": [],
   "source": [
    "# 미세먼지 심한 날이 얼마나 뭉쳐있는지 확인\n",
    "\n",
    "top_100 = dust_srt.iloc[:100, :]\n",
    "top_100['day'] = top_100.apply(lambda row: row['측정일시'].strftime('%m%d'), axis = 1)\n",
    "\n",
    "tp = top_100.groupby(['day']).agg({'dust' : 'count'}).reset_index()\n",
    "tp = tp.sort_values('dust', ascending = False)\n",
    "\n",
    "print('# of days in top-100: ', len(tp['day']), '일')\n",
    "print('-' * 10)\n",
    "\n",
    "plt.figure(figsize = (12, 9))\n",
    "\n",
    "sns.barplot(x = tp['day'], y = tp['dust'],\n",
    "            palette = col)\n",
    "plt.title('미세먼지 경보 발령 횟수', fontsize = 20)\n",
    "plt.show()"
   ]
  },
  {
   "cell_type": "markdown",
   "id": "9e987c09",
   "metadata": {},
   "source": [
    "**3. 미세먼지 경보 발령 시간대**"
   ]
  },
  {
   "cell_type": "code",
   "execution_count": null,
   "id": "c70d45fa",
   "metadata": {},
   "outputs": [],
   "source": [
    "df_month = df[df['dust'] >= 81]\n",
    "df_month['time'] = df_month.apply(lambda row: row['측정일시'].strftime('%H'), axis = 1)\n",
    "\n",
    "df_t = df_month.groupby(['time']).agg({'dust' : 'count'}).reset_index()\n",
    "df_t"
   ]
  },
  {
   "cell_type": "code",
   "execution_count": null,
   "id": "67e6ab79",
   "metadata": {},
   "outputs": [],
   "source": [
    "plt.figure(figsize = (8, 6))\n",
    "\n",
    "sns.lineplot(x = df_t['time'], y = df_t['dust'],\n",
    "            marker = 'o')\n",
    "\n",
    "plt.show()"
   ]
  },
  {
   "cell_type": "markdown",
   "id": "46b8e5bb",
   "metadata": {},
   "source": [
    "# 6. 영등포구 <a class=\"anchor\" id=\"6.영등포구\"></a>\n",
    "---\n",
    "### 9기 조세린"
   ]
  },
  {
   "cell_type": "markdown",
   "id": "76fd139e",
   "metadata": {},
   "source": [
    "## **1. 영등포구 연도별 분석**"
   ]
  },
  {
   "cell_type": "code",
   "execution_count": null,
   "id": "d98eb124",
   "metadata": {},
   "outputs": [],
   "source": [
    "year=pd.read_csv('서울시 년도별 평균 대기오염도 정보_최종.csv',encoding='cp949')"
   ]
  },
  {
   "cell_type": "code",
   "execution_count": null,
   "id": "cad37f32",
   "metadata": {},
   "outputs": [],
   "source": [
    "#전체 데이터 결측치 확인\n",
    "year.isna().sum()"
   ]
  },
  {
   "cell_type": "code",
   "execution_count": null,
   "id": "30c09576",
   "metadata": {},
   "outputs": [],
   "source": [
    "#칼럼 이름 변경\n",
    "year=year.rename(columns={'측정년도':'year','미세먼지(㎍/㎥)':'dust','이산화질소농도(ppm)':'no2','초미세먼지(㎍/㎥)':'fdust',\n",
    "                          '아황산가스(ppm)':'so2','오존농도(ppm)':'o3','이산화질소농도(ppm)':'no2','일산화탄소농도(ppm)':'co'})"
   ]
  },
  {
   "cell_type": "code",
   "execution_count": null,
   "id": "eece7f47",
   "metadata": {},
   "outputs": [],
   "source": [
    "#결측치 보간 (전체 데이터)\n",
    "\n",
    "#no2, o3 : 평균으로 보간\n",
    "year_df1=year[['no2','o3','year']]\n",
    "year_df1=year_df1.fillna(year_df1.mean())"
   ]
  },
  {
   "cell_type": "code",
   "execution_count": null,
   "id": "d98fb3dc",
   "metadata": {},
   "outputs": [],
   "source": [
    "#전체 데이터 : 년도별로 groupby\n",
    "year_df01=year_df1.groupby(by='year').mean()\n",
    "year_df02=year_df2.groupby(by='year').mean()"
   ]
  },
  {
   "cell_type": "code",
   "execution_count": null,
   "id": "ee7d040a",
   "metadata": {},
   "outputs": [],
   "source": [
    "# dust, fdust : 최근 10년치 데이터만 추출 / 최근 10년간은 결측치 없음\n",
    "year_df2=year[['dust','fdust','year']]\n",
    "year_df2=year_df2.loc[year_df2['year']>=2013]\n",
    "year_df2.isna().sum()"
   ]
  },
  {
   "cell_type": "code",
   "execution_count": null,
   "id": "59c32f2d",
   "metadata": {},
   "outputs": [],
   "source": [
    "#영등포구 데이터 추출\n",
    "year_231=year.loc[year['측정소명']=='영등포구']"
   ]
  },
  {
   "cell_type": "code",
   "execution_count": null,
   "id": "ec696f84",
   "metadata": {},
   "outputs": [],
   "source": [
    "#영등포구 데이터 결측치 확인\n",
    "year_231.isna().sum()"
   ]
  },
  {
   "cell_type": "code",
   "execution_count": null,
   "id": "eedf2119",
   "metadata": {},
   "outputs": [],
   "source": [
    "#필요한 데이터만 가져오기\n",
    "year_231=year_231[['year','no2','o3','dust','fdust']]"
   ]
  },
  {
   "cell_type": "code",
   "execution_count": null,
   "id": "db148e0b",
   "metadata": {},
   "outputs": [],
   "source": [
    "#측정년도 인덱스화\n",
    "year_231_df=year_231.set_index('year',drop=False)\n",
    "year_231_df"
   ]
  },
  {
   "cell_type": "code",
   "execution_count": null,
   "id": "6a20de60",
   "metadata": {},
   "outputs": [],
   "source": [
    "#영등포구 결측치 보간 :no2, o3 /평균으로 제거\n",
    "year_231_df1=year_231_df[['no2','o3','year']]\n",
    "year_231_df1=year_231_df1.fillna(year_df1.mean())"
   ]
  },
  {
   "cell_type": "code",
   "execution_count": null,
   "id": "79a765ab",
   "metadata": {},
   "outputs": [],
   "source": [
    "#영등포구 결측치 보간 : 미세먼지, 초미세먼지 / 최근 10년간 데이터만 추출\n",
    "year_231_df2=year_231_df[['dust','fdust','year']]\n",
    "year_231_df2=year_231_df2.loc[year_231_df2['year']>=2013]\n",
    "year_231_df2.isna().sum()"
   ]
  },
  {
   "cell_type": "markdown",
   "id": "442d1f99",
   "metadata": {},
   "source": [
    "## 데이터셋 요약 \n",
    "### 1.연도별 분석\n",
    "#### -사용한 데이터셋 : 서울시 년도별 평균 대기오염도 정보 (1994~2023)\n",
    "#### -목적 : 서울시 전체 데이터와 비교하여 영등포구의 대기오염도 정도 파악\n",
    "\n",
    "### >결측치 보간 \n",
    "#### -이산화질소, 오존 : 평균으로 보간\n",
    "#### -미세먼지, 초미세먼지 : 결측치가 많아 평균으로 보간하긴 어려움+특정 시기 이전엔 결측치가 많음 => 2013~2023년 10년 간의 데이터만 이용\n"
   ]
  },
  {
   "cell_type": "code",
   "execution_count": null,
   "id": "24030bdc",
   "metadata": {},
   "outputs": [],
   "source": [
    "#연도별 영등포구 대기환경 변화 : no2, o3\n",
    "year_231_df1[['no2','o3']].plot(figsize=(10,6),color=col).autoscale(axis='x',tight=True)"
   ]
  },
  {
   "cell_type": "code",
   "execution_count": null,
   "id": "3b57f2ee",
   "metadata": {},
   "outputs": [],
   "source": [
    "#연도별 영등포구 대기환경 변화 : 미세먼지, 초미세먼지\n",
    "year_231_df2[['dust','fdust']].plot(figsize=(10,6),color=col).autoscale(axis='x',tight=True)"
   ]
  },
  {
   "cell_type": "markdown",
   "id": "905635a3",
   "metadata": {},
   "source": [
    "## **2. 영등포구 월별 분석**"
   ]
  },
  {
   "cell_type": "code",
   "execution_count": null,
   "id": "c8e00988",
   "metadata": {},
   "outputs": [],
   "source": [
    "month=pd.read_csv('서울시 월별 평균 대기오염도 정보_최종.csv',encoding='cp949')"
   ]
  },
  {
   "cell_type": "markdown",
   "id": "76645eee",
   "metadata": {},
   "source": [
    "## 데이터셋 요약 \n",
    "### 2.월별 분석\n",
    "#### -사용한 데이터셋 : 서울시 월별 평균 대기오염도 정보 (1994~2023)\n",
    "#### -목적 : 영등포구 내, 3-4월 기간과 1년 평균 비교\n",
    "\n",
    "### >결측치 보간 \n",
    "#### -이산화질소, 오존 : 평균으로 보간\n",
    "#### -미세먼지, 초미세먼지 : 결측치가 많아 평균으로 보간하긴 어려움+특정 시기 이전엔 결측치가 많음 => 2013~2023년 3년 간의 데이터만 이용\n"
   ]
  },
  {
   "cell_type": "code",
   "execution_count": null,
   "id": "7906ff96",
   "metadata": {},
   "outputs": [],
   "source": [
    "col=['#6B4E24','#EECA98','#EBAA4F','#6B5B45','#B8853E','#AB891A','#6B5610','#EBBC23','#F7B50F']\n",
    "#이산화질소와 오존 월별 추세\n",
    "month_231_df01[['no2','o3']].plot(figsize=(10,6),color=col).autoscale(axis='x',tight=True)\n",
    "\n",
    "#계절성을 나타내는 것 같음 : 계절별 데이터와 비교"
   ]
  },
  {
   "cell_type": "code",
   "execution_count": null,
   "id": "eb01ff03",
   "metadata": {},
   "outputs": [],
   "source": [
    "#3,4월 데이터 구분\n",
    "month_231_df01_0304=month_231_df01.loc[['03','04']]\n",
    "month_231_df01_12=month_231_df01.loc[['01','02','05','06','07','08','09','10','11','12']]\n",
    "month_231_df01_0304_no2=month_231_df01_0304['no2']\n",
    "month_231_df01_0304_o3=month_231_df01_0304['o3']\n",
    "month_231_df01_12_no2=month_231_df01_12['no2']\n",
    "month_231_df01_12_o3=month_231_df01_12['o3']"
   ]
  },
  {
   "cell_type": "markdown",
   "id": "366c6f72",
   "metadata": {},
   "source": [
    "#### no2"
   ]
  },
  {
   "cell_type": "code",
   "execution_count": null,
   "id": "90217b63",
   "metadata": {},
   "outputs": [],
   "source": [
    "sns.kdeplot(data=month_231_df01_0304_no2, color=\"red\", shade=True)\n",
    "sns.kdeplot(data=month_231_df01_12_no2, color=\"blue\", shade=True)\n",
    "plt.show()\n",
    "#등분산 X"
   ]
  },
  {
   "cell_type": "code",
   "execution_count": null,
   "id": "5151c130",
   "metadata": {},
   "outputs": [],
   "source": [
    "from scipy.stats import levene\n",
    "levene(month_231_df01_0304_no2,month_231_df01_12_no2)\n",
    "#등분산O"
   ]
  },
  {
   "cell_type": "code",
   "execution_count": null,
   "id": "b0c0e4d7",
   "metadata": {},
   "outputs": [],
   "source": [
    "from scipy import stats\n",
    "\n",
    "month_no2=stats.ttest_ind(month_231_df01_0304_no2,month_231_df01_12_no2,equal_var=True,alternative=\"two-sided\")\n",
    "month_no2\n",
    "# p-value > 0.05 : 벚꽃 시즌과 비벚꽃시즌에 유의미한 차이가 없음"
   ]
  },
  {
   "cell_type": "markdown",
   "id": "e9f9829f",
   "metadata": {},
   "source": [
    "#### o3"
   ]
  },
  {
   "cell_type": "code",
   "execution_count": null,
   "id": "7b3909cd",
   "metadata": {},
   "outputs": [],
   "source": [
    "sns.kdeplot(data=month_231_df01_0304_o3, color=\"red\", shade=True)\n",
    "sns.kdeplot(data=month_231_df01_12_o3, color=\"blue\", shade=True)\n",
    "plt.show()\n",
    "#등분산 x"
   ]
  },
  {
   "cell_type": "code",
   "execution_count": null,
   "id": "9282e968",
   "metadata": {},
   "outputs": [],
   "source": [
    "from scipy.stats import levene\n",
    "levene(month_231_df01_0304_o3,month_231_df01_12_o3)\n",
    "#등분산O"
   ]
  },
  {
   "cell_type": "code",
   "execution_count": null,
   "id": "95ae3f22",
   "metadata": {},
   "outputs": [],
   "source": [
    "from scipy import stats\n",
    "\n",
    "month_no2=stats.ttest_ind(month_231_df01_0304_o3,month_231_df01_12_o3,equal_var=True,alternative=\"two-sided\")\n",
    "month_no2\n",
    "#p-value > 0.05 : 벚꽃 시즌과 비벚꽃 시즌에 유의미한 차이가 없음"
   ]
  },
  {
   "cell_type": "markdown",
   "id": "070f4eba",
   "metadata": {},
   "source": [
    "### 미세먼지, 초미세먼지"
   ]
  },
  {
   "cell_type": "code",
   "execution_count": null,
   "id": "82f23a02",
   "metadata": {},
   "outputs": [],
   "source": [
    "#결측치 보간\n",
    "month_231_df02=month_231_df02.fillna(month_231_df02.mean())#no2, o3는 평균값으로\n",
    "month_231_df02"
   ]
  },
  {
   "cell_type": "code",
   "execution_count": null,
   "id": "b8e2f24d",
   "metadata": {},
   "outputs": [],
   "source": [
    "# 월별 그룹화\n",
    "month_231_df02=month_231_df02.groupby(['month']).mean()\n",
    "month_231_df02"
   ]
  },
  {
   "cell_type": "code",
   "execution_count": null,
   "id": "19f1b881",
   "metadata": {},
   "outputs": [],
   "source": [
    "month_231_df020=month_231_df02.reset_index()\n",
    "month_231_df020"
   ]
  },
  {
   "cell_type": "code",
   "execution_count": null,
   "id": "06df49fc",
   "metadata": {},
   "outputs": [],
   "source": [
    "#월별 미세먼지 농도\n",
    "sns.barplot(data = month_231_df020 , x = 'month', y = 'dust',palette = col)\n",
    "plt.show()"
   ]
  },
  {
   "cell_type": "code",
   "execution_count": null,
   "id": "5e1475bd",
   "metadata": {},
   "outputs": [],
   "source": [
    "#월별 초미세먼지 농도\n",
    "sns.barplot(data = month_231_df020 , x = 'month', y = 'fdust',palette = col)\n",
    "plt.show()"
   ]
  },
  {
   "cell_type": "code",
   "execution_count": null,
   "id": "e146e868",
   "metadata": {},
   "outputs": [],
   "source": [
    "col=['#6B4E24','#EECA98','#EBAA4F','#6B5B45','#B8853E','#AB891A','#6B5610','#EBBC23','#F7B50F']\n",
    "#미세먼지와 초미세먼지 월별 추세\n",
    "month_231_df02[['dust','fdust']].plot(figsize=(10,6),color=col).autoscale(axis='x',tight=True)\n",
    "#계절성 확인"
   ]
  },
  {
   "cell_type": "markdown",
   "id": "2f41b950",
   "metadata": {},
   "source": [
    "## **3. 영등포구 요일별 분석**"
   ]
  },
  {
   "cell_type": "code",
   "execution_count": null,
   "id": "c49a1cd4",
   "metadata": {},
   "outputs": [],
   "source": [
    "day=pd.read_csv('서울시 기간별 일평균 대기환경 정보_최종.csv',encoding='cp949')"
   ]
  },
  {
   "cell_type": "code",
   "execution_count": null,
   "id": "47722ba0",
   "metadata": {},
   "outputs": [],
   "source": [
    "#칼럼이름 변경\n",
    "day=day.rename(columns={'미세먼지(㎍/㎥)':'dust','이산화질소농도(ppm)':'no2','초미세먼지(㎍/㎥)':'fdust',\n",
    "                        '아황산가스농도(ppm)':'so2','오존(ppm)':'o3','이산화질소농도(ppm)':'no2','일산화탄소농도(ppm)':'co'})"
   ]
  },
  {
   "cell_type": "code",
   "execution_count": null,
   "id": "fa666b4c",
   "metadata": {},
   "outputs": [],
   "source": [
    "#영등포구\n",
    "day_231=day.loc[day['측정소명']=='영등포구',['측정일자','dust','fdust','no2','o3']]\n",
    "day_231"
   ]
  },
  {
   "cell_type": "code",
   "execution_count": null,
   "id": "744cc35e",
   "metadata": {},
   "outputs": [],
   "source": [
    "#측정일자 type을 string으로 변환\n",
    "day_231_df=day_231.astype({ '측정일자' : 'string' })"
   ]
  },
  {
   "cell_type": "code",
   "execution_count": null,
   "id": "53985502",
   "metadata": {},
   "outputs": [],
   "source": [
    "#시간정보 열을 datetime 자료형으로 변환\n",
    "day_231_df['측정일자2']=pd.to_datetime(day_231_df['측정일자'], format='%Y-%m-%d') \n",
    "day_231_df"
   ]
  },
  {
   "cell_type": "code",
   "execution_count": null,
   "id": "ea554639",
   "metadata": {},
   "outputs": [],
   "source": [
    "#요일 칼럼 추가\n",
    "day_231_df['weekday']=day_231_df['측정일자2'].dt.weekday\n",
    "day_231_df"
   ]
  },
  {
   "cell_type": "code",
   "execution_count": null,
   "id": "e8bde57e",
   "metadata": {},
   "outputs": [],
   "source": [
    "#요일 이름 표기\n",
    "weekday_list=['mon','tue','wed','thu','fri','sat','sun']\n",
    "day_231_df['week']=day_231_df.apply(lambda x : weekday_list[x['weekday']],axis=1)\n",
    "day_231_df"
   ]
  },
  {
   "cell_type": "code",
   "execution_count": null,
   "id": "b0f94124",
   "metadata": {},
   "outputs": [],
   "source": [
    "#요일로 groupby\n",
    "day_231_df0=day_231_df.groupby(by='week').mean()\n",
    "day_231_df0"
   ]
  },
  {
   "cell_type": "code",
   "execution_count": null,
   "id": "40573e27",
   "metadata": {},
   "outputs": [],
   "source": [
    "# df1 : 이산화질소, 오존 \n",
    "# df2 : 미세먼지, 초미세먼지\n",
    "day_231_df1=day_231[['no2','o3']]\n",
    "day_231_df2=day_231[['dust','fdust']]"
   ]
  },
  {
   "cell_type": "markdown",
   "id": "cbe4ac49",
   "metadata": {},
   "source": [
    "### 미세먼지와 초미세먼지"
   ]
  },
  {
   "cell_type": "code",
   "execution_count": null,
   "id": "b194eebf",
   "metadata": {},
   "outputs": [],
   "source": [
    "#미세먼지의 경우 수요일이 가장 높고, 일요일이 가장 적음\n",
    "sns.barplot(data = day_231_df,x= 'week', y = 'dust',palette = col)\n",
    "plt.show()"
   ]
  },
  {
   "cell_type": "code",
   "execution_count": null,
   "id": "73e549cd",
   "metadata": {},
   "outputs": [],
   "source": [
    "#초미세먼지의 경우 수요일이 가장 높고, 토요일이 가장 적음\n",
    "sns.barplot(data = day_231_df,x= 'week', y = 'fdust',palette = col)\n",
    "plt.show()"
   ]
  },
  {
   "cell_type": "code",
   "execution_count": null,
   "id": "9e0ec233",
   "metadata": {},
   "outputs": [],
   "source": [
    "#이산화질소의 경우 금요일이 가장 높고, 일요일이 가장 적음\n",
    "sns.barplot(data = day_231_df,x= 'week', y = 'no2',palette = col)\n",
    "plt.show()"
   ]
  },
  {
   "cell_type": "code",
   "execution_count": null,
   "id": "3973576d",
   "metadata": {},
   "outputs": [],
   "source": [
    "#오존의 경우 일요일이 가장 높고, 수요일이 가장 적음\n",
    "sns.barplot(data = day_231_df,x= 'week', y = 'o3',palette = col)\n",
    "plt.show()"
   ]
  },
  {
   "cell_type": "markdown",
   "id": "07d93475",
   "metadata": {},
   "source": [
    "## **4. 영등포구 시간별 분석**"
   ]
  },
  {
   "cell_type": "code",
   "execution_count": null,
   "id": "f89e509b",
   "metadata": {},
   "outputs": [],
   "source": [
    "#서울시 기간별 시간평균 대기환경 정보 (2019.3 ,2019.4 ,2020.3, 2020.4)\n",
    "time_201903=pd.read_csv('서울시_기간별_시간평균_대기환경_정보_2019.03.csv',encoding = 'cp949')\n",
    "time_201904=pd.read_csv('서울시_기간별_시간평균_대기환경_정보_2019.04.csv',encoding = 'cp949')\n",
    "\n",
    "time_202003=pd.read_csv('서울시_기간별_시간평균_대기환경_정보_2020.03.csv',encoding = 'cp949')\n",
    "time_202004=pd.read_csv('서울시_기간별_시간평균_대기환경_정보_2020.04.csv',encoding = 'cp949')"
   ]
  },
  {
   "cell_type": "code",
   "execution_count": null,
   "id": "045f5fb3",
   "metadata": {},
   "outputs": [],
   "source": [
    "time_231_202003_df1 = time_231_202003_df[((time_231_202003_df['timeline'] >= '2020-03-21 09:00') & (time_231_202003_df['timeline'] <= '2020-03-21 21:00'))]\n",
    "#time_231_202003_df1.sort_values(by='dust', ascending=True, inplace=False).head()\n",
    "#time_231_202003_df1.sort_values(by='fdust', ascending=True, inplace=False).head()\n",
    "#time_231_202003_df1.sort_values(by='no2', ascending=True, inplace=False).head()\n",
    "#time_231_202003_df1.sort_values(by='o3', ascending=True, inplace=False).head()"
   ]
  },
  {
   "cell_type": "code",
   "execution_count": null,
   "id": "b0391240",
   "metadata": {},
   "outputs": [],
   "source": [
    "#미세먼지 : 토요일 9시, 10시, 11시\n",
    "time_231_202003_df1.sort_values(by='dust', ascending=True, inplace=False).head()"
   ]
  },
  {
   "cell_type": "code",
   "execution_count": null,
   "id": "11ffc0b6",
   "metadata": {},
   "outputs": [],
   "source": [
    "#초미세먼지 : 토요일 9시, 10시, 11시\n",
    "time_231_202003_df1.sort_values(by='fdust', ascending=True, inplace=False).head()"
   ]
  },
  {
   "cell_type": "code",
   "execution_count": null,
   "id": "c55588cb",
   "metadata": {},
   "outputs": [],
   "source": [
    "# 이산화질소 : 토요일 12시, 21시, 16시\n",
    "time_231_202003_df1.sort_values(by='no2', ascending=True, inplace=False).head()"
   ]
  },
  {
   "cell_type": "code",
   "execution_count": null,
   "id": "692627a4",
   "metadata": {},
   "outputs": [],
   "source": [
    "#오존 : 토요일 09시, 10시, 11시 \n",
    "time_231_202003_df1.sort_values(by='o3', ascending=True, inplace=False).head()"
   ]
  },
  {
   "cell_type": "markdown",
   "id": "cddc8459",
   "metadata": {},
   "source": [
    "### 2020년 3월 week4: sat, sun\n"
   ]
  },
  {
   "cell_type": "code",
   "execution_count": null,
   "id": "3d62798c",
   "metadata": {},
   "outputs": [],
   "source": [
    "time_231_202003_df1 = time_231_202003_df[((time_231_202003_df['timeline'] >= '2020-03-28 09:00') & (time_231_202003_df['timeline'] <= '2020-03-29 21:00'))]"
   ]
  },
  {
   "cell_type": "code",
   "execution_count": null,
   "id": "797baa95",
   "metadata": {},
   "outputs": [],
   "source": [
    "#미세먼지 : 토요일 18시, 16시, 9시\n",
    "time_231_202003_df1.sort_values(by='dust', ascending=True, inplace=False).head()"
   ]
  },
  {
   "cell_type": "code",
   "execution_count": null,
   "id": "99d8a15c",
   "metadata": {},
   "outputs": [],
   "source": [
    "#초미세먼지 : 토요일 17시, 10시, 9시\n",
    "time_231_202003_df1.sort_values(by='fdust', ascending=True, inplace=False).head()"
   ]
  },
  {
   "cell_type": "code",
   "execution_count": null,
   "id": "53e81358",
   "metadata": {},
   "outputs": [],
   "source": [
    "#이산화질소 : 토요일 15시 ,14시, 13시\n",
    "time_231_202003_df1.sort_values(by='no2', ascending=True, inplace=False).head()"
   ]
  },
  {
   "cell_type": "code",
   "execution_count": null,
   "id": "a5a4c34a",
   "metadata": {},
   "outputs": [],
   "source": [
    "#오존 : 토요일 9시\n",
    "time_231_202003_df1.sort_values(by='o3', ascending=True, inplace=False).head(7)"
   ]
  },
  {
   "cell_type": "markdown",
   "id": "710d0823",
   "metadata": {},
   "source": [
    "### 2020년 4월 week1: sat, sun"
   ]
  },
  {
   "cell_type": "code",
   "execution_count": null,
   "id": "4e55b237",
   "metadata": {},
   "outputs": [],
   "source": [
    "time_231_202004_df1 = time_231_202004_df[((time_231_202004_df['timeline'] >= '2020-04-04 09:00') & (time_231_202004_df['timeline'] <= '2020-04-05 21:00'))]"
   ]
  },
  {
   "cell_type": "code",
   "execution_count": null,
   "id": "834798d9",
   "metadata": {},
   "outputs": [],
   "source": [
    "#미세먼지 : 토요일 21시, 20시, 일요일 20시\n",
    "time_231_202004_df1.sort_values(by='dust', ascending=True, inplace=False).head(15)"
   ]
  },
  {
   "cell_type": "code",
   "execution_count": null,
   "id": "81e6d360",
   "metadata": {},
   "outputs": [],
   "source": [
    "#초미세먼지 : 토요일 13시, 20시, 15시\n",
    "time_231_202004_df1.sort_values(by='fdust', ascending=True, inplace=False).head(7)"
   ]
  },
  {
   "cell_type": "code",
   "execution_count": null,
   "id": "bae5462f",
   "metadata": {},
   "outputs": [],
   "source": [
    "#이산화질소 : 일요일 16시, 토요일 14시, 16시\n",
    "time_231_202004_df1.sort_values(by='no2', ascending=True, inplace=False).head()"
   ]
  },
  {
   "cell_type": "code",
   "execution_count": null,
   "id": "d2acc533",
   "metadata": {},
   "outputs": [],
   "source": [
    "#오존 : 토요일 9시\n",
    "time_231_202004_df1.sort_values(by='o3', ascending=True, inplace=False).head(9)"
   ]
  },
  {
   "cell_type": "markdown",
   "id": "b8b8e2c9",
   "metadata": {},
   "source": [
    "### 2020년 4월 week2: sat, sun"
   ]
  },
  {
   "cell_type": "code",
   "execution_count": null,
   "id": "31da98e1",
   "metadata": {},
   "outputs": [],
   "source": [
    "time_231_202004_df1 = time_231_202004_df[((time_231_202004_df['timeline'] >= '2020-04-11 09:00') & (time_231_202004_df['timeline'] <= '2020-04-12 21:00'))]"
   ]
  },
  {
   "cell_type": "code",
   "execution_count": null,
   "id": "9f3ad5c9",
   "metadata": {},
   "outputs": [],
   "source": [
    "#미세먼지 : 일요일 20시, 17시, 18시\n",
    "time_231_202004_df1.sort_values(by='dust', ascending=True, inplace=False).head()"
   ]
  },
  {
   "cell_type": "code",
   "execution_count": null,
   "id": "6490db0f",
   "metadata": {},
   "outputs": [],
   "source": [
    "#초미세먼지 : 일요일 21시, 19시, 18시\n",
    "time_231_202004_df1.sort_values(by='fdust', ascending=True, inplace=False).head()"
   ]
  },
  {
   "cell_type": "code",
   "execution_count": null,
   "id": "3f9ce7d2",
   "metadata": {},
   "outputs": [],
   "source": [
    "#초미세먼지 : 일요일 17시, 16시, 15시\n",
    "time_231_202004_df1.sort_values(by='no2', ascending=True, inplace=False).head()"
   ]
  },
  {
   "cell_type": "code",
   "execution_count": null,
   "id": "0864ac73",
   "metadata": {},
   "outputs": [],
   "source": [
    "#오존 \n",
    "time_231_202004_df1.sort_values(by='o3', ascending=True, inplace=False).head(10)"
   ]
  },
  {
   "cell_type": "markdown",
   "id": "b83ebe13",
   "metadata": {},
   "source": [
    "# 7. 송파구 <a class=\"anchor\" id=\"7.송파구\"></a>\n",
    "---\n",
    "### 9기 김서진"
   ]
  },
  {
   "cell_type": "markdown",
   "id": "18b69c77",
   "metadata": {},
   "source": [
    "## 데이터 로딩 및 설정"
   ]
  },
  {
   "cell_type": "code",
   "execution_count": null,
   "id": "1b0e5210",
   "metadata": {},
   "outputs": [],
   "source": [
    "import numpy as np\n",
    "import pandas as pd\n",
    "import matplotlib as mpl\n",
    "import matplotlib.pyplot as plt\n",
    "import seaborn as sns\n",
    "\n",
    "import matplotlib.font_manager as fm"
   ]
  },
  {
   "cell_type": "code",
   "execution_count": null,
   "id": "09f9d6df",
   "metadata": {},
   "outputs": [],
   "source": [
    "# 설치된 폰트 확인\n",
    "sys_font = fm.findSystemFonts()\n",
    "print(\"sys_font number : {}\".format(len(sys_font)))\n",
    "print(sys_font)\n",
    "\n",
    "nanum_font = [f for f in sys_font if 'Nanum' in f]"
   ]
  },
  {
   "cell_type": "code",
   "execution_count": null,
   "id": "7a77d68a",
   "metadata": {},
   "outputs": [],
   "source": [
    "# 나눔 폰트 업로드\n",
    "!apt-get update -qq\n",
    "!apt-get install fonts-nanum* -qq"
   ]
  },
  {
   "cell_type": "code",
   "execution_count": null,
   "id": "2a56763c",
   "metadata": {},
   "outputs": [],
   "source": [
    "# 폰트가 정상적으로 설치됨.\n",
    "sys_font = fm.findSystemFonts()\n",
    "print(\"sys_font number : {}\".format(len(sys_font)))\n",
    "\n",
    "nanum_font = [f for f in sys_font if 'Nanum' in f]\n",
    "print(\"nanum_font number : {}\".format(len(nanum_font)))"
   ]
  },
  {
   "cell_type": "code",
   "execution_count": null,
   "id": "a1073e57",
   "metadata": {},
   "outputs": [],
   "source": [
    "# 현재 설정되어 있는 폰트 사이즈와 글꼴 알아보기\n",
    "def current_font():\n",
    "  print(f\"설정 폰트 글꼴: {plt.rcParams['font.family']}, 설정 폰트 사이즈: {plt.rcParams['font.size']}\")  # 파이썬 3.6 이상 사용가능\n",
    "        \n",
    "current_font()"
   ]
  },
  {
   "cell_type": "code",
   "execution_count": null,
   "id": "15393ba5",
   "metadata": {},
   "outputs": [],
   "source": [
    "path = '/Users/gimseojin/Library/Fonts/NanumGothic.ttf' # 원하는 폰트의 경로 가져오기\n",
    "font_name = fm.FontProperties(fname = path, size = 10).get_name()\n",
    "print(font_name)\n",
    "plt.rc('font', family = font_name)\n",
    "\n",
    "fm._rebuild()\n",
    "mpl.rcParams['axes.unicode_minus'] = False # 그래프의 x, y축에 정상적인 - 표시 설정\n",
    "\n",
    "# 런타임 다시 시작!"
   ]
  },
  {
   "cell_type": "code",
   "execution_count": null,
   "id": "7487603a",
   "metadata": {},
   "outputs": [],
   "source": [
    "# 이거 한 줄 적어주시면 title 한글로 써도 안 깨질거에요!\n",
    "from matplotlib import rc\n",
    "rc('font', family='NanumGothic')\n",
    "plt.rcParams['axes.unicode_minus'] = False\n",
    "col=['#6B4E24','#EECA98','#EBAA4F','#6B5B45','#B8853E','#AB891A','#6B5610','#EBBC23','#F7B50F']"
   ]
  },
  {
   "cell_type": "code",
   "execution_count": null,
   "id": "ab1c42da",
   "metadata": {},
   "outputs": [],
   "source": [
    "# data loading\n",
    "#time_df = pd.read_csv('/content/EDA_data_new/서울시 기간별 시간평균 대기환경 정보.csv', encoding = 'EUC-KR', skiprows=0)\n",
    "day_df = pd.read_csv('/content/EDA_data_new/서울시 기간별 일평균 대기환경 정보.csv', encoding = 'EUC-KR', skiprows=0)\n",
    "month_df = pd.read_csv('/content/EDA_data_new/서울시 월별 평균 대기오염도 정보.csv', encoding = 'EUC-KR', skiprows=0)"
   ]
  },
  {
   "cell_type": "code",
   "execution_count": null,
   "id": "6c2ee231",
   "metadata": {},
   "outputs": [],
   "source": [
    "# 2019 time data\n",
    "sp_time_df = pd.read_csv('songpa_2019.csv')"
   ]
  },
  {
   "cell_type": "code",
   "execution_count": null,
   "id": "1b5d04cc",
   "metadata": {},
   "outputs": [],
   "source": [
    "sp_time_df.head()"
   ]
  },
  {
   "cell_type": "markdown",
   "id": "4b4cb9a4",
   "metadata": {},
   "source": [
    "## 1. 시간대별 데이터 분석"
   ]
  },
  {
   "cell_type": "code",
   "execution_count": null,
   "id": "64d82a42",
   "metadata": {},
   "outputs": [],
   "source": [
    "where = time_df.groupby('측정소명')"
   ]
  },
  {
   "cell_type": "code",
   "execution_count": null,
   "id": "2b2e2695",
   "metadata": {},
   "outputs": [],
   "source": [
    "where.mean()"
   ]
  },
  {
   "cell_type": "code",
   "execution_count": null,
   "id": "6f330539",
   "metadata": {},
   "outputs": [],
   "source": [
    "sp_time_df = time_df[time_df['측정소명']=='송파구']\n",
    "sp_time_df = sp_time_df[['측정일시', '미세먼지 1시간(㎍/㎥)',\n",
    "       '미세먼지 24시간(㎍/㎥)', '초미세먼지(㎍/㎥)', '오존(ppm)', '이산화질소농도(ppm)']]\n",
    "sp_time_df.head()"
   ]
  },
  {
   "cell_type": "code",
   "execution_count": null,
   "id": "59b7bc2e",
   "metadata": {},
   "outputs": [],
   "source": [
    "from datetime import datetime\n",
    "\n",
    "datetime_object = sp_time_df['측정일시'].apply(lambda x: datetime.strptime(x, '%Y-%m-%d %H:%M:%S'))\n",
    "\n",
    "print(type(datetime_object))\n",
    "print(datetime_object)  # printed in default format"
   ]
  },
  {
   "cell_type": "code",
   "execution_count": null,
   "id": "16ff93e7",
   "metadata": {},
   "outputs": [],
   "source": [
    "sp_time_df['Time'] = datetime_object\n",
    "sp_time_df.head()"
   ]
  },
  {
   "cell_type": "code",
   "execution_count": null,
   "id": "b00c38c9",
   "metadata": {},
   "outputs": [],
   "source": [
    "sp_day = sp_time_df[sp_time_df['Hour']>=9]\n",
    "sp_day = sp_day[sp_day['Hour']<22]"
   ]
  },
  {
   "cell_type": "code",
   "execution_count": null,
   "id": "bcf827ae",
   "metadata": {},
   "outputs": [],
   "source": [
    "sp_night = sp_time_df[sp_time_df['Hour']<9]\n",
    "sp_night = sp_night.append(sp_time_df[sp_time_df['Hour']>=22])"
   ]
  },
  {
   "cell_type": "code",
   "execution_count": null,
   "id": "3bad79f0",
   "metadata": {},
   "outputs": [],
   "source": [
    "sp_day.describe()"
   ]
  },
  {
   "cell_type": "code",
   "execution_count": null,
   "id": "afde2dd1",
   "metadata": {},
   "outputs": [],
   "source": [
    "sp_night.describe()"
   ]
  },
  {
   "cell_type": "code",
   "execution_count": null,
   "id": "99710822",
   "metadata": {},
   "outputs": [],
   "source": [
    "plt.rcParams['figure.figsize'] = (9, 8)"
   ]
  },
  {
   "cell_type": "code",
   "execution_count": null,
   "id": "764ddcf5",
   "metadata": {},
   "outputs": [],
   "source": [
    "plt.subplot(2,2,1)\n",
    "plt.barh(np.arange(2), [sp_day['Dust'].mean(), sp_night['Dust'].mean()], color=col, linewidth=3)\n",
    "plt.yticks(np.arange(2), ['Day','Night'])\n",
    "plt.title('오전 오후 미세먼지 농도 비교')\n",
    "\n",
    "plt.subplot(2,2,2)\n",
    "plt.barh(np.arange(2), [sp_day['F_dust'].mean(), sp_night['F_dust'].mean()], color=col, linewidth=3)\n",
    "plt.yticks(np.arange(2), ['Day','Night'])\n",
    "plt.title('오전 오후 초미세먼지 농도 비교')\n",
    "\n",
    "plt.subplot(2,2,3)\n",
    "plt.barh(np.arange(2), [sp_day['NO2'].mean(), sp_night['NO2'].mean()], color=col, linewidth=3)\n",
    "plt.yticks(np.arange(2), ['Day','Night'])\n",
    "plt.title('오전 오후 이산화질소 농도 비교')\n",
    "\n",
    "plt.subplot(2,2,4)\n",
    "plt.barh(np.arange(2), [sp_day['O3'].mean(), sp_night['O3'].mean()], color=col, linewidth=3)\n",
    "plt.yticks(np.arange(2), ['Day','Night'])\n",
    "plt.title('오전 오후 오존 농도 비교')\n",
    "\n",
    "plt.tight_layout()\n",
    "plt.show()"
   ]
  },
  {
   "cell_type": "code",
   "execution_count": null,
   "id": "3a5e3333",
   "metadata": {},
   "outputs": [],
   "source": [
    "plt.subplot(2,2,1)\n",
    "plt.boxplot([sp_day['Dust'],sp_night['Dust']], whis=2)\n",
    "plt.xticks(np.arange(3), ['','Day','Night'])\n",
    "plt.title('Dust')\n",
    "\n",
    "plt.subplot(2,2,2)\n",
    "plt.boxplot([sp_day['F_dust'],sp_night['F_dust']], whis=2)\n",
    "plt.xticks(np.arange(3), ['','Day','Night'])\n",
    "plt.title('F_dust')\n",
    "\n",
    "plt.subplot(2,2,3)\n",
    "plt.boxplot([sp_day['NO2'],sp_night['NO2']], whis=2)\n",
    "plt.xticks(np.arange(3), ['','Day','Night'])\n",
    "plt.title('NO2')\n",
    "\n",
    "plt.subplot(2,2,4)\n",
    "plt.boxplot([sp_day['O3'],sp_night['O3']], whis=2)\n",
    "plt.xticks(np.arange(3), ['','Day','Night'])\n",
    "plt.title('O3')\n",
    "\n",
    "plt.tight_layout()\n",
    "plt.show()\n"
   ]
  },
  {
   "cell_type": "code",
   "execution_count": null,
   "id": "9483bff9",
   "metadata": {},
   "outputs": [],
   "source": [
    "time_group = sp_time_df.groupby('Hour')\n",
    "mean_time = time_group.mean()"
   ]
  },
  {
   "cell_type": "code",
   "execution_count": null,
   "id": "3d79a7fa",
   "metadata": {},
   "outputs": [],
   "source": [
    "plt.subplot(2,2,1)\n",
    "plt.plot(mean_time.index, mean_time['Dust'], color=col[0])\n",
    "plt.title('시간대별 미세먼지 농도 변화 추이')\n",
    "\n",
    "plt.subplot(2,2,2)\n",
    "plt.plot(mean_time.index, mean_time['NO2'], color=col[1])\n",
    "plt.title('시간대별 이산화질소 농도 변화 추이')\n",
    "\n",
    "plt.subplot(2,2,3)\n",
    "plt.plot(mean_time.index, mean_time['F_dust'], color=col[2])\n",
    "plt.title('시간대별 초미세먼지 농도 변화 추이')\n",
    "\n",
    "plt.subplot(2,2,4)\n",
    "plt.plot(mean_time.index, mean_time['O3'], color=col[3])\n",
    "plt.title('시간대별 오존 농도 변화 추이')\n",
    "\n",
    "plt.tight_layout()\n",
    "plt.show()"
   ]
  },
  {
   "cell_type": "markdown",
   "id": "22ebce16",
   "metadata": {},
   "source": [
    "미세먼지, 오존의 경우 활동 시간대에 높아지고 이산화질소의 경우 반대로 활동 시간대에 낮아지고 출퇴근 시간대에 높아지는 특성을 보인다. 이는 자동차 배기가스로 대부분의 이산화질소가 발생하기에 생겨나는 일인 것으로 생각된다. \n",
    "+) 교통량 데이터와의 결합 분석 진행하기"
   ]
  },
  {
   "cell_type": "code",
   "execution_count": null,
   "id": "478d4c11",
   "metadata": {},
   "outputs": [],
   "source": [
    "sp_time_df.head()"
   ]
  },
  {
   "cell_type": "code",
   "execution_count": null,
   "id": "40566c99",
   "metadata": {},
   "outputs": [],
   "source": [
    "### 의현님 코드 올려주신 것 보고 적용해보면 좋을 것 같아서 따라서 해봤습니다!\n",
    "for (i, row) in sp_time_df.iterrows(): \n",
    "    dust = row[1] \n",
    "    k = '오류' \n",
    "     \n",
    "    if dust < 31: \n",
    "        k = '좋음' \n",
    "    elif dust < 81: \n",
    "        k = '보통' \n",
    "    elif dust < 151: \n",
    "        k = '나쁨' \n",
    "    else: \n",
    "        k = '매우 나쁨' \n",
    "    sp_time_df.loc[i, 'dust_alarm'] = k\n",
    "# 초미세먼지 농도가  0 ~ 15은 0, 16 ~ 35은 1, 36 ~ 75은 2, 76 이상은 3으로 등급을 나눈다 \n",
    " \n",
    "for (i, row) in sp_time_df.iterrows(): \n",
    "    f_dust = row[2] \n",
    "    k = '오류' \n",
    "     \n",
    "    if f_dust < 16: \n",
    "        k = '좋음' \n",
    "    elif f_dust < 36: \n",
    "        k = '보통' \n",
    "    elif f_dust < 76: \n",
    "        k = '나쁨' \n",
    "    else: \n",
    "        k = '매우 나쁨' \n",
    "    sp_time_df.loc[i, 'f_dust_alarm'] = k"
   ]
  },
  {
   "cell_type": "code",
   "execution_count": null,
   "id": "949f266d",
   "metadata": {},
   "outputs": [],
   "source": [
    "dc = sp_time_df['dust_alarm'].value_counts() \n",
    "print(dc) \n",
    " \n",
    "fig, axes = plt.subplots(2, 1, figsize=(8,12)) \n",
    " \n",
    "sns.barplot(ax = axes[0], x = dc.index, \n",
    "            y = dc.values, palette = col).set_title('연간 미세먼지 경보 뱔령 횟수')\n",
    "axes[1].pie(labels = dc.index, x = dc.values, \n",
    "            explode = [0.03, 0.03, 0.1, 0.1], colors = col, \n",
    "            textprops = {'fontsize' : 12}, autopct = \"%.2f%%\") \n",
    "plt.title('연간 송파구 미세먼지 등급 발령 횟수 (1시간)', size = 16) \n",
    "plt.subplots_adjust(left = 0.125, bottom = 0.1,  right = 0.9, top = 0.9, wspace = 0.2)\n",
    "plt.show()"
   ]
  },
  {
   "cell_type": "code",
   "execution_count": null,
   "id": "ff83a243",
   "metadata": {},
   "outputs": [],
   "source": [
    "week = ['월', '화', '수', '목', '금', '토', '일'] \n",
    " \n",
    "sp_time_df['요일'] = sp_time_df.apply(lambda row: week[row['Date'].weekday()], axis = 1)\n",
    "\n",
    "df_al = sp_time_df[sp_time_df['Dust'] >= 81] \n",
    "days = df_al.groupby(['요일']).agg({'dust_alarm' : 'count'}).reset_index() \n",
    "days\n"
   ]
  },
  {
   "cell_type": "code",
   "execution_count": null,
   "id": "f75c13be",
   "metadata": {},
   "outputs": [],
   "source": [
    "fig, axes = plt.subplots(2, 1, figsize=(8,12)) \n",
    " \n",
    "sns.barplot(ax = axes[0], x = days['요일'], \n",
    "            y = days['dust_alarm'], palette = col).set_title('요일별 송파구 미세먼지 등급 발령 횟수')\n",
    "#axes[0].axis([-0.5, 6.5, 80, 200]) \n",
    "axes[1].pie(labels = days['요일'], x = days['dust_alarm'], \n",
    "            colors = col, textprops = {'fontsize' : 12}, autopct = \"%.2f%%\") \n",
    "plt.title('요일별 송파구 미세먼지 등급 발령', size = 16) \n",
    "plt.subplots_adjust(left = 0.125, bottom = 0.1,  right = 0.9, top = 0.9, wspace = 0.2)\n",
    "plt.show()"
   ]
  },
  {
   "cell_type": "code",
   "execution_count": null,
   "id": "a6616a0f",
   "metadata": {},
   "outputs": [],
   "source": [
    "sp_time_df['Month'] = datetime_object.apply(lambda x: x.month)\n",
    "time_34 = sp_time_df[sp_time_df['Month']==3]\n",
    "time_34 = time_34.append(sp_time_df[sp_time_df['Month']==4])\n",
    "time_34"
   ]
  },
  {
   "cell_type": "code",
   "execution_count": null,
   "id": "5e6f63ba",
   "metadata": {},
   "outputs": [],
   "source": [
    "group_time = time_34.groupby('Hour').mean()"
   ]
  },
  {
   "cell_type": "code",
   "execution_count": null,
   "id": "1150927d",
   "metadata": {},
   "outputs": [],
   "source": [
    "plt.subplot(2,2,1)\n",
    "group_time.sort_values('Dust',ascending=True, inplace=True)\n",
    "plt.barh(np.arange(24),group_time['Dust'],color=col)\n",
    "plt.yticks(np.arange(24),group_time.index)\n",
    "plt.title('송파구 시간대별 미세먼지 농도')\n",
    "\n",
    "plt.subplot(2,2,2)\n",
    "group_time.sort_values('F_dust',ascending=True, inplace=True)\n",
    "plt.barh(np.arange(24),group_time['F_dust'],color=col)\n",
    "plt.yticks(np.arange(24),group_time.index)\n",
    "plt.title('송파구 시간대별 초미세먼지 농도')\n",
    "\n",
    "plt.subplot(2,2,3)\n",
    "group_time.sort_values('NO2',ascending=True, inplace=True)\n",
    "plt.barh(np.arange(24),group_time['NO2'],color=col)\n",
    "plt.yticks(np.arange(24),group_time.index)\n",
    "plt.title('송파구 시간대별 이산화질소 농도')\n",
    "\n",
    "plt.subplot(2,2,4)\n",
    "group_time.sort_values('O3',ascending=True, inplace=True)\n",
    "plt.barh(np.arange(24),group_time['O3'],color=col)\n",
    "plt.yticks(np.arange(24),group_time.index)\n",
    "plt.title('송파구 시간대별 오존 농도')\n",
    "\n",
    "plt.tight_layout()\n",
    "plt.show"
   ]
  },
  {
   "cell_type": "code",
   "execution_count": null,
   "id": "f4f0fb92",
   "metadata": {},
   "outputs": [],
   "source": [
    "group_time.sort_values('F_dust',ascending=True, inplace=True)\n",
    "plt.barh(np.arange(24),group_time['F_dust'],color=col)\n",
    "plt.yticks(np.arange(24),group_time.index)\n",
    "plt.title('송파구 시간대별 초미세먼지 농도')"
   ]
  },
  {
   "cell_type": "code",
   "execution_count": null,
   "id": "d60b4023",
   "metadata": {},
   "outputs": [],
   "source": [
    "group_time.sort_values('NO2',ascending=True, inplace=True)\n",
    "plt.barh(np.arange(24),group_time['NO2'],color=col)\n",
    "plt.yticks(np.arange(24),group_time.index)\n",
    "plt.title('송파구 시간대별 이산화질소 농도')"
   ]
  },
  {
   "cell_type": "code",
   "execution_count": null,
   "id": "4e2bb006",
   "metadata": {},
   "outputs": [],
   "source": [
    "group_time.sort_values('O3',ascending=True, inplace=True)\n",
    "plt.barh(np.arange(24),group_time['O3'],color=col)\n",
    "plt.yticks(np.arange(24),group_time.index)\n",
    "plt.title('송파구 시간대별 오존 농도')"
   ]
  },
  {
   "cell_type": "code",
   "execution_count": null,
   "id": "75ee8c04",
   "metadata": {},
   "outputs": [],
   "source": [
    "group_days = time_34.groupby('요일').mean()\n",
    "\n",
    "plt.subplot(2,2,1)\n",
    "group_days.sort_values('Dust',ascending=True, inplace=True)\n",
    "plt.barh(np.arange(7),group_days['Dust'],color=col)\n",
    "plt.yticks(np.arange(7),group_days.index)\n",
    "plt.title('송파구 요일별 미세먼지 농도')\n",
    "\n",
    "plt.subplot(2,2,2)\n",
    "group_days.sort_values('F_dust',ascending=True, inplace=True)\n",
    "plt.barh(np.arange(7),group_days['F_dust'],color=col)\n",
    "plt.yticks(np.arange(7),group_days.index)\n",
    "plt.title('송파구 요일별 초미세먼지 농도')\n",
    "\n",
    "plt.subplot(2,2,3)\n",
    "group_days.sort_values('NO2',ascending=True, inplace=True)\n",
    "plt.barh(np.arange(7),group_days['NO2'],color=col)\n",
    "plt.yticks(np.arange(7),group_days.index)\n",
    "plt.title('송파구 요일별 이산화질소 농도')\n",
    "\n",
    "plt.subplot(2,2,4)\n",
    "group_days.sort_values('O3',ascending=True, inplace=True)\n",
    "plt.barh(np.arange(7),group_days['O3'],color=col)\n",
    "plt.yticks(np.arange(7),group_days.index)\n",
    "plt.title('송파구 요일별 오존 농도')\n",
    "\n",
    "plt.tight_layout()\n",
    "plt.show()"
   ]
  },
  {
   "cell_type": "code",
   "execution_count": null,
   "id": "75e6079a",
   "metadata": {},
   "outputs": [],
   "source": [
    "group_time.drop('Month', axis=1, inplace=True)"
   ]
  },
  {
   "cell_type": "code",
   "execution_count": null,
   "id": "05476855",
   "metadata": {},
   "outputs": [],
   "source": [
    "from sklearn.preprocessing import StandardScaler\n",
    "\n",
    "sc = StandardScaler()\n",
    "sp_scaled = pd.DataFrame(sc.fit_transform(group_time), index = group_time.index, columns = group_time.columns)\n",
    "sp_scaled"
   ]
  },
  {
   "cell_type": "code",
   "execution_count": null,
   "id": "eb7b9b70",
   "metadata": {},
   "outputs": [],
   "source": [
    "sp_scaled['Sum'] = sp_scaled['Dust']+sp_scaled['F_dust']+sp_scaled['NO2']+sp_scaled['O3']"
   ]
  },
  {
   "cell_type": "code",
   "execution_count": null,
   "id": "5186348e",
   "metadata": {},
   "outputs": [],
   "source": [
    "sp_scaled.sort_values('Sum', inplace=True)"
   ]
  },
  {
   "cell_type": "code",
   "execution_count": null,
   "id": "d1c63046",
   "metadata": {},
   "outputs": [],
   "source": [
    "sp_scaled_10 = sp_scaled['Sum'][:10].apply(lambda x: -x)\n",
    "sp_scaled_10.sort_values(ascending=True, inplace=True)"
   ]
  },
  {
   "cell_type": "code",
   "execution_count": null,
   "id": "3db560a2",
   "metadata": {},
   "outputs": [],
   "source": [
    "plt.barh(np.arange(10),sp_scaled_10, color=col)\n",
    "plt.yticks(np.arange(10),sp_scaled_10.index)\n",
    "plt.title('송파구 점수 합산 TOP 10')"
   ]
  },
  {
   "cell_type": "code",
   "execution_count": null,
   "id": "51830e0e",
   "metadata": {},
   "outputs": [],
   "source": [
    "def week_no(d):\n",
    "    target_day = d # 4\n",
    "    firstday = target_day.replace(day=1) # 5\n",
    "    while firstday.weekday() != 0: # 6\n",
    "        firstday += timedelta(days=1)\n",
    "      \n",
    "    if target_day < firstday: # 7\n",
    "        return 0\n",
    "  \n",
    "    return (target_day - firstday).days // 7 + 1 # 8"
   ]
  },
  {
   "cell_type": "code",
   "execution_count": null,
   "id": "721ccbad",
   "metadata": {},
   "outputs": [],
   "source": [
    "time_34['Week_no'] = time_34['Date'].apply(lambda x: week_no(x))\n",
    "time_34"
   ]
  },
  {
   "cell_type": "code",
   "execution_count": null,
   "id": "c0e29fa0",
   "metadata": {},
   "outputs": [],
   "source": [
    "time_3 = time_34[time_34['Month']==3]\n",
    "time_4 = time_34[time_34['Month']==4]\n",
    "time_3['Week_no'] +=1\n",
    "time_3"
   ]
  },
  {
   "cell_type": "code",
   "execution_count": null,
   "id": "33f05f82",
   "metadata": {},
   "outputs": [],
   "source": [
    "time_3_3 = time_3[time_3['Week_no']==3]\n",
    "time_3_4 = time_3[time_3['Week_no']==4]\n",
    "time_3_5 = time_3[time_3['Week_no']==5]\n",
    "time_4_1 = time_4[time_4['Week_no']==1]\n",
    "time_4_2 = time_4[time_4['Week_no']==2]"
   ]
  },
  {
   "cell_type": "code",
   "execution_count": null,
   "id": "ba7fc564",
   "metadata": {},
   "outputs": [],
   "source": [
    "group_time33 = time_3_3.groupby('Hour').mean()\n",
    "group_time34 = time_3_4.groupby('Hour').mean()\n",
    "group_time35 = time_3_5.groupby('Hour').mean()\n",
    "group_time41 = time_4_1.groupby('Hour').mean()\n",
    "group_time42 = time_4_2.groupby('Hour').mean()"
   ]
  },
  {
   "cell_type": "code",
   "execution_count": null,
   "id": "f07d4286",
   "metadata": {},
   "outputs": [],
   "source": [
    "group_time33.drop('Month', axis=1, inplace=True)\n",
    "\n",
    "from sklearn.preprocessing import StandardScaler\n",
    "\n",
    "sc33 = StandardScaler()\n",
    "sp_scaled33 = pd.DataFrame(sc33.fit_transform(group_time33), index = group_time33.index, columns = group_time33.columns)\n",
    "sp_scaled33['Sum'] = sp_scaled33['Dust']+sp_scaled33['F_dust']+sp_scaled33['NO2']+sp_scaled33['O3']\n",
    "sp_scaled33.sort_values('Sum', inplace=True)\n",
    "sp_scaled33_10 = sp_scaled33['Sum'][:10].apply(lambda x: -x)\n",
    "sp_scaled33_10.sort_values(ascending=True, inplace=True)\n",
    "plt.barh(np.arange(10),sp_scaled33_10, color=col)\n",
    "plt.yticks(np.arange(10),sp_scaled33_10.index)\n",
    "plt.title('송파구 3월 3주차 점수 합산 TOP 10')"
   ]
  },
  {
   "cell_type": "code",
   "execution_count": null,
   "id": "f010d5f2",
   "metadata": {},
   "outputs": [],
   "source": [
    "#group_time34.drop('Month', axis=1, inplace=True)\n",
    "\n",
    "from sklearn.preprocessing import StandardScaler\n",
    "\n",
    "sc34 = StandardScaler()\n",
    "sp_scaled34 = pd.DataFrame(sc34.fit_transform(group_time34), index = group_time34.index, columns = group_time34.columns)\n",
    "sp_scaled34['Sum'] = sp_scaled34['Dust']+sp_scaled34['F_dust']+sp_scaled34['NO2']+sp_scaled34['O3']\n",
    "sp_scaled34.sort_values('Sum', inplace=True)\n",
    "sp_scaled34_10 = sp_scaled34['Sum'][:10].apply(lambda x: -x)\n",
    "sp_scaled34_10.sort_values(ascending=True, inplace=True)\n",
    "plt.barh(np.arange(10),sp_scaled34_10, color=col)\n",
    "plt.yticks(np.arange(10),sp_scaled34_10.index)\n",
    "plt.title('송파구 3월 4주차 점수 합산 TOP 10')"
   ]
  },
  {
   "cell_type": "code",
   "execution_count": null,
   "id": "e5a5b757",
   "metadata": {},
   "outputs": [],
   "source": [
    "group_time35.drop('Month', axis=1, inplace=True)\n",
    "\n",
    "from sklearn.preprocessing import StandardScaler\n",
    "\n",
    "sc35 = StandardScaler()\n",
    "sp_scaled35 = pd.DataFrame(sc35.fit_transform(group_time35), index = group_time35.index, columns = group_time35.columns)\n",
    "sp_scaled35['Sum'] = sp_scaled35['Dust']+sp_scaled35['F_dust']+sp_scaled35['NO2']+sp_scaled35['O3']\n",
    "sp_scaled35.sort_values('Sum', inplace=True)\n",
    "sp_scaled35_10 = sp_scaled35['Sum'][:10].apply(lambda x: -x)\n",
    "sp_scaled35_10.sort_values(ascending=True, inplace=True)\n",
    "plt.barh(np.arange(10),sp_scaled35_10, color=col)\n",
    "plt.yticks(np.arange(10),sp_scaled35_10.index)\n",
    "plt.title('송파구 3월 5주차 점수 합산 TOP 10')"
   ]
  },
  {
   "cell_type": "code",
   "execution_count": null,
   "id": "1da8b01a",
   "metadata": {},
   "outputs": [],
   "source": [
    "group_time41.drop('Month', axis=1, inplace=True)\n",
    "\n",
    "from sklearn.preprocessing import StandardScaler\n",
    "\n",
    "sc41 = StandardScaler()\n",
    "sp_scaled41 = pd.DataFrame(sc41.fit_transform(group_time41), index = group_time41.index, columns = group_time41.columns)\n",
    "sp_scaled41['Sum'] = sp_scaled41['Dust']+sp_scaled41['F_dust']+sp_scaled41['NO2']+sp_scaled41['O3']\n",
    "sp_scaled41.sort_values('Sum', inplace=True)\n",
    "sp_scaled41_10 = sp_scaled41['Sum'][:10].apply(lambda x: -x)\n",
    "sp_scaled41_10.sort_values(ascending=True, inplace=True)\n",
    "plt.barh(np.arange(10),sp_scaled41_10, color=col)\n",
    "plt.yticks(np.arange(10),sp_scaled41_10.index)\n",
    "plt.title('송파구 4월 1주차 점수 합산 TOP 10')"
   ]
  },
  {
   "cell_type": "code",
   "execution_count": null,
   "id": "64cb9904",
   "metadata": {},
   "outputs": [],
   "source": [
    "group_time42.drop('Month', axis=1, inplace=True)\n",
    "\n",
    "from sklearn.preprocessing import StandardScaler\n",
    "\n",
    "sc42 = StandardScaler()\n",
    "sp_scaled42 = pd.DataFrame(sc42.fit_transform(group_time42), index = group_time42.index, columns = group_time42.columns)\n",
    "sp_scaled42['Sum'] = sp_scaled42['Dust']+sp_scaled42['F_dust']+sp_scaled42['NO2']+sp_scaled42['O3']\n",
    "sp_scaled42.sort_values('Sum', inplace=True)\n",
    "sp_scaled42_10 = sp_scaled42['Sum'][:10].apply(lambda x: -x)\n",
    "sp_scaled42_10.sort_values(ascending=True, inplace=True)\n",
    "plt.barh(np.arange(10),sp_scaled42_10, color=col)\n",
    "plt.yticks(np.arange(10),sp_scaled42_10.index)\n",
    "plt.title('송파구 4월 2주차 점수 합산 TOP 10')"
   ]
  },
  {
   "cell_type": "markdown",
   "id": "dee30391",
   "metadata": {},
   "source": [
    "## 2. 일별 데이터 분석 _ 요일별 특성 파악"
   ]
  },
  {
   "cell_type": "code",
   "execution_count": null,
   "id": "824fa736",
   "metadata": {},
   "outputs": [],
   "source": [
    "sp_day_df = day_df[day_df['측정소명']=='송파구']\n",
    "sp_day_df = sp_day_df[['측정일자', '미세먼지(㎍/㎥)','초미세먼지(㎍/㎥)', '오존(ppm)', '이산화질소농도(ppm)']]\n",
    "sp_day_df.head()"
   ]
  },
  {
   "cell_type": "code",
   "execution_count": null,
   "id": "fa228d9f",
   "metadata": {},
   "outputs": [],
   "source": [
    "sp_day_df.rename(columns={\"이산화질소농도(ppm)\":\"NO2\", \"오존(ppm)\":\"O3\",\n",
    "                            \"미세먼지(㎍/㎥)\":\"Dust\", \"초미세먼지(㎍/㎥)\":\"F_dust\"}, inplace=True)\n",
    "sp_day_df.head()"
   ]
  },
  {
   "cell_type": "code",
   "execution_count": null,
   "id": "7e62227c",
   "metadata": {},
   "outputs": [],
   "source": [
    "sp_day_df['Day'] = sp_day_df['측정일자'].apply(lambda x: datetime.strptime(str(x),'%Y%m%d'))"
   ]
  },
  {
   "cell_type": "code",
   "execution_count": null,
   "id": "d5d440a3",
   "metadata": {},
   "outputs": [],
   "source": [
    "day_list = ['Mon','Tue','Wed','Thu','Fri','Sat','Sun']\n",
    "sp_day_df['Weekday'] = sp_day_df['Day'].apply(lambda x: day_list[x.weekday()])"
   ]
  },
  {
   "cell_type": "code",
   "execution_count": null,
   "id": "b894a0f3",
   "metadata": {},
   "outputs": [],
   "source": [
    "weekday_grp = sp_day_df.groupby('Weekday')"
   ]
  },
  {
   "cell_type": "code",
   "execution_count": null,
   "id": "e3aef7ea",
   "metadata": {},
   "outputs": [],
   "source": [
    "day_mean = weekday_grp.mean()\n",
    "day_mean = day_mean.reindex(day_list, axis='index')\n",
    "day_mean"
   ]
  },
  {
   "cell_type": "code",
   "execution_count": null,
   "id": "2610d7d2",
   "metadata": {},
   "outputs": [],
   "source": [
    "plt.subplot(1,2,1)\n",
    "plt.bar(np.arange(7), day_mean['Dust'], color = col)\n",
    "plt.xticks(np.arange(7), day_mean.index)\n",
    "plt.title('송파구 요일별 미세먼지 추이')\n",
    "\n",
    "plt.subplot(1,2,2)\n",
    "plt.bar(np.arange(7), day_mean['F_dust'], color = col)\n",
    "plt.xticks(np.arange(7), day_mean.index)\n",
    "plt.title('송파구 요일별 초미세먼지 추이')\n",
    "\n",
    "plt.tight_layout()\n",
    "plt.show()"
   ]
  },
  {
   "cell_type": "markdown",
   "id": "91d4f243",
   "metadata": {},
   "source": [
    "## 3. 벚꽃 개화시기 분석"
   ]
  },
  {
   "cell_type": "code",
   "execution_count": null,
   "id": "35ee6563",
   "metadata": {},
   "outputs": [],
   "source": [
    "month_group = sp_month_df.groupby('Month')\n",
    "mean_month = month_group.mean()\n",
    "mean_month.drop('측정월', axis = 1, inplace = True)\n",
    "mean_month"
   ]
  },
  {
   "cell_type": "code",
   "execution_count": null,
   "id": "0cad1fbe",
   "metadata": {},
   "outputs": [],
   "source": [
    "plt.subplot(2,1,1)\n",
    "plt.bar(np.arange(12), mean_month['Dust'], color = col)\n",
    "plt.xticks(np.arange(12), mean_month.index)\n",
    "plt.title('송파구 월별 미세먼지 추이')\n",
    "\n",
    "plt.subplot(2,1,2)\n",
    "plt.bar(np.arange(12), mean_month['F_dust'], color = col)\n",
    "plt.xticks(np.arange(12), mean_month.index)\n",
    "plt.title('송파구 월별 초미세먼지 추이')\n",
    "\n",
    "plt.tight_layout()\n",
    "plt.show()"
   ]
  },
  {
   "cell_type": "code",
   "execution_count": null,
   "id": "2de60dfc",
   "metadata": {},
   "outputs": [],
   "source": [
    "plt.subplot(2,1,1)\n",
    "plt.bar(np.arange(12), mean_month['NO2'], color = col)\n",
    "plt.xticks(np.arange(12), mean_month.index)\n",
    "plt.title('송파구 월별 이산화질소 추이')\n",
    "\n",
    "plt.subplot(2,1,2)\n",
    "plt.bar(np.arange(12), mean_month['O3'], color = col)\n",
    "plt.xticks(np.arange(12), mean_month.index)\n",
    "plt.title('송파구 월별 오존 추이')\n",
    "\n",
    "plt.tight_layout()\n",
    "plt.show()"
   ]
  },
  {
   "cell_type": "code",
   "execution_count": null,
   "id": "609468cd",
   "metadata": {},
   "outputs": [],
   "source": [
    "fig1 = plt.subplot(1,2,1)\n",
    "plt.bar(np.arange(2), data[['Dust','F_dust']], color = col)\n",
    "plt.xticks(np.arange(2), data[['Dust','F_dust']].index)\n",
    "plt.title('벚꽃시즌 (초)미세먼지 평균 농도')\n",
    "\n",
    "fig2 = plt.subplot(1,2,2, sharey=fig1)\n",
    "plt.bar(np.arange(2), data2[['Dust','F_dust']], color = col)\n",
    "plt.xticks(np.arange(2), data2[['Dust','F_dust']].index)\n",
    "plt.title('비벚꽃시즌 (초)미세먼지 평균 농도')\n",
    "\n",
    "plt.tight_layout()\n",
    "plt.show()"
   ]
  },
  {
   "cell_type": "code",
   "execution_count": null,
   "id": "cb671c78",
   "metadata": {},
   "outputs": [],
   "source": [
    "fig1 = plt.subplot(1,2,1)\n",
    "plt.bar(np.arange(2), data[['NO2','O3']], color = col)\n",
    "plt.xticks(np.arange(2), data[['NO2','O3']].index)\n",
    "plt.title('벚꽃시즌 이산화질소/오존 평균 농도')\n",
    "\n",
    "fig2 = plt.subplot(1,2,2, sharey=fig1)\n",
    "plt.bar(np.arange(2), data2[['NO2','O3']], color = col)\n",
    "plt.xticks(np.arange(2), data2[['NO2','O3']].index)\n",
    "plt.title('비벚꽃시즌 이산화질소/오존 평균 농도')\n",
    "\n",
    "plt.tight_layout()\n",
    "plt.show()"
   ]
  },
  {
   "cell_type": "code",
   "execution_count": null,
   "id": "71ed234f",
   "metadata": {},
   "outputs": [],
   "source": [
    "df_month = sp_month_df[sp_month_df['Dust'] >= 81] \n",
    "df_mon = df_month.groupby(['Month']).agg({'Dust' : 'count'}).reset_index() \n",
    "df_mon"
   ]
  },
  {
   "cell_type": "code",
   "execution_count": null,
   "id": "22c7a396",
   "metadata": {},
   "outputs": [],
   "source": [
    "plt.figure(figsize = (8, 6)) \n",
    " \n",
    "sns.barplot(x = df_mon['Month'], y = df_mon['Dust'], \n",
    "            palette = col) \n",
    "plt.title('미세먼지 경보 발령 횟수 (월)', fontsize = 20) \n",
    "plt.show()"
   ]
  }
 ],
 "metadata": {
  "kernelspec": {
   "display_name": "Python 3 (ipykernel)",
   "language": "python",
   "name": "python3"
  },
  "language_info": {
   "codemirror_mode": {
    "name": "ipython",
    "version": 3
   },
   "file_extension": ".py",
   "mimetype": "text/x-python",
   "name": "python",
   "nbconvert_exporter": "python",
   "pygments_lexer": "ipython3",
   "version": "3.9.12"
  }
 },
 "nbformat": 4,
 "nbformat_minor": 5
}
