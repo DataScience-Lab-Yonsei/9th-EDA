{
 "cells": [
  {
   "cell_type": "code",
   "execution_count": 1,
   "metadata": {},
   "outputs": [],
   "source": [
    "### calling packages\n",
    "\n",
    "import numpy as np\n",
    "import pandas as pd\n",
    "\n",
    "import seaborn as sns\n",
    "import matplotlib.pyplot as plt\n",
    "\n",
    "from scipy import stats\n",
    "\n",
    "import time\n",
    "from datetime import datetime"
   ]
  },
  {
   "cell_type": "code",
   "execution_count": 2,
   "metadata": {},
   "outputs": [],
   "source": [
    "# pd.set_option('display.max_rows', None)"
   ]
  },
  {
   "attachments": {},
   "cell_type": "markdown",
   "metadata": {},
   "source": [
    "### 0. 통일성을 위한 공통 작업"
   ]
  },
  {
   "cell_type": "code",
   "execution_count": 3,
   "metadata": {},
   "outputs": [],
   "source": [
    "### matplotlib, seaborn 한글 깨짐 현상 해결\n",
    "\n",
    "from matplotlib import font_manager, rc # matplotlib, seaborn에서 한글 깨짐 현상을 해결하기 위함\n",
    "\n",
    "font_path = \"C:/WINDOWS/FONTS/MALGUNSL.TTF\"\n",
    "font = font_manager.FontProperties(fname=font_path).get_name()\n",
    "rc('font', family=font)"
   ]
  },
  {
   "cell_type": "code",
   "execution_count": 4,
   "metadata": {},
   "outputs": [],
   "source": [
    "### 색상 통일\n",
    "\n",
    "col=['#6B4E24','#EECA98','#EBAA4F','#6B5B45','#B8853E','#AB891A','#6B5610','#EBBC23','#F7B50F']"
   ]
  },
  {
   "attachments": {},
   "cell_type": "markdown",
   "metadata": {},
   "source": [
    "### 3. 기간별 일평균 데이터를 통해 요일 경향성을 살펴보자!"
   ]
  },
  {
   "cell_type": "code",
   "execution_count": 5,
   "metadata": {},
   "outputs": [
    {
     "data": {
      "text/html": [
       "<div>\n",
       "<style scoped>\n",
       "    .dataframe tbody tr th:only-of-type {\n",
       "        vertical-align: middle;\n",
       "    }\n",
       "\n",
       "    .dataframe tbody tr th {\n",
       "        vertical-align: top;\n",
       "    }\n",
       "\n",
       "    .dataframe thead th {\n",
       "        text-align: right;\n",
       "    }\n",
       "</style>\n",
       "<table border=\"1\" class=\"dataframe\">\n",
       "  <thead>\n",
       "    <tr style=\"text-align: right;\">\n",
       "      <th></th>\n",
       "      <th>측정일자</th>\n",
       "      <th>권역명</th>\n",
       "      <th>측정소명</th>\n",
       "      <th>미세먼지(㎍/㎥)</th>\n",
       "      <th>초미세먼지(㎍/㎥)</th>\n",
       "      <th>오존(ppm)</th>\n",
       "      <th>이산화질소농도(ppm)</th>\n",
       "      <th>일산화탄소농도(ppm)</th>\n",
       "      <th>아황산가스농도(ppm)</th>\n",
       "    </tr>\n",
       "  </thead>\n",
       "  <tbody>\n",
       "    <tr>\n",
       "      <th>0</th>\n",
       "      <td>20230113</td>\n",
       "      <td>도심권</td>\n",
       "      <td>중구</td>\n",
       "      <td>0</td>\n",
       "      <td>0</td>\n",
       "      <td>0.000</td>\n",
       "      <td>0.000</td>\n",
       "      <td>0.0</td>\n",
       "      <td>0.000</td>\n",
       "    </tr>\n",
       "    <tr>\n",
       "      <th>1</th>\n",
       "      <td>20230113</td>\n",
       "      <td>도심권</td>\n",
       "      <td>종로구</td>\n",
       "      <td>19</td>\n",
       "      <td>12</td>\n",
       "      <td>0.009</td>\n",
       "      <td>0.037</td>\n",
       "      <td>0.8</td>\n",
       "      <td>0.004</td>\n",
       "    </tr>\n",
       "    <tr>\n",
       "      <th>2</th>\n",
       "      <td>20230113</td>\n",
       "      <td>도심권</td>\n",
       "      <td>용산구</td>\n",
       "      <td>18</td>\n",
       "      <td>13</td>\n",
       "      <td>0.007</td>\n",
       "      <td>0.036</td>\n",
       "      <td>0.7</td>\n",
       "      <td>0.003</td>\n",
       "    </tr>\n",
       "    <tr>\n",
       "      <th>3</th>\n",
       "      <td>20230113</td>\n",
       "      <td>서북권</td>\n",
       "      <td>은평구</td>\n",
       "      <td>14</td>\n",
       "      <td>9</td>\n",
       "      <td>0.017</td>\n",
       "      <td>0.020</td>\n",
       "      <td>1.0</td>\n",
       "      <td>0.004</td>\n",
       "    </tr>\n",
       "    <tr>\n",
       "      <th>4</th>\n",
       "      <td>20230113</td>\n",
       "      <td>서북권</td>\n",
       "      <td>서대문구</td>\n",
       "      <td>15</td>\n",
       "      <td>10</td>\n",
       "      <td>0.016</td>\n",
       "      <td>0.024</td>\n",
       "      <td>0.8</td>\n",
       "      <td>0.003</td>\n",
       "    </tr>\n",
       "    <tr>\n",
       "      <th>5</th>\n",
       "      <td>20230113</td>\n",
       "      <td>서북권</td>\n",
       "      <td>마포구</td>\n",
       "      <td>18</td>\n",
       "      <td>14</td>\n",
       "      <td>0.010</td>\n",
       "      <td>0.036</td>\n",
       "      <td>0.7</td>\n",
       "      <td>0.004</td>\n",
       "    </tr>\n",
       "    <tr>\n",
       "      <th>6</th>\n",
       "      <td>20230113</td>\n",
       "      <td>동북권</td>\n",
       "      <td>광진구</td>\n",
       "      <td>17</td>\n",
       "      <td>11</td>\n",
       "      <td>0.009</td>\n",
       "      <td>0.027</td>\n",
       "      <td>0.5</td>\n",
       "      <td>0.003</td>\n",
       "    </tr>\n",
       "    <tr>\n",
       "      <th>7</th>\n",
       "      <td>20230113</td>\n",
       "      <td>동북권</td>\n",
       "      <td>성동구</td>\n",
       "      <td>27</td>\n",
       "      <td>12</td>\n",
       "      <td>0.005</td>\n",
       "      <td>0.041</td>\n",
       "      <td>0.7</td>\n",
       "      <td>0.004</td>\n",
       "    </tr>\n",
       "    <tr>\n",
       "      <th>8</th>\n",
       "      <td>20230113</td>\n",
       "      <td>동북권</td>\n",
       "      <td>중랑구</td>\n",
       "      <td>22</td>\n",
       "      <td>11</td>\n",
       "      <td>0.009</td>\n",
       "      <td>0.039</td>\n",
       "      <td>0.6</td>\n",
       "      <td>0.003</td>\n",
       "    </tr>\n",
       "    <tr>\n",
       "      <th>9</th>\n",
       "      <td>20230113</td>\n",
       "      <td>동북권</td>\n",
       "      <td>동대문구</td>\n",
       "      <td>26</td>\n",
       "      <td>13</td>\n",
       "      <td>0.006</td>\n",
       "      <td>0.041</td>\n",
       "      <td>0.8</td>\n",
       "      <td>0.004</td>\n",
       "    </tr>\n",
       "  </tbody>\n",
       "</table>\n",
       "</div>"
      ],
      "text/plain": [
       "       측정일자  권역명  측정소명  미세먼지(㎍/㎥)  초미세먼지(㎍/㎥)  오존(ppm)  이산화질소농도(ppm)  \\\n",
       "0  20230113  도심권    중구          0           0    0.000         0.000   \n",
       "1  20230113  도심권   종로구         19          12    0.009         0.037   \n",
       "2  20230113  도심권   용산구         18          13    0.007         0.036   \n",
       "3  20230113  서북권   은평구         14           9    0.017         0.020   \n",
       "4  20230113  서북권  서대문구         15          10    0.016         0.024   \n",
       "5  20230113  서북권   마포구         18          14    0.010         0.036   \n",
       "6  20230113  동북권   광진구         17          11    0.009         0.027   \n",
       "7  20230113  동북권   성동구         27          12    0.005         0.041   \n",
       "8  20230113  동북권   중랑구         22          11    0.009         0.039   \n",
       "9  20230113  동북권  동대문구         26          13    0.006         0.041   \n",
       "\n",
       "   일산화탄소농도(ppm)  아황산가스농도(ppm)  \n",
       "0           0.0         0.000  \n",
       "1           0.8         0.004  \n",
       "2           0.7         0.003  \n",
       "3           1.0         0.004  \n",
       "4           0.8         0.003  \n",
       "5           0.7         0.004  \n",
       "6           0.5         0.003  \n",
       "7           0.7         0.004  \n",
       "8           0.6         0.003  \n",
       "9           0.8         0.004  "
      ]
     },
     "execution_count": 5,
     "metadata": {},
     "output_type": "execute_result"
    }
   ],
   "source": [
    "### '서울시 기간별 일평균 대기환경 정보.csv'를 ATM_daily_df라는 데이터프레임 형태로 불러오기\n",
    "\n",
    "ATM_daily_df = pd.read_csv('C:/Users/izzle/Downloads/서울시 기간별 일평균 대기환경 정보.csv', encoding='cp949')\n",
    "ATM_daily_df.head(10)"
   ]
  },
  {
   "cell_type": "code",
   "execution_count": 6,
   "metadata": {},
   "outputs": [
    {
     "data": {
      "text/html": [
       "<div>\n",
       "<style scoped>\n",
       "    .dataframe tbody tr th:only-of-type {\n",
       "        vertical-align: middle;\n",
       "    }\n",
       "\n",
       "    .dataframe tbody tr th {\n",
       "        vertical-align: top;\n",
       "    }\n",
       "\n",
       "    .dataframe thead th {\n",
       "        text-align: right;\n",
       "    }\n",
       "</style>\n",
       "<table border=\"1\" class=\"dataframe\">\n",
       "  <thead>\n",
       "    <tr style=\"text-align: right;\">\n",
       "      <th></th>\n",
       "      <th>측정일자</th>\n",
       "      <th>권역명</th>\n",
       "      <th>측정소명</th>\n",
       "      <th>미세먼지(㎍/㎥)</th>\n",
       "      <th>초미세먼지(㎍/㎥)</th>\n",
       "      <th>오존(ppm)</th>\n",
       "      <th>이산화질소농도(ppm)</th>\n",
       "      <th>일산화탄소농도(ppm)</th>\n",
       "      <th>아황산가스농도(ppm)</th>\n",
       "    </tr>\n",
       "  </thead>\n",
       "  <tbody>\n",
       "    <tr>\n",
       "      <th>6</th>\n",
       "      <td>20230113</td>\n",
       "      <td>동북권</td>\n",
       "      <td>광진구</td>\n",
       "      <td>17</td>\n",
       "      <td>11</td>\n",
       "      <td>0.009</td>\n",
       "      <td>0.027</td>\n",
       "      <td>0.5</td>\n",
       "      <td>0.003</td>\n",
       "    </tr>\n",
       "    <tr>\n",
       "      <th>31</th>\n",
       "      <td>20230112</td>\n",
       "      <td>동북권</td>\n",
       "      <td>광진구</td>\n",
       "      <td>65</td>\n",
       "      <td>46</td>\n",
       "      <td>0.006</td>\n",
       "      <td>0.044</td>\n",
       "      <td>0.6</td>\n",
       "      <td>0.004</td>\n",
       "    </tr>\n",
       "    <tr>\n",
       "      <th>56</th>\n",
       "      <td>20230111</td>\n",
       "      <td>동북권</td>\n",
       "      <td>광진구</td>\n",
       "      <td>71</td>\n",
       "      <td>45</td>\n",
       "      <td>0.005</td>\n",
       "      <td>0.050</td>\n",
       "      <td>0.9</td>\n",
       "      <td>0.004</td>\n",
       "    </tr>\n",
       "    <tr>\n",
       "      <th>81</th>\n",
       "      <td>20230110</td>\n",
       "      <td>동북권</td>\n",
       "      <td>광진구</td>\n",
       "      <td>61</td>\n",
       "      <td>31</td>\n",
       "      <td>0.007</td>\n",
       "      <td>0.042</td>\n",
       "      <td>0.7</td>\n",
       "      <td>0.002</td>\n",
       "    </tr>\n",
       "    <tr>\n",
       "      <th>106</th>\n",
       "      <td>20230109</td>\n",
       "      <td>동북권</td>\n",
       "      <td>광진구</td>\n",
       "      <td>100</td>\n",
       "      <td>39</td>\n",
       "      <td>0.008</td>\n",
       "      <td>0.021</td>\n",
       "      <td>0.9</td>\n",
       "      <td>0.002</td>\n",
       "    </tr>\n",
       "    <tr>\n",
       "      <th>131</th>\n",
       "      <td>20230108</td>\n",
       "      <td>동북권</td>\n",
       "      <td>광진구</td>\n",
       "      <td>125</td>\n",
       "      <td>59</td>\n",
       "      <td>0.012</td>\n",
       "      <td>0.020</td>\n",
       "      <td>1.1</td>\n",
       "      <td>0.002</td>\n",
       "    </tr>\n",
       "    <tr>\n",
       "      <th>156</th>\n",
       "      <td>20230107</td>\n",
       "      <td>동북권</td>\n",
       "      <td>광진구</td>\n",
       "      <td>115</td>\n",
       "      <td>83</td>\n",
       "      <td>0.019</td>\n",
       "      <td>0.019</td>\n",
       "      <td>1.2</td>\n",
       "      <td>0.002</td>\n",
       "    </tr>\n",
       "    <tr>\n",
       "      <th>181</th>\n",
       "      <td>20230106</td>\n",
       "      <td>동북권</td>\n",
       "      <td>광진구</td>\n",
       "      <td>74</td>\n",
       "      <td>57</td>\n",
       "      <td>0.009</td>\n",
       "      <td>0.030</td>\n",
       "      <td>1.0</td>\n",
       "      <td>0.003</td>\n",
       "    </tr>\n",
       "    <tr>\n",
       "      <th>206</th>\n",
       "      <td>20230105</td>\n",
       "      <td>동북권</td>\n",
       "      <td>광진구</td>\n",
       "      <td>46</td>\n",
       "      <td>33</td>\n",
       "      <td>0.005</td>\n",
       "      <td>0.030</td>\n",
       "      <td>1.0</td>\n",
       "      <td>0.002</td>\n",
       "    </tr>\n",
       "    <tr>\n",
       "      <th>231</th>\n",
       "      <td>20230104</td>\n",
       "      <td>동북권</td>\n",
       "      <td>광진구</td>\n",
       "      <td>34</td>\n",
       "      <td>22</td>\n",
       "      <td>0.010</td>\n",
       "      <td>0.023</td>\n",
       "      <td>0.7</td>\n",
       "      <td>0.002</td>\n",
       "    </tr>\n",
       "  </tbody>\n",
       "</table>\n",
       "</div>"
      ],
      "text/plain": [
       "         측정일자  권역명 측정소명  미세먼지(㎍/㎥)  초미세먼지(㎍/㎥)  오존(ppm)  이산화질소농도(ppm)  \\\n",
       "6    20230113  동북권  광진구         17          11    0.009         0.027   \n",
       "31   20230112  동북권  광진구         65          46    0.006         0.044   \n",
       "56   20230111  동북권  광진구         71          45    0.005         0.050   \n",
       "81   20230110  동북권  광진구         61          31    0.007         0.042   \n",
       "106  20230109  동북권  광진구        100          39    0.008         0.021   \n",
       "131  20230108  동북권  광진구        125          59    0.012         0.020   \n",
       "156  20230107  동북권  광진구        115          83    0.019         0.019   \n",
       "181  20230106  동북권  광진구         74          57    0.009         0.030   \n",
       "206  20230105  동북권  광진구         46          33    0.005         0.030   \n",
       "231  20230104  동북권  광진구         34          22    0.010         0.023   \n",
       "\n",
       "     일산화탄소농도(ppm)  아황산가스농도(ppm)  \n",
       "6             0.5         0.003  \n",
       "31            0.6         0.004  \n",
       "56            0.9         0.004  \n",
       "81            0.7         0.002  \n",
       "106           0.9         0.002  \n",
       "131           1.1         0.002  \n",
       "156           1.2         0.002  \n",
       "181           1.0         0.003  \n",
       "206           1.0         0.002  \n",
       "231           0.7         0.002  "
      ]
     },
     "execution_count": 6,
     "metadata": {},
     "output_type": "execute_result"
    }
   ],
   "source": [
    "### 광진구 자료만 추출하기\n",
    "\n",
    "gwangjin_daily = ATM_daily_df[ATM_daily_df['측정소명'] == '광진구']\n",
    "gwangjin_daily.head(10)"
   ]
  },
  {
   "cell_type": "code",
   "execution_count": 7,
   "metadata": {},
   "outputs": [
    {
     "data": {
      "text/plain": [
       "측정일자              int64\n",
       "권역명              object\n",
       "측정소명             object\n",
       "미세먼지(㎍/㎥)         int64\n",
       "초미세먼지(㎍/㎥)        int64\n",
       "오존(ppm)         float64\n",
       "이산화질소농도(ppm)    float64\n",
       "일산화탄소농도(ppm)    float64\n",
       "아황산가스농도(ppm)    float64\n",
       "dtype: object"
      ]
     },
     "execution_count": 7,
     "metadata": {},
     "output_type": "execute_result"
    }
   ],
   "source": [
    "### 데이터 타입\n",
    "\n",
    "gwangjin_daily.dtypes"
   ]
  },
  {
   "cell_type": "code",
   "execution_count": 8,
   "metadata": {},
   "outputs": [
    {
     "data": {
      "text/plain": [
       "측정일자            0\n",
       "권역명             0\n",
       "측정소명            0\n",
       "미세먼지(㎍/㎥)       0\n",
       "초미세먼지(㎍/㎥)      0\n",
       "오존(ppm)         0\n",
       "이산화질소농도(ppm)    0\n",
       "일산화탄소농도(ppm)    0\n",
       "아황산가스농도(ppm)    0\n",
       "dtype: int64"
      ]
     },
     "execution_count": 8,
     "metadata": {},
     "output_type": "execute_result"
    }
   ],
   "source": [
    "### 결측치 확인\n",
    "\n",
    "gwangjin_daily.isnull().sum()"
   ]
  },
  {
   "cell_type": "code",
   "execution_count": 9,
   "metadata": {},
   "outputs": [
    {
     "name": "stderr",
     "output_type": "stream",
     "text": [
      "C:\\Users\\izzle\\AppData\\Local\\Temp\\ipykernel_9692\\2156580655.py:3: SettingWithCopyWarning: \n",
      "A value is trying to be set on a copy of a slice from a DataFrame.\n",
      "Try using .loc[row_indexer,col_indexer] = value instead\n",
      "\n",
      "See the caveats in the documentation: https://pandas.pydata.org/pandas-docs/stable/user_guide/indexing.html#returning-a-view-versus-a-copy\n",
      "  gwangjin_daily['측정일자'] = gwangjin_daily['측정일자'].astype(str)\n",
      "C:\\Users\\izzle\\AppData\\Local\\Temp\\ipykernel_9692\\2156580655.py:4: SettingWithCopyWarning: \n",
      "A value is trying to be set on a copy of a slice from a DataFrame.\n",
      "Try using .loc[row_indexer,col_indexer] = value instead\n",
      "\n",
      "See the caveats in the documentation: https://pandas.pydata.org/pandas-docs/stable/user_guide/indexing.html#returning-a-view-versus-a-copy\n",
      "  gwangjin_daily['측정일자'] = pd.to_datetime(gwangjin_daily['측정일자'])\n"
     ]
    }
   ],
   "source": [
    "### datetime 적용하기\n",
    "\n",
    "gwangjin_daily['측정일자'] = gwangjin_daily['측정일자'].astype(str)\n",
    "gwangjin_daily['측정일자'] = pd.to_datetime(gwangjin_daily['측정일자'])"
   ]
  },
  {
   "cell_type": "code",
   "execution_count": 10,
   "metadata": {},
   "outputs": [
    {
     "data": {
      "text/plain": [
       "측정일자            datetime64[ns]\n",
       "권역명                     object\n",
       "측정소명                    object\n",
       "미세먼지(㎍/㎥)                int64\n",
       "초미세먼지(㎍/㎥)               int64\n",
       "오존(ppm)                float64\n",
       "이산화질소농도(ppm)           float64\n",
       "일산화탄소농도(ppm)           float64\n",
       "아황산가스농도(ppm)           float64\n",
       "dtype: object"
      ]
     },
     "execution_count": 10,
     "metadata": {},
     "output_type": "execute_result"
    }
   ],
   "source": [
    "### 데이터 타입 재확인\n",
    "\n",
    "gwangjin_daily.dtypes"
   ]
  },
  {
   "attachments": {},
   "cell_type": "markdown",
   "metadata": {},
   "source": [
    "##### 요일별 평균 및 정렬"
   ]
  },
  {
   "cell_type": "code",
   "execution_count": 11,
   "metadata": {},
   "outputs": [
    {
     "name": "stderr",
     "output_type": "stream",
     "text": [
      "C:\\Users\\izzle\\AppData\\Local\\Temp\\ipykernel_9692\\1418265821.py:4: SettingWithCopyWarning: \n",
      "A value is trying to be set on a copy of a slice from a DataFrame.\n",
      "Try using .loc[row_indexer,col_indexer] = value instead\n",
      "\n",
      "See the caveats in the documentation: https://pandas.pydata.org/pandas-docs/stable/user_guide/indexing.html#returning-a-view-versus-a-copy\n",
      "  gwangjin_daily['요일'] = gwangjin_daily['측정일자'].dt.weekday\n"
     ]
    },
    {
     "data": {
      "text/html": [
       "<div>\n",
       "<style scoped>\n",
       "    .dataframe tbody tr th:only-of-type {\n",
       "        vertical-align: middle;\n",
       "    }\n",
       "\n",
       "    .dataframe tbody tr th {\n",
       "        vertical-align: top;\n",
       "    }\n",
       "\n",
       "    .dataframe thead th {\n",
       "        text-align: right;\n",
       "    }\n",
       "</style>\n",
       "<table border=\"1\" class=\"dataframe\">\n",
       "  <thead>\n",
       "    <tr style=\"text-align: right;\">\n",
       "      <th></th>\n",
       "      <th>측정일자</th>\n",
       "      <th>권역명</th>\n",
       "      <th>측정소명</th>\n",
       "      <th>미세먼지(㎍/㎥)</th>\n",
       "      <th>초미세먼지(㎍/㎥)</th>\n",
       "      <th>오존(ppm)</th>\n",
       "      <th>이산화질소농도(ppm)</th>\n",
       "      <th>일산화탄소농도(ppm)</th>\n",
       "      <th>아황산가스농도(ppm)</th>\n",
       "      <th>요일</th>\n",
       "    </tr>\n",
       "  </thead>\n",
       "  <tbody>\n",
       "    <tr>\n",
       "      <th>6</th>\n",
       "      <td>2023-01-13</td>\n",
       "      <td>동북권</td>\n",
       "      <td>광진구</td>\n",
       "      <td>17</td>\n",
       "      <td>11</td>\n",
       "      <td>0.009</td>\n",
       "      <td>0.027</td>\n",
       "      <td>0.5</td>\n",
       "      <td>0.003</td>\n",
       "      <td>4</td>\n",
       "    </tr>\n",
       "    <tr>\n",
       "      <th>31</th>\n",
       "      <td>2023-01-12</td>\n",
       "      <td>동북권</td>\n",
       "      <td>광진구</td>\n",
       "      <td>65</td>\n",
       "      <td>46</td>\n",
       "      <td>0.006</td>\n",
       "      <td>0.044</td>\n",
       "      <td>0.6</td>\n",
       "      <td>0.004</td>\n",
       "      <td>3</td>\n",
       "    </tr>\n",
       "    <tr>\n",
       "      <th>56</th>\n",
       "      <td>2023-01-11</td>\n",
       "      <td>동북권</td>\n",
       "      <td>광진구</td>\n",
       "      <td>71</td>\n",
       "      <td>45</td>\n",
       "      <td>0.005</td>\n",
       "      <td>0.050</td>\n",
       "      <td>0.9</td>\n",
       "      <td>0.004</td>\n",
       "      <td>2</td>\n",
       "    </tr>\n",
       "    <tr>\n",
       "      <th>81</th>\n",
       "      <td>2023-01-10</td>\n",
       "      <td>동북권</td>\n",
       "      <td>광진구</td>\n",
       "      <td>61</td>\n",
       "      <td>31</td>\n",
       "      <td>0.007</td>\n",
       "      <td>0.042</td>\n",
       "      <td>0.7</td>\n",
       "      <td>0.002</td>\n",
       "      <td>1</td>\n",
       "    </tr>\n",
       "    <tr>\n",
       "      <th>106</th>\n",
       "      <td>2023-01-09</td>\n",
       "      <td>동북권</td>\n",
       "      <td>광진구</td>\n",
       "      <td>100</td>\n",
       "      <td>39</td>\n",
       "      <td>0.008</td>\n",
       "      <td>0.021</td>\n",
       "      <td>0.9</td>\n",
       "      <td>0.002</td>\n",
       "      <td>0</td>\n",
       "    </tr>\n",
       "  </tbody>\n",
       "</table>\n",
       "</div>"
      ],
      "text/plain": [
       "          측정일자  권역명 측정소명  미세먼지(㎍/㎥)  초미세먼지(㎍/㎥)  오존(ppm)  이산화질소농도(ppm)  \\\n",
       "6   2023-01-13  동북권  광진구         17          11    0.009         0.027   \n",
       "31  2023-01-12  동북권  광진구         65          46    0.006         0.044   \n",
       "56  2023-01-11  동북권  광진구         71          45    0.005         0.050   \n",
       "81  2023-01-10  동북권  광진구         61          31    0.007         0.042   \n",
       "106 2023-01-09  동북권  광진구        100          39    0.008         0.021   \n",
       "\n",
       "     일산화탄소농도(ppm)  아황산가스농도(ppm)  요일  \n",
       "6             0.5         0.003   4  \n",
       "31            0.6         0.004   3  \n",
       "56            0.9         0.004   2  \n",
       "81            0.7         0.002   1  \n",
       "106           0.9         0.002   0  "
      ]
     },
     "execution_count": 11,
     "metadata": {},
     "output_type": "execute_result"
    }
   ],
   "source": [
    "### 요일 알아내기\n",
    "# 0: 월요일, 1: 화요일, 2: 수요일, 3: 목요일, 4: 금요일, 5: 토요일, 6: 일요일\n",
    "\n",
    "gwangjin_daily['요일'] = gwangjin_daily['측정일자'].dt.weekday\n",
    "gwangjin_daily.head()"
   ]
  },
  {
   "cell_type": "code",
   "execution_count": 12,
   "metadata": {},
   "outputs": [
    {
     "name": "stderr",
     "output_type": "stream",
     "text": [
      "C:\\Users\\izzle\\AppData\\Local\\Temp\\ipykernel_9692\\664376088.py:4: FutureWarning: The default value of numeric_only in DataFrameGroupBy.mean is deprecated. In a future version, numeric_only will default to False. Either specify numeric_only or select only columns which should be valid for the function.\n",
      "  day_group.mean()\n"
     ]
    },
    {
     "data": {
      "text/html": [
       "<div>\n",
       "<style scoped>\n",
       "    .dataframe tbody tr th:only-of-type {\n",
       "        vertical-align: middle;\n",
       "    }\n",
       "\n",
       "    .dataframe tbody tr th {\n",
       "        vertical-align: top;\n",
       "    }\n",
       "\n",
       "    .dataframe thead th {\n",
       "        text-align: right;\n",
       "    }\n",
       "</style>\n",
       "<table border=\"1\" class=\"dataframe\">\n",
       "  <thead>\n",
       "    <tr style=\"text-align: right;\">\n",
       "      <th></th>\n",
       "      <th>미세먼지(㎍/㎥)</th>\n",
       "      <th>초미세먼지(㎍/㎥)</th>\n",
       "      <th>오존(ppm)</th>\n",
       "      <th>이산화질소농도(ppm)</th>\n",
       "      <th>일산화탄소농도(ppm)</th>\n",
       "      <th>아황산가스농도(ppm)</th>\n",
       "    </tr>\n",
       "    <tr>\n",
       "      <th>요일</th>\n",
       "      <th></th>\n",
       "      <th></th>\n",
       "      <th></th>\n",
       "      <th></th>\n",
       "      <th></th>\n",
       "      <th></th>\n",
       "    </tr>\n",
       "  </thead>\n",
       "  <tbody>\n",
       "    <tr>\n",
       "      <th>0</th>\n",
       "      <td>28.557692</td>\n",
       "      <td>16.096154</td>\n",
       "      <td>0.026327</td>\n",
       "      <td>0.017596</td>\n",
       "      <td>0.467308</td>\n",
       "      <td>0.002827</td>\n",
       "    </tr>\n",
       "    <tr>\n",
       "      <th>1</th>\n",
       "      <td>32.750000</td>\n",
       "      <td>17.423077</td>\n",
       "      <td>0.026923</td>\n",
       "      <td>0.018462</td>\n",
       "      <td>0.467308</td>\n",
       "      <td>0.002942</td>\n",
       "    </tr>\n",
       "    <tr>\n",
       "      <th>2</th>\n",
       "      <td>33.307692</td>\n",
       "      <td>17.961538</td>\n",
       "      <td>0.026404</td>\n",
       "      <td>0.019519</td>\n",
       "      <td>0.475000</td>\n",
       "      <td>0.002865</td>\n",
       "    </tr>\n",
       "    <tr>\n",
       "      <th>3</th>\n",
       "      <td>31.557692</td>\n",
       "      <td>17.865385</td>\n",
       "      <td>0.026385</td>\n",
       "      <td>0.020154</td>\n",
       "      <td>0.486538</td>\n",
       "      <td>0.002846</td>\n",
       "    </tr>\n",
       "    <tr>\n",
       "      <th>4</th>\n",
       "      <td>32.320755</td>\n",
       "      <td>19.584906</td>\n",
       "      <td>0.027604</td>\n",
       "      <td>0.019962</td>\n",
       "      <td>0.486792</td>\n",
       "      <td>0.002887</td>\n",
       "    </tr>\n",
       "    <tr>\n",
       "      <th>5</th>\n",
       "      <td>34.634615</td>\n",
       "      <td>20.711538</td>\n",
       "      <td>0.029712</td>\n",
       "      <td>0.017462</td>\n",
       "      <td>0.490385</td>\n",
       "      <td>0.002788</td>\n",
       "    </tr>\n",
       "    <tr>\n",
       "      <th>6</th>\n",
       "      <td>31.269231</td>\n",
       "      <td>18.653846</td>\n",
       "      <td>0.030769</td>\n",
       "      <td>0.013865</td>\n",
       "      <td>0.484615</td>\n",
       "      <td>0.002788</td>\n",
       "    </tr>\n",
       "  </tbody>\n",
       "</table>\n",
       "</div>"
      ],
      "text/plain": [
       "    미세먼지(㎍/㎥)  초미세먼지(㎍/㎥)   오존(ppm)  이산화질소농도(ppm)  일산화탄소농도(ppm)  아황산가스농도(ppm)\n",
       "요일                                                                           \n",
       "0   28.557692   16.096154  0.026327      0.017596      0.467308      0.002827\n",
       "1   32.750000   17.423077  0.026923      0.018462      0.467308      0.002942\n",
       "2   33.307692   17.961538  0.026404      0.019519      0.475000      0.002865\n",
       "3   31.557692   17.865385  0.026385      0.020154      0.486538      0.002846\n",
       "4   32.320755   19.584906  0.027604      0.019962      0.486792      0.002887\n",
       "5   34.634615   20.711538  0.029712      0.017462      0.490385      0.002788\n",
       "6   31.269231   18.653846  0.030769      0.013865      0.484615      0.002788"
      ]
     },
     "execution_count": 12,
     "metadata": {},
     "output_type": "execute_result"
    }
   ],
   "source": [
    "### 요일별 평균 알아내기\n",
    "\n",
    "day_group = gwangjin_daily.groupby('요일')\n",
    "day_group.mean()"
   ]
  },
  {
   "cell_type": "code",
   "execution_count": 13,
   "metadata": {},
   "outputs": [
    {
     "name": "stderr",
     "output_type": "stream",
     "text": [
      "C:\\Users\\izzle\\AppData\\Local\\Temp\\ipykernel_9692\\3796659411.py:3: FutureWarning: The default value of numeric_only in DataFrameGroupBy.mean is deprecated. In a future version, numeric_only will default to False. Either specify numeric_only or select only columns which should be valid for the function.\n",
      "  day_group.mean().sort_values(by='이산화질소농도(ppm)', ascending=False, inplace=False)\n"
     ]
    },
    {
     "data": {
      "text/html": [
       "<div>\n",
       "<style scoped>\n",
       "    .dataframe tbody tr th:only-of-type {\n",
       "        vertical-align: middle;\n",
       "    }\n",
       "\n",
       "    .dataframe tbody tr th {\n",
       "        vertical-align: top;\n",
       "    }\n",
       "\n",
       "    .dataframe thead th {\n",
       "        text-align: right;\n",
       "    }\n",
       "</style>\n",
       "<table border=\"1\" class=\"dataframe\">\n",
       "  <thead>\n",
       "    <tr style=\"text-align: right;\">\n",
       "      <th></th>\n",
       "      <th>미세먼지(㎍/㎥)</th>\n",
       "      <th>초미세먼지(㎍/㎥)</th>\n",
       "      <th>오존(ppm)</th>\n",
       "      <th>이산화질소농도(ppm)</th>\n",
       "      <th>일산화탄소농도(ppm)</th>\n",
       "      <th>아황산가스농도(ppm)</th>\n",
       "    </tr>\n",
       "    <tr>\n",
       "      <th>요일</th>\n",
       "      <th></th>\n",
       "      <th></th>\n",
       "      <th></th>\n",
       "      <th></th>\n",
       "      <th></th>\n",
       "      <th></th>\n",
       "    </tr>\n",
       "  </thead>\n",
       "  <tbody>\n",
       "    <tr>\n",
       "      <th>3</th>\n",
       "      <td>31.557692</td>\n",
       "      <td>17.865385</td>\n",
       "      <td>0.026385</td>\n",
       "      <td>0.020154</td>\n",
       "      <td>0.486538</td>\n",
       "      <td>0.002846</td>\n",
       "    </tr>\n",
       "    <tr>\n",
       "      <th>4</th>\n",
       "      <td>32.320755</td>\n",
       "      <td>19.584906</td>\n",
       "      <td>0.027604</td>\n",
       "      <td>0.019962</td>\n",
       "      <td>0.486792</td>\n",
       "      <td>0.002887</td>\n",
       "    </tr>\n",
       "    <tr>\n",
       "      <th>2</th>\n",
       "      <td>33.307692</td>\n",
       "      <td>17.961538</td>\n",
       "      <td>0.026404</td>\n",
       "      <td>0.019519</td>\n",
       "      <td>0.475000</td>\n",
       "      <td>0.002865</td>\n",
       "    </tr>\n",
       "    <tr>\n",
       "      <th>1</th>\n",
       "      <td>32.750000</td>\n",
       "      <td>17.423077</td>\n",
       "      <td>0.026923</td>\n",
       "      <td>0.018462</td>\n",
       "      <td>0.467308</td>\n",
       "      <td>0.002942</td>\n",
       "    </tr>\n",
       "    <tr>\n",
       "      <th>0</th>\n",
       "      <td>28.557692</td>\n",
       "      <td>16.096154</td>\n",
       "      <td>0.026327</td>\n",
       "      <td>0.017596</td>\n",
       "      <td>0.467308</td>\n",
       "      <td>0.002827</td>\n",
       "    </tr>\n",
       "    <tr>\n",
       "      <th>5</th>\n",
       "      <td>34.634615</td>\n",
       "      <td>20.711538</td>\n",
       "      <td>0.029712</td>\n",
       "      <td>0.017462</td>\n",
       "      <td>0.490385</td>\n",
       "      <td>0.002788</td>\n",
       "    </tr>\n",
       "    <tr>\n",
       "      <th>6</th>\n",
       "      <td>31.269231</td>\n",
       "      <td>18.653846</td>\n",
       "      <td>0.030769</td>\n",
       "      <td>0.013865</td>\n",
       "      <td>0.484615</td>\n",
       "      <td>0.002788</td>\n",
       "    </tr>\n",
       "  </tbody>\n",
       "</table>\n",
       "</div>"
      ],
      "text/plain": [
       "    미세먼지(㎍/㎥)  초미세먼지(㎍/㎥)   오존(ppm)  이산화질소농도(ppm)  일산화탄소농도(ppm)  아황산가스농도(ppm)\n",
       "요일                                                                           \n",
       "3   31.557692   17.865385  0.026385      0.020154      0.486538      0.002846\n",
       "4   32.320755   19.584906  0.027604      0.019962      0.486792      0.002887\n",
       "2   33.307692   17.961538  0.026404      0.019519      0.475000      0.002865\n",
       "1   32.750000   17.423077  0.026923      0.018462      0.467308      0.002942\n",
       "0   28.557692   16.096154  0.026327      0.017596      0.467308      0.002827\n",
       "5   34.634615   20.711538  0.029712      0.017462      0.490385      0.002788\n",
       "6   31.269231   18.653846  0.030769      0.013865      0.484615      0.002788"
      ]
     },
     "execution_count": 13,
     "metadata": {},
     "output_type": "execute_result"
    }
   ],
   "source": [
    "### 이산화질소 농도에 대해 내림차순\n",
    "\n",
    "day_group.mean().sort_values(by='이산화질소농도(ppm)', ascending=False, inplace=False)\n",
    "\n",
    "# 이산화질소 농도는 평균적으로 목요일이 가장 높고, 일요일이 가장 낮다"
   ]
  },
  {
   "cell_type": "code",
   "execution_count": 14,
   "metadata": {},
   "outputs": [
    {
     "name": "stderr",
     "output_type": "stream",
     "text": [
      "C:\\Users\\izzle\\AppData\\Local\\Temp\\ipykernel_9692\\4277865156.py:3: FutureWarning: The default value of numeric_only in DataFrameGroupBy.mean is deprecated. In a future version, numeric_only will default to False. Either specify numeric_only or select only columns which should be valid for the function.\n",
      "  day_group.mean().sort_values(by='오존(ppm)', ascending=False, inplace=False)\n"
     ]
    },
    {
     "data": {
      "text/html": [
       "<div>\n",
       "<style scoped>\n",
       "    .dataframe tbody tr th:only-of-type {\n",
       "        vertical-align: middle;\n",
       "    }\n",
       "\n",
       "    .dataframe tbody tr th {\n",
       "        vertical-align: top;\n",
       "    }\n",
       "\n",
       "    .dataframe thead th {\n",
       "        text-align: right;\n",
       "    }\n",
       "</style>\n",
       "<table border=\"1\" class=\"dataframe\">\n",
       "  <thead>\n",
       "    <tr style=\"text-align: right;\">\n",
       "      <th></th>\n",
       "      <th>미세먼지(㎍/㎥)</th>\n",
       "      <th>초미세먼지(㎍/㎥)</th>\n",
       "      <th>오존(ppm)</th>\n",
       "      <th>이산화질소농도(ppm)</th>\n",
       "      <th>일산화탄소농도(ppm)</th>\n",
       "      <th>아황산가스농도(ppm)</th>\n",
       "    </tr>\n",
       "    <tr>\n",
       "      <th>요일</th>\n",
       "      <th></th>\n",
       "      <th></th>\n",
       "      <th></th>\n",
       "      <th></th>\n",
       "      <th></th>\n",
       "      <th></th>\n",
       "    </tr>\n",
       "  </thead>\n",
       "  <tbody>\n",
       "    <tr>\n",
       "      <th>6</th>\n",
       "      <td>31.269231</td>\n",
       "      <td>18.653846</td>\n",
       "      <td>0.030769</td>\n",
       "      <td>0.013865</td>\n",
       "      <td>0.484615</td>\n",
       "      <td>0.002788</td>\n",
       "    </tr>\n",
       "    <tr>\n",
       "      <th>5</th>\n",
       "      <td>34.634615</td>\n",
       "      <td>20.711538</td>\n",
       "      <td>0.029712</td>\n",
       "      <td>0.017462</td>\n",
       "      <td>0.490385</td>\n",
       "      <td>0.002788</td>\n",
       "    </tr>\n",
       "    <tr>\n",
       "      <th>4</th>\n",
       "      <td>32.320755</td>\n",
       "      <td>19.584906</td>\n",
       "      <td>0.027604</td>\n",
       "      <td>0.019962</td>\n",
       "      <td>0.486792</td>\n",
       "      <td>0.002887</td>\n",
       "    </tr>\n",
       "    <tr>\n",
       "      <th>1</th>\n",
       "      <td>32.750000</td>\n",
       "      <td>17.423077</td>\n",
       "      <td>0.026923</td>\n",
       "      <td>0.018462</td>\n",
       "      <td>0.467308</td>\n",
       "      <td>0.002942</td>\n",
       "    </tr>\n",
       "    <tr>\n",
       "      <th>2</th>\n",
       "      <td>33.307692</td>\n",
       "      <td>17.961538</td>\n",
       "      <td>0.026404</td>\n",
       "      <td>0.019519</td>\n",
       "      <td>0.475000</td>\n",
       "      <td>0.002865</td>\n",
       "    </tr>\n",
       "    <tr>\n",
       "      <th>3</th>\n",
       "      <td>31.557692</td>\n",
       "      <td>17.865385</td>\n",
       "      <td>0.026385</td>\n",
       "      <td>0.020154</td>\n",
       "      <td>0.486538</td>\n",
       "      <td>0.002846</td>\n",
       "    </tr>\n",
       "    <tr>\n",
       "      <th>0</th>\n",
       "      <td>28.557692</td>\n",
       "      <td>16.096154</td>\n",
       "      <td>0.026327</td>\n",
       "      <td>0.017596</td>\n",
       "      <td>0.467308</td>\n",
       "      <td>0.002827</td>\n",
       "    </tr>\n",
       "  </tbody>\n",
       "</table>\n",
       "</div>"
      ],
      "text/plain": [
       "    미세먼지(㎍/㎥)  초미세먼지(㎍/㎥)   오존(ppm)  이산화질소농도(ppm)  일산화탄소농도(ppm)  아황산가스농도(ppm)\n",
       "요일                                                                           \n",
       "6   31.269231   18.653846  0.030769      0.013865      0.484615      0.002788\n",
       "5   34.634615   20.711538  0.029712      0.017462      0.490385      0.002788\n",
       "4   32.320755   19.584906  0.027604      0.019962      0.486792      0.002887\n",
       "1   32.750000   17.423077  0.026923      0.018462      0.467308      0.002942\n",
       "2   33.307692   17.961538  0.026404      0.019519      0.475000      0.002865\n",
       "3   31.557692   17.865385  0.026385      0.020154      0.486538      0.002846\n",
       "0   28.557692   16.096154  0.026327      0.017596      0.467308      0.002827"
      ]
     },
     "execution_count": 14,
     "metadata": {},
     "output_type": "execute_result"
    }
   ],
   "source": [
    "### 오존 농도에 대해 내림차순\n",
    "\n",
    "day_group.mean().sort_values(by='오존(ppm)', ascending=False, inplace=False)\n",
    "\n",
    "# 오존 농도는 평균적으로 일요일이 가장 높고, 월요일이 가장 낮다"
   ]
  },
  {
   "cell_type": "code",
   "execution_count": 15,
   "metadata": {},
   "outputs": [
    {
     "name": "stderr",
     "output_type": "stream",
     "text": [
      "C:\\Users\\izzle\\AppData\\Local\\Temp\\ipykernel_9692\\4248288363.py:3: FutureWarning: The default value of numeric_only in DataFrameGroupBy.mean is deprecated. In a future version, numeric_only will default to False. Either specify numeric_only or select only columns which should be valid for the function.\n",
      "  day_group.mean().sort_values(by='미세먼지(㎍/㎥)', ascending=False, inplace=False)\n"
     ]
    },
    {
     "data": {
      "text/html": [
       "<div>\n",
       "<style scoped>\n",
       "    .dataframe tbody tr th:only-of-type {\n",
       "        vertical-align: middle;\n",
       "    }\n",
       "\n",
       "    .dataframe tbody tr th {\n",
       "        vertical-align: top;\n",
       "    }\n",
       "\n",
       "    .dataframe thead th {\n",
       "        text-align: right;\n",
       "    }\n",
       "</style>\n",
       "<table border=\"1\" class=\"dataframe\">\n",
       "  <thead>\n",
       "    <tr style=\"text-align: right;\">\n",
       "      <th></th>\n",
       "      <th>미세먼지(㎍/㎥)</th>\n",
       "      <th>초미세먼지(㎍/㎥)</th>\n",
       "      <th>오존(ppm)</th>\n",
       "      <th>이산화질소농도(ppm)</th>\n",
       "      <th>일산화탄소농도(ppm)</th>\n",
       "      <th>아황산가스농도(ppm)</th>\n",
       "    </tr>\n",
       "    <tr>\n",
       "      <th>요일</th>\n",
       "      <th></th>\n",
       "      <th></th>\n",
       "      <th></th>\n",
       "      <th></th>\n",
       "      <th></th>\n",
       "      <th></th>\n",
       "    </tr>\n",
       "  </thead>\n",
       "  <tbody>\n",
       "    <tr>\n",
       "      <th>5</th>\n",
       "      <td>34.634615</td>\n",
       "      <td>20.711538</td>\n",
       "      <td>0.029712</td>\n",
       "      <td>0.017462</td>\n",
       "      <td>0.490385</td>\n",
       "      <td>0.002788</td>\n",
       "    </tr>\n",
       "    <tr>\n",
       "      <th>2</th>\n",
       "      <td>33.307692</td>\n",
       "      <td>17.961538</td>\n",
       "      <td>0.026404</td>\n",
       "      <td>0.019519</td>\n",
       "      <td>0.475000</td>\n",
       "      <td>0.002865</td>\n",
       "    </tr>\n",
       "    <tr>\n",
       "      <th>1</th>\n",
       "      <td>32.750000</td>\n",
       "      <td>17.423077</td>\n",
       "      <td>0.026923</td>\n",
       "      <td>0.018462</td>\n",
       "      <td>0.467308</td>\n",
       "      <td>0.002942</td>\n",
       "    </tr>\n",
       "    <tr>\n",
       "      <th>4</th>\n",
       "      <td>32.320755</td>\n",
       "      <td>19.584906</td>\n",
       "      <td>0.027604</td>\n",
       "      <td>0.019962</td>\n",
       "      <td>0.486792</td>\n",
       "      <td>0.002887</td>\n",
       "    </tr>\n",
       "    <tr>\n",
       "      <th>3</th>\n",
       "      <td>31.557692</td>\n",
       "      <td>17.865385</td>\n",
       "      <td>0.026385</td>\n",
       "      <td>0.020154</td>\n",
       "      <td>0.486538</td>\n",
       "      <td>0.002846</td>\n",
       "    </tr>\n",
       "    <tr>\n",
       "      <th>6</th>\n",
       "      <td>31.269231</td>\n",
       "      <td>18.653846</td>\n",
       "      <td>0.030769</td>\n",
       "      <td>0.013865</td>\n",
       "      <td>0.484615</td>\n",
       "      <td>0.002788</td>\n",
       "    </tr>\n",
       "    <tr>\n",
       "      <th>0</th>\n",
       "      <td>28.557692</td>\n",
       "      <td>16.096154</td>\n",
       "      <td>0.026327</td>\n",
       "      <td>0.017596</td>\n",
       "      <td>0.467308</td>\n",
       "      <td>0.002827</td>\n",
       "    </tr>\n",
       "  </tbody>\n",
       "</table>\n",
       "</div>"
      ],
      "text/plain": [
       "    미세먼지(㎍/㎥)  초미세먼지(㎍/㎥)   오존(ppm)  이산화질소농도(ppm)  일산화탄소농도(ppm)  아황산가스농도(ppm)\n",
       "요일                                                                           \n",
       "5   34.634615   20.711538  0.029712      0.017462      0.490385      0.002788\n",
       "2   33.307692   17.961538  0.026404      0.019519      0.475000      0.002865\n",
       "1   32.750000   17.423077  0.026923      0.018462      0.467308      0.002942\n",
       "4   32.320755   19.584906  0.027604      0.019962      0.486792      0.002887\n",
       "3   31.557692   17.865385  0.026385      0.020154      0.486538      0.002846\n",
       "6   31.269231   18.653846  0.030769      0.013865      0.484615      0.002788\n",
       "0   28.557692   16.096154  0.026327      0.017596      0.467308      0.002827"
      ]
     },
     "execution_count": 15,
     "metadata": {},
     "output_type": "execute_result"
    }
   ],
   "source": [
    "### 미세먼지 농도에 대해 내림차순\n",
    "\n",
    "day_group.mean().sort_values(by='미세먼지(㎍/㎥)', ascending=False, inplace=False)\n",
    "\n",
    "# 미세먼지 농도는 평균적으로 토요일이 가장 높고, 월요일이 가장 낮다"
   ]
  },
  {
   "cell_type": "code",
   "execution_count": 16,
   "metadata": {},
   "outputs": [
    {
     "name": "stderr",
     "output_type": "stream",
     "text": [
      "C:\\Users\\izzle\\AppData\\Local\\Temp\\ipykernel_9692\\3796434036.py:3: FutureWarning: The default value of numeric_only in DataFrameGroupBy.mean is deprecated. In a future version, numeric_only will default to False. Either specify numeric_only or select only columns which should be valid for the function.\n",
      "  day_group.mean().sort_values(by='초미세먼지(㎍/㎥)', ascending=False, inplace=False)\n"
     ]
    },
    {
     "data": {
      "text/html": [
       "<div>\n",
       "<style scoped>\n",
       "    .dataframe tbody tr th:only-of-type {\n",
       "        vertical-align: middle;\n",
       "    }\n",
       "\n",
       "    .dataframe tbody tr th {\n",
       "        vertical-align: top;\n",
       "    }\n",
       "\n",
       "    .dataframe thead th {\n",
       "        text-align: right;\n",
       "    }\n",
       "</style>\n",
       "<table border=\"1\" class=\"dataframe\">\n",
       "  <thead>\n",
       "    <tr style=\"text-align: right;\">\n",
       "      <th></th>\n",
       "      <th>미세먼지(㎍/㎥)</th>\n",
       "      <th>초미세먼지(㎍/㎥)</th>\n",
       "      <th>오존(ppm)</th>\n",
       "      <th>이산화질소농도(ppm)</th>\n",
       "      <th>일산화탄소농도(ppm)</th>\n",
       "      <th>아황산가스농도(ppm)</th>\n",
       "    </tr>\n",
       "    <tr>\n",
       "      <th>요일</th>\n",
       "      <th></th>\n",
       "      <th></th>\n",
       "      <th></th>\n",
       "      <th></th>\n",
       "      <th></th>\n",
       "      <th></th>\n",
       "    </tr>\n",
       "  </thead>\n",
       "  <tbody>\n",
       "    <tr>\n",
       "      <th>5</th>\n",
       "      <td>34.634615</td>\n",
       "      <td>20.711538</td>\n",
       "      <td>0.029712</td>\n",
       "      <td>0.017462</td>\n",
       "      <td>0.490385</td>\n",
       "      <td>0.002788</td>\n",
       "    </tr>\n",
       "    <tr>\n",
       "      <th>4</th>\n",
       "      <td>32.320755</td>\n",
       "      <td>19.584906</td>\n",
       "      <td>0.027604</td>\n",
       "      <td>0.019962</td>\n",
       "      <td>0.486792</td>\n",
       "      <td>0.002887</td>\n",
       "    </tr>\n",
       "    <tr>\n",
       "      <th>6</th>\n",
       "      <td>31.269231</td>\n",
       "      <td>18.653846</td>\n",
       "      <td>0.030769</td>\n",
       "      <td>0.013865</td>\n",
       "      <td>0.484615</td>\n",
       "      <td>0.002788</td>\n",
       "    </tr>\n",
       "    <tr>\n",
       "      <th>2</th>\n",
       "      <td>33.307692</td>\n",
       "      <td>17.961538</td>\n",
       "      <td>0.026404</td>\n",
       "      <td>0.019519</td>\n",
       "      <td>0.475000</td>\n",
       "      <td>0.002865</td>\n",
       "    </tr>\n",
       "    <tr>\n",
       "      <th>3</th>\n",
       "      <td>31.557692</td>\n",
       "      <td>17.865385</td>\n",
       "      <td>0.026385</td>\n",
       "      <td>0.020154</td>\n",
       "      <td>0.486538</td>\n",
       "      <td>0.002846</td>\n",
       "    </tr>\n",
       "    <tr>\n",
       "      <th>1</th>\n",
       "      <td>32.750000</td>\n",
       "      <td>17.423077</td>\n",
       "      <td>0.026923</td>\n",
       "      <td>0.018462</td>\n",
       "      <td>0.467308</td>\n",
       "      <td>0.002942</td>\n",
       "    </tr>\n",
       "    <tr>\n",
       "      <th>0</th>\n",
       "      <td>28.557692</td>\n",
       "      <td>16.096154</td>\n",
       "      <td>0.026327</td>\n",
       "      <td>0.017596</td>\n",
       "      <td>0.467308</td>\n",
       "      <td>0.002827</td>\n",
       "    </tr>\n",
       "  </tbody>\n",
       "</table>\n",
       "</div>"
      ],
      "text/plain": [
       "    미세먼지(㎍/㎥)  초미세먼지(㎍/㎥)   오존(ppm)  이산화질소농도(ppm)  일산화탄소농도(ppm)  아황산가스농도(ppm)\n",
       "요일                                                                           \n",
       "5   34.634615   20.711538  0.029712      0.017462      0.490385      0.002788\n",
       "4   32.320755   19.584906  0.027604      0.019962      0.486792      0.002887\n",
       "6   31.269231   18.653846  0.030769      0.013865      0.484615      0.002788\n",
       "2   33.307692   17.961538  0.026404      0.019519      0.475000      0.002865\n",
       "3   31.557692   17.865385  0.026385      0.020154      0.486538      0.002846\n",
       "1   32.750000   17.423077  0.026923      0.018462      0.467308      0.002942\n",
       "0   28.557692   16.096154  0.026327      0.017596      0.467308      0.002827"
      ]
     },
     "execution_count": 16,
     "metadata": {},
     "output_type": "execute_result"
    }
   ],
   "source": [
    "### 초미세먼지 농도에 대해 내림차순\n",
    "\n",
    "day_group.mean().sort_values(by='초미세먼지(㎍/㎥)', ascending=False, inplace=False)\n",
    "\n",
    "# 초미세먼지 농도는 평균적으로 금요일이 가장 높고, 월요일이 가장 낮다"
   ]
  },
  {
   "attachments": {},
   "cell_type": "markdown",
   "metadata": {},
   "source": [
    "##### 요일별 barplot"
   ]
  },
  {
   "cell_type": "code",
   "execution_count": 17,
   "metadata": {},
   "outputs": [
    {
     "data": {
      "text/plain": [
       "Text(0.5, 1.0, '광진구 요일별 이산화질소 농도 barplot')"
      ]
     },
     "execution_count": 17,
     "metadata": {},
     "output_type": "execute_result"
    },
    {
     "data": {
      "image/png": "[encoded data removed]",
      "text/plain": [
       "<Figure size 720x432 with 1 Axes>"
      ]
     },
     "metadata": {
      "needs_background": "light"
     },
     "output_type": "display_data"
    }
   ],
   "source": [
    "### 이산화질소 농도 요일별 barplot\n",
    "\n",
    "plt.figure(figsize = (10, 6))\n",
    "sns.barplot(data = gwangjin_daily, x = '요일', y = '이산화질소농도(ppm)', palette = col, order = [0, 1, 2, 3, 4, 5, 6])\n",
    "plt.xticks([0, 1, 2, 3, 4, 5, 6], ['월', '화', '수', '목', '금', '토', '일'])\n",
    "plt.title('광진구 요일별 이산화질소 농도 barplot', fontsize = 15, pad = 20)\n",
    "\n",
    "# plt.savefig('광진구 이산화질소 농도 요일별 barplot.png', facecolor = 'white', bbox_inches='tight', pad_inches=0.5)"
   ]
  },
  {
   "cell_type": "code",
   "execution_count": 18,
   "metadata": {},
   "outputs": [
    {
     "data": {
      "text/plain": [
       "Text(0.5, 1.0, '광진구 요일별 오존 농도 barplot')"
      ]
     },
     "execution_count": 18,
     "metadata": {},
     "output_type": "execute_result"
    },
    {
     "data": {
      "image/png": "[encoded data removed]",
      "text/plain": [
       "<Figure size 720x432 with 1 Axes>"
      ]
     },
     "metadata": {
      "needs_background": "light"
     },
     "output_type": "display_data"
    }
   ],
   "source": [
    "### 오존 농도 요일별 barplot\n",
    "\n",
    "plt.figure(figsize = (10, 6))\n",
    "sns.barplot(data = gwangjin_daily, x = '요일', y = '오존(ppm)', palette = col, order = [0, 1, 2, 3, 4, 5, 6])\n",
    "plt.xticks([0, 1, 2, 3, 4, 5, 6], ['월', '화', '수', '목', '금', '토', '일'])\n",
    "plt.title('광진구 요일별 오존 농도 barplot', fontsize = 15, pad = 20)\n",
    "\n",
    "# plt.savefig('광진구 오존 농도 요일별 barplot.png', facecolor = 'white', bbox_inches='tight', pad_inches=0.5)"
   ]
  },
  {
   "cell_type": "code",
   "execution_count": 19,
   "metadata": {},
   "outputs": [
    {
     "data": {
      "text/plain": [
       "Text(0.5, 1.0, '광진구 요일별 미세먼지 농도 barplot')"
      ]
     },
     "execution_count": 19,
     "metadata": {},
     "output_type": "execute_result"
    },
    {
     "data": {
      "image/png": "[encoded data removed]",
      "text/plain": [
       "<Figure size 720x432 with 1 Axes>"
      ]
     },
     "metadata": {
      "needs_background": "light"
     },
     "output_type": "display_data"
    }
   ],
   "source": [
    "### 미세먼지 농도 요일별 barplot\n",
    "\n",
    "plt.figure(figsize = (10, 6))\n",
    "sns.barplot(data = gwangjin_daily, x = '요일', y = '미세먼지(㎍/㎥)', palette = col, order = [0, 1, 2, 3, 4, 5, 6])\n",
    "plt.xticks([0, 1, 2, 3, 4, 5, 6], ['월', '화', '수', '목', '금', '토', '일'])\n",
    "plt.title('광진구 요일별 미세먼지 농도 barplot', fontsize = 15, pad = 20)\n",
    "\n",
    "# plt.savefig('광진구 미세먼지 농도 요일별 barplot.png', facecolor = 'white', bbox_inches='tight', pad_inches=0.5)"
   ]
  },
  {
   "cell_type": "code",
   "execution_count": 20,
   "metadata": {},
   "outputs": [
    {
     "data": {
      "text/plain": [
       "Text(0.5, 1.0, '광진구 요일별 초미세먼지 농도 barplot')"
      ]
     },
     "execution_count": 20,
     "metadata": {},
     "output_type": "execute_result"
    },
    {
     "data": {
      "image/png": "[encoded data removed]",
      "text/plain": [
       "<Figure size 720x432 with 1 Axes>"
      ]
     },
     "metadata": {
      "needs_background": "light"
     },
     "output_type": "display_data"
    }
   ],
   "source": [
    "### 초미세먼지 농도 요일별 barplot\n",
    "\n",
    "plt.figure(figsize = (10, 6))\n",
    "sns.barplot(data = gwangjin_daily, x = '요일', y = '초미세먼지(㎍/㎥)', palette = col, order = [0, 1, 2, 3, 4, 5, 6])\n",
    "plt.xticks([0, 1, 2, 3, 4, 5, 6], ['월', '화', '수', '목', '금', '토', '일'])\n",
    "plt.title('광진구 요일별 초미세먼지 농도 barplot', fontsize = 15, pad = 20)\n",
    "\n",
    "# plt.savefig('광진구 초미세먼지 농도 요일별 barplot.png', facecolor = 'white', bbox_inches='tight', pad_inches=0.5)"
   ]
  },
  {
   "attachments": {},
   "cell_type": "markdown",
   "metadata": {},
   "source": [
    "##### 요일별 box plot"
   ]
  },
  {
   "cell_type": "code",
   "execution_count": 21,
   "metadata": {},
   "outputs": [
    {
     "data": {
      "text/plain": [
       "Text(0, 0.5, '농도(ppm)')"
      ]
     },
     "execution_count": 21,
     "metadata": {},
     "output_type": "execute_result"
    },
    {
     "data": {
      "image/png": "[encoded data removed]",
      "text/plain": [
       "<Figure size 720x432 with 1 Axes>"
      ]
     },
     "metadata": {
      "needs_background": "light"
     },
     "output_type": "display_data"
    }
   ],
   "source": [
    "### 이산화질소 농도 요일별 box plot\n",
    "\n",
    "plt.figure(figsize = (10, 6))\n",
    "plt.boxplot([gwangjin_daily[gwangjin_daily['요일'] == 0]['이산화질소농도(ppm)'],\n",
    "            gwangjin_daily[gwangjin_daily['요일'] == 1]['이산화질소농도(ppm)'],\n",
    "            gwangjin_daily[gwangjin_daily['요일'] == 2]['이산화질소농도(ppm)'],\n",
    "            gwangjin_daily[gwangjin_daily['요일'] == 3]['이산화질소농도(ppm)'],\n",
    "            gwangjin_daily[gwangjin_daily['요일'] == 4]['이산화질소농도(ppm)'],\n",
    "            gwangjin_daily[gwangjin_daily['요일'] == 5]['이산화질소농도(ppm)'],\n",
    "            gwangjin_daily[gwangjin_daily['요일'] == 6]['이산화질소농도(ppm)']], sym = 'b*')\n",
    "\n",
    "plt.xticks([1, 2, 3, 4, 5, 6, 7], ['월', '화', '수', '목', '금', '토', '일'])\n",
    "plt.title('광진구 요일별 이산화질소 농도 box plot', fontsize = 15, pad = 20)\n",
    "plt.xlabel('요일')\n",
    "plt.ylabel('농도(ppm)')\n",
    "\n",
    "# plt.savefig('광진구 이산화질소 농도 요일별 box plot.png', facecolor = 'white', bbox_inches='tight', pad_inches=0.5)"
   ]
  },
  {
   "cell_type": "code",
   "execution_count": 22,
   "metadata": {},
   "outputs": [
    {
     "data": {
      "text/plain": [
       "Text(0, 0.5, '농도(ppm)')"
      ]
     },
     "execution_count": 22,
     "metadata": {},
     "output_type": "execute_result"
    },
    {
     "data": {
      "image/png": "[encoded data removed]",
      "text/plain": [
       "<Figure size 720x432 with 1 Axes>"
      ]
     },
     "metadata": {
      "needs_background": "light"
     },
     "output_type": "display_data"
    }
   ],
   "source": [
    "### 오존 농도 요일별 box plot\n",
    "\n",
    "plt.figure(figsize = (10, 6))\n",
    "plt.boxplot([gwangjin_daily[gwangjin_daily['요일'] == 0]['오존(ppm)'],\n",
    "            gwangjin_daily[gwangjin_daily['요일'] == 1]['오존(ppm)'],\n",
    "            gwangjin_daily[gwangjin_daily['요일'] == 2]['오존(ppm)'],\n",
    "            gwangjin_daily[gwangjin_daily['요일'] == 3]['오존(ppm)'],\n",
    "            gwangjin_daily[gwangjin_daily['요일'] == 4]['오존(ppm)'],\n",
    "            gwangjin_daily[gwangjin_daily['요일'] == 5]['오존(ppm)'],\n",
    "            gwangjin_daily[gwangjin_daily['요일'] == 6]['오존(ppm)']], sym = 'b*')\n",
    "\n",
    "plt.xticks([1, 2, 3, 4, 5, 6, 7], ['월', '화', '수', '목', '금', '토', '일'])\n",
    "plt.title('광진구 요일별 오존 농도 box plot', fontsize = 15, pad = 20)\n",
    "plt.xlabel('요일')\n",
    "plt.ylabel('농도(ppm)')\n",
    "\n",
    "# plt.savefig('광진구 오존 농도 요일별 box plot.png', facecolor = 'white', bbox_inches='tight', pad_inches=0.5)"
   ]
  },
  {
   "cell_type": "code",
   "execution_count": 23,
   "metadata": {},
   "outputs": [
    {
     "data": {
      "text/plain": [
       "Text(0, 0.5, '농도(㎍/㎥)')"
      ]
     },
     "execution_count": 23,
     "metadata": {},
     "output_type": "execute_result"
    },
    {
     "data": {
      "image/png": "[encoded data removed]",
      "text/plain": [
       "<Figure size 720x432 with 1 Axes>"
      ]
     },
     "metadata": {
      "needs_background": "light"
     },
     "output_type": "display_data"
    }
   ],
   "source": [
    "### 미세먼지 농도 요일별 box plot\n",
    "\n",
    "plt.figure(figsize = (10, 6))\n",
    "plt.boxplot([gwangjin_daily[gwangjin_daily['요일'] == 0]['미세먼지(㎍/㎥)'],\n",
    "            gwangjin_daily[gwangjin_daily['요일'] == 1]['미세먼지(㎍/㎥)'],\n",
    "            gwangjin_daily[gwangjin_daily['요일'] == 2]['미세먼지(㎍/㎥)'],\n",
    "            gwangjin_daily[gwangjin_daily['요일'] == 3]['미세먼지(㎍/㎥)'],\n",
    "            gwangjin_daily[gwangjin_daily['요일'] == 4]['미세먼지(㎍/㎥)'],\n",
    "            gwangjin_daily[gwangjin_daily['요일'] == 5]['미세먼지(㎍/㎥)'],\n",
    "            gwangjin_daily[gwangjin_daily['요일'] == 6]['미세먼지(㎍/㎥)']], sym = 'b*')\n",
    "\n",
    "plt.xticks([1, 2, 3, 4, 5, 6, 7], ['월', '화', '수', '목', '금', '토', '일'])\n",
    "plt.title('광진구 요일별 미세먼지 농도 box plot', fontsize = 15, pad = 20)\n",
    "plt.xlabel('요일')\n",
    "plt.ylabel('농도(㎍/㎥)')\n",
    "\n",
    "# plt.savefig('광진구 미세먼지 농도 요일별 box plot.png', facecolor = 'white', bbox_inches='tight', pad_inches=0.5)"
   ]
  },
  {
   "cell_type": "code",
   "execution_count": 24,
   "metadata": {},
   "outputs": [
    {
     "data": {
      "text/plain": [
       "Text(0, 0.5, '농도(㎍/㎥)')"
      ]
     },
     "execution_count": 24,
     "metadata": {},
     "output_type": "execute_result"
    },
    {
     "data": {
      "image/png": "[encoded data removed]",
      "text/plain": [
       "<Figure size 720x432 with 1 Axes>"
      ]
     },
     "metadata": {
      "needs_background": "light"
     },
     "output_type": "display_data"
    }
   ],
   "source": [
    "### 초미세먼지 농도 요일별 box plot\n",
    "\n",
    "plt.figure(figsize = (10, 6))\n",
    "plt.boxplot([gwangjin_daily[gwangjin_daily['요일'] == 0]['초미세먼지(㎍/㎥)'],\n",
    "            gwangjin_daily[gwangjin_daily['요일'] == 1]['초미세먼지(㎍/㎥)'],\n",
    "            gwangjin_daily[gwangjin_daily['요일'] == 2]['초미세먼지(㎍/㎥)'],\n",
    "            gwangjin_daily[gwangjin_daily['요일'] == 3]['초미세먼지(㎍/㎥)'],\n",
    "            gwangjin_daily[gwangjin_daily['요일'] == 4]['초미세먼지(㎍/㎥)'],\n",
    "            gwangjin_daily[gwangjin_daily['요일'] == 5]['초미세먼지(㎍/㎥)'],\n",
    "            gwangjin_daily[gwangjin_daily['요일'] == 6]['초미세먼지(㎍/㎥)']], sym = 'b*')\n",
    "\n",
    "plt.xticks([1, 2, 3, 4, 5, 6, 7], ['월', '화', '수', '목', '금', '토', '일'])\n",
    "plt.title('광진구 요일별 초미세먼지 농도 box plot', fontsize = 15, pad = 20)\n",
    "plt.xlabel('요일')\n",
    "plt.ylabel('농도(㎍/㎥)')\n",
    "\n",
    "# plt.savefig('광진구 초미세먼지 농도 요일별 box plot.png', facecolor = 'white', bbox_inches='tight', pad_inches=0.5)"
   ]
  }
 ],
 "metadata": {
  "kernelspec": {
   "display_name": "Python 3",
   "language": "python",
   "name": "python3"
  },
  "language_info": {
   "codemirror_mode": {
    "name": "ipython",
    "version": 3
   },
   "file_extension": ".py",
   "mimetype": "text/x-python",
   "name": "python",
   "nbconvert_exporter": "python",
   "pygments_lexer": "ipython3",
   "version": "3.10.4 (tags/v3.10.4:9d38120, Mar 23 2022, 23:13:41) [MSC v.1929 64 bit (AMD64)]"
  },
  "orig_nbformat": 4,
  "vscode": {
   "interpreter": {
    "hash": "640a90ce103fcb85d271fba40f9809cd955bcfa87c65a9fa7e4309b6be14a50d"
   }
  }
 },
 "nbformat": 4,
 "nbformat_minor": 2
}
