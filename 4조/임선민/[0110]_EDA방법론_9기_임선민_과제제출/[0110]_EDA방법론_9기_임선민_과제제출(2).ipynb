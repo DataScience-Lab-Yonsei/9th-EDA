{
  "nbformat": 4,
  "nbformat_minor": 0,
  "metadata": {
    "colab": {
      "provenance": []
    },
    "kernelspec": {
      "name": "python3",
      "display_name": "Python 3"
    },
    "language_info": {
      "name": "python"
    }
  },
  "cells": [
    {
      "cell_type": "code",
      "execution_count": 1,
      "metadata": {
        "id": "c94JNvRcznJL"
      },
      "outputs": [],
      "source": [
        "import numpy as np\n",
        "import pandas as pd\n",
        "import matplotlib as mpl\n",
        "import matplotlib.pyplot as plt\n",
        "import seaborn as sns"
      ]
    },
    {
      "cell_type": "code",
      "source": [
        "#마운트\n",
        "from google.colab import drive\n",
        "drive.mount('/content/drive')"
      ],
      "metadata": {
        "colab": {
          "base_uri": "https://localhost:8080/"
        },
        "id": "TBMM-Osizu22",
        "outputId": "1360cf24-36b7-45cc-b896-c6de4f82673a"
      },
      "execution_count": 2,
      "outputs": [
        {
          "output_type": "stream",
          "name": "stdout",
          "text": [
            "Drive already mounted at /content/drive; to attempt to forcibly remount, call drive.mount(\"/content/drive\", force_remount=True).\n"
          ]
        }
      ]
    },
    {
      "cell_type": "code",
      "source": [
        "data = pd.read_csv('/content/drive/MyDrive/DSL/eda.csv', encoding='cp949')"
      ],
      "metadata": {
        "id": "YkaJE5UyzwaT"
      },
      "execution_count": 3,
      "outputs": []
    },
    {
      "cell_type": "code",
      "source": [
        "data"
      ],
      "metadata": {
        "id": "AHzSwEOyzxx0",
        "colab": {
          "base_uri": "https://localhost:8080/",
          "height": 424
        },
        "outputId": "cde87701-a90e-47f4-efaf-0c0a5c05ec7c"
      },
      "execution_count": 4,
      "outputs": [
        {
          "output_type": "execute_result",
          "data": {
            "text/plain": [
              "              측정일시  측정소명  이산화질소농도(ppm)  오존농도(ppm)  일산화탄소농도(ppm)  아황산가스(ppm)  \\\n",
              "0     202301100600   강북구         0.022      0.013           0.7       0.002   \n",
              "1     202301100600  서대문구         0.040      0.004           1.3       0.007   \n",
              "2     202301100600   양천구         0.036      0.003           0.6       0.003   \n",
              "3     202301100600   금천구         0.031      0.007           0.6       0.003   \n",
              "4     202301100600   성북구         0.036      0.008           0.6       0.003   \n",
              "...            ...   ...           ...        ...           ...         ...   \n",
              "4195  202301030700   성동구         0.045      0.002           0.6       0.003   \n",
              "4196  202301030700   마포구         0.032      0.004           0.6       0.002   \n",
              "4197  202301030700  서대문구         0.039      0.004           1.1       0.009   \n",
              "4198  202301030700   서초구         0.044      0.002           0.4       0.003   \n",
              "4199  202301030700   관악구         0.047      0.004           0.7       0.003   \n",
              "\n",
              "      미세먼지(㎍/㎥)  초미세먼지(㎍/㎥)  \n",
              "0          53.0        25.0  \n",
              "1          46.0        25.0  \n",
              "2          47.0        25.0  \n",
              "3          39.0        25.0  \n",
              "4          44.0        25.0  \n",
              "...         ...         ...  \n",
              "4195       29.0        13.0  \n",
              "4196       26.0        16.0  \n",
              "4197       27.0        17.0  \n",
              "4198       24.0         9.0  \n",
              "4199       26.0        13.0  \n",
              "\n",
              "[4200 rows x 8 columns]"
            ],
            "text/html": [
              "\n",
              "  <div id=\"df-161b987e-e7f7-4973-b259-907f030fb0b6\">\n",
              "    <div class=\"colab-df-container\">\n",
              "      <div>\n",
              "<style scoped>\n",
              "    .dataframe tbody tr th:only-of-type {\n",
              "        vertical-align: middle;\n",
              "    }\n",
              "\n",
              "    .dataframe tbody tr th {\n",
              "        vertical-align: top;\n",
              "    }\n",
              "\n",
              "    .dataframe thead th {\n",
              "        text-align: right;\n",
              "    }\n",
              "</style>\n",
              "<table border=\"1\" class=\"dataframe\">\n",
              "  <thead>\n",
              "    <tr style=\"text-align: right;\">\n",
              "      <th></th>\n",
              "      <th>측정일시</th>\n",
              "      <th>측정소명</th>\n",
              "      <th>이산화질소농도(ppm)</th>\n",
              "      <th>오존농도(ppm)</th>\n",
              "      <th>일산화탄소농도(ppm)</th>\n",
              "      <th>아황산가스(ppm)</th>\n",
              "      <th>미세먼지(㎍/㎥)</th>\n",
              "      <th>초미세먼지(㎍/㎥)</th>\n",
              "    </tr>\n",
              "  </thead>\n",
              "  <tbody>\n",
              "    <tr>\n",
              "      <th>0</th>\n",
              "      <td>202301100600</td>\n",
              "      <td>강북구</td>\n",
              "      <td>0.022</td>\n",
              "      <td>0.013</td>\n",
              "      <td>0.7</td>\n",
              "      <td>0.002</td>\n",
              "      <td>53.0</td>\n",
              "      <td>25.0</td>\n",
              "    </tr>\n",
              "    <tr>\n",
              "      <th>1</th>\n",
              "      <td>202301100600</td>\n",
              "      <td>서대문구</td>\n",
              "      <td>0.040</td>\n",
              "      <td>0.004</td>\n",
              "      <td>1.3</td>\n",
              "      <td>0.007</td>\n",
              "      <td>46.0</td>\n",
              "      <td>25.0</td>\n",
              "    </tr>\n",
              "    <tr>\n",
              "      <th>2</th>\n",
              "      <td>202301100600</td>\n",
              "      <td>양천구</td>\n",
              "      <td>0.036</td>\n",
              "      <td>0.003</td>\n",
              "      <td>0.6</td>\n",
              "      <td>0.003</td>\n",
              "      <td>47.0</td>\n",
              "      <td>25.0</td>\n",
              "    </tr>\n",
              "    <tr>\n",
              "      <th>3</th>\n",
              "      <td>202301100600</td>\n",
              "      <td>금천구</td>\n",
              "      <td>0.031</td>\n",
              "      <td>0.007</td>\n",
              "      <td>0.6</td>\n",
              "      <td>0.003</td>\n",
              "      <td>39.0</td>\n",
              "      <td>25.0</td>\n",
              "    </tr>\n",
              "    <tr>\n",
              "      <th>4</th>\n",
              "      <td>202301100600</td>\n",
              "      <td>성북구</td>\n",
              "      <td>0.036</td>\n",
              "      <td>0.008</td>\n",
              "      <td>0.6</td>\n",
              "      <td>0.003</td>\n",
              "      <td>44.0</td>\n",
              "      <td>25.0</td>\n",
              "    </tr>\n",
              "    <tr>\n",
              "      <th>...</th>\n",
              "      <td>...</td>\n",
              "      <td>...</td>\n",
              "      <td>...</td>\n",
              "      <td>...</td>\n",
              "      <td>...</td>\n",
              "      <td>...</td>\n",
              "      <td>...</td>\n",
              "      <td>...</td>\n",
              "    </tr>\n",
              "    <tr>\n",
              "      <th>4195</th>\n",
              "      <td>202301030700</td>\n",
              "      <td>성동구</td>\n",
              "      <td>0.045</td>\n",
              "      <td>0.002</td>\n",
              "      <td>0.6</td>\n",
              "      <td>0.003</td>\n",
              "      <td>29.0</td>\n",
              "      <td>13.0</td>\n",
              "    </tr>\n",
              "    <tr>\n",
              "      <th>4196</th>\n",
              "      <td>202301030700</td>\n",
              "      <td>마포구</td>\n",
              "      <td>0.032</td>\n",
              "      <td>0.004</td>\n",
              "      <td>0.6</td>\n",
              "      <td>0.002</td>\n",
              "      <td>26.0</td>\n",
              "      <td>16.0</td>\n",
              "    </tr>\n",
              "    <tr>\n",
              "      <th>4197</th>\n",
              "      <td>202301030700</td>\n",
              "      <td>서대문구</td>\n",
              "      <td>0.039</td>\n",
              "      <td>0.004</td>\n",
              "      <td>1.1</td>\n",
              "      <td>0.009</td>\n",
              "      <td>27.0</td>\n",
              "      <td>17.0</td>\n",
              "    </tr>\n",
              "    <tr>\n",
              "      <th>4198</th>\n",
              "      <td>202301030700</td>\n",
              "      <td>서초구</td>\n",
              "      <td>0.044</td>\n",
              "      <td>0.002</td>\n",
              "      <td>0.4</td>\n",
              "      <td>0.003</td>\n",
              "      <td>24.0</td>\n",
              "      <td>9.0</td>\n",
              "    </tr>\n",
              "    <tr>\n",
              "      <th>4199</th>\n",
              "      <td>202301030700</td>\n",
              "      <td>관악구</td>\n",
              "      <td>0.047</td>\n",
              "      <td>0.004</td>\n",
              "      <td>0.7</td>\n",
              "      <td>0.003</td>\n",
              "      <td>26.0</td>\n",
              "      <td>13.0</td>\n",
              "    </tr>\n",
              "  </tbody>\n",
              "</table>\n",
              "<p>4200 rows × 8 columns</p>\n",
              "</div>\n",
              "      <button class=\"colab-df-convert\" onclick=\"convertToInteractive('df-161b987e-e7f7-4973-b259-907f030fb0b6')\"\n",
              "              title=\"Convert this dataframe to an interactive table.\"\n",
              "              style=\"display:none;\">\n",
              "        \n",
              "  <svg xmlns=\"http://www.w3.org/2000/svg\" height=\"24px\"viewBox=\"0 0 24 24\"\n",
              "       width=\"24px\">\n",
              "    <path d=\"M0 0h24v24H0V0z\" fill=\"none\"/>\n",
              "    <path d=\"M18.56 5.44l.94 2.06.94-2.06 2.06-.94-2.06-.94-.94-2.06-.94 2.06-2.06.94zm-11 1L8.5 8.5l.94-2.06 2.06-.94-2.06-.94L8.5 2.5l-.94 2.06-2.06.94zm10 10l.94 2.06.94-2.06 2.06-.94-2.06-.94-.94-2.06-.94 2.06-2.06.94z\"/><path d=\"M17.41 7.96l-1.37-1.37c-.4-.4-.92-.59-1.43-.59-.52 0-1.04.2-1.43.59L10.3 9.45l-7.72 7.72c-.78.78-.78 2.05 0 2.83L4 21.41c.39.39.9.59 1.41.59.51 0 1.02-.2 1.41-.59l7.78-7.78 2.81-2.81c.8-.78.8-2.07 0-2.86zM5.41 20L4 18.59l7.72-7.72 1.47 1.35L5.41 20z\"/>\n",
              "  </svg>\n",
              "      </button>\n",
              "      \n",
              "  <style>\n",
              "    .colab-df-container {\n",
              "      display:flex;\n",
              "      flex-wrap:wrap;\n",
              "      gap: 12px;\n",
              "    }\n",
              "\n",
              "    .colab-df-convert {\n",
              "      background-color: #E8F0FE;\n",
              "      border: none;\n",
              "      border-radius: 50%;\n",
              "      cursor: pointer;\n",
              "      display: none;\n",
              "      fill: #1967D2;\n",
              "      height: 32px;\n",
              "      padding: 0 0 0 0;\n",
              "      width: 32px;\n",
              "    }\n",
              "\n",
              "    .colab-df-convert:hover {\n",
              "      background-color: #E2EBFA;\n",
              "      box-shadow: 0px 1px 2px rgba(60, 64, 67, 0.3), 0px 1px 3px 1px rgba(60, 64, 67, 0.15);\n",
              "      fill: #174EA6;\n",
              "    }\n",
              "\n",
              "    [theme=dark] .colab-df-convert {\n",
              "      background-color: #3B4455;\n",
              "      fill: #D2E3FC;\n",
              "    }\n",
              "\n",
              "    [theme=dark] .colab-df-convert:hover {\n",
              "      background-color: #434B5C;\n",
              "      box-shadow: 0px 1px 3px 1px rgba(0, 0, 0, 0.15);\n",
              "      filter: drop-shadow(0px 1px 2px rgba(0, 0, 0, 0.3));\n",
              "      fill: #FFFFFF;\n",
              "    }\n",
              "  </style>\n",
              "\n",
              "      <script>\n",
              "        const buttonEl =\n",
              "          document.querySelector('#df-161b987e-e7f7-4973-b259-907f030fb0b6 button.colab-df-convert');\n",
              "        buttonEl.style.display =\n",
              "          google.colab.kernel.accessAllowed ? 'block' : 'none';\n",
              "\n",
              "        async function convertToInteractive(key) {\n",
              "          const element = document.querySelector('#df-161b987e-e7f7-4973-b259-907f030fb0b6');\n",
              "          const dataTable =\n",
              "            await google.colab.kernel.invokeFunction('convertToInteractive',\n",
              "                                                     [key], {});\n",
              "          if (!dataTable) return;\n",
              "\n",
              "          const docLinkHtml = 'Like what you see? Visit the ' +\n",
              "            '<a target=\"_blank\" href=https://colab.research.google.com/notebooks/data_table.ipynb>data table notebook</a>'\n",
              "            + ' to learn more about interactive tables.';\n",
              "          element.innerHTML = '';\n",
              "          dataTable['output_type'] = 'display_data';\n",
              "          await google.colab.output.renderOutput(dataTable, element);\n",
              "          const docLink = document.createElement('div');\n",
              "          docLink.innerHTML = docLinkHtml;\n",
              "          element.appendChild(docLink);\n",
              "        }\n",
              "      </script>\n",
              "    </div>\n",
              "  </div>\n",
              "  "
            ]
          },
          "metadata": {},
          "execution_count": 4
        }
      ]
    },
    {
      "cell_type": "code",
      "source": [
        "data.head()"
      ],
      "metadata": {
        "colab": {
          "base_uri": "https://localhost:8080/",
          "height": 206
        },
        "id": "idZ6ROUW7z8p",
        "outputId": "25c6e311-4a83-492b-cd28-bd93bd5efd74"
      },
      "execution_count": 5,
      "outputs": [
        {
          "output_type": "execute_result",
          "data": {
            "text/plain": [
              "           측정일시  측정소명  이산화질소농도(ppm)  오존농도(ppm)  일산화탄소농도(ppm)  아황산가스(ppm)  \\\n",
              "0  202301100600   강북구         0.022      0.013           0.7       0.002   \n",
              "1  202301100600  서대문구         0.040      0.004           1.3       0.007   \n",
              "2  202301100600   양천구         0.036      0.003           0.6       0.003   \n",
              "3  202301100600   금천구         0.031      0.007           0.6       0.003   \n",
              "4  202301100600   성북구         0.036      0.008           0.6       0.003   \n",
              "\n",
              "   미세먼지(㎍/㎥)  초미세먼지(㎍/㎥)  \n",
              "0       53.0        25.0  \n",
              "1       46.0        25.0  \n",
              "2       47.0        25.0  \n",
              "3       39.0        25.0  \n",
              "4       44.0        25.0  "
            ],
            "text/html": [
              "\n",
              "  <div id=\"df-61689d7b-6673-4092-9f76-5697d5a7a795\">\n",
              "    <div class=\"colab-df-container\">\n",
              "      <div>\n",
              "<style scoped>\n",
              "    .dataframe tbody tr th:only-of-type {\n",
              "        vertical-align: middle;\n",
              "    }\n",
              "\n",
              "    .dataframe tbody tr th {\n",
              "        vertical-align: top;\n",
              "    }\n",
              "\n",
              "    .dataframe thead th {\n",
              "        text-align: right;\n",
              "    }\n",
              "</style>\n",
              "<table border=\"1\" class=\"dataframe\">\n",
              "  <thead>\n",
              "    <tr style=\"text-align: right;\">\n",
              "      <th></th>\n",
              "      <th>측정일시</th>\n",
              "      <th>측정소명</th>\n",
              "      <th>이산화질소농도(ppm)</th>\n",
              "      <th>오존농도(ppm)</th>\n",
              "      <th>일산화탄소농도(ppm)</th>\n",
              "      <th>아황산가스(ppm)</th>\n",
              "      <th>미세먼지(㎍/㎥)</th>\n",
              "      <th>초미세먼지(㎍/㎥)</th>\n",
              "    </tr>\n",
              "  </thead>\n",
              "  <tbody>\n",
              "    <tr>\n",
              "      <th>0</th>\n",
              "      <td>202301100600</td>\n",
              "      <td>강북구</td>\n",
              "      <td>0.022</td>\n",
              "      <td>0.013</td>\n",
              "      <td>0.7</td>\n",
              "      <td>0.002</td>\n",
              "      <td>53.0</td>\n",
              "      <td>25.0</td>\n",
              "    </tr>\n",
              "    <tr>\n",
              "      <th>1</th>\n",
              "      <td>202301100600</td>\n",
              "      <td>서대문구</td>\n",
              "      <td>0.040</td>\n",
              "      <td>0.004</td>\n",
              "      <td>1.3</td>\n",
              "      <td>0.007</td>\n",
              "      <td>46.0</td>\n",
              "      <td>25.0</td>\n",
              "    </tr>\n",
              "    <tr>\n",
              "      <th>2</th>\n",
              "      <td>202301100600</td>\n",
              "      <td>양천구</td>\n",
              "      <td>0.036</td>\n",
              "      <td>0.003</td>\n",
              "      <td>0.6</td>\n",
              "      <td>0.003</td>\n",
              "      <td>47.0</td>\n",
              "      <td>25.0</td>\n",
              "    </tr>\n",
              "    <tr>\n",
              "      <th>3</th>\n",
              "      <td>202301100600</td>\n",
              "      <td>금천구</td>\n",
              "      <td>0.031</td>\n",
              "      <td>0.007</td>\n",
              "      <td>0.6</td>\n",
              "      <td>0.003</td>\n",
              "      <td>39.0</td>\n",
              "      <td>25.0</td>\n",
              "    </tr>\n",
              "    <tr>\n",
              "      <th>4</th>\n",
              "      <td>202301100600</td>\n",
              "      <td>성북구</td>\n",
              "      <td>0.036</td>\n",
              "      <td>0.008</td>\n",
              "      <td>0.6</td>\n",
              "      <td>0.003</td>\n",
              "      <td>44.0</td>\n",
              "      <td>25.0</td>\n",
              "    </tr>\n",
              "  </tbody>\n",
              "</table>\n",
              "</div>\n",
              "      <button class=\"colab-df-convert\" onclick=\"convertToInteractive('df-61689d7b-6673-4092-9f76-5697d5a7a795')\"\n",
              "              title=\"Convert this dataframe to an interactive table.\"\n",
              "              style=\"display:none;\">\n",
              "        \n",
              "  <svg xmlns=\"http://www.w3.org/2000/svg\" height=\"24px\"viewBox=\"0 0 24 24\"\n",
              "       width=\"24px\">\n",
              "    <path d=\"M0 0h24v24H0V0z\" fill=\"none\"/>\n",
              "    <path d=\"M18.56 5.44l.94 2.06.94-2.06 2.06-.94-2.06-.94-.94-2.06-.94 2.06-2.06.94zm-11 1L8.5 8.5l.94-2.06 2.06-.94-2.06-.94L8.5 2.5l-.94 2.06-2.06.94zm10 10l.94 2.06.94-2.06 2.06-.94-2.06-.94-.94-2.06-.94 2.06-2.06.94z\"/><path d=\"M17.41 7.96l-1.37-1.37c-.4-.4-.92-.59-1.43-.59-.52 0-1.04.2-1.43.59L10.3 9.45l-7.72 7.72c-.78.78-.78 2.05 0 2.83L4 21.41c.39.39.9.59 1.41.59.51 0 1.02-.2 1.41-.59l7.78-7.78 2.81-2.81c.8-.78.8-2.07 0-2.86zM5.41 20L4 18.59l7.72-7.72 1.47 1.35L5.41 20z\"/>\n",
              "  </svg>\n",
              "      </button>\n",
              "      \n",
              "  <style>\n",
              "    .colab-df-container {\n",
              "      display:flex;\n",
              "      flex-wrap:wrap;\n",
              "      gap: 12px;\n",
              "    }\n",
              "\n",
              "    .colab-df-convert {\n",
              "      background-color: #E8F0FE;\n",
              "      border: none;\n",
              "      border-radius: 50%;\n",
              "      cursor: pointer;\n",
              "      display: none;\n",
              "      fill: #1967D2;\n",
              "      height: 32px;\n",
              "      padding: 0 0 0 0;\n",
              "      width: 32px;\n",
              "    }\n",
              "\n",
              "    .colab-df-convert:hover {\n",
              "      background-color: #E2EBFA;\n",
              "      box-shadow: 0px 1px 2px rgba(60, 64, 67, 0.3), 0px 1px 3px 1px rgba(60, 64, 67, 0.15);\n",
              "      fill: #174EA6;\n",
              "    }\n",
              "\n",
              "    [theme=dark] .colab-df-convert {\n",
              "      background-color: #3B4455;\n",
              "      fill: #D2E3FC;\n",
              "    }\n",
              "\n",
              "    [theme=dark] .colab-df-convert:hover {\n",
              "      background-color: #434B5C;\n",
              "      box-shadow: 0px 1px 3px 1px rgba(0, 0, 0, 0.15);\n",
              "      filter: drop-shadow(0px 1px 2px rgba(0, 0, 0, 0.3));\n",
              "      fill: #FFFFFF;\n",
              "    }\n",
              "  </style>\n",
              "\n",
              "      <script>\n",
              "        const buttonEl =\n",
              "          document.querySelector('#df-61689d7b-6673-4092-9f76-5697d5a7a795 button.colab-df-convert');\n",
              "        buttonEl.style.display =\n",
              "          google.colab.kernel.accessAllowed ? 'block' : 'none';\n",
              "\n",
              "        async function convertToInteractive(key) {\n",
              "          const element = document.querySelector('#df-61689d7b-6673-4092-9f76-5697d5a7a795');\n",
              "          const dataTable =\n",
              "            await google.colab.kernel.invokeFunction('convertToInteractive',\n",
              "                                                     [key], {});\n",
              "          if (!dataTable) return;\n",
              "\n",
              "          const docLinkHtml = 'Like what you see? Visit the ' +\n",
              "            '<a target=\"_blank\" href=https://colab.research.google.com/notebooks/data_table.ipynb>data table notebook</a>'\n",
              "            + ' to learn more about interactive tables.';\n",
              "          element.innerHTML = '';\n",
              "          dataTable['output_type'] = 'display_data';\n",
              "          await google.colab.output.renderOutput(dataTable, element);\n",
              "          const docLink = document.createElement('div');\n",
              "          docLink.innerHTML = docLinkHtml;\n",
              "          element.appendChild(docLink);\n",
              "        }\n",
              "      </script>\n",
              "    </div>\n",
              "  </div>\n",
              "  "
            ]
          },
          "metadata": {},
          "execution_count": 5
        }
      ]
    },
    {
      "cell_type": "code",
      "source": [
        "data.tail()"
      ],
      "metadata": {
        "colab": {
          "base_uri": "https://localhost:8080/",
          "height": 206
        },
        "id": "GG5WUePQ89q5",
        "outputId": "e50e763f-2a5d-45d4-b1ad-8db165cd3233"
      },
      "execution_count": 6,
      "outputs": [
        {
          "output_type": "execute_result",
          "data": {
            "text/plain": [
              "              측정일시  측정소명  이산화질소농도(ppm)  오존농도(ppm)  일산화탄소농도(ppm)  아황산가스(ppm)  \\\n",
              "4195  202301030700   성동구         0.045      0.002           0.6       0.003   \n",
              "4196  202301030700   마포구         0.032      0.004           0.6       0.002   \n",
              "4197  202301030700  서대문구         0.039      0.004           1.1       0.009   \n",
              "4198  202301030700   서초구         0.044      0.002           0.4       0.003   \n",
              "4199  202301030700   관악구         0.047      0.004           0.7       0.003   \n",
              "\n",
              "      미세먼지(㎍/㎥)  초미세먼지(㎍/㎥)  \n",
              "4195       29.0        13.0  \n",
              "4196       26.0        16.0  \n",
              "4197       27.0        17.0  \n",
              "4198       24.0         9.0  \n",
              "4199       26.0        13.0  "
            ],
            "text/html": [
              "\n",
              "  <div id=\"df-b1d96ca9-22c9-4088-9099-1377fec9403e\">\n",
              "    <div class=\"colab-df-container\">\n",
              "      <div>\n",
              "<style scoped>\n",
              "    .dataframe tbody tr th:only-of-type {\n",
              "        vertical-align: middle;\n",
              "    }\n",
              "\n",
              "    .dataframe tbody tr th {\n",
              "        vertical-align: top;\n",
              "    }\n",
              "\n",
              "    .dataframe thead th {\n",
              "        text-align: right;\n",
              "    }\n",
              "</style>\n",
              "<table border=\"1\" class=\"dataframe\">\n",
              "  <thead>\n",
              "    <tr style=\"text-align: right;\">\n",
              "      <th></th>\n",
              "      <th>측정일시</th>\n",
              "      <th>측정소명</th>\n",
              "      <th>이산화질소농도(ppm)</th>\n",
              "      <th>오존농도(ppm)</th>\n",
              "      <th>일산화탄소농도(ppm)</th>\n",
              "      <th>아황산가스(ppm)</th>\n",
              "      <th>미세먼지(㎍/㎥)</th>\n",
              "      <th>초미세먼지(㎍/㎥)</th>\n",
              "    </tr>\n",
              "  </thead>\n",
              "  <tbody>\n",
              "    <tr>\n",
              "      <th>4195</th>\n",
              "      <td>202301030700</td>\n",
              "      <td>성동구</td>\n",
              "      <td>0.045</td>\n",
              "      <td>0.002</td>\n",
              "      <td>0.6</td>\n",
              "      <td>0.003</td>\n",
              "      <td>29.0</td>\n",
              "      <td>13.0</td>\n",
              "    </tr>\n",
              "    <tr>\n",
              "      <th>4196</th>\n",
              "      <td>202301030700</td>\n",
              "      <td>마포구</td>\n",
              "      <td>0.032</td>\n",
              "      <td>0.004</td>\n",
              "      <td>0.6</td>\n",
              "      <td>0.002</td>\n",
              "      <td>26.0</td>\n",
              "      <td>16.0</td>\n",
              "    </tr>\n",
              "    <tr>\n",
              "      <th>4197</th>\n",
              "      <td>202301030700</td>\n",
              "      <td>서대문구</td>\n",
              "      <td>0.039</td>\n",
              "      <td>0.004</td>\n",
              "      <td>1.1</td>\n",
              "      <td>0.009</td>\n",
              "      <td>27.0</td>\n",
              "      <td>17.0</td>\n",
              "    </tr>\n",
              "    <tr>\n",
              "      <th>4198</th>\n",
              "      <td>202301030700</td>\n",
              "      <td>서초구</td>\n",
              "      <td>0.044</td>\n",
              "      <td>0.002</td>\n",
              "      <td>0.4</td>\n",
              "      <td>0.003</td>\n",
              "      <td>24.0</td>\n",
              "      <td>9.0</td>\n",
              "    </tr>\n",
              "    <tr>\n",
              "      <th>4199</th>\n",
              "      <td>202301030700</td>\n",
              "      <td>관악구</td>\n",
              "      <td>0.047</td>\n",
              "      <td>0.004</td>\n",
              "      <td>0.7</td>\n",
              "      <td>0.003</td>\n",
              "      <td>26.0</td>\n",
              "      <td>13.0</td>\n",
              "    </tr>\n",
              "  </tbody>\n",
              "</table>\n",
              "</div>\n",
              "      <button class=\"colab-df-convert\" onclick=\"convertToInteractive('df-b1d96ca9-22c9-4088-9099-1377fec9403e')\"\n",
              "              title=\"Convert this dataframe to an interactive table.\"\n",
              "              style=\"display:none;\">\n",
              "        \n",
              "  <svg xmlns=\"http://www.w3.org/2000/svg\" height=\"24px\"viewBox=\"0 0 24 24\"\n",
              "       width=\"24px\">\n",
              "    <path d=\"M0 0h24v24H0V0z\" fill=\"none\"/>\n",
              "    <path d=\"M18.56 5.44l.94 2.06.94-2.06 2.06-.94-2.06-.94-.94-2.06-.94 2.06-2.06.94zm-11 1L8.5 8.5l.94-2.06 2.06-.94-2.06-.94L8.5 2.5l-.94 2.06-2.06.94zm10 10l.94 2.06.94-2.06 2.06-.94-2.06-.94-.94-2.06-.94 2.06-2.06.94z\"/><path d=\"M17.41 7.96l-1.37-1.37c-.4-.4-.92-.59-1.43-.59-.52 0-1.04.2-1.43.59L10.3 9.45l-7.72 7.72c-.78.78-.78 2.05 0 2.83L4 21.41c.39.39.9.59 1.41.59.51 0 1.02-.2 1.41-.59l7.78-7.78 2.81-2.81c.8-.78.8-2.07 0-2.86zM5.41 20L4 18.59l7.72-7.72 1.47 1.35L5.41 20z\"/>\n",
              "  </svg>\n",
              "      </button>\n",
              "      \n",
              "  <style>\n",
              "    .colab-df-container {\n",
              "      display:flex;\n",
              "      flex-wrap:wrap;\n",
              "      gap: 12px;\n",
              "    }\n",
              "\n",
              "    .colab-df-convert {\n",
              "      background-color: #E8F0FE;\n",
              "      border: none;\n",
              "      border-radius: 50%;\n",
              "      cursor: pointer;\n",
              "      display: none;\n",
              "      fill: #1967D2;\n",
              "      height: 32px;\n",
              "      padding: 0 0 0 0;\n",
              "      width: 32px;\n",
              "    }\n",
              "\n",
              "    .colab-df-convert:hover {\n",
              "      background-color: #E2EBFA;\n",
              "      box-shadow: 0px 1px 2px rgba(60, 64, 67, 0.3), 0px 1px 3px 1px rgba(60, 64, 67, 0.15);\n",
              "      fill: #174EA6;\n",
              "    }\n",
              "\n",
              "    [theme=dark] .colab-df-convert {\n",
              "      background-color: #3B4455;\n",
              "      fill: #D2E3FC;\n",
              "    }\n",
              "\n",
              "    [theme=dark] .colab-df-convert:hover {\n",
              "      background-color: #434B5C;\n",
              "      box-shadow: 0px 1px 3px 1px rgba(0, 0, 0, 0.15);\n",
              "      filter: drop-shadow(0px 1px 2px rgba(0, 0, 0, 0.3));\n",
              "      fill: #FFFFFF;\n",
              "    }\n",
              "  </style>\n",
              "\n",
              "      <script>\n",
              "        const buttonEl =\n",
              "          document.querySelector('#df-b1d96ca9-22c9-4088-9099-1377fec9403e button.colab-df-convert');\n",
              "        buttonEl.style.display =\n",
              "          google.colab.kernel.accessAllowed ? 'block' : 'none';\n",
              "\n",
              "        async function convertToInteractive(key) {\n",
              "          const element = document.querySelector('#df-b1d96ca9-22c9-4088-9099-1377fec9403e');\n",
              "          const dataTable =\n",
              "            await google.colab.kernel.invokeFunction('convertToInteractive',\n",
              "                                                     [key], {});\n",
              "          if (!dataTable) return;\n",
              "\n",
              "          const docLinkHtml = 'Like what you see? Visit the ' +\n",
              "            '<a target=\"_blank\" href=https://colab.research.google.com/notebooks/data_table.ipynb>data table notebook</a>'\n",
              "            + ' to learn more about interactive tables.';\n",
              "          element.innerHTML = '';\n",
              "          dataTable['output_type'] = 'display_data';\n",
              "          await google.colab.output.renderOutput(dataTable, element);\n",
              "          const docLink = document.createElement('div');\n",
              "          docLink.innerHTML = docLinkHtml;\n",
              "          element.appendChild(docLink);\n",
              "        }\n",
              "      </script>\n",
              "    </div>\n",
              "  </div>\n",
              "  "
            ]
          },
          "metadata": {},
          "execution_count": 6
        }
      ]
    },
    {
      "cell_type": "code",
      "source": [
        "data.shape"
      ],
      "metadata": {
        "colab": {
          "base_uri": "https://localhost:8080/"
        },
        "id": "WAJHzB9W71Az",
        "outputId": "f226fb65-bdaf-4112-d80a-70510ec70c12"
      },
      "execution_count": 7,
      "outputs": [
        {
          "output_type": "execute_result",
          "data": {
            "text/plain": [
              "(4200, 8)"
            ]
          },
          "metadata": {},
          "execution_count": 7
        }
      ]
    },
    {
      "cell_type": "code",
      "source": [
        "data.columns"
      ],
      "metadata": {
        "colab": {
          "base_uri": "https://localhost:8080/"
        },
        "id": "4Cps0knX8T6a",
        "outputId": "e062959b-888d-40de-8bc4-8e49fc11d3da"
      },
      "execution_count": 8,
      "outputs": [
        {
          "output_type": "execute_result",
          "data": {
            "text/plain": [
              "Index(['측정일시', '측정소명', '이산화질소농도(ppm)', '오존농도(ppm)', '일산화탄소농도(ppm)',\n",
              "       '아황산가스(ppm)', '미세먼지(㎍/㎥)', '초미세먼지(㎍/㎥)'],\n",
              "      dtype='object')"
            ]
          },
          "metadata": {},
          "execution_count": 8
        }
      ]
    },
    {
      "cell_type": "code",
      "source": [
        "print(data.info())"
      ],
      "metadata": {
        "colab": {
          "base_uri": "https://localhost:8080/"
        },
        "id": "OkGWrXPx8QcA",
        "outputId": "ddcb40ba-dc21-4c37-c97c-6c4032a5e608"
      },
      "execution_count": 9,
      "outputs": [
        {
          "output_type": "stream",
          "name": "stdout",
          "text": [
            "<class 'pandas.core.frame.DataFrame'>\n",
            "RangeIndex: 4200 entries, 0 to 4199\n",
            "Data columns (total 8 columns):\n",
            " #   Column        Non-Null Count  Dtype  \n",
            "---  ------        --------------  -----  \n",
            " 0   측정일시          4200 non-null   int64  \n",
            " 1   측정소명          4200 non-null   object \n",
            " 2   이산화질소농도(ppm)  4131 non-null   float64\n",
            " 3   오존농도(ppm)     4130 non-null   float64\n",
            " 4   일산화탄소농도(ppm)  4130 non-null   float64\n",
            " 5   아황산가스(ppm)    4127 non-null   float64\n",
            " 6   미세먼지(㎍/㎥)     4109 non-null   float64\n",
            " 7   초미세먼지(㎍/㎥)    4138 non-null   float64\n",
            "dtypes: float64(6), int64(1), object(1)\n",
            "memory usage: 262.6+ KB\n",
            "None\n"
          ]
        }
      ]
    },
    {
      "cell_type": "code",
      "source": [
        "data.describe()"
      ],
      "metadata": {
        "colab": {
          "base_uri": "https://localhost:8080/",
          "height": 300
        },
        "id": "a2-6rB8O8LLJ",
        "outputId": "c6821a58-2f2a-495c-8114-eedef920cdbb"
      },
      "execution_count": 10,
      "outputs": [
        {
          "output_type": "execute_result",
          "data": {
            "text/plain": [
              "               측정일시  이산화질소농도(ppm)    오존농도(ppm)  일산화탄소농도(ppm)   아황산가스(ppm)  \\\n",
              "count  4.200000e+03   4131.000000  4130.000000   4130.000000  4127.000000   \n",
              "mean   2.023011e+11      0.037884     0.013016      0.790823     0.003562   \n",
              "std    2.040293e+04      0.013883     0.010617      0.240066     0.001040   \n",
              "min    2.023010e+11      0.009000     0.001000      0.200000     0.002000   \n",
              "25%    2.023011e+11      0.026000     0.003000      0.600000     0.003000   \n",
              "50%    2.023011e+11      0.038000     0.010000      0.800000     0.003000   \n",
              "75%    2.023011e+11      0.048000     0.021000      0.900000     0.004000   \n",
              "max    2.023011e+11      0.084000     0.048000      2.100000     0.013000   \n",
              "\n",
              "         미세먼지(㎍/㎥)   초미세먼지(㎍/㎥)  \n",
              "count  4109.000000  4138.000000  \n",
              "mean     77.791677    46.783954  \n",
              "std      42.282048    26.392818  \n",
              "min      12.000000     6.000000  \n",
              "25%      40.000000    25.000000  \n",
              "50%      62.000000    42.000000  \n",
              "75%     113.000000    62.000000  \n",
              "max     201.000000   140.000000  "
            ],
            "text/html": [
              "\n",
              "  <div id=\"df-c3245a53-ab8d-4dcc-89a4-da36b1201261\">\n",
              "    <div class=\"colab-df-container\">\n",
              "      <div>\n",
              "<style scoped>\n",
              "    .dataframe tbody tr th:only-of-type {\n",
              "        vertical-align: middle;\n",
              "    }\n",
              "\n",
              "    .dataframe tbody tr th {\n",
              "        vertical-align: top;\n",
              "    }\n",
              "\n",
              "    .dataframe thead th {\n",
              "        text-align: right;\n",
              "    }\n",
              "</style>\n",
              "<table border=\"1\" class=\"dataframe\">\n",
              "  <thead>\n",
              "    <tr style=\"text-align: right;\">\n",
              "      <th></th>\n",
              "      <th>측정일시</th>\n",
              "      <th>이산화질소농도(ppm)</th>\n",
              "      <th>오존농도(ppm)</th>\n",
              "      <th>일산화탄소농도(ppm)</th>\n",
              "      <th>아황산가스(ppm)</th>\n",
              "      <th>미세먼지(㎍/㎥)</th>\n",
              "      <th>초미세먼지(㎍/㎥)</th>\n",
              "    </tr>\n",
              "  </thead>\n",
              "  <tbody>\n",
              "    <tr>\n",
              "      <th>count</th>\n",
              "      <td>4.200000e+03</td>\n",
              "      <td>4131.000000</td>\n",
              "      <td>4130.000000</td>\n",
              "      <td>4130.000000</td>\n",
              "      <td>4127.000000</td>\n",
              "      <td>4109.000000</td>\n",
              "      <td>4138.000000</td>\n",
              "    </tr>\n",
              "    <tr>\n",
              "      <th>mean</th>\n",
              "      <td>2.023011e+11</td>\n",
              "      <td>0.037884</td>\n",
              "      <td>0.013016</td>\n",
              "      <td>0.790823</td>\n",
              "      <td>0.003562</td>\n",
              "      <td>77.791677</td>\n",
              "      <td>46.783954</td>\n",
              "    </tr>\n",
              "    <tr>\n",
              "      <th>std</th>\n",
              "      <td>2.040293e+04</td>\n",
              "      <td>0.013883</td>\n",
              "      <td>0.010617</td>\n",
              "      <td>0.240066</td>\n",
              "      <td>0.001040</td>\n",
              "      <td>42.282048</td>\n",
              "      <td>26.392818</td>\n",
              "    </tr>\n",
              "    <tr>\n",
              "      <th>min</th>\n",
              "      <td>2.023010e+11</td>\n",
              "      <td>0.009000</td>\n",
              "      <td>0.001000</td>\n",
              "      <td>0.200000</td>\n",
              "      <td>0.002000</td>\n",
              "      <td>12.000000</td>\n",
              "      <td>6.000000</td>\n",
              "    </tr>\n",
              "    <tr>\n",
              "      <th>25%</th>\n",
              "      <td>2.023011e+11</td>\n",
              "      <td>0.026000</td>\n",
              "      <td>0.003000</td>\n",
              "      <td>0.600000</td>\n",
              "      <td>0.003000</td>\n",
              "      <td>40.000000</td>\n",
              "      <td>25.000000</td>\n",
              "    </tr>\n",
              "    <tr>\n",
              "      <th>50%</th>\n",
              "      <td>2.023011e+11</td>\n",
              "      <td>0.038000</td>\n",
              "      <td>0.010000</td>\n",
              "      <td>0.800000</td>\n",
              "      <td>0.003000</td>\n",
              "      <td>62.000000</td>\n",
              "      <td>42.000000</td>\n",
              "    </tr>\n",
              "    <tr>\n",
              "      <th>75%</th>\n",
              "      <td>2.023011e+11</td>\n",
              "      <td>0.048000</td>\n",
              "      <td>0.021000</td>\n",
              "      <td>0.900000</td>\n",
              "      <td>0.004000</td>\n",
              "      <td>113.000000</td>\n",
              "      <td>62.000000</td>\n",
              "    </tr>\n",
              "    <tr>\n",
              "      <th>max</th>\n",
              "      <td>2.023011e+11</td>\n",
              "      <td>0.084000</td>\n",
              "      <td>0.048000</td>\n",
              "      <td>2.100000</td>\n",
              "      <td>0.013000</td>\n",
              "      <td>201.000000</td>\n",
              "      <td>140.000000</td>\n",
              "    </tr>\n",
              "  </tbody>\n",
              "</table>\n",
              "</div>\n",
              "      <button class=\"colab-df-convert\" onclick=\"convertToInteractive('df-c3245a53-ab8d-4dcc-89a4-da36b1201261')\"\n",
              "              title=\"Convert this dataframe to an interactive table.\"\n",
              "              style=\"display:none;\">\n",
              "        \n",
              "  <svg xmlns=\"http://www.w3.org/2000/svg\" height=\"24px\"viewBox=\"0 0 24 24\"\n",
              "       width=\"24px\">\n",
              "    <path d=\"M0 0h24v24H0V0z\" fill=\"none\"/>\n",
              "    <path d=\"M18.56 5.44l.94 2.06.94-2.06 2.06-.94-2.06-.94-.94-2.06-.94 2.06-2.06.94zm-11 1L8.5 8.5l.94-2.06 2.06-.94-2.06-.94L8.5 2.5l-.94 2.06-2.06.94zm10 10l.94 2.06.94-2.06 2.06-.94-2.06-.94-.94-2.06-.94 2.06-2.06.94z\"/><path d=\"M17.41 7.96l-1.37-1.37c-.4-.4-.92-.59-1.43-.59-.52 0-1.04.2-1.43.59L10.3 9.45l-7.72 7.72c-.78.78-.78 2.05 0 2.83L4 21.41c.39.39.9.59 1.41.59.51 0 1.02-.2 1.41-.59l7.78-7.78 2.81-2.81c.8-.78.8-2.07 0-2.86zM5.41 20L4 18.59l7.72-7.72 1.47 1.35L5.41 20z\"/>\n",
              "  </svg>\n",
              "      </button>\n",
              "      \n",
              "  <style>\n",
              "    .colab-df-container {\n",
              "      display:flex;\n",
              "      flex-wrap:wrap;\n",
              "      gap: 12px;\n",
              "    }\n",
              "\n",
              "    .colab-df-convert {\n",
              "      background-color: #E8F0FE;\n",
              "      border: none;\n",
              "      border-radius: 50%;\n",
              "      cursor: pointer;\n",
              "      display: none;\n",
              "      fill: #1967D2;\n",
              "      height: 32px;\n",
              "      padding: 0 0 0 0;\n",
              "      width: 32px;\n",
              "    }\n",
              "\n",
              "    .colab-df-convert:hover {\n",
              "      background-color: #E2EBFA;\n",
              "      box-shadow: 0px 1px 2px rgba(60, 64, 67, 0.3), 0px 1px 3px 1px rgba(60, 64, 67, 0.15);\n",
              "      fill: #174EA6;\n",
              "    }\n",
              "\n",
              "    [theme=dark] .colab-df-convert {\n",
              "      background-color: #3B4455;\n",
              "      fill: #D2E3FC;\n",
              "    }\n",
              "\n",
              "    [theme=dark] .colab-df-convert:hover {\n",
              "      background-color: #434B5C;\n",
              "      box-shadow: 0px 1px 3px 1px rgba(0, 0, 0, 0.15);\n",
              "      filter: drop-shadow(0px 1px 2px rgba(0, 0, 0, 0.3));\n",
              "      fill: #FFFFFF;\n",
              "    }\n",
              "  </style>\n",
              "\n",
              "      <script>\n",
              "        const buttonEl =\n",
              "          document.querySelector('#df-c3245a53-ab8d-4dcc-89a4-da36b1201261 button.colab-df-convert');\n",
              "        buttonEl.style.display =\n",
              "          google.colab.kernel.accessAllowed ? 'block' : 'none';\n",
              "\n",
              "        async function convertToInteractive(key) {\n",
              "          const element = document.querySelector('#df-c3245a53-ab8d-4dcc-89a4-da36b1201261');\n",
              "          const dataTable =\n",
              "            await google.colab.kernel.invokeFunction('convertToInteractive',\n",
              "                                                     [key], {});\n",
              "          if (!dataTable) return;\n",
              "\n",
              "          const docLinkHtml = 'Like what you see? Visit the ' +\n",
              "            '<a target=\"_blank\" href=https://colab.research.google.com/notebooks/data_table.ipynb>data table notebook</a>'\n",
              "            + ' to learn more about interactive tables.';\n",
              "          element.innerHTML = '';\n",
              "          dataTable['output_type'] = 'display_data';\n",
              "          await google.colab.output.renderOutput(dataTable, element);\n",
              "          const docLink = document.createElement('div');\n",
              "          docLink.innerHTML = docLinkHtml;\n",
              "          element.appendChild(docLink);\n",
              "        }\n",
              "      </script>\n",
              "    </div>\n",
              "  </div>\n",
              "  "
            ]
          },
          "metadata": {},
          "execution_count": 10
        }
      ]
    },
    {
      "cell_type": "code",
      "source": [
        "data.nunique()"
      ],
      "metadata": {
        "colab": {
          "base_uri": "https://localhost:8080/"
        },
        "id": "euAScE3E8Nfh",
        "outputId": "6f9d8f50-4b47-47a7-856b-bc37deb1119b"
      },
      "execution_count": 11,
      "outputs": [
        {
          "output_type": "execute_result",
          "data": {
            "text/plain": [
              "측정일시            168\n",
              "측정소명             25\n",
              "이산화질소농도(ppm)     75\n",
              "오존농도(ppm)        48\n",
              "일산화탄소농도(ppm)     19\n",
              "아황산가스(ppm)       12\n",
              "미세먼지(㎍/㎥)       177\n",
              "초미세먼지(㎍/㎥)      127\n",
              "dtype: int64"
            ]
          },
          "metadata": {},
          "execution_count": 11
        }
      ]
    },
    {
      "cell_type": "code",
      "source": [
        "real_data = data\n",
        "real_data #원 상태의 데이터 보존을 위해 복사"
      ],
      "metadata": {
        "colab": {
          "base_uri": "https://localhost:8080/",
          "height": 424
        },
        "id": "ayvRyFQQXFGR",
        "outputId": "012af6f7-7126-4dbe-86b5-c29406a40382"
      },
      "execution_count": 12,
      "outputs": [
        {
          "output_type": "execute_result",
          "data": {
            "text/plain": [
              "              측정일시  측정소명  이산화질소농도(ppm)  오존농도(ppm)  일산화탄소농도(ppm)  아황산가스(ppm)  \\\n",
              "0     202301100600   강북구         0.022      0.013           0.7       0.002   \n",
              "1     202301100600  서대문구         0.040      0.004           1.3       0.007   \n",
              "2     202301100600   양천구         0.036      0.003           0.6       0.003   \n",
              "3     202301100600   금천구         0.031      0.007           0.6       0.003   \n",
              "4     202301100600   성북구         0.036      0.008           0.6       0.003   \n",
              "...            ...   ...           ...        ...           ...         ...   \n",
              "4195  202301030700   성동구         0.045      0.002           0.6       0.003   \n",
              "4196  202301030700   마포구         0.032      0.004           0.6       0.002   \n",
              "4197  202301030700  서대문구         0.039      0.004           1.1       0.009   \n",
              "4198  202301030700   서초구         0.044      0.002           0.4       0.003   \n",
              "4199  202301030700   관악구         0.047      0.004           0.7       0.003   \n",
              "\n",
              "      미세먼지(㎍/㎥)  초미세먼지(㎍/㎥)  \n",
              "0          53.0        25.0  \n",
              "1          46.0        25.0  \n",
              "2          47.0        25.0  \n",
              "3          39.0        25.0  \n",
              "4          44.0        25.0  \n",
              "...         ...         ...  \n",
              "4195       29.0        13.0  \n",
              "4196       26.0        16.0  \n",
              "4197       27.0        17.0  \n",
              "4198       24.0         9.0  \n",
              "4199       26.0        13.0  \n",
              "\n",
              "[4200 rows x 8 columns]"
            ],
            "text/html": [
              "\n",
              "  <div id=\"df-aba9a356-a0bf-4f6d-a6e3-143a941c4f3c\">\n",
              "    <div class=\"colab-df-container\">\n",
              "      <div>\n",
              "<style scoped>\n",
              "    .dataframe tbody tr th:only-of-type {\n",
              "        vertical-align: middle;\n",
              "    }\n",
              "\n",
              "    .dataframe tbody tr th {\n",
              "        vertical-align: top;\n",
              "    }\n",
              "\n",
              "    .dataframe thead th {\n",
              "        text-align: right;\n",
              "    }\n",
              "</style>\n",
              "<table border=\"1\" class=\"dataframe\">\n",
              "  <thead>\n",
              "    <tr style=\"text-align: right;\">\n",
              "      <th></th>\n",
              "      <th>측정일시</th>\n",
              "      <th>측정소명</th>\n",
              "      <th>이산화질소농도(ppm)</th>\n",
              "      <th>오존농도(ppm)</th>\n",
              "      <th>일산화탄소농도(ppm)</th>\n",
              "      <th>아황산가스(ppm)</th>\n",
              "      <th>미세먼지(㎍/㎥)</th>\n",
              "      <th>초미세먼지(㎍/㎥)</th>\n",
              "    </tr>\n",
              "  </thead>\n",
              "  <tbody>\n",
              "    <tr>\n",
              "      <th>0</th>\n",
              "      <td>202301100600</td>\n",
              "      <td>강북구</td>\n",
              "      <td>0.022</td>\n",
              "      <td>0.013</td>\n",
              "      <td>0.7</td>\n",
              "      <td>0.002</td>\n",
              "      <td>53.0</td>\n",
              "      <td>25.0</td>\n",
              "    </tr>\n",
              "    <tr>\n",
              "      <th>1</th>\n",
              "      <td>202301100600</td>\n",
              "      <td>서대문구</td>\n",
              "      <td>0.040</td>\n",
              "      <td>0.004</td>\n",
              "      <td>1.3</td>\n",
              "      <td>0.007</td>\n",
              "      <td>46.0</td>\n",
              "      <td>25.0</td>\n",
              "    </tr>\n",
              "    <tr>\n",
              "      <th>2</th>\n",
              "      <td>202301100600</td>\n",
              "      <td>양천구</td>\n",
              "      <td>0.036</td>\n",
              "      <td>0.003</td>\n",
              "      <td>0.6</td>\n",
              "      <td>0.003</td>\n",
              "      <td>47.0</td>\n",
              "      <td>25.0</td>\n",
              "    </tr>\n",
              "    <tr>\n",
              "      <th>3</th>\n",
              "      <td>202301100600</td>\n",
              "      <td>금천구</td>\n",
              "      <td>0.031</td>\n",
              "      <td>0.007</td>\n",
              "      <td>0.6</td>\n",
              "      <td>0.003</td>\n",
              "      <td>39.0</td>\n",
              "      <td>25.0</td>\n",
              "    </tr>\n",
              "    <tr>\n",
              "      <th>4</th>\n",
              "      <td>202301100600</td>\n",
              "      <td>성북구</td>\n",
              "      <td>0.036</td>\n",
              "      <td>0.008</td>\n",
              "      <td>0.6</td>\n",
              "      <td>0.003</td>\n",
              "      <td>44.0</td>\n",
              "      <td>25.0</td>\n",
              "    </tr>\n",
              "    <tr>\n",
              "      <th>...</th>\n",
              "      <td>...</td>\n",
              "      <td>...</td>\n",
              "      <td>...</td>\n",
              "      <td>...</td>\n",
              "      <td>...</td>\n",
              "      <td>...</td>\n",
              "      <td>...</td>\n",
              "      <td>...</td>\n",
              "    </tr>\n",
              "    <tr>\n",
              "      <th>4195</th>\n",
              "      <td>202301030700</td>\n",
              "      <td>성동구</td>\n",
              "      <td>0.045</td>\n",
              "      <td>0.002</td>\n",
              "      <td>0.6</td>\n",
              "      <td>0.003</td>\n",
              "      <td>29.0</td>\n",
              "      <td>13.0</td>\n",
              "    </tr>\n",
              "    <tr>\n",
              "      <th>4196</th>\n",
              "      <td>202301030700</td>\n",
              "      <td>마포구</td>\n",
              "      <td>0.032</td>\n",
              "      <td>0.004</td>\n",
              "      <td>0.6</td>\n",
              "      <td>0.002</td>\n",
              "      <td>26.0</td>\n",
              "      <td>16.0</td>\n",
              "    </tr>\n",
              "    <tr>\n",
              "      <th>4197</th>\n",
              "      <td>202301030700</td>\n",
              "      <td>서대문구</td>\n",
              "      <td>0.039</td>\n",
              "      <td>0.004</td>\n",
              "      <td>1.1</td>\n",
              "      <td>0.009</td>\n",
              "      <td>27.0</td>\n",
              "      <td>17.0</td>\n",
              "    </tr>\n",
              "    <tr>\n",
              "      <th>4198</th>\n",
              "      <td>202301030700</td>\n",
              "      <td>서초구</td>\n",
              "      <td>0.044</td>\n",
              "      <td>0.002</td>\n",
              "      <td>0.4</td>\n",
              "      <td>0.003</td>\n",
              "      <td>24.0</td>\n",
              "      <td>9.0</td>\n",
              "    </tr>\n",
              "    <tr>\n",
              "      <th>4199</th>\n",
              "      <td>202301030700</td>\n",
              "      <td>관악구</td>\n",
              "      <td>0.047</td>\n",
              "      <td>0.004</td>\n",
              "      <td>0.7</td>\n",
              "      <td>0.003</td>\n",
              "      <td>26.0</td>\n",
              "      <td>13.0</td>\n",
              "    </tr>\n",
              "  </tbody>\n",
              "</table>\n",
              "<p>4200 rows × 8 columns</p>\n",
              "</div>\n",
              "      <button class=\"colab-df-convert\" onclick=\"convertToInteractive('df-aba9a356-a0bf-4f6d-a6e3-143a941c4f3c')\"\n",
              "              title=\"Convert this dataframe to an interactive table.\"\n",
              "              style=\"display:none;\">\n",
              "        \n",
              "  <svg xmlns=\"http://www.w3.org/2000/svg\" height=\"24px\"viewBox=\"0 0 24 24\"\n",
              "       width=\"24px\">\n",
              "    <path d=\"M0 0h24v24H0V0z\" fill=\"none\"/>\n",
              "    <path d=\"M18.56 5.44l.94 2.06.94-2.06 2.06-.94-2.06-.94-.94-2.06-.94 2.06-2.06.94zm-11 1L8.5 8.5l.94-2.06 2.06-.94-2.06-.94L8.5 2.5l-.94 2.06-2.06.94zm10 10l.94 2.06.94-2.06 2.06-.94-2.06-.94-.94-2.06-.94 2.06-2.06.94z\"/><path d=\"M17.41 7.96l-1.37-1.37c-.4-.4-.92-.59-1.43-.59-.52 0-1.04.2-1.43.59L10.3 9.45l-7.72 7.72c-.78.78-.78 2.05 0 2.83L4 21.41c.39.39.9.59 1.41.59.51 0 1.02-.2 1.41-.59l7.78-7.78 2.81-2.81c.8-.78.8-2.07 0-2.86zM5.41 20L4 18.59l7.72-7.72 1.47 1.35L5.41 20z\"/>\n",
              "  </svg>\n",
              "      </button>\n",
              "      \n",
              "  <style>\n",
              "    .colab-df-container {\n",
              "      display:flex;\n",
              "      flex-wrap:wrap;\n",
              "      gap: 12px;\n",
              "    }\n",
              "\n",
              "    .colab-df-convert {\n",
              "      background-color: #E8F0FE;\n",
              "      border: none;\n",
              "      border-radius: 50%;\n",
              "      cursor: pointer;\n",
              "      display: none;\n",
              "      fill: #1967D2;\n",
              "      height: 32px;\n",
              "      padding: 0 0 0 0;\n",
              "      width: 32px;\n",
              "    }\n",
              "\n",
              "    .colab-df-convert:hover {\n",
              "      background-color: #E2EBFA;\n",
              "      box-shadow: 0px 1px 2px rgba(60, 64, 67, 0.3), 0px 1px 3px 1px rgba(60, 64, 67, 0.15);\n",
              "      fill: #174EA6;\n",
              "    }\n",
              "\n",
              "    [theme=dark] .colab-df-convert {\n",
              "      background-color: #3B4455;\n",
              "      fill: #D2E3FC;\n",
              "    }\n",
              "\n",
              "    [theme=dark] .colab-df-convert:hover {\n",
              "      background-color: #434B5C;\n",
              "      box-shadow: 0px 1px 3px 1px rgba(0, 0, 0, 0.15);\n",
              "      filter: drop-shadow(0px 1px 2px rgba(0, 0, 0, 0.3));\n",
              "      fill: #FFFFFF;\n",
              "    }\n",
              "  </style>\n",
              "\n",
              "      <script>\n",
              "        const buttonEl =\n",
              "          document.querySelector('#df-aba9a356-a0bf-4f6d-a6e3-143a941c4f3c button.colab-df-convert');\n",
              "        buttonEl.style.display =\n",
              "          google.colab.kernel.accessAllowed ? 'block' : 'none';\n",
              "\n",
              "        async function convertToInteractive(key) {\n",
              "          const element = document.querySelector('#df-aba9a356-a0bf-4f6d-a6e3-143a941c4f3c');\n",
              "          const dataTable =\n",
              "            await google.colab.kernel.invokeFunction('convertToInteractive',\n",
              "                                                     [key], {});\n",
              "          if (!dataTable) return;\n",
              "\n",
              "          const docLinkHtml = 'Like what you see? Visit the ' +\n",
              "            '<a target=\"_blank\" href=https://colab.research.google.com/notebooks/data_table.ipynb>data table notebook</a>'\n",
              "            + ' to learn more about interactive tables.';\n",
              "          element.innerHTML = '';\n",
              "          dataTable['output_type'] = 'display_data';\n",
              "          await google.colab.output.renderOutput(dataTable, element);\n",
              "          const docLink = document.createElement('div');\n",
              "          docLink.innerHTML = docLinkHtml;\n",
              "          element.appendChild(docLink);\n",
              "        }\n",
              "      </script>\n",
              "    </div>\n",
              "  </div>\n",
              "  "
            ]
          },
          "metadata": {},
          "execution_count": 12
        }
      ]
    },
    {
      "cell_type": "code",
      "source": [
        "# 편의를 위해 열 이름 변경\n",
        "data.rename(columns = {\"측정일시\":\"Time\", \"측정소명\":\"Place\", \"이산화질소농도(ppm)\":\"NO2\", \"오존농도(ppm)\":\"O3\", \"일산화탄소농도(ppm)\":\"CO\", \n",
        "                       \"아황산가스(ppm)\":\"SO2\", \"미세먼지(㎍/㎥)\":\"Dust\", \"초미세먼지(㎍/㎥)\":\"F_dust\"}, inplace=True)"
      ],
      "metadata": {
        "id": "1MwuxYflXVGE"
      },
      "execution_count": 13,
      "outputs": []
    },
    {
      "cell_type": "code",
      "source": [
        "data.head()"
      ],
      "metadata": {
        "colab": {
          "base_uri": "https://localhost:8080/",
          "height": 206
        },
        "id": "AgbI7C6FYKwF",
        "outputId": "dcb2eb75-a5d0-445c-b537-04eeff201c6b"
      },
      "execution_count": 14,
      "outputs": [
        {
          "output_type": "execute_result",
          "data": {
            "text/plain": [
              "           Time Place    NO2     O3   CO    SO2  Dust  F_dust\n",
              "0  202301100600   강북구  0.022  0.013  0.7  0.002  53.0    25.0\n",
              "1  202301100600  서대문구  0.040  0.004  1.3  0.007  46.0    25.0\n",
              "2  202301100600   양천구  0.036  0.003  0.6  0.003  47.0    25.0\n",
              "3  202301100600   금천구  0.031  0.007  0.6  0.003  39.0    25.0\n",
              "4  202301100600   성북구  0.036  0.008  0.6  0.003  44.0    25.0"
            ],
            "text/html": [
              "\n",
              "  <div id=\"df-fd013ac6-8621-4426-a306-003e77812eba\">\n",
              "    <div class=\"colab-df-container\">\n",
              "      <div>\n",
              "<style scoped>\n",
              "    .dataframe tbody tr th:only-of-type {\n",
              "        vertical-align: middle;\n",
              "    }\n",
              "\n",
              "    .dataframe tbody tr th {\n",
              "        vertical-align: top;\n",
              "    }\n",
              "\n",
              "    .dataframe thead th {\n",
              "        text-align: right;\n",
              "    }\n",
              "</style>\n",
              "<table border=\"1\" class=\"dataframe\">\n",
              "  <thead>\n",
              "    <tr style=\"text-align: right;\">\n",
              "      <th></th>\n",
              "      <th>Time</th>\n",
              "      <th>Place</th>\n",
              "      <th>NO2</th>\n",
              "      <th>O3</th>\n",
              "      <th>CO</th>\n",
              "      <th>SO2</th>\n",
              "      <th>Dust</th>\n",
              "      <th>F_dust</th>\n",
              "    </tr>\n",
              "  </thead>\n",
              "  <tbody>\n",
              "    <tr>\n",
              "      <th>0</th>\n",
              "      <td>202301100600</td>\n",
              "      <td>강북구</td>\n",
              "      <td>0.022</td>\n",
              "      <td>0.013</td>\n",
              "      <td>0.7</td>\n",
              "      <td>0.002</td>\n",
              "      <td>53.0</td>\n",
              "      <td>25.0</td>\n",
              "    </tr>\n",
              "    <tr>\n",
              "      <th>1</th>\n",
              "      <td>202301100600</td>\n",
              "      <td>서대문구</td>\n",
              "      <td>0.040</td>\n",
              "      <td>0.004</td>\n",
              "      <td>1.3</td>\n",
              "      <td>0.007</td>\n",
              "      <td>46.0</td>\n",
              "      <td>25.0</td>\n",
              "    </tr>\n",
              "    <tr>\n",
              "      <th>2</th>\n",
              "      <td>202301100600</td>\n",
              "      <td>양천구</td>\n",
              "      <td>0.036</td>\n",
              "      <td>0.003</td>\n",
              "      <td>0.6</td>\n",
              "      <td>0.003</td>\n",
              "      <td>47.0</td>\n",
              "      <td>25.0</td>\n",
              "    </tr>\n",
              "    <tr>\n",
              "      <th>3</th>\n",
              "      <td>202301100600</td>\n",
              "      <td>금천구</td>\n",
              "      <td>0.031</td>\n",
              "      <td>0.007</td>\n",
              "      <td>0.6</td>\n",
              "      <td>0.003</td>\n",
              "      <td>39.0</td>\n",
              "      <td>25.0</td>\n",
              "    </tr>\n",
              "    <tr>\n",
              "      <th>4</th>\n",
              "      <td>202301100600</td>\n",
              "      <td>성북구</td>\n",
              "      <td>0.036</td>\n",
              "      <td>0.008</td>\n",
              "      <td>0.6</td>\n",
              "      <td>0.003</td>\n",
              "      <td>44.0</td>\n",
              "      <td>25.0</td>\n",
              "    </tr>\n",
              "  </tbody>\n",
              "</table>\n",
              "</div>\n",
              "      <button class=\"colab-df-convert\" onclick=\"convertToInteractive('df-fd013ac6-8621-4426-a306-003e77812eba')\"\n",
              "              title=\"Convert this dataframe to an interactive table.\"\n",
              "              style=\"display:none;\">\n",
              "        \n",
              "  <svg xmlns=\"http://www.w3.org/2000/svg\" height=\"24px\"viewBox=\"0 0 24 24\"\n",
              "       width=\"24px\">\n",
              "    <path d=\"M0 0h24v24H0V0z\" fill=\"none\"/>\n",
              "    <path d=\"M18.56 5.44l.94 2.06.94-2.06 2.06-.94-2.06-.94-.94-2.06-.94 2.06-2.06.94zm-11 1L8.5 8.5l.94-2.06 2.06-.94-2.06-.94L8.5 2.5l-.94 2.06-2.06.94zm10 10l.94 2.06.94-2.06 2.06-.94-2.06-.94-.94-2.06-.94 2.06-2.06.94z\"/><path d=\"M17.41 7.96l-1.37-1.37c-.4-.4-.92-.59-1.43-.59-.52 0-1.04.2-1.43.59L10.3 9.45l-7.72 7.72c-.78.78-.78 2.05 0 2.83L4 21.41c.39.39.9.59 1.41.59.51 0 1.02-.2 1.41-.59l7.78-7.78 2.81-2.81c.8-.78.8-2.07 0-2.86zM5.41 20L4 18.59l7.72-7.72 1.47 1.35L5.41 20z\"/>\n",
              "  </svg>\n",
              "      </button>\n",
              "      \n",
              "  <style>\n",
              "    .colab-df-container {\n",
              "      display:flex;\n",
              "      flex-wrap:wrap;\n",
              "      gap: 12px;\n",
              "    }\n",
              "\n",
              "    .colab-df-convert {\n",
              "      background-color: #E8F0FE;\n",
              "      border: none;\n",
              "      border-radius: 50%;\n",
              "      cursor: pointer;\n",
              "      display: none;\n",
              "      fill: #1967D2;\n",
              "      height: 32px;\n",
              "      padding: 0 0 0 0;\n",
              "      width: 32px;\n",
              "    }\n",
              "\n",
              "    .colab-df-convert:hover {\n",
              "      background-color: #E2EBFA;\n",
              "      box-shadow: 0px 1px 2px rgba(60, 64, 67, 0.3), 0px 1px 3px 1px rgba(60, 64, 67, 0.15);\n",
              "      fill: #174EA6;\n",
              "    }\n",
              "\n",
              "    [theme=dark] .colab-df-convert {\n",
              "      background-color: #3B4455;\n",
              "      fill: #D2E3FC;\n",
              "    }\n",
              "\n",
              "    [theme=dark] .colab-df-convert:hover {\n",
              "      background-color: #434B5C;\n",
              "      box-shadow: 0px 1px 3px 1px rgba(0, 0, 0, 0.15);\n",
              "      filter: drop-shadow(0px 1px 2px rgba(0, 0, 0, 0.3));\n",
              "      fill: #FFFFFF;\n",
              "    }\n",
              "  </style>\n",
              "\n",
              "      <script>\n",
              "        const buttonEl =\n",
              "          document.querySelector('#df-fd013ac6-8621-4426-a306-003e77812eba button.colab-df-convert');\n",
              "        buttonEl.style.display =\n",
              "          google.colab.kernel.accessAllowed ? 'block' : 'none';\n",
              "\n",
              "        async function convertToInteractive(key) {\n",
              "          const element = document.querySelector('#df-fd013ac6-8621-4426-a306-003e77812eba');\n",
              "          const dataTable =\n",
              "            await google.colab.kernel.invokeFunction('convertToInteractive',\n",
              "                                                     [key], {});\n",
              "          if (!dataTable) return;\n",
              "\n",
              "          const docLinkHtml = 'Like what you see? Visit the ' +\n",
              "            '<a target=\"_blank\" href=https://colab.research.google.com/notebooks/data_table.ipynb>data table notebook</a>'\n",
              "            + ' to learn more about interactive tables.';\n",
              "          element.innerHTML = '';\n",
              "          dataTable['output_type'] = 'display_data';\n",
              "          await google.colab.output.renderOutput(dataTable, element);\n",
              "          const docLink = document.createElement('div');\n",
              "          docLink.innerHTML = docLinkHtml;\n",
              "          element.appendChild(docLink);\n",
              "        }\n",
              "      </script>\n",
              "    </div>\n",
              "  </div>\n",
              "  "
            ]
          },
          "metadata": {},
          "execution_count": 14
        }
      ]
    },
    {
      "cell_type": "code",
      "source": [
        "data['Time'].unique()\n",
        "#2023년 1월 3일 오전 7시 ~ 2023년 1월 10일 오전 6시까지의 시간별 데이터임."
      ],
      "metadata": {
        "colab": {
          "base_uri": "https://localhost:8080/"
        },
        "id": "zQX9t94v98F1",
        "outputId": "73c4e3e5-54dd-4262-dbc9-14e06f8fafa5"
      },
      "execution_count": 15,
      "outputs": [
        {
          "output_type": "execute_result",
          "data": {
            "text/plain": [
              "array([202301100600, 202301100500, 202301100400, 202301100300,\n",
              "       202301100200, 202301100100, 202301100000, 202301092300,\n",
              "       202301092200, 202301092100, 202301092000, 202301091900,\n",
              "       202301091800, 202301091700, 202301091600, 202301091500,\n",
              "       202301091400, 202301091300, 202301091200, 202301091100,\n",
              "       202301091000, 202301090900, 202301090800, 202301090700,\n",
              "       202301090600, 202301090500, 202301090400, 202301090300,\n",
              "       202301090200, 202301090100, 202301090000, 202301082300,\n",
              "       202301082200, 202301082100, 202301082000, 202301081900,\n",
              "       202301081800, 202301081700, 202301081600, 202301081500,\n",
              "       202301081400, 202301081300, 202301081200, 202301081100,\n",
              "       202301081000, 202301080900, 202301080800, 202301080700,\n",
              "       202301080600, 202301080500, 202301080400, 202301080300,\n",
              "       202301080200, 202301080100, 202301080000, 202301072300,\n",
              "       202301072200, 202301072100, 202301072000, 202301071900,\n",
              "       202301071800, 202301071700, 202301071600, 202301071500,\n",
              "       202301071400, 202301071300, 202301071200, 202301071100,\n",
              "       202301071000, 202301070900, 202301070800, 202301070700,\n",
              "       202301070600, 202301070500, 202301070400, 202301070300,\n",
              "       202301070200, 202301070100, 202301070000, 202301062300,\n",
              "       202301062200, 202301062100, 202301062000, 202301061900,\n",
              "       202301061800, 202301061700, 202301061600, 202301061500,\n",
              "       202301061400, 202301061300, 202301061200, 202301061100,\n",
              "       202301061000, 202301060900, 202301060800, 202301060700,\n",
              "       202301060600, 202301060500, 202301060400, 202301060300,\n",
              "       202301060200, 202301060100, 202301060000, 202301052300,\n",
              "       202301052200, 202301052100, 202301052000, 202301051900,\n",
              "       202301051800, 202301051700, 202301051600, 202301051500,\n",
              "       202301051400, 202301051300, 202301051200, 202301051100,\n",
              "       202301051000, 202301050900, 202301050800, 202301050700,\n",
              "       202301050600, 202301050500, 202301050400, 202301050300,\n",
              "       202301050200, 202301050100, 202301050000, 202301042300,\n",
              "       202301042200, 202301042100, 202301042000, 202301041900,\n",
              "       202301041800, 202301041700, 202301041600, 202301041500,\n",
              "       202301041400, 202301041300, 202301041200, 202301041100,\n",
              "       202301041000, 202301040900, 202301040800, 202301040700,\n",
              "       202301040600, 202301040500, 202301040400, 202301040300,\n",
              "       202301040200, 202301040100, 202301040000, 202301032300,\n",
              "       202301032200, 202301032100, 202301032000, 202301031900,\n",
              "       202301031800, 202301031700, 202301031600, 202301031500,\n",
              "       202301031400, 202301031300, 202301031200, 202301031100,\n",
              "       202301031000, 202301030900, 202301030800, 202301030700])"
            ]
          },
          "metadata": {},
          "execution_count": 15
        }
      ]
    },
    {
      "cell_type": "code",
      "source": [
        "data['Place'].unique()\n",
        "#총 25개의 구에 대한 데이터임."
      ],
      "metadata": {
        "colab": {
          "base_uri": "https://localhost:8080/"
        },
        "id": "L1PGOSrgTrYT",
        "outputId": "6b9081a5-11e3-492b-e9a4-a4469aa3a30e"
      },
      "execution_count": 16,
      "outputs": [
        {
          "output_type": "execute_result",
          "data": {
            "text/plain": [
              "array(['강북구', '서대문구', '양천구', '금천구', '성북구', '관악구', '종로구', '노원구', '강동구',\n",
              "       '광진구', '중구', '강남구', '영등포구', '동대문구', '송파구', '성동구', '은평구', '마포구',\n",
              "       '도봉구', '강서구', '중랑구', '동작구', '서초구', '구로구', '용산구'], dtype=object)"
            ]
          },
          "metadata": {},
          "execution_count": 16
        }
      ]
    },
    {
      "cell_type": "code",
      "source": [
        "data.isna().sum()\n",
        "#결측치 모두 비슷"
      ],
      "metadata": {
        "colab": {
          "base_uri": "https://localhost:8080/"
        },
        "id": "Ws7T3tRr8Lku",
        "outputId": "17756d3b-a6a7-4714-cf9e-ebef55360344"
      },
      "execution_count": 17,
      "outputs": [
        {
          "output_type": "execute_result",
          "data": {
            "text/plain": [
              "Time       0\n",
              "Place      0\n",
              "NO2       69\n",
              "O3        70\n",
              "CO        70\n",
              "SO2       73\n",
              "Dust      91\n",
              "F_dust    62\n",
              "dtype: int64"
            ]
          },
          "metadata": {},
          "execution_count": 17
        }
      ]
    },
    {
      "cell_type": "code",
      "source": [
        "#결측치 보간 -> 대기변수별 평균값으로 결측치 채워줌.\n",
        "mean_NO2 = data['NO2'].mean()\n",
        "mean_O3 = data['O3'].mean()\n",
        "mean_CO = data['CO'].mean()\n",
        "mean_SO2 = data['SO2'].mean()\n",
        "mean_Dust = data['Dust'].mean()\n",
        "mean_F_dust = data['F_dust'].mean()\n",
        "\n",
        "data['NO2'].fillna(mean_NO2, inplace=True)\n",
        "data['O3'].fillna(mean_O3, inplace=True)\n",
        "data['CO'].fillna(mean_CO, inplace=True)\n",
        "data['SO2'].fillna(mean_SO2, inplace=True)\n",
        "data['Dust'].fillna(mean_Dust, inplace=True)\n",
        "data['F_dust'].fillna(mean_F_dust, inplace=True)\n",
        "\n",
        "data.isna().sum()"
      ],
      "metadata": {
        "colab": {
          "base_uri": "https://localhost:8080/"
        },
        "id": "qnloEvCQ5Rbz",
        "outputId": "dbe96d0e-8f79-46f9-f27f-ba928be66f7f"
      },
      "execution_count": 22,
      "outputs": [
        {
          "output_type": "execute_result",
          "data": {
            "text/plain": [
              "Time      0\n",
              "Place     0\n",
              "NO2       0\n",
              "O3        0\n",
              "CO        0\n",
              "SO2       0\n",
              "Dust      0\n",
              "F_dust    0\n",
              "dtype: int64"
            ]
          },
          "metadata": {},
          "execution_count": 22
        }
      ]
    },
    {
      "cell_type": "code",
      "source": [
        "#지역별 오염물질 정도 확인\n",
        "#공업단지가 위치한 구로구 지역의 오염물질 수치가 구 중에서는 가장 높게 나왔으므로, 구로구를 중심으로 분석해봄.\n",
        "#구로구; 2023년 1월 9일 data\n",
        "data1 = data[(data['Place']=='구로구') & ( data['Time'] >= 202301090000) & (data['Time'] < 202301100000)]\n",
        "data1"
      ],
      "metadata": {
        "colab": {
          "base_uri": "https://localhost:8080/",
          "height": 802
        },
        "id": "G6o0z_bI7QyW",
        "outputId": "1416a39d-08cf-4a1a-aef3-dd789cf5b6ae"
      },
      "execution_count": 23,
      "outputs": [
        {
          "output_type": "execute_result",
          "data": {
            "text/plain": [
              "             Time Place    NO2     O3   CO    SO2   Dust  F_dust\n",
              "182  202301092300   구로구  0.027  0.014  0.4  0.003   54.0    18.0\n",
              "216  202301092200   구로구  0.023  0.019  0.4  0.003   55.0    18.0\n",
              "238  202301092100   구로구  0.020  0.021  0.4  0.003   51.0    18.0\n",
              "270  202301092000   구로구  0.021  0.021  0.3  0.003   50.0    17.0\n",
              "280  202301091900   구로구  0.017  0.025  0.3  0.003   50.0    17.0\n",
              "308  202301091800   구로구  0.016  0.027  0.3  0.003   57.0    24.0\n",
              "344  202301091700   구로구  0.014  0.030  0.3  0.004   68.0    29.0\n",
              "372  202301091600   구로구  0.012  0.032  0.4  0.004   79.0    29.0\n",
              "382  202301091500   구로구  0.011  0.032  0.4  0.004   98.0    29.0\n",
              "414  202301091400   구로구  0.011  0.031  0.4  0.004  127.0    33.0\n",
              "441  202301091300   구로구  0.013  0.027  0.4  0.004  154.0    38.0\n",
              "462  202301091200   구로구  0.015  0.023  0.4  0.004  163.0    48.0\n",
              "482  202301091100   구로구  0.029  0.008  0.5  0.004  156.0    57.0\n",
              "514  202301091000   구로구  0.032  0.005  0.6  0.003  156.0    49.0\n",
              "546  202301090900   구로구  0.033  0.004  0.5  0.003  156.0    53.0\n",
              "564  202301090800   구로구  0.034  0.003  0.5  0.003  129.0    53.0\n",
              "597  202301090700   구로구  0.036  0.002  0.6  0.003  115.0    51.0\n",
              "619  202301090600   구로구  0.041  0.002  0.6  0.003  109.0    51.0\n",
              "644  202301090500   구로구  0.042  0.002  0.6  0.003  106.0    50.0\n",
              "650  202301090400   구로구  0.044  0.002  0.6  0.003  101.0    53.0\n",
              "686  202301090300   구로구  0.044  0.002  0.6  0.003  110.0    54.0\n",
              "720  202301090200   구로구  0.044  0.003  0.6  0.003  111.0    50.0\n",
              "732  202301090100   구로구  0.043  0.004  0.6  0.003  111.0    52.0\n",
              "751  202301090000   구로구  0.043  0.004  0.6  0.003  114.0    54.0"
            ],
            "text/html": [
              "\n",
              "  <div id=\"df-0c0f7167-c9d9-447d-8940-da5edb0307c2\">\n",
              "    <div class=\"colab-df-container\">\n",
              "      <div>\n",
              "<style scoped>\n",
              "    .dataframe tbody tr th:only-of-type {\n",
              "        vertical-align: middle;\n",
              "    }\n",
              "\n",
              "    .dataframe tbody tr th {\n",
              "        vertical-align: top;\n",
              "    }\n",
              "\n",
              "    .dataframe thead th {\n",
              "        text-align: right;\n",
              "    }\n",
              "</style>\n",
              "<table border=\"1\" class=\"dataframe\">\n",
              "  <thead>\n",
              "    <tr style=\"text-align: right;\">\n",
              "      <th></th>\n",
              "      <th>Time</th>\n",
              "      <th>Place</th>\n",
              "      <th>NO2</th>\n",
              "      <th>O3</th>\n",
              "      <th>CO</th>\n",
              "      <th>SO2</th>\n",
              "      <th>Dust</th>\n",
              "      <th>F_dust</th>\n",
              "    </tr>\n",
              "  </thead>\n",
              "  <tbody>\n",
              "    <tr>\n",
              "      <th>182</th>\n",
              "      <td>202301092300</td>\n",
              "      <td>구로구</td>\n",
              "      <td>0.027</td>\n",
              "      <td>0.014</td>\n",
              "      <td>0.4</td>\n",
              "      <td>0.003</td>\n",
              "      <td>54.0</td>\n",
              "      <td>18.0</td>\n",
              "    </tr>\n",
              "    <tr>\n",
              "      <th>216</th>\n",
              "      <td>202301092200</td>\n",
              "      <td>구로구</td>\n",
              "      <td>0.023</td>\n",
              "      <td>0.019</td>\n",
              "      <td>0.4</td>\n",
              "      <td>0.003</td>\n",
              "      <td>55.0</td>\n",
              "      <td>18.0</td>\n",
              "    </tr>\n",
              "    <tr>\n",
              "      <th>238</th>\n",
              "      <td>202301092100</td>\n",
              "      <td>구로구</td>\n",
              "      <td>0.020</td>\n",
              "      <td>0.021</td>\n",
              "      <td>0.4</td>\n",
              "      <td>0.003</td>\n",
              "      <td>51.0</td>\n",
              "      <td>18.0</td>\n",
              "    </tr>\n",
              "    <tr>\n",
              "      <th>270</th>\n",
              "      <td>202301092000</td>\n",
              "      <td>구로구</td>\n",
              "      <td>0.021</td>\n",
              "      <td>0.021</td>\n",
              "      <td>0.3</td>\n",
              "      <td>0.003</td>\n",
              "      <td>50.0</td>\n",
              "      <td>17.0</td>\n",
              "    </tr>\n",
              "    <tr>\n",
              "      <th>280</th>\n",
              "      <td>202301091900</td>\n",
              "      <td>구로구</td>\n",
              "      <td>0.017</td>\n",
              "      <td>0.025</td>\n",
              "      <td>0.3</td>\n",
              "      <td>0.003</td>\n",
              "      <td>50.0</td>\n",
              "      <td>17.0</td>\n",
              "    </tr>\n",
              "    <tr>\n",
              "      <th>308</th>\n",
              "      <td>202301091800</td>\n",
              "      <td>구로구</td>\n",
              "      <td>0.016</td>\n",
              "      <td>0.027</td>\n",
              "      <td>0.3</td>\n",
              "      <td>0.003</td>\n",
              "      <td>57.0</td>\n",
              "      <td>24.0</td>\n",
              "    </tr>\n",
              "    <tr>\n",
              "      <th>344</th>\n",
              "      <td>202301091700</td>\n",
              "      <td>구로구</td>\n",
              "      <td>0.014</td>\n",
              "      <td>0.030</td>\n",
              "      <td>0.3</td>\n",
              "      <td>0.004</td>\n",
              "      <td>68.0</td>\n",
              "      <td>29.0</td>\n",
              "    </tr>\n",
              "    <tr>\n",
              "      <th>372</th>\n",
              "      <td>202301091600</td>\n",
              "      <td>구로구</td>\n",
              "      <td>0.012</td>\n",
              "      <td>0.032</td>\n",
              "      <td>0.4</td>\n",
              "      <td>0.004</td>\n",
              "      <td>79.0</td>\n",
              "      <td>29.0</td>\n",
              "    </tr>\n",
              "    <tr>\n",
              "      <th>382</th>\n",
              "      <td>202301091500</td>\n",
              "      <td>구로구</td>\n",
              "      <td>0.011</td>\n",
              "      <td>0.032</td>\n",
              "      <td>0.4</td>\n",
              "      <td>0.004</td>\n",
              "      <td>98.0</td>\n",
              "      <td>29.0</td>\n",
              "    </tr>\n",
              "    <tr>\n",
              "      <th>414</th>\n",
              "      <td>202301091400</td>\n",
              "      <td>구로구</td>\n",
              "      <td>0.011</td>\n",
              "      <td>0.031</td>\n",
              "      <td>0.4</td>\n",
              "      <td>0.004</td>\n",
              "      <td>127.0</td>\n",
              "      <td>33.0</td>\n",
              "    </tr>\n",
              "    <tr>\n",
              "      <th>441</th>\n",
              "      <td>202301091300</td>\n",
              "      <td>구로구</td>\n",
              "      <td>0.013</td>\n",
              "      <td>0.027</td>\n",
              "      <td>0.4</td>\n",
              "      <td>0.004</td>\n",
              "      <td>154.0</td>\n",
              "      <td>38.0</td>\n",
              "    </tr>\n",
              "    <tr>\n",
              "      <th>462</th>\n",
              "      <td>202301091200</td>\n",
              "      <td>구로구</td>\n",
              "      <td>0.015</td>\n",
              "      <td>0.023</td>\n",
              "      <td>0.4</td>\n",
              "      <td>0.004</td>\n",
              "      <td>163.0</td>\n",
              "      <td>48.0</td>\n",
              "    </tr>\n",
              "    <tr>\n",
              "      <th>482</th>\n",
              "      <td>202301091100</td>\n",
              "      <td>구로구</td>\n",
              "      <td>0.029</td>\n",
              "      <td>0.008</td>\n",
              "      <td>0.5</td>\n",
              "      <td>0.004</td>\n",
              "      <td>156.0</td>\n",
              "      <td>57.0</td>\n",
              "    </tr>\n",
              "    <tr>\n",
              "      <th>514</th>\n",
              "      <td>202301091000</td>\n",
              "      <td>구로구</td>\n",
              "      <td>0.032</td>\n",
              "      <td>0.005</td>\n",
              "      <td>0.6</td>\n",
              "      <td>0.003</td>\n",
              "      <td>156.0</td>\n",
              "      <td>49.0</td>\n",
              "    </tr>\n",
              "    <tr>\n",
              "      <th>546</th>\n",
              "      <td>202301090900</td>\n",
              "      <td>구로구</td>\n",
              "      <td>0.033</td>\n",
              "      <td>0.004</td>\n",
              "      <td>0.5</td>\n",
              "      <td>0.003</td>\n",
              "      <td>156.0</td>\n",
              "      <td>53.0</td>\n",
              "    </tr>\n",
              "    <tr>\n",
              "      <th>564</th>\n",
              "      <td>202301090800</td>\n",
              "      <td>구로구</td>\n",
              "      <td>0.034</td>\n",
              "      <td>0.003</td>\n",
              "      <td>0.5</td>\n",
              "      <td>0.003</td>\n",
              "      <td>129.0</td>\n",
              "      <td>53.0</td>\n",
              "    </tr>\n",
              "    <tr>\n",
              "      <th>597</th>\n",
              "      <td>202301090700</td>\n",
              "      <td>구로구</td>\n",
              "      <td>0.036</td>\n",
              "      <td>0.002</td>\n",
              "      <td>0.6</td>\n",
              "      <td>0.003</td>\n",
              "      <td>115.0</td>\n",
              "      <td>51.0</td>\n",
              "    </tr>\n",
              "    <tr>\n",
              "      <th>619</th>\n",
              "      <td>202301090600</td>\n",
              "      <td>구로구</td>\n",
              "      <td>0.041</td>\n",
              "      <td>0.002</td>\n",
              "      <td>0.6</td>\n",
              "      <td>0.003</td>\n",
              "      <td>109.0</td>\n",
              "      <td>51.0</td>\n",
              "    </tr>\n",
              "    <tr>\n",
              "      <th>644</th>\n",
              "      <td>202301090500</td>\n",
              "      <td>구로구</td>\n",
              "      <td>0.042</td>\n",
              "      <td>0.002</td>\n",
              "      <td>0.6</td>\n",
              "      <td>0.003</td>\n",
              "      <td>106.0</td>\n",
              "      <td>50.0</td>\n",
              "    </tr>\n",
              "    <tr>\n",
              "      <th>650</th>\n",
              "      <td>202301090400</td>\n",
              "      <td>구로구</td>\n",
              "      <td>0.044</td>\n",
              "      <td>0.002</td>\n",
              "      <td>0.6</td>\n",
              "      <td>0.003</td>\n",
              "      <td>101.0</td>\n",
              "      <td>53.0</td>\n",
              "    </tr>\n",
              "    <tr>\n",
              "      <th>686</th>\n",
              "      <td>202301090300</td>\n",
              "      <td>구로구</td>\n",
              "      <td>0.044</td>\n",
              "      <td>0.002</td>\n",
              "      <td>0.6</td>\n",
              "      <td>0.003</td>\n",
              "      <td>110.0</td>\n",
              "      <td>54.0</td>\n",
              "    </tr>\n",
              "    <tr>\n",
              "      <th>720</th>\n",
              "      <td>202301090200</td>\n",
              "      <td>구로구</td>\n",
              "      <td>0.044</td>\n",
              "      <td>0.003</td>\n",
              "      <td>0.6</td>\n",
              "      <td>0.003</td>\n",
              "      <td>111.0</td>\n",
              "      <td>50.0</td>\n",
              "    </tr>\n",
              "    <tr>\n",
              "      <th>732</th>\n",
              "      <td>202301090100</td>\n",
              "      <td>구로구</td>\n",
              "      <td>0.043</td>\n",
              "      <td>0.004</td>\n",
              "      <td>0.6</td>\n",
              "      <td>0.003</td>\n",
              "      <td>111.0</td>\n",
              "      <td>52.0</td>\n",
              "    </tr>\n",
              "    <tr>\n",
              "      <th>751</th>\n",
              "      <td>202301090000</td>\n",
              "      <td>구로구</td>\n",
              "      <td>0.043</td>\n",
              "      <td>0.004</td>\n",
              "      <td>0.6</td>\n",
              "      <td>0.003</td>\n",
              "      <td>114.0</td>\n",
              "      <td>54.0</td>\n",
              "    </tr>\n",
              "  </tbody>\n",
              "</table>\n",
              "</div>\n",
              "      <button class=\"colab-df-convert\" onclick=\"convertToInteractive('df-0c0f7167-c9d9-447d-8940-da5edb0307c2')\"\n",
              "              title=\"Convert this dataframe to an interactive table.\"\n",
              "              style=\"display:none;\">\n",
              "        \n",
              "  <svg xmlns=\"http://www.w3.org/2000/svg\" height=\"24px\"viewBox=\"0 0 24 24\"\n",
              "       width=\"24px\">\n",
              "    <path d=\"M0 0h24v24H0V0z\" fill=\"none\"/>\n",
              "    <path d=\"M18.56 5.44l.94 2.06.94-2.06 2.06-.94-2.06-.94-.94-2.06-.94 2.06-2.06.94zm-11 1L8.5 8.5l.94-2.06 2.06-.94-2.06-.94L8.5 2.5l-.94 2.06-2.06.94zm10 10l.94 2.06.94-2.06 2.06-.94-2.06-.94-.94-2.06-.94 2.06-2.06.94z\"/><path d=\"M17.41 7.96l-1.37-1.37c-.4-.4-.92-.59-1.43-.59-.52 0-1.04.2-1.43.59L10.3 9.45l-7.72 7.72c-.78.78-.78 2.05 0 2.83L4 21.41c.39.39.9.59 1.41.59.51 0 1.02-.2 1.41-.59l7.78-7.78 2.81-2.81c.8-.78.8-2.07 0-2.86zM5.41 20L4 18.59l7.72-7.72 1.47 1.35L5.41 20z\"/>\n",
              "  </svg>\n",
              "      </button>\n",
              "      \n",
              "  <style>\n",
              "    .colab-df-container {\n",
              "      display:flex;\n",
              "      flex-wrap:wrap;\n",
              "      gap: 12px;\n",
              "    }\n",
              "\n",
              "    .colab-df-convert {\n",
              "      background-color: #E8F0FE;\n",
              "      border: none;\n",
              "      border-radius: 50%;\n",
              "      cursor: pointer;\n",
              "      display: none;\n",
              "      fill: #1967D2;\n",
              "      height: 32px;\n",
              "      padding: 0 0 0 0;\n",
              "      width: 32px;\n",
              "    }\n",
              "\n",
              "    .colab-df-convert:hover {\n",
              "      background-color: #E2EBFA;\n",
              "      box-shadow: 0px 1px 2px rgba(60, 64, 67, 0.3), 0px 1px 3px 1px rgba(60, 64, 67, 0.15);\n",
              "      fill: #174EA6;\n",
              "    }\n",
              "\n",
              "    [theme=dark] .colab-df-convert {\n",
              "      background-color: #3B4455;\n",
              "      fill: #D2E3FC;\n",
              "    }\n",
              "\n",
              "    [theme=dark] .colab-df-convert:hover {\n",
              "      background-color: #434B5C;\n",
              "      box-shadow: 0px 1px 3px 1px rgba(0, 0, 0, 0.15);\n",
              "      filter: drop-shadow(0px 1px 2px rgba(0, 0, 0, 0.3));\n",
              "      fill: #FFFFFF;\n",
              "    }\n",
              "  </style>\n",
              "\n",
              "      <script>\n",
              "        const buttonEl =\n",
              "          document.querySelector('#df-0c0f7167-c9d9-447d-8940-da5edb0307c2 button.colab-df-convert');\n",
              "        buttonEl.style.display =\n",
              "          google.colab.kernel.accessAllowed ? 'block' : 'none';\n",
              "\n",
              "        async function convertToInteractive(key) {\n",
              "          const element = document.querySelector('#df-0c0f7167-c9d9-447d-8940-da5edb0307c2');\n",
              "          const dataTable =\n",
              "            await google.colab.kernel.invokeFunction('convertToInteractive',\n",
              "                                                     [key], {});\n",
              "          if (!dataTable) return;\n",
              "\n",
              "          const docLinkHtml = 'Like what you see? Visit the ' +\n",
              "            '<a target=\"_blank\" href=https://colab.research.google.com/notebooks/data_table.ipynb>data table notebook</a>'\n",
              "            + ' to learn more about interactive tables.';\n",
              "          element.innerHTML = '';\n",
              "          dataTable['output_type'] = 'display_data';\n",
              "          await google.colab.output.renderOutput(dataTable, element);\n",
              "          const docLink = document.createElement('div');\n",
              "          docLink.innerHTML = docLinkHtml;\n",
              "          element.appendChild(docLink);\n",
              "        }\n",
              "      </script>\n",
              "    </div>\n",
              "  </div>\n",
              "  "
            ]
          },
          "metadata": {},
          "execution_count": 23
        }
      ]
    },
    {
      "cell_type": "code",
      "source": [
        "plt.plot((data1['Time']-20230109)/100, data1['NO2'])"
      ],
      "metadata": {
        "colab": {
          "base_uri": "https://localhost:8080/",
          "height": 296
        },
        "id": "_HFm4RZV898h",
        "outputId": "5a02eb8d-a1f2-44d7-c832-96fcf0158d64"
      },
      "execution_count": 24,
      "outputs": [
        {
          "output_type": "execute_result",
          "data": {
            "text/plain": [
              "[<matplotlib.lines.Line2D at 0x7fafd362ef10>]"
            ]
          },
          "metadata": {},
          "execution_count": 24
        },
        {
          "output_type": "display_data",
          "data": {
            "text/plain": [
              "<Figure size 432x288 with 1 Axes>"
            ],
            "image/png": "[encoded data removed]"
          },
          "metadata": {
            "needs_background": "light"
          }
        }
      ]
    },
    {
      "cell_type": "code",
      "source": [
        "plt.plot((data1['Time']-20230109)/100, data1['O3'])"
      ],
      "metadata": {
        "colab": {
          "base_uri": "https://localhost:8080/",
          "height": 296
        },
        "id": "YOgkR6yo91AK",
        "outputId": "18922aee-fd73-4c1f-fa90-b97685a8278d"
      },
      "execution_count": 25,
      "outputs": [
        {
          "output_type": "execute_result",
          "data": {
            "text/plain": [
              "[<matplotlib.lines.Line2D at 0x7fafd36125e0>]"
            ]
          },
          "metadata": {},
          "execution_count": 25
        },
        {
          "output_type": "display_data",
          "data": {
            "text/plain": [
              "<Figure size 432x288 with 1 Axes>"
            ],
            "image/png": "[encoded data removed]"
          },
          "metadata": {
            "needs_background": "light"
          }
        }
      ]
    },
    {
      "cell_type": "code",
      "source": [
        "plt.plot((data1['Time']-20230109)/100, data1['CO'])"
      ],
      "metadata": {
        "colab": {
          "base_uri": "https://localhost:8080/",
          "height": 296
        },
        "id": "0xlAiObS94wc",
        "outputId": "6ae10839-4ff6-4d33-97d7-22c085e34350"
      },
      "execution_count": 26,
      "outputs": [
        {
          "output_type": "execute_result",
          "data": {
            "text/plain": [
              "[<matplotlib.lines.Line2D at 0x7fafd3671100>]"
            ]
          },
          "metadata": {},
          "execution_count": 26
        },
        {
          "output_type": "display_data",
          "data": {
            "text/plain": [
              "<Figure size 432x288 with 1 Axes>"
            ],
            "image/png": "[encoded data removed]"
          },
          "metadata": {
            "needs_background": "light"
          }
        }
      ]
    },
    {
      "cell_type": "code",
      "source": [
        "plt.plot((data1['Time']-20230109)/100, data1['SO2'])"
      ],
      "metadata": {
        "colab": {
          "base_uri": "https://localhost:8080/",
          "height": 296
        },
        "id": "VGXyH04i976v",
        "outputId": "340053b1-9158-4ab4-9e77-366518a72223"
      },
      "execution_count": 27,
      "outputs": [
        {
          "output_type": "execute_result",
          "data": {
            "text/plain": [
              "[<matplotlib.lines.Line2D at 0x7fafd3533280>]"
            ]
          },
          "metadata": {},
          "execution_count": 27
        },
        {
          "output_type": "display_data",
          "data": {
            "text/plain": [
              "<Figure size 432x288 with 1 Axes>"
            ],
            "image/png": "[encoded data removed]"
          },
          "metadata": {
            "needs_background": "light"
          }
        }
      ]
    },
    {
      "cell_type": "code",
      "source": [
        "plt.plot((data1['Time']-20230109)/100, data1['Dust'])"
      ],
      "metadata": {
        "colab": {
          "base_uri": "https://localhost:8080/",
          "height": 296
        },
        "id": "CCcvdNHU9vFM",
        "outputId": "77609895-eabb-4dce-fd57-f89540313c60"
      },
      "execution_count": 28,
      "outputs": [
        {
          "output_type": "execute_result",
          "data": {
            "text/plain": [
              "[<matplotlib.lines.Line2D at 0x7fafd34fec70>]"
            ]
          },
          "metadata": {},
          "execution_count": 28
        },
        {
          "output_type": "display_data",
          "data": {
            "text/plain": [
              "<Figure size 432x288 with 1 Axes>"
            ],
            "image/png": "[encoded data removed]"
          },
          "metadata": {
            "needs_background": "light"
          }
        }
      ]
    },
    {
      "cell_type": "code",
      "source": [
        "plt.plot((data1['Time']-20230109)/100, data1['F_dust'])"
      ],
      "metadata": {
        "colab": {
          "base_uri": "https://localhost:8080/",
          "height": 296
        },
        "id": "g-7qUPfi-A3Q",
        "outputId": "9b367d38-cb09-4dc8-c53a-4c8568fe254f"
      },
      "execution_count": 29,
      "outputs": [
        {
          "output_type": "execute_result",
          "data": {
            "text/plain": [
              "[<matplotlib.lines.Line2D at 0x7fafd34d9640>]"
            ]
          },
          "metadata": {},
          "execution_count": 29
        },
        {
          "output_type": "display_data",
          "data": {
            "text/plain": [
              "<Figure size 432x288 with 1 Axes>"
            ],
            "image/png": "[encoded data removed]"
          },
          "metadata": {
            "needs_background": "light"
          }
        }
      ]
    },
    {
      "cell_type": "markdown",
      "source": [
        "- O3, SO2, Dust 농도는 사람들의 활동이 활발한 오전 10시 ~ 오후6시 사이에 가장 높은 농도를 보임\n",
        "- NO2 농도는 반대 양상을 보임\n",
        "- CO 농도는 불규칙한 양상을 보임\n",
        "\n"
      ],
      "metadata": {
        "id": "LGWuAlq5ATqr"
      }
    },
    {
      "cell_type": "code",
      "source": [
        "#영등포구; 2023년 1월 9일 data\n",
        "data2 = data[(data['Place']=='영등포구') & ( data['Time'] >= 202301090000) & (data['Time'] < 202301100000)]\n",
        "data2"
      ],
      "metadata": {
        "colab": {
          "base_uri": "https://localhost:8080/",
          "height": 802
        },
        "id": "bPcc-WZgA3u4",
        "outputId": "950e5857-b617-4f33-9656-4c2d240191ee"
      },
      "execution_count": 32,
      "outputs": [
        {
          "output_type": "execute_result",
          "data": {
            "text/plain": [
              "             Time Place    NO2     O3   CO    SO2   Dust  F_dust\n",
              "183  202301092300  영등포구  0.028  0.018  0.6  0.003   47.0    26.0\n",
              "223  202301092200  영등포구  0.030  0.017  0.6  0.003   48.0    25.0\n",
              "247  202301092100  영등포구  0.031  0.016  0.5  0.003   45.0    24.0\n",
              "251  202301092000  영등포구  0.027  0.022  0.5  0.004   45.0    20.0\n",
              "288  202301091900  영등포구  0.023  0.025  0.4  0.003   48.0    21.0\n",
              "320  202301091800  영등포구  0.021  0.028  0.5  0.004   58.0    26.0\n",
              "325  202301091700  영등포구  0.020  0.031  0.5  0.004   70.0    32.0\n",
              "355  202301091600  영등포구  0.018  0.033  0.5  0.004   80.0    38.0\n",
              "389  202301091500  영등포구  0.017  0.034  0.5  0.004   82.0    38.0\n",
              "406  202301091400  영등포구  0.017  0.033  0.6  0.004  103.0    45.0\n",
              "429  202301091300  영등포구  0.018  0.029  0.6  0.004  125.0    52.0\n",
              "474  202301091200  영등포구  0.021  0.023  0.6  0.004  137.0    56.0\n",
              "485  202301091100  영등포구  0.034  0.011  0.7  0.004  127.0    57.0\n",
              "503  202301091000  영등포구  0.039  0.005  0.8  0.003  128.0    58.0\n",
              "541  202301090900  영등포구  0.039  0.003  0.7  0.003  123.0    58.0\n",
              "566  202301090800  영등포구  0.041  0.002  0.7  0.003  110.0    57.0\n",
              "580  202301090700  영등포구  0.042  0.002  0.8  0.003  104.0    57.0\n",
              "609  202301090600  영등포구  0.044  0.002  0.8  0.003   98.0    54.0\n",
              "645  202301090500  영등포구  0.047  0.002  0.8  0.003   96.0    56.0\n",
              "656  202301090400  영등포구  0.048  0.002  0.8  0.003   96.0    55.0\n",
              "694  202301090300  영등포구  0.048  0.002  0.8  0.003   96.0    58.0\n",
              "713  202301090200  영등포구  0.047  0.002  0.8  0.003   95.0    56.0\n",
              "729  202301090100  영등포구  0.047  0.003  0.8  0.003  100.0    57.0\n",
              "765  202301090000  영등포구  0.050  0.002  0.8  0.003  103.0    61.0"
            ],
            "text/html": [
              "\n",
              "  <div id=\"df-4f1639fb-ed95-459e-9145-2e5eee963408\">\n",
              "    <div class=\"colab-df-container\">\n",
              "      <div>\n",
              "<style scoped>\n",
              "    .dataframe tbody tr th:only-of-type {\n",
              "        vertical-align: middle;\n",
              "    }\n",
              "\n",
              "    .dataframe tbody tr th {\n",
              "        vertical-align: top;\n",
              "    }\n",
              "\n",
              "    .dataframe thead th {\n",
              "        text-align: right;\n",
              "    }\n",
              "</style>\n",
              "<table border=\"1\" class=\"dataframe\">\n",
              "  <thead>\n",
              "    <tr style=\"text-align: right;\">\n",
              "      <th></th>\n",
              "      <th>Time</th>\n",
              "      <th>Place</th>\n",
              "      <th>NO2</th>\n",
              "      <th>O3</th>\n",
              "      <th>CO</th>\n",
              "      <th>SO2</th>\n",
              "      <th>Dust</th>\n",
              "      <th>F_dust</th>\n",
              "    </tr>\n",
              "  </thead>\n",
              "  <tbody>\n",
              "    <tr>\n",
              "      <th>183</th>\n",
              "      <td>202301092300</td>\n",
              "      <td>영등포구</td>\n",
              "      <td>0.028</td>\n",
              "      <td>0.018</td>\n",
              "      <td>0.6</td>\n",
              "      <td>0.003</td>\n",
              "      <td>47.0</td>\n",
              "      <td>26.0</td>\n",
              "    </tr>\n",
              "    <tr>\n",
              "      <th>223</th>\n",
              "      <td>202301092200</td>\n",
              "      <td>영등포구</td>\n",
              "      <td>0.030</td>\n",
              "      <td>0.017</td>\n",
              "      <td>0.6</td>\n",
              "      <td>0.003</td>\n",
              "      <td>48.0</td>\n",
              "      <td>25.0</td>\n",
              "    </tr>\n",
              "    <tr>\n",
              "      <th>247</th>\n",
              "      <td>202301092100</td>\n",
              "      <td>영등포구</td>\n",
              "      <td>0.031</td>\n",
              "      <td>0.016</td>\n",
              "      <td>0.5</td>\n",
              "      <td>0.003</td>\n",
              "      <td>45.0</td>\n",
              "      <td>24.0</td>\n",
              "    </tr>\n",
              "    <tr>\n",
              "      <th>251</th>\n",
              "      <td>202301092000</td>\n",
              "      <td>영등포구</td>\n",
              "      <td>0.027</td>\n",
              "      <td>0.022</td>\n",
              "      <td>0.5</td>\n",
              "      <td>0.004</td>\n",
              "      <td>45.0</td>\n",
              "      <td>20.0</td>\n",
              "    </tr>\n",
              "    <tr>\n",
              "      <th>288</th>\n",
              "      <td>202301091900</td>\n",
              "      <td>영등포구</td>\n",
              "      <td>0.023</td>\n",
              "      <td>0.025</td>\n",
              "      <td>0.4</td>\n",
              "      <td>0.003</td>\n",
              "      <td>48.0</td>\n",
              "      <td>21.0</td>\n",
              "    </tr>\n",
              "    <tr>\n",
              "      <th>320</th>\n",
              "      <td>202301091800</td>\n",
              "      <td>영등포구</td>\n",
              "      <td>0.021</td>\n",
              "      <td>0.028</td>\n",
              "      <td>0.5</td>\n",
              "      <td>0.004</td>\n",
              "      <td>58.0</td>\n",
              "      <td>26.0</td>\n",
              "    </tr>\n",
              "    <tr>\n",
              "      <th>325</th>\n",
              "      <td>202301091700</td>\n",
              "      <td>영등포구</td>\n",
              "      <td>0.020</td>\n",
              "      <td>0.031</td>\n",
              "      <td>0.5</td>\n",
              "      <td>0.004</td>\n",
              "      <td>70.0</td>\n",
              "      <td>32.0</td>\n",
              "    </tr>\n",
              "    <tr>\n",
              "      <th>355</th>\n",
              "      <td>202301091600</td>\n",
              "      <td>영등포구</td>\n",
              "      <td>0.018</td>\n",
              "      <td>0.033</td>\n",
              "      <td>0.5</td>\n",
              "      <td>0.004</td>\n",
              "      <td>80.0</td>\n",
              "      <td>38.0</td>\n",
              "    </tr>\n",
              "    <tr>\n",
              "      <th>389</th>\n",
              "      <td>202301091500</td>\n",
              "      <td>영등포구</td>\n",
              "      <td>0.017</td>\n",
              "      <td>0.034</td>\n",
              "      <td>0.5</td>\n",
              "      <td>0.004</td>\n",
              "      <td>82.0</td>\n",
              "      <td>38.0</td>\n",
              "    </tr>\n",
              "    <tr>\n",
              "      <th>406</th>\n",
              "      <td>202301091400</td>\n",
              "      <td>영등포구</td>\n",
              "      <td>0.017</td>\n",
              "      <td>0.033</td>\n",
              "      <td>0.6</td>\n",
              "      <td>0.004</td>\n",
              "      <td>103.0</td>\n",
              "      <td>45.0</td>\n",
              "    </tr>\n",
              "    <tr>\n",
              "      <th>429</th>\n",
              "      <td>202301091300</td>\n",
              "      <td>영등포구</td>\n",
              "      <td>0.018</td>\n",
              "      <td>0.029</td>\n",
              "      <td>0.6</td>\n",
              "      <td>0.004</td>\n",
              "      <td>125.0</td>\n",
              "      <td>52.0</td>\n",
              "    </tr>\n",
              "    <tr>\n",
              "      <th>474</th>\n",
              "      <td>202301091200</td>\n",
              "      <td>영등포구</td>\n",
              "      <td>0.021</td>\n",
              "      <td>0.023</td>\n",
              "      <td>0.6</td>\n",
              "      <td>0.004</td>\n",
              "      <td>137.0</td>\n",
              "      <td>56.0</td>\n",
              "    </tr>\n",
              "    <tr>\n",
              "      <th>485</th>\n",
              "      <td>202301091100</td>\n",
              "      <td>영등포구</td>\n",
              "      <td>0.034</td>\n",
              "      <td>0.011</td>\n",
              "      <td>0.7</td>\n",
              "      <td>0.004</td>\n",
              "      <td>127.0</td>\n",
              "      <td>57.0</td>\n",
              "    </tr>\n",
              "    <tr>\n",
              "      <th>503</th>\n",
              "      <td>202301091000</td>\n",
              "      <td>영등포구</td>\n",
              "      <td>0.039</td>\n",
              "      <td>0.005</td>\n",
              "      <td>0.8</td>\n",
              "      <td>0.003</td>\n",
              "      <td>128.0</td>\n",
              "      <td>58.0</td>\n",
              "    </tr>\n",
              "    <tr>\n",
              "      <th>541</th>\n",
              "      <td>202301090900</td>\n",
              "      <td>영등포구</td>\n",
              "      <td>0.039</td>\n",
              "      <td>0.003</td>\n",
              "      <td>0.7</td>\n",
              "      <td>0.003</td>\n",
              "      <td>123.0</td>\n",
              "      <td>58.0</td>\n",
              "    </tr>\n",
              "    <tr>\n",
              "      <th>566</th>\n",
              "      <td>202301090800</td>\n",
              "      <td>영등포구</td>\n",
              "      <td>0.041</td>\n",
              "      <td>0.002</td>\n",
              "      <td>0.7</td>\n",
              "      <td>0.003</td>\n",
              "      <td>110.0</td>\n",
              "      <td>57.0</td>\n",
              "    </tr>\n",
              "    <tr>\n",
              "      <th>580</th>\n",
              "      <td>202301090700</td>\n",
              "      <td>영등포구</td>\n",
              "      <td>0.042</td>\n",
              "      <td>0.002</td>\n",
              "      <td>0.8</td>\n",
              "      <td>0.003</td>\n",
              "      <td>104.0</td>\n",
              "      <td>57.0</td>\n",
              "    </tr>\n",
              "    <tr>\n",
              "      <th>609</th>\n",
              "      <td>202301090600</td>\n",
              "      <td>영등포구</td>\n",
              "      <td>0.044</td>\n",
              "      <td>0.002</td>\n",
              "      <td>0.8</td>\n",
              "      <td>0.003</td>\n",
              "      <td>98.0</td>\n",
              "      <td>54.0</td>\n",
              "    </tr>\n",
              "    <tr>\n",
              "      <th>645</th>\n",
              "      <td>202301090500</td>\n",
              "      <td>영등포구</td>\n",
              "      <td>0.047</td>\n",
              "      <td>0.002</td>\n",
              "      <td>0.8</td>\n",
              "      <td>0.003</td>\n",
              "      <td>96.0</td>\n",
              "      <td>56.0</td>\n",
              "    </tr>\n",
              "    <tr>\n",
              "      <th>656</th>\n",
              "      <td>202301090400</td>\n",
              "      <td>영등포구</td>\n",
              "      <td>0.048</td>\n",
              "      <td>0.002</td>\n",
              "      <td>0.8</td>\n",
              "      <td>0.003</td>\n",
              "      <td>96.0</td>\n",
              "      <td>55.0</td>\n",
              "    </tr>\n",
              "    <tr>\n",
              "      <th>694</th>\n",
              "      <td>202301090300</td>\n",
              "      <td>영등포구</td>\n",
              "      <td>0.048</td>\n",
              "      <td>0.002</td>\n",
              "      <td>0.8</td>\n",
              "      <td>0.003</td>\n",
              "      <td>96.0</td>\n",
              "      <td>58.0</td>\n",
              "    </tr>\n",
              "    <tr>\n",
              "      <th>713</th>\n",
              "      <td>202301090200</td>\n",
              "      <td>영등포구</td>\n",
              "      <td>0.047</td>\n",
              "      <td>0.002</td>\n",
              "      <td>0.8</td>\n",
              "      <td>0.003</td>\n",
              "      <td>95.0</td>\n",
              "      <td>56.0</td>\n",
              "    </tr>\n",
              "    <tr>\n",
              "      <th>729</th>\n",
              "      <td>202301090100</td>\n",
              "      <td>영등포구</td>\n",
              "      <td>0.047</td>\n",
              "      <td>0.003</td>\n",
              "      <td>0.8</td>\n",
              "      <td>0.003</td>\n",
              "      <td>100.0</td>\n",
              "      <td>57.0</td>\n",
              "    </tr>\n",
              "    <tr>\n",
              "      <th>765</th>\n",
              "      <td>202301090000</td>\n",
              "      <td>영등포구</td>\n",
              "      <td>0.050</td>\n",
              "      <td>0.002</td>\n",
              "      <td>0.8</td>\n",
              "      <td>0.003</td>\n",
              "      <td>103.0</td>\n",
              "      <td>61.0</td>\n",
              "    </tr>\n",
              "  </tbody>\n",
              "</table>\n",
              "</div>\n",
              "      <button class=\"colab-df-convert\" onclick=\"convertToInteractive('df-4f1639fb-ed95-459e-9145-2e5eee963408')\"\n",
              "              title=\"Convert this dataframe to an interactive table.\"\n",
              "              style=\"display:none;\">\n",
              "        \n",
              "  <svg xmlns=\"http://www.w3.org/2000/svg\" height=\"24px\"viewBox=\"0 0 24 24\"\n",
              "       width=\"24px\">\n",
              "    <path d=\"M0 0h24v24H0V0z\" fill=\"none\"/>\n",
              "    <path d=\"M18.56 5.44l.94 2.06.94-2.06 2.06-.94-2.06-.94-.94-2.06-.94 2.06-2.06.94zm-11 1L8.5 8.5l.94-2.06 2.06-.94-2.06-.94L8.5 2.5l-.94 2.06-2.06.94zm10 10l.94 2.06.94-2.06 2.06-.94-2.06-.94-.94-2.06-.94 2.06-2.06.94z\"/><path d=\"M17.41 7.96l-1.37-1.37c-.4-.4-.92-.59-1.43-.59-.52 0-1.04.2-1.43.59L10.3 9.45l-7.72 7.72c-.78.78-.78 2.05 0 2.83L4 21.41c.39.39.9.59 1.41.59.51 0 1.02-.2 1.41-.59l7.78-7.78 2.81-2.81c.8-.78.8-2.07 0-2.86zM5.41 20L4 18.59l7.72-7.72 1.47 1.35L5.41 20z\"/>\n",
              "  </svg>\n",
              "      </button>\n",
              "      \n",
              "  <style>\n",
              "    .colab-df-container {\n",
              "      display:flex;\n",
              "      flex-wrap:wrap;\n",
              "      gap: 12px;\n",
              "    }\n",
              "\n",
              "    .colab-df-convert {\n",
              "      background-color: #E8F0FE;\n",
              "      border: none;\n",
              "      border-radius: 50%;\n",
              "      cursor: pointer;\n",
              "      display: none;\n",
              "      fill: #1967D2;\n",
              "      height: 32px;\n",
              "      padding: 0 0 0 0;\n",
              "      width: 32px;\n",
              "    }\n",
              "\n",
              "    .colab-df-convert:hover {\n",
              "      background-color: #E2EBFA;\n",
              "      box-shadow: 0px 1px 2px rgba(60, 64, 67, 0.3), 0px 1px 3px 1px rgba(60, 64, 67, 0.15);\n",
              "      fill: #174EA6;\n",
              "    }\n",
              "\n",
              "    [theme=dark] .colab-df-convert {\n",
              "      background-color: #3B4455;\n",
              "      fill: #D2E3FC;\n",
              "    }\n",
              "\n",
              "    [theme=dark] .colab-df-convert:hover {\n",
              "      background-color: #434B5C;\n",
              "      box-shadow: 0px 1px 3px 1px rgba(0, 0, 0, 0.15);\n",
              "      filter: drop-shadow(0px 1px 2px rgba(0, 0, 0, 0.3));\n",
              "      fill: #FFFFFF;\n",
              "    }\n",
              "  </style>\n",
              "\n",
              "      <script>\n",
              "        const buttonEl =\n",
              "          document.querySelector('#df-4f1639fb-ed95-459e-9145-2e5eee963408 button.colab-df-convert');\n",
              "        buttonEl.style.display =\n",
              "          google.colab.kernel.accessAllowed ? 'block' : 'none';\n",
              "\n",
              "        async function convertToInteractive(key) {\n",
              "          const element = document.querySelector('#df-4f1639fb-ed95-459e-9145-2e5eee963408');\n",
              "          const dataTable =\n",
              "            await google.colab.kernel.invokeFunction('convertToInteractive',\n",
              "                                                     [key], {});\n",
              "          if (!dataTable) return;\n",
              "\n",
              "          const docLinkHtml = 'Like what you see? Visit the ' +\n",
              "            '<a target=\"_blank\" href=https://colab.research.google.com/notebooks/data_table.ipynb>data table notebook</a>'\n",
              "            + ' to learn more about interactive tables.';\n",
              "          element.innerHTML = '';\n",
              "          dataTable['output_type'] = 'display_data';\n",
              "          await google.colab.output.renderOutput(dataTable, element);\n",
              "          const docLink = document.createElement('div');\n",
              "          docLink.innerHTML = docLinkHtml;\n",
              "          element.appendChild(docLink);\n",
              "        }\n",
              "      </script>\n",
              "    </div>\n",
              "  </div>\n",
              "  "
            ]
          },
          "metadata": {},
          "execution_count": 32
        }
      ]
    },
    {
      "cell_type": "code",
      "source": [
        "plt.plot((data2['Time']-20230109)/100, data2['NO2'])"
      ],
      "metadata": {
        "colab": {
          "base_uri": "https://localhost:8080/",
          "height": 296
        },
        "id": "zeGuhb-jA3rR",
        "outputId": "d08c7471-2742-4822-8f5e-f99f9b063996"
      },
      "execution_count": 33,
      "outputs": [
        {
          "output_type": "execute_result",
          "data": {
            "text/plain": [
              "[<matplotlib.lines.Line2D at 0x7fafd340e340>]"
            ]
          },
          "metadata": {},
          "execution_count": 33
        },
        {
          "output_type": "display_data",
          "data": {
            "text/plain": [
              "<Figure size 432x288 with 1 Axes>"
            ],
            "image/png": "[encoded data removed]"
          },
          "metadata": {
            "needs_background": "light"
          }
        }
      ]
    },
    {
      "cell_type": "code",
      "source": [
        "plt.plot((data2['Time']-20230109)/100, data2['O3'])"
      ],
      "metadata": {
        "colab": {
          "base_uri": "https://localhost:8080/",
          "height": 297
        },
        "id": "WqasG5s5A3nj",
        "outputId": "2b18a1f3-355c-47ae-cd2c-c8c3dc0b10c6"
      },
      "execution_count": 34,
      "outputs": [
        {
          "output_type": "execute_result",
          "data": {
            "text/plain": [
              "[<matplotlib.lines.Line2D at 0x7fafd3366340>]"
            ]
          },
          "metadata": {},
          "execution_count": 34
        },
        {
          "output_type": "display_data",
          "data": {
            "text/plain": [
              "<Figure size 432x288 with 1 Axes>"
            ],
            "image/png": "[encoded data removed]"
          },
          "metadata": {
            "needs_background": "light"
          }
        }
      ]
    },
    {
      "cell_type": "code",
      "source": [
        "plt.plot((data2['Time']-20230109)/100, data2['CO'])"
      ],
      "metadata": {
        "colab": {
          "base_uri": "https://localhost:8080/",
          "height": 296
        },
        "id": "z2LuWMjsA3fU",
        "outputId": "e98fe355-9922-4c63-877d-b8fefe30d4c2"
      },
      "execution_count": 35,
      "outputs": [
        {
          "output_type": "execute_result",
          "data": {
            "text/plain": [
              "[<matplotlib.lines.Line2D at 0x7fafd333e340>]"
            ]
          },
          "metadata": {},
          "execution_count": 35
        },
        {
          "output_type": "display_data",
          "data": {
            "text/plain": [
              "<Figure size 432x288 with 1 Axes>"
            ],
            "image/png": "[encoded data removed]"
          },
          "metadata": {
            "needs_background": "light"
          }
        }
      ]
    },
    {
      "cell_type": "code",
      "source": [
        "plt.plot((data2['Time']-20230109)/100, data2['SO2'])"
      ],
      "metadata": {
        "colab": {
          "base_uri": "https://localhost:8080/",
          "height": 296
        },
        "id": "MtumFYDEA3QL",
        "outputId": "7e8c8466-0006-4eb1-aa79-9d456ff13754"
      },
      "execution_count": 36,
      "outputs": [
        {
          "output_type": "execute_result",
          "data": {
            "text/plain": [
              "[<matplotlib.lines.Line2D at 0x7fafd330ee80>]"
            ]
          },
          "metadata": {},
          "execution_count": 36
        },
        {
          "output_type": "display_data",
          "data": {
            "text/plain": [
              "<Figure size 432x288 with 1 Axes>"
            ],
            "image/png": "[encoded data removed]"
          },
          "metadata": {
            "needs_background": "light"
          }
        }
      ]
    },
    {
      "cell_type": "code",
      "source": [
        "plt.plot((data2['Time']-20230109)/100, data2['Dust'])"
      ],
      "metadata": {
        "colab": {
          "base_uri": "https://localhost:8080/",
          "height": 297
        },
        "id": "qSXtiiycBIX_",
        "outputId": "5161ccd6-9403-4dc3-edc6-37a5eb25596e"
      },
      "execution_count": 37,
      "outputs": [
        {
          "output_type": "execute_result",
          "data": {
            "text/plain": [
              "[<matplotlib.lines.Line2D at 0x7fafd3266880>]"
            ]
          },
          "metadata": {},
          "execution_count": 37
        },
        {
          "output_type": "display_data",
          "data": {
            "text/plain": [
              "<Figure size 432x288 with 1 Axes>"
            ],
            "image/png": "[encoded data removed]"
          },
          "metadata": {
            "needs_background": "light"
          }
        }
      ]
    },
    {
      "cell_type": "code",
      "source": [
        "plt.plot((data2['Time']-20230109)/100, data2['F_dust'])"
      ],
      "metadata": {
        "colab": {
          "base_uri": "https://localhost:8080/",
          "height": 296
        },
        "id": "VXdTb6FXBIB5",
        "outputId": "febb1465-e5a0-4fa9-b7d1-9a9283367bb7"
      },
      "execution_count": 38,
      "outputs": [
        {
          "output_type": "execute_result",
          "data": {
            "text/plain": [
              "[<matplotlib.lines.Line2D at 0x7fafd3238be0>]"
            ]
          },
          "metadata": {},
          "execution_count": 38
        },
        {
          "output_type": "display_data",
          "data": {
            "text/plain": [
              "<Figure size 432x288 with 1 Axes>"
            ],
            "image/png": "[encoded data removed]"
          },
          "metadata": {
            "needs_background": "light"
          }
        }
      ]
    },
    {
      "cell_type": "markdown",
      "source": [
        "- 여의도 한강공원이 위치한 영등포구를 조사해봄\n",
        "- 구로구와 비슷한 양상을 보임\n",
        "- 시간별 대기변수 농도 비교를 통해 한강 방문 추천 시간을 고려할 수 있음\n",
        " ex) 오후 12시 ~ 15시 보다는 17시 이후에 방문하는 것이 더 좋아보임"
      ],
      "metadata": {
        "id": "lCmWwA9KCiCT"
      }
    },
    {
      "cell_type": "code",
      "source": [
        "# 대기변수 항목 간 연관성\n",
        "# data1: 구로구 data\n",
        "correlation = data1.corr()"
      ],
      "metadata": {
        "id": "-FjoJk2d7Rd0"
      },
      "execution_count": 39,
      "outputs": []
    },
    {
      "cell_type": "code",
      "source": [
        "sns.heatmap(correlation, xticklabels=correlation.columns, yticklabels=correlation.columns, annot=True)"
      ],
      "metadata": {
        "colab": {
          "base_uri": "https://localhost:8080/",
          "height": 288
        },
        "id": "iAVOne3FWQCy",
        "outputId": "8cd653c9-8a1a-47e8-c1f1-f2b1c76ac025"
      },
      "execution_count": 40,
      "outputs": [
        {
          "output_type": "execute_result",
          "data": {
            "text/plain": [
              "<matplotlib.axes._subplots.AxesSubplot at 0x7fafd31e7910>"
            ]
          },
          "metadata": {},
          "execution_count": 40
        },
        {
          "output_type": "display_data",
          "data": {
            "text/plain": [
              "<Figure size 432x288 with 2 Axes>"
            ],
            "image/png": "[encoded data removed]"
          },
          "metadata": {
            "needs_background": "light"
          }
        }
      ]
    },
    {
      "cell_type": "markdown",
      "source": [
        "- NO2 & O3 (-0.96) / NO2 & CO (0.89)/ O3 & CO (-0.88) 큰 연관성\n",
        "- SO2 & NO2 (0.67) / SO2 & O3 (0.66) / SO2 & CO (0.4) 연관성 있음\n",
        "(상관계수의 절댓값이 0.4 이상이면 유의하다고 함)\n",
        "- Dust & F_dust (0.8)은 서로 연관성있지만, 다른 오염물질이랑은 큰 연관성을 보이지 않음:"
      ],
      "metadata": {
        "id": "7W9u4L8rHkJu"
      }
    },
    {
      "cell_type": "code",
      "source": [
        "sns.pairplot(data1)"
      ],
      "metadata": {
        "colab": {
          "base_uri": "https://localhost:8080/",
          "height": 1000
        },
        "id": "hfo7bbjDHjhC",
        "outputId": "72b42e0e-514f-4c0b-a2cf-c1a09af4d761"
      },
      "execution_count": 41,
      "outputs": [
        {
          "output_type": "execute_result",
          "data": {
            "text/plain": [
              "<seaborn.axisgrid.PairGrid at 0x7fafd3165310>"
            ]
          },
          "metadata": {},
          "execution_count": 41
        },
        {
          "output_type": "display_data",
          "data": {
            "text/plain": [
              "<Figure size 1260x1260 with 56 Axes>"
            ],
            "image/png": "[encoded data removed]"
          },
          "metadata": {
            "needs_background": "light"
          }
        }
      ]
    },
    {
      "cell_type": "code",
      "source": [
        "# data2: 영등포구 data\n",
        "correlation2 = data2.corr()\n",
        "sns.heatmap(correlation2, xticklabels=correlation2.columns, yticklabels=correlation2.columns, annot=True)"
      ],
      "metadata": {
        "colab": {
          "base_uri": "https://localhost:8080/",
          "height": 288
        },
        "id": "pDCVqjAU6TaU",
        "outputId": "d699100f-addb-4792-9d1c-1ec3975b73c1"
      },
      "execution_count": 42,
      "outputs": [
        {
          "output_type": "execute_result",
          "data": {
            "text/plain": [
              "<matplotlib.axes._subplots.AxesSubplot at 0x7fafcf91d160>"
            ]
          },
          "metadata": {},
          "execution_count": 42
        },
        {
          "output_type": "display_data",
          "data": {
            "text/plain": [
              "<Figure size 432x288 with 2 Axes>"
            ],
            "image/png": "[encoded data removed]"
          },
          "metadata": {
            "needs_background": "light"
          }
        }
      ]
    },
    {
      "cell_type": "code",
      "source": [
        "sns.pairplot(data2)"
      ],
      "metadata": {
        "colab": {
          "base_uri": "https://localhost:8080/",
          "height": 1000
        },
        "id": "6SWNdQjH6TPo",
        "outputId": "26afbf94-c6f2-4621-9e2e-705a64983faa"
      },
      "execution_count": 43,
      "outputs": [
        {
          "output_type": "execute_result",
          "data": {
            "text/plain": [
              "<seaborn.axisgrid.PairGrid at 0x7fafcfbb9220>"
            ]
          },
          "metadata": {},
          "execution_count": 43
        },
        {
          "output_type": "display_data",
          "data": {
            "text/plain": [
              "<Figure size 1260x1260 with 56 Axes>"
            ],
            "image/png": "[encoded data removed]"
          },
          "metadata": {
            "needs_background": "light"
          }
        }
      ]
    },
    {
      "cell_type": "code",
      "source": [
        "sns.relplot(x='NO2', y='O3',data=data1)"
      ],
      "metadata": {
        "colab": {
          "base_uri": "https://localhost:8080/",
          "height": 387
        },
        "id": "lm_RGIfXN9vZ",
        "outputId": "5e88c30e-6c2d-42f0-f856-1ec6e268d040"
      },
      "execution_count": 44,
      "outputs": [
        {
          "output_type": "execute_result",
          "data": {
            "text/plain": [
              "<seaborn.axisgrid.FacetGrid at 0x7fafd33192e0>"
            ]
          },
          "metadata": {},
          "execution_count": 44
        },
        {
          "output_type": "display_data",
          "data": {
            "text/plain": [
              "<Figure size 360x360 with 1 Axes>"
            ],
            "image/png": "[encoded data removed]"
          },
          "metadata": {
            "needs_background": "light"
          }
        }
      ]
    },
    {
      "cell_type": "markdown",
      "source": [
        "- 오존의 경우는 다른 변수들과의 음의 상관관계를 가진다. 이는 오존이 빛에너지 (자외선)의 영향을 받아 화학반응을 일으켜 다른 물질로 바뀌는 것과 관계가 있다.\n",
        "https://dataonair.or.kr/db-tech-reference/d-story/data-story/?mod=document&uid=62852\n"
      ],
      "metadata": {
        "id": "94V08C7CXXHh"
      }
    },
    {
      "cell_type": "code",
      "source": [
        "sns.relplot(x='NO2', y='CO',data=data1)"
      ],
      "metadata": {
        "colab": {
          "base_uri": "https://localhost:8080/",
          "height": 387
        },
        "id": "wRL5fgnIPawq",
        "outputId": "8fc7a9d3-a1e8-4114-ea4b-d5746b1109e7"
      },
      "execution_count": 45,
      "outputs": [
        {
          "output_type": "execute_result",
          "data": {
            "text/plain": [
              "<seaborn.axisgrid.FacetGrid at 0x7fafcd12ef40>"
            ]
          },
          "metadata": {},
          "execution_count": 45
        },
        {
          "output_type": "display_data",
          "data": {
            "text/plain": [
              "<Figure size 360x360 with 1 Axes>"
            ],
            "image/png": "[encoded data removed]"
          },
          "metadata": {
            "needs_background": "light"
          }
        }
      ]
    },
    {
      "cell_type": "code",
      "source": [
        "sns.relplot(x='O3', y='CO',data=data1)"
      ],
      "metadata": {
        "colab": {
          "base_uri": "https://localhost:8080/",
          "height": 387
        },
        "id": "HDUwJ94yPbTr",
        "outputId": "7abb9289-2eee-4a76-d5ed-df8d42de0e07"
      },
      "execution_count": 46,
      "outputs": [
        {
          "output_type": "execute_result",
          "data": {
            "text/plain": [
              "<seaborn.axisgrid.FacetGrid at 0x7fafd2ff1b20>"
            ]
          },
          "metadata": {},
          "execution_count": 46
        },
        {
          "output_type": "display_data",
          "data": {
            "text/plain": [
              "<Figure size 360x360 with 1 Axes>"
            ],
            "image/png": "[encoded data removed]"
          },
          "metadata": {
            "needs_background": "light"
          }
        }
      ]
    },
    {
      "cell_type": "code",
      "source": [
        "sns.relplot(x='Dust', y='F_dust',data=data1)"
      ],
      "metadata": {
        "colab": {
          "base_uri": "https://localhost:8080/",
          "height": 387
        },
        "id": "mmMqJDk_PrlJ",
        "outputId": "7210b813-ab6b-4f62-ada6-a969c4039036"
      },
      "execution_count": 47,
      "outputs": [
        {
          "output_type": "execute_result",
          "data": {
            "text/plain": [
              "<seaborn.axisgrid.FacetGrid at 0x7fafccf72b80>"
            ]
          },
          "metadata": {},
          "execution_count": 47
        },
        {
          "output_type": "display_data",
          "data": {
            "text/plain": [
              "<Figure size 360x360 with 1 Axes>"
            ],
            "image/png": "[encoded data removed]"
          },
          "metadata": {
            "needs_background": "light"
          }
        }
      ]
    },
    {
      "cell_type": "markdown",
      "source": [],
      "metadata": {
        "id": "_tdTNOSri8xg"
      }
    }
  ]
}