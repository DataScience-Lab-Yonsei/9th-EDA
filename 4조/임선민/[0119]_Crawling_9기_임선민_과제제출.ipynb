{
  "cells": [
    {
      "cell_type": "markdown",
      "metadata": {
        "id": "96YflxqzDd2m"
      },
      "source": [
        "- EDA 프로젝트에서 추가로 다루어보면 좋을 미세먼지 관련 뉴스 데이터를 크롤링해보았습니다!!"
      ]
    },
    {
      "cell_type": "markdown",
      "metadata": {
        "id": "XCsaaz1wCKLj"
      },
      "source": [
        "#패키지 다운로드"
      ]
    },
    {
      "cell_type": "code",
      "execution_count": null,
      "metadata": {
        "colab": {
          "base_uri": "https://localhost:8080/"
        },
        "id": "Y5GueeRmCJUP",
        "outputId": "a4e3b2d7-69f6-439d-dbba-9ab89d39676b"
      },
      "outputs": [
        {
          "name": "stdout",
          "output_type": "stream",
          "text": [
            "Looking in indexes: https://pypi.org/simple, https://us-python.pkg.dev/colab-wheels/public/simple/\n",
            "Requirement already satisfied: requests in /usr/local/lib/python3.8/dist-packages (2.25.1)\n",
            "Requirement already satisfied: urllib3<1.27,>=1.21.1 in /usr/local/lib/python3.8/dist-packages (from requests) (1.26.14)\n",
            "Requirement already satisfied: idna<3,>=2.5 in /usr/local/lib/python3.8/dist-packages (from requests) (2.10)\n",
            "Requirement already satisfied: chardet<5,>=3.0.2 in /usr/local/lib/python3.8/dist-packages (from requests) (4.0.0)\n",
            "Requirement already satisfied: certifi>=2017.4.17 in /usr/local/lib/python3.8/dist-packages (from requests) (2022.12.7)\n",
            "Looking in indexes: https://pypi.org/simple, https://us-python.pkg.dev/colab-wheels/public/simple/\n",
            "Requirement already satisfied: beautifulsoup4 in /usr/local/lib/python3.8/dist-packages (4.6.3)\n",
            "Looking in indexes: https://pypi.org/simple, https://us-python.pkg.dev/colab-wheels/public/simple/\n",
            "Requirement already satisfied: selenium in /usr/local/lib/python3.8/dist-packages (4.7.2)\n",
            "Requirement already satisfied: trio-websocket~=0.9 in /usr/local/lib/python3.8/dist-packages (from selenium) (0.9.2)\n",
            "Requirement already satisfied: trio~=0.17 in /usr/local/lib/python3.8/dist-packages (from selenium) (0.22.0)\n",
            "Requirement already satisfied: urllib3[socks]~=1.26 in /usr/local/lib/python3.8/dist-packages (from selenium) (1.26.14)\n",
            "Requirement already satisfied: certifi>=2021.10.8 in /usr/local/lib/python3.8/dist-packages (from selenium) (2022.12.7)\n",
            "Requirement already satisfied: exceptiongroup>=1.0.0rc9 in /usr/local/lib/python3.8/dist-packages (from trio~=0.17->selenium) (1.1.0)\n",
            "Requirement already satisfied: outcome in /usr/local/lib/python3.8/dist-packages (from trio~=0.17->selenium) (1.2.0)\n",
            "Requirement already satisfied: attrs>=19.2.0 in /usr/local/lib/python3.8/dist-packages (from trio~=0.17->selenium) (22.2.0)\n",
            "Requirement already satisfied: idna in /usr/local/lib/python3.8/dist-packages (from trio~=0.17->selenium) (2.10)\n",
            "Requirement already satisfied: sortedcontainers in /usr/local/lib/python3.8/dist-packages (from trio~=0.17->selenium) (2.4.0)\n",
            "Requirement already satisfied: sniffio in /usr/local/lib/python3.8/dist-packages (from trio~=0.17->selenium) (1.3.0)\n",
            "Requirement already satisfied: async-generator>=1.9 in /usr/local/lib/python3.8/dist-packages (from trio~=0.17->selenium) (1.10)\n",
            "Requirement already satisfied: wsproto>=0.14 in /usr/local/lib/python3.8/dist-packages (from trio-websocket~=0.9->selenium) (1.2.0)\n",
            "Requirement already satisfied: PySocks!=1.5.7,<2.0,>=1.5.6 in /usr/local/lib/python3.8/dist-packages (from urllib3[socks]~=1.26->selenium) (1.7.1)\n",
            "Requirement already satisfied: h11<1,>=0.9.0 in /usr/local/lib/python3.8/dist-packages (from wsproto>=0.14->trio-websocket~=0.9->selenium) (0.14.0)\n",
            "Looking in indexes: https://pypi.org/simple, https://us-python.pkg.dev/colab-wheels/public/simple/\n",
            "Requirement already satisfied: webdriver_manager in /usr/local/lib/python3.8/dist-packages (3.8.5)\n",
            "Requirement already satisfied: packaging in /usr/local/lib/python3.8/dist-packages (from webdriver_manager) (21.3)\n",
            "Requirement already satisfied: requests in /usr/local/lib/python3.8/dist-packages (from webdriver_manager) (2.25.1)\n",
            "Requirement already satisfied: tqdm in /usr/local/lib/python3.8/dist-packages (from webdriver_manager) (4.64.1)\n",
            "Requirement already satisfied: python-dotenv in /usr/local/lib/python3.8/dist-packages (from webdriver_manager) (0.21.1)\n",
            "Requirement already satisfied: pyparsing!=3.0.5,>=2.0.2 in /usr/local/lib/python3.8/dist-packages (from packaging->webdriver_manager) (3.0.9)\n",
            "Requirement already satisfied: urllib3<1.27,>=1.21.1 in /usr/local/lib/python3.8/dist-packages (from requests->webdriver_manager) (1.26.14)\n",
            "Requirement already satisfied: idna<3,>=2.5 in /usr/local/lib/python3.8/dist-packages (from requests->webdriver_manager) (2.10)\n",
            "Requirement already satisfied: chardet<5,>=3.0.2 in /usr/local/lib/python3.8/dist-packages (from requests->webdriver_manager) (4.0.0)\n",
            "Requirement already satisfied: certifi>=2017.4.17 in /usr/local/lib/python3.8/dist-packages (from requests->webdriver_manager) (2022.12.7)\n"
          ]
        }
      ],
      "source": [
        "#정보 요청 라이브러리\n",
        "!pip install requests\n",
        "\n",
        "#크롤링 라이브러리\n",
        "!pip install beautifulsoup4\n",
        "!pip install selenium\n",
        "\n",
        "#셀레늄 라이브러리\n",
        "!pip install webdriver_manager"
      ]
    },
    {
      "cell_type": "markdown",
      "metadata": {
        "id": "yH95kZ-oCqhO"
      },
      "source": [
        "#Beautiful Soup"
      ]
    },
    {
      "cell_type": "markdown",
      "metadata": {
        "id": "gVBq1rNRaG7V"
      },
      "source": [
        "### 웹사이트 크롤링 (미세먼지 & 호흡기질환 관련)"
      ]
    },
    {
      "cell_type": "code",
      "execution_count": null,
      "metadata": {
        "id": "tYq3uYqiZ4RA"
      },
      "outputs": [],
      "source": [
        "import requests\n",
        "from bs4 import BeautifulSoup\n",
        "res = requests.get('https://www.canceranswer.co.kr/news/articleView.html?idxno=5244')\n",
        "soup = BeautifulSoup(res.content, 'html.parser')"
      ]
    },
    {
      "cell_type": "code",
      "execution_count": null,
      "metadata": {
        "colab": {
          "base_uri": "https://localhost:8080/"
        },
        "id": "wFXdLucNZ4FM",
        "outputId": "c7a1ab0a-ac61-41e0-c4d3-4b5e9d70bf05"
      },
      "outputs": [
        {
          "name": "stdout",
          "output_type": "stream",
          "text": [
            "현재위치\n",
            "\"서울, 대기오염으로 인한 질병 탓에 年 1만명 넘게 조기사망\"\n",
            "하단메뉴\n",
            "매체정보\n"
          ]
        }
      ],
      "source": [
        "mydata1 = soup.select(\"h3\")\n",
        "\n",
        "for item in mydata1:\n",
        "    print(item.get_text())"
      ]
    },
    {
      "cell_type": "code",
      "execution_count": null,
      "metadata": {
        "colab": {
          "base_uri": "https://localhost:8080/"
        },
        "id": "YV9DWITWZ3-Q",
        "outputId": "81d7962b-7f80-4b4f-cc65-27f0e03d558b"
      },
      "outputs": [
        {
          "name": "stdout",
          "output_type": "stream",
          "text": [
            "\n",
            "\n",
            "\n",
            "\n",
            "\n",
            "초미세먼지를 비롯한 대기오염으로 인해 서울의 하늘이 뿌옇다. 서울시민 1만명 이상이 대기오염으로 인한 질병으로 조기사망한다는 연구결과가 나와 충격을 주고 있다. / 캔서앤서DB\n",
            "\n",
            "\n",
            "새해 들어 서울을 비롯한 대부분 지역에 미세먼지와 초미세먼지, 황사가 뒤덮이며 연일 뿌연 하늘을 드러내고 있다. 더구나 최근 며칠은 공기가 정체된 채 봄보다 따뜻한 고온을 보이면서 대기수준이 연일 ‘나쁨’ 수준을 보이고 있다.\n",
            "이런 가운데 초미세먼지 등 대기오염으로 인한 심혈관 질환과 호흡기 질환으로 인해 매년 1만여 명이 넘는 서울시민이 조기 사망한다는 연구 결과가 나왔다.\n",
            "홍콩 중문대학의 해리 리 교수, 싱가포르 난양 공과대학 스티브 임 교수와 고려대 건축사회환경공학부 허연숙 교수 연구팀은 2019년 서울의 대기오염도와 기상자료, 인구분포, 인구이동(교통정보), 토지이용 형태 등의 자료를 활용, 기계학습(랜덤 포레스트) 방식의 고(高)해상도 시공간 오염(LURF) 모델링을 수행해 이 같은 결과를 얻었다. 이 연구 결과는 국제학술지 '환경 과학과 기술(Environmental Science & Technology)'에 최근 발표됐다.\n",
            "\n",
            "\n",
            "\n",
            "\n",
            "\n",
            "\n",
            "\n",
            "서울의 대기오염으로 인한 심혈관질환-호흡기질환으로 조기사망하는 사람이 매년 1만명이 넘는다는 연구결과가 실린 'Envionment Science & Technology'와 논문에 실린 서울 오염도 지도.\n",
            "\n",
            "\n",
            "연구팀에 따르면, 행정구역별 거주 인구를 고려했을 때는 연간 1만274명의 서울시민이 대기오염으로 인해 조기 사망한다는 분석이 나왔고, 실시간 인구 이동 상황을 반영했을 때는 1만1183명이 조기 사망할 것으로 집계됐다. 인구 이동을 고려할 때 조기 사망자 숫자가 많은 이유는 시민들이 근무 등으로 대기오염이 높은 시내 중심지역에서 많은 시간을 보냈기 때문이라는 게 연구팀의 분석.\n",
            "연구팀은 500m 해상도로 서울시를 2429개 구획으로 나눠 초미세먼지(PM2.5)와 이산화질소(NO2) 등 지점별 대기오염을 분석한 다음, 심혈관질환 등 건강에 미치는 영향을 분석했다. 또한 40개 대기오염 자동측정망에서 1시간 단위로 측정되는 오염도 수치에서 일·월·연 평균치를 구해 계절별 오염 특성 파악했고, 24시간을 주기로 오염도가 시간대에 따라 어떻게 변하는지도 분석했다.\n",
            "그 결과, 2019년 서울의 초미세먼지 농도는 ㎥당 평균 26.5㎍이었다. 아침 피크 시간(오전 8~11시)에는 평균 27.21㎍/㎥, 낮에는 25㎍/㎥였으며, 지역별로는 영등포구와 성북구에서 높은 수치를 보였다.\n",
            "이산화질소는 24시간 주기 전체의 평균이 28.97ppb였고, 아침 출근 시간 피크 때는 31.57ppb, 저녁 퇴근 시간 피크 때는 31.38ppb의 오염도를 나타냈다. 지역별로는 영등포구와 노원구, 강남구가 높았다. 일반 측정지점 25곳의 연평균은 28.01ppb, 도로변 측정소 15곳에서는 평균 40.56ppb였다.\n",
            "연구팀은 초미세먼지는 중국 등에서 오는 ‘월경성 오염’의 영향이 상대적으로 큰 비중을 차지하고, 이산화질소는 자동차 등 ‘국지적인 오염 배출’의 영향이 크다고 지적했다.\n",
            "연구팀은 이 같은 결과를 토대로 조기 사망 숫자를 두 가지 방법으로 산정했다. \n",
            "행정구역별 거주 인구를 고려한 ‘정적(靜的) 인구 모델’에서는 서울시민의 대기오염 조기 사망을 연간 1만274명으로 분석했다. 이 가운데 초미세먼지가 원인이 된 사망이 6640명(64.6%), 이산화질소 원인이 3624명(35.3%)으로 추정됐다.\n",
            "서울을 1만9153개 구역으로 쪼개 이동통신사를 통해 확보한 통화 데이터로 실시간 인구 이동 상황을 반영한 ‘동적(動的) 인구 모델’에서는 조기 사망이 1만1183명으로 집계됐다. 이중 초미세먼지로 인한 조기 사망이 7261명(64.9%), 이산화질소 원인이 3922명(35.1%)으로 분석됐다.\n",
            "동적 인구 모델에서 초미세먼지로 인한 조기 사망 원인을 세부적으로 보면 심혈관 질환이 5450명, 만성 폐쇄성 폐 질환(COPD) 284명, 허혈성 심장 질환 840명, 폐암 678명이다. 이산화질소의 경우는 심혈관 질환이 2129명, COPD가 194명, 허혈성 심장질환이 799명, 폐암이 801명이었다.\n",
            "서울의 대기오염 건강영향은 주로 뇌졸중을 비롯한 심혈관계 질환이 원인이었다. \n",
            "연구팀은 “이번 연구에서 500m 공간 해상도로 초미세먼지와 이산화질소의 시공간적 변화와 건강에 미치는 영향을 정확히 파악할 수 있었다”며 “이를 통해 환경보건 연구와 대기 질 관리에 필수적인 데이터를 확보할 수 있게 됐다”고 밝혔다.\n",
            " \n",
            " \n",
            "  \n",
            "\n",
            "\n",
            "\n",
            "\n",
            "\n",
            "키워드\n",
            "#서울대기오염\n",
            "#초미세먼지\n",
            "#이산화질소\n",
            "#심혈관질환사망\n",
            "#호흡기질환사망\n",
            "#서울시민조기사망\n",
            "#서울 조기사망\n",
            "#서울대기오염 조기사망\n",
            "\n",
            "\n",
            "\n",
            "\n",
            "\n",
            "최윤호 기자\n",
            "uknow2000@naver.com\n",
            "\n",
            "\n",
            "\n",
            "다른기사 보기 \n",
            "\n",
            "저작권자 © 캔서앤서(cancer answer) 무단전재 및 재배포 금지 \n"
          ]
        }
      ],
      "source": [
        "mydata2 = soup.select(\".article-body\")\n",
        "\n",
        "for item in mydata2:\n",
        "    print(item.get_text())"
      ]
    },
    {
      "cell_type": "markdown",
      "metadata": {
        "id": "45NEIv1QaRFh"
      },
      "source": [
        "### 뉴스 크롤링 (미세먼지 관련)"
      ]
    },
    {
      "cell_type": "code",
      "execution_count": null,
      "metadata": {
        "id": "kM7bFirGWNld"
      },
      "outputs": [],
      "source": [
        "from bs4 import BeautifulSoup\n",
        "import requests\n",
        "import time\n",
        "import datetime\n",
        "import tqdm\n",
        "import pandas as pd\n",
        "import re"
      ]
    },
    {
      "cell_type": "code",
      "execution_count": null,
      "metadata": {
        "id": "F-H-87BwWNfr"
      },
      "outputs": [],
      "source": [
        "URL = 'https://search.naver.com/search.naver?where=news&sm=tab_jum&query=%EB%AF%B8%EC%84%B8%EB%A8%BC%EC%A7%80'"
      ]
    },
    {
      "cell_type": "code",
      "execution_count": null,
      "metadata": {
        "id": "kZ4cCt7oWNdN"
      },
      "outputs": [],
      "source": [
        "User_Agent = \"Mozilla/5.0 (Windows NT 10.0; Win64; x64) AppleWebKit/537.36 (KHTML, like Gecko) Chrome/104.0.0.0 Safari/537.36\"\n",
        "req = requests.get(URL, headers={'User-Agent':User_Agent})"
      ]
    },
    {
      "cell_type": "code",
      "execution_count": null,
      "metadata": {
        "id": "i01g55MHWNaL"
      },
      "outputs": [],
      "source": [
        "soup = BeautifulSoup(req.content,'html.parser')"
      ]
    },
    {
      "cell_type": "code",
      "execution_count": null,
      "metadata": {
        "id": "Dpevi8IzYOPY"
      },
      "outputs": [],
      "source": [
        "# 네이버 뉴스 링크 추출\n",
        "links = soup.select('div.news_area > div.news_info > div.info_group > a')"
      ]
    },
    {
      "cell_type": "code",
      "execution_count": null,
      "metadata": {
        "colab": {
          "base_uri": "https://localhost:8080/"
        },
        "id": "63VlOl8LYOMb",
        "outputId": "641996f9-22b7-4ed7-e706-6a8596731575"
      },
      "outputs": [
        {
          "name": "stdout",
          "output_type": "stream",
          "text": [
            "https://n.news.naver.com/mnews/article/001/0013714887?sid=102\n",
            "https://n.news.naver.com/mnews/article/421/0006590047?sid=102\n",
            "https://n.news.naver.com/mnews/article/003/0011653455?sid=102\n",
            "https://n.news.naver.com/mnews/article/661/0000019211?sid=102\n",
            "https://n.news.naver.com/mnews/article/052/0001839923?sid=103\n",
            "https://n.news.naver.com/mnews/article/437/0000329424?sid=103\n",
            "https://n.news.naver.com/mnews/article/011/0004146235?sid=102\n",
            "https://n.news.naver.com/mnews/article/003/0011648416?sid=102\n",
            "https://n.news.naver.com/mnews/article/449/0000242217?sid=103\n",
            "https://n.news.naver.com/mnews/article/057/0001717665?sid=102\n"
          ]
        }
      ],
      "source": [
        "naver_news = []\n",
        "for link in links:\n",
        "    if link.text == \"네이버뉴스\":\n",
        "        naver_news.append(link['href'])\n",
        "        print(link['href'])"
      ]
    },
    {
      "cell_type": "code",
      "execution_count": null,
      "metadata": {
        "id": "3O0HSix4YOJT"
      },
      "outputs": [],
      "source": [
        "# 개별 네이버뉴스 페이지로부터 필요정보 추출\n",
        "naver_news_url = \"https://n.news.naver.com/mnews/article/001/0013714887?sid=102\"\n",
        "req = requests.get(naver_news_url, headers={'User-Agent':User_Agent})\n",
        "soup = BeautifulSoup(req.content, 'html.parser')"
      ]
    },
    {
      "cell_type": "code",
      "execution_count": null,
      "metadata": {
        "id": "ovRPH9MyYOGP"
      },
      "outputs": [],
      "source": [
        "# 제목\n",
        "title = soup.select('.media_end_head_headline')[0].text\n",
        "\n",
        "# 언론사\n",
        "press = soup.select('img')[0]['title']\n",
        "\n",
        "# 날짜\n",
        "date = soup.select('span.media_end_head_info_datestamp_time')[0]['data-date-time']\n",
        "\n",
        "# 본문\n",
        "content = soup.select('#newsct_article')[0].text"
      ]
    },
    {
      "cell_type": "code",
      "execution_count": null,
      "metadata": {
        "id": "lpgdznqHY2Qt"
      },
      "outputs": [],
      "source": [
        "keyword = '미세먼지'\n",
        "s_date = '2023.01.01'\n",
        "e_date = '2023.01.20'\n",
        "page_range = range(1, 11)"
      ]
    },
    {
      "cell_type": "code",
      "execution_count": null,
      "metadata": {
        "id": "ThVQldlIY2NL"
      },
      "outputs": [],
      "source": [
        "naver_news_urls = []\n",
        "for page in page_range:\n",
        "    idxs = (page * 10) - 9\n",
        "    url = f'https://search.naver.com/search.naver?where=news&sm=tab_pge&query={keyword}&ds={s_date}&de={e_date}&start={idxs}'\n",
        "    naver_news_urls.append(url)"
      ]
    },
    {
      "cell_type": "code",
      "execution_count": null,
      "metadata": {
        "id": "uLli_IoiY2Hc"
      },
      "outputs": [],
      "source": [
        "# step 1: 1~10 페이지의 URL 패턴 파악\n",
        "def main_url_loader(keyword=None, s_date=None, e_date=None, page_range=None):\n",
        "    for page in page_range:\n",
        "        idxs = (page * 10) - 9\n",
        "        url = f'https://search.naver.com/search.naver?where=news&sm=tab_pge&query={keyword}&ds={s_date}&de={e_date}&start={idxs}'\n",
        "        yield url"
      ]
    },
    {
      "cell_type": "code",
      "execution_count": null,
      "metadata": {
        "colab": {
          "base_uri": "https://localhost:8080/"
        },
        "id": "M0ADH7NaZBXl",
        "outputId": "bd4c43b2-a07f-472b-d4b5-ec86d0a67b0e"
      },
      "outputs": [
        {
          "name": "stdout",
          "output_type": "stream",
          "text": [
            "https://search.naver.com/search.naver?where=news&sm=tab_pge&query=미세먼지&ds=2023.01.01&de=2023.01.20&start=1\n",
            "https://search.naver.com/search.naver?where=news&sm=tab_pge&query=미세먼지&ds=2023.01.01&de=2023.01.20&start=11\n",
            "https://search.naver.com/search.naver?where=news&sm=tab_pge&query=미세먼지&ds=2023.01.01&de=2023.01.20&start=21\n",
            "https://search.naver.com/search.naver?where=news&sm=tab_pge&query=미세먼지&ds=2023.01.01&de=2023.01.20&start=31\n",
            "https://search.naver.com/search.naver?where=news&sm=tab_pge&query=미세먼지&ds=2023.01.01&de=2023.01.20&start=41\n",
            "https://search.naver.com/search.naver?where=news&sm=tab_pge&query=미세먼지&ds=2023.01.01&de=2023.01.20&start=51\n",
            "https://search.naver.com/search.naver?where=news&sm=tab_pge&query=미세먼지&ds=2023.01.01&de=2023.01.20&start=61\n",
            "https://search.naver.com/search.naver?where=news&sm=tab_pge&query=미세먼지&ds=2023.01.01&de=2023.01.20&start=71\n",
            "https://search.naver.com/search.naver?where=news&sm=tab_pge&query=미세먼지&ds=2023.01.01&de=2023.01.20&start=81\n",
            "https://search.naver.com/search.naver?where=news&sm=tab_pge&query=미세먼지&ds=2023.01.01&de=2023.01.20&start=91\n"
          ]
        }
      ],
      "source": [
        "for x in main_url_loader(keyword=keyword, s_date=s_date, e_date=e_date, page_range=page_range):\n",
        "    print(x)"
      ]
    },
    {
      "cell_type": "code",
      "execution_count": null,
      "metadata": {
        "id": "jqnTRi_FZBVQ"
      },
      "outputs": [],
      "source": [
        "# step 2: 1~10페이지에 있는 네이버 뉴스 링크 주소를 모두 수집\n",
        "def naver_news_loader(soup):\n",
        "    links = soup.select('div.news_area > div.news_info > div.info_group > a')\n",
        "    for link in links:\n",
        "        if link.text == \"네이버뉴스\":\n",
        "            yield link['href']"
      ]
    },
    {
      "cell_type": "code",
      "execution_count": null,
      "metadata": {
        "colab": {
          "base_uri": "https://localhost:8080/"
        },
        "id": "pqbYxRXfZBSc",
        "outputId": "18dac487-e0c7-4107-ee00-1792e5b3c22f"
      },
      "outputs": [
        {
          "name": "stdout",
          "output_type": "stream",
          "text": [
            "https://n.news.naver.com/mnews/article/001/0013714887?sid=102\n",
            "https://n.news.naver.com/mnews/article/215/0001078715?sid=103\n",
            "https://n.news.naver.com/mnews/article/421/0006590047?sid=102\n",
            "https://n.news.naver.com/mnews/article/003/0011653455?sid=102\n",
            "https://n.news.naver.com/mnews/article/661/0000019211?sid=102\n",
            "https://n.news.naver.com/mnews/article/052/0001839923?sid=103\n",
            "https://n.news.naver.com/mnews/article/437/0000329424?sid=103\n",
            "https://n.news.naver.com/mnews/article/003/0011648416?sid=102\n",
            "https://n.news.naver.com/mnews/article/449/0000242217?sid=103\n",
            "https://n.news.naver.com/mnews/article/057/0001717665?sid=102\n"
          ]
        }
      ],
      "source": [
        "req = requests.get('https://search.naver.com/search.naver?where=news&sm=tab_jum&query=%EB%AF%B8%EC%84%B8%EB%A8%BC%EC%A7%80', \n",
        "                   headers={'User-Agent':User_Agent})\n",
        "\n",
        "soup = BeautifulSoup(req.content, 'html.parser')\n",
        "\n",
        "for x in naver_news_loader(soup):\n",
        "    print(x)"
      ]
    },
    {
      "cell_type": "code",
      "execution_count": null,
      "metadata": {
        "id": "Qtk-b_BMZBPg"
      },
      "outputs": [],
      "source": [
        "# step 3, step 4: 개별 페이지에 접근한 후, 필요 정보 수집\n",
        "def get_contetns(naver_news_url):\n",
        "    req = requests.get(naver_news_url, headers={'User-Agent':User_Agent})\n",
        "    soup = BeautifulSoup(req.content, 'html.parser')\n",
        "    \n",
        "    title = soup.select('.media_end_head_headline')[0].text\n",
        "    press = soup.select('img')[0]['title']\n",
        "    date = soup.select('span.media_end_head_info_datestamp_time')[0]['data-date-time']\n",
        "    # summary = soup.select('strong.media_end_summary')[0].text\n",
        "    content = soup.select('#newsct_article')[0].text\n",
        "    \n",
        "    return title, press, date, content"
      ]
    },
    {
      "cell_type": "code",
      "execution_count": null,
      "metadata": {
        "colab": {
          "base_uri": "https://localhost:8080/",
          "height": 104,
          "referenced_widgets": [
            "1eb68547a2e74bcfa006bef5ba5d5d0e",
            "e07ae9ca60574ed1ae55b927a6b369d5",
            "ef6b0be50b694e389d2e8fc9d22b7768",
            "a1f2e57ebfc149a78d257d30cfcfd7d7",
            "fdd1d797ba3a4d599e73fa26dc64d635",
            "28813d24d58843c382238774b3e93428",
            "bc701f6f8d1e47d0ae4d03489dccad6b",
            "ad7eaa985a1540d2acc446d1a19e6e91",
            "7970c0ac36e34f9c9b90d73f5d9adcd8",
            "99ac78a8f69642f6b942632d8f9e751e",
            "6aecc4662ee847e19b2a05139b6d5d76"
          ]
        },
        "id": "w-jvzoyLYlUn",
        "outputId": "5d18958e-1db1-47d4-ea0c-4aebf62ef510"
      },
      "outputs": [
        {
          "name": "stderr",
          "output_type": "stream",
          "text": [
            "<ipython-input-89-1d09cfa53719>:2: TqdmDeprecationWarning: This function will be removed in tqdm==5.0.0\n",
            "Please use `tqdm.notebook.tqdm` instead of `tqdm.tqdm_notebook`\n",
            "  for main_url in tqdm.tqdm_notebook(main_url_loader(keyword=keyword, s_date=s_date, e_date=e_date, page_range=page_range)):\n"
          ]
        },
        {
          "data": {
            "application/vnd.jupyter.widget-view+json": {
              "model_id": "1eb68547a2e74bcfa006bef5ba5d5d0e",
              "version_major": 2,
              "version_minor": 0
            },
            "text/plain": [
              "0it [00:00, ?it/s]"
            ]
          },
          "metadata": {},
          "output_type": "display_data"
        }
      ],
      "source": [
        "contents = []\n",
        "for main_url in tqdm.tqdm_notebook(main_url_loader(keyword=keyword, s_date=s_date, e_date=e_date, page_range=page_range)):\n",
        "    \n",
        "    req = requests.get(main_url, headers={'User-Agent':User_Agent})\n",
        "    soup = BeautifulSoup(req.content, 'html.parser')\n",
        "    \n",
        "    for naver_news_url in naver_news_loader(soup):\n",
        "        try:\n",
        "            contents.append(get_contetns(naver_news_url))\n",
        "        except:\n",
        "            print(naver_news_url)"
      ]
    },
    {
      "cell_type": "code",
      "execution_count": null,
      "metadata": {
        "colab": {
          "base_uri": "https://localhost:8080/"
        },
        "id": "PN6mSHurZISF",
        "outputId": "df6d6120-e8ad-44a0-bc55-da7e3de2ca35"
      },
      "outputs": [
        {
          "data": {
            "text/plain": [
              "77"
            ]
          },
          "execution_count": 90,
          "metadata": {},
          "output_type": "execute_result"
        }
      ],
      "source": [
        "len(contents)"
      ]
    },
    {
      "cell_type": "code",
      "execution_count": null,
      "metadata": {
        "id": "klnocB89ZIPB"
      },
      "outputs": [],
      "source": [
        "# 데이터 저장\n",
        "data = pd.DataFrame(contents, columns=['Title', 'Press', 'Date', 'Content'])"
      ]
    },
    {
      "cell_type": "code",
      "execution_count": null,
      "metadata": {
        "colab": {
          "base_uri": "https://localhost:8080/",
          "height": 424
        },
        "id": "fd918oqMZILo",
        "outputId": "930c277b-5a7b-447a-aa51-cd53353531e6"
      },
      "outputs": [
        {
          "data": {
            "text/html": [
              "\n",
              "  <div id=\"df-5900e6e9-141d-4d9b-a91d-d4b3d5b63cdd\">\n",
              "    <div class=\"colab-df-container\">\n",
              "      <div>\n",
              "<style scoped>\n",
              "    .dataframe tbody tr th:only-of-type {\n",
              "        vertical-align: middle;\n",
              "    }\n",
              "\n",
              "    .dataframe tbody tr th {\n",
              "        vertical-align: top;\n",
              "    }\n",
              "\n",
              "    .dataframe thead th {\n",
              "        text-align: right;\n",
              "    }\n",
              "</style>\n",
              "<table border=\"1\" class=\"dataframe\">\n",
              "  <thead>\n",
              "    <tr style=\"text-align: right;\">\n",
              "      <th></th>\n",
              "      <th>Title</th>\n",
              "      <th>Press</th>\n",
              "      <th>Date</th>\n",
              "      <th>Content</th>\n",
              "    </tr>\n",
              "  </thead>\n",
              "  <tbody>\n",
              "    <tr>\n",
              "      <th>0</th>\n",
              "      <td>[날씨] 귀경길 살얼음·강풍 주의…미세먼지 '나쁨'</td>\n",
              "      <td>연합뉴스</td>\n",
              "      <td>2023-01-22 20:00:00</td>\n",
              "      <td>\\n\\n\\n\\n\\n\\n'빙판ㆍ살얼음' 주의[연합뉴스 자료사진](서울=연합뉴스) 설하...</td>\n",
              "    </tr>\n",
              "    <tr>\n",
              "      <th>1</th>\n",
              "      <td>월요일 강풍 주의, 오후부터 찬바람…미세먼지 '나쁨'</td>\n",
              "      <td>한국경제TV</td>\n",
              "      <td>2023-01-22 21:11:51</td>\n",
              "      <td>\\n\\n\\n\\n\\n\\n설 연휴 사흘째인 23일은 전국에 구름이 많겠다.경기 북부와 ...</td>\n",
              "    </tr>\n",
              "    <tr>\n",
              "      <th>2</th>\n",
              "      <td>[내일날씨] '설 연휴 당일' 눈 내리고 다소 '흐림'…미세먼지 '보통'</td>\n",
              "      <td>뉴스1</td>\n",
              "      <td>2023-01-21 10:51:57</td>\n",
              "      <td>\\n\\n기온은 평년과 비슷…아침 최저기온 -10~0도, 낮 최고기온은 1~8도전국 ...</td>\n",
              "    </tr>\n",
              "    <tr>\n",
              "      <th>3</th>\n",
              "      <td>군산 정읍 김제 고창 부안, 미세먼지 주의보 발령</td>\n",
              "      <td>뉴시스</td>\n",
              "      <td>2023-01-20 10:47:08</td>\n",
              "      <td>\\n\\n기사내용 요약18일 중국북부와 내몽골 고원에서 황사 발생20일 국내 유입으로...</td>\n",
              "    </tr>\n",
              "    <tr>\n",
              "      <th>4</th>\n",
              "      <td>중국발 황사 유입.. 제주 미세먼지 '매우  나쁨'</td>\n",
              "      <td>JIBS</td>\n",
              "      <td>2023-01-20 14:09:01</td>\n",
              "      <td>\\n\\n\\n\\n\\n\\n제주자치도 보건환경연구원은 오늘(20일) 낮 12시를 기해 제...</td>\n",
              "    </tr>\n",
              "    <tr>\n",
              "      <th>...</th>\n",
              "      <td>...</td>\n",
              "      <td>...</td>\n",
              "      <td>...</td>\n",
              "      <td>...</td>\n",
              "    </tr>\n",
              "    <tr>\n",
              "      <th>72</th>\n",
              "      <td>[오늘 날씨] \"서울 낮 최고 13도\"… 추위 없지만 미세먼지 '나쁨'</td>\n",
              "      <td>머니S</td>\n",
              "      <td>2023-01-12 04:58:00</td>\n",
              "      <td>\\n\\n\\n\\n\\n\\n12일은 따뜻한 고기압 영향으로 다소 포근해질 것으로 예상된다...</td>\n",
              "    </tr>\n",
              "    <tr>\n",
              "      <th>73</th>\n",
              "      <td>[오후날씨 꿀팁] 서쪽, 미세먼지 농도 높아요…내일 낮부터 찬바람</td>\n",
              "      <td>KBS</td>\n",
              "      <td>2023-01-19 12:18:05</td>\n",
              "      <td>\\n\\n [앵커] 오늘 황사의 영향으로 서쪽지역에선 미세먼지 농도가 높게 나타나겠습...</td>\n",
              "    </tr>\n",
              "    <tr>\n",
              "      <th>74</th>\n",
              "      <td>[날씨] 아침까지 약한 눈, 빙판길 주의‥스모그 유입에 미세먼지 '나쁨'</td>\n",
              "      <td>MBC</td>\n",
              "      <td>2023-01-18 07:42:40</td>\n",
              "      <td>\\n\\n[뉴스투데이]이제 눈은 대부분 그쳤습니다.하지만 아침까지는 곳곳에서 약하게 ...</td>\n",
              "    </tr>\n",
              "    <tr>\n",
              "      <th>75</th>\n",
              "      <td>내일도 오전 수도권 미세먼지 기승…저녁부터 남해안 비</td>\n",
              "      <td>뉴스1</td>\n",
              "      <td>2023-01-11 09:06:37</td>\n",
              "      <td>\\n\\n[내일날씨] 아침최저 -6~6도, 낮최고 9~20도서울 미세먼지 오후 해소…...</td>\n",
              "    </tr>\n",
              "    <tr>\n",
              "      <th>76</th>\n",
              "      <td>[날씨] 충북 내일도 미세먼지 나쁨…강추위 주춤</td>\n",
              "      <td>KBS</td>\n",
              "      <td>2023-01-18 19:43:36</td>\n",
              "      <td>\\n\\n[KBS 청주] 어제보다 기온이 오르면서  큰 추위는 없었습니다. 다만 찬바...</td>\n",
              "    </tr>\n",
              "  </tbody>\n",
              "</table>\n",
              "<p>77 rows × 4 columns</p>\n",
              "</div>\n",
              "      <button class=\"colab-df-convert\" onclick=\"convertToInteractive('df-5900e6e9-141d-4d9b-a91d-d4b3d5b63cdd')\"\n",
              "              title=\"Convert this dataframe to an interactive table.\"\n",
              "              style=\"display:none;\">\n",
              "        \n",
              "  <svg xmlns=\"http://www.w3.org/2000/svg\" height=\"24px\"viewBox=\"0 0 24 24\"\n",
              "       width=\"24px\">\n",
              "    <path d=\"M0 0h24v24H0V0z\" fill=\"none\"/>\n",
              "    <path d=\"M18.56 5.44l.94 2.06.94-2.06 2.06-.94-2.06-.94-.94-2.06-.94 2.06-2.06.94zm-11 1L8.5 8.5l.94-2.06 2.06-.94-2.06-.94L8.5 2.5l-.94 2.06-2.06.94zm10 10l.94 2.06.94-2.06 2.06-.94-2.06-.94-.94-2.06-.94 2.06-2.06.94z\"/><path d=\"M17.41 7.96l-1.37-1.37c-.4-.4-.92-.59-1.43-.59-.52 0-1.04.2-1.43.59L10.3 9.45l-7.72 7.72c-.78.78-.78 2.05 0 2.83L4 21.41c.39.39.9.59 1.41.59.51 0 1.02-.2 1.41-.59l7.78-7.78 2.81-2.81c.8-.78.8-2.07 0-2.86zM5.41 20L4 18.59l7.72-7.72 1.47 1.35L5.41 20z\"/>\n",
              "  </svg>\n",
              "      </button>\n",
              "      \n",
              "  <style>\n",
              "    .colab-df-container {\n",
              "      display:flex;\n",
              "      flex-wrap:wrap;\n",
              "      gap: 12px;\n",
              "    }\n",
              "\n",
              "    .colab-df-convert {\n",
              "      background-color: #E8F0FE;\n",
              "      border: none;\n",
              "      border-radius: 50%;\n",
              "      cursor: pointer;\n",
              "      display: none;\n",
              "      fill: #1967D2;\n",
              "      height: 32px;\n",
              "      padding: 0 0 0 0;\n",
              "      width: 32px;\n",
              "    }\n",
              "\n",
              "    .colab-df-convert:hover {\n",
              "      background-color: #E2EBFA;\n",
              "      box-shadow: 0px 1px 2px rgba(60, 64, 67, 0.3), 0px 1px 3px 1px rgba(60, 64, 67, 0.15);\n",
              "      fill: #174EA6;\n",
              "    }\n",
              "\n",
              "    [theme=dark] .colab-df-convert {\n",
              "      background-color: #3B4455;\n",
              "      fill: #D2E3FC;\n",
              "    }\n",
              "\n",
              "    [theme=dark] .colab-df-convert:hover {\n",
              "      background-color: #434B5C;\n",
              "      box-shadow: 0px 1px 3px 1px rgba(0, 0, 0, 0.15);\n",
              "      filter: drop-shadow(0px 1px 2px rgba(0, 0, 0, 0.3));\n",
              "      fill: #FFFFFF;\n",
              "    }\n",
              "  </style>\n",
              "\n",
              "      <script>\n",
              "        const buttonEl =\n",
              "          document.querySelector('#df-5900e6e9-141d-4d9b-a91d-d4b3d5b63cdd button.colab-df-convert');\n",
              "        buttonEl.style.display =\n",
              "          google.colab.kernel.accessAllowed ? 'block' : 'none';\n",
              "\n",
              "        async function convertToInteractive(key) {\n",
              "          const element = document.querySelector('#df-5900e6e9-141d-4d9b-a91d-d4b3d5b63cdd');\n",
              "          const dataTable =\n",
              "            await google.colab.kernel.invokeFunction('convertToInteractive',\n",
              "                                                     [key], {});\n",
              "          if (!dataTable) return;\n",
              "\n",
              "          const docLinkHtml = 'Like what you see? Visit the ' +\n",
              "            '<a target=\"_blank\" href=https://colab.research.google.com/notebooks/data_table.ipynb>data table notebook</a>'\n",
              "            + ' to learn more about interactive tables.';\n",
              "          element.innerHTML = '';\n",
              "          dataTable['output_type'] = 'display_data';\n",
              "          await google.colab.output.renderOutput(dataTable, element);\n",
              "          const docLink = document.createElement('div');\n",
              "          docLink.innerHTML = docLinkHtml;\n",
              "          element.appendChild(docLink);\n",
              "        }\n",
              "      </script>\n",
              "    </div>\n",
              "  </div>\n",
              "  "
            ],
            "text/plain": [
              "                                       Title   Press                 Date  \\\n",
              "0               [날씨] 귀경길 살얼음·강풍 주의…미세먼지 '나쁨'    연합뉴스  2023-01-22 20:00:00   \n",
              "1              월요일 강풍 주의, 오후부터 찬바람…미세먼지 '나쁨'  한국경제TV  2023-01-22 21:11:51   \n",
              "2   [내일날씨] '설 연휴 당일' 눈 내리고 다소 '흐림'…미세먼지 '보통'     뉴스1  2023-01-21 10:51:57   \n",
              "3                군산 정읍 김제 고창 부안, 미세먼지 주의보 발령     뉴시스  2023-01-20 10:47:08   \n",
              "4               중국발 황사 유입.. 제주 미세먼지 '매우  나쁨'    JIBS  2023-01-20 14:09:01   \n",
              "..                                       ...     ...                  ...   \n",
              "72   [오늘 날씨] \"서울 낮 최고 13도\"… 추위 없지만 미세먼지 '나쁨'     머니S  2023-01-12 04:58:00   \n",
              "73      [오후날씨 꿀팁] 서쪽, 미세먼지 농도 높아요…내일 낮부터 찬바람     KBS  2023-01-19 12:18:05   \n",
              "74  [날씨] 아침까지 약한 눈, 빙판길 주의‥스모그 유입에 미세먼지 '나쁨'     MBC  2023-01-18 07:42:40   \n",
              "75             내일도 오전 수도권 미세먼지 기승…저녁부터 남해안 비     뉴스1  2023-01-11 09:06:37   \n",
              "76                [날씨] 충북 내일도 미세먼지 나쁨…강추위 주춤     KBS  2023-01-18 19:43:36   \n",
              "\n",
              "                                              Content  \n",
              "0   \\n\\n\\n\\n\\n\\n'빙판ㆍ살얼음' 주의[연합뉴스 자료사진](서울=연합뉴스) 설하...  \n",
              "1   \\n\\n\\n\\n\\n\\n설 연휴 사흘째인 23일은 전국에 구름이 많겠다.경기 북부와 ...  \n",
              "2   \\n\\n기온은 평년과 비슷…아침 최저기온 -10~0도, 낮 최고기온은 1~8도전국 ...  \n",
              "3   \\n\\n기사내용 요약18일 중국북부와 내몽골 고원에서 황사 발생20일 국내 유입으로...  \n",
              "4   \\n\\n\\n\\n\\n\\n제주자치도 보건환경연구원은 오늘(20일) 낮 12시를 기해 제...  \n",
              "..                                                ...  \n",
              "72  \\n\\n\\n\\n\\n\\n12일은 따뜻한 고기압 영향으로 다소 포근해질 것으로 예상된다...  \n",
              "73  \\n\\n [앵커] 오늘 황사의 영향으로 서쪽지역에선 미세먼지 농도가 높게 나타나겠습...  \n",
              "74  \\n\\n[뉴스투데이]이제 눈은 대부분 그쳤습니다.하지만 아침까지는 곳곳에서 약하게 ...  \n",
              "75  \\n\\n[내일날씨] 아침최저 -6~6도, 낮최고 9~20도서울 미세먼지 오후 해소…...  \n",
              "76  \\n\\n[KBS 청주] 어제보다 기온이 오르면서  큰 추위는 없었습니다. 다만 찬바...  \n",
              "\n",
              "[77 rows x 4 columns]"
            ]
          },
          "execution_count": 92,
          "metadata": {},
          "output_type": "execute_result"
        }
      ],
      "source": [
        "data"
      ]
    },
    {
      "cell_type": "markdown",
      "metadata": {
        "id": "EOKBSS1JdZq5"
      },
      "source": [
        "#유튜브 댓글 추출 (미세먼지 관련)"
      ]
    },
    {
      "cell_type": "code",
      "execution_count": null,
      "metadata": {
        "id": "ZKfTXFBXgaZo"
      },
      "outputs": [],
      "source": [
        "from bs4 import BeautifulSoup\n",
        "import pandas as pd\n",
        "import numpy as np"
      ]
    },
    {
      "cell_type": "code",
      "execution_count": null,
      "metadata": {
        "colab": {
          "base_uri": "https://localhost:8080/"
        },
        "id": "HNQUDw5idZnW",
        "outputId": "5f6ea399-aa4a-40a0-c17d-25910975c91a"
      },
      "outputs": [
        {
          "name": "stderr",
          "output_type": "stream",
          "text": [
            "'apt-get'은(는) 내부 또는 외부 명령, 실행할 수 있는 프로그램, 또는\n",
            "배치 파일이 아닙니다.\n"
          ]
        },
        {
          "name": "stdout",
          "output_type": "stream",
          "text": [
            "Requirement already satisfied: selenium in c:\\users\\vicry\\anaconda3\\lib\\site-packages (4.7.2)\n",
            "Requirement already satisfied: urllib3[socks]~=1.26 in c:\\users\\vicry\\anaconda3\\lib\\site-packages (from selenium) (1.26.11)\n",
            "Requirement already satisfied: trio~=0.17 in c:\\users\\vicry\\anaconda3\\lib\\site-packages (from selenium) (0.22.0)\n",
            "Requirement already satisfied: certifi>=2021.10.8 in c:\\users\\vicry\\anaconda3\\lib\\site-packages (from selenium) (2022.9.14)\n",
            "Requirement already satisfied: trio-websocket~=0.9 in c:\\users\\vicry\\anaconda3\\lib\\site-packages (from selenium) (0.9.2)\n",
            "Requirement already satisfied: async-generator>=1.9 in c:\\users\\vicry\\anaconda3\\lib\\site-packages (from trio~=0.17->selenium) (1.10)\n",
            "Requirement already satisfied: cffi>=1.14 in c:\\users\\vicry\\anaconda3\\lib\\site-packages (from trio~=0.17->selenium) (1.15.1)\n",
            "Requirement already satisfied: outcome in c:\\users\\vicry\\anaconda3\\lib\\site-packages (from trio~=0.17->selenium) (1.2.0)\n",
            "Requirement already satisfied: exceptiongroup>=1.0.0rc9 in c:\\users\\vicry\\anaconda3\\lib\\site-packages (from trio~=0.17->selenium) (1.1.0)\n",
            "Requirement already satisfied: sortedcontainers in c:\\users\\vicry\\anaconda3\\lib\\site-packages (from trio~=0.17->selenium) (2.4.0)\n",
            "Requirement already satisfied: attrs>=19.2.0 in c:\\users\\vicry\\anaconda3\\lib\\site-packages (from trio~=0.17->selenium) (21.4.0)\n",
            "Requirement already satisfied: sniffio in c:\\users\\vicry\\anaconda3\\lib\\site-packages (from trio~=0.17->selenium) (1.2.0)\n",
            "Requirement already satisfied: idna in c:\\users\\vicry\\anaconda3\\lib\\site-packages (from trio~=0.17->selenium) (3.3)\n",
            "Requirement already satisfied: wsproto>=0.14 in c:\\users\\vicry\\anaconda3\\lib\\site-packages (from trio-websocket~=0.9->selenium) (1.2.0)\n",
            "Requirement already satisfied: PySocks!=1.5.7,<2.0,>=1.5.6 in c:\\users\\vicry\\anaconda3\\lib\\site-packages (from urllib3[socks]~=1.26->selenium) (1.7.1)\n",
            "Requirement already satisfied: pycparser in c:\\users\\vicry\\anaconda3\\lib\\site-packages (from cffi>=1.14->trio~=0.17->selenium) (2.21)\n",
            "Requirement already satisfied: h11<1,>=0.9.0 in c:\\users\\vicry\\anaconda3\\lib\\site-packages (from wsproto>=0.14->trio-websocket~=0.9->selenium) (0.14.0)\n"
          ]
        },
        {
          "name": "stderr",
          "output_type": "stream",
          "text": [
            "'apt'은(는) 내부 또는 외부 명령, 실행할 수 있는 프로그램, 또는\n",
            "배치 파일이 아닙니다.\n",
            "'cp'은(는) 내부 또는 외부 명령, 실행할 수 있는 프로그램, 또는\n",
            "배치 파일이 아닙니다.\n"
          ]
        }
      ],
      "source": [
        "#ubuntu 업데이트\n",
        "!apt-get update\n",
        "\n",
        "#셀레늄 패키지 다운\n",
        "!pip install selenium\n",
        "\n",
        "#크롬드라이버 다운\n",
        "!apt install chromium-chromedriver\n",
        "!cp /usr/lib/chromium-browser/chromedriver /usr/bin\n",
        "\n",
        "#크롬드라이버 경로 설정\n",
        "import sys\n",
        "sys.path.insert(0, '/usr/lib/chromium-browser/chromedriver')"
      ]
    },
    {
      "cell_type": "code",
      "execution_count": null,
      "metadata": {
        "id": "ZJN0zL4WdZkE"
      },
      "outputs": [],
      "source": [
        "from selenium import webdriver\n",
        "options = webdriver.ChromeOptions()\n",
        "options.add_argument('-headless')\n",
        "options.add_argument('-no-sandbox')\n",
        "options.add_argument('-disable-dev-shm-usage')"
      ]
    },
    {
      "cell_type": "code",
      "execution_count": null,
      "metadata": {
        "id": "tRVozXaqdkQl"
      },
      "outputs": [],
      "source": [
        "#셀레늄 라이브러리 불러오기\n",
        "from selenium import webdriver\n",
        "\n",
        "#셀레늄에서 html문서가 생성될 때까지 대기하는 함수 불러오기\n",
        "from selenium.webdriver.support.ui import WebDriverWait\n",
        "\n",
        "#셀레늄에서 조건을 걸어줄 수 있는 함수 불러오기\n",
        "from selenium.webdriver.support import expected_conditions as EC\n",
        "from selenium.webdriver.common.by import By\n",
        "\n",
        "#키보드 자판을 입력할 수 있는 셀레늄 함수 불러오기\n",
        "from selenium.webdriver.common.keys import Keys\n",
        "\n",
        "#대기 가능하게끔 해주는 라이브러리\n",
        "import time"
      ]
    },
    {
      "cell_type": "code",
      "execution_count": null,
      "metadata": {
        "id": "e5yfe9dDdZhZ"
      },
      "outputs": [],
      "source": [
        "#드라이버 객체 생성\n",
        "driver = webdriver.Chrome('chromedriver', options=options) "
      ]
    },
    {
      "cell_type": "code",
      "execution_count": null,
      "metadata": {
        "colab": {
          "base_uri": "https://localhost:8080/",
          "height": 400
        },
        "id": "05Ky50sRdV8C",
        "outputId": "7573870b-d0fa-4608-873c-48cf7bd6e1d2"
      },
      "outputs": [
        {
          "name": "stdout",
          "output_type": "stream",
          "text": [
            "미세먼지가 사실상 눈에 잘 보이지도 않기 때문에  그리 심각성을 깨닫지를 못했습니다.하지만 이 먼지들이 몸에 축적되었을 때 이들이 주는 영향력이 매우 크다는 것을 알게 되었습니다.미세먼지란 우리가 키워온 결과라고 생각하니까 반성하게 되는 것 같습니다.     0\n",
            "마스크를 껴도 눈이 자꾸 따갑고 침침합니다. 살려줘요 ㅜㅜ     0\n",
            "메시먼지 심할때 호흡곤란 오지게옴..     8\n",
            "숨이 텁텁한게 괴롭다     8\n",
            "미세먼지 수치 210이 말이 되냐?     0\n",
            "무기력 우울증 의욕저하포함~~     0\n",
            "날 죽여주세요 미세먼지 고마워요     0\n",
            "난 이런거 들어와도 아무 변화가 없던데...?     0\n",
            "거리에서는 콜록콜록~기침을 해대고, 피를 토하고, 면역력 약한 환자와 노인들은 막 쓰러지고 해야한다     5\n"
          ]
        }
      ],
      "source": [
        "driver = webdriver.Chrome('chromedriver', options=options)\n",
        "url = 'https://www.youtube.com/watch?v=c6cySgHli1I'\n",
        "driver.get(url) #request package랑 동일한 역할\n",
        "time.sleep(3)\n",
        "driver.execute_script(\"window.scrollTo(0, 600)\") \n",
        "time.sleep(1)\n",
        "\n",
        "#스크롤 높이 가져옴\n",
        "last_page_height = driver.execute_script(\"return document.documentElement.scrollHeight\")\n",
        "\n",
        "while True:\n",
        "    #끝까지 스크롤 다운\n",
        "    driver.execute_script(\"window.scrollTo(300, document.documentElement.scrollHeight);\")\n",
        "    time.sleep(2)\n",
        "    # 새로 업데이트 된 스크롤 높이 가져옴\n",
        "    new_page_height = driver.execute_script(\"return document.documentElement.scrollHeight\")\n",
        "    \n",
        "    # 더 이상 새로고침이 되지 않는다면 break\n",
        "    if new_page_height == last_page_height:\n",
        "        break\n",
        "    last_page_height = new_page_height\n",
        "    \n",
        "#동적 페이지 수집 도중에도 소스 코드를 정적 텍스트로 바꾸어 Beautiful Soup 이용 가능\n",
        "html_source = driver.page_source\n",
        "\n",
        "\n",
        "soup = BeautifulSoup(html_source, 'html.parser')\n",
        "\n",
        "youtube_comments = soup.select('yt-formatted-string#content-text')\n",
        "youtube_likes = soup.select('div#toolbar > span')\n",
        "\n",
        "\n",
        "str_youtube_comments = []\n",
        "str_youtube_likes = []\n",
        "\n",
        "for i in range(len(youtube_comments)):\n",
        "    str_tmp = str(youtube_comments[i].text) \n",
        "    str_tmp = str_tmp.replace('\\n', '')\n",
        "    str_tmp = str_tmp.replace('\\t', '')\n",
        "    str_tmp = str_tmp.replace('               ', '')\n",
        "   \n",
        "    str_youtube_comments.append(str_tmp)\n",
        "    \n",
        "    str_l = str(youtube_likes[i].text.strip(' '))\n",
        "    str_l = str_l.replace('\\n', '')\n",
        "    str_youtube_likes.append(str_l)\n",
        "    \n",
        "for i in range(len(str_youtube_comments)):\n",
        "    print(str_youtube_comments[i], str_youtube_likes[i])\n",
        "\n",
        "driver.quit()\n",
        "\n",
        "pd_data = {\"Comment\":str_youtube_comments, \"Likes\":str_youtube_likes}\n",
        "\n",
        "youtube_pd = pd.DataFrame(pd_data)"
      ]
    }
  ],
  "metadata": {
    "colab": {
      "provenance": [],
      "toc_visible": true,
      "collapsed_sections": [
        "XCsaaz1wCKLj"
      ]
    },
    "kernelspec": {
      "display_name": "Python 3 (ipykernel)",
      "language": "python",
      "name": "python3"
    },
    "language_info": {
      "codemirror_mode": {
        "name": "ipython",
        "version": 3
      },
      "file_extension": ".py",
      "mimetype": "text/x-python",
      "name": "python",
      "nbconvert_exporter": "python",
      "pygments_lexer": "ipython3",
      "version": "3.9.13"
    },
    "widgets": {
      "application/vnd.jupyter.widget-state+json": {
        "1eb68547a2e74bcfa006bef5ba5d5d0e": {
          "model_module": "@jupyter-widgets/controls",
          "model_module_version": "1.5.0",
          "model_name": "HBoxModel",
          "state": {
            "_dom_classes": [],
            "_model_module": "@jupyter-widgets/controls",
            "_model_module_version": "1.5.0",
            "_model_name": "HBoxModel",
            "_view_count": null,
            "_view_module": "@jupyter-widgets/controls",
            "_view_module_version": "1.5.0",
            "_view_name": "HBoxView",
            "box_style": "",
            "children": [
              "IPY_MODEL_e07ae9ca60574ed1ae55b927a6b369d5",
              "IPY_MODEL_ef6b0be50b694e389d2e8fc9d22b7768",
              "IPY_MODEL_a1f2e57ebfc149a78d257d30cfcfd7d7"
            ],
            "layout": "IPY_MODEL_fdd1d797ba3a4d599e73fa26dc64d635"
          }
        },
        "28813d24d58843c382238774b3e93428": {
          "model_module": "@jupyter-widgets/base",
          "model_module_version": "1.2.0",
          "model_name": "LayoutModel",
          "state": {
            "_model_module": "@jupyter-widgets/base",
            "_model_module_version": "1.2.0",
            "_model_name": "LayoutModel",
            "_view_count": null,
            "_view_module": "@jupyter-widgets/base",
            "_view_module_version": "1.2.0",
            "_view_name": "LayoutView",
            "align_content": null,
            "align_items": null,
            "align_self": null,
            "border": null,
            "bottom": null,
            "display": null,
            "flex": null,
            "flex_flow": null,
            "grid_area": null,
            "grid_auto_columns": null,
            "grid_auto_flow": null,
            "grid_auto_rows": null,
            "grid_column": null,
            "grid_gap": null,
            "grid_row": null,
            "grid_template_areas": null,
            "grid_template_columns": null,
            "grid_template_rows": null,
            "height": null,
            "justify_content": null,
            "justify_items": null,
            "left": null,
            "margin": null,
            "max_height": null,
            "max_width": null,
            "min_height": null,
            "min_width": null,
            "object_fit": null,
            "object_position": null,
            "order": null,
            "overflow": null,
            "overflow_x": null,
            "overflow_y": null,
            "padding": null,
            "right": null,
            "top": null,
            "visibility": null,
            "width": null
          }
        },
        "6aecc4662ee847e19b2a05139b6d5d76": {
          "model_module": "@jupyter-widgets/controls",
          "model_module_version": "1.5.0",
          "model_name": "DescriptionStyleModel",
          "state": {
            "_model_module": "@jupyter-widgets/controls",
            "_model_module_version": "1.5.0",
            "_model_name": "DescriptionStyleModel",
            "_view_count": null,
            "_view_module": "@jupyter-widgets/base",
            "_view_module_version": "1.2.0",
            "_view_name": "StyleView",
            "description_width": ""
          }
        },
        "7970c0ac36e34f9c9b90d73f5d9adcd8": {
          "model_module": "@jupyter-widgets/controls",
          "model_module_version": "1.5.0",
          "model_name": "ProgressStyleModel",
          "state": {
            "_model_module": "@jupyter-widgets/controls",
            "_model_module_version": "1.5.0",
            "_model_name": "ProgressStyleModel",
            "_view_count": null,
            "_view_module": "@jupyter-widgets/base",
            "_view_module_version": "1.2.0",
            "_view_name": "StyleView",
            "bar_color": null,
            "description_width": ""
          }
        },
        "99ac78a8f69642f6b942632d8f9e751e": {
          "model_module": "@jupyter-widgets/base",
          "model_module_version": "1.2.0",
          "model_name": "LayoutModel",
          "state": {
            "_model_module": "@jupyter-widgets/base",
            "_model_module_version": "1.2.0",
            "_model_name": "LayoutModel",
            "_view_count": null,
            "_view_module": "@jupyter-widgets/base",
            "_view_module_version": "1.2.0",
            "_view_name": "LayoutView",
            "align_content": null,
            "align_items": null,
            "align_self": null,
            "border": null,
            "bottom": null,
            "display": null,
            "flex": null,
            "flex_flow": null,
            "grid_area": null,
            "grid_auto_columns": null,
            "grid_auto_flow": null,
            "grid_auto_rows": null,
            "grid_column": null,
            "grid_gap": null,
            "grid_row": null,
            "grid_template_areas": null,
            "grid_template_columns": null,
            "grid_template_rows": null,
            "height": null,
            "justify_content": null,
            "justify_items": null,
            "left": null,
            "margin": null,
            "max_height": null,
            "max_width": null,
            "min_height": null,
            "min_width": null,
            "object_fit": null,
            "object_position": null,
            "order": null,
            "overflow": null,
            "overflow_x": null,
            "overflow_y": null,
            "padding": null,
            "right": null,
            "top": null,
            "visibility": null,
            "width": null
          }
        },
        "a1f2e57ebfc149a78d257d30cfcfd7d7": {
          "model_module": "@jupyter-widgets/controls",
          "model_module_version": "1.5.0",
          "model_name": "HTMLModel",
          "state": {
            "_dom_classes": [],
            "_model_module": "@jupyter-widgets/controls",
            "_model_module_version": "1.5.0",
            "_model_name": "HTMLModel",
            "_view_count": null,
            "_view_module": "@jupyter-widgets/controls",
            "_view_module_version": "1.5.0",
            "_view_name": "HTMLView",
            "description": "",
            "description_tooltip": null,
            "layout": "IPY_MODEL_99ac78a8f69642f6b942632d8f9e751e",
            "placeholder": "​",
            "style": "IPY_MODEL_6aecc4662ee847e19b2a05139b6d5d76",
            "value": " 10/? [00:49&lt;00:00,  4.67s/it]"
          }
        },
        "ad7eaa985a1540d2acc446d1a19e6e91": {
          "model_module": "@jupyter-widgets/base",
          "model_module_version": "1.2.0",
          "model_name": "LayoutModel",
          "state": {
            "_model_module": "@jupyter-widgets/base",
            "_model_module_version": "1.2.0",
            "_model_name": "LayoutModel",
            "_view_count": null,
            "_view_module": "@jupyter-widgets/base",
            "_view_module_version": "1.2.0",
            "_view_name": "LayoutView",
            "align_content": null,
            "align_items": null,
            "align_self": null,
            "border": null,
            "bottom": null,
            "display": null,
            "flex": null,
            "flex_flow": null,
            "grid_area": null,
            "grid_auto_columns": null,
            "grid_auto_flow": null,
            "grid_auto_rows": null,
            "grid_column": null,
            "grid_gap": null,
            "grid_row": null,
            "grid_template_areas": null,
            "grid_template_columns": null,
            "grid_template_rows": null,
            "height": null,
            "justify_content": null,
            "justify_items": null,
            "left": null,
            "margin": null,
            "max_height": null,
            "max_width": null,
            "min_height": null,
            "min_width": null,
            "object_fit": null,
            "object_position": null,
            "order": null,
            "overflow": null,
            "overflow_x": null,
            "overflow_y": null,
            "padding": null,
            "right": null,
            "top": null,
            "visibility": null,
            "width": "20px"
          }
        },
        "bc701f6f8d1e47d0ae4d03489dccad6b": {
          "model_module": "@jupyter-widgets/controls",
          "model_module_version": "1.5.0",
          "model_name": "DescriptionStyleModel",
          "state": {
            "_model_module": "@jupyter-widgets/controls",
            "_model_module_version": "1.5.0",
            "_model_name": "DescriptionStyleModel",
            "_view_count": null,
            "_view_module": "@jupyter-widgets/base",
            "_view_module_version": "1.2.0",
            "_view_name": "StyleView",
            "description_width": ""
          }
        },
        "e07ae9ca60574ed1ae55b927a6b369d5": {
          "model_module": "@jupyter-widgets/controls",
          "model_module_version": "1.5.0",
          "model_name": "HTMLModel",
          "state": {
            "_dom_classes": [],
            "_model_module": "@jupyter-widgets/controls",
            "_model_module_version": "1.5.0",
            "_model_name": "HTMLModel",
            "_view_count": null,
            "_view_module": "@jupyter-widgets/controls",
            "_view_module_version": "1.5.0",
            "_view_name": "HTMLView",
            "description": "",
            "description_tooltip": null,
            "layout": "IPY_MODEL_28813d24d58843c382238774b3e93428",
            "placeholder": "​",
            "style": "IPY_MODEL_bc701f6f8d1e47d0ae4d03489dccad6b",
            "value": ""
          }
        },
        "ef6b0be50b694e389d2e8fc9d22b7768": {
          "model_module": "@jupyter-widgets/controls",
          "model_module_version": "1.5.0",
          "model_name": "FloatProgressModel",
          "state": {
            "_dom_classes": [],
            "_model_module": "@jupyter-widgets/controls",
            "_model_module_version": "1.5.0",
            "_model_name": "FloatProgressModel",
            "_view_count": null,
            "_view_module": "@jupyter-widgets/controls",
            "_view_module_version": "1.5.0",
            "_view_name": "ProgressView",
            "bar_style": "success",
            "description": "",
            "description_tooltip": null,
            "layout": "IPY_MODEL_ad7eaa985a1540d2acc446d1a19e6e91",
            "max": 1,
            "min": 0,
            "orientation": "horizontal",
            "style": "IPY_MODEL_7970c0ac36e34f9c9b90d73f5d9adcd8",
            "value": 1
          }
        },
        "fdd1d797ba3a4d599e73fa26dc64d635": {
          "model_module": "@jupyter-widgets/base",
          "model_module_version": "1.2.0",
          "model_name": "LayoutModel",
          "state": {
            "_model_module": "@jupyter-widgets/base",
            "_model_module_version": "1.2.0",
            "_model_name": "LayoutModel",
            "_view_count": null,
            "_view_module": "@jupyter-widgets/base",
            "_view_module_version": "1.2.0",
            "_view_name": "LayoutView",
            "align_content": null,
            "align_items": null,
            "align_self": null,
            "border": null,
            "bottom": null,
            "display": null,
            "flex": null,
            "flex_flow": null,
            "grid_area": null,
            "grid_auto_columns": null,
            "grid_auto_flow": null,
            "grid_auto_rows": null,
            "grid_column": null,
            "grid_gap": null,
            "grid_row": null,
            "grid_template_areas": null,
            "grid_template_columns": null,
            "grid_template_rows": null,
            "height": null,
            "justify_content": null,
            "justify_items": null,
            "left": null,
            "margin": null,
            "max_height": null,
            "max_width": null,
            "min_height": null,
            "min_width": null,
            "object_fit": null,
            "object_position": null,
            "order": null,
            "overflow": null,
            "overflow_x": null,
            "overflow_y": null,
            "padding": null,
            "right": null,
            "top": null,
            "visibility": null,
            "width": null
          }
        }
      }
    }
  },
  "nbformat": 4,
  "nbformat_minor": 0
}