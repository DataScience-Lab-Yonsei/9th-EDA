{
 "cells": [
  {
   "cell_type": "markdown",
   "id": "3bdb61a8",
   "metadata": {},
   "source": [
    "## 사용할 데이터 : 서울시 기간별 시간평균 대기환경 정보 2019 04\n",
    "\n",
    "### 목적 : 시간대별 사람들의 이동양상과 대기물질의 농도 관계 파악"
   ]
  },
  {
   "cell_type": "markdown",
   "id": "ef7049a5",
   "metadata": {},
   "source": [
    "### 1. 데이터 불러오기"
   ]
  },
  {
   "cell_type": "code",
   "execution_count": 40,
   "id": "4d6a6bb7",
   "metadata": {},
   "outputs": [],
   "source": [
    "import pandas as pd\n",
    "import numpy as np\n",
    "\n",
    "import matplotlib.pyplot as plt\n",
    "import seaborn as sns"
   ]
  },
  {
   "cell_type": "code",
   "execution_count": 2,
   "id": "f2ac641c",
   "metadata": {},
   "outputs": [],
   "source": [
    "time_1904=pd.read_csv('서울시_기간별_시간평균_대기환경_정보_2019.04.csv',encoding = 'cp949')"
   ]
  },
  {
   "cell_type": "markdown",
   "id": "71f9742e",
   "metadata": {},
   "source": [
    "### EDA : 데이터의 형태, 자료형 분석"
   ]
  },
  {
   "cell_type": "code",
   "execution_count": 3,
   "id": "6edfef73",
   "metadata": {
    "scrolled": false
   },
   "outputs": [
    {
     "name": "stdout",
     "output_type": "stream",
     "text": [
      "<class 'pandas.core.frame.DataFrame'>\n",
      "RangeIndex: 18000 entries, 0 to 17999\n",
      "Data columns (total 12 columns):\n",
      " #   Column          Non-Null Count  Dtype  \n",
      "---  ------          --------------  -----  \n",
      " 0   측정일시            18000 non-null  int64  \n",
      " 1   권역코드            18000 non-null  int64  \n",
      " 2   권역명             18000 non-null  object \n",
      " 3   측정소코드           18000 non-null  int64  \n",
      " 4   측정소명            18000 non-null  object \n",
      " 5   미세먼지 1시간(㎍/㎥)   18000 non-null  int64  \n",
      " 6   미세먼지 24시간(㎍/㎥)  18000 non-null  int64  \n",
      " 7   초미세먼지(㎍/㎥)      18000 non-null  int64  \n",
      " 8   오존(ppm)         18000 non-null  float64\n",
      " 9   이산화질소농도(ppm)    18000 non-null  float64\n",
      " 10  일산화탄소농도(ppm)    18000 non-null  float64\n",
      " 11  아황산가스농도(ppm)    18000 non-null  float64\n",
      "dtypes: float64(4), int64(6), object(2)\n",
      "memory usage: 1.6+ MB\n",
      "None\n"
     ]
    }
   ],
   "source": [
    "print(time_1904.info())\n",
    "#2019040100 시~2019043013 시까지 1시간 간격"
   ]
  },
  {
   "cell_type": "code",
   "execution_count": 4,
   "id": "e5122c50",
   "metadata": {
    "scrolled": true
   },
   "outputs": [
    {
     "data": {
      "text/html": [
       "<div>\n",
       "<style scoped>\n",
       "    .dataframe tbody tr th:only-of-type {\n",
       "        vertical-align: middle;\n",
       "    }\n",
       "\n",
       "    .dataframe tbody tr th {\n",
       "        vertical-align: top;\n",
       "    }\n",
       "\n",
       "    .dataframe thead th {\n",
       "        text-align: right;\n",
       "    }\n",
       "</style>\n",
       "<table border=\"1\" class=\"dataframe\">\n",
       "  <thead>\n",
       "    <tr style=\"text-align: right;\">\n",
       "      <th></th>\n",
       "      <th>측정일시</th>\n",
       "      <th>권역코드</th>\n",
       "      <th>권역명</th>\n",
       "      <th>측정소코드</th>\n",
       "      <th>측정소명</th>\n",
       "      <th>미세먼지 1시간(㎍/㎥)</th>\n",
       "      <th>미세먼지 24시간(㎍/㎥)</th>\n",
       "      <th>초미세먼지(㎍/㎥)</th>\n",
       "      <th>오존(ppm)</th>\n",
       "      <th>이산화질소농도(ppm)</th>\n",
       "      <th>일산화탄소농도(ppm)</th>\n",
       "      <th>아황산가스농도(ppm)</th>\n",
       "    </tr>\n",
       "  </thead>\n",
       "  <tbody>\n",
       "    <tr>\n",
       "      <th>0</th>\n",
       "      <td>201904302300</td>\n",
       "      <td>100</td>\n",
       "      <td>도심권</td>\n",
       "      <td>111123</td>\n",
       "      <td>종로구</td>\n",
       "      <td>27</td>\n",
       "      <td>34</td>\n",
       "      <td>14</td>\n",
       "      <td>0.019</td>\n",
       "      <td>0.046</td>\n",
       "      <td>0.5</td>\n",
       "      <td>0.003</td>\n",
       "    </tr>\n",
       "    <tr>\n",
       "      <th>1</th>\n",
       "      <td>201904302300</td>\n",
       "      <td>100</td>\n",
       "      <td>도심권</td>\n",
       "      <td>111121</td>\n",
       "      <td>중구</td>\n",
       "      <td>25</td>\n",
       "      <td>30</td>\n",
       "      <td>14</td>\n",
       "      <td>0.022</td>\n",
       "      <td>0.047</td>\n",
       "      <td>0.5</td>\n",
       "      <td>0.003</td>\n",
       "    </tr>\n",
       "    <tr>\n",
       "      <th>2</th>\n",
       "      <td>201904302300</td>\n",
       "      <td>100</td>\n",
       "      <td>도심권</td>\n",
       "      <td>111131</td>\n",
       "      <td>용산구</td>\n",
       "      <td>20</td>\n",
       "      <td>28</td>\n",
       "      <td>12</td>\n",
       "      <td>0.018</td>\n",
       "      <td>0.049</td>\n",
       "      <td>0.5</td>\n",
       "      <td>0.003</td>\n",
       "    </tr>\n",
       "    <tr>\n",
       "      <th>3</th>\n",
       "      <td>201904302300</td>\n",
       "      <td>101</td>\n",
       "      <td>서북권</td>\n",
       "      <td>111181</td>\n",
       "      <td>은평구</td>\n",
       "      <td>32</td>\n",
       "      <td>44</td>\n",
       "      <td>15</td>\n",
       "      <td>0.032</td>\n",
       "      <td>0.028</td>\n",
       "      <td>0.4</td>\n",
       "      <td>0.004</td>\n",
       "    </tr>\n",
       "    <tr>\n",
       "      <th>4</th>\n",
       "      <td>201904302300</td>\n",
       "      <td>101</td>\n",
       "      <td>서북권</td>\n",
       "      <td>111201</td>\n",
       "      <td>마포구</td>\n",
       "      <td>33</td>\n",
       "      <td>42</td>\n",
       "      <td>21</td>\n",
       "      <td>0.015</td>\n",
       "      <td>0.036</td>\n",
       "      <td>0.4</td>\n",
       "      <td>0.004</td>\n",
       "    </tr>\n",
       "  </tbody>\n",
       "</table>\n",
       "</div>"
      ],
      "text/plain": [
       "           측정일시  권역코드  권역명   측정소코드 측정소명  미세먼지 1시간(㎍/㎥)  미세먼지 24시간(㎍/㎥)  \\\n",
       "0  201904302300   100  도심권  111123  종로구             27              34   \n",
       "1  201904302300   100  도심권  111121   중구             25              30   \n",
       "2  201904302300   100  도심권  111131  용산구             20              28   \n",
       "3  201904302300   101  서북권  111181  은평구             32              44   \n",
       "4  201904302300   101  서북권  111201  마포구             33              42   \n",
       "\n",
       "   초미세먼지(㎍/㎥)  오존(ppm)  이산화질소농도(ppm)  일산화탄소농도(ppm)  아황산가스농도(ppm)  \n",
       "0          14    0.019         0.046           0.5         0.003  \n",
       "1          14    0.022         0.047           0.5         0.003  \n",
       "2          12    0.018         0.049           0.5         0.003  \n",
       "3          15    0.032         0.028           0.4         0.004  \n",
       "4          21    0.015         0.036           0.4         0.004  "
      ]
     },
     "execution_count": 4,
     "metadata": {},
     "output_type": "execute_result"
    }
   ],
   "source": [
    "#자료 생김새 파악\n",
    "time_1904.head()"
   ]
  },
  {
   "cell_type": "code",
   "execution_count": 5,
   "id": "7f327df3",
   "metadata": {},
   "outputs": [
    {
     "data": {
      "text/plain": [
       "(18000, 12)"
      ]
     },
     "execution_count": 5,
     "metadata": {},
     "output_type": "execute_result"
    }
   ],
   "source": [
    "#데이터 형태 파악\n",
    "time_1904.shape"
   ]
  },
  {
   "cell_type": "code",
   "execution_count": 6,
   "id": "557ff5c1",
   "metadata": {},
   "outputs": [
    {
     "data": {
      "text/plain": [
       "측정일시              0\n",
       "권역코드              0\n",
       "권역명               0\n",
       "측정소코드             0\n",
       "측정소명              0\n",
       "미세먼지 1시간(㎍/㎥)     0\n",
       "미세먼지 24시간(㎍/㎥)    0\n",
       "초미세먼지(㎍/㎥)        0\n",
       "오존(ppm)           0\n",
       "이산화질소농도(ppm)      0\n",
       "일산화탄소농도(ppm)      0\n",
       "아황산가스농도(ppm)      0\n",
       "dtype: int64"
      ]
     },
     "execution_count": 6,
     "metadata": {},
     "output_type": "execute_result"
    }
   ],
   "source": [
    "#결측치 파악\n",
    "time_1904.isna().sum()\n",
    "#결측치 없음->결측치 보간 따로 진행하지X"
   ]
  },
  {
   "cell_type": "markdown",
   "id": "739c3026",
   "metadata": {},
   "source": [
    "### 2. 데이터 정리"
   ]
  },
  {
   "cell_type": "markdown",
   "id": "0c4bc68a",
   "metadata": {},
   "source": [
    "### 측정시간 별로 groupby"
   ]
  },
  {
   "cell_type": "code",
   "execution_count": 28,
   "id": "c0ff7341",
   "metadata": {},
   "outputs": [],
   "source": [
    "#칼럼 이름 변경\n",
    "time_1904=time_1904.rename(columns={'미세먼지 1시간(㎍/㎥)':'dust1h','미세먼지 24시간(㎍/㎥)':'dust24h','이산화질소농도(ppm)':'no2','초미세먼지(㎍/㎥)':'fdust','아황산가스농도(ppm)':'so2','오존(ppm)':'o3','이산화질소농도(ppm)':'no2','일산화탄소농도(ppm)':'co'})"
   ]
  },
  {
   "cell_type": "code",
   "execution_count": 29,
   "id": "e5309b51",
   "metadata": {},
   "outputs": [],
   "source": [
    "#복사본 만들기\n",
    "time_df_1904=time_1904"
   ]
  },
  {
   "cell_type": "code",
   "execution_count": 30,
   "id": "bc431692",
   "metadata": {},
   "outputs": [],
   "source": [
    "#측정 일시 타입 변경\n",
    "time_df_1904=time_df_1904.astype({'측정일시':'str'})\n",
    "time_df_1904['timeline1904']=time_df_1904['측정일시'].str[8:10]"
   ]
  },
  {
   "cell_type": "code",
   "execution_count": 33,
   "id": "712abf2e",
   "metadata": {},
   "outputs": [
    {
     "data": {
      "text/html": [
       "<div>\n",
       "<style scoped>\n",
       "    .dataframe tbody tr th:only-of-type {\n",
       "        vertical-align: middle;\n",
       "    }\n",
       "\n",
       "    .dataframe tbody tr th {\n",
       "        vertical-align: top;\n",
       "    }\n",
       "\n",
       "    .dataframe thead th {\n",
       "        text-align: right;\n",
       "    }\n",
       "</style>\n",
       "<table border=\"1\" class=\"dataframe\">\n",
       "  <thead>\n",
       "    <tr style=\"text-align: right;\">\n",
       "      <th></th>\n",
       "      <th></th>\n",
       "      <th>권역코드</th>\n",
       "      <th>측정소코드</th>\n",
       "      <th>dust1h</th>\n",
       "      <th>dust24h</th>\n",
       "      <th>fdust</th>\n",
       "      <th>o3</th>\n",
       "      <th>no2</th>\n",
       "      <th>co</th>\n",
       "      <th>so2</th>\n",
       "    </tr>\n",
       "    <tr>\n",
       "      <th>timeline1904</th>\n",
       "      <th>측정소명</th>\n",
       "      <th></th>\n",
       "      <th></th>\n",
       "      <th></th>\n",
       "      <th></th>\n",
       "      <th></th>\n",
       "      <th></th>\n",
       "      <th></th>\n",
       "      <th></th>\n",
       "      <th></th>\n",
       "    </tr>\n",
       "  </thead>\n",
       "  <tbody>\n",
       "    <tr>\n",
       "      <th rowspan=\"5\" valign=\"top\">00</th>\n",
       "      <th>강남구</th>\n",
       "      <td>104.0</td>\n",
       "      <td>111261.0</td>\n",
       "      <td>33.100000</td>\n",
       "      <td>33.633333</td>\n",
       "      <td>17.700000</td>\n",
       "      <td>0.018667</td>\n",
       "      <td>0.030933</td>\n",
       "      <td>0.360000</td>\n",
       "      <td>0.005533</td>\n",
       "    </tr>\n",
       "    <tr>\n",
       "      <th>강동구</th>\n",
       "      <td>104.0</td>\n",
       "      <td>111274.0</td>\n",
       "      <td>37.666667</td>\n",
       "      <td>37.500000</td>\n",
       "      <td>18.900000</td>\n",
       "      <td>0.019967</td>\n",
       "      <td>0.038833</td>\n",
       "      <td>0.456667</td>\n",
       "      <td>0.003800</td>\n",
       "    </tr>\n",
       "    <tr>\n",
       "      <th>강북구</th>\n",
       "      <td>102.0</td>\n",
       "      <td>111291.0</td>\n",
       "      <td>35.966667</td>\n",
       "      <td>39.833333</td>\n",
       "      <td>15.433333</td>\n",
       "      <td>0.030700</td>\n",
       "      <td>0.017000</td>\n",
       "      <td>0.403333</td>\n",
       "      <td>0.002167</td>\n",
       "    </tr>\n",
       "    <tr>\n",
       "      <th>강서구</th>\n",
       "      <td>103.0</td>\n",
       "      <td>111212.0</td>\n",
       "      <td>42.233333</td>\n",
       "      <td>42.100000</td>\n",
       "      <td>19.800000</td>\n",
       "      <td>0.022867</td>\n",
       "      <td>0.040467</td>\n",
       "      <td>0.520000</td>\n",
       "      <td>0.005533</td>\n",
       "    </tr>\n",
       "    <tr>\n",
       "      <th>관악구</th>\n",
       "      <td>103.0</td>\n",
       "      <td>111251.0</td>\n",
       "      <td>48.900000</td>\n",
       "      <td>49.700000</td>\n",
       "      <td>23.200000</td>\n",
       "      <td>0.023333</td>\n",
       "      <td>0.038667</td>\n",
       "      <td>0.426667</td>\n",
       "      <td>0.004467</td>\n",
       "    </tr>\n",
       "  </tbody>\n",
       "</table>\n",
       "</div>"
      ],
      "text/plain": [
       "                    권역코드     측정소코드     dust1h    dust24h      fdust        o3  \\\n",
       "timeline1904 측정소명                                                               \n",
       "00           강남구   104.0  111261.0  33.100000  33.633333  17.700000  0.018667   \n",
       "             강동구   104.0  111274.0  37.666667  37.500000  18.900000  0.019967   \n",
       "             강북구   102.0  111291.0  35.966667  39.833333  15.433333  0.030700   \n",
       "             강서구   103.0  111212.0  42.233333  42.100000  19.800000  0.022867   \n",
       "             관악구   103.0  111251.0  48.900000  49.700000  23.200000  0.023333   \n",
       "\n",
       "                        no2        co       so2  \n",
       "timeline1904 측정소명                                \n",
       "00           강남구   0.030933  0.360000  0.005533  \n",
       "             강동구   0.038833  0.456667  0.003800  \n",
       "             강북구   0.017000  0.403333  0.002167  \n",
       "             강서구   0.040467  0.520000  0.005533  \n",
       "             관악구   0.038667  0.426667  0.004467  "
      ]
     },
     "execution_count": 33,
     "metadata": {},
     "output_type": "execute_result"
    }
   ],
   "source": [
    "#groupby :측정시간+측정소별\n",
    "time_df1_1904=time_df_1904.groupby(['timeline1904','측정소명']).mean()\n",
    "time_df1_1904.head()"
   ]
  },
  {
   "cell_type": "code",
   "execution_count": 43,
   "id": "1b9d5f82",
   "metadata": {},
   "outputs": [
    {
     "data": {
      "text/html": [
       "<div>\n",
       "<style scoped>\n",
       "    .dataframe tbody tr th:only-of-type {\n",
       "        vertical-align: middle;\n",
       "    }\n",
       "\n",
       "    .dataframe tbody tr th {\n",
       "        vertical-align: top;\n",
       "    }\n",
       "\n",
       "    .dataframe thead th {\n",
       "        text-align: right;\n",
       "    }\n",
       "</style>\n",
       "<table border=\"1\" class=\"dataframe\">\n",
       "  <thead>\n",
       "    <tr style=\"text-align: right;\">\n",
       "      <th></th>\n",
       "      <th>권역코드</th>\n",
       "      <th>측정소코드</th>\n",
       "      <th>dust1h</th>\n",
       "      <th>dust24h</th>\n",
       "      <th>fdust</th>\n",
       "      <th>o3</th>\n",
       "      <th>no2</th>\n",
       "      <th>co</th>\n",
       "      <th>so2</th>\n",
       "    </tr>\n",
       "    <tr>\n",
       "      <th>timeline1904</th>\n",
       "      <th></th>\n",
       "      <th></th>\n",
       "      <th></th>\n",
       "      <th></th>\n",
       "      <th></th>\n",
       "      <th></th>\n",
       "      <th></th>\n",
       "      <th></th>\n",
       "      <th></th>\n",
       "    </tr>\n",
       "  </thead>\n",
       "  <tbody>\n",
       "    <tr>\n",
       "      <th>00</th>\n",
       "      <td>102.24</td>\n",
       "      <td>111211.04</td>\n",
       "      <td>37.960000</td>\n",
       "      <td>39.793333</td>\n",
       "      <td>19.684000</td>\n",
       "      <td>0.021675</td>\n",
       "      <td>0.035156</td>\n",
       "      <td>0.483733</td>\n",
       "      <td>0.003763</td>\n",
       "    </tr>\n",
       "    <tr>\n",
       "      <th>01</th>\n",
       "      <td>102.24</td>\n",
       "      <td>111211.04</td>\n",
       "      <td>37.556000</td>\n",
       "      <td>39.316000</td>\n",
       "      <td>19.925333</td>\n",
       "      <td>0.021225</td>\n",
       "      <td>0.033891</td>\n",
       "      <td>0.494133</td>\n",
       "      <td>0.003747</td>\n",
       "    </tr>\n",
       "    <tr>\n",
       "      <th>02</th>\n",
       "      <td>102.24</td>\n",
       "      <td>111211.04</td>\n",
       "      <td>36.138667</td>\n",
       "      <td>38.692000</td>\n",
       "      <td>19.742667</td>\n",
       "      <td>0.022325</td>\n",
       "      <td>0.030483</td>\n",
       "      <td>0.490933</td>\n",
       "      <td>0.003720</td>\n",
       "    </tr>\n",
       "    <tr>\n",
       "      <th>03</th>\n",
       "      <td>102.24</td>\n",
       "      <td>111211.04</td>\n",
       "      <td>35.590667</td>\n",
       "      <td>38.074667</td>\n",
       "      <td>20.464000</td>\n",
       "      <td>0.022155</td>\n",
       "      <td>0.028635</td>\n",
       "      <td>0.488400</td>\n",
       "      <td>0.003669</td>\n",
       "    </tr>\n",
       "    <tr>\n",
       "      <th>04</th>\n",
       "      <td>102.24</td>\n",
       "      <td>111211.04</td>\n",
       "      <td>35.092000</td>\n",
       "      <td>37.308000</td>\n",
       "      <td>20.466667</td>\n",
       "      <td>0.021225</td>\n",
       "      <td>0.027949</td>\n",
       "      <td>0.486133</td>\n",
       "      <td>0.003621</td>\n",
       "    </tr>\n",
       "  </tbody>\n",
       "</table>\n",
       "</div>"
      ],
      "text/plain": [
       "                권역코드      측정소코드     dust1h    dust24h      fdust        o3  \\\n",
       "timeline1904                                                                 \n",
       "00            102.24  111211.04  37.960000  39.793333  19.684000  0.021675   \n",
       "01            102.24  111211.04  37.556000  39.316000  19.925333  0.021225   \n",
       "02            102.24  111211.04  36.138667  38.692000  19.742667  0.022325   \n",
       "03            102.24  111211.04  35.590667  38.074667  20.464000  0.022155   \n",
       "04            102.24  111211.04  35.092000  37.308000  20.466667  0.021225   \n",
       "\n",
       "                   no2        co       so2  \n",
       "timeline1904                                \n",
       "00            0.035156  0.483733  0.003763  \n",
       "01            0.033891  0.494133  0.003747  \n",
       "02            0.030483  0.490933  0.003720  \n",
       "03            0.028635  0.488400  0.003669  \n",
       "04            0.027949  0.486133  0.003621  "
      ]
     },
     "execution_count": 43,
     "metadata": {},
     "output_type": "execute_result"
    }
   ],
   "source": [
    "#groupby :측정시간\n",
    "time_df2_1904=time_df_1904.groupby('timeline1904').mean()\n",
    "time_df2_1904.head()"
   ]
  },
  {
   "cell_type": "markdown",
   "id": "a4e97462",
   "metadata": {},
   "source": [
    "### 일변량 시각화"
   ]
  },
  {
   "cell_type": "code",
   "execution_count": 44,
   "id": "c37e8ded",
   "metadata": {},
   "outputs": [
    {
     "data": {
      "text/html": [
       "<div>\n",
       "<style scoped>\n",
       "    .dataframe tbody tr th:only-of-type {\n",
       "        vertical-align: middle;\n",
       "    }\n",
       "\n",
       "    .dataframe tbody tr th {\n",
       "        vertical-align: top;\n",
       "    }\n",
       "\n",
       "    .dataframe thead th {\n",
       "        text-align: right;\n",
       "    }\n",
       "</style>\n",
       "<table border=\"1\" class=\"dataframe\">\n",
       "  <thead>\n",
       "    <tr style=\"text-align: right;\">\n",
       "      <th></th>\n",
       "      <th>timeline1904</th>\n",
       "      <th>권역코드</th>\n",
       "      <th>측정소코드</th>\n",
       "      <th>dust1h</th>\n",
       "      <th>dust24h</th>\n",
       "      <th>fdust</th>\n",
       "      <th>o3</th>\n",
       "      <th>no2</th>\n",
       "      <th>co</th>\n",
       "      <th>so2</th>\n",
       "    </tr>\n",
       "  </thead>\n",
       "  <tbody>\n",
       "    <tr>\n",
       "      <th>0</th>\n",
       "      <td>00</td>\n",
       "      <td>102.24</td>\n",
       "      <td>111211.04</td>\n",
       "      <td>37.960000</td>\n",
       "      <td>39.793333</td>\n",
       "      <td>19.684000</td>\n",
       "      <td>0.021675</td>\n",
       "      <td>0.035156</td>\n",
       "      <td>0.483733</td>\n",
       "      <td>0.003763</td>\n",
       "    </tr>\n",
       "    <tr>\n",
       "      <th>1</th>\n",
       "      <td>01</td>\n",
       "      <td>102.24</td>\n",
       "      <td>111211.04</td>\n",
       "      <td>37.556000</td>\n",
       "      <td>39.316000</td>\n",
       "      <td>19.925333</td>\n",
       "      <td>0.021225</td>\n",
       "      <td>0.033891</td>\n",
       "      <td>0.494133</td>\n",
       "      <td>0.003747</td>\n",
       "    </tr>\n",
       "    <tr>\n",
       "      <th>2</th>\n",
       "      <td>02</td>\n",
       "      <td>102.24</td>\n",
       "      <td>111211.04</td>\n",
       "      <td>36.138667</td>\n",
       "      <td>38.692000</td>\n",
       "      <td>19.742667</td>\n",
       "      <td>0.022325</td>\n",
       "      <td>0.030483</td>\n",
       "      <td>0.490933</td>\n",
       "      <td>0.003720</td>\n",
       "    </tr>\n",
       "    <tr>\n",
       "      <th>3</th>\n",
       "      <td>03</td>\n",
       "      <td>102.24</td>\n",
       "      <td>111211.04</td>\n",
       "      <td>35.590667</td>\n",
       "      <td>38.074667</td>\n",
       "      <td>20.464000</td>\n",
       "      <td>0.022155</td>\n",
       "      <td>0.028635</td>\n",
       "      <td>0.488400</td>\n",
       "      <td>0.003669</td>\n",
       "    </tr>\n",
       "    <tr>\n",
       "      <th>4</th>\n",
       "      <td>04</td>\n",
       "      <td>102.24</td>\n",
       "      <td>111211.04</td>\n",
       "      <td>35.092000</td>\n",
       "      <td>37.308000</td>\n",
       "      <td>20.466667</td>\n",
       "      <td>0.021225</td>\n",
       "      <td>0.027949</td>\n",
       "      <td>0.486133</td>\n",
       "      <td>0.003621</td>\n",
       "    </tr>\n",
       "  </tbody>\n",
       "</table>\n",
       "</div>"
      ],
      "text/plain": [
       "  timeline1904    권역코드      측정소코드     dust1h    dust24h      fdust        o3  \\\n",
       "0           00  102.24  111211.04  37.960000  39.793333  19.684000  0.021675   \n",
       "1           01  102.24  111211.04  37.556000  39.316000  19.925333  0.021225   \n",
       "2           02  102.24  111211.04  36.138667  38.692000  19.742667  0.022325   \n",
       "3           03  102.24  111211.04  35.590667  38.074667  20.464000  0.022155   \n",
       "4           04  102.24  111211.04  35.092000  37.308000  20.466667  0.021225   \n",
       "\n",
       "        no2        co       so2  \n",
       "0  0.035156  0.483733  0.003763  \n",
       "1  0.033891  0.494133  0.003747  \n",
       "2  0.030483  0.490933  0.003720  \n",
       "3  0.028635  0.488400  0.003669  \n",
       "4  0.027949  0.486133  0.003621  "
      ]
     },
     "execution_count": 44,
     "metadata": {},
     "output_type": "execute_result"
    }
   ],
   "source": [
    "time_df3_1904=time_df2_1904.reset_index()\n",
    "time_df3_1904.head()"
   ]
  },
  {
   "cell_type": "markdown",
   "id": "25d34931",
   "metadata": {},
   "source": [
    "#### 1) 미세먼지 1시간"
   ]
  },
  {
   "cell_type": "code",
   "execution_count": 46,
   "id": "b1015b9b",
   "metadata": {
    "scrolled": true
   },
   "outputs": [
    {
     "data": {
      "text/plain": [
       "[<matplotlib.lines.Line2D at 0x26847f574f0>]"
      ]
     },
     "execution_count": 46,
     "metadata": {},
     "output_type": "execute_result"
    },
    {
     "data": {
      "image/png": "[encoded data removed]",
      "text/plain": [
       "<Figure size 432x288 with 1 Axes>"
      ]
     },
     "metadata": {
      "needs_background": "light"
     },
     "output_type": "display_data"
    }
   ],
   "source": [
    "plt.plot(time_df3_1904['timeline1904'], time_df3_1904['dust1h'])\n",
    "#9시, 16시 경에 가장 높음"
   ]
  },
  {
   "cell_type": "markdown",
   "id": "ded6ad92",
   "metadata": {},
   "source": [
    "#### 2) 초미세먼지"
   ]
  },
  {
   "cell_type": "code",
   "execution_count": 47,
   "id": "c73b3b24",
   "metadata": {},
   "outputs": [
    {
     "data": {
      "text/plain": [
       "[<matplotlib.lines.Line2D at 0x26848a21310>]"
      ]
     },
     "execution_count": 47,
     "metadata": {},
     "output_type": "execute_result"
    },
    {
     "data": {
      "image/png": "[encoded data removed]",
      "text/plain": [
       "<Figure size 432x288 with 1 Axes>"
      ]
     },
     "metadata": {
      "needs_background": "light"
     },
     "output_type": "display_data"
    }
   ],
   "source": [
    "plt.plot(time_df3_1904['timeline1904'], time_df3_1904['fdust'])\n",
    "#9시 경에 최대, 16시 이후에 다시 증가"
   ]
  },
  {
   "cell_type": "markdown",
   "id": "9cf5caf2",
   "metadata": {},
   "source": [
    "#### 3) 오존"
   ]
  },
  {
   "cell_type": "code",
   "execution_count": 48,
   "id": "4331c355",
   "metadata": {
    "scrolled": true
   },
   "outputs": [
    {
     "data": {
      "text/plain": [
       "[<matplotlib.lines.Line2D at 0x26848aa7d30>]"
      ]
     },
     "execution_count": 48,
     "metadata": {},
     "output_type": "execute_result"
    },
    {
     "data": {
      "image/png": "[encoded data removed]",
      "text/plain": [
       "<Figure size 432x288 with 1 Axes>"
      ]
     },
     "metadata": {
      "needs_background": "light"
     },
     "output_type": "display_data"
    }
   ],
   "source": [
    "plt.plot(time_df3_1904['timeline1904'], time_df3_1904['o3'])\n",
    "#해가 있는 시간대에 계속 증가"
   ]
  },
  {
   "cell_type": "markdown",
   "id": "668bd403",
   "metadata": {},
   "source": [
    "#### 4) 이산화질소"
   ]
  },
  {
   "cell_type": "code",
   "execution_count": 49,
   "id": "50f1b603",
   "metadata": {},
   "outputs": [
    {
     "data": {
      "text/plain": [
       "[<matplotlib.lines.Line2D at 0x26848b4b0a0>]"
      ]
     },
     "execution_count": 49,
     "metadata": {},
     "output_type": "execute_result"
    },
    {
     "data": {
      "image/png": "[encoded data removed]",
      "text/plain": [
       "<Figure size 432x288 with 1 Axes>"
      ]
     },
     "metadata": {
      "needs_background": "light"
     },
     "output_type": "display_data"
    }
   ],
   "source": [
    "plt.plot(time_df3_1904['timeline1904'], time_df3_1904['no2'])\n",
    "#해가 있는 시간대에 계속 감소\n",
    "#9시 최대, 16시 경에 다시 증가"
   ]
  },
  {
   "cell_type": "markdown",
   "id": "65c3a279",
   "metadata": {},
   "source": [
    "#### 5) 일산화탄소"
   ]
  },
  {
   "cell_type": "code",
   "execution_count": 50,
   "id": "68a45cf9",
   "metadata": {
    "scrolled": true
   },
   "outputs": [
    {
     "data": {
      "text/plain": [
       "[<matplotlib.lines.Line2D at 0x26845b5e160>]"
      ]
     },
     "execution_count": 50,
     "metadata": {},
     "output_type": "execute_result"
    },
    {
     "data": {
      "image/png": "[encoded data removed]",
      "text/plain": [
       "<Figure size 432x288 with 1 Axes>"
      ]
     },
     "metadata": {
      "needs_background": "light"
     },
     "output_type": "display_data"
    }
   ],
   "source": [
    "plt.plot(time_df3_1904['timeline1904'], time_df3_1904['co'])\n",
    "#9시 경에 최대, 16시 경에 다시 증가"
   ]
  },
  {
   "cell_type": "markdown",
   "id": "a8cd841b",
   "metadata": {},
   "source": [
    "#### 6) 아황산가스"
   ]
  },
  {
   "cell_type": "code",
   "execution_count": 51,
   "id": "ff346cf9",
   "metadata": {
    "scrolled": true
   },
   "outputs": [
    {
     "data": {
      "text/plain": [
       "[<matplotlib.lines.Line2D at 0x26846200d90>]"
      ]
     },
     "execution_count": 51,
     "metadata": {},
     "output_type": "execute_result"
    },
    {
     "data": {
      "image/png": "[encoded data removed]",
      "text/plain": [
       "<Figure size 432x288 with 1 Axes>"
      ]
     },
     "metadata": {
      "needs_background": "light"
     },
     "output_type": "display_data"
    }
   ],
   "source": [
    "plt.plot(time_df3_1904['timeline1904'], time_df3_1904['so2'])\n",
    "#아침에 증가, 오전 중에 최대가 됨"
   ]
  },
  {
   "cell_type": "markdown",
   "id": "dbd0ca1e",
   "metadata": {},
   "source": [
    "#### 대부분의 대기물질이 오전 출근 시간 (5시~9시), 오후 퇴근시간(16시 이후) 대에서 증가하거나 최대치를 나타내는 양상을 보임\n",
    "#### -> 출퇴근 교통량 증가와 연관?"
   ]
  },
  {
   "cell_type": "markdown",
   "id": "558db110",
   "metadata": {},
   "source": [
    "### 다변량 시각화 : 상관관계 분석"
   ]
  },
  {
   "cell_type": "code",
   "execution_count": 54,
   "id": "791cc2c5",
   "metadata": {
    "scrolled": true
   },
   "outputs": [
    {
     "name": "stderr",
     "output_type": "stream",
     "text": [
      "C:\\ProgramData\\Anaconda3\\lib\\site-packages\\seaborn\\utils.py:95: UserWarning: Glyph 44428 (\\N{HANGUL SYLLABLE GWEON}) missing from current font.\n",
      "  fig.canvas.draw()\n",
      "C:\\ProgramData\\Anaconda3\\lib\\site-packages\\seaborn\\utils.py:95: UserWarning: Glyph 50669 (\\N{HANGUL SYLLABLE YEOG}) missing from current font.\n",
      "  fig.canvas.draw()\n",
      "C:\\ProgramData\\Anaconda3\\lib\\site-packages\\seaborn\\utils.py:95: UserWarning: Glyph 53076 (\\N{HANGUL SYLLABLE KO}) missing from current font.\n",
      "  fig.canvas.draw()\n",
      "C:\\ProgramData\\Anaconda3\\lib\\site-packages\\seaborn\\utils.py:95: UserWarning: Glyph 46300 (\\N{HANGUL SYLLABLE DEU}) missing from current font.\n",
      "  fig.canvas.draw()\n",
      "C:\\ProgramData\\Anaconda3\\lib\\site-packages\\seaborn\\utils.py:95: UserWarning: Glyph 52769 (\\N{HANGUL SYLLABLE CEUG}) missing from current font.\n",
      "  fig.canvas.draw()\n",
      "C:\\ProgramData\\Anaconda3\\lib\\site-packages\\seaborn\\utils.py:95: UserWarning: Glyph 51221 (\\N{HANGUL SYLLABLE JEONG}) missing from current font.\n",
      "  fig.canvas.draw()\n",
      "C:\\ProgramData\\Anaconda3\\lib\\site-packages\\seaborn\\utils.py:95: UserWarning: Glyph 49548 (\\N{HANGUL SYLLABLE SO}) missing from current font.\n",
      "  fig.canvas.draw()\n",
      "C:\\ProgramData\\Anaconda3\\lib\\site-packages\\IPython\\core\\pylabtools.py:151: UserWarning: Glyph 44428 (\\N{HANGUL SYLLABLE GWEON}) missing from current font.\n",
      "  fig.canvas.print_figure(bytes_io, **kw)\n",
      "C:\\ProgramData\\Anaconda3\\lib\\site-packages\\IPython\\core\\pylabtools.py:151: UserWarning: Glyph 50669 (\\N{HANGUL SYLLABLE YEOG}) missing from current font.\n",
      "  fig.canvas.print_figure(bytes_io, **kw)\n",
      "C:\\ProgramData\\Anaconda3\\lib\\site-packages\\IPython\\core\\pylabtools.py:151: UserWarning: Glyph 53076 (\\N{HANGUL SYLLABLE KO}) missing from current font.\n",
      "  fig.canvas.print_figure(bytes_io, **kw)\n",
      "C:\\ProgramData\\Anaconda3\\lib\\site-packages\\IPython\\core\\pylabtools.py:151: UserWarning: Glyph 46300 (\\N{HANGUL SYLLABLE DEU}) missing from current font.\n",
      "  fig.canvas.print_figure(bytes_io, **kw)\n",
      "C:\\ProgramData\\Anaconda3\\lib\\site-packages\\IPython\\core\\pylabtools.py:151: UserWarning: Glyph 52769 (\\N{HANGUL SYLLABLE CEUG}) missing from current font.\n",
      "  fig.canvas.print_figure(bytes_io, **kw)\n",
      "C:\\ProgramData\\Anaconda3\\lib\\site-packages\\IPython\\core\\pylabtools.py:151: UserWarning: Glyph 51221 (\\N{HANGUL SYLLABLE JEONG}) missing from current font.\n",
      "  fig.canvas.print_figure(bytes_io, **kw)\n",
      "C:\\ProgramData\\Anaconda3\\lib\\site-packages\\IPython\\core\\pylabtools.py:151: UserWarning: Glyph 49548 (\\N{HANGUL SYLLABLE SO}) missing from current font.\n",
      "  fig.canvas.print_figure(bytes_io, **kw)\n"
     ]
    },
    {
     "data": {
      "image/png": "[encoded data removed]",
      "text/plain": [
       "<Figure size 432x288 with 2 Axes>"
      ]
     },
     "metadata": {
      "needs_background": "light"
     },
     "output_type": "display_data"
    }
   ],
   "source": [
    "sns.heatmap(time_df3_1904.corr(), annot=True)\n",
    "plt.show()"
   ]
  },
  {
   "cell_type": "markdown",
   "id": "e06ddf4a",
   "metadata": {},
   "source": [
    "#### 오존과 이산화 질소 / 오존과 일산화탄소의 상관관계가 높음"
   ]
  },
  {
   "cell_type": "markdown",
   "id": "d4756f13",
   "metadata": {},
   "source": [
    "### 1) 오존과 이산화 질소"
   ]
  },
  {
   "cell_type": "code",
   "execution_count": 55,
   "id": "d50328a1",
   "metadata": {
    "scrolled": false
   },
   "outputs": [
    {
     "data": {
      "image/png": "[encoded data removed]",
      "text/plain": [
       "<Figure size 864x360 with 1 Axes>"
      ]
     },
     "metadata": {
      "needs_background": "light"
     },
     "output_type": "display_data"
    }
   ],
   "source": [
    "time_df2_1904[['no2','o3']].plot(figsize=(12,5)).autoscale(axis='x',tight=True)\n",
    "# 이산화질소와 오존 사이의 증감이 서로 반대되는 양상으로 나타남"
   ]
  },
  {
   "cell_type": "markdown",
   "id": "f8d93b93",
   "metadata": {},
   "source": [
    "### 2) 오존과 일산화탄소"
   ]
  },
  {
   "cell_type": "code",
   "execution_count": 57,
   "id": "26cfca93",
   "metadata": {},
   "outputs": [
    {
     "data": {
      "image/png": "[encoded data removed]",
      "text/plain": [
       "<Figure size 864x360 with 1 Axes>"
      ]
     },
     "metadata": {
      "needs_background": "light"
     },
     "output_type": "display_data"
    }
   ],
   "source": [
    "time_df2_1904[['co','o3']].plot(figsize=(12,5)).autoscale(axis='x',tight=True)\n",
    "# 일산화탄소와 오존 사이의 증감도 서로 반대되는 양상으로 나타남"
   ]
  },
  {
   "cell_type": "markdown",
   "id": "ddef7c9f",
   "metadata": {},
   "source": [
    "#### 오존은 2차 오염물질로 1차 오염물질의 화학반응을 통해 발생한다. 그 과정에서 2차오염물질(오존)이 증가하는 만큼 1차 오염물질은 소비되는 것이기에 그 농도가 감소한다.\n",
    "#### ->이산화질소와 일산화탄소가 오존을 생성하는 1차오염물질에 해당한다고 생각해볼 수 있을 것 같다."
   ]
  }
 ],
 "metadata": {
  "kernelspec": {
   "display_name": "Python 3 (ipykernel)",
   "language": "python",
   "name": "python3"
  },
  "language_info": {
   "codemirror_mode": {
    "name": "ipython",
    "version": 3
   },
   "file_extension": ".py",
   "mimetype": "text/x-python",
   "name": "python",
   "nbconvert_exporter": "python",
   "pygments_lexer": "ipython3",
   "version": "3.9.12"
  }
 },
 "nbformat": 4,
 "nbformat_minor": 5
}
