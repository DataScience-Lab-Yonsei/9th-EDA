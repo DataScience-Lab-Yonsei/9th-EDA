{
 "cells": [
  {
   "cell_type": "code",
   "execution_count": 1,
   "id": "8aceb2e7",
   "metadata": {},
   "outputs": [],
   "source": [
    "import numpy as np\n",
    "import pandas as pd\n",
    "import matplotlib.pyplot as plt\n",
    "import seaborn as sns\n",
    "import warnings\n",
    "from datetime import datetime\n",
    "warnings.filterwarnings(action='ignore')\n",
    "\n",
    "plt.rcParams['font.family'] = 'NanumGothic'\n",
    "\n",
    "#시각화 색상 통일\n",
    "\n",
    "col=['#6B4E24','#EECA98','#EBAA4F','#6B5B45','#B8853E','#AB891A','#6B5610','#EBBC23','#F7B50F']\n",
    "\n",
    "df = pd.read_csv('mapo_2019.csv')\n",
    "\n",
    "# 시간데이터 datetime으로 변환\n",
    "df['측정일시'] = df.apply(lambda row: datetime.strptime(str(row['측정일시']), '%Y-%m-%d %H:%M:%S'), axis = 1)"
   ]
  },
  {
   "cell_type": "markdown",
   "id": "9ad2dea6",
   "metadata": {},
   "source": [
    "> 미세먼지 농도가 **0 ~ 30은 좋음**, **31 ~ 80은 보통**, **81 ~ 150은 나쁨**, **151 이상은 매우 나쁨**으로 등급을 나눕니다. <br>\n",
    "> 초미세먼지 농도는 **0 ~ 15은 좋음**, **16 ~ 35은 보통**, **36 ~ 75은 나쁨**, **76 이상은 매우 나쁨**으로 등급을 나눕니다. <br>\n",
    "> **좋음, 보통, 나쁨, 매우 나쁨**일때 기준으로 구분해 등급을 나누겠습니다."
   ]
  },
  {
   "cell_type": "code",
   "execution_count": 2,
   "id": "e209a253",
   "metadata": {},
   "outputs": [],
   "source": [
    "# 미세먼지 농도가  0 ~ 30은 0, 31 ~ 80은 1, 81 ~ 150은 2, 151 이상은 3으로 등급을 나눈다\n",
    "\n",
    "for (i, row) in df.iterrows():\n",
    "    dust = row[2]\n",
    "    k = '오류'\n",
    "    \n",
    "    if dust < 31:\n",
    "        k = '좋음'\n",
    "    elif dust < 81:\n",
    "        k = '보통'\n",
    "    elif dust < 151:\n",
    "        k = '나쁨'\n",
    "    else:\n",
    "        k = '매우 나쁨'\n",
    "    df.loc[i, 'dust_alarm'] = k"
   ]
  },
  {
   "cell_type": "code",
   "execution_count": 3,
   "id": "6288a28b",
   "metadata": {},
   "outputs": [],
   "source": [
    "# 초미세먼지 농도가  0 ~ 15은 0, 16 ~ 35은 1, 36 ~ 75은 2, 76 이상은 3으로 등급을 나눈다\n",
    "\n",
    "for (i, row) in df.iterrows():\n",
    "    f_dust = row[3]\n",
    "    k = '오류'\n",
    "    \n",
    "    if f_dust < 16:\n",
    "        k = '좋음'\n",
    "    elif f_dust < 36:\n",
    "        k = '보통'\n",
    "    elif f_dust < 76:\n",
    "        k = '나쁨'\n",
    "    else:\n",
    "        k = '매우 나쁨'\n",
    "    df.loc[i, 'f_dust_alarm'] = k"
   ]
  },
  {
   "cell_type": "code",
   "execution_count": 4,
   "id": "58f9acc1",
   "metadata": {},
   "outputs": [
    {
     "data": {
      "text/html": [
       "<div>\n",
       "<style scoped>\n",
       "    .dataframe tbody tr th:only-of-type {\n",
       "        vertical-align: middle;\n",
       "    }\n",
       "\n",
       "    .dataframe tbody tr th {\n",
       "        vertical-align: top;\n",
       "    }\n",
       "\n",
       "    .dataframe thead th {\n",
       "        text-align: right;\n",
       "    }\n",
       "</style>\n",
       "<table border=\"1\" class=\"dataframe\">\n",
       "  <thead>\n",
       "    <tr style=\"text-align: right;\">\n",
       "      <th></th>\n",
       "      <th>측정소명</th>\n",
       "      <th>측정일시</th>\n",
       "      <th>dust</th>\n",
       "      <th>f_dust</th>\n",
       "      <th>oz</th>\n",
       "      <th>no2</th>\n",
       "      <th>dust_alarm</th>\n",
       "      <th>f_dust_alarm</th>\n",
       "    </tr>\n",
       "  </thead>\n",
       "  <tbody>\n",
       "    <tr>\n",
       "      <th>0</th>\n",
       "      <td>마포구</td>\n",
       "      <td>2019-01-31 23:00:00</td>\n",
       "      <td>52</td>\n",
       "      <td>12</td>\n",
       "      <td>0.018</td>\n",
       "      <td>0.015</td>\n",
       "      <td>보통</td>\n",
       "      <td>좋음</td>\n",
       "    </tr>\n",
       "    <tr>\n",
       "      <th>1</th>\n",
       "      <td>마포구</td>\n",
       "      <td>2019-01-31 22:00:00</td>\n",
       "      <td>70</td>\n",
       "      <td>13</td>\n",
       "      <td>0.019</td>\n",
       "      <td>0.014</td>\n",
       "      <td>보통</td>\n",
       "      <td>좋음</td>\n",
       "    </tr>\n",
       "    <tr>\n",
       "      <th>2</th>\n",
       "      <td>마포구</td>\n",
       "      <td>2019-01-31 21:00:00</td>\n",
       "      <td>69</td>\n",
       "      <td>13</td>\n",
       "      <td>0.017</td>\n",
       "      <td>0.016</td>\n",
       "      <td>보통</td>\n",
       "      <td>좋음</td>\n",
       "    </tr>\n",
       "    <tr>\n",
       "      <th>3</th>\n",
       "      <td>마포구</td>\n",
       "      <td>2019-01-31 20:00:00</td>\n",
       "      <td>88</td>\n",
       "      <td>14</td>\n",
       "      <td>0.016</td>\n",
       "      <td>0.017</td>\n",
       "      <td>나쁨</td>\n",
       "      <td>좋음</td>\n",
       "    </tr>\n",
       "    <tr>\n",
       "      <th>4</th>\n",
       "      <td>마포구</td>\n",
       "      <td>2019-01-31 19:00:00</td>\n",
       "      <td>101</td>\n",
       "      <td>18</td>\n",
       "      <td>0.012</td>\n",
       "      <td>0.020</td>\n",
       "      <td>나쁨</td>\n",
       "      <td>보통</td>\n",
       "    </tr>\n",
       "  </tbody>\n",
       "</table>\n",
       "</div>"
      ],
      "text/plain": [
       "  측정소명                측정일시  dust  f_dust     oz    no2 dust_alarm f_dust_alarm\n",
       "0  마포구 2019-01-31 23:00:00    52      12  0.018  0.015         보통           좋음\n",
       "1  마포구 2019-01-31 22:00:00    70      13  0.019  0.014         보통           좋음\n",
       "2  마포구 2019-01-31 21:00:00    69      13  0.017  0.016         보통           좋음\n",
       "3  마포구 2019-01-31 20:00:00    88      14  0.016  0.017         나쁨           좋음\n",
       "4  마포구 2019-01-31 19:00:00   101      18  0.012  0.020         나쁨           보통"
      ]
     },
     "execution_count": 4,
     "metadata": {},
     "output_type": "execute_result"
    }
   ],
   "source": [
    "df.head()"
   ]
  },
  {
   "cell_type": "markdown",
   "id": "bd9e5ab1",
   "metadata": {},
   "source": [
    "# 1. 2019 한 해동안 마포구 미세먼지 등급 발령 barplot, piechart"
   ]
  },
  {
   "cell_type": "code",
   "execution_count": 5,
   "id": "0f2a3b01",
   "metadata": {},
   "outputs": [
    {
     "name": "stdout",
     "output_type": "stream",
     "text": [
      "보통       3974\n",
      "좋음       3786\n",
      "나쁨        845\n",
      "매우 나쁨     155\n",
      "Name: dust_alarm, dtype: int64\n"
     ]
    },
    {
     "data": {
      "image/png": "[encoded data removed]",
      "text/plain": [
       "<Figure size 576x864 with 2 Axes>"
      ]
     },
     "metadata": {
      "needs_background": "light"
     },
     "output_type": "display_data"
    }
   ],
   "source": [
    "dc = df['dust_alarm'].value_counts()\n",
    "print(dc)\n",
    "\n",
    "fig, axes = plt.subplots(2, 1, figsize=(8,12))\n",
    "\n",
    "sns.barplot(ax = axes[0], x = dc.index,\n",
    "            y = dc.values, palette = col).set_title('2019 한 해동안 마포구 미세먼지 등급 발령 횟수 (1시간)', size = 20)\n",
    "axes[1].pie(labels = dc.index, x = dc.values,\n",
    "            explode = [0.03, 0.03, 0.1, 0.1], colors = col,\n",
    "            textprops = {'fontsize' : 12}, autopct = \"%.2f%%\")\n",
    "plt.title('2019 한 해동안 마포구 미세먼지 등급 발령 횟수 (1시간)', size = 16)\n",
    "plt.subplots_adjust(left = 0.125, bottom = 0.1,  right = 0.9, top = 0.9, wspace = 0.2, hspace = 0.35)\n",
    "plt.show()"
   ]
  },
  {
   "cell_type": "markdown",
   "id": "2a1609a0",
   "metadata": {},
   "source": [
    "# 2. 요일별 마포구 미세먼지 등급 발령 barplot, piechart"
   ]
  },
  {
   "cell_type": "code",
   "execution_count": 6,
   "id": "fb3fe6ac",
   "metadata": {},
   "outputs": [],
   "source": [
    "# datetime 변수를 요일변수로 할당\n",
    "\n",
    "week = ['월', '화', '수', '목', '금', '토', '일']\n",
    "\n",
    "df['요일'] = df.apply(lambda row: week[datetime.date(row['측정일시']).weekday()], axis = 1)"
   ]
  },
  {
   "cell_type": "code",
   "execution_count": 7,
   "id": "0e30d771",
   "metadata": {},
   "outputs": [
    {
     "data": {
      "text/html": [
       "<div>\n",
       "<style scoped>\n",
       "    .dataframe tbody tr th:only-of-type {\n",
       "        vertical-align: middle;\n",
       "    }\n",
       "\n",
       "    .dataframe tbody tr th {\n",
       "        vertical-align: top;\n",
       "    }\n",
       "\n",
       "    .dataframe thead th {\n",
       "        text-align: right;\n",
       "    }\n",
       "</style>\n",
       "<table border=\"1\" class=\"dataframe\">\n",
       "  <thead>\n",
       "    <tr style=\"text-align: right;\">\n",
       "      <th></th>\n",
       "      <th>측정소명</th>\n",
       "      <th>측정일시</th>\n",
       "      <th>dust</th>\n",
       "      <th>f_dust</th>\n",
       "      <th>oz</th>\n",
       "      <th>no2</th>\n",
       "      <th>dust_alarm</th>\n",
       "      <th>f_dust_alarm</th>\n",
       "      <th>요일</th>\n",
       "    </tr>\n",
       "  </thead>\n",
       "  <tbody>\n",
       "    <tr>\n",
       "      <th>0</th>\n",
       "      <td>마포구</td>\n",
       "      <td>2019-01-31 23:00:00</td>\n",
       "      <td>52</td>\n",
       "      <td>12</td>\n",
       "      <td>0.018</td>\n",
       "      <td>0.015</td>\n",
       "      <td>보통</td>\n",
       "      <td>좋음</td>\n",
       "      <td>목</td>\n",
       "    </tr>\n",
       "    <tr>\n",
       "      <th>1</th>\n",
       "      <td>마포구</td>\n",
       "      <td>2019-01-31 22:00:00</td>\n",
       "      <td>70</td>\n",
       "      <td>13</td>\n",
       "      <td>0.019</td>\n",
       "      <td>0.014</td>\n",
       "      <td>보통</td>\n",
       "      <td>좋음</td>\n",
       "      <td>목</td>\n",
       "    </tr>\n",
       "    <tr>\n",
       "      <th>2</th>\n",
       "      <td>마포구</td>\n",
       "      <td>2019-01-31 21:00:00</td>\n",
       "      <td>69</td>\n",
       "      <td>13</td>\n",
       "      <td>0.017</td>\n",
       "      <td>0.016</td>\n",
       "      <td>보통</td>\n",
       "      <td>좋음</td>\n",
       "      <td>목</td>\n",
       "    </tr>\n",
       "    <tr>\n",
       "      <th>3</th>\n",
       "      <td>마포구</td>\n",
       "      <td>2019-01-31 20:00:00</td>\n",
       "      <td>88</td>\n",
       "      <td>14</td>\n",
       "      <td>0.016</td>\n",
       "      <td>0.017</td>\n",
       "      <td>나쁨</td>\n",
       "      <td>좋음</td>\n",
       "      <td>목</td>\n",
       "    </tr>\n",
       "    <tr>\n",
       "      <th>4</th>\n",
       "      <td>마포구</td>\n",
       "      <td>2019-01-31 19:00:00</td>\n",
       "      <td>101</td>\n",
       "      <td>18</td>\n",
       "      <td>0.012</td>\n",
       "      <td>0.020</td>\n",
       "      <td>나쁨</td>\n",
       "      <td>보통</td>\n",
       "      <td>목</td>\n",
       "    </tr>\n",
       "  </tbody>\n",
       "</table>\n",
       "</div>"
      ],
      "text/plain": [
       "  측정소명                측정일시  dust  f_dust     oz    no2 dust_alarm  \\\n",
       "0  마포구 2019-01-31 23:00:00    52      12  0.018  0.015         보통   \n",
       "1  마포구 2019-01-31 22:00:00    70      13  0.019  0.014         보통   \n",
       "2  마포구 2019-01-31 21:00:00    69      13  0.017  0.016         보통   \n",
       "3  마포구 2019-01-31 20:00:00    88      14  0.016  0.017         나쁨   \n",
       "4  마포구 2019-01-31 19:00:00   101      18  0.012  0.020         나쁨   \n",
       "\n",
       "  f_dust_alarm 요일  \n",
       "0           좋음  목  \n",
       "1           좋음  목  \n",
       "2           좋음  목  \n",
       "3           좋음  목  \n",
       "4           보통  목  "
      ]
     },
     "execution_count": 7,
     "metadata": {},
     "output_type": "execute_result"
    }
   ],
   "source": [
    "df.head()"
   ]
  },
  {
   "cell_type": "code",
   "execution_count": 8,
   "id": "1ac33080",
   "metadata": {},
   "outputs": [
    {
     "data": {
      "text/html": [
       "<div>\n",
       "<style scoped>\n",
       "    .dataframe tbody tr th:only-of-type {\n",
       "        vertical-align: middle;\n",
       "    }\n",
       "\n",
       "    .dataframe tbody tr th {\n",
       "        vertical-align: top;\n",
       "    }\n",
       "\n",
       "    .dataframe thead th {\n",
       "        text-align: right;\n",
       "    }\n",
       "</style>\n",
       "<table border=\"1\" class=\"dataframe\">\n",
       "  <thead>\n",
       "    <tr style=\"text-align: right;\">\n",
       "      <th></th>\n",
       "      <th>요일</th>\n",
       "      <th>dust_alarm</th>\n",
       "    </tr>\n",
       "  </thead>\n",
       "  <tbody>\n",
       "    <tr>\n",
       "      <th>0</th>\n",
       "      <td>금</td>\n",
       "      <td>138</td>\n",
       "    </tr>\n",
       "    <tr>\n",
       "      <th>1</th>\n",
       "      <td>목</td>\n",
       "      <td>121</td>\n",
       "    </tr>\n",
       "    <tr>\n",
       "      <th>2</th>\n",
       "      <td>수</td>\n",
       "      <td>183</td>\n",
       "    </tr>\n",
       "    <tr>\n",
       "      <th>3</th>\n",
       "      <td>월</td>\n",
       "      <td>136</td>\n",
       "    </tr>\n",
       "    <tr>\n",
       "      <th>4</th>\n",
       "      <td>일</td>\n",
       "      <td>90</td>\n",
       "    </tr>\n",
       "    <tr>\n",
       "      <th>5</th>\n",
       "      <td>토</td>\n",
       "      <td>158</td>\n",
       "    </tr>\n",
       "    <tr>\n",
       "      <th>6</th>\n",
       "      <td>화</td>\n",
       "      <td>174</td>\n",
       "    </tr>\n",
       "  </tbody>\n",
       "</table>\n",
       "</div>"
      ],
      "text/plain": [
       "  요일  dust_alarm\n",
       "0  금         138\n",
       "1  목         121\n",
       "2  수         183\n",
       "3  월         136\n",
       "4  일          90\n",
       "5  토         158\n",
       "6  화         174"
      ]
     },
     "execution_count": 8,
     "metadata": {},
     "output_type": "execute_result"
    }
   ],
   "source": [
    "df_al = df[df['dust'] >= 81]\n",
    "days = df_al.groupby(['요일']).agg({'dust_alarm' : 'count'}).reset_index()\n",
    "days "
   ]
  },
  {
   "cell_type": "code",
   "execution_count": 9,
   "id": "f304cb4d",
   "metadata": {},
   "outputs": [
    {
     "data": {
      "image/png": "[encoded data removed]",
      "text/plain": [
       "<Figure size 576x864 with 2 Axes>"
      ]
     },
     "metadata": {
      "needs_background": "light"
     },
     "output_type": "display_data"
    }
   ],
   "source": [
    "fig, axes = plt.subplots(2, 1, figsize=(8,12))\n",
    "\n",
    "sns.barplot(ax = axes[0], x = days['요일'],\n",
    "            y = days['dust_alarm'], palette = col).set_title('요일별 마포구 미세먼지 등급 발령', size = 20)\n",
    "axes[0].axis([-0.5, 6.5, 80, 200])\n",
    "axes[1].pie(labels = days['요일'], x = days['dust_alarm'],\n",
    "            colors = col, textprops = {'fontsize' : 12}, autopct = \"%.2f%%\")\n",
    "plt.title('요일별 마포구 미세먼지 등급 발령', size = 16)\n",
    "plt.subplots_adjust(left = 0.125, bottom = 0.1,  right = 0.9, top = 0.9, wspace = 0.2, hspace = 0.35)\n",
    "plt.show()"
   ]
  },
  {
   "cell_type": "markdown",
   "id": "8b846afb",
   "metadata": {},
   "source": [
    "# 3. 미세먼지가 가장 심한 날짜시간 Top 10"
   ]
  },
  {
   "cell_type": "code",
   "execution_count": 2,
   "id": "c9394778",
   "metadata": {},
   "outputs": [
    {
     "data": {
      "image/png": "[encoded data removed]",
      "text/plain": [
       "<Figure size 864x576 with 1 Axes>"
      ]
     },
     "metadata": {
      "needs_background": "light"
     },
     "output_type": "display_data"
    }
   ],
   "source": [
    "# 미세먼지가 가장 심한 날 Top 10\n",
    "\n",
    "plt.figure(figsize = (12, 8))\n",
    "\n",
    "dust_srt = df.sort_values('dust', ascending = False)\n",
    "sns.barplot(x = dust_srt['dust'][:10], y = dust_srt['측정일시'][:10].apply(lambda x : x.strftime('%m월%d일-%H시')), palette = col)\n",
    "plt.axis([180, 250, 9.5, - 0.5])\n",
    "plt.show()"
   ]
  },
  {
   "cell_type": "markdown",
   "id": "7f75ed30",
   "metadata": {},
   "source": [
    "## 미세먼지가 심한 날 Top 10 중 3월 5일이 2번, 3월 4일이 6번 있는 등 미세먼지가 심한 시간이 몰려서 있는 밀집현상을 보이고 있음."
   ]
  },
  {
   "cell_type": "code",
   "execution_count": 4,
   "id": "3d74fe0e",
   "metadata": {},
   "outputs": [],
   "source": [
    "# 미세먼지 심한 날이 얼마나 뭉쳐있는지 확인\n",
    "\n",
    "top_100 = dust_srt.iloc[:100, :]"
   ]
  },
  {
   "cell_type": "code",
   "execution_count": 6,
   "id": "3b8b2a8c",
   "metadata": {},
   "outputs": [],
   "source": [
    "top_100['day'] = top_100.apply(lambda row: row['측정일시'].strftime('%m%d'), axis = 1)"
   ]
  },
  {
   "cell_type": "code",
   "execution_count": 13,
   "id": "4bb8a596",
   "metadata": {},
   "outputs": [
    {
     "name": "stdout",
     "output_type": "stream",
     "text": [
      "# of days in top-100:  13 일\n",
      "----------\n"
     ]
    },
    {
     "data": {
      "image/png": "[encoded data removed]",
      "text/plain": [
       "<Figure size 864x648 with 1 Axes>"
      ]
     },
     "metadata": {
      "needs_background": "light"
     },
     "output_type": "display_data"
    }
   ],
   "source": [
    "tp = top_100.groupby(['day']).agg({'dust' : 'count'}).reset_index()\n",
    "tp = tp.sort_values('dust', ascending = False)\n",
    "\n",
    "print('# of days in top-100: ', len(tp['day']), '일')\n",
    "print('-' * 10)\n",
    "\n",
    "plt.figure(figsize = (12, 9))\n",
    "\n",
    "sns.barplot(x = tp['day'], y = tp['dust'],\n",
    "            palette = col)\n",
    "plt.title('미세먼지 경보 발령 횟수', fontsize = 20)\n",
    "plt.show()"
   ]
  },
  {
   "cell_type": "markdown",
   "id": "83df3ea9",
   "metadata": {},
   "source": [
    "### 미세먼지 심한 시간대 top 100 중에서 총 13일로 집중되어 있는 집중현상을 발견 가능함. "
   ]
  },
  {
   "cell_type": "markdown",
   "id": "79156a2c",
   "metadata": {},
   "source": [
    "# 4. 한달 기준 미세먼지 경보 발령 횟수"
   ]
  },
  {
   "cell_type": "code",
   "execution_count": 11,
   "id": "4e5656b1",
   "metadata": {},
   "outputs": [],
   "source": [
    "df_month = df[df['dust'] >= 81]\n",
    "df_month['month'] = df_month.apply(lambda row: row['측정일시'].strftime('%m'), axis = 1)"
   ]
  },
  {
   "cell_type": "code",
   "execution_count": 12,
   "id": "9fb16d59",
   "metadata": {},
   "outputs": [
    {
     "data": {
      "text/html": [
       "<div>\n",
       "<style scoped>\n",
       "    .dataframe tbody tr th:only-of-type {\n",
       "        vertical-align: middle;\n",
       "    }\n",
       "\n",
       "    .dataframe tbody tr th {\n",
       "        vertical-align: top;\n",
       "    }\n",
       "\n",
       "    .dataframe thead th {\n",
       "        text-align: right;\n",
       "    }\n",
       "</style>\n",
       "<table border=\"1\" class=\"dataframe\">\n",
       "  <thead>\n",
       "    <tr style=\"text-align: right;\">\n",
       "      <th></th>\n",
       "      <th>month</th>\n",
       "      <th>dust</th>\n",
       "    </tr>\n",
       "  </thead>\n",
       "  <tbody>\n",
       "    <tr>\n",
       "      <th>0</th>\n",
       "      <td>01</td>\n",
       "      <td>243</td>\n",
       "    </tr>\n",
       "    <tr>\n",
       "      <th>1</th>\n",
       "      <td>02</td>\n",
       "      <td>134</td>\n",
       "    </tr>\n",
       "    <tr>\n",
       "      <th>2</th>\n",
       "      <td>03</td>\n",
       "      <td>256</td>\n",
       "    </tr>\n",
       "    <tr>\n",
       "      <th>3</th>\n",
       "      <td>04</td>\n",
       "      <td>71</td>\n",
       "    </tr>\n",
       "    <tr>\n",
       "      <th>4</th>\n",
       "      <td>05</td>\n",
       "      <td>198</td>\n",
       "    </tr>\n",
       "    <tr>\n",
       "      <th>5</th>\n",
       "      <td>06</td>\n",
       "      <td>17</td>\n",
       "    </tr>\n",
       "    <tr>\n",
       "      <th>6</th>\n",
       "      <td>10</td>\n",
       "      <td>24</td>\n",
       "    </tr>\n",
       "    <tr>\n",
       "      <th>7</th>\n",
       "      <td>11</td>\n",
       "      <td>33</td>\n",
       "    </tr>\n",
       "    <tr>\n",
       "      <th>8</th>\n",
       "      <td>12</td>\n",
       "      <td>24</td>\n",
       "    </tr>\n",
       "  </tbody>\n",
       "</table>\n",
       "</div>"
      ],
      "text/plain": [
       "  month  dust\n",
       "0    01   243\n",
       "1    02   134\n",
       "2    03   256\n",
       "3    04    71\n",
       "4    05   198\n",
       "5    06    17\n",
       "6    10    24\n",
       "7    11    33\n",
       "8    12    24"
      ]
     },
     "execution_count": 12,
     "metadata": {},
     "output_type": "execute_result"
    }
   ],
   "source": [
    "df_mon = df_month.groupby(['month']).agg({'dust' : 'count'}).reset_index()\n",
    "df_mon"
   ]
  },
  {
   "cell_type": "code",
   "execution_count": 13,
   "id": "cc1def51",
   "metadata": {},
   "outputs": [
    {
     "data": {
      "image/png": "[encoded data removed]",
      "text/plain": [
       "<Figure size 576x432 with 1 Axes>"
      ]
     },
     "metadata": {
      "needs_background": "light"
     },
     "output_type": "display_data"
    }
   ],
   "source": [
    "plt.figure(figsize = (8, 6))\n",
    "\n",
    "sns.barplot(x = df_mon['month'], y = df_mon['dust'],\n",
    "            palette = col)\n",
    "plt.title('미세먼지 경보 발령 횟수 (월)', fontsize = 20)\n",
    "plt.show()"
   ]
  },
  {
   "cell_type": "markdown",
   "id": "6e9019c6",
   "metadata": {},
   "source": [
    "# 5. 미세먼지 경보 발령 시간대"
   ]
  },
  {
   "cell_type": "code",
   "execution_count": 14,
   "id": "3338c2e9",
   "metadata": {},
   "outputs": [],
   "source": [
    "df_month['time'] = df_month.apply(lambda row: row['측정일시'].strftime('%H'), axis = 1)"
   ]
  },
  {
   "cell_type": "code",
   "execution_count": 15,
   "id": "df39c8f0",
   "metadata": {},
   "outputs": [
    {
     "data": {
      "text/html": [
       "<div>\n",
       "<style scoped>\n",
       "    .dataframe tbody tr th:only-of-type {\n",
       "        vertical-align: middle;\n",
       "    }\n",
       "\n",
       "    .dataframe tbody tr th {\n",
       "        vertical-align: top;\n",
       "    }\n",
       "\n",
       "    .dataframe thead th {\n",
       "        text-align: right;\n",
       "    }\n",
       "</style>\n",
       "<table border=\"1\" class=\"dataframe\">\n",
       "  <thead>\n",
       "    <tr style=\"text-align: right;\">\n",
       "      <th></th>\n",
       "      <th>time</th>\n",
       "      <th>dust</th>\n",
       "    </tr>\n",
       "  </thead>\n",
       "  <tbody>\n",
       "    <tr>\n",
       "      <th>0</th>\n",
       "      <td>00</td>\n",
       "      <td>40</td>\n",
       "    </tr>\n",
       "    <tr>\n",
       "      <th>1</th>\n",
       "      <td>01</td>\n",
       "      <td>37</td>\n",
       "    </tr>\n",
       "    <tr>\n",
       "      <th>2</th>\n",
       "      <td>02</td>\n",
       "      <td>36</td>\n",
       "    </tr>\n",
       "    <tr>\n",
       "      <th>3</th>\n",
       "      <td>03</td>\n",
       "      <td>39</td>\n",
       "    </tr>\n",
       "    <tr>\n",
       "      <th>4</th>\n",
       "      <td>04</td>\n",
       "      <td>36</td>\n",
       "    </tr>\n",
       "    <tr>\n",
       "      <th>5</th>\n",
       "      <td>05</td>\n",
       "      <td>32</td>\n",
       "    </tr>\n",
       "    <tr>\n",
       "      <th>6</th>\n",
       "      <td>06</td>\n",
       "      <td>34</td>\n",
       "    </tr>\n",
       "    <tr>\n",
       "      <th>7</th>\n",
       "      <td>07</td>\n",
       "      <td>38</td>\n",
       "    </tr>\n",
       "    <tr>\n",
       "      <th>8</th>\n",
       "      <td>08</td>\n",
       "      <td>41</td>\n",
       "    </tr>\n",
       "    <tr>\n",
       "      <th>9</th>\n",
       "      <td>09</td>\n",
       "      <td>43</td>\n",
       "    </tr>\n",
       "    <tr>\n",
       "      <th>10</th>\n",
       "      <td>10</td>\n",
       "      <td>50</td>\n",
       "    </tr>\n",
       "    <tr>\n",
       "      <th>11</th>\n",
       "      <td>11</td>\n",
       "      <td>55</td>\n",
       "    </tr>\n",
       "    <tr>\n",
       "      <th>12</th>\n",
       "      <td>12</td>\n",
       "      <td>57</td>\n",
       "    </tr>\n",
       "    <tr>\n",
       "      <th>13</th>\n",
       "      <td>13</td>\n",
       "      <td>43</td>\n",
       "    </tr>\n",
       "    <tr>\n",
       "      <th>14</th>\n",
       "      <td>14</td>\n",
       "      <td>45</td>\n",
       "    </tr>\n",
       "    <tr>\n",
       "      <th>15</th>\n",
       "      <td>15</td>\n",
       "      <td>49</td>\n",
       "    </tr>\n",
       "    <tr>\n",
       "      <th>16</th>\n",
       "      <td>16</td>\n",
       "      <td>48</td>\n",
       "    </tr>\n",
       "    <tr>\n",
       "      <th>17</th>\n",
       "      <td>17</td>\n",
       "      <td>40</td>\n",
       "    </tr>\n",
       "    <tr>\n",
       "      <th>18</th>\n",
       "      <td>18</td>\n",
       "      <td>37</td>\n",
       "    </tr>\n",
       "    <tr>\n",
       "      <th>19</th>\n",
       "      <td>19</td>\n",
       "      <td>39</td>\n",
       "    </tr>\n",
       "    <tr>\n",
       "      <th>20</th>\n",
       "      <td>20</td>\n",
       "      <td>40</td>\n",
       "    </tr>\n",
       "    <tr>\n",
       "      <th>21</th>\n",
       "      <td>21</td>\n",
       "      <td>39</td>\n",
       "    </tr>\n",
       "    <tr>\n",
       "      <th>22</th>\n",
       "      <td>22</td>\n",
       "      <td>42</td>\n",
       "    </tr>\n",
       "    <tr>\n",
       "      <th>23</th>\n",
       "      <td>23</td>\n",
       "      <td>40</td>\n",
       "    </tr>\n",
       "  </tbody>\n",
       "</table>\n",
       "</div>"
      ],
      "text/plain": [
       "   time  dust\n",
       "0    00    40\n",
       "1    01    37\n",
       "2    02    36\n",
       "3    03    39\n",
       "4    04    36\n",
       "5    05    32\n",
       "6    06    34\n",
       "7    07    38\n",
       "8    08    41\n",
       "9    09    43\n",
       "10   10    50\n",
       "11   11    55\n",
       "12   12    57\n",
       "13   13    43\n",
       "14   14    45\n",
       "15   15    49\n",
       "16   16    48\n",
       "17   17    40\n",
       "18   18    37\n",
       "19   19    39\n",
       "20   20    40\n",
       "21   21    39\n",
       "22   22    42\n",
       "23   23    40"
      ]
     },
     "execution_count": 15,
     "metadata": {},
     "output_type": "execute_result"
    }
   ],
   "source": [
    "df_t = df_month.groupby(['time']).agg({'dust' : 'count'}).reset_index()\n",
    "df_t"
   ]
  },
  {
   "cell_type": "code",
   "execution_count": 16,
   "id": "d62e45e1",
   "metadata": {},
   "outputs": [
    {
     "data": {
      "image/png": "[encoded data removed]",
      "text/plain": [
       "<Figure size 576x432 with 1 Axes>"
      ]
     },
     "metadata": {
      "needs_background": "light"
     },
     "output_type": "display_data"
    }
   ],
   "source": [
    "plt.figure(figsize = (8, 6))\n",
    "\n",
    "sns.lineplot(x = df_t['time'], y = df_t['dust'],\n",
    "            marker = 'o')\n",
    "plt.grid(b = True, color='#999999')\n",
    "\n",
    "plt.show()"
   ]
  },
  {
   "cell_type": "code",
   "execution_count": null,
   "id": "56c455e5",
   "metadata": {},
   "outputs": [],
   "source": []
  }
 ],
 "metadata": {
  "kernelspec": {
   "display_name": "Python 3 (ipykernel)",
   "language": "python",
   "name": "python3"
  },
  "language_info": {
   "codemirror_mode": {
    "name": "ipython",
    "version": 3
   },
   "file_extension": ".py",
   "mimetype": "text/x-python",
   "name": "python",
   "nbconvert_exporter": "python",
   "pygments_lexer": "ipython3",
   "version": "3.9.12"
  }
 },
 "nbformat": 4,
 "nbformat_minor": 5
}
