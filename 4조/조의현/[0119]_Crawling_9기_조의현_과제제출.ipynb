{
 "cells": [
  {
   "cell_type": "markdown",
   "id": "c3d373d8",
   "metadata": {},
   "source": [
    "## Naver open api으로 블로그 포스팅 내용 가져오기 "
   ]
  },
  {
   "cell_type": "code",
   "execution_count": 34,
   "id": "c434735a",
   "metadata": {},
   "outputs": [
    {
     "name": "stdout",
     "output_type": "stream",
     "text": [
      "블로그 검색어 입력: 미세먼지 경보 한강 나들이\n",
      "출력결과 개수: 10\n"
     ]
    }
   ],
   "source": [
    "import urllib.request\n",
    "import requests\n",
    "\n",
    "Id = 's8bbmFLiIYxmxIV1VaBb'\n",
    "password = 'V8_LS9jJWn'\n",
    "text = input('블로그 검색어 입력: ')\n",
    "txt = urllib.parse.quote(text)\n",
    "num =  input(\"출력결과 개수: \")\n",
    "\n",
    "open_api = 'https://openapi.naver.com/v1/search/blog?query=' + txt + \"&display=\" + num\n",
    "header_params = {'X-Naver-Client-Id' : Id, 'X-Naver-Client-Secret' : password}\n",
    "res = requests.get(open_api, headers = header_params)\n",
    "\n",
    "data = res.json()"
   ]
  },
  {
   "cell_type": "code",
   "execution_count": 36,
   "id": "23d99e0f",
   "metadata": {},
   "outputs": [],
   "source": [
    "links = []\n",
    "\n",
    "for _ in range(len(data['items'])):\n",
    "    links.append(data['items'][_]['link'])"
   ]
  },
  {
   "cell_type": "code",
   "execution_count": 43,
   "id": "5cee2c42",
   "metadata": {},
   "outputs": [
    {
     "name": "stderr",
     "output_type": "stream",
     "text": [
      "C:\\Users\\user\\AppData\\Local\\Temp\\ipykernel_3260\\1517131282.py:6: DeprecationWarning: executable_path has been deprecated, please pass in a Service object\n",
      "  driver = webdriver.Chrome(ChromeDriverManager().install())\n"
     ]
    }
   ],
   "source": [
    "import time\n",
    "from selenium import webdriver\n",
    "from webdriver_manager.chrome import ChromeDriverManager\n",
    "\n",
    "# chromedriver 설치\n",
    "driver = webdriver.Chrome(ChromeDriverManager().install())\n",
    "driver.implicitly_wait(2)"
   ]
  },
  {
   "cell_type": "code",
   "execution_count": 44,
   "id": "7ba63d57",
   "metadata": {},
   "outputs": [
    {
     "name": "stderr",
     "output_type": "stream",
     "text": [
      "100%|██████████████████████████████████████████████████████████████████████████████████| 10/10 [00:21<00:00,  2.14s/it]\n"
     ]
    }
   ],
   "source": [
    "from tqdm import tqdm\n",
    "from selenium.webdriver.common.by import By\n",
    "\n",
    "blog_posts = []\n",
    "\n",
    "for _ in tqdm(links):\n",
    "    driver.get(_)\n",
    "    time.sleep(1)\n",
    "    \n",
    "    driver.switch_to.frame('mainFrame')\n",
    "    \n",
    "    try:\n",
    "        post = driver.find_element(By.CSS_SELECTOR, 'div.se-main-container').text\n",
    "        blog_posts.append(post.replace('\\n', ' '))\n",
    "    except:\n",
    "        post = driver.find_element(By.CSS_SELECTOR, 'div#content-area').text\n",
    "        blog_posts.append(post.replace('\\n', ' '))\n",
    "        \n",
    "driver.quit()"
   ]
  },
  {
   "cell_type": "code",
   "execution_count": 47,
   "id": "efd6b7d3",
   "metadata": {},
   "outputs": [
    {
     "data": {
      "text/html": [
       "<div>\n",
       "<style scoped>\n",
       "    .dataframe tbody tr th:only-of-type {\n",
       "        vertical-align: middle;\n",
       "    }\n",
       "\n",
       "    .dataframe tbody tr th {\n",
       "        vertical-align: top;\n",
       "    }\n",
       "\n",
       "    .dataframe thead th {\n",
       "        text-align: right;\n",
       "    }\n",
       "</style>\n",
       "<table border=\"1\" class=\"dataframe\">\n",
       "  <thead>\n",
       "    <tr style=\"text-align: right;\">\n",
       "      <th></th>\n",
       "      <th>blog</th>\n",
       "    </tr>\n",
       "  </thead>\n",
       "  <tbody>\n",
       "    <tr>\n",
       "      <th>0</th>\n",
       "      <td>강변테크노마트에서 엄마폰을 바꾸고 엄마한테 \"한강 갈 생각 있어? \" 툭 던져봄. ...</td>\n",
       "    </tr>\n",
       "    <tr>\n",
       "      <th>1</th>\n",
       "      <td>오랜만에 자전거 타고 한강 나들이 했던 날 ㅎ 가을 하늘 높다, 라는 말 딱 어울리...</td>\n",
       "    </tr>\n",
       "    <tr>\n",
       "      <th>2</th>\n",
       "      <td>안녕하세요! 요즘 #미세먼지가 많은 시기만큼 강이가 미세먼지와 #미세먼지계절관리제 ...</td>\n",
       "    </tr>\n",
       "    <tr>\n",
       "      <th>3</th>\n",
       "      <td>👉전국 대부분 지역이 황사 영향권에 들면서 미세먼지 농도가 '매우 나쁨' 수준으로 ...</td>\n",
       "    </tr>\n",
       "    <tr>\n",
       "      <th>4</th>\n",
       "      <td>블로그 힐링 4개의 글 힐링 목록열기 [자연아이]한강 데이트/유람선 관람/드라이브 ...</td>\n",
       "    </tr>\n",
       "    <tr>\n",
       "      <th>5</th>\n",
       "      <td>하필 휴일에 미세먼지 경보라니요... 여유로운 주말, 산책도 하고싶고 나들이도 가고...</td>\n",
       "    </tr>\n",
       "    <tr>\n",
       "      <th>6</th>\n",
       "      <td>한국여행 나들이 25개의 글 나들이 목록열기 나들이 미세먼지주의보 내린날 한강나들이...</td>\n",
       "    </tr>\n",
       "    <tr>\n",
       "      <th>7</th>\n",
       "      <td>블로그 이곳저곳 70개의 글 이곳저곳 목록열기 [서울 밤도깨비 야시장] 5월의 한강...</td>\n",
       "    </tr>\n",
       "    <tr>\n",
       "      <th>8</th>\n",
       "      <td>미세먼지 올 들어 '가장 나쁨' 전국에 황사경보 https://www.bbc.com...</td>\n",
       "    </tr>\n",
       "    <tr>\n",
       "      <th>9</th>\n",
       "      <td>미세먼지 없는 좋은 날 #잠실한강공원 나들이 :D  일명 덕후투어라고 해야되나......</td>\n",
       "    </tr>\n",
       "  </tbody>\n",
       "</table>\n",
       "</div>"
      ],
      "text/plain": [
       "                                                blog\n",
       "0  강변테크노마트에서 엄마폰을 바꾸고 엄마한테 \"한강 갈 생각 있어? \" 툭 던져봄. ...\n",
       "1  오랜만에 자전거 타고 한강 나들이 했던 날 ㅎ 가을 하늘 높다, 라는 말 딱 어울리...\n",
       "2  안녕하세요! 요즘 #미세먼지가 많은 시기만큼 강이가 미세먼지와 #미세먼지계절관리제 ...\n",
       "3  👉전국 대부분 지역이 황사 영향권에 들면서 미세먼지 농도가 '매우 나쁨' 수준으로 ...\n",
       "4  블로그 힐링 4개의 글 힐링 목록열기 [자연아이]한강 데이트/유람선 관람/드라이브 ...\n",
       "5  하필 휴일에 미세먼지 경보라니요... 여유로운 주말, 산책도 하고싶고 나들이도 가고...\n",
       "6  한국여행 나들이 25개의 글 나들이 목록열기 나들이 미세먼지주의보 내린날 한강나들이...\n",
       "7  블로그 이곳저곳 70개의 글 이곳저곳 목록열기 [서울 밤도깨비 야시장] 5월의 한강...\n",
       "8  미세먼지 올 들어 '가장 나쁨' 전국에 황사경보 https://www.bbc.com...\n",
       "9  미세먼지 없는 좋은 날 #잠실한강공원 나들이 :D  일명 덕후투어라고 해야되나......"
      ]
     },
     "execution_count": 47,
     "metadata": {},
     "output_type": "execute_result"
    }
   ],
   "source": [
    "import pandas as pd\n",
    "df = pd.DataFrame({'blog' : blog_posts})\n",
    "df"
   ]
  }
 ],
 "metadata": {
  "kernelspec": {
   "display_name": "Python 3 (ipykernel)",
   "language": "python",
   "name": "python3"
  },
  "language_info": {
   "codemirror_mode": {
    "name": "ipython",
    "version": 3
   },
   "file_extension": ".py",
   "mimetype": "text/x-python",
   "name": "python",
   "nbconvert_exporter": "python",
   "pygments_lexer": "ipython3",
   "version": "3.9.12"
  }
 },
 "nbformat": 4,
 "nbformat_minor": 5
}
