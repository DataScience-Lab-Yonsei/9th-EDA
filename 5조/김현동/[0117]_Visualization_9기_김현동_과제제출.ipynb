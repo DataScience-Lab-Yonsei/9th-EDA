{
  "nbformat": 4,
  "nbformat_minor": 0,
  "metadata": {
    "colab": {
      "provenance": [],
      "toc_visible": true
    },
    "kernelspec": {
      "name": "python3",
      "display_name": "Python 3"
    },
    "language_info": {
      "name": "python"
    }
  },
  "cells": [
    {
      "cell_type": "code",
      "execution_count": null,
      "metadata": {
        "id": "fm0-njKLVZ7Z"
      },
      "outputs": [],
      "source": [
        "import pandas as pd"
      ]
    },
    {
      "cell_type": "markdown",
      "source": [
        "# 데이터 불러오기"
      ],
      "metadata": {
        "id": "6EMQZd0oaBuk"
      }
    },
    {
      "cell_type": "code",
      "source": [
        "subway_201510_df = pd.read_csv(\"/content/drive/MyDrive/DSL/지하철호선별_역별_승하차_인원/CARD_SUBWAY_MONTH_201510.csv\", encoding = 'cp949')\n",
        "subway_201610_df = pd.read_csv(\"/content/drive/MyDrive/DSL/지하철호선별_역별_승하차_인원/CARD_SUBWAY_MONTH_201610.csv\", encoding = 'cp949')\n",
        "subway_201710_df = pd.read_csv(\"/content/drive/MyDrive/DSL/지하철호선별_역별_승하차_인원/CARD_SUBWAY_MONTH_201710.csv\", encoding = 'cp949')\n",
        "subway_201810_df = pd.read_csv(\"/content/drive/MyDrive/DSL/지하철호선별_역별_승하차_인원/CARD_SUBWAY_MONTH_201810.csv\", encoding = 'cp949')\n",
        "subway_201910_df = pd.read_csv(\"/content/drive/MyDrive/DSL/지하철호선별_역별_승하차_인원/CARD_SUBWAY_MONTH_201910.csv\", encoding = 'cp949')"
      ],
      "metadata": {
        "id": "aad-nZ6_WGLW"
      },
      "execution_count": null,
      "outputs": []
    },
    {
      "cell_type": "code",
      "source": [
        "subway_202010_df = pd.read_csv(\"/content/drive/MyDrive/DSL/지하철호선별_역별_승하차_인원/CARD_SUBWAY_MONTH_202010.csv\", encoding = 'UTF-8')\n",
        "subway_202110_df = pd.read_csv(\"/content/drive/MyDrive/DSL/지하철호선별_역별_승하차_인원/CARD_SUBWAY_MONTH_202110.csv\", encoding = 'UTF-8')\n",
        "subway_202210_df = pd.read_csv(\"/content/drive/MyDrive/DSL/지하철호선별_역별_승하차_인원/CARD_SUBWAY_MONTH_202210.csv\", encoding = 'UTF-8')"
      ],
      "metadata": {
        "id": "BOVatBAqY-XF"
      },
      "execution_count": null,
      "outputs": []
    },
    {
      "cell_type": "markdown",
      "source": [
        "# 데이터프레임 전처리"
      ],
      "metadata": {
        "id": "7FCLQXEtbZzn"
      }
    },
    {
      "cell_type": "markdown",
      "source": [
        "한칸씩 밀리는 문제 있는 데이터프레임 처리"
      ],
      "metadata": {
        "id": "fe8Sk5pVbIMP"
      }
    },
    {
      "cell_type": "code",
      "source": [
        "subway_202010_df = subway_202010_df.loc[:,'노선명':'등록일자']\n",
        "subway_202110_df = subway_202110_df.loc[:,'노선명':'등록일자']\n",
        "subway_202210_df = subway_202210_df.loc[:,'노선명':'등록일자']"
      ],
      "metadata": {
        "id": "Gu4XxStVe1m8"
      },
      "execution_count": null,
      "outputs": []
    },
    {
      "cell_type": "code",
      "source": [
        "pd.DataFrame(subway_202010_df).head(2)"
      ],
      "metadata": {
        "colab": {
          "base_uri": "https://localhost:8080/",
          "height": 112
        },
        "id": "Af09Q-amc1iE",
        "outputId": "0122d075-d2ec-4163-de85-e9e7deea6b26"
      },
      "execution_count": null,
      "outputs": [
        {
          "output_type": "execute_result",
          "data": {
            "text/plain": [
              "        노선명   역명        승차총승객수  하차총승객수  등록일자\n",
              "0  20201001  2호선            시청    2118  1605\n",
              "1  20201001  1호선  청량리(서울시립대입구)    6567  6637"
            ],
            "text/html": [
              "\n",
              "  <div id=\"df-0a4b3b3a-4618-4c58-b676-4f619a15ae6a\">\n",
              "    <div class=\"colab-df-container\">\n",
              "      <div>\n",
              "<style scoped>\n",
              "    .dataframe tbody tr th:only-of-type {\n",
              "        vertical-align: middle;\n",
              "    }\n",
              "\n",
              "    .dataframe tbody tr th {\n",
              "        vertical-align: top;\n",
              "    }\n",
              "\n",
              "    .dataframe thead th {\n",
              "        text-align: right;\n",
              "    }\n",
              "</style>\n",
              "<table border=\"1\" class=\"dataframe\">\n",
              "  <thead>\n",
              "    <tr style=\"text-align: right;\">\n",
              "      <th></th>\n",
              "      <th>노선명</th>\n",
              "      <th>역명</th>\n",
              "      <th>승차총승객수</th>\n",
              "      <th>하차총승객수</th>\n",
              "      <th>등록일자</th>\n",
              "    </tr>\n",
              "  </thead>\n",
              "  <tbody>\n",
              "    <tr>\n",
              "      <th>0</th>\n",
              "      <td>20201001</td>\n",
              "      <td>2호선</td>\n",
              "      <td>시청</td>\n",
              "      <td>2118</td>\n",
              "      <td>1605</td>\n",
              "    </tr>\n",
              "    <tr>\n",
              "      <th>1</th>\n",
              "      <td>20201001</td>\n",
              "      <td>1호선</td>\n",
              "      <td>청량리(서울시립대입구)</td>\n",
              "      <td>6567</td>\n",
              "      <td>6637</td>\n",
              "    </tr>\n",
              "  </tbody>\n",
              "</table>\n",
              "</div>\n",
              "      <button class=\"colab-df-convert\" onclick=\"convertToInteractive('df-0a4b3b3a-4618-4c58-b676-4f619a15ae6a')\"\n",
              "              title=\"Convert this dataframe to an interactive table.\"\n",
              "              style=\"display:none;\">\n",
              "        \n",
              "  <svg xmlns=\"http://www.w3.org/2000/svg\" height=\"24px\"viewBox=\"0 0 24 24\"\n",
              "       width=\"24px\">\n",
              "    <path d=\"M0 0h24v24H0V0z\" fill=\"none\"/>\n",
              "    <path d=\"M18.56 5.44l.94 2.06.94-2.06 2.06-.94-2.06-.94-.94-2.06-.94 2.06-2.06.94zm-11 1L8.5 8.5l.94-2.06 2.06-.94-2.06-.94L8.5 2.5l-.94 2.06-2.06.94zm10 10l.94 2.06.94-2.06 2.06-.94-2.06-.94-.94-2.06-.94 2.06-2.06.94z\"/><path d=\"M17.41 7.96l-1.37-1.37c-.4-.4-.92-.59-1.43-.59-.52 0-1.04.2-1.43.59L10.3 9.45l-7.72 7.72c-.78.78-.78 2.05 0 2.83L4 21.41c.39.39.9.59 1.41.59.51 0 1.02-.2 1.41-.59l7.78-7.78 2.81-2.81c.8-.78.8-2.07 0-2.86zM5.41 20L4 18.59l7.72-7.72 1.47 1.35L5.41 20z\"/>\n",
              "  </svg>\n",
              "      </button>\n",
              "      \n",
              "  <style>\n",
              "    .colab-df-container {\n",
              "      display:flex;\n",
              "      flex-wrap:wrap;\n",
              "      gap: 12px;\n",
              "    }\n",
              "\n",
              "    .colab-df-convert {\n",
              "      background-color: #E8F0FE;\n",
              "      border: none;\n",
              "      border-radius: 50%;\n",
              "      cursor: pointer;\n",
              "      display: none;\n",
              "      fill: #1967D2;\n",
              "      height: 32px;\n",
              "      padding: 0 0 0 0;\n",
              "      width: 32px;\n",
              "    }\n",
              "\n",
              "    .colab-df-convert:hover {\n",
              "      background-color: #E2EBFA;\n",
              "      box-shadow: 0px 1px 2px rgba(60, 64, 67, 0.3), 0px 1px 3px 1px rgba(60, 64, 67, 0.15);\n",
              "      fill: #174EA6;\n",
              "    }\n",
              "\n",
              "    [theme=dark] .colab-df-convert {\n",
              "      background-color: #3B4455;\n",
              "      fill: #D2E3FC;\n",
              "    }\n",
              "\n",
              "    [theme=dark] .colab-df-convert:hover {\n",
              "      background-color: #434B5C;\n",
              "      box-shadow: 0px 1px 3px 1px rgba(0, 0, 0, 0.15);\n",
              "      filter: drop-shadow(0px 1px 2px rgba(0, 0, 0, 0.3));\n",
              "      fill: #FFFFFF;\n",
              "    }\n",
              "  </style>\n",
              "\n",
              "      <script>\n",
              "        const buttonEl =\n",
              "          document.querySelector('#df-0a4b3b3a-4618-4c58-b676-4f619a15ae6a button.colab-df-convert');\n",
              "        buttonEl.style.display =\n",
              "          google.colab.kernel.accessAllowed ? 'block' : 'none';\n",
              "\n",
              "        async function convertToInteractive(key) {\n",
              "          const element = document.querySelector('#df-0a4b3b3a-4618-4c58-b676-4f619a15ae6a');\n",
              "          const dataTable =\n",
              "            await google.colab.kernel.invokeFunction('convertToInteractive',\n",
              "                                                     [key], {});\n",
              "          if (!dataTable) return;\n",
              "\n",
              "          const docLinkHtml = 'Like what you see? Visit the ' +\n",
              "            '<a target=\"_blank\" href=https://colab.research.google.com/notebooks/data_table.ipynb>data table notebook</a>'\n",
              "            + ' to learn more about interactive tables.';\n",
              "          element.innerHTML = '';\n",
              "          dataTable['output_type'] = 'display_data';\n",
              "          await google.colab.output.renderOutput(dataTable, element);\n",
              "          const docLink = document.createElement('div');\n",
              "          docLink.innerHTML = docLinkHtml;\n",
              "          element.appendChild(docLink);\n",
              "        }\n",
              "      </script>\n",
              "    </div>\n",
              "  </div>\n",
              "  "
            ]
          },
          "metadata": {},
          "execution_count": 6
        }
      ]
    },
    {
      "cell_type": "code",
      "source": [
        "subway_202010_df.rename(columns = {'노선명':'사용일자','역명':'노선명','승차총승객수':'역명','하차총승객수':'승차총승객수','등록일자':'하차총승객수'},inplace = True)\n",
        "subway_202110_df.rename(columns = {'노선명':'사용일자','역명':'노선명','승차총승객수':'역명','하차총승객수':'승차총승객수','등록일자':'하차총승객수'},inplace = True)\n",
        "subway_202210_df.rename(columns = {'노선명':'사용일자','역명':'노선명','승차총승객수':'역명','하차총승객수':'승차총승객수','등록일자':'하차총승객수'},inplace = True)"
      ],
      "metadata": {
        "id": "bY3RjTIeXgnR"
      },
      "execution_count": null,
      "outputs": []
    },
    {
      "cell_type": "code",
      "source": [
        "dataframes = [subway_201510_df,subway_201610_df,subway_201710_df,subway_201810_df,subway_201910_df,subway_202010_df,subway_202110_df,subway_202210_df]"
      ],
      "metadata": {
        "id": "8SL7eU7QQ0_A"
      },
      "execution_count": null,
      "outputs": []
    },
    {
      "cell_type": "markdown",
      "source": [
        "이태원역만 포함된 데이터 프레임 만들기\n",
        "concat() 함수로 이태원 데이터 프레임 만들기\n",
        "groupby()를 이용해 사용일자의 오른쪽 네 글자가 같은 것을 기준으로 평균치 구하기기"
      ],
      "metadata": {
        "id": "IT7LzmTkd4Nf"
      }
    },
    {
      "cell_type": "code",
      "source": [
        "df_10 = pd.concat(dataframes, axis = 0)\n",
        "pd.DataFrame(df_10)"
      ],
      "metadata": {
        "colab": {
          "base_uri": "https://localhost:8080/",
          "height": 423
        },
        "id": "Xo5hLzvmPkV2",
        "outputId": "e87a2dd8-852b-4879-d65c-1e18fc01fe75"
      },
      "execution_count": null,
      "outputs": [
        {
          "output_type": "execute_result",
          "data": {
            "text/plain": [
              "           사용일자  노선명    역명   승차총승객수   하차총승객수        등록일자\n",
              "0      20151001  경인선    중동  11414.0  10683.0  20151217.0\n",
              "1      20151001  경인선    온수   8548.0   8035.0  20151217.0\n",
              "2      20151001  경인선    도원   4430.0   4544.0  20151217.0\n",
              "3      20151001  경인선    간석   7341.0   7088.0  20151217.0\n",
              "4      20151001  경인선    부개  11951.0  11093.0  20151217.0\n",
              "...         ...  ...   ...      ...      ...         ...\n",
              "18780  20221031  6호선  버티고개   2366.0   2239.0         NaN\n",
              "18781  20221031  6호선    약수   3778.0   3751.0         NaN\n",
              "18782  20221031  6호선    청구   3842.0   4067.0         NaN\n",
              "18783  20221031  6호선    신당   8136.0   8814.0         NaN\n",
              "18784  20221031  6호선   동묘앞   8434.0   8751.0         NaN\n",
              "\n",
              "[144788 rows x 6 columns]"
            ],
            "text/html": [
              "\n",
              "  <div id=\"df-eada302c-d79c-44f5-89d1-d6a7a31cd7fc\">\n",
              "    <div class=\"colab-df-container\">\n",
              "      <div>\n",
              "<style scoped>\n",
              "    .dataframe tbody tr th:only-of-type {\n",
              "        vertical-align: middle;\n",
              "    }\n",
              "\n",
              "    .dataframe tbody tr th {\n",
              "        vertical-align: top;\n",
              "    }\n",
              "\n",
              "    .dataframe thead th {\n",
              "        text-align: right;\n",
              "    }\n",
              "</style>\n",
              "<table border=\"1\" class=\"dataframe\">\n",
              "  <thead>\n",
              "    <tr style=\"text-align: right;\">\n",
              "      <th></th>\n",
              "      <th>사용일자</th>\n",
              "      <th>노선명</th>\n",
              "      <th>역명</th>\n",
              "      <th>승차총승객수</th>\n",
              "      <th>하차총승객수</th>\n",
              "      <th>등록일자</th>\n",
              "    </tr>\n",
              "  </thead>\n",
              "  <tbody>\n",
              "    <tr>\n",
              "      <th>0</th>\n",
              "      <td>20151001</td>\n",
              "      <td>경인선</td>\n",
              "      <td>중동</td>\n",
              "      <td>11414.0</td>\n",
              "      <td>10683.0</td>\n",
              "      <td>20151217.0</td>\n",
              "    </tr>\n",
              "    <tr>\n",
              "      <th>1</th>\n",
              "      <td>20151001</td>\n",
              "      <td>경인선</td>\n",
              "      <td>온수</td>\n",
              "      <td>8548.0</td>\n",
              "      <td>8035.0</td>\n",
              "      <td>20151217.0</td>\n",
              "    </tr>\n",
              "    <tr>\n",
              "      <th>2</th>\n",
              "      <td>20151001</td>\n",
              "      <td>경인선</td>\n",
              "      <td>도원</td>\n",
              "      <td>4430.0</td>\n",
              "      <td>4544.0</td>\n",
              "      <td>20151217.0</td>\n",
              "    </tr>\n",
              "    <tr>\n",
              "      <th>3</th>\n",
              "      <td>20151001</td>\n",
              "      <td>경인선</td>\n",
              "      <td>간석</td>\n",
              "      <td>7341.0</td>\n",
              "      <td>7088.0</td>\n",
              "      <td>20151217.0</td>\n",
              "    </tr>\n",
              "    <tr>\n",
              "      <th>4</th>\n",
              "      <td>20151001</td>\n",
              "      <td>경인선</td>\n",
              "      <td>부개</td>\n",
              "      <td>11951.0</td>\n",
              "      <td>11093.0</td>\n",
              "      <td>20151217.0</td>\n",
              "    </tr>\n",
              "    <tr>\n",
              "      <th>...</th>\n",
              "      <td>...</td>\n",
              "      <td>...</td>\n",
              "      <td>...</td>\n",
              "      <td>...</td>\n",
              "      <td>...</td>\n",
              "      <td>...</td>\n",
              "    </tr>\n",
              "    <tr>\n",
              "      <th>18780</th>\n",
              "      <td>20221031</td>\n",
              "      <td>6호선</td>\n",
              "      <td>버티고개</td>\n",
              "      <td>2366.0</td>\n",
              "      <td>2239.0</td>\n",
              "      <td>NaN</td>\n",
              "    </tr>\n",
              "    <tr>\n",
              "      <th>18781</th>\n",
              "      <td>20221031</td>\n",
              "      <td>6호선</td>\n",
              "      <td>약수</td>\n",
              "      <td>3778.0</td>\n",
              "      <td>3751.0</td>\n",
              "      <td>NaN</td>\n",
              "    </tr>\n",
              "    <tr>\n",
              "      <th>18782</th>\n",
              "      <td>20221031</td>\n",
              "      <td>6호선</td>\n",
              "      <td>청구</td>\n",
              "      <td>3842.0</td>\n",
              "      <td>4067.0</td>\n",
              "      <td>NaN</td>\n",
              "    </tr>\n",
              "    <tr>\n",
              "      <th>18783</th>\n",
              "      <td>20221031</td>\n",
              "      <td>6호선</td>\n",
              "      <td>신당</td>\n",
              "      <td>8136.0</td>\n",
              "      <td>8814.0</td>\n",
              "      <td>NaN</td>\n",
              "    </tr>\n",
              "    <tr>\n",
              "      <th>18784</th>\n",
              "      <td>20221031</td>\n",
              "      <td>6호선</td>\n",
              "      <td>동묘앞</td>\n",
              "      <td>8434.0</td>\n",
              "      <td>8751.0</td>\n",
              "      <td>NaN</td>\n",
              "    </tr>\n",
              "  </tbody>\n",
              "</table>\n",
              "<p>144788 rows × 6 columns</p>\n",
              "</div>\n",
              "      <button class=\"colab-df-convert\" onclick=\"convertToInteractive('df-eada302c-d79c-44f5-89d1-d6a7a31cd7fc')\"\n",
              "              title=\"Convert this dataframe to an interactive table.\"\n",
              "              style=\"display:none;\">\n",
              "        \n",
              "  <svg xmlns=\"http://www.w3.org/2000/svg\" height=\"24px\"viewBox=\"0 0 24 24\"\n",
              "       width=\"24px\">\n",
              "    <path d=\"M0 0h24v24H0V0z\" fill=\"none\"/>\n",
              "    <path d=\"M18.56 5.44l.94 2.06.94-2.06 2.06-.94-2.06-.94-.94-2.06-.94 2.06-2.06.94zm-11 1L8.5 8.5l.94-2.06 2.06-.94-2.06-.94L8.5 2.5l-.94 2.06-2.06.94zm10 10l.94 2.06.94-2.06 2.06-.94-2.06-.94-.94-2.06-.94 2.06-2.06.94z\"/><path d=\"M17.41 7.96l-1.37-1.37c-.4-.4-.92-.59-1.43-.59-.52 0-1.04.2-1.43.59L10.3 9.45l-7.72 7.72c-.78.78-.78 2.05 0 2.83L4 21.41c.39.39.9.59 1.41.59.51 0 1.02-.2 1.41-.59l7.78-7.78 2.81-2.81c.8-.78.8-2.07 0-2.86zM5.41 20L4 18.59l7.72-7.72 1.47 1.35L5.41 20z\"/>\n",
              "  </svg>\n",
              "      </button>\n",
              "      \n",
              "  <style>\n",
              "    .colab-df-container {\n",
              "      display:flex;\n",
              "      flex-wrap:wrap;\n",
              "      gap: 12px;\n",
              "    }\n",
              "\n",
              "    .colab-df-convert {\n",
              "      background-color: #E8F0FE;\n",
              "      border: none;\n",
              "      border-radius: 50%;\n",
              "      cursor: pointer;\n",
              "      display: none;\n",
              "      fill: #1967D2;\n",
              "      height: 32px;\n",
              "      padding: 0 0 0 0;\n",
              "      width: 32px;\n",
              "    }\n",
              "\n",
              "    .colab-df-convert:hover {\n",
              "      background-color: #E2EBFA;\n",
              "      box-shadow: 0px 1px 2px rgba(60, 64, 67, 0.3), 0px 1px 3px 1px rgba(60, 64, 67, 0.15);\n",
              "      fill: #174EA6;\n",
              "    }\n",
              "\n",
              "    [theme=dark] .colab-df-convert {\n",
              "      background-color: #3B4455;\n",
              "      fill: #D2E3FC;\n",
              "    }\n",
              "\n",
              "    [theme=dark] .colab-df-convert:hover {\n",
              "      background-color: #434B5C;\n",
              "      box-shadow: 0px 1px 3px 1px rgba(0, 0, 0, 0.15);\n",
              "      filter: drop-shadow(0px 1px 2px rgba(0, 0, 0, 0.3));\n",
              "      fill: #FFFFFF;\n",
              "    }\n",
              "  </style>\n",
              "\n",
              "      <script>\n",
              "        const buttonEl =\n",
              "          document.querySelector('#df-eada302c-d79c-44f5-89d1-d6a7a31cd7fc button.colab-df-convert');\n",
              "        buttonEl.style.display =\n",
              "          google.colab.kernel.accessAllowed ? 'block' : 'none';\n",
              "\n",
              "        async function convertToInteractive(key) {\n",
              "          const element = document.querySelector('#df-eada302c-d79c-44f5-89d1-d6a7a31cd7fc');\n",
              "          const dataTable =\n",
              "            await google.colab.kernel.invokeFunction('convertToInteractive',\n",
              "                                                     [key], {});\n",
              "          if (!dataTable) return;\n",
              "\n",
              "          const docLinkHtml = 'Like what you see? Visit the ' +\n",
              "            '<a target=\"_blank\" href=https://colab.research.google.com/notebooks/data_table.ipynb>data table notebook</a>'\n",
              "            + ' to learn more about interactive tables.';\n",
              "          element.innerHTML = '';\n",
              "          dataTable['output_type'] = 'display_data';\n",
              "          await google.colab.output.renderOutput(dataTable, element);\n",
              "          const docLink = document.createElement('div');\n",
              "          docLink.innerHTML = docLinkHtml;\n",
              "          element.appendChild(docLink);\n",
              "        }\n",
              "      </script>\n",
              "    </div>\n",
              "  </div>\n",
              "  "
            ]
          },
          "metadata": {},
          "execution_count": 9
        }
      ]
    },
    {
      "cell_type": "code",
      "source": [
        "df_10.rename(columns = {'사용일자':'UsedDate','노선명':'Line','역명':'Station','승차총승객수':'Board','하차총승객수':'Alight','등록일자':'Registration'}, inplace = True)\n",
        "df_10['Sum'] = df_10['Board']+df_10['Alight']\n",
        "df_10['Date'] = df_10['UsedDate']%10000\n",
        "\n",
        "pd.DataFrame(df_10)"
      ],
      "metadata": {
        "colab": {
          "base_uri": "https://localhost:8080/",
          "height": 423
        },
        "id": "UchP3meNSzBO",
        "outputId": "311e3968-88c2-4775-966f-bb7d1d39ab0f"
      },
      "execution_count": null,
      "outputs": [
        {
          "output_type": "execute_result",
          "data": {
            "text/plain": [
              "       UsedDate Line Station    Board   Alight  Registration      Sum  Date\n",
              "0      20151001  경인선      중동  11414.0  10683.0    20151217.0  22097.0  1001\n",
              "1      20151001  경인선      온수   8548.0   8035.0    20151217.0  16583.0  1001\n",
              "2      20151001  경인선      도원   4430.0   4544.0    20151217.0   8974.0  1001\n",
              "3      20151001  경인선      간석   7341.0   7088.0    20151217.0  14429.0  1001\n",
              "4      20151001  경인선      부개  11951.0  11093.0    20151217.0  23044.0  1001\n",
              "...         ...  ...     ...      ...      ...           ...      ...   ...\n",
              "18780  20221031  6호선    버티고개   2366.0   2239.0           NaN   4605.0  1031\n",
              "18781  20221031  6호선      약수   3778.0   3751.0           NaN   7529.0  1031\n",
              "18782  20221031  6호선      청구   3842.0   4067.0           NaN   7909.0  1031\n",
              "18783  20221031  6호선      신당   8136.0   8814.0           NaN  16950.0  1031\n",
              "18784  20221031  6호선     동묘앞   8434.0   8751.0           NaN  17185.0  1031\n",
              "\n",
              "[144788 rows x 8 columns]"
            ],
            "text/html": [
              "\n",
              "  <div id=\"df-9a5a3a69-8285-45a9-bf45-d4dc7d59f25e\">\n",
              "    <div class=\"colab-df-container\">\n",
              "      <div>\n",
              "<style scoped>\n",
              "    .dataframe tbody tr th:only-of-type {\n",
              "        vertical-align: middle;\n",
              "    }\n",
              "\n",
              "    .dataframe tbody tr th {\n",
              "        vertical-align: top;\n",
              "    }\n",
              "\n",
              "    .dataframe thead th {\n",
              "        text-align: right;\n",
              "    }\n",
              "</style>\n",
              "<table border=\"1\" class=\"dataframe\">\n",
              "  <thead>\n",
              "    <tr style=\"text-align: right;\">\n",
              "      <th></th>\n",
              "      <th>UsedDate</th>\n",
              "      <th>Line</th>\n",
              "      <th>Station</th>\n",
              "      <th>Board</th>\n",
              "      <th>Alight</th>\n",
              "      <th>Registration</th>\n",
              "      <th>Sum</th>\n",
              "      <th>Date</th>\n",
              "    </tr>\n",
              "  </thead>\n",
              "  <tbody>\n",
              "    <tr>\n",
              "      <th>0</th>\n",
              "      <td>20151001</td>\n",
              "      <td>경인선</td>\n",
              "      <td>중동</td>\n",
              "      <td>11414.0</td>\n",
              "      <td>10683.0</td>\n",
              "      <td>20151217.0</td>\n",
              "      <td>22097.0</td>\n",
              "      <td>1001</td>\n",
              "    </tr>\n",
              "    <tr>\n",
              "      <th>1</th>\n",
              "      <td>20151001</td>\n",
              "      <td>경인선</td>\n",
              "      <td>온수</td>\n",
              "      <td>8548.0</td>\n",
              "      <td>8035.0</td>\n",
              "      <td>20151217.0</td>\n",
              "      <td>16583.0</td>\n",
              "      <td>1001</td>\n",
              "    </tr>\n",
              "    <tr>\n",
              "      <th>2</th>\n",
              "      <td>20151001</td>\n",
              "      <td>경인선</td>\n",
              "      <td>도원</td>\n",
              "      <td>4430.0</td>\n",
              "      <td>4544.0</td>\n",
              "      <td>20151217.0</td>\n",
              "      <td>8974.0</td>\n",
              "      <td>1001</td>\n",
              "    </tr>\n",
              "    <tr>\n",
              "      <th>3</th>\n",
              "      <td>20151001</td>\n",
              "      <td>경인선</td>\n",
              "      <td>간석</td>\n",
              "      <td>7341.0</td>\n",
              "      <td>7088.0</td>\n",
              "      <td>20151217.0</td>\n",
              "      <td>14429.0</td>\n",
              "      <td>1001</td>\n",
              "    </tr>\n",
              "    <tr>\n",
              "      <th>4</th>\n",
              "      <td>20151001</td>\n",
              "      <td>경인선</td>\n",
              "      <td>부개</td>\n",
              "      <td>11951.0</td>\n",
              "      <td>11093.0</td>\n",
              "      <td>20151217.0</td>\n",
              "      <td>23044.0</td>\n",
              "      <td>1001</td>\n",
              "    </tr>\n",
              "    <tr>\n",
              "      <th>...</th>\n",
              "      <td>...</td>\n",
              "      <td>...</td>\n",
              "      <td>...</td>\n",
              "      <td>...</td>\n",
              "      <td>...</td>\n",
              "      <td>...</td>\n",
              "      <td>...</td>\n",
              "      <td>...</td>\n",
              "    </tr>\n",
              "    <tr>\n",
              "      <th>18780</th>\n",
              "      <td>20221031</td>\n",
              "      <td>6호선</td>\n",
              "      <td>버티고개</td>\n",
              "      <td>2366.0</td>\n",
              "      <td>2239.0</td>\n",
              "      <td>NaN</td>\n",
              "      <td>4605.0</td>\n",
              "      <td>1031</td>\n",
              "    </tr>\n",
              "    <tr>\n",
              "      <th>18781</th>\n",
              "      <td>20221031</td>\n",
              "      <td>6호선</td>\n",
              "      <td>약수</td>\n",
              "      <td>3778.0</td>\n",
              "      <td>3751.0</td>\n",
              "      <td>NaN</td>\n",
              "      <td>7529.0</td>\n",
              "      <td>1031</td>\n",
              "    </tr>\n",
              "    <tr>\n",
              "      <th>18782</th>\n",
              "      <td>20221031</td>\n",
              "      <td>6호선</td>\n",
              "      <td>청구</td>\n",
              "      <td>3842.0</td>\n",
              "      <td>4067.0</td>\n",
              "      <td>NaN</td>\n",
              "      <td>7909.0</td>\n",
              "      <td>1031</td>\n",
              "    </tr>\n",
              "    <tr>\n",
              "      <th>18783</th>\n",
              "      <td>20221031</td>\n",
              "      <td>6호선</td>\n",
              "      <td>신당</td>\n",
              "      <td>8136.0</td>\n",
              "      <td>8814.0</td>\n",
              "      <td>NaN</td>\n",
              "      <td>16950.0</td>\n",
              "      <td>1031</td>\n",
              "    </tr>\n",
              "    <tr>\n",
              "      <th>18784</th>\n",
              "      <td>20221031</td>\n",
              "      <td>6호선</td>\n",
              "      <td>동묘앞</td>\n",
              "      <td>8434.0</td>\n",
              "      <td>8751.0</td>\n",
              "      <td>NaN</td>\n",
              "      <td>17185.0</td>\n",
              "      <td>1031</td>\n",
              "    </tr>\n",
              "  </tbody>\n",
              "</table>\n",
              "<p>144788 rows × 8 columns</p>\n",
              "</div>\n",
              "      <button class=\"colab-df-convert\" onclick=\"convertToInteractive('df-9a5a3a69-8285-45a9-bf45-d4dc7d59f25e')\"\n",
              "              title=\"Convert this dataframe to an interactive table.\"\n",
              "              style=\"display:none;\">\n",
              "        \n",
              "  <svg xmlns=\"http://www.w3.org/2000/svg\" height=\"24px\"viewBox=\"0 0 24 24\"\n",
              "       width=\"24px\">\n",
              "    <path d=\"M0 0h24v24H0V0z\" fill=\"none\"/>\n",
              "    <path d=\"M18.56 5.44l.94 2.06.94-2.06 2.06-.94-2.06-.94-.94-2.06-.94 2.06-2.06.94zm-11 1L8.5 8.5l.94-2.06 2.06-.94-2.06-.94L8.5 2.5l-.94 2.06-2.06.94zm10 10l.94 2.06.94-2.06 2.06-.94-2.06-.94-.94-2.06-.94 2.06-2.06.94z\"/><path d=\"M17.41 7.96l-1.37-1.37c-.4-.4-.92-.59-1.43-.59-.52 0-1.04.2-1.43.59L10.3 9.45l-7.72 7.72c-.78.78-.78 2.05 0 2.83L4 21.41c.39.39.9.59 1.41.59.51 0 1.02-.2 1.41-.59l7.78-7.78 2.81-2.81c.8-.78.8-2.07 0-2.86zM5.41 20L4 18.59l7.72-7.72 1.47 1.35L5.41 20z\"/>\n",
              "  </svg>\n",
              "      </button>\n",
              "      \n",
              "  <style>\n",
              "    .colab-df-container {\n",
              "      display:flex;\n",
              "      flex-wrap:wrap;\n",
              "      gap: 12px;\n",
              "    }\n",
              "\n",
              "    .colab-df-convert {\n",
              "      background-color: #E8F0FE;\n",
              "      border: none;\n",
              "      border-radius: 50%;\n",
              "      cursor: pointer;\n",
              "      display: none;\n",
              "      fill: #1967D2;\n",
              "      height: 32px;\n",
              "      padding: 0 0 0 0;\n",
              "      width: 32px;\n",
              "    }\n",
              "\n",
              "    .colab-df-convert:hover {\n",
              "      background-color: #E2EBFA;\n",
              "      box-shadow: 0px 1px 2px rgba(60, 64, 67, 0.3), 0px 1px 3px 1px rgba(60, 64, 67, 0.15);\n",
              "      fill: #174EA6;\n",
              "    }\n",
              "\n",
              "    [theme=dark] .colab-df-convert {\n",
              "      background-color: #3B4455;\n",
              "      fill: #D2E3FC;\n",
              "    }\n",
              "\n",
              "    [theme=dark] .colab-df-convert:hover {\n",
              "      background-color: #434B5C;\n",
              "      box-shadow: 0px 1px 3px 1px rgba(0, 0, 0, 0.15);\n",
              "      filter: drop-shadow(0px 1px 2px rgba(0, 0, 0, 0.3));\n",
              "      fill: #FFFFFF;\n",
              "    }\n",
              "  </style>\n",
              "\n",
              "      <script>\n",
              "        const buttonEl =\n",
              "          document.querySelector('#df-9a5a3a69-8285-45a9-bf45-d4dc7d59f25e button.colab-df-convert');\n",
              "        buttonEl.style.display =\n",
              "          google.colab.kernel.accessAllowed ? 'block' : 'none';\n",
              "\n",
              "        async function convertToInteractive(key) {\n",
              "          const element = document.querySelector('#df-9a5a3a69-8285-45a9-bf45-d4dc7d59f25e');\n",
              "          const dataTable =\n",
              "            await google.colab.kernel.invokeFunction('convertToInteractive',\n",
              "                                                     [key], {});\n",
              "          if (!dataTable) return;\n",
              "\n",
              "          const docLinkHtml = 'Like what you see? Visit the ' +\n",
              "            '<a target=\"_blank\" href=https://colab.research.google.com/notebooks/data_table.ipynb>data table notebook</a>'\n",
              "            + ' to learn more about interactive tables.';\n",
              "          element.innerHTML = '';\n",
              "          dataTable['output_type'] = 'display_data';\n",
              "          await google.colab.output.renderOutput(dataTable, element);\n",
              "          const docLink = document.createElement('div');\n",
              "          docLink.innerHTML = docLinkHtml;\n",
              "          element.appendChild(docLink);\n",
              "        }\n",
              "      </script>\n",
              "    </div>\n",
              "  </div>\n",
              "  "
            ]
          },
          "metadata": {},
          "execution_count": 10
        }
      ]
    },
    {
      "cell_type": "markdown",
      "source": [
        "# 역별 데이터프레임 구성"
      ],
      "metadata": {
        "id": "o79FBanaL96U"
      }
    },
    {
      "cell_type": "code",
      "source": [
        "df_10_itw = df_10[df_10['Station']=='이태원']\n",
        "df_10_itw.sort_values(by = 'Sum',ascending = False).head(10)"
      ],
      "metadata": {
        "colab": {
          "base_uri": "https://localhost:8080/",
          "height": 363
        },
        "id": "UXm7_OE8j7or",
        "outputId": "9f267806-f872-4e5d-cae0-57f3aa9fd15f"
      },
      "execution_count": null,
      "outputs": [
        {
          "output_type": "execute_result",
          "data": {
            "text/plain": [
              "       UsedDate Line Station    Board   Alight  Registration       Sum  Date\n",
              "17166  20221029  6호선     이태원  48459.0  81362.0           NaN  129821.0  1029\n",
              "16570  20151031  6호선     이태원  37666.0  71712.0    20151217.0  109378.0  1031\n",
              "16103  20171028  6호선     이태원  39662.0  64310.0    20171031.0  103972.0  1028\n",
              "15665  20181027  6호선     이태원  40276.0  61902.0    20181030.0  102178.0  1027\n",
              "7558   20181013  6호선     이태원  43183.0  54732.0    20181016.0   97915.0  1013\n",
              "7792   20171014  6호선     이태원  42625.0  54618.0    20171017.0   97243.0  1014\n",
              "15215  20191026  6호선     이태원  38619.0  57844.0    20191029.0   96463.0  1026\n",
              "9015   20151017  6호선     이태원  40597.0  48892.0    20151217.0   89489.0  1017\n",
              "8113   20161015  6호선     이태원  39703.0  48687.0    20161023.0   88390.0  1015\n",
              "6949   20191012  6호선     이태원  38648.0  48537.0    20191015.0   87185.0  1012"
            ],
            "text/html": [
              "\n",
              "  <div id=\"df-6a7c6b42-9f16-4598-bc50-5c85b362ee74\">\n",
              "    <div class=\"colab-df-container\">\n",
              "      <div>\n",
              "<style scoped>\n",
              "    .dataframe tbody tr th:only-of-type {\n",
              "        vertical-align: middle;\n",
              "    }\n",
              "\n",
              "    .dataframe tbody tr th {\n",
              "        vertical-align: top;\n",
              "    }\n",
              "\n",
              "    .dataframe thead th {\n",
              "        text-align: right;\n",
              "    }\n",
              "</style>\n",
              "<table border=\"1\" class=\"dataframe\">\n",
              "  <thead>\n",
              "    <tr style=\"text-align: right;\">\n",
              "      <th></th>\n",
              "      <th>UsedDate</th>\n",
              "      <th>Line</th>\n",
              "      <th>Station</th>\n",
              "      <th>Board</th>\n",
              "      <th>Alight</th>\n",
              "      <th>Registration</th>\n",
              "      <th>Sum</th>\n",
              "      <th>Date</th>\n",
              "    </tr>\n",
              "  </thead>\n",
              "  <tbody>\n",
              "    <tr>\n",
              "      <th>17166</th>\n",
              "      <td>20221029</td>\n",
              "      <td>6호선</td>\n",
              "      <td>이태원</td>\n",
              "      <td>48459.0</td>\n",
              "      <td>81362.0</td>\n",
              "      <td>NaN</td>\n",
              "      <td>129821.0</td>\n",
              "      <td>1029</td>\n",
              "    </tr>\n",
              "    <tr>\n",
              "      <th>16570</th>\n",
              "      <td>20151031</td>\n",
              "      <td>6호선</td>\n",
              "      <td>이태원</td>\n",
              "      <td>37666.0</td>\n",
              "      <td>71712.0</td>\n",
              "      <td>20151217.0</td>\n",
              "      <td>109378.0</td>\n",
              "      <td>1031</td>\n",
              "    </tr>\n",
              "    <tr>\n",
              "      <th>16103</th>\n",
              "      <td>20171028</td>\n",
              "      <td>6호선</td>\n",
              "      <td>이태원</td>\n",
              "      <td>39662.0</td>\n",
              "      <td>64310.0</td>\n",
              "      <td>20171031.0</td>\n",
              "      <td>103972.0</td>\n",
              "      <td>1028</td>\n",
              "    </tr>\n",
              "    <tr>\n",
              "      <th>15665</th>\n",
              "      <td>20181027</td>\n",
              "      <td>6호선</td>\n",
              "      <td>이태원</td>\n",
              "      <td>40276.0</td>\n",
              "      <td>61902.0</td>\n",
              "      <td>20181030.0</td>\n",
              "      <td>102178.0</td>\n",
              "      <td>1027</td>\n",
              "    </tr>\n",
              "    <tr>\n",
              "      <th>7558</th>\n",
              "      <td>20181013</td>\n",
              "      <td>6호선</td>\n",
              "      <td>이태원</td>\n",
              "      <td>43183.0</td>\n",
              "      <td>54732.0</td>\n",
              "      <td>20181016.0</td>\n",
              "      <td>97915.0</td>\n",
              "      <td>1013</td>\n",
              "    </tr>\n",
              "    <tr>\n",
              "      <th>7792</th>\n",
              "      <td>20171014</td>\n",
              "      <td>6호선</td>\n",
              "      <td>이태원</td>\n",
              "      <td>42625.0</td>\n",
              "      <td>54618.0</td>\n",
              "      <td>20171017.0</td>\n",
              "      <td>97243.0</td>\n",
              "      <td>1014</td>\n",
              "    </tr>\n",
              "    <tr>\n",
              "      <th>15215</th>\n",
              "      <td>20191026</td>\n",
              "      <td>6호선</td>\n",
              "      <td>이태원</td>\n",
              "      <td>38619.0</td>\n",
              "      <td>57844.0</td>\n",
              "      <td>20191029.0</td>\n",
              "      <td>96463.0</td>\n",
              "      <td>1026</td>\n",
              "    </tr>\n",
              "    <tr>\n",
              "      <th>9015</th>\n",
              "      <td>20151017</td>\n",
              "      <td>6호선</td>\n",
              "      <td>이태원</td>\n",
              "      <td>40597.0</td>\n",
              "      <td>48892.0</td>\n",
              "      <td>20151217.0</td>\n",
              "      <td>89489.0</td>\n",
              "      <td>1017</td>\n",
              "    </tr>\n",
              "    <tr>\n",
              "      <th>8113</th>\n",
              "      <td>20161015</td>\n",
              "      <td>6호선</td>\n",
              "      <td>이태원</td>\n",
              "      <td>39703.0</td>\n",
              "      <td>48687.0</td>\n",
              "      <td>20161023.0</td>\n",
              "      <td>88390.0</td>\n",
              "      <td>1015</td>\n",
              "    </tr>\n",
              "    <tr>\n",
              "      <th>6949</th>\n",
              "      <td>20191012</td>\n",
              "      <td>6호선</td>\n",
              "      <td>이태원</td>\n",
              "      <td>38648.0</td>\n",
              "      <td>48537.0</td>\n",
              "      <td>20191015.0</td>\n",
              "      <td>87185.0</td>\n",
              "      <td>1012</td>\n",
              "    </tr>\n",
              "  </tbody>\n",
              "</table>\n",
              "</div>\n",
              "      <button class=\"colab-df-convert\" onclick=\"convertToInteractive('df-6a7c6b42-9f16-4598-bc50-5c85b362ee74')\"\n",
              "              title=\"Convert this dataframe to an interactive table.\"\n",
              "              style=\"display:none;\">\n",
              "        \n",
              "  <svg xmlns=\"http://www.w3.org/2000/svg\" height=\"24px\"viewBox=\"0 0 24 24\"\n",
              "       width=\"24px\">\n",
              "    <path d=\"M0 0h24v24H0V0z\" fill=\"none\"/>\n",
              "    <path d=\"M18.56 5.44l.94 2.06.94-2.06 2.06-.94-2.06-.94-.94-2.06-.94 2.06-2.06.94zm-11 1L8.5 8.5l.94-2.06 2.06-.94-2.06-.94L8.5 2.5l-.94 2.06-2.06.94zm10 10l.94 2.06.94-2.06 2.06-.94-2.06-.94-.94-2.06-.94 2.06-2.06.94z\"/><path d=\"M17.41 7.96l-1.37-1.37c-.4-.4-.92-.59-1.43-.59-.52 0-1.04.2-1.43.59L10.3 9.45l-7.72 7.72c-.78.78-.78 2.05 0 2.83L4 21.41c.39.39.9.59 1.41.59.51 0 1.02-.2 1.41-.59l7.78-7.78 2.81-2.81c.8-.78.8-2.07 0-2.86zM5.41 20L4 18.59l7.72-7.72 1.47 1.35L5.41 20z\"/>\n",
              "  </svg>\n",
              "      </button>\n",
              "      \n",
              "  <style>\n",
              "    .colab-df-container {\n",
              "      display:flex;\n",
              "      flex-wrap:wrap;\n",
              "      gap: 12px;\n",
              "    }\n",
              "\n",
              "    .colab-df-convert {\n",
              "      background-color: #E8F0FE;\n",
              "      border: none;\n",
              "      border-radius: 50%;\n",
              "      cursor: pointer;\n",
              "      display: none;\n",
              "      fill: #1967D2;\n",
              "      height: 32px;\n",
              "      padding: 0 0 0 0;\n",
              "      width: 32px;\n",
              "    }\n",
              "\n",
              "    .colab-df-convert:hover {\n",
              "      background-color: #E2EBFA;\n",
              "      box-shadow: 0px 1px 2px rgba(60, 64, 67, 0.3), 0px 1px 3px 1px rgba(60, 64, 67, 0.15);\n",
              "      fill: #174EA6;\n",
              "    }\n",
              "\n",
              "    [theme=dark] .colab-df-convert {\n",
              "      background-color: #3B4455;\n",
              "      fill: #D2E3FC;\n",
              "    }\n",
              "\n",
              "    [theme=dark] .colab-df-convert:hover {\n",
              "      background-color: #434B5C;\n",
              "      box-shadow: 0px 1px 3px 1px rgba(0, 0, 0, 0.15);\n",
              "      filter: drop-shadow(0px 1px 2px rgba(0, 0, 0, 0.3));\n",
              "      fill: #FFFFFF;\n",
              "    }\n",
              "  </style>\n",
              "\n",
              "      <script>\n",
              "        const buttonEl =\n",
              "          document.querySelector('#df-6a7c6b42-9f16-4598-bc50-5c85b362ee74 button.colab-df-convert');\n",
              "        buttonEl.style.display =\n",
              "          google.colab.kernel.accessAllowed ? 'block' : 'none';\n",
              "\n",
              "        async function convertToInteractive(key) {\n",
              "          const element = document.querySelector('#df-6a7c6b42-9f16-4598-bc50-5c85b362ee74');\n",
              "          const dataTable =\n",
              "            await google.colab.kernel.invokeFunction('convertToInteractive',\n",
              "                                                     [key], {});\n",
              "          if (!dataTable) return;\n",
              "\n",
              "          const docLinkHtml = 'Like what you see? Visit the ' +\n",
              "            '<a target=\"_blank\" href=https://colab.research.google.com/notebooks/data_table.ipynb>data table notebook</a>'\n",
              "            + ' to learn more about interactive tables.';\n",
              "          element.innerHTML = '';\n",
              "          dataTable['output_type'] = 'display_data';\n",
              "          await google.colab.output.renderOutput(dataTable, element);\n",
              "          const docLink = document.createElement('div');\n",
              "          docLink.innerHTML = docLinkHtml;\n",
              "          element.appendChild(docLink);\n",
              "        }\n",
              "      </script>\n",
              "    </div>\n",
              "  </div>\n",
              "  "
            ]
          },
          "metadata": {},
          "execution_count": 10
        }
      ]
    },
    {
      "cell_type": "code",
      "source": [
        "df_10_itw.groupby('Date').mean().sort_values(by = 'Sum',ascending = False, inplace = False).head(5)"
      ],
      "metadata": {
        "colab": {
          "base_uri": "https://localhost:8080/",
          "height": 237
        },
        "id": "ToWiNOCjUh28",
        "outputId": "75bbfca7-0d62-48cd-a3af-784f348514c4"
      },
      "execution_count": null,
      "outputs": [
        {
          "output_type": "execute_result",
          "data": {
            "text/plain": [
              "        UsedDate      Board     Alight  Registration        Sum\n",
              "Date                                                           \n",
              "1031  20186031.0  23735.000  32468.500    20171126.8  56203.500\n",
              "1029  20186029.0  22695.750  28395.375    20171125.2  51091.125\n",
              "1028  20186028.0  20568.000  25079.250    20171083.0  45647.250\n",
              "1015  20186015.0  20845.125  23392.375    20171058.8  44237.500\n",
              "1027  20186027.0  19324.500  22905.500    20171082.2  42230.000"
            ],
            "text/html": [
              "\n",
              "  <div id=\"df-011c9a04-2050-4c78-829c-3d3fa3e44372\">\n",
              "    <div class=\"colab-df-container\">\n",
              "      <div>\n",
              "<style scoped>\n",
              "    .dataframe tbody tr th:only-of-type {\n",
              "        vertical-align: middle;\n",
              "    }\n",
              "\n",
              "    .dataframe tbody tr th {\n",
              "        vertical-align: top;\n",
              "    }\n",
              "\n",
              "    .dataframe thead th {\n",
              "        text-align: right;\n",
              "    }\n",
              "</style>\n",
              "<table border=\"1\" class=\"dataframe\">\n",
              "  <thead>\n",
              "    <tr style=\"text-align: right;\">\n",
              "      <th></th>\n",
              "      <th>UsedDate</th>\n",
              "      <th>Board</th>\n",
              "      <th>Alight</th>\n",
              "      <th>Registration</th>\n",
              "      <th>Sum</th>\n",
              "    </tr>\n",
              "    <tr>\n",
              "      <th>Date</th>\n",
              "      <th></th>\n",
              "      <th></th>\n",
              "      <th></th>\n",
              "      <th></th>\n",
              "      <th></th>\n",
              "    </tr>\n",
              "  </thead>\n",
              "  <tbody>\n",
              "    <tr>\n",
              "      <th>1031</th>\n",
              "      <td>20186031.0</td>\n",
              "      <td>23735.000</td>\n",
              "      <td>32468.500</td>\n",
              "      <td>20171126.8</td>\n",
              "      <td>56203.500</td>\n",
              "    </tr>\n",
              "    <tr>\n",
              "      <th>1029</th>\n",
              "      <td>20186029.0</td>\n",
              "      <td>22695.750</td>\n",
              "      <td>28395.375</td>\n",
              "      <td>20171125.2</td>\n",
              "      <td>51091.125</td>\n",
              "    </tr>\n",
              "    <tr>\n",
              "      <th>1028</th>\n",
              "      <td>20186028.0</td>\n",
              "      <td>20568.000</td>\n",
              "      <td>25079.250</td>\n",
              "      <td>20171083.0</td>\n",
              "      <td>45647.250</td>\n",
              "    </tr>\n",
              "    <tr>\n",
              "      <th>1015</th>\n",
              "      <td>20186015.0</td>\n",
              "      <td>20845.125</td>\n",
              "      <td>23392.375</td>\n",
              "      <td>20171058.8</td>\n",
              "      <td>44237.500</td>\n",
              "    </tr>\n",
              "    <tr>\n",
              "      <th>1027</th>\n",
              "      <td>20186027.0</td>\n",
              "      <td>19324.500</td>\n",
              "      <td>22905.500</td>\n",
              "      <td>20171082.2</td>\n",
              "      <td>42230.000</td>\n",
              "    </tr>\n",
              "  </tbody>\n",
              "</table>\n",
              "</div>\n",
              "      <button class=\"colab-df-convert\" onclick=\"convertToInteractive('df-011c9a04-2050-4c78-829c-3d3fa3e44372')\"\n",
              "              title=\"Convert this dataframe to an interactive table.\"\n",
              "              style=\"display:none;\">\n",
              "        \n",
              "  <svg xmlns=\"http://www.w3.org/2000/svg\" height=\"24px\"viewBox=\"0 0 24 24\"\n",
              "       width=\"24px\">\n",
              "    <path d=\"M0 0h24v24H0V0z\" fill=\"none\"/>\n",
              "    <path d=\"M18.56 5.44l.94 2.06.94-2.06 2.06-.94-2.06-.94-.94-2.06-.94 2.06-2.06.94zm-11 1L8.5 8.5l.94-2.06 2.06-.94-2.06-.94L8.5 2.5l-.94 2.06-2.06.94zm10 10l.94 2.06.94-2.06 2.06-.94-2.06-.94-.94-2.06-.94 2.06-2.06.94z\"/><path d=\"M17.41 7.96l-1.37-1.37c-.4-.4-.92-.59-1.43-.59-.52 0-1.04.2-1.43.59L10.3 9.45l-7.72 7.72c-.78.78-.78 2.05 0 2.83L4 21.41c.39.39.9.59 1.41.59.51 0 1.02-.2 1.41-.59l7.78-7.78 2.81-2.81c.8-.78.8-2.07 0-2.86zM5.41 20L4 18.59l7.72-7.72 1.47 1.35L5.41 20z\"/>\n",
              "  </svg>\n",
              "      </button>\n",
              "      \n",
              "  <style>\n",
              "    .colab-df-container {\n",
              "      display:flex;\n",
              "      flex-wrap:wrap;\n",
              "      gap: 12px;\n",
              "    }\n",
              "\n",
              "    .colab-df-convert {\n",
              "      background-color: #E8F0FE;\n",
              "      border: none;\n",
              "      border-radius: 50%;\n",
              "      cursor: pointer;\n",
              "      display: none;\n",
              "      fill: #1967D2;\n",
              "      height: 32px;\n",
              "      padding: 0 0 0 0;\n",
              "      width: 32px;\n",
              "    }\n",
              "\n",
              "    .colab-df-convert:hover {\n",
              "      background-color: #E2EBFA;\n",
              "      box-shadow: 0px 1px 2px rgba(60, 64, 67, 0.3), 0px 1px 3px 1px rgba(60, 64, 67, 0.15);\n",
              "      fill: #174EA6;\n",
              "    }\n",
              "\n",
              "    [theme=dark] .colab-df-convert {\n",
              "      background-color: #3B4455;\n",
              "      fill: #D2E3FC;\n",
              "    }\n",
              "\n",
              "    [theme=dark] .colab-df-convert:hover {\n",
              "      background-color: #434B5C;\n",
              "      box-shadow: 0px 1px 3px 1px rgba(0, 0, 0, 0.15);\n",
              "      filter: drop-shadow(0px 1px 2px rgba(0, 0, 0, 0.3));\n",
              "      fill: #FFFFFF;\n",
              "    }\n",
              "  </style>\n",
              "\n",
              "      <script>\n",
              "        const buttonEl =\n",
              "          document.querySelector('#df-011c9a04-2050-4c78-829c-3d3fa3e44372 button.colab-df-convert');\n",
              "        buttonEl.style.display =\n",
              "          google.colab.kernel.accessAllowed ? 'block' : 'none';\n",
              "\n",
              "        async function convertToInteractive(key) {\n",
              "          const element = document.querySelector('#df-011c9a04-2050-4c78-829c-3d3fa3e44372');\n",
              "          const dataTable =\n",
              "            await google.colab.kernel.invokeFunction('convertToInteractive',\n",
              "                                                     [key], {});\n",
              "          if (!dataTable) return;\n",
              "\n",
              "          const docLinkHtml = 'Like what you see? Visit the ' +\n",
              "            '<a target=\"_blank\" href=https://colab.research.google.com/notebooks/data_table.ipynb>data table notebook</a>'\n",
              "            + ' to learn more about interactive tables.';\n",
              "          element.innerHTML = '';\n",
              "          dataTable['output_type'] = 'display_data';\n",
              "          await google.colab.output.renderOutput(dataTable, element);\n",
              "          const docLink = document.createElement('div');\n",
              "          docLink.innerHTML = docLinkHtml;\n",
              "          element.appendChild(docLink);\n",
              "        }\n",
              "      </script>\n",
              "    </div>\n",
              "  </div>\n",
              "  "
            ]
          },
          "metadata": {},
          "execution_count": 11
        }
      ]
    },
    {
      "cell_type": "code",
      "source": [
        "df_10_31 = df_10[df_10['Date']==1031]\n",
        "df_10_31.sort_values(by = 'Sum',ascending = False).head(5)"
      ],
      "metadata": {
        "id": "dKl-V_6WUpm1",
        "colab": {
          "base_uri": "https://localhost:8080/",
          "height": 206
        },
        "outputId": "ddaf6a81-2b5a-4611-931c-c475e8698ce0"
      },
      "execution_count": null,
      "outputs": [
        {
          "output_type": "execute_result",
          "data": {
            "text/plain": [
              "       UsedDate Line Station     Board    Alight  Registration       Sum  Date\n",
              "17688  20181031  2호선      강남  110611.0  110664.0    20181103.0  221275.0  1031\n",
              "17787  20191031  2호선      강남  108061.0  110902.0    20191103.0  218963.0  1031\n",
              "16860  20151031  2호선    홍대입구   96434.0  121168.0    20151217.0  217602.0  1031\n",
              "17667  20171031  2호선      강남  105742.0  104916.0    20171103.0  210658.0  1031\n",
              "17209  20161031  2호선      강남   99256.0   99104.0    20161108.0  198360.0  1031"
            ],
            "text/html": [
              "\n",
              "  <div id=\"df-486e5d29-0108-4d4b-a9fb-11e539421a03\">\n",
              "    <div class=\"colab-df-container\">\n",
              "      <div>\n",
              "<style scoped>\n",
              "    .dataframe tbody tr th:only-of-type {\n",
              "        vertical-align: middle;\n",
              "    }\n",
              "\n",
              "    .dataframe tbody tr th {\n",
              "        vertical-align: top;\n",
              "    }\n",
              "\n",
              "    .dataframe thead th {\n",
              "        text-align: right;\n",
              "    }\n",
              "</style>\n",
              "<table border=\"1\" class=\"dataframe\">\n",
              "  <thead>\n",
              "    <tr style=\"text-align: right;\">\n",
              "      <th></th>\n",
              "      <th>UsedDate</th>\n",
              "      <th>Line</th>\n",
              "      <th>Station</th>\n",
              "      <th>Board</th>\n",
              "      <th>Alight</th>\n",
              "      <th>Registration</th>\n",
              "      <th>Sum</th>\n",
              "      <th>Date</th>\n",
              "    </tr>\n",
              "  </thead>\n",
              "  <tbody>\n",
              "    <tr>\n",
              "      <th>17688</th>\n",
              "      <td>20181031</td>\n",
              "      <td>2호선</td>\n",
              "      <td>강남</td>\n",
              "      <td>110611.0</td>\n",
              "      <td>110664.0</td>\n",
              "      <td>20181103.0</td>\n",
              "      <td>221275.0</td>\n",
              "      <td>1031</td>\n",
              "    </tr>\n",
              "    <tr>\n",
              "      <th>17787</th>\n",
              "      <td>20191031</td>\n",
              "      <td>2호선</td>\n",
              "      <td>강남</td>\n",
              "      <td>108061.0</td>\n",
              "      <td>110902.0</td>\n",
              "      <td>20191103.0</td>\n",
              "      <td>218963.0</td>\n",
              "      <td>1031</td>\n",
              "    </tr>\n",
              "    <tr>\n",
              "      <th>16860</th>\n",
              "      <td>20151031</td>\n",
              "      <td>2호선</td>\n",
              "      <td>홍대입구</td>\n",
              "      <td>96434.0</td>\n",
              "      <td>121168.0</td>\n",
              "      <td>20151217.0</td>\n",
              "      <td>217602.0</td>\n",
              "      <td>1031</td>\n",
              "    </tr>\n",
              "    <tr>\n",
              "      <th>17667</th>\n",
              "      <td>20171031</td>\n",
              "      <td>2호선</td>\n",
              "      <td>강남</td>\n",
              "      <td>105742.0</td>\n",
              "      <td>104916.0</td>\n",
              "      <td>20171103.0</td>\n",
              "      <td>210658.0</td>\n",
              "      <td>1031</td>\n",
              "    </tr>\n",
              "    <tr>\n",
              "      <th>17209</th>\n",
              "      <td>20161031</td>\n",
              "      <td>2호선</td>\n",
              "      <td>강남</td>\n",
              "      <td>99256.0</td>\n",
              "      <td>99104.0</td>\n",
              "      <td>20161108.0</td>\n",
              "      <td>198360.0</td>\n",
              "      <td>1031</td>\n",
              "    </tr>\n",
              "  </tbody>\n",
              "</table>\n",
              "</div>\n",
              "      <button class=\"colab-df-convert\" onclick=\"convertToInteractive('df-486e5d29-0108-4d4b-a9fb-11e539421a03')\"\n",
              "              title=\"Convert this dataframe to an interactive table.\"\n",
              "              style=\"display:none;\">\n",
              "        \n",
              "  <svg xmlns=\"http://www.w3.org/2000/svg\" height=\"24px\"viewBox=\"0 0 24 24\"\n",
              "       width=\"24px\">\n",
              "    <path d=\"M0 0h24v24H0V0z\" fill=\"none\"/>\n",
              "    <path d=\"M18.56 5.44l.94 2.06.94-2.06 2.06-.94-2.06-.94-.94-2.06-.94 2.06-2.06.94zm-11 1L8.5 8.5l.94-2.06 2.06-.94-2.06-.94L8.5 2.5l-.94 2.06-2.06.94zm10 10l.94 2.06.94-2.06 2.06-.94-2.06-.94-.94-2.06-.94 2.06-2.06.94z\"/><path d=\"M17.41 7.96l-1.37-1.37c-.4-.4-.92-.59-1.43-.59-.52 0-1.04.2-1.43.59L10.3 9.45l-7.72 7.72c-.78.78-.78 2.05 0 2.83L4 21.41c.39.39.9.59 1.41.59.51 0 1.02-.2 1.41-.59l7.78-7.78 2.81-2.81c.8-.78.8-2.07 0-2.86zM5.41 20L4 18.59l7.72-7.72 1.47 1.35L5.41 20z\"/>\n",
              "  </svg>\n",
              "      </button>\n",
              "      \n",
              "  <style>\n",
              "    .colab-df-container {\n",
              "      display:flex;\n",
              "      flex-wrap:wrap;\n",
              "      gap: 12px;\n",
              "    }\n",
              "\n",
              "    .colab-df-convert {\n",
              "      background-color: #E8F0FE;\n",
              "      border: none;\n",
              "      border-radius: 50%;\n",
              "      cursor: pointer;\n",
              "      display: none;\n",
              "      fill: #1967D2;\n",
              "      height: 32px;\n",
              "      padding: 0 0 0 0;\n",
              "      width: 32px;\n",
              "    }\n",
              "\n",
              "    .colab-df-convert:hover {\n",
              "      background-color: #E2EBFA;\n",
              "      box-shadow: 0px 1px 2px rgba(60, 64, 67, 0.3), 0px 1px 3px 1px rgba(60, 64, 67, 0.15);\n",
              "      fill: #174EA6;\n",
              "    }\n",
              "\n",
              "    [theme=dark] .colab-df-convert {\n",
              "      background-color: #3B4455;\n",
              "      fill: #D2E3FC;\n",
              "    }\n",
              "\n",
              "    [theme=dark] .colab-df-convert:hover {\n",
              "      background-color: #434B5C;\n",
              "      box-shadow: 0px 1px 3px 1px rgba(0, 0, 0, 0.15);\n",
              "      filter: drop-shadow(0px 1px 2px rgba(0, 0, 0, 0.3));\n",
              "      fill: #FFFFFF;\n",
              "    }\n",
              "  </style>\n",
              "\n",
              "      <script>\n",
              "        const buttonEl =\n",
              "          document.querySelector('#df-486e5d29-0108-4d4b-a9fb-11e539421a03 button.colab-df-convert');\n",
              "        buttonEl.style.display =\n",
              "          google.colab.kernel.accessAllowed ? 'block' : 'none';\n",
              "\n",
              "        async function convertToInteractive(key) {\n",
              "          const element = document.querySelector('#df-486e5d29-0108-4d4b-a9fb-11e539421a03');\n",
              "          const dataTable =\n",
              "            await google.colab.kernel.invokeFunction('convertToInteractive',\n",
              "                                                     [key], {});\n",
              "          if (!dataTable) return;\n",
              "\n",
              "          const docLinkHtml = 'Like what you see? Visit the ' +\n",
              "            '<a target=\"_blank\" href=https://colab.research.google.com/notebooks/data_table.ipynb>data table notebook</a>'\n",
              "            + ' to learn more about interactive tables.';\n",
              "          element.innerHTML = '';\n",
              "          dataTable['output_type'] = 'display_data';\n",
              "          await google.colab.output.renderOutput(dataTable, element);\n",
              "          const docLink = document.createElement('div');\n",
              "          docLink.innerHTML = docLinkHtml;\n",
              "          element.appendChild(docLink);\n",
              "        }\n",
              "      </script>\n",
              "    </div>\n",
              "  </div>\n",
              "  "
            ]
          },
          "metadata": {},
          "execution_count": 12
        }
      ]
    },
    {
      "cell_type": "code",
      "source": [
        "df_10_31.groupby('Station').mean().sort_values(by = 'Sum',ascending = False, inplace = False).head(5)"
      ],
      "metadata": {
        "colab": {
          "base_uri": "https://localhost:8080/",
          "height": 237
        },
        "id": "SN6ozmjjjLER",
        "outputId": "7dd1c977-956f-4c8c-ff1f-88c61a95c788"
      },
      "execution_count": null,
      "outputs": [
        {
          "output_type": "execute_result",
          "data": {
            "text/plain": [
              "             UsedDate         Board        Alight  Registration  \\\n",
              "Station                                                           \n",
              "강남       2.018603e+07  86248.125000  87333.625000    20171126.8   \n",
              "강변       2.015103e+07  60977.000000  61505.000000    20151217.0   \n",
              "구로디지털단지  2.018603e+07  58410.750000  58101.750000    20171126.8   \n",
              "신림       2.018992e+07  59072.444444  57145.666667    20171126.8   \n",
              "잠실       2.015103e+07  56342.000000  51242.000000    20151217.0   \n",
              "\n",
              "                   Sum    Date  \n",
              "Station                         \n",
              "강남       173581.750000  1031.0  \n",
              "강변       122482.000000  1031.0  \n",
              "구로디지털단지  116512.500000  1031.0  \n",
              "신림       116218.111111  1031.0  \n",
              "잠실       107584.000000  1031.0  "
            ],
            "text/html": [
              "\n",
              "  <div id=\"df-049fd88d-5979-411f-a046-4f8b2594e1df\">\n",
              "    <div class=\"colab-df-container\">\n",
              "      <div>\n",
              "<style scoped>\n",
              "    .dataframe tbody tr th:only-of-type {\n",
              "        vertical-align: middle;\n",
              "    }\n",
              "\n",
              "    .dataframe tbody tr th {\n",
              "        vertical-align: top;\n",
              "    }\n",
              "\n",
              "    .dataframe thead th {\n",
              "        text-align: right;\n",
              "    }\n",
              "</style>\n",
              "<table border=\"1\" class=\"dataframe\">\n",
              "  <thead>\n",
              "    <tr style=\"text-align: right;\">\n",
              "      <th></th>\n",
              "      <th>UsedDate</th>\n",
              "      <th>Board</th>\n",
              "      <th>Alight</th>\n",
              "      <th>Registration</th>\n",
              "      <th>Sum</th>\n",
              "      <th>Date</th>\n",
              "    </tr>\n",
              "    <tr>\n",
              "      <th>Station</th>\n",
              "      <th></th>\n",
              "      <th></th>\n",
              "      <th></th>\n",
              "      <th></th>\n",
              "      <th></th>\n",
              "      <th></th>\n",
              "    </tr>\n",
              "  </thead>\n",
              "  <tbody>\n",
              "    <tr>\n",
              "      <th>강남</th>\n",
              "      <td>2.018603e+07</td>\n",
              "      <td>86248.125000</td>\n",
              "      <td>87333.625000</td>\n",
              "      <td>20171126.8</td>\n",
              "      <td>173581.750000</td>\n",
              "      <td>1031.0</td>\n",
              "    </tr>\n",
              "    <tr>\n",
              "      <th>강변</th>\n",
              "      <td>2.015103e+07</td>\n",
              "      <td>60977.000000</td>\n",
              "      <td>61505.000000</td>\n",
              "      <td>20151217.0</td>\n",
              "      <td>122482.000000</td>\n",
              "      <td>1031.0</td>\n",
              "    </tr>\n",
              "    <tr>\n",
              "      <th>구로디지털단지</th>\n",
              "      <td>2.018603e+07</td>\n",
              "      <td>58410.750000</td>\n",
              "      <td>58101.750000</td>\n",
              "      <td>20171126.8</td>\n",
              "      <td>116512.500000</td>\n",
              "      <td>1031.0</td>\n",
              "    </tr>\n",
              "    <tr>\n",
              "      <th>신림</th>\n",
              "      <td>2.018992e+07</td>\n",
              "      <td>59072.444444</td>\n",
              "      <td>57145.666667</td>\n",
              "      <td>20171126.8</td>\n",
              "      <td>116218.111111</td>\n",
              "      <td>1031.0</td>\n",
              "    </tr>\n",
              "    <tr>\n",
              "      <th>잠실</th>\n",
              "      <td>2.015103e+07</td>\n",
              "      <td>56342.000000</td>\n",
              "      <td>51242.000000</td>\n",
              "      <td>20151217.0</td>\n",
              "      <td>107584.000000</td>\n",
              "      <td>1031.0</td>\n",
              "    </tr>\n",
              "  </tbody>\n",
              "</table>\n",
              "</div>\n",
              "      <button class=\"colab-df-convert\" onclick=\"convertToInteractive('df-049fd88d-5979-411f-a046-4f8b2594e1df')\"\n",
              "              title=\"Convert this dataframe to an interactive table.\"\n",
              "              style=\"display:none;\">\n",
              "        \n",
              "  <svg xmlns=\"http://www.w3.org/2000/svg\" height=\"24px\"viewBox=\"0 0 24 24\"\n",
              "       width=\"24px\">\n",
              "    <path d=\"M0 0h24v24H0V0z\" fill=\"none\"/>\n",
              "    <path d=\"M18.56 5.44l.94 2.06.94-2.06 2.06-.94-2.06-.94-.94-2.06-.94 2.06-2.06.94zm-11 1L8.5 8.5l.94-2.06 2.06-.94-2.06-.94L8.5 2.5l-.94 2.06-2.06.94zm10 10l.94 2.06.94-2.06 2.06-.94-2.06-.94-.94-2.06-.94 2.06-2.06.94z\"/><path d=\"M17.41 7.96l-1.37-1.37c-.4-.4-.92-.59-1.43-.59-.52 0-1.04.2-1.43.59L10.3 9.45l-7.72 7.72c-.78.78-.78 2.05 0 2.83L4 21.41c.39.39.9.59 1.41.59.51 0 1.02-.2 1.41-.59l7.78-7.78 2.81-2.81c.8-.78.8-2.07 0-2.86zM5.41 20L4 18.59l7.72-7.72 1.47 1.35L5.41 20z\"/>\n",
              "  </svg>\n",
              "      </button>\n",
              "      \n",
              "  <style>\n",
              "    .colab-df-container {\n",
              "      display:flex;\n",
              "      flex-wrap:wrap;\n",
              "      gap: 12px;\n",
              "    }\n",
              "\n",
              "    .colab-df-convert {\n",
              "      background-color: #E8F0FE;\n",
              "      border: none;\n",
              "      border-radius: 50%;\n",
              "      cursor: pointer;\n",
              "      display: none;\n",
              "      fill: #1967D2;\n",
              "      height: 32px;\n",
              "      padding: 0 0 0 0;\n",
              "      width: 32px;\n",
              "    }\n",
              "\n",
              "    .colab-df-convert:hover {\n",
              "      background-color: #E2EBFA;\n",
              "      box-shadow: 0px 1px 2px rgba(60, 64, 67, 0.3), 0px 1px 3px 1px rgba(60, 64, 67, 0.15);\n",
              "      fill: #174EA6;\n",
              "    }\n",
              "\n",
              "    [theme=dark] .colab-df-convert {\n",
              "      background-color: #3B4455;\n",
              "      fill: #D2E3FC;\n",
              "    }\n",
              "\n",
              "    [theme=dark] .colab-df-convert:hover {\n",
              "      background-color: #434B5C;\n",
              "      box-shadow: 0px 1px 3px 1px rgba(0, 0, 0, 0.15);\n",
              "      filter: drop-shadow(0px 1px 2px rgba(0, 0, 0, 0.3));\n",
              "      fill: #FFFFFF;\n",
              "    }\n",
              "  </style>\n",
              "\n",
              "      <script>\n",
              "        const buttonEl =\n",
              "          document.querySelector('#df-049fd88d-5979-411f-a046-4f8b2594e1df button.colab-df-convert');\n",
              "        buttonEl.style.display =\n",
              "          google.colab.kernel.accessAllowed ? 'block' : 'none';\n",
              "\n",
              "        async function convertToInteractive(key) {\n",
              "          const element = document.querySelector('#df-049fd88d-5979-411f-a046-4f8b2594e1df');\n",
              "          const dataTable =\n",
              "            await google.colab.kernel.invokeFunction('convertToInteractive',\n",
              "                                                     [key], {});\n",
              "          if (!dataTable) return;\n",
              "\n",
              "          const docLinkHtml = 'Like what you see? Visit the ' +\n",
              "            '<a target=\"_blank\" href=https://colab.research.google.com/notebooks/data_table.ipynb>data table notebook</a>'\n",
              "            + ' to learn more about interactive tables.';\n",
              "          element.innerHTML = '';\n",
              "          dataTable['output_type'] = 'display_data';\n",
              "          await google.colab.output.renderOutput(dataTable, element);\n",
              "          const docLink = document.createElement('div');\n",
              "          docLink.innerHTML = docLinkHtml;\n",
              "          element.appendChild(docLink);\n",
              "        }\n",
              "      </script>\n",
              "    </div>\n",
              "  </div>\n",
              "  "
            ]
          },
          "metadata": {},
          "execution_count": 13
        }
      ]
    },
    {
      "cell_type": "markdown",
      "source": [
        "10/31만 뽑아봤는데 실질적으로 의미 X"
      ],
      "metadata": {
        "id": "O7ein_QYvmWr"
      }
    },
    {
      "cell_type": "markdown",
      "source": [
        "# T-test (양측검정)"
      ],
      "metadata": {
        "id": "tjDFskhAPVQt"
      }
    },
    {
      "cell_type": "markdown",
      "source": [
        "할로윈 당일, 할로윈 포함 주 금요일이나 일요일 토요일에 가장 많이 몰리는 것 확인"
      ],
      "metadata": {
        "id": "oG-a-ty1vqUT"
      }
    },
    {
      "cell_type": "code",
      "source": [
        "from scipy import stats"
      ],
      "metadata": {
        "id": "3LnoDRfZPZgS"
      },
      "execution_count": null,
      "outputs": []
    },
    {
      "cell_type": "code",
      "source": [
        "df_itw_isHallo = df_10_itw[df_10_itw['Date']==1031]\n",
        "pd.DataFrame(df_itw_isHallo['Sum'])\n"
      ],
      "metadata": {
        "colab": {
          "base_uri": "https://localhost:8080/",
          "height": 300
        },
        "id": "Mhwk45gsxNAe",
        "outputId": "a4282e88-5f40-4b65-e701-08d0ce1ec354"
      },
      "execution_count": null,
      "outputs": [
        {
          "output_type": "execute_result",
          "data": {
            "text/plain": [
              "            Sum\n",
              "16570  109378.0\n",
              "17348   40335.0\n",
              "17812   52782.0\n",
              "17676   64771.0\n",
              "18195   83568.0\n",
              "18356   30122.0\n",
              "18388   45136.0\n",
              "18778   23536.0"
            ],
            "text/html": [
              "\n",
              "  <div id=\"df-0b204862-aaa2-423f-9e8c-9717c04d2fef\">\n",
              "    <div class=\"colab-df-container\">\n",
              "      <div>\n",
              "<style scoped>\n",
              "    .dataframe tbody tr th:only-of-type {\n",
              "        vertical-align: middle;\n",
              "    }\n",
              "\n",
              "    .dataframe tbody tr th {\n",
              "        vertical-align: top;\n",
              "    }\n",
              "\n",
              "    .dataframe thead th {\n",
              "        text-align: right;\n",
              "    }\n",
              "</style>\n",
              "<table border=\"1\" class=\"dataframe\">\n",
              "  <thead>\n",
              "    <tr style=\"text-align: right;\">\n",
              "      <th></th>\n",
              "      <th>Sum</th>\n",
              "    </tr>\n",
              "  </thead>\n",
              "  <tbody>\n",
              "    <tr>\n",
              "      <th>16570</th>\n",
              "      <td>109378.0</td>\n",
              "    </tr>\n",
              "    <tr>\n",
              "      <th>17348</th>\n",
              "      <td>40335.0</td>\n",
              "    </tr>\n",
              "    <tr>\n",
              "      <th>17812</th>\n",
              "      <td>52782.0</td>\n",
              "    </tr>\n",
              "    <tr>\n",
              "      <th>17676</th>\n",
              "      <td>64771.0</td>\n",
              "    </tr>\n",
              "    <tr>\n",
              "      <th>18195</th>\n",
              "      <td>83568.0</td>\n",
              "    </tr>\n",
              "    <tr>\n",
              "      <th>18356</th>\n",
              "      <td>30122.0</td>\n",
              "    </tr>\n",
              "    <tr>\n",
              "      <th>18388</th>\n",
              "      <td>45136.0</td>\n",
              "    </tr>\n",
              "    <tr>\n",
              "      <th>18778</th>\n",
              "      <td>23536.0</td>\n",
              "    </tr>\n",
              "  </tbody>\n",
              "</table>\n",
              "</div>\n",
              "      <button class=\"colab-df-convert\" onclick=\"convertToInteractive('df-0b204862-aaa2-423f-9e8c-9717c04d2fef')\"\n",
              "              title=\"Convert this dataframe to an interactive table.\"\n",
              "              style=\"display:none;\">\n",
              "        \n",
              "  <svg xmlns=\"http://www.w3.org/2000/svg\" height=\"24px\"viewBox=\"0 0 24 24\"\n",
              "       width=\"24px\">\n",
              "    <path d=\"M0 0h24v24H0V0z\" fill=\"none\"/>\n",
              "    <path d=\"M18.56 5.44l.94 2.06.94-2.06 2.06-.94-2.06-.94-.94-2.06-.94 2.06-2.06.94zm-11 1L8.5 8.5l.94-2.06 2.06-.94-2.06-.94L8.5 2.5l-.94 2.06-2.06.94zm10 10l.94 2.06.94-2.06 2.06-.94-2.06-.94-.94-2.06-.94 2.06-2.06.94z\"/><path d=\"M17.41 7.96l-1.37-1.37c-.4-.4-.92-.59-1.43-.59-.52 0-1.04.2-1.43.59L10.3 9.45l-7.72 7.72c-.78.78-.78 2.05 0 2.83L4 21.41c.39.39.9.59 1.41.59.51 0 1.02-.2 1.41-.59l7.78-7.78 2.81-2.81c.8-.78.8-2.07 0-2.86zM5.41 20L4 18.59l7.72-7.72 1.47 1.35L5.41 20z\"/>\n",
              "  </svg>\n",
              "      </button>\n",
              "      \n",
              "  <style>\n",
              "    .colab-df-container {\n",
              "      display:flex;\n",
              "      flex-wrap:wrap;\n",
              "      gap: 12px;\n",
              "    }\n",
              "\n",
              "    .colab-df-convert {\n",
              "      background-color: #E8F0FE;\n",
              "      border: none;\n",
              "      border-radius: 50%;\n",
              "      cursor: pointer;\n",
              "      display: none;\n",
              "      fill: #1967D2;\n",
              "      height: 32px;\n",
              "      padding: 0 0 0 0;\n",
              "      width: 32px;\n",
              "    }\n",
              "\n",
              "    .colab-df-convert:hover {\n",
              "      background-color: #E2EBFA;\n",
              "      box-shadow: 0px 1px 2px rgba(60, 64, 67, 0.3), 0px 1px 3px 1px rgba(60, 64, 67, 0.15);\n",
              "      fill: #174EA6;\n",
              "    }\n",
              "\n",
              "    [theme=dark] .colab-df-convert {\n",
              "      background-color: #3B4455;\n",
              "      fill: #D2E3FC;\n",
              "    }\n",
              "\n",
              "    [theme=dark] .colab-df-convert:hover {\n",
              "      background-color: #434B5C;\n",
              "      box-shadow: 0px 1px 3px 1px rgba(0, 0, 0, 0.15);\n",
              "      filter: drop-shadow(0px 1px 2px rgba(0, 0, 0, 0.3));\n",
              "      fill: #FFFFFF;\n",
              "    }\n",
              "  </style>\n",
              "\n",
              "      <script>\n",
              "        const buttonEl =\n",
              "          document.querySelector('#df-0b204862-aaa2-423f-9e8c-9717c04d2fef button.colab-df-convert');\n",
              "        buttonEl.style.display =\n",
              "          google.colab.kernel.accessAllowed ? 'block' : 'none';\n",
              "\n",
              "        async function convertToInteractive(key) {\n",
              "          const element = document.querySelector('#df-0b204862-aaa2-423f-9e8c-9717c04d2fef');\n",
              "          const dataTable =\n",
              "            await google.colab.kernel.invokeFunction('convertToInteractive',\n",
              "                                                     [key], {});\n",
              "          if (!dataTable) return;\n",
              "\n",
              "          const docLinkHtml = 'Like what you see? Visit the ' +\n",
              "            '<a target=\"_blank\" href=https://colab.research.google.com/notebooks/data_table.ipynb>data table notebook</a>'\n",
              "            + ' to learn more about interactive tables.';\n",
              "          element.innerHTML = '';\n",
              "          dataTable['output_type'] = 'display_data';\n",
              "          await google.colab.output.renderOutput(dataTable, element);\n",
              "          const docLink = document.createElement('div');\n",
              "          docLink.innerHTML = docLinkHtml;\n",
              "          element.appendChild(docLink);\n",
              "        }\n",
              "      </script>\n",
              "    </div>\n",
              "  </div>\n",
              "  "
            ]
          },
          "metadata": {},
          "execution_count": 15
        }
      ]
    },
    {
      "cell_type": "code",
      "source": [
        "itw = df_10_itw\n",
        "HalloSats = [itw[itw['UsedDate']==20151031], itw[itw['UsedDate']==20161029],itw[itw['UsedDate']==20171028], itw[itw['UsedDate']==20181027], itw[itw['UsedDate']==20191026],itw[itw['UsedDate']==20201031],itw[itw['UsedDate']==20211030],itw[itw['UsedDate']==20221029]]\n",
        "\n",
        "df_itw_HalloSats = pd.concat(HalloSats, axis = 0)\n",
        "pd.DataFrame(df_itw_HalloSats['Sum'])"
      ],
      "metadata": {
        "id": "QwiXGFKD0koJ",
        "colab": {
          "base_uri": "https://localhost:8080/",
          "height": 300
        },
        "outputId": "95431ef0-fed4-46c9-e2c2-aede44b23c4e"
      },
      "execution_count": null,
      "outputs": [
        {
          "output_type": "execute_result",
          "data": {
            "text/plain": [
              "            Sum\n",
              "16570  109378.0\n",
              "15955   83765.0\n",
              "16103  103972.0\n",
              "15665  102178.0\n",
              "15215   96463.0\n",
              "18356   30122.0\n",
              "17773   59220.0\n",
              "17166  129821.0"
            ],
            "text/html": [
              "\n",
              "  <div id=\"df-a69551d4-429c-45b7-891d-62628abb2e9b\">\n",
              "    <div class=\"colab-df-container\">\n",
              "      <div>\n",
              "<style scoped>\n",
              "    .dataframe tbody tr th:only-of-type {\n",
              "        vertical-align: middle;\n",
              "    }\n",
              "\n",
              "    .dataframe tbody tr th {\n",
              "        vertical-align: top;\n",
              "    }\n",
              "\n",
              "    .dataframe thead th {\n",
              "        text-align: right;\n",
              "    }\n",
              "</style>\n",
              "<table border=\"1\" class=\"dataframe\">\n",
              "  <thead>\n",
              "    <tr style=\"text-align: right;\">\n",
              "      <th></th>\n",
              "      <th>Sum</th>\n",
              "    </tr>\n",
              "  </thead>\n",
              "  <tbody>\n",
              "    <tr>\n",
              "      <th>16570</th>\n",
              "      <td>109378.0</td>\n",
              "    </tr>\n",
              "    <tr>\n",
              "      <th>15955</th>\n",
              "      <td>83765.0</td>\n",
              "    </tr>\n",
              "    <tr>\n",
              "      <th>16103</th>\n",
              "      <td>103972.0</td>\n",
              "    </tr>\n",
              "    <tr>\n",
              "      <th>15665</th>\n",
              "      <td>102178.0</td>\n",
              "    </tr>\n",
              "    <tr>\n",
              "      <th>15215</th>\n",
              "      <td>96463.0</td>\n",
              "    </tr>\n",
              "    <tr>\n",
              "      <th>18356</th>\n",
              "      <td>30122.0</td>\n",
              "    </tr>\n",
              "    <tr>\n",
              "      <th>17773</th>\n",
              "      <td>59220.0</td>\n",
              "    </tr>\n",
              "    <tr>\n",
              "      <th>17166</th>\n",
              "      <td>129821.0</td>\n",
              "    </tr>\n",
              "  </tbody>\n",
              "</table>\n",
              "</div>\n",
              "      <button class=\"colab-df-convert\" onclick=\"convertToInteractive('df-a69551d4-429c-45b7-891d-62628abb2e9b')\"\n",
              "              title=\"Convert this dataframe to an interactive table.\"\n",
              "              style=\"display:none;\">\n",
              "        \n",
              "  <svg xmlns=\"http://www.w3.org/2000/svg\" height=\"24px\"viewBox=\"0 0 24 24\"\n",
              "       width=\"24px\">\n",
              "    <path d=\"M0 0h24v24H0V0z\" fill=\"none\"/>\n",
              "    <path d=\"M18.56 5.44l.94 2.06.94-2.06 2.06-.94-2.06-.94-.94-2.06-.94 2.06-2.06.94zm-11 1L8.5 8.5l.94-2.06 2.06-.94-2.06-.94L8.5 2.5l-.94 2.06-2.06.94zm10 10l.94 2.06.94-2.06 2.06-.94-2.06-.94-.94-2.06-.94 2.06-2.06.94z\"/><path d=\"M17.41 7.96l-1.37-1.37c-.4-.4-.92-.59-1.43-.59-.52 0-1.04.2-1.43.59L10.3 9.45l-7.72 7.72c-.78.78-.78 2.05 0 2.83L4 21.41c.39.39.9.59 1.41.59.51 0 1.02-.2 1.41-.59l7.78-7.78 2.81-2.81c.8-.78.8-2.07 0-2.86zM5.41 20L4 18.59l7.72-7.72 1.47 1.35L5.41 20z\"/>\n",
              "  </svg>\n",
              "      </button>\n",
              "      \n",
              "  <style>\n",
              "    .colab-df-container {\n",
              "      display:flex;\n",
              "      flex-wrap:wrap;\n",
              "      gap: 12px;\n",
              "    }\n",
              "\n",
              "    .colab-df-convert {\n",
              "      background-color: #E8F0FE;\n",
              "      border: none;\n",
              "      border-radius: 50%;\n",
              "      cursor: pointer;\n",
              "      display: none;\n",
              "      fill: #1967D2;\n",
              "      height: 32px;\n",
              "      padding: 0 0 0 0;\n",
              "      width: 32px;\n",
              "    }\n",
              "\n",
              "    .colab-df-convert:hover {\n",
              "      background-color: #E2EBFA;\n",
              "      box-shadow: 0px 1px 2px rgba(60, 64, 67, 0.3), 0px 1px 3px 1px rgba(60, 64, 67, 0.15);\n",
              "      fill: #174EA6;\n",
              "    }\n",
              "\n",
              "    [theme=dark] .colab-df-convert {\n",
              "      background-color: #3B4455;\n",
              "      fill: #D2E3FC;\n",
              "    }\n",
              "\n",
              "    [theme=dark] .colab-df-convert:hover {\n",
              "      background-color: #434B5C;\n",
              "      box-shadow: 0px 1px 3px 1px rgba(0, 0, 0, 0.15);\n",
              "      filter: drop-shadow(0px 1px 2px rgba(0, 0, 0, 0.3));\n",
              "      fill: #FFFFFF;\n",
              "    }\n",
              "  </style>\n",
              "\n",
              "      <script>\n",
              "        const buttonEl =\n",
              "          document.querySelector('#df-a69551d4-429c-45b7-891d-62628abb2e9b button.colab-df-convert');\n",
              "        buttonEl.style.display =\n",
              "          google.colab.kernel.accessAllowed ? 'block' : 'none';\n",
              "\n",
              "        async function convertToInteractive(key) {\n",
              "          const element = document.querySelector('#df-a69551d4-429c-45b7-891d-62628abb2e9b');\n",
              "          const dataTable =\n",
              "            await google.colab.kernel.invokeFunction('convertToInteractive',\n",
              "                                                     [key], {});\n",
              "          if (!dataTable) return;\n",
              "\n",
              "          const docLinkHtml = 'Like what you see? Visit the ' +\n",
              "            '<a target=\"_blank\" href=https://colab.research.google.com/notebooks/data_table.ipynb>data table notebook</a>'\n",
              "            + ' to learn more about interactive tables.';\n",
              "          element.innerHTML = '';\n",
              "          dataTable['output_type'] = 'display_data';\n",
              "          await google.colab.output.renderOutput(dataTable, element);\n",
              "          const docLink = document.createElement('div');\n",
              "          docLink.innerHTML = docLinkHtml;\n",
              "          element.appendChild(docLink);\n",
              "        }\n",
              "      </script>\n",
              "    </div>\n",
              "  </div>\n",
              "  "
            ]
          },
          "metadata": {},
          "execution_count": 16
        }
      ]
    },
    {
      "cell_type": "code",
      "source": [
        "HalloSuns = [itw[itw['UsedDate']==20161030],itw[itw['UsedDate']==20171029], itw[itw['UsedDate']==20181028], itw[itw['UsedDate']==20191027],itw[itw['UsedDate']==20211031],itw[itw['UsedDate']==20221030]]\n",
        "\n",
        "df_itw_HalloSuns = pd.concat(HalloSuns, axis = 0)\n",
        "pd.DataFrame(df_itw_HalloSuns['Sum'])\n",
        "\n",
        "HalloFris = [itw[itw['UsedDate']==20151030], itw[itw['UsedDate']==20161028],itw[itw['UsedDate']==20171027], itw[itw['UsedDate']==20181026], itw[itw['UsedDate']==20191025],itw[itw['UsedDate']==20201030],itw[itw['UsedDate']==20211029],itw[itw['UsedDate']==20221028]]\n",
        "\n",
        "df_itw_HalloFris = pd.concat(HalloFris, axis = 0)\n",
        "pd.DataFrame(df_itw_HalloFris['Sum'])"
      ],
      "metadata": {
        "colab": {
          "base_uri": "https://localhost:8080/",
          "height": 300
        },
        "id": "17jjLgc6ye-k",
        "outputId": "559e0d8f-2586-4e97-bacd-c01d7aed2fa4"
      },
      "execution_count": null,
      "outputs": [
        {
          "output_type": "execute_result",
          "data": {
            "text/plain": [
              "           Sum\n",
              "16086  53674.0\n",
              "15797  51280.0\n",
              "15086  58457.0\n",
              "15011  54487.0\n",
              "14625  57254.0\n",
              "17571  23962.0\n",
              "17097  30341.0\n",
              "16590  59783.0"
            ],
            "text/html": [
              "\n",
              "  <div id=\"df-73b56eaf-6e0a-4f8a-a927-f25b56678788\">\n",
              "    <div class=\"colab-df-container\">\n",
              "      <div>\n",
              "<style scoped>\n",
              "    .dataframe tbody tr th:only-of-type {\n",
              "        vertical-align: middle;\n",
              "    }\n",
              "\n",
              "    .dataframe tbody tr th {\n",
              "        vertical-align: top;\n",
              "    }\n",
              "\n",
              "    .dataframe thead th {\n",
              "        text-align: right;\n",
              "    }\n",
              "</style>\n",
              "<table border=\"1\" class=\"dataframe\">\n",
              "  <thead>\n",
              "    <tr style=\"text-align: right;\">\n",
              "      <th></th>\n",
              "      <th>Sum</th>\n",
              "    </tr>\n",
              "  </thead>\n",
              "  <tbody>\n",
              "    <tr>\n",
              "      <th>16086</th>\n",
              "      <td>53674.0</td>\n",
              "    </tr>\n",
              "    <tr>\n",
              "      <th>15797</th>\n",
              "      <td>51280.0</td>\n",
              "    </tr>\n",
              "    <tr>\n",
              "      <th>15086</th>\n",
              "      <td>58457.0</td>\n",
              "    </tr>\n",
              "    <tr>\n",
              "      <th>15011</th>\n",
              "      <td>54487.0</td>\n",
              "    </tr>\n",
              "    <tr>\n",
              "      <th>14625</th>\n",
              "      <td>57254.0</td>\n",
              "    </tr>\n",
              "    <tr>\n",
              "      <th>17571</th>\n",
              "      <td>23962.0</td>\n",
              "    </tr>\n",
              "    <tr>\n",
              "      <th>17097</th>\n",
              "      <td>30341.0</td>\n",
              "    </tr>\n",
              "    <tr>\n",
              "      <th>16590</th>\n",
              "      <td>59783.0</td>\n",
              "    </tr>\n",
              "  </tbody>\n",
              "</table>\n",
              "</div>\n",
              "      <button class=\"colab-df-convert\" onclick=\"convertToInteractive('df-73b56eaf-6e0a-4f8a-a927-f25b56678788')\"\n",
              "              title=\"Convert this dataframe to an interactive table.\"\n",
              "              style=\"display:none;\">\n",
              "        \n",
              "  <svg xmlns=\"http://www.w3.org/2000/svg\" height=\"24px\"viewBox=\"0 0 24 24\"\n",
              "       width=\"24px\">\n",
              "    <path d=\"M0 0h24v24H0V0z\" fill=\"none\"/>\n",
              "    <path d=\"M18.56 5.44l.94 2.06.94-2.06 2.06-.94-2.06-.94-.94-2.06-.94 2.06-2.06.94zm-11 1L8.5 8.5l.94-2.06 2.06-.94-2.06-.94L8.5 2.5l-.94 2.06-2.06.94zm10 10l.94 2.06.94-2.06 2.06-.94-2.06-.94-.94-2.06-.94 2.06-2.06.94z\"/><path d=\"M17.41 7.96l-1.37-1.37c-.4-.4-.92-.59-1.43-.59-.52 0-1.04.2-1.43.59L10.3 9.45l-7.72 7.72c-.78.78-.78 2.05 0 2.83L4 21.41c.39.39.9.59 1.41.59.51 0 1.02-.2 1.41-.59l7.78-7.78 2.81-2.81c.8-.78.8-2.07 0-2.86zM5.41 20L4 18.59l7.72-7.72 1.47 1.35L5.41 20z\"/>\n",
              "  </svg>\n",
              "      </button>\n",
              "      \n",
              "  <style>\n",
              "    .colab-df-container {\n",
              "      display:flex;\n",
              "      flex-wrap:wrap;\n",
              "      gap: 12px;\n",
              "    }\n",
              "\n",
              "    .colab-df-convert {\n",
              "      background-color: #E8F0FE;\n",
              "      border: none;\n",
              "      border-radius: 50%;\n",
              "      cursor: pointer;\n",
              "      display: none;\n",
              "      fill: #1967D2;\n",
              "      height: 32px;\n",
              "      padding: 0 0 0 0;\n",
              "      width: 32px;\n",
              "    }\n",
              "\n",
              "    .colab-df-convert:hover {\n",
              "      background-color: #E2EBFA;\n",
              "      box-shadow: 0px 1px 2px rgba(60, 64, 67, 0.3), 0px 1px 3px 1px rgba(60, 64, 67, 0.15);\n",
              "      fill: #174EA6;\n",
              "    }\n",
              "\n",
              "    [theme=dark] .colab-df-convert {\n",
              "      background-color: #3B4455;\n",
              "      fill: #D2E3FC;\n",
              "    }\n",
              "\n",
              "    [theme=dark] .colab-df-convert:hover {\n",
              "      background-color: #434B5C;\n",
              "      box-shadow: 0px 1px 3px 1px rgba(0, 0, 0, 0.15);\n",
              "      filter: drop-shadow(0px 1px 2px rgba(0, 0, 0, 0.3));\n",
              "      fill: #FFFFFF;\n",
              "    }\n",
              "  </style>\n",
              "\n",
              "      <script>\n",
              "        const buttonEl =\n",
              "          document.querySelector('#df-73b56eaf-6e0a-4f8a-a927-f25b56678788 button.colab-df-convert');\n",
              "        buttonEl.style.display =\n",
              "          google.colab.kernel.accessAllowed ? 'block' : 'none';\n",
              "\n",
              "        async function convertToInteractive(key) {\n",
              "          const element = document.querySelector('#df-73b56eaf-6e0a-4f8a-a927-f25b56678788');\n",
              "          const dataTable =\n",
              "            await google.colab.kernel.invokeFunction('convertToInteractive',\n",
              "                                                     [key], {});\n",
              "          if (!dataTable) return;\n",
              "\n",
              "          const docLinkHtml = 'Like what you see? Visit the ' +\n",
              "            '<a target=\"_blank\" href=https://colab.research.google.com/notebooks/data_table.ipynb>data table notebook</a>'\n",
              "            + ' to learn more about interactive tables.';\n",
              "          element.innerHTML = '';\n",
              "          dataTable['output_type'] = 'display_data';\n",
              "          await google.colab.output.renderOutput(dataTable, element);\n",
              "          const docLink = document.createElement('div');\n",
              "          docLink.innerHTML = docLinkHtml;\n",
              "          element.appendChild(docLink);\n",
              "        }\n",
              "      </script>\n",
              "    </div>\n",
              "  </div>\n",
              "  "
            ]
          },
          "metadata": {},
          "execution_count": 17
        }
      ]
    },
    {
      "cell_type": "code",
      "source": [
        "print(df_itw_isHallo['Sum'].mean())\n",
        "print(df_itw_HalloFris['Sum'].mean())\n",
        "print(df_itw_HalloSats['Sum'].mean())\n",
        "print(df_itw_HalloSuns['Sum'].mean())\n",
        "print(df_10_itw['Sum'].mean())"
      ],
      "metadata": {
        "colab": {
          "base_uri": "https://localhost:8080/"
        },
        "id": "IhcB8ei8zpPh",
        "outputId": "edfa4917-57fd-4523-a611-d6b821857059"
      },
      "execution_count": null,
      "outputs": [
        {
          "output_type": "stream",
          "name": "stdout",
          "text": [
            "56203.5\n",
            "48654.75\n",
            "89364.875\n",
            "45071.666666666664\n",
            "34987.83064516129\n"
          ]
        }
      ]
    },
    {
      "cell_type": "markdown",
      "source": [
        "이태원에는 할로윈이 포함된 토요일에 사람이 통계적으로 유의미하게 많이 몰리는 것으로 드러남"
      ],
      "metadata": {
        "id": "T8gd0PL7KgID"
      }
    },
    {
      "cell_type": "code",
      "source": [
        "con1 = itw['UsedDate']==20151031\n",
        "con2 = itw['UsedDate']==20161029\n",
        "con3 = itw['UsedDate']==20171028\n",
        "con4 = itw['UsedDate']==20181027\n",
        "con5 = itw['UsedDate']==20191026\n",
        "con6 = itw['UsedDate']==20201031\n",
        "con7 = itw['UsedDate']==20211030\n",
        "con8 = itw['UsedDate']==20221029\n",
        "\n",
        "df_itw_HalloSats_Y = itw.loc[con1 | con2 | con3 | con4 | con5 | con6 | con7 | con8,'Sum']\n",
        "df_itw_HalloSats_N = itw.loc[~con1 & ~con2 & ~con3 & ~con4 & ~con5 & ~con6 & ~con7 & ~con8,'Sum']"
      ],
      "metadata": {
        "id": "87fKZH6n5AY6"
      },
      "execution_count": null,
      "outputs": []
    },
    {
      "cell_type": "code",
      "source": [
        "print(df_itw_HalloSats_Y.mean())\n",
        "print(df_itw_HalloSats_N.mean())"
      ],
      "metadata": {
        "colab": {
          "base_uri": "https://localhost:8080/"
        },
        "id": "y01YnPxt7azp",
        "outputId": "b6ea999a-c241-4210-e56c-3239710efd57"
      },
      "execution_count": null,
      "outputs": [
        {
          "output_type": "stream",
          "name": "stdout",
          "text": [
            "89364.875\n",
            "33175.2625\n"
          ]
        }
      ]
    },
    {
      "cell_type": "code",
      "source": [
        "t_stat, p_value = stats.ttest_ind(df_itw_HalloSats_Y, df_itw_HalloSats_N, equal_var=True, alternative=\"two-sided\")\n",
        "print(\"t-statistics : {}, p-value : {}\".format(t_stat, p_value))"
      ],
      "metadata": {
        "colab": {
          "base_uri": "https://localhost:8080/"
        },
        "id": "3iGbtBtx3mJw",
        "outputId": "2d6e1c6a-9846-4afe-8829-d3ab247d7577"
      },
      "execution_count": null,
      "outputs": [
        {
          "output_type": "stream",
          "name": "stdout",
          "text": [
            "t-statistics : 9.809361719803801, p-value : 2.1982369067894003e-19\n"
          ]
        }
      ]
    },
    {
      "cell_type": "markdown",
      "source": [
        "그에 반해 할로윈에 사람이 가장 많았던 상위 5개의 역은 강변, 구로디지털단지 제외 통계적으로 유의미하게 차이 없는 것 확인"
      ],
      "metadata": {
        "id": "k4AHpvNXKoCI"
      }
    },
    {
      "cell_type": "code",
      "source": [
        "df_10_gn = df_10[df_10['Station']=='강남']\n",
        "gn = df_10_gn\n",
        "\n",
        "con1 = gn['UsedDate']==20151031\n",
        "con2 = gn['UsedDate']==20161029\n",
        "con3 = gn['UsedDate']==20171028\n",
        "con4 = gn['UsedDate']==20181027\n",
        "con5 = gn['UsedDate']==20191026\n",
        "con6 = gn['UsedDate']==20201031\n",
        "con7 = gn['UsedDate']==20211030\n",
        "con8 = gn['UsedDate']==20221029\n",
        "\n",
        "df_gn_HalloSats_Y = gn.loc[con1 | con2 | con3 | con4 | con5 | con6 | con7 | con8,'Sum']\n",
        "df_gn_HalloSats_N = gn.loc[~con1 & ~con2 & ~con3 & ~con4 & ~con5 & ~con6 & ~con7 & ~con8,'Sum']\n",
        "\n",
        "t_stat, p_value = stats.ttest_ind(df_gn_HalloSats_Y, df_gn_HalloSats_N, equal_var=True, alternative=\"two-sided\")\n",
        "print(\"t-statistics : {}, p-value : {}\".format(t_stat, p_value))\n",
        "print(df_gn_HalloSats_Y.mean())\n",
        "print(df_gn_HalloSats_N.mean())"
      ],
      "metadata": {
        "colab": {
          "base_uri": "https://localhost:8080/"
        },
        "id": "46lX85P6_N2t",
        "outputId": "f142b044-2336-458d-d87b-4a8cd382fb40"
      },
      "execution_count": null,
      "outputs": [
        {
          "output_type": "stream",
          "name": "stdout",
          "text": [
            "t-statistics : -0.15033213811854, p-value : 0.8806257669035565\n",
            "165940.75\n",
            "168835.05416666667\n"
          ]
        }
      ]
    },
    {
      "cell_type": "markdown",
      "source": [
        "강변은 차이가 통계적으로 유의미한 것으로 나오지만 이태원만큼 엄청난 정도는 아님"
      ],
      "metadata": {
        "id": "r9EcDAhyNDkH"
      }
    },
    {
      "cell_type": "code",
      "source": [
        "df_10_gb = pd.concat([df_10[df_10['Station']=='강변'], df_10[df_10['Station']=='강변(동서울터미널)']],axis = 0)\n",
        "gb = df_10_gb\n",
        "\n",
        "con1 = gb['UsedDate']==20151031\n",
        "con2 = gb['UsedDate']==20161029\n",
        "con3 = gb['UsedDate']==20171028\n",
        "con4 = gb['UsedDate']==20181027\n",
        "con5 = gb['UsedDate']==20191026\n",
        "con6 = gb['UsedDate']==20201031\n",
        "con7 = gb['UsedDate']==20211030\n",
        "con8 = gb['UsedDate']==20221029\n",
        "\n",
        "\n",
        "df_gb_HalloSats_Y = gb.loc[con1 | con2 | con3 | con4 | con5 | con6 | con7 | con8,'Sum']\n",
        "df_gb_HalloSats_N = gb.loc[~con1 & ~con2 & ~con3 & ~con4 & ~con5 & ~con6 & ~con7 & ~con8,'Sum']\n",
        "\n",
        "t_stat, p_value = stats.ttest_ind(df_gb_HalloSats_Y, df_gb_HalloSats_N, equal_var=True, alternative=\"two-sided\")\n",
        "print(\"t-statistics : {}, p-value : {}\".format(t_stat, p_value))"
      ],
      "metadata": {
        "id": "bVTz2ANgCvb3",
        "colab": {
          "base_uri": "https://localhost:8080/"
        },
        "outputId": "7b8f5e1a-b717-444c-b308-09ce214c37ee"
      },
      "execution_count": null,
      "outputs": [
        {
          "output_type": "stream",
          "name": "stdout",
          "text": [
            "t-statistics : 2.0869694541965256, p-value : 0.03792058678124269\n"
          ]
        }
      ]
    },
    {
      "cell_type": "markdown",
      "source": [
        "단순한 추정으로는 그냥 주말이라 터미널에 사람이 몰려서 그런듯(추가 분석 필요!!)"
      ],
      "metadata": {
        "id": "k9Aw3yYgNjNP"
      }
    },
    {
      "cell_type": "code",
      "source": [
        "print(df_gb_HalloSats_Y.mean())\n",
        "print(df_gb_HalloSats_N.mean())"
      ],
      "metadata": {
        "colab": {
          "base_uri": "https://localhost:8080/"
        },
        "id": "TFwIQjARNLs2",
        "outputId": "b4fd2a9f-9b71-422b-8b97-f6beca0a5388"
      },
      "execution_count": null,
      "outputs": [
        {
          "output_type": "stream",
          "name": "stdout",
          "text": [
            "98243.625\n",
            "81338.93333333333\n"
          ]
        }
      ]
    },
    {
      "cell_type": "markdown",
      "source": [
        "구로디지털단지는 회사가 많은 지역이라 그런지 주말에 오히려 통행인구수가 적은 것 확인(강변 case와 같이 추가분석 필요)"
      ],
      "metadata": {
        "id": "Zh_YfZkzK4p_"
      }
    },
    {
      "cell_type": "code",
      "source": [
        "df_10_gd = df_10[df_10['Station']=='구로디지털단지']\n",
        "gd = df_10_gd\n",
        "\n",
        "con1 = gd['UsedDate']==20151031\n",
        "con2 = gd['UsedDate']==20161029\n",
        "con3 = gd['UsedDate']==20171028\n",
        "con4 = gd['UsedDate']==20181027\n",
        "con5 = gd['UsedDate']==20191026\n",
        "con6 = gd['UsedDate']==20201031\n",
        "con7 = gd['UsedDate']==20211030\n",
        "con8 = gd['UsedDate']==20221029\n",
        "\n",
        "\n",
        "df_gd_HalloSats_Y = gd.loc[con1 | con2 | con3 | con4 | con5 | con6 | con7 | con8,'Sum']\n",
        "df_gd_HalloSats_N = gd.loc[~con1 & ~con2 & ~con3 & ~con4 & ~con5 & ~con6 & ~con7 & ~con8,'Sum']\n",
        "\n",
        "t_stat, p_value = stats.ttest_ind(df_gd_HalloSats_Y, df_gd_HalloSats_N, equal_var=True, alternative=\"two-sided\")\n",
        "print(\"t-statistics : {}, p-value : {}\".format(t_stat, p_value))"
      ],
      "metadata": {
        "colab": {
          "base_uri": "https://localhost:8080/"
        },
        "id": "i1Us5lkaF9kf",
        "outputId": "5074715e-f180-48c6-e318-104371b27f4f"
      },
      "execution_count": null,
      "outputs": [
        {
          "output_type": "stream",
          "name": "stdout",
          "text": [
            "t-statistics : -1.970418133780219, p-value : 0.049911897131078437\n"
          ]
        }
      ]
    },
    {
      "cell_type": "code",
      "source": [
        "df_10_sl = df_10[df_10['Station']=='신림'] #2호선 + 신림선 개통으로 데이터 양 살짝 더 많음음\n",
        "sl = df_10_sl\n",
        "\n",
        "con1 = sl['UsedDate']==20151031\n",
        "con2 = sl['UsedDate']==20161029\n",
        "con3 = sl['UsedDate']==20171028\n",
        "con4 = sl['UsedDate']==20181027\n",
        "con5 = sl['UsedDate']==20191026\n",
        "con6 = sl['UsedDate']==20201031\n",
        "con7 = sl['UsedDate']==20211030\n",
        "con8 = sl['UsedDate']==20221029\n",
        "\n",
        "df_sl_HalloSats_Y = sl.loc[con1 | con2 | con3 | con4 | con5 | con6 | con7 | con8,'Sum']\n",
        "df_sl_HalloSats_N = sl.loc[~con1 & ~con2 & ~con3 & ~con4 & ~con5 & ~con6 & ~con7 & ~con8,'Sum']\n",
        "\n",
        "t_stat, p_value = stats.ttest_ind(df_sl_HalloSats_Y, df_sl_HalloSats_N, equal_var=True, alternative=\"two-sided\")\n",
        "print(\"t-statistics : {}, p-value : {}\".format(t_stat, p_value))"
      ],
      "metadata": {
        "colab": {
          "base_uri": "https://localhost:8080/"
        },
        "id": "bOR39I-RJ8Oy",
        "outputId": "8af163fa-d4e8-48d4-8f0e-09cc56c9357a"
      },
      "execution_count": null,
      "outputs": [
        {
          "output_type": "stream",
          "name": "stdout",
          "text": [
            "t-statistics : -0.12819929180785655, p-value : 0.8980842850570425\n"
          ]
        }
      ]
    },
    {
      "cell_type": "code",
      "source": [
        "df_10_js = pd.concat([df_10[df_10['Station']=='잠실'], df_10[df_10['Station']=='잠실(송파구청)']],axis = 0) #환승역이라 2호선 8호선 합쳐져 데이터 양 2배배\n",
        "js = df_10_js\n",
        "\n",
        "con1 = js['UsedDate']==20151031\n",
        "con2 = js['UsedDate']==20161029\n",
        "con3 = js['UsedDate']==20171028\n",
        "con4 = js['UsedDate']==20181027\n",
        "con5 = js['UsedDate']==20191026\n",
        "con6 = js['UsedDate']==20201031\n",
        "con7 = js['UsedDate']==20211030\n",
        "con8 = js['UsedDate']==20221029\n",
        "\n",
        "df_js_HalloSats_Y = js.loc[con1 | con2 | con3 | con4 | con5 | con6 | con7 | con8,'Sum']\n",
        "df_js_HalloSats_N = js.loc[~con1 & ~con2 & ~con3 & ~con4 & ~con5 & ~con6 & ~con7 & ~con8,'Sum']\n",
        "\n",
        "t_stat, p_value = stats.ttest_ind(df_js_HalloSats_Y, df_js_HalloSats_N, equal_var=True, alternative=\"two-sided\")\n",
        "print(\"t-statistics : {}, p-value : {}\".format(t_stat, p_value))"
      ],
      "metadata": {
        "colab": {
          "base_uri": "https://localhost:8080/"
        },
        "id": "aHSu5BCCAOGu",
        "outputId": "166f498a-a0fd-44e4-a8d4-d94dec2a785c"
      },
      "execution_count": null,
      "outputs": [
        {
          "output_type": "stream",
          "name": "stdout",
          "text": [
            "t-statistics : 0.9574616270890278, p-value : 0.3388026408968068\n"
          ]
        }
      ]
    },
    {
      "cell_type": "markdown",
      "source": [
        "# T-test 단측검정"
      ],
      "metadata": {
        "id": "5rq5pwVzMAEN"
      }
    },
    {
      "cell_type": "code",
      "source": [],
      "metadata": {
        "id": "vIhg4UiOMqSW"
      },
      "execution_count": null,
      "outputs": []
    },
    {
      "cell_type": "markdown",
      "source": [
        "# 시각화"
      ],
      "metadata": {
        "id": "yaWNWEcfPHI7"
      }
    },
    {
      "cell_type": "code",
      "source": [
        "import numpy as np\n",
        "import matplotlib as mpl\n",
        "import matplotlib.pyplot as plt\n",
        "import seaborn as sns"
      ],
      "metadata": {
        "id": "hAPUb-D1Pqny"
      },
      "execution_count": null,
      "outputs": []
    },
    {
      "cell_type": "code",
      "source": [
        "df1 = df_10_itw.groupby('Date').mean()\n",
        "df2 = df_10_gn.groupby('Date').mean()\n",
        "df3 = df_10_gb.groupby('Date').mean()\n",
        "df4 = df_10_gd.groupby('Date').mean()\n",
        "df5 = df_10_sl.groupby('Date').mean()\n",
        "df6 = df_10_js.groupby('Date').mean()\n",
        "df1"
      ],
      "metadata": {
        "colab": {
          "base_uri": "https://localhost:8080/",
          "height": 1000
        },
        "id": "YjTcFfXsPIx0",
        "outputId": "36f47afd-6e3d-4a98-e3d3-62ba23308b10"
      },
      "execution_count": null,
      "outputs": [
        {
          "output_type": "execute_result",
          "data": {
            "text/plain": [
              "        UsedDate      Board     Alight  Registration        Sum\n",
              "Date                                                           \n",
              "1001  20186001.0  14270.250  16184.125    20171047.6  30454.375\n",
              "1002  20186002.0  14421.625  17332.625    20171048.4  31754.250\n",
              "1003  20186003.0  14405.875  15310.500    20171049.2  29716.375\n",
              "1004  20186004.0  12559.875  13908.500    20171050.0  26468.375\n",
              "1005  20186005.0  13949.125  16616.875    20171050.8  30566.000\n",
              "1006  20186006.0  14568.250  16410.625    20171051.6  30978.875\n",
              "1007  20186007.0  15080.625  17244.250    20171052.4  32324.875\n",
              "1008  20186008.0  16367.000  20512.375    20171053.2  36879.375\n",
              "1009  20186009.0  16035.875  16235.375    20171054.0  32271.250\n",
              "1010  20186010.0  12961.875  13917.375    20171054.8  26879.250\n",
              "1011  20186011.0  12637.000  13695.750    20171055.6  26332.750\n",
              "1012  20186012.0  15941.375  18538.375    20171056.4  34479.750\n",
              "1013  20186013.0  18610.500  21043.000    20171057.2  39653.500\n",
              "1014  20186014.0  19201.500  22106.375    20171058.0  41307.875\n",
              "1015  20186015.0  20845.125  23392.375    20171058.8  44237.500\n",
              "1016  20186016.0  16819.000  17562.125    20171059.6  34381.125\n",
              "1017  20186017.0  16026.750  18007.250    20171060.4  34034.000\n",
              "1018  20186018.0  15810.000  17077.750    20171061.2  32887.750\n",
              "1019  20186019.0  13949.750  16321.875    20171062.0  30271.625\n",
              "1020  20186020.0  14766.875  16684.125    20171062.8  31451.000\n",
              "1021  20186021.0  15296.750  17635.750    20171063.6  32932.500\n",
              "1022  20186022.0  15333.500  17175.750    20171064.4  32509.250\n",
              "1023  20186023.0  14333.625  15312.625    20171065.2  29646.250\n",
              "1024  20186024.0  13904.250  15631.000    20171079.8  29535.250\n",
              "1025  20186025.0  14313.875  16142.500    20171080.6  30456.375\n",
              "1026  20186026.0  16868.000  21353.500    20171081.4  38221.500\n",
              "1027  20186027.0  19324.500  22905.500    20171082.2  42230.000\n",
              "1028  20186028.0  20568.000  25079.250    20171083.0  45647.250\n",
              "1029  20186029.0  22695.750  28395.375    20171125.2  51091.125\n",
              "1030  20186030.0  18830.125  19989.750    20171126.0  38819.875\n",
              "1031  20186031.0  23735.000  32468.500    20171126.8  56203.500"
            ],
            "text/html": [
              "\n",
              "  <div id=\"df-b140bb5f-74fa-4225-9375-463812629ba3\">\n",
              "    <div class=\"colab-df-container\">\n",
              "      <div>\n",
              "<style scoped>\n",
              "    .dataframe tbody tr th:only-of-type {\n",
              "        vertical-align: middle;\n",
              "    }\n",
              "\n",
              "    .dataframe tbody tr th {\n",
              "        vertical-align: top;\n",
              "    }\n",
              "\n",
              "    .dataframe thead th {\n",
              "        text-align: right;\n",
              "    }\n",
              "</style>\n",
              "<table border=\"1\" class=\"dataframe\">\n",
              "  <thead>\n",
              "    <tr style=\"text-align: right;\">\n",
              "      <th></th>\n",
              "      <th>UsedDate</th>\n",
              "      <th>Board</th>\n",
              "      <th>Alight</th>\n",
              "      <th>Registration</th>\n",
              "      <th>Sum</th>\n",
              "    </tr>\n",
              "    <tr>\n",
              "      <th>Date</th>\n",
              "      <th></th>\n",
              "      <th></th>\n",
              "      <th></th>\n",
              "      <th></th>\n",
              "      <th></th>\n",
              "    </tr>\n",
              "  </thead>\n",
              "  <tbody>\n",
              "    <tr>\n",
              "      <th>1001</th>\n",
              "      <td>20186001.0</td>\n",
              "      <td>14270.250</td>\n",
              "      <td>16184.125</td>\n",
              "      <td>20171047.6</td>\n",
              "      <td>30454.375</td>\n",
              "    </tr>\n",
              "    <tr>\n",
              "      <th>1002</th>\n",
              "      <td>20186002.0</td>\n",
              "      <td>14421.625</td>\n",
              "      <td>17332.625</td>\n",
              "      <td>20171048.4</td>\n",
              "      <td>31754.250</td>\n",
              "    </tr>\n",
              "    <tr>\n",
              "      <th>1003</th>\n",
              "      <td>20186003.0</td>\n",
              "      <td>14405.875</td>\n",
              "      <td>15310.500</td>\n",
              "      <td>20171049.2</td>\n",
              "      <td>29716.375</td>\n",
              "    </tr>\n",
              "    <tr>\n",
              "      <th>1004</th>\n",
              "      <td>20186004.0</td>\n",
              "      <td>12559.875</td>\n",
              "      <td>13908.500</td>\n",
              "      <td>20171050.0</td>\n",
              "      <td>26468.375</td>\n",
              "    </tr>\n",
              "    <tr>\n",
              "      <th>1005</th>\n",
              "      <td>20186005.0</td>\n",
              "      <td>13949.125</td>\n",
              "      <td>16616.875</td>\n",
              "      <td>20171050.8</td>\n",
              "      <td>30566.000</td>\n",
              "    </tr>\n",
              "    <tr>\n",
              "      <th>1006</th>\n",
              "      <td>20186006.0</td>\n",
              "      <td>14568.250</td>\n",
              "      <td>16410.625</td>\n",
              "      <td>20171051.6</td>\n",
              "      <td>30978.875</td>\n",
              "    </tr>\n",
              "    <tr>\n",
              "      <th>1007</th>\n",
              "      <td>20186007.0</td>\n",
              "      <td>15080.625</td>\n",
              "      <td>17244.250</td>\n",
              "      <td>20171052.4</td>\n",
              "      <td>32324.875</td>\n",
              "    </tr>\n",
              "    <tr>\n",
              "      <th>1008</th>\n",
              "      <td>20186008.0</td>\n",
              "      <td>16367.000</td>\n",
              "      <td>20512.375</td>\n",
              "      <td>20171053.2</td>\n",
              "      <td>36879.375</td>\n",
              "    </tr>\n",
              "    <tr>\n",
              "      <th>1009</th>\n",
              "      <td>20186009.0</td>\n",
              "      <td>16035.875</td>\n",
              "      <td>16235.375</td>\n",
              "      <td>20171054.0</td>\n",
              "      <td>32271.250</td>\n",
              "    </tr>\n",
              "    <tr>\n",
              "      <th>1010</th>\n",
              "      <td>20186010.0</td>\n",
              "      <td>12961.875</td>\n",
              "      <td>13917.375</td>\n",
              "      <td>20171054.8</td>\n",
              "      <td>26879.250</td>\n",
              "    </tr>\n",
              "    <tr>\n",
              "      <th>1011</th>\n",
              "      <td>20186011.0</td>\n",
              "      <td>12637.000</td>\n",
              "      <td>13695.750</td>\n",
              "      <td>20171055.6</td>\n",
              "      <td>26332.750</td>\n",
              "    </tr>\n",
              "    <tr>\n",
              "      <th>1012</th>\n",
              "      <td>20186012.0</td>\n",
              "      <td>15941.375</td>\n",
              "      <td>18538.375</td>\n",
              "      <td>20171056.4</td>\n",
              "      <td>34479.750</td>\n",
              "    </tr>\n",
              "    <tr>\n",
              "      <th>1013</th>\n",
              "      <td>20186013.0</td>\n",
              "      <td>18610.500</td>\n",
              "      <td>21043.000</td>\n",
              "      <td>20171057.2</td>\n",
              "      <td>39653.500</td>\n",
              "    </tr>\n",
              "    <tr>\n",
              "      <th>1014</th>\n",
              "      <td>20186014.0</td>\n",
              "      <td>19201.500</td>\n",
              "      <td>22106.375</td>\n",
              "      <td>20171058.0</td>\n",
              "      <td>41307.875</td>\n",
              "    </tr>\n",
              "    <tr>\n",
              "      <th>1015</th>\n",
              "      <td>20186015.0</td>\n",
              "      <td>20845.125</td>\n",
              "      <td>23392.375</td>\n",
              "      <td>20171058.8</td>\n",
              "      <td>44237.500</td>\n",
              "    </tr>\n",
              "    <tr>\n",
              "      <th>1016</th>\n",
              "      <td>20186016.0</td>\n",
              "      <td>16819.000</td>\n",
              "      <td>17562.125</td>\n",
              "      <td>20171059.6</td>\n",
              "      <td>34381.125</td>\n",
              "    </tr>\n",
              "    <tr>\n",
              "      <th>1017</th>\n",
              "      <td>20186017.0</td>\n",
              "      <td>16026.750</td>\n",
              "      <td>18007.250</td>\n",
              "      <td>20171060.4</td>\n",
              "      <td>34034.000</td>\n",
              "    </tr>\n",
              "    <tr>\n",
              "      <th>1018</th>\n",
              "      <td>20186018.0</td>\n",
              "      <td>15810.000</td>\n",
              "      <td>17077.750</td>\n",
              "      <td>20171061.2</td>\n",
              "      <td>32887.750</td>\n",
              "    </tr>\n",
              "    <tr>\n",
              "      <th>1019</th>\n",
              "      <td>20186019.0</td>\n",
              "      <td>13949.750</td>\n",
              "      <td>16321.875</td>\n",
              "      <td>20171062.0</td>\n",
              "      <td>30271.625</td>\n",
              "    </tr>\n",
              "    <tr>\n",
              "      <th>1020</th>\n",
              "      <td>20186020.0</td>\n",
              "      <td>14766.875</td>\n",
              "      <td>16684.125</td>\n",
              "      <td>20171062.8</td>\n",
              "      <td>31451.000</td>\n",
              "    </tr>\n",
              "    <tr>\n",
              "      <th>1021</th>\n",
              "      <td>20186021.0</td>\n",
              "      <td>15296.750</td>\n",
              "      <td>17635.750</td>\n",
              "      <td>20171063.6</td>\n",
              "      <td>32932.500</td>\n",
              "    </tr>\n",
              "    <tr>\n",
              "      <th>1022</th>\n",
              "      <td>20186022.0</td>\n",
              "      <td>15333.500</td>\n",
              "      <td>17175.750</td>\n",
              "      <td>20171064.4</td>\n",
              "      <td>32509.250</td>\n",
              "    </tr>\n",
              "    <tr>\n",
              "      <th>1023</th>\n",
              "      <td>20186023.0</td>\n",
              "      <td>14333.625</td>\n",
              "      <td>15312.625</td>\n",
              "      <td>20171065.2</td>\n",
              "      <td>29646.250</td>\n",
              "    </tr>\n",
              "    <tr>\n",
              "      <th>1024</th>\n",
              "      <td>20186024.0</td>\n",
              "      <td>13904.250</td>\n",
              "      <td>15631.000</td>\n",
              "      <td>20171079.8</td>\n",
              "      <td>29535.250</td>\n",
              "    </tr>\n",
              "    <tr>\n",
              "      <th>1025</th>\n",
              "      <td>20186025.0</td>\n",
              "      <td>14313.875</td>\n",
              "      <td>16142.500</td>\n",
              "      <td>20171080.6</td>\n",
              "      <td>30456.375</td>\n",
              "    </tr>\n",
              "    <tr>\n",
              "      <th>1026</th>\n",
              "      <td>20186026.0</td>\n",
              "      <td>16868.000</td>\n",
              "      <td>21353.500</td>\n",
              "      <td>20171081.4</td>\n",
              "      <td>38221.500</td>\n",
              "    </tr>\n",
              "    <tr>\n",
              "      <th>1027</th>\n",
              "      <td>20186027.0</td>\n",
              "      <td>19324.500</td>\n",
              "      <td>22905.500</td>\n",
              "      <td>20171082.2</td>\n",
              "      <td>42230.000</td>\n",
              "    </tr>\n",
              "    <tr>\n",
              "      <th>1028</th>\n",
              "      <td>20186028.0</td>\n",
              "      <td>20568.000</td>\n",
              "      <td>25079.250</td>\n",
              "      <td>20171083.0</td>\n",
              "      <td>45647.250</td>\n",
              "    </tr>\n",
              "    <tr>\n",
              "      <th>1029</th>\n",
              "      <td>20186029.0</td>\n",
              "      <td>22695.750</td>\n",
              "      <td>28395.375</td>\n",
              "      <td>20171125.2</td>\n",
              "      <td>51091.125</td>\n",
              "    </tr>\n",
              "    <tr>\n",
              "      <th>1030</th>\n",
              "      <td>20186030.0</td>\n",
              "      <td>18830.125</td>\n",
              "      <td>19989.750</td>\n",
              "      <td>20171126.0</td>\n",
              "      <td>38819.875</td>\n",
              "    </tr>\n",
              "    <tr>\n",
              "      <th>1031</th>\n",
              "      <td>20186031.0</td>\n",
              "      <td>23735.000</td>\n",
              "      <td>32468.500</td>\n",
              "      <td>20171126.8</td>\n",
              "      <td>56203.500</td>\n",
              "    </tr>\n",
              "  </tbody>\n",
              "</table>\n",
              "</div>\n",
              "      <button class=\"colab-df-convert\" onclick=\"convertToInteractive('df-b140bb5f-74fa-4225-9375-463812629ba3')\"\n",
              "              title=\"Convert this dataframe to an interactive table.\"\n",
              "              style=\"display:none;\">\n",
              "        \n",
              "  <svg xmlns=\"http://www.w3.org/2000/svg\" height=\"24px\"viewBox=\"0 0 24 24\"\n",
              "       width=\"24px\">\n",
              "    <path d=\"M0 0h24v24H0V0z\" fill=\"none\"/>\n",
              "    <path d=\"M18.56 5.44l.94 2.06.94-2.06 2.06-.94-2.06-.94-.94-2.06-.94 2.06-2.06.94zm-11 1L8.5 8.5l.94-2.06 2.06-.94-2.06-.94L8.5 2.5l-.94 2.06-2.06.94zm10 10l.94 2.06.94-2.06 2.06-.94-2.06-.94-.94-2.06-.94 2.06-2.06.94z\"/><path d=\"M17.41 7.96l-1.37-1.37c-.4-.4-.92-.59-1.43-.59-.52 0-1.04.2-1.43.59L10.3 9.45l-7.72 7.72c-.78.78-.78 2.05 0 2.83L4 21.41c.39.39.9.59 1.41.59.51 0 1.02-.2 1.41-.59l7.78-7.78 2.81-2.81c.8-.78.8-2.07 0-2.86zM5.41 20L4 18.59l7.72-7.72 1.47 1.35L5.41 20z\"/>\n",
              "  </svg>\n",
              "      </button>\n",
              "      \n",
              "  <style>\n",
              "    .colab-df-container {\n",
              "      display:flex;\n",
              "      flex-wrap:wrap;\n",
              "      gap: 12px;\n",
              "    }\n",
              "\n",
              "    .colab-df-convert {\n",
              "      background-color: #E8F0FE;\n",
              "      border: none;\n",
              "      border-radius: 50%;\n",
              "      cursor: pointer;\n",
              "      display: none;\n",
              "      fill: #1967D2;\n",
              "      height: 32px;\n",
              "      padding: 0 0 0 0;\n",
              "      width: 32px;\n",
              "    }\n",
              "\n",
              "    .colab-df-convert:hover {\n",
              "      background-color: #E2EBFA;\n",
              "      box-shadow: 0px 1px 2px rgba(60, 64, 67, 0.3), 0px 1px 3px 1px rgba(60, 64, 67, 0.15);\n",
              "      fill: #174EA6;\n",
              "    }\n",
              "\n",
              "    [theme=dark] .colab-df-convert {\n",
              "      background-color: #3B4455;\n",
              "      fill: #D2E3FC;\n",
              "    }\n",
              "\n",
              "    [theme=dark] .colab-df-convert:hover {\n",
              "      background-color: #434B5C;\n",
              "      box-shadow: 0px 1px 3px 1px rgba(0, 0, 0, 0.15);\n",
              "      filter: drop-shadow(0px 1px 2px rgba(0, 0, 0, 0.3));\n",
              "      fill: #FFFFFF;\n",
              "    }\n",
              "  </style>\n",
              "\n",
              "      <script>\n",
              "        const buttonEl =\n",
              "          document.querySelector('#df-b140bb5f-74fa-4225-9375-463812629ba3 button.colab-df-convert');\n",
              "        buttonEl.style.display =\n",
              "          google.colab.kernel.accessAllowed ? 'block' : 'none';\n",
              "\n",
              "        async function convertToInteractive(key) {\n",
              "          const element = document.querySelector('#df-b140bb5f-74fa-4225-9375-463812629ba3');\n",
              "          const dataTable =\n",
              "            await google.colab.kernel.invokeFunction('convertToInteractive',\n",
              "                                                     [key], {});\n",
              "          if (!dataTable) return;\n",
              "\n",
              "          const docLinkHtml = 'Like what you see? Visit the ' +\n",
              "            '<a target=\"_blank\" href=https://colab.research.google.com/notebooks/data_table.ipynb>data table notebook</a>'\n",
              "            + ' to learn more about interactive tables.';\n",
              "          element.innerHTML = '';\n",
              "          dataTable['output_type'] = 'display_data';\n",
              "          await google.colab.output.renderOutput(dataTable, element);\n",
              "          const docLink = document.createElement('div');\n",
              "          docLink.innerHTML = docLinkHtml;\n",
              "          element.appendChild(docLink);\n",
              "        }\n",
              "      </script>\n",
              "    </div>\n",
              "  </div>\n",
              "  "
            ]
          },
          "metadata": {},
          "execution_count": 30
        }
      ]
    },
    {
      "cell_type": "code",
      "source": [
        "dfs = [df1,df2,df3,df4,df5,df6]\n",
        "for i in dfs:\n",
        "  plt.plot(i.index, i.Sum, marker = 's', color = 'red')\n",
        "  plt.show()"
      ],
      "metadata": {
        "colab": {
          "base_uri": "https://localhost:8080/",
          "height": 1000
        },
        "id": "ApDfXG6ZP-dn",
        "outputId": "423ce334-185a-4677-e1e5-fc11b09a3eb4"
      },
      "execution_count": null,
      "outputs": [
        {
          "output_type": "display_data",
          "data": {
            "text/plain": [
              "<Figure size 432x288 with 1 Axes>"
            ],
            "image/png": "[encoded data removed]"
          },
          "metadata": {
            "needs_background": "light"
          }
        },
        {
          "output_type": "display_data",
          "data": {
            "text/plain": [
              "<Figure size 432x288 with 1 Axes>"
            ],
            "image/png": "[encoded data removed]"
          },
          "metadata": {
            "needs_background": "light"
          }
        },
        {
          "output_type": "display_data",
          "data": {
            "text/plain": [
              "<Figure size 432x288 with 1 Axes>"
            ],
            "image/png": "[encoded data removed]"
          },
          "metadata": {
            "needs_background": "light"
          }
        },
        {
          "output_type": "display_data",
          "data": {
            "text/plain": [
              "<Figure size 432x288 with 1 Axes>"
            ],
            "image/png": "[encoded data removed]"
          },
          "metadata": {
            "needs_background": "light"
          }
        },
        {
          "output_type": "display_data",
          "data": {
            "text/plain": [
              "<Figure size 432x288 with 1 Axes>"
            ],
            "image/png": "[encoded data removed]"
          },
          "metadata": {
            "needs_background": "light"
          }
        },
        {
          "output_type": "display_data",
          "data": {
            "text/plain": [
              "<Figure size 432x288 with 1 Axes>"
            ],
            "image/png": "[encoded data removed]"
          },
          "metadata": {
            "needs_background": "light"
          }
        }
      ]
    },
    {
      "cell_type": "markdown",
      "source": [
        "# 할로윈 포함 토요일과 할로윈 미포함 토요일 비교"
      ],
      "metadata": {
        "id": "Fs-PICX3hQOv"
      }
    },
    {
      "cell_type": "markdown",
      "source": [
        "## 요일 칼럼 추가"
      ],
      "metadata": {
        "id": "STLm1ZvvOGtJ"
      }
    },
    {
      "cell_type": "code",
      "source": [
        "import datetime\n",
        "days = ['Mon','Tue','Wed','Thu','Fri','Sat','Sun']"
      ],
      "metadata": {
        "id": "QpG2AP9vhPc8"
      },
      "execution_count": null,
      "outputs": []
    },
    {
      "cell_type": "code",
      "source": [
        "date = []\n",
        "for i in range(0,len(pd.DataFrame(df_10['UsedDate']))):\n",
        "  a = pd.DataFrame(df_10['UsedDate']).iat[i,0]\n",
        "  date.append(days[datetime.date(int(str(a)[0:4]),int(str(a)[4:6]),int(str(a)[6:8])).weekday()])\n",
        "\n",
        "# 요일 컬럼 집어넣기\n",
        "df_10.insert(0,'요일',date)\n"
      ],
      "metadata": {
        "id": "_EmT7_qkhBFa"
      },
      "execution_count": null,
      "outputs": []
    },
    {
      "cell_type": "code",
      "source": [
        "df_10 "
      ],
      "metadata": {
        "colab": {
          "base_uri": "https://localhost:8080/",
          "height": 423
        },
        "id": "TdgRV2vkbKsX",
        "outputId": "733ddf33-538f-49e0-9e08-2bbda7a2e9d8"
      },
      "execution_count": null,
      "outputs": [
        {
          "output_type": "execute_result",
          "data": {
            "text/plain": [
              "        요일  UsedDate Line Station    Board   Alight  Registration      Sum  \\\n",
              "0      Thu  20151001  경인선      중동  11414.0  10683.0    20151217.0  22097.0   \n",
              "1      Thu  20151001  경인선      온수   8548.0   8035.0    20151217.0  16583.0   \n",
              "2      Thu  20151001  경인선      도원   4430.0   4544.0    20151217.0   8974.0   \n",
              "3      Thu  20151001  경인선      간석   7341.0   7088.0    20151217.0  14429.0   \n",
              "4      Thu  20151001  경인선      부개  11951.0  11093.0    20151217.0  23044.0   \n",
              "...    ...       ...  ...     ...      ...      ...           ...      ...   \n",
              "18780  Mon  20221031  6호선    버티고개   2366.0   2239.0           NaN   4605.0   \n",
              "18781  Mon  20221031  6호선      약수   3778.0   3751.0           NaN   7529.0   \n",
              "18782  Mon  20221031  6호선      청구   3842.0   4067.0           NaN   7909.0   \n",
              "18783  Mon  20221031  6호선      신당   8136.0   8814.0           NaN  16950.0   \n",
              "18784  Mon  20221031  6호선     동묘앞   8434.0   8751.0           NaN  17185.0   \n",
              "\n",
              "       Date  \n",
              "0      1001  \n",
              "1      1001  \n",
              "2      1001  \n",
              "3      1001  \n",
              "4      1001  \n",
              "...     ...  \n",
              "18780  1031  \n",
              "18781  1031  \n",
              "18782  1031  \n",
              "18783  1031  \n",
              "18784  1031  \n",
              "\n",
              "[144788 rows x 9 columns]"
            ],
            "text/html": [
              "\n",
              "  <div id=\"df-0d815e0e-2075-49b6-898b-93a6e31521ad\">\n",
              "    <div class=\"colab-df-container\">\n",
              "      <div>\n",
              "<style scoped>\n",
              "    .dataframe tbody tr th:only-of-type {\n",
              "        vertical-align: middle;\n",
              "    }\n",
              "\n",
              "    .dataframe tbody tr th {\n",
              "        vertical-align: top;\n",
              "    }\n",
              "\n",
              "    .dataframe thead th {\n",
              "        text-align: right;\n",
              "    }\n",
              "</style>\n",
              "<table border=\"1\" class=\"dataframe\">\n",
              "  <thead>\n",
              "    <tr style=\"text-align: right;\">\n",
              "      <th></th>\n",
              "      <th>요일</th>\n",
              "      <th>UsedDate</th>\n",
              "      <th>Line</th>\n",
              "      <th>Station</th>\n",
              "      <th>Board</th>\n",
              "      <th>Alight</th>\n",
              "      <th>Registration</th>\n",
              "      <th>Sum</th>\n",
              "      <th>Date</th>\n",
              "    </tr>\n",
              "  </thead>\n",
              "  <tbody>\n",
              "    <tr>\n",
              "      <th>0</th>\n",
              "      <td>Thu</td>\n",
              "      <td>20151001</td>\n",
              "      <td>경인선</td>\n",
              "      <td>중동</td>\n",
              "      <td>11414.0</td>\n",
              "      <td>10683.0</td>\n",
              "      <td>20151217.0</td>\n",
              "      <td>22097.0</td>\n",
              "      <td>1001</td>\n",
              "    </tr>\n",
              "    <tr>\n",
              "      <th>1</th>\n",
              "      <td>Thu</td>\n",
              "      <td>20151001</td>\n",
              "      <td>경인선</td>\n",
              "      <td>온수</td>\n",
              "      <td>8548.0</td>\n",
              "      <td>8035.0</td>\n",
              "      <td>20151217.0</td>\n",
              "      <td>16583.0</td>\n",
              "      <td>1001</td>\n",
              "    </tr>\n",
              "    <tr>\n",
              "      <th>2</th>\n",
              "      <td>Thu</td>\n",
              "      <td>20151001</td>\n",
              "      <td>경인선</td>\n",
              "      <td>도원</td>\n",
              "      <td>4430.0</td>\n",
              "      <td>4544.0</td>\n",
              "      <td>20151217.0</td>\n",
              "      <td>8974.0</td>\n",
              "      <td>1001</td>\n",
              "    </tr>\n",
              "    <tr>\n",
              "      <th>3</th>\n",
              "      <td>Thu</td>\n",
              "      <td>20151001</td>\n",
              "      <td>경인선</td>\n",
              "      <td>간석</td>\n",
              "      <td>7341.0</td>\n",
              "      <td>7088.0</td>\n",
              "      <td>20151217.0</td>\n",
              "      <td>14429.0</td>\n",
              "      <td>1001</td>\n",
              "    </tr>\n",
              "    <tr>\n",
              "      <th>4</th>\n",
              "      <td>Thu</td>\n",
              "      <td>20151001</td>\n",
              "      <td>경인선</td>\n",
              "      <td>부개</td>\n",
              "      <td>11951.0</td>\n",
              "      <td>11093.0</td>\n",
              "      <td>20151217.0</td>\n",
              "      <td>23044.0</td>\n",
              "      <td>1001</td>\n",
              "    </tr>\n",
              "    <tr>\n",
              "      <th>...</th>\n",
              "      <td>...</td>\n",
              "      <td>...</td>\n",
              "      <td>...</td>\n",
              "      <td>...</td>\n",
              "      <td>...</td>\n",
              "      <td>...</td>\n",
              "      <td>...</td>\n",
              "      <td>...</td>\n",
              "      <td>...</td>\n",
              "    </tr>\n",
              "    <tr>\n",
              "      <th>18780</th>\n",
              "      <td>Mon</td>\n",
              "      <td>20221031</td>\n",
              "      <td>6호선</td>\n",
              "      <td>버티고개</td>\n",
              "      <td>2366.0</td>\n",
              "      <td>2239.0</td>\n",
              "      <td>NaN</td>\n",
              "      <td>4605.0</td>\n",
              "      <td>1031</td>\n",
              "    </tr>\n",
              "    <tr>\n",
              "      <th>18781</th>\n",
              "      <td>Mon</td>\n",
              "      <td>20221031</td>\n",
              "      <td>6호선</td>\n",
              "      <td>약수</td>\n",
              "      <td>3778.0</td>\n",
              "      <td>3751.0</td>\n",
              "      <td>NaN</td>\n",
              "      <td>7529.0</td>\n",
              "      <td>1031</td>\n",
              "    </tr>\n",
              "    <tr>\n",
              "      <th>18782</th>\n",
              "      <td>Mon</td>\n",
              "      <td>20221031</td>\n",
              "      <td>6호선</td>\n",
              "      <td>청구</td>\n",
              "      <td>3842.0</td>\n",
              "      <td>4067.0</td>\n",
              "      <td>NaN</td>\n",
              "      <td>7909.0</td>\n",
              "      <td>1031</td>\n",
              "    </tr>\n",
              "    <tr>\n",
              "      <th>18783</th>\n",
              "      <td>Mon</td>\n",
              "      <td>20221031</td>\n",
              "      <td>6호선</td>\n",
              "      <td>신당</td>\n",
              "      <td>8136.0</td>\n",
              "      <td>8814.0</td>\n",
              "      <td>NaN</td>\n",
              "      <td>16950.0</td>\n",
              "      <td>1031</td>\n",
              "    </tr>\n",
              "    <tr>\n",
              "      <th>18784</th>\n",
              "      <td>Mon</td>\n",
              "      <td>20221031</td>\n",
              "      <td>6호선</td>\n",
              "      <td>동묘앞</td>\n",
              "      <td>8434.0</td>\n",
              "      <td>8751.0</td>\n",
              "      <td>NaN</td>\n",
              "      <td>17185.0</td>\n",
              "      <td>1031</td>\n",
              "    </tr>\n",
              "  </tbody>\n",
              "</table>\n",
              "<p>144788 rows × 9 columns</p>\n",
              "</div>\n",
              "      <button class=\"colab-df-convert\" onclick=\"convertToInteractive('df-0d815e0e-2075-49b6-898b-93a6e31521ad')\"\n",
              "              title=\"Convert this dataframe to an interactive table.\"\n",
              "              style=\"display:none;\">\n",
              "        \n",
              "  <svg xmlns=\"http://www.w3.org/2000/svg\" height=\"24px\"viewBox=\"0 0 24 24\"\n",
              "       width=\"24px\">\n",
              "    <path d=\"M0 0h24v24H0V0z\" fill=\"none\"/>\n",
              "    <path d=\"M18.56 5.44l.94 2.06.94-2.06 2.06-.94-2.06-.94-.94-2.06-.94 2.06-2.06.94zm-11 1L8.5 8.5l.94-2.06 2.06-.94-2.06-.94L8.5 2.5l-.94 2.06-2.06.94zm10 10l.94 2.06.94-2.06 2.06-.94-2.06-.94-.94-2.06-.94 2.06-2.06.94z\"/><path d=\"M17.41 7.96l-1.37-1.37c-.4-.4-.92-.59-1.43-.59-.52 0-1.04.2-1.43.59L10.3 9.45l-7.72 7.72c-.78.78-.78 2.05 0 2.83L4 21.41c.39.39.9.59 1.41.59.51 0 1.02-.2 1.41-.59l7.78-7.78 2.81-2.81c.8-.78.8-2.07 0-2.86zM5.41 20L4 18.59l7.72-7.72 1.47 1.35L5.41 20z\"/>\n",
              "  </svg>\n",
              "      </button>\n",
              "      \n",
              "  <style>\n",
              "    .colab-df-container {\n",
              "      display:flex;\n",
              "      flex-wrap:wrap;\n",
              "      gap: 12px;\n",
              "    }\n",
              "\n",
              "    .colab-df-convert {\n",
              "      background-color: #E8F0FE;\n",
              "      border: none;\n",
              "      border-radius: 50%;\n",
              "      cursor: pointer;\n",
              "      display: none;\n",
              "      fill: #1967D2;\n",
              "      height: 32px;\n",
              "      padding: 0 0 0 0;\n",
              "      width: 32px;\n",
              "    }\n",
              "\n",
              "    .colab-df-convert:hover {\n",
              "      background-color: #E2EBFA;\n",
              "      box-shadow: 0px 1px 2px rgba(60, 64, 67, 0.3), 0px 1px 3px 1px rgba(60, 64, 67, 0.15);\n",
              "      fill: #174EA6;\n",
              "    }\n",
              "\n",
              "    [theme=dark] .colab-df-convert {\n",
              "      background-color: #3B4455;\n",
              "      fill: #D2E3FC;\n",
              "    }\n",
              "\n",
              "    [theme=dark] .colab-df-convert:hover {\n",
              "      background-color: #434B5C;\n",
              "      box-shadow: 0px 1px 3px 1px rgba(0, 0, 0, 0.15);\n",
              "      filter: drop-shadow(0px 1px 2px rgba(0, 0, 0, 0.3));\n",
              "      fill: #FFFFFF;\n",
              "    }\n",
              "  </style>\n",
              "\n",
              "      <script>\n",
              "        const buttonEl =\n",
              "          document.querySelector('#df-0d815e0e-2075-49b6-898b-93a6e31521ad button.colab-df-convert');\n",
              "        buttonEl.style.display =\n",
              "          google.colab.kernel.accessAllowed ? 'block' : 'none';\n",
              "\n",
              "        async function convertToInteractive(key) {\n",
              "          const element = document.querySelector('#df-0d815e0e-2075-49b6-898b-93a6e31521ad');\n",
              "          const dataTable =\n",
              "            await google.colab.kernel.invokeFunction('convertToInteractive',\n",
              "                                                     [key], {});\n",
              "          if (!dataTable) return;\n",
              "\n",
              "          const docLinkHtml = 'Like what you see? Visit the ' +\n",
              "            '<a target=\"_blank\" href=https://colab.research.google.com/notebooks/data_table.ipynb>data table notebook</a>'\n",
              "            + ' to learn more about interactive tables.';\n",
              "          element.innerHTML = '';\n",
              "          dataTable['output_type'] = 'display_data';\n",
              "          await google.colab.output.renderOutput(dataTable, element);\n",
              "          const docLink = document.createElement('div');\n",
              "          docLink.innerHTML = docLinkHtml;\n",
              "          element.appendChild(docLink);\n",
              "        }\n",
              "      </script>\n",
              "    </div>\n",
              "  </div>\n",
              "  "
            ]
          },
          "metadata": {},
          "execution_count": 85
        }
      ]
    },
    {
      "cell_type": "code",
      "source": [
        "df_10.rename(columns = {'요일':'Weekday'},inplace = True)"
      ],
      "metadata": {
        "colab": {
          "base_uri": "https://localhost:8080/"
        },
        "id": "0eTXRuXLlX-5",
        "outputId": "671738c8-10b4-49dd-c402-f1e577ccd402"
      },
      "execution_count": null,
      "outputs": [
        {
          "output_type": "stream",
          "name": "stderr",
          "text": [
            "/usr/local/lib/python3.8/dist-packages/pandas/core/frame.py:5039: SettingWithCopyWarning: \n",
            "A value is trying to be set on a copy of a slice from a DataFrame\n",
            "\n",
            "See the caveats in the documentation: https://pandas.pydata.org/pandas-docs/stable/user_guide/indexing.html#returning-a-view-versus-a-copy\n",
            "  return super().rename(\n"
          ]
        }
      ]
    },
    {
      "cell_type": "code",
      "source": [
        "df_10_itw = df_10[df_10['Station']=='이태원']\n",
        "df_10_gn = df_10[df_10['Station']=='강남']\n",
        "df_10_gb = pd.concat([df_10[df_10['Station']=='강변'], df_10[df_10['Station']=='강변(동서울터미널)']],axis = 0)\n",
        "df_10_gd = df_10[df_10['Station']=='구로디지털단지']\n",
        "df_10_sl = df_10[df_10['Station']=='신림']\n",
        "df_10_js = pd.concat([df_10[df_10['Station']=='잠실'], df_10[df_10['Station']=='잠실(송파구청)']],axis = 0) #환승역이라 2호선 8호선 합쳐져 데이터 양 2배배\n"
      ],
      "metadata": {
        "id": "YCT_nnBulYgZ"
      },
      "execution_count": null,
      "outputs": []
    },
    {
      "cell_type": "markdown",
      "source": [
        "## 각 역별 토요일만 추출"
      ],
      "metadata": {
        "id": "RFeaMox4OOYS"
      }
    },
    {
      "cell_type": "code",
      "source": [
        "df_10_itw_Sats = df_10_itw[df_10_itw['Weekday']=='Sat']\n",
        "df_10_gn_Sats = df_10_gn[df_10_gn['Weekday']=='Sat']\n",
        "df_10_gb_Sats = df_10_gb[df_10_gb['Weekday']=='Sat']\n",
        "df_10_gd_Sats = df_10_gd[df_10_gd['Weekday']=='Sat']\n",
        "df_10_sl_Sats = df_10_sl[df_10_sl['Weekday']=='Sat'].groupby('UsedDate').sum()\n",
        "df_10_js_Sats = df_10_js[df_10_js['Weekday']=='Sat'].groupby('UsedDate').sum()"
      ],
      "metadata": {
        "id": "O-aW-j0soZvS"
      },
      "execution_count": null,
      "outputs": []
    },
    {
      "cell_type": "code",
      "source": [
        "itw = df_10_itw_Sats.reset_index()\n",
        "gn = df_10_gn_Sats.reset_index() \n",
        "gb = df_10_gb_Sats.reset_index()\n",
        "gd = df_10_gd_Sats.reset_index() \n",
        "sl = df_10_sl_Sats.reset_index() \n",
        "js = df_10_js_Sats.reset_index()"
      ],
      "metadata": {
        "id": "_tw8EVretzuL"
      },
      "execution_count": null,
      "outputs": []
    },
    {
      "cell_type": "markdown",
      "source": [
        "## 시각화"
      ],
      "metadata": {
        "id": "GwxQsoqfOWfl"
      }
    },
    {
      "cell_type": "code",
      "source": [
        "import numpy as np\n",
        "import matplotlib as mpl\n",
        "import matplotlib.pyplot as plt\n",
        "import seaborn as sns"
      ],
      "metadata": {
        "id": "MD1lapi4OV9X"
      },
      "execution_count": null,
      "outputs": []
    },
    {
      "cell_type": "code",
      "source": [
        "dfs = [itw,gn,gb,gd,sl,js]\n",
        "for i in dfs:\n",
        "  plt.plot(i.index, i.Sum, marker = 's', color = 'red')\n",
        "  plt.show()"
      ],
      "metadata": {
        "colab": {
          "base_uri": "https://localhost:8080/",
          "height": 1000
        },
        "id": "OgDr6EaDtM4c",
        "outputId": "c892ca9c-01f4-4e8d-93a9-54166572e53b"
      },
      "execution_count": null,
      "outputs": [
        {
          "output_type": "display_data",
          "data": {
            "text/plain": [
              "<Figure size 432x288 with 1 Axes>"
            ],
            "image/png": "[encoded data removed]"
          },
          "metadata": {
            "needs_background": "light"
          }
        },
        {
          "output_type": "display_data",
          "data": {
            "text/plain": [
              "<Figure size 432x288 with 1 Axes>"
            ],
            "image/png": "[encoded data removed]"
          },
          "metadata": {
            "needs_background": "light"
          }
        },
        {
          "output_type": "display_data",
          "data": {
            "text/plain": [
              "<Figure size 432x288 with 1 Axes>"
            ],
            "image/png": "[encoded data removed]"
          },
          "metadata": {
            "needs_background": "light"
          }
        },
        {
          "output_type": "display_data",
          "data": {
            "text/plain": [
              "<Figure size 432x288 with 1 Axes>"
            ],
            "image/png": "[encoded data removed]"
          },
          "metadata": {
            "needs_background": "light"
          }
        },
        {
          "output_type": "display_data",
          "data": {
            "text/plain": [
              "<Figure size 432x288 with 1 Axes>"
            ],
            "image/png": "[encoded data removed]"
          },
          "metadata": {
            "needs_background": "light"
          }
        },
        {
          "output_type": "display_data",
          "data": {
            "text/plain": [
              "<Figure size 432x288 with 1 Axes>"
            ],
            "image/png": "[encoded data removed]"
          },
          "metadata": {
            "needs_background": "light"
          }
        }
      ]
    },
    {
      "cell_type": "markdown",
      "source": [
        "## 단측검정"
      ],
      "metadata": {
        "id": "bimG9XOOOlNB"
      }
    },
    {
      "cell_type": "code",
      "source": [
        "from scipy import stats"
      ],
      "metadata": {
        "id": "-Fq-ypXsuK15"
      },
      "execution_count": null,
      "outputs": []
    },
    {
      "cell_type": "code",
      "source": [
        "con1 = itw['UsedDate']==20151031\n",
        "con2 = itw['UsedDate']==20161029\n",
        "con3 = itw['UsedDate']==20171028\n",
        "con4 = itw['UsedDate']==20181027\n",
        "con5 = itw['UsedDate']==20191026\n",
        "con6 = itw['UsedDate']==20201031\n",
        "con7 = itw['UsedDate']==20211030\n",
        "con8 = itw['UsedDate']==20221029\n",
        "\n",
        "df_itw_Sats_H = itw.loc[con1 | con2 | con3 | con4 | con5 | con6 | con7 | con8,'Sum']\n",
        "df_itw_Sats_nH = itw.loc[~con1 & ~con2 & ~con3 & ~con4 & ~con5 & ~con6 & ~con7 & ~con8,'Sum']"
      ],
      "metadata": {
        "id": "iOpqeYaNM4AL"
      },
      "execution_count": null,
      "outputs": []
    },
    {
      "cell_type": "code",
      "source": [
        "t_stat, p_value = stats.ttest_ind(df_itw_Sats_H, df_itw_Sats_nH, equal_var=True, alternative=\"greater\")\n",
        "print(\"t-statistics : {}, p-value : {}\".format(t_stat, p_value))"
      ],
      "metadata": {
        "colab": {
          "base_uri": "https://localhost:8080/"
        },
        "id": "sZ4GCobudAcT",
        "outputId": "4a16cc9b-8c0b-4b54-82a3-fdfd754abae0"
      },
      "execution_count": null,
      "outputs": [
        {
          "output_type": "stream",
          "name": "stdout",
          "text": [
            "t-statistics : 3.8584456829722025, p-value : 0.00023461339063932446\n"
          ]
        }
      ]
    },
    {
      "cell_type": "code",
      "source": [
        "print(df_itw_Sats_H.mean())\n",
        "print(df_itw_Sats_nH.mean())"
      ],
      "metadata": {
        "colab": {
          "base_uri": "https://localhost:8080/"
        },
        "id": "tcjPVQA5glc4",
        "outputId": "2fe7db78-975b-427f-e6da-4dc6f21196b3"
      },
      "execution_count": null,
      "outputs": [
        {
          "output_type": "stream",
          "name": "stdout",
          "text": [
            "89364.875\n",
            "50145.24137931035\n"
          ]
        }
      ]
    },
    {
      "cell_type": "code",
      "source": [
        "con1 = gn['UsedDate']==20151031\n",
        "con2 = gn['UsedDate']==20161029\n",
        "con3 = gn['UsedDate']==20171028\n",
        "con4 = gn['UsedDate']==20181027\n",
        "con5 = gn['UsedDate']==20191026\n",
        "con6 = gn['UsedDate']==20201031\n",
        "con7 = gn['UsedDate']==20211030\n",
        "con8 = gn['UsedDate']==20221029\n",
        "\n",
        "df_gn_Sats_H = gn.loc[con1 | con2 | con3 | con4 | con5 | con6 | con7 | con8,'Sum']\n",
        "df_gn_Sats_nH = gn.loc[~con1 & ~con2 & ~con3 & ~con4 & ~con5 & ~con6 & ~con7 & ~con8,'Sum']"
      ],
      "metadata": {
        "id": "v-EBx9b0dZOl"
      },
      "execution_count": null,
      "outputs": []
    },
    {
      "cell_type": "code",
      "source": [
        "t_stat, p_value = stats.ttest_ind(df_gn_Sats_H, df_gn_Sats_nH, equal_var=True, alternative=\"greater\")\n",
        "print(\"t-statistics : {}, p-value : {}\".format(t_stat, p_value))"
      ],
      "metadata": {
        "colab": {
          "base_uri": "https://localhost:8080/"
        },
        "id": "xeeksCC_fo1x",
        "outputId": "e48e19b7-7e1b-4509-c148-76e6a51518ae"
      },
      "execution_count": null,
      "outputs": [
        {
          "output_type": "stream",
          "name": "stdout",
          "text": [
            "t-statistics : 1.1716994972431813, p-value : 0.12461619470903676\n"
          ]
        }
      ]
    },
    {
      "cell_type": "code",
      "source": [
        "print(df_gn_Sats_H.mean())\n",
        "print(df_gn_Sats_nH.mean())"
      ],
      "metadata": {
        "colab": {
          "base_uri": "https://localhost:8080/"
        },
        "id": "LkwywsSjger2",
        "outputId": "24ad3f1a-c5de-4875-a92f-b2d68a24c748"
      },
      "execution_count": null,
      "outputs": [
        {
          "output_type": "stream",
          "name": "stdout",
          "text": [
            "165940.75\n",
            "148626.62068965516\n"
          ]
        }
      ]
    },
    {
      "cell_type": "code",
      "source": [
        "con1 = gd['UsedDate']==20151031\n",
        "con2 = gd['UsedDate']==20161029\n",
        "con3 = gd['UsedDate']==20171028\n",
        "con4 = gd['UsedDate']==20181027\n",
        "con5 = gd['UsedDate']==20191026\n",
        "con6 = gd['UsedDate']==20201031\n",
        "con7 = gd['UsedDate']==20211030\n",
        "con8 = gd['UsedDate']==20221029\n",
        "\n",
        "df_gd_Sats_H = gd.loc[con1 | con2 | con3 | con4 | con5 | con6 | con7 | con8,'Sum']\n",
        "df_gd_Sats_nH = gd.loc[~con1 & ~con2 & ~con3 & ~con4 & ~con5 & ~con6 & ~con7 & ~con8,'Sum']"
      ],
      "metadata": {
        "id": "opbUbjaHfr-O"
      },
      "execution_count": null,
      "outputs": []
    },
    {
      "cell_type": "code",
      "source": [
        "t_stat, p_value = stats.ttest_ind(df_gd_Sats_H, df_gd_Sats_nH, equal_var=True, alternative=\"greater\")\n",
        "print(\"t-statistics : {}, p-value : {}\".format(t_stat, p_value))"
      ],
      "metadata": {
        "colab": {
          "base_uri": "https://localhost:8080/"
        },
        "id": "ptxEkYwygRXv",
        "outputId": "792115bd-acf7-4248-bef3-7d41d286eb96"
      },
      "execution_count": null,
      "outputs": [
        {
          "output_type": "stream",
          "name": "stdout",
          "text": [
            "t-statistics : 1.0051403906134682, p-value : 0.1608640577392257\n"
          ]
        }
      ]
    },
    {
      "cell_type": "code",
      "source": [
        "print(df_gd_Sats_H.mean())\n",
        "print(df_gd_Sats_nH.mean())"
      ],
      "metadata": {
        "colab": {
          "base_uri": "https://localhost:8080/"
        },
        "id": "d9_DIDiagThh",
        "outputId": "9c03adfb-7677-490b-e27d-2d6eb8fd3b7c"
      },
      "execution_count": null,
      "outputs": [
        {
          "output_type": "stream",
          "name": "stdout",
          "text": [
            "89057.5\n",
            "82659.75862068965\n"
          ]
        }
      ]
    },
    {
      "cell_type": "code",
      "source": [],
      "metadata": {
        "id": "_iqrVY9bgpx0"
      },
      "execution_count": null,
      "outputs": []
    }
  ]
}