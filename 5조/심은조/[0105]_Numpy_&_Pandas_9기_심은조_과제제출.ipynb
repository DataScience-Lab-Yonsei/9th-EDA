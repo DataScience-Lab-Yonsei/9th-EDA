{
 "cells": [
  {
   "cell_type": "code",
   "execution_count": 1,
   "metadata": {
    "id": "LaGMx6JJMP0g"
   },
   "outputs": [],
   "source": [
    "import numpy as np\n",
    "import pandas as pd"
   ]
  },
  {
   "cell_type": "markdown",
   "metadata": {
    "id": "K0pudmzPPM94"
   },
   "source": [
    "EDA 데이터셋을 본격적으로 Numpy, Pandas로 분석하기 전에 과제를 통해 손을 푼다고 생각하고 연습해보시면 좋을 것 같습니다!"
   ]
  },
  {
   "cell_type": "markdown",
   "metadata": {
    "id": "D52ytd6HL4wb"
   },
   "source": [
    "# 1. Numpy"
   ]
  },
  {
   "cell_type": "code",
   "execution_count": 4,
   "metadata": {
    "colab": {
     "base_uri": "https://localhost:8080/"
    },
    "id": "_VpBbw8AL8t9",
    "outputId": "e5428747-f7a8-43b5-ef6c-bd9a5a25558b"
   },
   "outputs": [
    {
     "name": "stdout",
     "output_type": "stream",
     "text": [
      "[10 11 12 13 14 15 16 17 18 19 20 21 22 23 24 25 26 27 28 29 30]\n"
     ]
    }
   ],
   "source": [
    "# Q1.10~30까지의 정수를 담은 array를 만들어보세요. 이를 a1이라는 변수로 저장하세요\n",
    "a1 = np.arange(10,31)\n",
    "print(a1)"
   ]
  },
  {
   "cell_type": "code",
   "execution_count": 5,
   "metadata": {
    "colab": {
     "base_uri": "https://localhost:8080/"
    },
    "id": "HGhzlW6aMikv",
    "outputId": "1ea10e4c-82dd-4759-a641-262ff4c8bfb1"
   },
   "outputs": [
    {
     "data": {
      "text/plain": [
       "array([[10, 11, 12],\n",
       "       [13, 14, 15],\n",
       "       [16, 17, 18],\n",
       "       [19, 20, 21],\n",
       "       [22, 23, 24],\n",
       "       [25, 26, 27],\n",
       "       [28, 29, 30]])"
      ]
     },
     "execution_count": 5,
     "metadata": {},
     "output_type": "execute_result"
    }
   ],
   "source": [
    "# Q2. 위에서 만든 array는 shape이 21*1입니다. a1의 shape을 7*3로 바꿔보세요\n",
    "a1.reshape(7,3)"
   ]
  },
  {
   "cell_type": "code",
   "execution_count": 6,
   "metadata": {
    "colab": {
     "base_uri": "https://localhost:8080/"
    },
    "id": "jt6cJBloNsdw",
    "outputId": "b8a94c83-caf3-4b45-86bb-c5cca3d11659"
   },
   "outputs": [
    {
     "name": "stdout",
     "output_type": "stream",
     "text": [
      "20.0\n",
      "10\n"
     ]
    }
   ],
   "source": [
    "# Q3. a1의 array에 있는 값들의 평균과 최댓값을 구해보세요. 세션에서 명확하게 다루지는 않았지만 쉽게 생각해내실 수 있습니다. 모르시면 구글을 활용하세요\n",
    "print(np.mean(a1))\n",
    "print(np.min(a1))"
   ]
  },
  {
   "cell_type": "code",
   "execution_count": 13,
   "metadata": {
    "colab": {
     "base_uri": "https://localhost:8080/"
    },
    "id": "2o5biZ_KOTo2",
    "outputId": "0abb7a21-152d-4f1a-e428-a8c66b036841"
   },
   "outputs": [
    {
     "name": "stdout",
     "output_type": "stream",
     "text": [
      "[[ 1  2  3  4]\n",
      " [ 5  6  7  8]\n",
      " [ 9 10 11 12]\n",
      " [13 14 15 16]]\n"
     ]
    }
   ],
   "source": [
    "# Q4. 이제는 다차원 배열을 만들어보겠습니다 \n",
    "# 4*4의 shape을 가지는 다차원 배열을 생성해보세요. 안의 값들은 1부터 채워넣으시면 됩니다. 이를 arr1이라는 변수에 저장하세요\n",
    "arr1 = np.arange(1,17)\n",
    "arr1 = arr1.reshape(4,4)\n",
    "print(arr1)"
   ]
  },
  {
   "cell_type": "code",
   "execution_count": 17,
   "metadata": {
    "colab": {
     "base_uri": "https://localhost:8080/"
    },
    "id": "z6930akMO46o",
    "outputId": "7bb0dd19-963e-4845-b613-fb97d3f5f54c"
   },
   "outputs": [
    {
     "data": {
      "text/plain": [
       "array([ 2,  6, 10, 14])"
      ]
     },
     "execution_count": 17,
     "metadata": {},
     "output_type": "execute_result"
    }
   ],
   "source": [
    "# Q5. arr1에서 2,6,10,14만 추출하는 코드를 작성해보세요\n",
    "arr1[0:,1]"
   ]
  },
  {
   "cell_type": "code",
   "execution_count": 19,
   "metadata": {
    "colab": {
     "base_uri": "https://localhost:8080/"
    },
    "id": "4rK_OckmPKKS",
    "outputId": "0f653aa9-6c67-46da-9198-dfe849a318c1"
   },
   "outputs": [
    {
     "data": {
      "text/plain": [
       "array([[ 7,  8],\n",
       "       [11, 12]])"
      ]
     },
     "execution_count": 19,
     "metadata": {},
     "output_type": "execute_result"
    }
   ],
   "source": [
    "#Q6. arr1에서 7, 8, 11, 12를 추출하는 코드를 작성해보세요\n",
    "arr1[1:3,2:4]"
   ]
  },
  {
   "cell_type": "code",
   "execution_count": 20,
   "metadata": {
    "colab": {
     "base_uri": "https://localhost:8080/"
    },
    "id": "vVR9uAcCQEcy",
    "outputId": "9d0c43c4-548d-4806-f3ff-3f121d3aed0e"
   },
   "outputs": [
    {
     "data": {
      "text/plain": [
       "array([ 7, 15])"
      ]
     },
     "execution_count": 20,
     "metadata": {},
     "output_type": "execute_result"
    }
   ],
   "source": [
    "#Q7. arr1에서 7,15를 추출하는 코드를 작성해보세요\n",
    "arr1[[1,3],[2,2]]"
   ]
  },
  {
   "cell_type": "code",
   "execution_count": 23,
   "metadata": {
    "colab": {
     "base_uri": "https://localhost:8080/"
    },
    "id": "8cqyYW7fQEgK",
    "outputId": "e905782f-aec4-4acb-ea22-bfef6c0d244b"
   },
   "outputs": [
    {
     "name": "stdout",
     "output_type": "stream",
     "text": [
      "[[ 1  2  3  4]\n",
      " [ 5  6  7  8]\n",
      " [ 9 10 11 12]\n",
      " [13 14 15 16]\n",
      " [17 18 19 20]\n",
      " [21 22 23 24]]\n"
     ]
    }
   ],
   "source": [
    "#Q8. 아래에 있는 arr2를 arr1 아래에다가 붙여서 arr3을 만들어보세요\n",
    "arr2 = np.array([[17,18,19,20],[21,22,23,24]])\n",
    "arr3 = np.append(arr1, arr2, axis = 0)\n",
    "print(arr3)"
   ]
  },
  {
   "cell_type": "code",
   "execution_count": 24,
   "metadata": {
    "colab": {
     "base_uri": "https://localhost:8080/"
    },
    "id": "I2R96itjSSJ7",
    "outputId": "259c6057-7072-48bb-af8e-ec6167bfecfb"
   },
   "outputs": [
    {
     "data": {
      "text/plain": [
       "array([15, 16, 17, 18, 19, 20, 21, 22, 23, 24])"
      ]
     },
     "execution_count": 24,
     "metadata": {},
     "output_type": "execute_result"
    }
   ],
   "source": [
    "# Q9. arr3에서 15이상인 값들만 추출하는 코드를 작성해보세요\n",
    "arr3[arr3 >= 15]"
   ]
  },
  {
   "cell_type": "code",
   "execution_count": 30,
   "metadata": {
    "colab": {
     "base_uri": "https://localhost:8080/"
    },
    "id": "maEsAQaDSSRH",
    "outputId": "8d75ab0f-0f9b-498e-92b2-c191bbcbe758"
   },
   "outputs": [
    {
     "name": "stdout",
     "output_type": "stream",
     "text": [
      "[[0.67348409 0.35534995 0.60182129 0.12687345 0.25133732 0.69994879\n",
      "  0.2105816  0.31517092 0.08448549 0.52312223]]\n"
     ]
    },
    {
     "data": {
      "text/plain": [
       "array([[0.67348409, 0.35534995, 0.60182129, 0.12687345, 0.25133732,\n",
       "        0.        , 0.2105816 , 0.31517092, 0.08448549, 0.52312223]])"
      ]
     },
     "execution_count": 30,
     "metadata": {},
     "output_type": "execute_result"
    }
   ],
   "source": [
    "# Q10. 1*10의 array를 값이 랜덤이 되게 만들고 그 중에서 최댓값을 0으로 바꿔보세요\n",
    "# 세션에서 명확하게 다루지 않은 내용입니다. 슬랙에 질문하거나 구글을 활용하시면 좋을 것 같습니다\n",
    "arr4 = np.random.random((1,10))\n",
    "print(arr4)\n",
    "np.where(arr4 == np.max(arr4), 0, arr4)"
   ]
  },
  {
   "cell_type": "markdown",
   "metadata": {
    "id": "jkMrJVTJVeBP"
   },
   "source": [
    "# Pandas"
   ]
  },
  {
   "cell_type": "code",
   "execution_count": null,
   "metadata": {
    "id": "AhSfx9enVgVz"
   },
   "outputs": [],
   "source": [
    "# 준비\n",
    "# 먼저 타이타닉 데이터셋을 구글 드라이브 마운트 혹은 파일을 경로를 알기 쉬운 곳에 가져와주세요\n",
    "#from google.colab import drive\n",
    "#drive.mount('/content/drive')"
   ]
  },
  {
   "cell_type": "code",
   "execution_count": 33,
   "metadata": {
    "colab": {
     "base_uri": "https://localhost:8080/",
     "height": 143
    },
    "id": "QK7nQTAtXoYy",
    "outputId": "674fb6a7-483b-4f1f-a2fe-96418bbbadc8"
   },
   "outputs": [
    {
     "data": {
      "text/html": [
       "<div>\n",
       "<style scoped>\n",
       "    .dataframe tbody tr th:only-of-type {\n",
       "        vertical-align: middle;\n",
       "    }\n",
       "\n",
       "    .dataframe tbody tr th {\n",
       "        vertical-align: top;\n",
       "    }\n",
       "\n",
       "    .dataframe thead th {\n",
       "        text-align: right;\n",
       "    }\n",
       "</style>\n",
       "<table border=\"1\" class=\"dataframe\">\n",
       "  <thead>\n",
       "    <tr style=\"text-align: right;\">\n",
       "      <th></th>\n",
       "      <th>Pclass</th>\n",
       "      <th>Name</th>\n",
       "      <th>Sex</th>\n",
       "      <th>Age</th>\n",
       "      <th>SibSp</th>\n",
       "      <th>Parch</th>\n",
       "      <th>Ticket</th>\n",
       "      <th>Fare</th>\n",
       "      <th>Cabin</th>\n",
       "      <th>Embarked</th>\n",
       "    </tr>\n",
       "    <tr>\n",
       "      <th>PassengerId</th>\n",
       "      <th></th>\n",
       "      <th></th>\n",
       "      <th></th>\n",
       "      <th></th>\n",
       "      <th></th>\n",
       "      <th></th>\n",
       "      <th></th>\n",
       "      <th></th>\n",
       "      <th></th>\n",
       "      <th></th>\n",
       "    </tr>\n",
       "  </thead>\n",
       "  <tbody>\n",
       "    <tr>\n",
       "      <th>892</th>\n",
       "      <td>3</td>\n",
       "      <td>Kelly, Mr. James</td>\n",
       "      <td>male</td>\n",
       "      <td>34.5</td>\n",
       "      <td>0</td>\n",
       "      <td>0</td>\n",
       "      <td>330911</td>\n",
       "      <td>7.8292</td>\n",
       "      <td>NaN</td>\n",
       "      <td>Q</td>\n",
       "    </tr>\n",
       "    <tr>\n",
       "      <th>893</th>\n",
       "      <td>3</td>\n",
       "      <td>Wilkes, Mrs. James (Ellen Needs)</td>\n",
       "      <td>female</td>\n",
       "      <td>47.0</td>\n",
       "      <td>1</td>\n",
       "      <td>0</td>\n",
       "      <td>363272</td>\n",
       "      <td>7.0000</td>\n",
       "      <td>NaN</td>\n",
       "      <td>S</td>\n",
       "    </tr>\n",
       "  </tbody>\n",
       "</table>\n",
       "</div>"
      ],
      "text/plain": [
       "             Pclass                              Name     Sex   Age  SibSp  \\\n",
       "PassengerId                                                                  \n",
       "892               3                  Kelly, Mr. James    male  34.5      0   \n",
       "893               3  Wilkes, Mrs. James (Ellen Needs)  female  47.0      1   \n",
       "\n",
       "             Parch  Ticket    Fare Cabin Embarked  \n",
       "PassengerId                                        \n",
       "892              0  330911  7.8292   NaN        Q  \n",
       "893              0  363272  7.0000   NaN        S  "
      ]
     },
     "execution_count": 33,
     "metadata": {},
     "output_type": "execute_result"
    }
   ],
   "source": [
    "# Q11. Titanic 파일을 불러와 titanic_df라는 변수에 저장하고(저장할 때 첫 번째 열은 index로 지정) 위에서 2개의 행만 출력해보세요\n",
    "titanic_df = pd.read_csv(\"Titanic.csv\", index_col = 0)\n",
    "titanic_df[:2]"
   ]
  },
  {
   "cell_type": "code",
   "execution_count": 35,
   "metadata": {
    "colab": {
     "base_uri": "https://localhost:8080/",
     "height": 455
    },
    "id": "dUQ5KmFltPj5",
    "outputId": "3a3e71b3-777f-419b-e574-59d6dd014799"
   },
   "outputs": [
    {
     "data": {
      "text/html": [
       "<div>\n",
       "<style scoped>\n",
       "    .dataframe tbody tr th:only-of-type {\n",
       "        vertical-align: middle;\n",
       "    }\n",
       "\n",
       "    .dataframe tbody tr th {\n",
       "        vertical-align: top;\n",
       "    }\n",
       "\n",
       "    .dataframe thead th {\n",
       "        text-align: right;\n",
       "    }\n",
       "</style>\n",
       "<table border=\"1\" class=\"dataframe\">\n",
       "  <thead>\n",
       "    <tr style=\"text-align: right;\">\n",
       "      <th></th>\n",
       "      <th>Pclass</th>\n",
       "      <th>Name</th>\n",
       "      <th>Sex</th>\n",
       "      <th>Age</th>\n",
       "      <th>SibSp</th>\n",
       "      <th>Parch</th>\n",
       "      <th>Ticket</th>\n",
       "      <th>Fare</th>\n",
       "      <th>Cabin</th>\n",
       "      <th>Embarked</th>\n",
       "    </tr>\n",
       "    <tr>\n",
       "      <th>PassengerId</th>\n",
       "      <th></th>\n",
       "      <th></th>\n",
       "      <th></th>\n",
       "      <th></th>\n",
       "      <th></th>\n",
       "      <th></th>\n",
       "      <th></th>\n",
       "      <th></th>\n",
       "      <th></th>\n",
       "      <th></th>\n",
       "    </tr>\n",
       "  </thead>\n",
       "  <tbody>\n",
       "    <tr>\n",
       "      <th>904</th>\n",
       "      <td>1</td>\n",
       "      <td>Snyder, Mrs. John Pillsbury (Nelle Stevenson)</td>\n",
       "      <td>female</td>\n",
       "      <td>23.0</td>\n",
       "      <td>1</td>\n",
       "      <td>0</td>\n",
       "      <td>21228</td>\n",
       "      <td>82.2667</td>\n",
       "      <td>B45</td>\n",
       "      <td>S</td>\n",
       "    </tr>\n",
       "    <tr>\n",
       "      <th>906</th>\n",
       "      <td>1</td>\n",
       "      <td>Chaffee, Mrs. Herbert Fuller (Carrie Constance...</td>\n",
       "      <td>female</td>\n",
       "      <td>47.0</td>\n",
       "      <td>1</td>\n",
       "      <td>0</td>\n",
       "      <td>W.E.P. 5734</td>\n",
       "      <td>61.1750</td>\n",
       "      <td>E31</td>\n",
       "      <td>S</td>\n",
       "    </tr>\n",
       "    <tr>\n",
       "      <th>916</th>\n",
       "      <td>1</td>\n",
       "      <td>Ryerson, Mrs. Arthur Larned (Emily Maria Borie)</td>\n",
       "      <td>female</td>\n",
       "      <td>48.0</td>\n",
       "      <td>1</td>\n",
       "      <td>3</td>\n",
       "      <td>PC 17608</td>\n",
       "      <td>262.3750</td>\n",
       "      <td>B57 B59 B63 B66</td>\n",
       "      <td>C</td>\n",
       "    </tr>\n",
       "    <tr>\n",
       "      <th>918</th>\n",
       "      <td>1</td>\n",
       "      <td>Ostby, Miss. Helene Ragnhild</td>\n",
       "      <td>female</td>\n",
       "      <td>22.0</td>\n",
       "      <td>0</td>\n",
       "      <td>1</td>\n",
       "      <td>113509</td>\n",
       "      <td>61.9792</td>\n",
       "      <td>B36</td>\n",
       "      <td>C</td>\n",
       "    </tr>\n",
       "    <tr>\n",
       "      <th>920</th>\n",
       "      <td>1</td>\n",
       "      <td>Brady, Mr. John Bertram</td>\n",
       "      <td>male</td>\n",
       "      <td>41.0</td>\n",
       "      <td>0</td>\n",
       "      <td>0</td>\n",
       "      <td>113054</td>\n",
       "      <td>30.5000</td>\n",
       "      <td>A21</td>\n",
       "      <td>S</td>\n",
       "    </tr>\n",
       "    <tr>\n",
       "      <th>...</th>\n",
       "      <td>...</td>\n",
       "      <td>...</td>\n",
       "      <td>...</td>\n",
       "      <td>...</td>\n",
       "      <td>...</td>\n",
       "      <td>...</td>\n",
       "      <td>...</td>\n",
       "      <td>...</td>\n",
       "      <td>...</td>\n",
       "      <td>...</td>\n",
       "    </tr>\n",
       "    <tr>\n",
       "      <th>1296</th>\n",
       "      <td>1</td>\n",
       "      <td>Frauenthal, Mr. Isaac Gerald</td>\n",
       "      <td>male</td>\n",
       "      <td>43.0</td>\n",
       "      <td>1</td>\n",
       "      <td>0</td>\n",
       "      <td>17765</td>\n",
       "      <td>27.7208</td>\n",
       "      <td>D40</td>\n",
       "      <td>C</td>\n",
       "    </tr>\n",
       "    <tr>\n",
       "      <th>1297</th>\n",
       "      <td>2</td>\n",
       "      <td>Nourney, Mr. Alfred (Baron von Drachstedt\")\"</td>\n",
       "      <td>male</td>\n",
       "      <td>20.0</td>\n",
       "      <td>0</td>\n",
       "      <td>0</td>\n",
       "      <td>SC/PARIS 2166</td>\n",
       "      <td>13.8625</td>\n",
       "      <td>D38</td>\n",
       "      <td>C</td>\n",
       "    </tr>\n",
       "    <tr>\n",
       "      <th>1299</th>\n",
       "      <td>1</td>\n",
       "      <td>Widener, Mr. George Dunton</td>\n",
       "      <td>male</td>\n",
       "      <td>50.0</td>\n",
       "      <td>1</td>\n",
       "      <td>1</td>\n",
       "      <td>113503</td>\n",
       "      <td>211.5000</td>\n",
       "      <td>C80</td>\n",
       "      <td>C</td>\n",
       "    </tr>\n",
       "    <tr>\n",
       "      <th>1303</th>\n",
       "      <td>1</td>\n",
       "      <td>Minahan, Mrs. William Edward (Lillian E Thorpe)</td>\n",
       "      <td>female</td>\n",
       "      <td>37.0</td>\n",
       "      <td>1</td>\n",
       "      <td>0</td>\n",
       "      <td>19928</td>\n",
       "      <td>90.0000</td>\n",
       "      <td>C78</td>\n",
       "      <td>Q</td>\n",
       "    </tr>\n",
       "    <tr>\n",
       "      <th>1306</th>\n",
       "      <td>1</td>\n",
       "      <td>Oliva y Ocana, Dona. Fermina</td>\n",
       "      <td>female</td>\n",
       "      <td>39.0</td>\n",
       "      <td>0</td>\n",
       "      <td>0</td>\n",
       "      <td>PC 17758</td>\n",
       "      <td>108.9000</td>\n",
       "      <td>C105</td>\n",
       "      <td>C</td>\n",
       "    </tr>\n",
       "  </tbody>\n",
       "</table>\n",
       "<p>87 rows × 10 columns</p>\n",
       "</div>"
      ],
      "text/plain": [
       "             Pclass                                               Name  \\\n",
       "PassengerId                                                              \n",
       "904               1      Snyder, Mrs. John Pillsbury (Nelle Stevenson)   \n",
       "906               1  Chaffee, Mrs. Herbert Fuller (Carrie Constance...   \n",
       "916               1    Ryerson, Mrs. Arthur Larned (Emily Maria Borie)   \n",
       "918               1                       Ostby, Miss. Helene Ragnhild   \n",
       "920               1                            Brady, Mr. John Bertram   \n",
       "...             ...                                                ...   \n",
       "1296              1                       Frauenthal, Mr. Isaac Gerald   \n",
       "1297              2       Nourney, Mr. Alfred (Baron von Drachstedt\")\"   \n",
       "1299              1                         Widener, Mr. George Dunton   \n",
       "1303              1    Minahan, Mrs. William Edward (Lillian E Thorpe)   \n",
       "1306              1                       Oliva y Ocana, Dona. Fermina   \n",
       "\n",
       "                Sex   Age  SibSp  Parch         Ticket      Fare  \\\n",
       "PassengerId                                                        \n",
       "904          female  23.0      1      0          21228   82.2667   \n",
       "906          female  47.0      1      0    W.E.P. 5734   61.1750   \n",
       "916          female  48.0      1      3       PC 17608  262.3750   \n",
       "918          female  22.0      0      1         113509   61.9792   \n",
       "920            male  41.0      0      0         113054   30.5000   \n",
       "...             ...   ...    ...    ...            ...       ...   \n",
       "1296           male  43.0      1      0          17765   27.7208   \n",
       "1297           male  20.0      0      0  SC/PARIS 2166   13.8625   \n",
       "1299           male  50.0      1      1         113503  211.5000   \n",
       "1303         female  37.0      1      0          19928   90.0000   \n",
       "1306         female  39.0      0      0       PC 17758  108.9000   \n",
       "\n",
       "                       Cabin Embarked  \n",
       "PassengerId                            \n",
       "904                      B45        S  \n",
       "906                      E31        S  \n",
       "916          B57 B59 B63 B66        C  \n",
       "918                      B36        C  \n",
       "920                      A21        S  \n",
       "...                      ...      ...  \n",
       "1296                     D40        C  \n",
       "1297                     D38        C  \n",
       "1299                     C80        C  \n",
       "1303                     C78        Q  \n",
       "1306                    C105        C  \n",
       "\n",
       "[87 rows x 10 columns]"
      ]
     },
     "execution_count": 35,
     "metadata": {},
     "output_type": "execute_result"
    }
   ],
   "source": [
    "# Q12. 먼저 결측치를 처리해보겠습니다. 결측치가 하나라도 있는 행은 제거하는 코드를 작성해보세요\n",
    "# EDA 프로젝트 때는 결측치를 다른 값으로 채우거나 없애는 작업을 할 수 있지만 여기서는 없애고 진행하겠습니다\n",
    "titanic_df.dropna(axis = 0)"
   ]
  },
  {
   "cell_type": "code",
   "execution_count": 54,
   "metadata": {
    "colab": {
     "base_uri": "https://localhost:8080/",
     "height": 112
    },
    "id": "YWwpSdkQsbSb",
    "outputId": "f558b598-a0ec-46c1-87a2-9592beaab2ad"
   },
   "outputs": [
    {
     "name": "stdout",
     "output_type": "stream",
     "text": [
      "Dean, Miss. Elizabeth Gladys Millvina\"\"\n",
      "0.17\n"
     ]
    }
   ],
   "source": [
    "# Q13. titanic_df에서 가장 어린 승객의 이름과 나이를 구할 수 있는 코드를 작성해보세요\n",
    "# 답은 여러 개가 있을 수 있습니다. \n",
    "#titanic_df.sort_values(by='Age', ascending=True, inplace=True)\n",
    "#titanic_df[:1]\n",
    "print(titanic_df.loc[titanic_df[\"Age\"].idxmin()]['Name'])\n",
    "print(titanic_df.loc[titanic_df[\"Age\"].idxmin()]['Age'])"
   ]
  },
  {
   "cell_type": "code",
   "execution_count": 56,
   "metadata": {
    "colab": {
     "base_uri": "https://localhost:8080/"
    },
    "id": "RxE3CgrWAR80",
    "outputId": "5ac9950b-4ae8-4f4c-e417-04b7dd725b43"
   },
   "outputs": [
    {
     "name": "stdout",
     "output_type": "stream",
     "text": [
      "가장 비싼 티켓과 가장 싼 티켓의 가격 차이: $ 512.3292\n"
     ]
    }
   ],
   "source": [
    "# Q14. Fare 값이 가장 높은 값과 낮은 값의 차이를 구하는 코드를 작성해보세요\n",
    "# 답은 여러 개가 있을 수 있습니다. \n",
    "print('가장 비싼 티켓과 가장 싼 티켓의 가격 차이: $',titanic_df.loc[titanic_df[\"Fare\"].idxmax()]['Fare'] - titanic_df.loc[titanic_df[\"Fare\"].idxmin()]['Fare'] )"
   ]
  },
  {
   "cell_type": "code",
   "execution_count": 59,
   "metadata": {
    "colab": {
     "base_uri": "https://localhost:8080/"
    },
    "id": "FZOTeTXREZfa",
    "outputId": "fdd359bf-e915-46b6-f820-d82550b4f5bc"
   },
   "outputs": [
    {
     "data": {
      "text/plain": [
       "312.61584000000005"
      ]
     },
     "execution_count": 59,
     "metadata": {},
     "output_type": "execute_result"
    }
   ],
   "source": [
    "# Q15. Fare 값 상위 5명의 평균 가격을 계산하는 코드를 작성해보세요\n",
    "titanic_df.sort_values(by='Fare', ascending=False, inplace=True)\n",
    "titanic_fare = titanic_df[:5]\n",
    "titanic_fare['Fare'].mean()"
   ]
  },
  {
   "cell_type": "code",
   "execution_count": 60,
   "metadata": {
    "colab": {
     "base_uri": "https://localhost:8080/",
     "height": 708
    },
    "id": "-lAYNdDX_Z8b",
    "outputId": "d2dfcbe4-246f-4e8f-8ea0-ae1c82fb5976"
   },
   "outputs": [
    {
     "data": {
      "text/html": [
       "<div>\n",
       "<style scoped>\n",
       "    .dataframe tbody tr th:only-of-type {\n",
       "        vertical-align: middle;\n",
       "    }\n",
       "\n",
       "    .dataframe tbody tr th {\n",
       "        vertical-align: top;\n",
       "    }\n",
       "\n",
       "    .dataframe thead th {\n",
       "        text-align: right;\n",
       "    }\n",
       "</style>\n",
       "<table border=\"1\" class=\"dataframe\">\n",
       "  <thead>\n",
       "    <tr style=\"text-align: right;\">\n",
       "      <th></th>\n",
       "      <th>Pclass</th>\n",
       "      <th>Name</th>\n",
       "      <th>Sex</th>\n",
       "      <th>Age</th>\n",
       "      <th>SibSp</th>\n",
       "      <th>Parch</th>\n",
       "      <th>Ticket</th>\n",
       "      <th>Fare</th>\n",
       "      <th>Cabin</th>\n",
       "      <th>Embarked</th>\n",
       "    </tr>\n",
       "    <tr>\n",
       "      <th>PassengerId</th>\n",
       "      <th></th>\n",
       "      <th></th>\n",
       "      <th></th>\n",
       "      <th></th>\n",
       "      <th></th>\n",
       "      <th></th>\n",
       "      <th></th>\n",
       "      <th></th>\n",
       "      <th></th>\n",
       "      <th></th>\n",
       "    </tr>\n",
       "  </thead>\n",
       "  <tbody>\n",
       "    <tr>\n",
       "      <th>1235</th>\n",
       "      <td>1</td>\n",
       "      <td>Cardeza, Mrs. James Warburton Martinez (Charlo...</td>\n",
       "      <td>female</td>\n",
       "      <td>58.0</td>\n",
       "      <td>0</td>\n",
       "      <td>1</td>\n",
       "      <td>PC 17755</td>\n",
       "      <td>512.3292</td>\n",
       "      <td>B51 B53 B55</td>\n",
       "      <td>C</td>\n",
       "    </tr>\n",
       "    <tr>\n",
       "      <th>961</th>\n",
       "      <td>1</td>\n",
       "      <td>Fortune, Mrs. Mark (Mary McDougald)</td>\n",
       "      <td>female</td>\n",
       "      <td>60.0</td>\n",
       "      <td>1</td>\n",
       "      <td>4</td>\n",
       "      <td>19950</td>\n",
       "      <td>263.0000</td>\n",
       "      <td>C23 C25 C27</td>\n",
       "      <td>S</td>\n",
       "    </tr>\n",
       "    <tr>\n",
       "      <th>1267</th>\n",
       "      <td>1</td>\n",
       "      <td>Bowen, Miss. Grace Scott</td>\n",
       "      <td>female</td>\n",
       "      <td>45.0</td>\n",
       "      <td>0</td>\n",
       "      <td>0</td>\n",
       "      <td>PC 17608</td>\n",
       "      <td>262.3750</td>\n",
       "      <td>NaN</td>\n",
       "      <td>C</td>\n",
       "    </tr>\n",
       "    <tr>\n",
       "      <th>916</th>\n",
       "      <td>1</td>\n",
       "      <td>Ryerson, Mrs. Arthur Larned (Emily Maria Borie)</td>\n",
       "      <td>female</td>\n",
       "      <td>48.0</td>\n",
       "      <td>1</td>\n",
       "      <td>3</td>\n",
       "      <td>PC 17608</td>\n",
       "      <td>262.3750</td>\n",
       "      <td>B57 B59 B63 B66</td>\n",
       "      <td>C</td>\n",
       "    </tr>\n",
       "    <tr>\n",
       "      <th>1006</th>\n",
       "      <td>1</td>\n",
       "      <td>Straus, Mrs. Isidor (Rosalie Ida Blun)</td>\n",
       "      <td>female</td>\n",
       "      <td>63.0</td>\n",
       "      <td>1</td>\n",
       "      <td>0</td>\n",
       "      <td>PC 17483</td>\n",
       "      <td>221.7792</td>\n",
       "      <td>C55 C57</td>\n",
       "      <td>S</td>\n",
       "    </tr>\n",
       "    <tr>\n",
       "      <th>1110</th>\n",
       "      <td>1</td>\n",
       "      <td>Widener, Mrs. George Dunton (Eleanor Elkins)</td>\n",
       "      <td>female</td>\n",
       "      <td>50.0</td>\n",
       "      <td>1</td>\n",
       "      <td>1</td>\n",
       "      <td>113503</td>\n",
       "      <td>211.5000</td>\n",
       "      <td>C80</td>\n",
       "      <td>C</td>\n",
       "    </tr>\n",
       "    <tr>\n",
       "      <th>1206</th>\n",
       "      <td>1</td>\n",
       "      <td>White, Mrs. John Stuart (Ella Holmes)</td>\n",
       "      <td>female</td>\n",
       "      <td>55.0</td>\n",
       "      <td>0</td>\n",
       "      <td>0</td>\n",
       "      <td>PC 17760</td>\n",
       "      <td>135.6333</td>\n",
       "      <td>C32</td>\n",
       "      <td>C</td>\n",
       "    </tr>\n",
       "    <tr>\n",
       "      <th>1131</th>\n",
       "      <td>1</td>\n",
       "      <td>Douglas, Mrs. Walter Donald (Mahala Dutton)</td>\n",
       "      <td>female</td>\n",
       "      <td>48.0</td>\n",
       "      <td>1</td>\n",
       "      <td>0</td>\n",
       "      <td>PC 17761</td>\n",
       "      <td>106.4250</td>\n",
       "      <td>C86</td>\n",
       "      <td>C</td>\n",
       "    </tr>\n",
       "    <tr>\n",
       "      <th>1071</th>\n",
       "      <td>1</td>\n",
       "      <td>Compton, Mrs. Alexander Taylor (Mary Eliza Ing...</td>\n",
       "      <td>female</td>\n",
       "      <td>64.0</td>\n",
       "      <td>0</td>\n",
       "      <td>2</td>\n",
       "      <td>PC 17756</td>\n",
       "      <td>83.1583</td>\n",
       "      <td>E45</td>\n",
       "      <td>C</td>\n",
       "    </tr>\n",
       "    <tr>\n",
       "      <th>1266</th>\n",
       "      <td>1</td>\n",
       "      <td>Dodge, Mrs. Washington (Ruth Vidaver)</td>\n",
       "      <td>female</td>\n",
       "      <td>54.0</td>\n",
       "      <td>1</td>\n",
       "      <td>1</td>\n",
       "      <td>33638</td>\n",
       "      <td>81.8583</td>\n",
       "      <td>A34</td>\n",
       "      <td>S</td>\n",
       "    </tr>\n",
       "    <tr>\n",
       "      <th>1289</th>\n",
       "      <td>1</td>\n",
       "      <td>Frolicher-Stehli, Mrs. Maxmillian (Margaretha ...</td>\n",
       "      <td>female</td>\n",
       "      <td>48.0</td>\n",
       "      <td>1</td>\n",
       "      <td>1</td>\n",
       "      <td>13567</td>\n",
       "      <td>79.2000</td>\n",
       "      <td>B41</td>\n",
       "      <td>C</td>\n",
       "    </tr>\n",
       "    <tr>\n",
       "      <th>988</th>\n",
       "      <td>1</td>\n",
       "      <td>Cavendish, Mrs. Tyrell William (Julia Florence...</td>\n",
       "      <td>female</td>\n",
       "      <td>76.0</td>\n",
       "      <td>1</td>\n",
       "      <td>0</td>\n",
       "      <td>19877</td>\n",
       "      <td>78.8500</td>\n",
       "      <td>C46</td>\n",
       "      <td>S</td>\n",
       "    </tr>\n",
       "    <tr>\n",
       "      <th>940</th>\n",
       "      <td>1</td>\n",
       "      <td>Bucknell, Mrs. William Robert (Emma Eliza Ward)</td>\n",
       "      <td>female</td>\n",
       "      <td>60.0</td>\n",
       "      <td>0</td>\n",
       "      <td>0</td>\n",
       "      <td>11813</td>\n",
       "      <td>76.2917</td>\n",
       "      <td>D15</td>\n",
       "      <td>C</td>\n",
       "    </tr>\n",
       "    <tr>\n",
       "      <th>1242</th>\n",
       "      <td>1</td>\n",
       "      <td>Greenfield, Mrs. Leo David (Blanche Strouse)</td>\n",
       "      <td>female</td>\n",
       "      <td>45.0</td>\n",
       "      <td>0</td>\n",
       "      <td>1</td>\n",
       "      <td>PC 17759</td>\n",
       "      <td>63.3583</td>\n",
       "      <td>D10 D12</td>\n",
       "      <td>C</td>\n",
       "    </tr>\n",
       "    <tr>\n",
       "      <th>906</th>\n",
       "      <td>1</td>\n",
       "      <td>Chaffee, Mrs. Herbert Fuller (Carrie Constance...</td>\n",
       "      <td>female</td>\n",
       "      <td>47.0</td>\n",
       "      <td>1</td>\n",
       "      <td>0</td>\n",
       "      <td>W.E.P. 5734</td>\n",
       "      <td>61.1750</td>\n",
       "      <td>E31</td>\n",
       "      <td>S</td>\n",
       "    </tr>\n",
       "    <tr>\n",
       "      <th>1260</th>\n",
       "      <td>1</td>\n",
       "      <td>Gibson, Mrs. Leonard (Pauline C Boeson)</td>\n",
       "      <td>female</td>\n",
       "      <td>45.0</td>\n",
       "      <td>0</td>\n",
       "      <td>1</td>\n",
       "      <td>112378</td>\n",
       "      <td>59.4000</td>\n",
       "      <td>NaN</td>\n",
       "      <td>C</td>\n",
       "    </tr>\n",
       "    <tr>\n",
       "      <th>992</th>\n",
       "      <td>1</td>\n",
       "      <td>Stengel, Mrs. Charles Emil Henry (Annie May Mo...</td>\n",
       "      <td>female</td>\n",
       "      <td>43.0</td>\n",
       "      <td>1</td>\n",
       "      <td>0</td>\n",
       "      <td>11778</td>\n",
       "      <td>55.4417</td>\n",
       "      <td>C116</td>\n",
       "      <td>C</td>\n",
       "    </tr>\n",
       "    <tr>\n",
       "      <th>936</th>\n",
       "      <td>1</td>\n",
       "      <td>Kimball, Mrs. Edwin Nelson Jr (Gertrude Parsons)</td>\n",
       "      <td>female</td>\n",
       "      <td>45.0</td>\n",
       "      <td>1</td>\n",
       "      <td>0</td>\n",
       "      <td>11753</td>\n",
       "      <td>52.5542</td>\n",
       "      <td>D19</td>\n",
       "      <td>S</td>\n",
       "    </tr>\n",
       "    <tr>\n",
       "      <th>1248</th>\n",
       "      <td>1</td>\n",
       "      <td>Brown, Mrs. John Murray (Caroline Lane Lamson)</td>\n",
       "      <td>female</td>\n",
       "      <td>59.0</td>\n",
       "      <td>2</td>\n",
       "      <td>0</td>\n",
       "      <td>11769</td>\n",
       "      <td>51.4792</td>\n",
       "      <td>C101</td>\n",
       "      <td>S</td>\n",
       "    </tr>\n",
       "    <tr>\n",
       "      <th>1283</th>\n",
       "      <td>1</td>\n",
       "      <td>Lines, Mrs. Ernest H (Elizabeth Lindsey James)</td>\n",
       "      <td>female</td>\n",
       "      <td>51.0</td>\n",
       "      <td>0</td>\n",
       "      <td>1</td>\n",
       "      <td>PC 17592</td>\n",
       "      <td>39.4000</td>\n",
       "      <td>D28</td>\n",
       "      <td>S</td>\n",
       "    </tr>\n",
       "    <tr>\n",
       "      <th>1222</th>\n",
       "      <td>2</td>\n",
       "      <td>Davies, Mrs. John Morgan (Elizabeth Agnes Mary...</td>\n",
       "      <td>female</td>\n",
       "      <td>48.0</td>\n",
       "      <td>0</td>\n",
       "      <td>2</td>\n",
       "      <td>C.A. 33112</td>\n",
       "      <td>36.7500</td>\n",
       "      <td>NaN</td>\n",
       "      <td>S</td>\n",
       "    </tr>\n",
       "    <tr>\n",
       "      <th>1133</th>\n",
       "      <td>2</td>\n",
       "      <td>Christy, Mrs. (Alice Frances)</td>\n",
       "      <td>female</td>\n",
       "      <td>45.0</td>\n",
       "      <td>0</td>\n",
       "      <td>2</td>\n",
       "      <td>237789</td>\n",
       "      <td>30.0000</td>\n",
       "      <td>NaN</td>\n",
       "      <td>S</td>\n",
       "    </tr>\n",
       "    <tr>\n",
       "      <th>1132</th>\n",
       "      <td>1</td>\n",
       "      <td>Lindstrom, Mrs. Carl Johan (Sigrid Posse)</td>\n",
       "      <td>female</td>\n",
       "      <td>55.0</td>\n",
       "      <td>0</td>\n",
       "      <td>0</td>\n",
       "      <td>112377</td>\n",
       "      <td>27.7208</td>\n",
       "      <td>NaN</td>\n",
       "      <td>C</td>\n",
       "    </tr>\n",
       "    <tr>\n",
       "      <th>1116</th>\n",
       "      <td>1</td>\n",
       "      <td>Candee, Mrs. Edward (Helen Churchill Hungerford)</td>\n",
       "      <td>female</td>\n",
       "      <td>53.0</td>\n",
       "      <td>0</td>\n",
       "      <td>0</td>\n",
       "      <td>PC 17606</td>\n",
       "      <td>27.4458</td>\n",
       "      <td>NaN</td>\n",
       "      <td>C</td>\n",
       "    </tr>\n",
       "    <tr>\n",
       "      <th>1197</th>\n",
       "      <td>1</td>\n",
       "      <td>Crosby, Mrs. Edward Gifford (Catherine Elizabe...</td>\n",
       "      <td>female</td>\n",
       "      <td>64.0</td>\n",
       "      <td>1</td>\n",
       "      <td>1</td>\n",
       "      <td>112901</td>\n",
       "      <td>26.5500</td>\n",
       "      <td>B26</td>\n",
       "      <td>S</td>\n",
       "    </tr>\n",
       "    <tr>\n",
       "      <th>1105</th>\n",
       "      <td>2</td>\n",
       "      <td>Howard, Mrs. Benjamin (Ellen Truelove Arman)</td>\n",
       "      <td>female</td>\n",
       "      <td>60.0</td>\n",
       "      <td>1</td>\n",
       "      <td>0</td>\n",
       "      <td>24065</td>\n",
       "      <td>26.0000</td>\n",
       "      <td>NaN</td>\n",
       "      <td>S</td>\n",
       "    </tr>\n",
       "    <tr>\n",
       "      <th>969</th>\n",
       "      <td>1</td>\n",
       "      <td>Cornell, Mrs. Robert Clifford (Malvina Helen L...</td>\n",
       "      <td>female</td>\n",
       "      <td>55.0</td>\n",
       "      <td>2</td>\n",
       "      <td>0</td>\n",
       "      <td>11770</td>\n",
       "      <td>25.7000</td>\n",
       "      <td>C101</td>\n",
       "      <td>S</td>\n",
       "    </tr>\n",
       "    <tr>\n",
       "      <th>1201</th>\n",
       "      <td>3</td>\n",
       "      <td>Hansen, Mrs. Claus Peter (Jennie L Howard)</td>\n",
       "      <td>female</td>\n",
       "      <td>45.0</td>\n",
       "      <td>1</td>\n",
       "      <td>0</td>\n",
       "      <td>350026</td>\n",
       "      <td>14.1083</td>\n",
       "      <td>NaN</td>\n",
       "      <td>S</td>\n",
       "    </tr>\n",
       "    <tr>\n",
       "      <th>911</th>\n",
       "      <td>3</td>\n",
       "      <td>Assaf Khalil, Mrs. Mariana (Miriam\")\"</td>\n",
       "      <td>female</td>\n",
       "      <td>45.0</td>\n",
       "      <td>0</td>\n",
       "      <td>0</td>\n",
       "      <td>2696</td>\n",
       "      <td>7.2250</td>\n",
       "      <td>NaN</td>\n",
       "      <td>C</td>\n",
       "    </tr>\n",
       "    <tr>\n",
       "      <th>893</th>\n",
       "      <td>3</td>\n",
       "      <td>Wilkes, Mrs. James (Ellen Needs)</td>\n",
       "      <td>female</td>\n",
       "      <td>47.0</td>\n",
       "      <td>1</td>\n",
       "      <td>0</td>\n",
       "      <td>363272</td>\n",
       "      <td>7.0000</td>\n",
       "      <td>NaN</td>\n",
       "      <td>S</td>\n",
       "    </tr>\n",
       "  </tbody>\n",
       "</table>\n",
       "</div>"
      ],
      "text/plain": [
       "             Pclass                                               Name  \\\n",
       "PassengerId                                                              \n",
       "1235              1  Cardeza, Mrs. James Warburton Martinez (Charlo...   \n",
       "961               1                Fortune, Mrs. Mark (Mary McDougald)   \n",
       "1267              1                           Bowen, Miss. Grace Scott   \n",
       "916               1    Ryerson, Mrs. Arthur Larned (Emily Maria Borie)   \n",
       "1006              1             Straus, Mrs. Isidor (Rosalie Ida Blun)   \n",
       "1110              1       Widener, Mrs. George Dunton (Eleanor Elkins)   \n",
       "1206              1              White, Mrs. John Stuart (Ella Holmes)   \n",
       "1131              1        Douglas, Mrs. Walter Donald (Mahala Dutton)   \n",
       "1071              1  Compton, Mrs. Alexander Taylor (Mary Eliza Ing...   \n",
       "1266              1              Dodge, Mrs. Washington (Ruth Vidaver)   \n",
       "1289              1  Frolicher-Stehli, Mrs. Maxmillian (Margaretha ...   \n",
       "988               1  Cavendish, Mrs. Tyrell William (Julia Florence...   \n",
       "940               1    Bucknell, Mrs. William Robert (Emma Eliza Ward)   \n",
       "1242              1       Greenfield, Mrs. Leo David (Blanche Strouse)   \n",
       "906               1  Chaffee, Mrs. Herbert Fuller (Carrie Constance...   \n",
       "1260              1            Gibson, Mrs. Leonard (Pauline C Boeson)   \n",
       "992               1  Stengel, Mrs. Charles Emil Henry (Annie May Mo...   \n",
       "936               1   Kimball, Mrs. Edwin Nelson Jr (Gertrude Parsons)   \n",
       "1248              1     Brown, Mrs. John Murray (Caroline Lane Lamson)   \n",
       "1283              1     Lines, Mrs. Ernest H (Elizabeth Lindsey James)   \n",
       "1222              2  Davies, Mrs. John Morgan (Elizabeth Agnes Mary...   \n",
       "1133              2                      Christy, Mrs. (Alice Frances)   \n",
       "1132              1          Lindstrom, Mrs. Carl Johan (Sigrid Posse)   \n",
       "1116              1   Candee, Mrs. Edward (Helen Churchill Hungerford)   \n",
       "1197              1  Crosby, Mrs. Edward Gifford (Catherine Elizabe...   \n",
       "1105              2       Howard, Mrs. Benjamin (Ellen Truelove Arman)   \n",
       "969               1  Cornell, Mrs. Robert Clifford (Malvina Helen L...   \n",
       "1201              3         Hansen, Mrs. Claus Peter (Jennie L Howard)   \n",
       "911               3              Assaf Khalil, Mrs. Mariana (Miriam\")\"   \n",
       "893               3                   Wilkes, Mrs. James (Ellen Needs)   \n",
       "\n",
       "                Sex   Age  SibSp  Parch       Ticket      Fare  \\\n",
       "PassengerId                                                      \n",
       "1235         female  58.0      0      1     PC 17755  512.3292   \n",
       "961          female  60.0      1      4        19950  263.0000   \n",
       "1267         female  45.0      0      0     PC 17608  262.3750   \n",
       "916          female  48.0      1      3     PC 17608  262.3750   \n",
       "1006         female  63.0      1      0     PC 17483  221.7792   \n",
       "1110         female  50.0      1      1       113503  211.5000   \n",
       "1206         female  55.0      0      0     PC 17760  135.6333   \n",
       "1131         female  48.0      1      0     PC 17761  106.4250   \n",
       "1071         female  64.0      0      2     PC 17756   83.1583   \n",
       "1266         female  54.0      1      1        33638   81.8583   \n",
       "1289         female  48.0      1      1        13567   79.2000   \n",
       "988          female  76.0      1      0        19877   78.8500   \n",
       "940          female  60.0      0      0        11813   76.2917   \n",
       "1242         female  45.0      0      1     PC 17759   63.3583   \n",
       "906          female  47.0      1      0  W.E.P. 5734   61.1750   \n",
       "1260         female  45.0      0      1       112378   59.4000   \n",
       "992          female  43.0      1      0        11778   55.4417   \n",
       "936          female  45.0      1      0        11753   52.5542   \n",
       "1248         female  59.0      2      0        11769   51.4792   \n",
       "1283         female  51.0      0      1     PC 17592   39.4000   \n",
       "1222         female  48.0      0      2   C.A. 33112   36.7500   \n",
       "1133         female  45.0      0      2       237789   30.0000   \n",
       "1132         female  55.0      0      0       112377   27.7208   \n",
       "1116         female  53.0      0      0     PC 17606   27.4458   \n",
       "1197         female  64.0      1      1       112901   26.5500   \n",
       "1105         female  60.0      1      0        24065   26.0000   \n",
       "969          female  55.0      2      0        11770   25.7000   \n",
       "1201         female  45.0      1      0       350026   14.1083   \n",
       "911          female  45.0      0      0         2696    7.2250   \n",
       "893          female  47.0      1      0       363272    7.0000   \n",
       "\n",
       "                       Cabin Embarked  \n",
       "PassengerId                            \n",
       "1235             B51 B53 B55        C  \n",
       "961              C23 C25 C27        S  \n",
       "1267                     NaN        C  \n",
       "916          B57 B59 B63 B66        C  \n",
       "1006                 C55 C57        S  \n",
       "1110                     C80        C  \n",
       "1206                     C32        C  \n",
       "1131                     C86        C  \n",
       "1071                     E45        C  \n",
       "1266                     A34        S  \n",
       "1289                     B41        C  \n",
       "988                      C46        S  \n",
       "940                      D15        C  \n",
       "1242                 D10 D12        C  \n",
       "906                      E31        S  \n",
       "1260                     NaN        C  \n",
       "992                     C116        C  \n",
       "936                      D19        S  \n",
       "1248                    C101        S  \n",
       "1283                     D28        S  \n",
       "1222                     NaN        S  \n",
       "1133                     NaN        S  \n",
       "1132                     NaN        C  \n",
       "1116                     NaN        C  \n",
       "1197                     B26        S  \n",
       "1105                     NaN        S  \n",
       "969                     C101        S  \n",
       "1201                     NaN        S  \n",
       "911                      NaN        C  \n",
       "893                      NaN        S  "
      ]
     },
     "execution_count": 60,
     "metadata": {},
     "output_type": "execute_result"
    }
   ],
   "source": [
    "# Q16. 타이타닉 승객 중 여성이면서 나이가 40세 이상인 고객들의 정보를 추출하는 코드를 작성해보세요\n",
    "# 힌트 : 2개의 조건을 동시에 만족할 수 있게 인덱싱하려면 &를 활용하시는 것도 하나의 방법입니다\n",
    "titanic_df[(titanic_df['Age'] >=40) & (titanic_df['Sex'] == 'female')]"
   ]
  },
  {
   "cell_type": "code",
   "execution_count": 65,
   "metadata": {
    "colab": {
     "base_uri": "https://localhost:8080/",
     "height": 206
    },
    "id": "6zkkHP9LBXDU",
    "outputId": "d652a6b5-a143-45f8-ad6d-22cb2b20ac66"
   },
   "outputs": [
    {
     "data": {
      "text/plain": [
       "Embarked  Sex   \n",
       "C         female    35.972973\n",
       "          male      33.722222\n",
       "Q         female    26.625000\n",
       "          male      32.550000\n",
       "S         female    28.129359\n",
       "          male      29.086067\n",
       "Name: Age, dtype: float64"
      ]
     },
     "execution_count": 65,
     "metadata": {},
     "output_type": "execute_result"
    }
   ],
   "source": [
    "# Q17.타이타닉 승객들을 Embarked와 성별을 기준으로 그룹화하고, 각 그룹 별로 평균 나이를 출력해보세요\n",
    "titanic_group = titanic_df.groupby(['Embarked', 'Sex'])\n",
    "titanic_group['Age'].mean()"
   ]
  },
  {
   "cell_type": "code",
   "execution_count": 68,
   "metadata": {
    "colab": {
     "base_uri": "https://localhost:8080/",
     "height": 206
    },
    "id": "X19OQf0BB8nV",
    "outputId": "da891e70-2779-43d3-c45c-0b7d45dea807"
   },
   "outputs": [
    {
     "data": {
      "text/html": [
       "<div>\n",
       "<style scoped>\n",
       "    .dataframe tbody tr th:only-of-type {\n",
       "        vertical-align: middle;\n",
       "    }\n",
       "\n",
       "    .dataframe tbody tr th {\n",
       "        vertical-align: top;\n",
       "    }\n",
       "\n",
       "    .dataframe thead th {\n",
       "        text-align: right;\n",
       "    }\n",
       "</style>\n",
       "<table border=\"1\" class=\"dataframe\">\n",
       "  <thead>\n",
       "    <tr style=\"text-align: right;\">\n",
       "      <th></th>\n",
       "      <th>CUST_ID</th>\n",
       "      <th>ORD_NO</th>\n",
       "      <th>PRDT_CD</th>\n",
       "    </tr>\n",
       "  </thead>\n",
       "  <tbody>\n",
       "    <tr>\n",
       "      <th>0</th>\n",
       "      <td>100</td>\n",
       "      <td>11</td>\n",
       "      <td>9001</td>\n",
       "    </tr>\n",
       "    <tr>\n",
       "      <th>1</th>\n",
       "      <td>100</td>\n",
       "      <td>12</td>\n",
       "      <td>9002</td>\n",
       "    </tr>\n",
       "    <tr>\n",
       "      <th>2</th>\n",
       "      <td>200</td>\n",
       "      <td>13</td>\n",
       "      <td>9001</td>\n",
       "    </tr>\n",
       "    <tr>\n",
       "      <th>3</th>\n",
       "      <td>200</td>\n",
       "      <td>14</td>\n",
       "      <td>9003</td>\n",
       "    </tr>\n",
       "    <tr>\n",
       "      <th>4</th>\n",
       "      <td>300</td>\n",
       "      <td>15</td>\n",
       "      <td>9003</td>\n",
       "    </tr>\n",
       "  </tbody>\n",
       "</table>\n",
       "</div>"
      ],
      "text/plain": [
       "   CUST_ID  ORD_NO  PRDT_CD\n",
       "0      100      11     9001\n",
       "1      100      12     9002\n",
       "2      200      13     9001\n",
       "3      200      14     9003\n",
       "4      300      15     9003"
      ]
     },
     "execution_count": 68,
     "metadata": {},
     "output_type": "execute_result"
    }
   ],
   "source": [
    "# Q18. 이제는 3개의 데이터프레임을 병합해보겠습니다\n",
    "# 먼저 아래 3개의 데이터프레임을 생성하는 코드를 만들어보세요\n",
    "# 주문 정보 ord_df\n",
    "ord_df = pd.DataFrame({'CUST_ID':[100, 100, 200, 200, 300],\n",
    "                        'ORD_NO':[11, 12, 13, 14, 15],\n",
    "                        'PRDT_CD':[9001, 9002, 9001, 9003, 9003]})\n",
    "ord_df"
   ]
  },
  {
   "cell_type": "code",
   "execution_count": 67,
   "metadata": {
    "colab": {
     "base_uri": "https://localhost:8080/",
     "height": 175
    },
    "id": "4Qe0n8bZFXqO",
    "outputId": "fdccd38e-0b46-4c9a-8c52-7d9fedc9a28b"
   },
   "outputs": [
    {
     "data": {
      "text/html": [
       "<div>\n",
       "<style scoped>\n",
       "    .dataframe tbody tr th:only-of-type {\n",
       "        vertical-align: middle;\n",
       "    }\n",
       "\n",
       "    .dataframe tbody tr th {\n",
       "        vertical-align: top;\n",
       "    }\n",
       "\n",
       "    .dataframe thead th {\n",
       "        text-align: right;\n",
       "    }\n",
       "</style>\n",
       "<table border=\"1\" class=\"dataframe\">\n",
       "  <thead>\n",
       "    <tr style=\"text-align: right;\">\n",
       "      <th></th>\n",
       "      <th>CUST_ID</th>\n",
       "      <th>NAME</th>\n",
       "    </tr>\n",
       "  </thead>\n",
       "  <tbody>\n",
       "    <tr>\n",
       "      <th>0</th>\n",
       "      <td>100</td>\n",
       "      <td>kim</td>\n",
       "    </tr>\n",
       "    <tr>\n",
       "      <th>1</th>\n",
       "      <td>200</td>\n",
       "      <td>park</td>\n",
       "    </tr>\n",
       "    <tr>\n",
       "      <th>2</th>\n",
       "      <td>300</td>\n",
       "      <td>ahn</td>\n",
       "    </tr>\n",
       "    <tr>\n",
       "      <th>3</th>\n",
       "      <td>400</td>\n",
       "      <td>choi</td>\n",
       "    </tr>\n",
       "  </tbody>\n",
       "</table>\n",
       "</div>"
      ],
      "text/plain": [
       "   CUST_ID  NAME\n",
       "0      100   kim\n",
       "1      200  park\n",
       "2      300   ahn\n",
       "3      400  choi"
      ]
     },
     "execution_count": 67,
     "metadata": {},
     "output_type": "execute_result"
    }
   ],
   "source": [
    "# 고객 정보 cust_df\n",
    "cust_df = pd.DataFrame({'CUST_ID':[100, 200, 300, 400],\n",
    "                        'NAME':['kim', 'park', 'ahn', 'choi']})\n",
    "cust_df"
   ]
  },
  {
   "cell_type": "code",
   "execution_count": 69,
   "metadata": {
    "colab": {
     "base_uri": "https://localhost:8080/",
     "height": 143
    },
    "id": "khFC-sA6FhHK",
    "outputId": "6208d838-69b5-47a8-fefc-9d5a7b883516"
   },
   "outputs": [
    {
     "data": {
      "text/html": [
       "<div>\n",
       "<style scoped>\n",
       "    .dataframe tbody tr th:only-of-type {\n",
       "        vertical-align: middle;\n",
       "    }\n",
       "\n",
       "    .dataframe tbody tr th {\n",
       "        vertical-align: top;\n",
       "    }\n",
       "\n",
       "    .dataframe thead th {\n",
       "        text-align: right;\n",
       "    }\n",
       "</style>\n",
       "<table border=\"1\" class=\"dataframe\">\n",
       "  <thead>\n",
       "    <tr style=\"text-align: right;\">\n",
       "      <th></th>\n",
       "      <th>PRDT_CD</th>\n",
       "      <th>NM</th>\n",
       "      <th>PRICE</th>\n",
       "    </tr>\n",
       "  </thead>\n",
       "  <tbody>\n",
       "    <tr>\n",
       "      <th>0</th>\n",
       "      <td>9001</td>\n",
       "      <td>Notebook</td>\n",
       "      <td>1000000</td>\n",
       "    </tr>\n",
       "    <tr>\n",
       "      <th>1</th>\n",
       "      <td>9002</td>\n",
       "      <td>TABLET</td>\n",
       "      <td>1500000</td>\n",
       "    </tr>\n",
       "    <tr>\n",
       "      <th>2</th>\n",
       "      <td>9003</td>\n",
       "      <td>TV</td>\n",
       "      <td>2000000</td>\n",
       "    </tr>\n",
       "  </tbody>\n",
       "</table>\n",
       "</div>"
      ],
      "text/plain": [
       "   PRDT_CD        NM    PRICE\n",
       "0     9001  Notebook  1000000\n",
       "1     9002    TABLET  1500000\n",
       "2     9003        TV  2000000"
      ]
     },
     "execution_count": 69,
     "metadata": {},
     "output_type": "execute_result"
    }
   ],
   "source": [
    "# 상품정보 prdt_df\n",
    "prdt_df = pd.DataFrame({'PRDT_CD':[9001, 9002, 9003],\n",
    "                        'NM':['Notebook', 'TABLET', 'TV'],\n",
    "                        'PRICE':[1000000, 1500000, 2000000]})\n",
    "prdt_df"
   ]
  },
  {
   "cell_type": "code",
   "execution_count": 70,
   "metadata": {
    "colab": {
     "base_uri": "https://localhost:8080/",
     "height": 206
    },
    "id": "eqEgn0FKFvEG",
    "outputId": "2d3cd1b3-73b1-4c04-87ad-9cb7fb3b4356"
   },
   "outputs": [
    {
     "data": {
      "text/html": [
       "<div>\n",
       "<style scoped>\n",
       "    .dataframe tbody tr th:only-of-type {\n",
       "        vertical-align: middle;\n",
       "    }\n",
       "\n",
       "    .dataframe tbody tr th {\n",
       "        vertical-align: top;\n",
       "    }\n",
       "\n",
       "    .dataframe thead th {\n",
       "        text-align: right;\n",
       "    }\n",
       "</style>\n",
       "<table border=\"1\" class=\"dataframe\">\n",
       "  <thead>\n",
       "    <tr style=\"text-align: right;\">\n",
       "      <th></th>\n",
       "      <th>CUST_ID</th>\n",
       "      <th>ORD_NO</th>\n",
       "      <th>PRDT_CD</th>\n",
       "      <th>NAME</th>\n",
       "    </tr>\n",
       "  </thead>\n",
       "  <tbody>\n",
       "    <tr>\n",
       "      <th>0</th>\n",
       "      <td>100</td>\n",
       "      <td>11</td>\n",
       "      <td>9001</td>\n",
       "      <td>kim</td>\n",
       "    </tr>\n",
       "    <tr>\n",
       "      <th>1</th>\n",
       "      <td>100</td>\n",
       "      <td>12</td>\n",
       "      <td>9002</td>\n",
       "      <td>kim</td>\n",
       "    </tr>\n",
       "    <tr>\n",
       "      <th>2</th>\n",
       "      <td>200</td>\n",
       "      <td>13</td>\n",
       "      <td>9001</td>\n",
       "      <td>park</td>\n",
       "    </tr>\n",
       "    <tr>\n",
       "      <th>3</th>\n",
       "      <td>200</td>\n",
       "      <td>14</td>\n",
       "      <td>9003</td>\n",
       "      <td>park</td>\n",
       "    </tr>\n",
       "    <tr>\n",
       "      <th>4</th>\n",
       "      <td>300</td>\n",
       "      <td>15</td>\n",
       "      <td>9003</td>\n",
       "      <td>ahn</td>\n",
       "    </tr>\n",
       "  </tbody>\n",
       "</table>\n",
       "</div>"
      ],
      "text/plain": [
       "   CUST_ID  ORD_NO  PRDT_CD  NAME\n",
       "0      100      11     9001   kim\n",
       "1      100      12     9002   kim\n",
       "2      200      13     9001  park\n",
       "3      200      14     9003  park\n",
       "4      300      15     9003   ahn"
      ]
     },
     "execution_count": 70,
     "metadata": {},
     "output_type": "execute_result"
    }
   ],
   "source": [
    "# Q19. ord_df와 cust_df를 병합하여 아래와 같은 결과가 나오게 코드를 작성해보세요. ord_cust_df라는 변수로 저장하세요\n",
    "ord_cust_df = pd.merge(ord_df, cust_df, how='left', on='CUST_ID')\n",
    "ord_cust_df"
   ]
  },
  {
   "cell_type": "code",
   "execution_count": 71,
   "metadata": {
    "colab": {
     "base_uri": "https://localhost:8080/",
     "height": 206
    },
    "id": "uh6zaay-GKkB",
    "outputId": "a329ff33-ce28-4c59-8bac-52d983c2f5fd"
   },
   "outputs": [
    {
     "data": {
      "text/html": [
       "<div>\n",
       "<style scoped>\n",
       "    .dataframe tbody tr th:only-of-type {\n",
       "        vertical-align: middle;\n",
       "    }\n",
       "\n",
       "    .dataframe tbody tr th {\n",
       "        vertical-align: top;\n",
       "    }\n",
       "\n",
       "    .dataframe thead th {\n",
       "        text-align: right;\n",
       "    }\n",
       "</style>\n",
       "<table border=\"1\" class=\"dataframe\">\n",
       "  <thead>\n",
       "    <tr style=\"text-align: right;\">\n",
       "      <th></th>\n",
       "      <th>CUST_ID</th>\n",
       "      <th>ORD_NO</th>\n",
       "      <th>PRDT_CD</th>\n",
       "      <th>NAME</th>\n",
       "      <th>NM</th>\n",
       "      <th>PRICE</th>\n",
       "    </tr>\n",
       "  </thead>\n",
       "  <tbody>\n",
       "    <tr>\n",
       "      <th>0</th>\n",
       "      <td>100</td>\n",
       "      <td>11</td>\n",
       "      <td>9001</td>\n",
       "      <td>kim</td>\n",
       "      <td>Notebook</td>\n",
       "      <td>1000000</td>\n",
       "    </tr>\n",
       "    <tr>\n",
       "      <th>1</th>\n",
       "      <td>100</td>\n",
       "      <td>12</td>\n",
       "      <td>9002</td>\n",
       "      <td>kim</td>\n",
       "      <td>TABLET</td>\n",
       "      <td>1500000</td>\n",
       "    </tr>\n",
       "    <tr>\n",
       "      <th>2</th>\n",
       "      <td>200</td>\n",
       "      <td>13</td>\n",
       "      <td>9001</td>\n",
       "      <td>park</td>\n",
       "      <td>Notebook</td>\n",
       "      <td>1000000</td>\n",
       "    </tr>\n",
       "    <tr>\n",
       "      <th>3</th>\n",
       "      <td>200</td>\n",
       "      <td>14</td>\n",
       "      <td>9003</td>\n",
       "      <td>park</td>\n",
       "      <td>TV</td>\n",
       "      <td>2000000</td>\n",
       "    </tr>\n",
       "    <tr>\n",
       "      <th>4</th>\n",
       "      <td>300</td>\n",
       "      <td>15</td>\n",
       "      <td>9003</td>\n",
       "      <td>ahn</td>\n",
       "      <td>TV</td>\n",
       "      <td>2000000</td>\n",
       "    </tr>\n",
       "  </tbody>\n",
       "</table>\n",
       "</div>"
      ],
      "text/plain": [
       "   CUST_ID  ORD_NO  PRDT_CD  NAME        NM    PRICE\n",
       "0      100      11     9001   kim  Notebook  1000000\n",
       "1      100      12     9002   kim    TABLET  1500000\n",
       "2      200      13     9001  park  Notebook  1000000\n",
       "3      200      14     9003  park        TV  2000000\n",
       "4      300      15     9003   ahn        TV  2000000"
      ]
     },
     "execution_count": 71,
     "metadata": {},
     "output_type": "execute_result"
    }
   ],
   "source": [
    "# Q20. 19번에서 만든 데이터프레임과 prdt_df를 병합하여 아래와 같은 결과가 나오게 코드를 작성해보세요. merge_df라는 변수로 저장하세요\n",
    "merge_df = pd.merge(ord_cust_df, prdt_df, how='left', on='PRDT_CD')\n",
    "merge_df"
   ]
  },
  {
   "cell_type": "code",
   "execution_count": 72,
   "metadata": {
    "colab": {
     "base_uri": "https://localhost:8080/",
     "height": 175
    },
    "id": "1W4DSI0sI091",
    "outputId": "34eab5f7-be2b-46f3-f4bd-ab61e7047acf"
   },
   "outputs": [
    {
     "data": {
      "text/plain": [
       "NAME\n",
       "ahn     2000000\n",
       "kim     2500000\n",
       "park    3000000\n",
       "Name: PRICE, dtype: int64"
      ]
     },
     "execution_count": 72,
     "metadata": {},
     "output_type": "execute_result"
    }
   ],
   "source": [
    "#Q21. 20번에서 만든 데이터셋으로 각 고객이 총 얼마를 지불하였는지 보여주는 코드를 작성해보세요\n",
    "group_df = merge_df.groupby('NAME')\n",
    "group_df['PRICE'].sum()"
   ]
  },
  {
   "cell_type": "markdown",
   "metadata": {
    "id": "h1rtsMU3JJ0u"
   },
   "source": [
    "수고하셨습니다!"
   ]
  }
 ],
 "metadata": {
  "colab": {
   "provenance": []
  },
  "kernelspec": {
   "display_name": "Python 3 (ipykernel)",
   "language": "python",
   "name": "python3"
  },
  "language_info": {
   "codemirror_mode": {
    "name": "ipython",
    "version": 3
   },
   "file_extension": ".py",
   "mimetype": "text/x-python",
   "name": "python",
   "nbconvert_exporter": "python",
   "pygments_lexer": "ipython3",
   "version": "3.9.6"
  },
  "toc": {
   "base_numbering": 1,
   "nav_menu": {},
   "number_sections": true,
   "sideBar": true,
   "skip_h1_title": false,
   "title_cell": "Table of Contents",
   "title_sidebar": "Contents",
   "toc_cell": false,
   "toc_position": {},
   "toc_section_display": true,
   "toc_window_display": false
  }
 },
 "nbformat": 4,
 "nbformat_minor": 1
}
