{
 "cells": [
  {
   "cell_type": "code",
   "execution_count": 2,
   "id": "29f8411d",
   "metadata": {},
   "outputs": [],
   "source": [
    "import pandas as pd"
   ]
  },
  {
   "cell_type": "code",
   "execution_count": 6,
   "id": "62e14388",
   "metadata": {},
   "outputs": [],
   "source": [
    "subway = pd.read_csv(\"C:/Users/심은조/Downloads/subway.csv\", encoding='cp949')"
   ]
  },
  {
   "cell_type": "code",
   "execution_count": 9,
   "id": "30fe5686",
   "metadata": {},
   "outputs": [],
   "source": [
    "subway_oct = subway[(subway['수송일자'] == \"2022-10-15\") | (subway['수송일자'] == \"2022-10-14\") | (subway['수송일자'] == \"2022-10-16\") | (subway['수송일자'] == \"2022-10-08\") | (subway['수송일자'] == \"2022-10-22\")]"
   ]
  },
  {
   "cell_type": "code",
   "execution_count": 18,
   "id": "6caaaf8d",
   "metadata": {},
   "outputs": [
    {
     "name": "stderr",
     "output_type": "stream",
     "text": [
      "C:\\Users\\Public\\Documents\\ESTsoft\\CreatorTemp/ipykernel_35980/2700311313.py:2: FutureWarning: The default value of numeric_only in DataFrameGroupBy.sum is deprecated. In a future version, numeric_only will default to False. Either specify numeric_only or select only columns which should be valid for the function.\n",
      "  sum_date.sum()['15-16시간대']\n"
     ]
    },
    {
     "data": {
      "text/plain": [
       "수송일자\n",
       "2022-10-08    570942\n",
       "2022-10-14    495030\n",
       "2022-10-15    537182\n",
       "2022-10-16    390641\n",
       "2022-10-22    568473\n",
       "Name: 15-16시간대, dtype: int64"
      ]
     },
     "execution_count": 18,
     "metadata": {},
     "output_type": "execute_result"
    }
   ],
   "source": [
    "#날짜별 전체 합계\n",
    "sum_date = subway_oct.groupby(['수송일자']) \n",
    "sum_date.sum()['15-16시간대']"
   ]
  },
  {
   "cell_type": "code",
   "execution_count": 21,
   "id": "7835e30a",
   "metadata": {},
   "outputs": [
    {
     "name": "stderr",
     "output_type": "stream",
     "text": [
      "C:\\Users\\Public\\Documents\\ESTsoft\\CreatorTemp/ipykernel_35980/2130662049.py:3: FutureWarning: The default value of numeric_only in DataFrameGroupBy.sum is deprecated. In a future version, numeric_only will default to False. Either specify numeric_only or select only columns which should be valid for the function.\n",
      "  sum_date_on.sum()['15-16시간대']\n"
     ]
    },
    {
     "data": {
      "text/plain": [
       "수송일자\n",
       "2022-10-08    289226\n",
       "2022-10-14    263718\n",
       "2022-10-15    274686\n",
       "2022-10-16    198263\n",
       "2022-10-22    287041\n",
       "Name: 15-16시간대, dtype: int64"
      ]
     },
     "execution_count": 21,
     "metadata": {},
     "output_type": "execute_result"
    }
   ],
   "source": [
    "#날짜별 승차 합계\n",
    "sum_date_on = subway_oct[(subway_oct['승하차구분'] == \"승차\")]\n",
    "sum_date_on = sum_date_on.groupby(['수송일자'])  \n",
    "sum_date_on.sum()['15-16시간대']"
   ]
  },
  {
   "cell_type": "code",
   "execution_count": 22,
   "id": "e08ac653",
   "metadata": {},
   "outputs": [
    {
     "name": "stderr",
     "output_type": "stream",
     "text": [
      "C:\\Users\\Public\\Documents\\ESTsoft\\CreatorTemp/ipykernel_35980/2856198416.py:3: FutureWarning: The default value of numeric_only in DataFrameGroupBy.sum is deprecated. In a future version, numeric_only will default to False. Either specify numeric_only or select only columns which should be valid for the function.\n",
      "  sum_line.sum()['15-16시간대']\n"
     ]
    },
    {
     "data": {
      "text/plain": [
       "수송일자        호선\n",
       "2022-10-08  1      38868\n",
       "            2     172968\n",
       "            3      72213\n",
       "            4      70126\n",
       "            5      89551\n",
       "            6      42308\n",
       "            7      62516\n",
       "            8      22392\n",
       "2022-10-14  1      32587\n",
       "            2     149796\n",
       "            3      61730\n",
       "            4      61459\n",
       "            5      69736\n",
       "            6      36731\n",
       "            7      61722\n",
       "            8      21269\n",
       "2022-10-15  1      38113\n",
       "            2     160861\n",
       "            3      69542\n",
       "            4      63984\n",
       "            5      74749\n",
       "            6      48548\n",
       "            7      59774\n",
       "            8      21611\n",
       "2022-10-16  1      27304\n",
       "            2     114315\n",
       "            3      48591\n",
       "            4      46159\n",
       "            5      54376\n",
       "            6      38106\n",
       "            7      45852\n",
       "            8      15938\n",
       "2022-10-22  1      46509\n",
       "            2     176159\n",
       "            3      74646\n",
       "            4      67904\n",
       "            5      77551\n",
       "            6      43483\n",
       "            7      60881\n",
       "            8      21340\n",
       "Name: 15-16시간대, dtype: int64"
      ]
     },
     "execution_count": 22,
     "metadata": {},
     "output_type": "execute_result"
    }
   ],
   "source": [
    "#호선별 합계\n",
    "sum_line = subway_oct.groupby(['수송일자', '호선']) \n",
    "sum_line.sum()['15-16시간대']"
   ]
  },
  {
   "cell_type": "code",
   "execution_count": 23,
   "id": "488f0dc8",
   "metadata": {},
   "outputs": [
    {
     "name": "stderr",
     "output_type": "stream",
     "text": [
      "C:\\Users\\Public\\Documents\\ESTsoft\\CreatorTemp/ipykernel_35980/2969113844.py:4: FutureWarning: The default value of numeric_only in DataFrameGroupBy.sum is deprecated. In a future version, numeric_only will default to False. Either specify numeric_only or select only columns which should be valid for the function.\n",
      "  sum_line_on.sum()['15-16시간대']\n"
     ]
    },
    {
     "data": {
      "text/plain": [
       "수송일자        호선\n",
       "2022-10-08  1     21217\n",
       "            2     86047\n",
       "            3     38181\n",
       "            4     35235\n",
       "            5     42657\n",
       "            6     21402\n",
       "            7     32743\n",
       "            8     11744\n",
       "2022-10-14  1     18956\n",
       "            2     79618\n",
       "            3     33727\n",
       "            4     32723\n",
       "            5     36216\n",
       "            6     19024\n",
       "            7     32407\n",
       "            8     11047\n",
       "2022-10-15  1     21228\n",
       "            2     81272\n",
       "            3     36247\n",
       "            4     32356\n",
       "            5     38145\n",
       "            6     23723\n",
       "            7     31093\n",
       "            8     10622\n",
       "2022-10-16  1     15229\n",
       "            2     57282\n",
       "            3     24959\n",
       "            4     22941\n",
       "            5     27373\n",
       "            6     18984\n",
       "            7     23536\n",
       "            8      7959\n",
       "2022-10-22  1     23260\n",
       "            2     86942\n",
       "            3     38887\n",
       "            4     34305\n",
       "            5     39562\n",
       "            6     21543\n",
       "            7     31783\n",
       "            8     10759\n",
       "Name: 15-16시간대, dtype: int64"
      ]
     },
     "execution_count": 23,
     "metadata": {},
     "output_type": "execute_result"
    }
   ],
   "source": [
    "#호선별 승차 합계\n",
    "sum_line_on = subway_oct[(subway_oct['승하차구분'] == \"승차\")]\n",
    "sum_line_on = sum_line_on.groupby(['수송일자', '호선']) \n",
    "sum_line_on.sum()['15-16시간대']"
   ]
  },
  {
   "cell_type": "code",
   "execution_count": 24,
   "id": "22ca2cec",
   "metadata": {},
   "outputs": [
    {
     "name": "stderr",
     "output_type": "stream",
     "text": [
      "C:\\Users\\Public\\Documents\\ESTsoft\\CreatorTemp/ipykernel_35980/966833525.py:3: FutureWarning: The default value of numeric_only in DataFrameGroupBy.sum is deprecated. In a future version, numeric_only will default to False. Either specify numeric_only or select only columns which should be valid for the function.\n",
      "  sum_people.sum()['15-16시간대']\n"
     ]
    },
    {
     "data": {
      "text/plain": [
       "수송일자        승객유형   \n",
       "2022-10-08  어린이         11149\n",
       "            영어 어린이         37\n",
       "            영어 일반         692\n",
       "            우대권        109802\n",
       "            일반         426260\n",
       "            일어 어린이          7\n",
       "            일어 일반         204\n",
       "            중고생           131\n",
       "            중국어 어린이         3\n",
       "            중국어 일반         98\n",
       "            청소년         22559\n",
       "2022-10-14  어린이          3273\n",
       "            영어 어린이         40\n",
       "            영어 일반         692\n",
       "            우대권        140891\n",
       "            일반         322783\n",
       "            일어 어린이          2\n",
       "            일어 일반         105\n",
       "            중고생           122\n",
       "            중국어 어린이         0\n",
       "            중국어 일반         64\n",
       "            청소년         27058\n",
       "2022-10-15  어린이          8299\n",
       "            영어 어린이         33\n",
       "            영어 일반         724\n",
       "            우대권        113430\n",
       "            일반         396845\n",
       "            일어 어린이          2\n",
       "            일어 일반          59\n",
       "            중고생            99\n",
       "            중국어 어린이         5\n",
       "            중국어 일반         83\n",
       "            청소년         17603\n",
       "2022-10-16  어린이          5811\n",
       "            영어 어린이         49\n",
       "            영어 일반         751\n",
       "            우대권         84501\n",
       "            일반         284267\n",
       "            일어 어린이          0\n",
       "            일어 일반          79\n",
       "            중고생            66\n",
       "            중국어 어린이         2\n",
       "            중국어 일반        116\n",
       "            청소년         14999\n",
       "2022-10-22  어린이          8465\n",
       "            영어 어린이         50\n",
       "            영어 일반         838\n",
       "            우대권        117476\n",
       "            일반         419999\n",
       "            일어 어린이          0\n",
       "            일어 일반         156\n",
       "            중고생           111\n",
       "            중국어 어린이         1\n",
       "            중국어 일반        146\n",
       "            청소년         21231\n",
       "Name: 15-16시간대, dtype: int64"
      ]
     },
     "execution_count": 24,
     "metadata": {},
     "output_type": "execute_result"
    }
   ],
   "source": [
    "#승객유형별 합계\n",
    "sum_people = subway_oct.groupby(['수송일자', '승객유형']) \n",
    "sum_people.sum()['15-16시간대']"
   ]
  },
  {
   "cell_type": "code",
   "execution_count": 25,
   "id": "cad749bb",
   "metadata": {},
   "outputs": [
    {
     "name": "stderr",
     "output_type": "stream",
     "text": [
      "C:\\Users\\Public\\Documents\\ESTsoft\\CreatorTemp/ipykernel_35980/1358900218.py:4: FutureWarning: The default value of numeric_only in DataFrameGroupBy.sum is deprecated. In a future version, numeric_only will default to False. Either specify numeric_only or select only columns which should be valid for the function.\n",
      "  sum_people_on.sum()['15-16시간대']\n"
     ]
    },
    {
     "data": {
      "text/plain": [
       "수송일자        승객유형   \n",
       "2022-10-08  어린이          5521\n",
       "            영어 어린이         18\n",
       "            영어 일반         346\n",
       "            우대권         57191\n",
       "            일반         215079\n",
       "            일어 어린이          2\n",
       "            일어 일반         109\n",
       "            중고생            59\n",
       "            중국어 어린이         2\n",
       "            중국어 일반         48\n",
       "            청소년         10851\n",
       "2022-10-14  어린이          1814\n",
       "            영어 어린이         18\n",
       "            영어 일반         369\n",
       "            우대권         74198\n",
       "            일반         170991\n",
       "            일어 어린이          1\n",
       "            일어 일반          41\n",
       "            중고생            77\n",
       "            중국어 어린이         0\n",
       "            중국어 일반         38\n",
       "            청소년         16171\n",
       "2022-10-15  어린이          4235\n",
       "            영어 어린이         17\n",
       "            영어 일반         382\n",
       "            우대권         59273\n",
       "            일반         201842\n",
       "            일어 어린이          1\n",
       "            일어 일반          24\n",
       "            중고생            52\n",
       "            중국어 어린이         2\n",
       "            중국어 일반         43\n",
       "            청소년          8815\n",
       "2022-10-16  어린이          2998\n",
       "            영어 어린이         20\n",
       "            영어 일반         377\n",
       "            우대권         43324\n",
       "            일반         144053\n",
       "            일어 어린이          0\n",
       "            일어 일반          41\n",
       "            중고생            32\n",
       "            중국어 어린이         2\n",
       "            중국어 일반         66\n",
       "            청소년          7350\n",
       "2022-10-22  어린이          4278\n",
       "            영어 어린이         23\n",
       "            영어 일반         427\n",
       "            우대권         60221\n",
       "            일반         211612\n",
       "            일어 어린이          0\n",
       "            일어 일반          72\n",
       "            중고생            55\n",
       "            중국어 어린이         1\n",
       "            중국어 일반         73\n",
       "            청소년         10279\n",
       "Name: 15-16시간대, dtype: int64"
      ]
     },
     "execution_count": 25,
     "metadata": {},
     "output_type": "execute_result"
    }
   ],
   "source": [
    "#승객유형별 승차 합계\n",
    "sum_people_on = subway_oct[(subway_oct['승하차구분'] == \"승차\")]\n",
    "sum_people_on = sum_people_on.groupby(['수송일자', '승객유형']) \n",
    "sum_people_on.sum()['15-16시간대']"
   ]
  },
  {
   "cell_type": "code",
   "execution_count": null,
   "id": "67ce145f",
   "metadata": {},
   "outputs": [],
   "source": []
  }
 ],
 "metadata": {
  "kernelspec": {
   "display_name": "Python 3 (ipykernel)",
   "language": "python",
   "name": "python3"
  },
  "language_info": {
   "codemirror_mode": {
    "name": "ipython",
    "version": 3
   },
   "file_extension": ".py",
   "mimetype": "text/x-python",
   "name": "python",
   "nbconvert_exporter": "python",
   "pygments_lexer": "ipython3",
   "version": "3.9.6"
  },
  "toc": {
   "base_numbering": 1,
   "nav_menu": {},
   "number_sections": true,
   "sideBar": true,
   "skip_h1_title": false,
   "title_cell": "Table of Contents",
   "title_sidebar": "Contents",
   "toc_cell": false,
   "toc_position": {},
   "toc_section_display": true,
   "toc_window_display": false
  }
 },
 "nbformat": 4,
 "nbformat_minor": 5
}
