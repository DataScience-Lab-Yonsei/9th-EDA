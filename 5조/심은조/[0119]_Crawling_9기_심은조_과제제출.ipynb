{
 "cells": [
  {
   "cell_type": "code",
   "execution_count": 5,
   "id": "c9a5c21a",
   "metadata": {},
   "outputs": [
    {
     "name": "stderr",
     "output_type": "stream",
     "text": [
      "C:\\Users\\이정현\\AppData\\Local\\Temp\\ipykernel_21808\\658564496.py:15: DeprecationWarning: executable_path has been deprecated, please pass in a Service object\n",
      "  driver = webdriver.Chrome(chromedriver)\n"
     ]
    }
   ],
   "source": [
    "from selenium import webdriver\n",
    "from selenium.webdriver.chrome.service import Service\n",
    "from webdriver_manager.chrome import ChromeDriverManager\n",
    "\n",
    "from selenium.webdriver.support.ui import WebDriverWait\n",
    "\n",
    "from selenium.webdriver.support import expected_conditions as EC\n",
    "from selenium.webdriver.common.by import By\n",
    "\n",
    "from selenium.webdriver.common.keys import Keys\n",
    "\n",
    "import time\n",
    "\n",
    "chromedriver = \"C:/Users/이정현/OneDrive/Desktop/chromedriver_win32/chromedriver.exe\" \n",
    "driver = webdriver.Chrome(chromedriver)"
   ]
  },
  {
   "cell_type": "code",
   "execution_count": 10,
   "id": "6e8c1433",
   "metadata": {},
   "outputs": [],
   "source": [
    "url = \"https://www.google.com/\"\n",
    "\n",
    "driver.get(url)\n",
    "\n",
    "search_box = driver.find_element(By.XPATH, '/html/body/div[1]/div[3]/form/div[1]/div[1]/div[1]/div/div[2]/input')\n",
    "search_box.send_keys('카카오톡 먹통 사태')\n",
    "search_box.send_keys(Keys.ENTER)\n",
    "\n",
    "news = driver.find_element(By.XPATH, '//*[@id=\"hdtb-msb\"]/div[1]/div/div[3]/a').click()\n",
    "\n",
    "items = driver.find_elements(By.CSS_SELECTOR, \"div.mCBkyc.ynAwRc.MBeuO.nDgy9d\")"
   ]
  },
  {
   "cell_type": "code",
   "execution_count": 11,
   "id": "948a1167",
   "metadata": {},
   "outputs": [
    {
     "name": "stdout",
     "output_type": "stream",
     "text": [
      "카카오 먹통 보상은 이모티콘…'90일 제한' 포함 3종\n",
      "카카오톡 먹통 사태 해외 이용자 보상 제외...메신저 먹통 보상 맞나요?\n",
      "카카오 '먹통' 보상…카톡 이용자 전원에 무료 이모티콘 지급\n",
      "[포토多이슈-속보] 카카오톡 또 다시 ‘먹통’사태 발생\n",
      "카톡 또 먹통…“메시지 전송·카카오페이 안 돼요”\n",
      "카카오톡, 정신 못차렸나?...10분간 오류 발생에 \"네트워크 오류 탓\"\n",
      "“수백억 들어간다”는 카톡 먹통 보상, 뜯어보니 '이모티콘'\n",
      "'먹통 사태' 마무리한 카카오...'카톡 개편'으로 신사업 고삐\n",
      "[금주의 위기 인사이트] 카카오 먹통 사태 보상안 '꼼수 마케팅' 논란\n",
      "카카오 먹통 70여일 후… 원인은 잡았지만 원칙은 못 잡았다\n"
     ]
    }
   ],
   "source": [
    "for item in items:\n",
    "    print(item.text)"
   ]
  },
  {
   "cell_type": "code",
   "execution_count": null,
   "id": "4f4354f3",
   "metadata": {},
   "outputs": [],
   "source": [
    "#결론\n",
    "'''카카오톡 먹통 사태로 인해서 택시, 공유자전거, 공유킥보드 등을 사용하지 못한 사람들이 대체방안으로 대중교통을 이용함으로써\n",
    "그 시각 대중교통 이용량이 증가했을 것이라는 가설을 세웠다. 서울교통공사가 제공하는 일별 시간대별 호선별 승객유형별 지하철 데이터를\n",
    "사용했다. 카카오톡 먹통 사태가 발생한 15시 30분을 기점으로 그 이전은 before, 이후는 after의 데이터 프레임을 생성하고 t-test를 \n",
    "실시한 결과 유의미한 차이가 없다는 결과가 나왔다. 카카오톡이 정상화된 이후의 승객 수 때문에 카카오톡 먹통의 효과가 묻힌 것은 \n",
    "아닐까 하고 시간대 별 시각화를 진행한 결과 전주, 전날, 다음날, 다음주의 승객수와 동일한 그래프의 형태가 나타났다. \n",
    "따라서 가설을 기각한다. 카카오 서비스를 통해서 이동수단을 이용하지 못한 사람들이 다른 어플리케이션을 사용했거나 어플리케이션 없이 \n",
    "이동수단을 이용했을 것으로 예상된다.'''"
   ]
  }
 ],
 "metadata": {
  "kernelspec": {
   "display_name": "Python 3 (ipykernel)",
   "language": "python",
   "name": "python3"
  },
  "language_info": {
   "codemirror_mode": {
    "name": "ipython",
    "version": 3
   },
   "file_extension": ".py",
   "mimetype": "text/x-python",
   "name": "python",
   "nbconvert_exporter": "python",
   "pygments_lexer": "ipython3",
   "version": "3.11.1"
  }
 },
 "nbformat": 4,
 "nbformat_minor": 5
}
