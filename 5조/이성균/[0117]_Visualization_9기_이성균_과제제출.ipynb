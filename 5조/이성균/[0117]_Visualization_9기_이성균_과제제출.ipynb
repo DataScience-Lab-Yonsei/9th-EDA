{
  "nbformat": 4,
  "nbformat_minor": 0,
  "metadata": {
    "colab": {
      "provenance": []
    },
    "kernelspec": {
      "name": "python3",
      "display_name": "Python 3"
    },
    "language_info": {
      "name": "python"
    }
  },
  "cells": [
    {
      "cell_type": "markdown",
      "source": [
        "# **EDA방법론 세션 이후 과제(~230120)**\n",
        "노선별 t-test 진행(9월 vs. 11월)\n",
        "EDA 5조 이성균"
      ],
      "metadata": {
        "id": "z6KtCI47bM-H"
      }
    },
    {
      "cell_type": "markdown",
      "source": [
        "### **13145 연세로.명물거리(세브란스병원 방면) (타코벨 앞)**\n",
        "171, 172, 173, 472, 674, 700, 7024, 서대문03, 서대문04, 서대문05\n",
        "### **13146 연세로.스타광장(현대백화점 방면) (유플렉스 앞)**\n",
        "7720, 7727, 7728, 72, 75\n",
        "### **13324 연세로.문학의거리(연세로.명물거리 방면) (playground 앞)**\n",
        "171, 172, 173, 472, 674, 700, 7024\n"
      ],
      "metadata": {
        "id": "byIKGfVu0Jo2"
      }
    },
    {
      "cell_type": "markdown",
      "source": [
        "차 없는 거리 : 2014년 1월 연세로가 서울시 첫 대중교통전용지구로 지정됨, 왕복 4차로를 2차로로 줄이고 인도 확장. 2018년 4월부터는 금요일 오후 2시부터 버스도 금지해 완전히 차 없는 거리로 만듦(더불어민주당 문석진 전 서대문구청장)\n",
        "\n",
        "차 없는 거리 해제 : 국민의힘 이성헌 현 서대문구청장 취임(2022.07.01.) 이후, 2022년 10월 9일 오후 10시부터 주말에도 버스 통행 가능, 2023년 1월 20일부터 9월 30일까지 대중교통전용지구 해제 시범운영 및 24시간 전일 차량 통행 가능\n",
        "\n",
        "전후 변화 : 2022년 10월 9일 전후 13145, 13324 승하차인원 추이 비교 - 9월과 11월의 승차인원 평균이 차이가 있는지 이표본 이분산 t-검정 수행"
      ],
      "metadata": {
        "id": "r1d-iDoL0Een"
      }
    },
    {
      "cell_type": "markdown",
      "source": [
        "불리언 인덱싱, loc 함수를 통해 필요한 정보들만 뽑아내어 시각화하려고 시도함."
      ],
      "metadata": {
        "id": "DkKGBhMw6xJ_"
      }
    },
    {
      "cell_type": "code",
      "execution_count": 27,
      "metadata": {
        "colab": {
          "base_uri": "https://localhost:8080/"
        },
        "id": "9J0LymTOzBg3",
        "outputId": "c03d2551-23d6-4128-b98d-de65825428ba"
      },
      "outputs": [
        {
          "output_type": "stream",
          "name": "stdout",
          "text": [
            "Drive already mounted at /content/drive; to attempt to forcibly remount, call drive.mount(\"/content/drive\", force_remount=True).\n"
          ]
        }
      ],
      "source": [
        "from google.colab import drive\n",
        "drive.mount('/content/drive')"
      ]
    },
    {
      "cell_type": "code",
      "source": [
        "import numpy as np\n",
        "import pandas as pd\n",
        "import matplotlib as mpl\n",
        "import matplotlib.pyplot as plt\n",
        "import seaborn as sns"
      ],
      "metadata": {
        "id": "cFBQqqoozGZ9"
      },
      "execution_count": 28,
      "outputs": []
    },
    {
      "cell_type": "code",
      "source": [
        "B2212 = pd.read_csv('/content/drive/MyDrive/DSL_EDA/BUS_STATION_BOARDING_MONTH_202212.csv', encoding = 'cp949')\n",
        "B2211 = pd.read_csv('/content/drive/MyDrive/DSL_EDA/BUS_STATION_BOARDING_MONTH_202211.csv', encoding = 'cp949')\n",
        "B2210 = pd.read_csv('/content/drive/MyDrive/DSL_EDA/BUS_STATION_BOARDING_MONTH_202210.csv', encoding = 'cp949')\n",
        "B2209 = pd.read_csv('/content/drive/MyDrive/DSL_EDA/BUS_STATION_BOARDING_MONTH_202209.csv', encoding = 'cp949')\n",
        "B2208 = pd.read_csv('/content/drive/MyDrive/DSL_EDA/BUS_STATION_BOARDING_MONTH_202208.csv', encoding = 'cp949')\n",
        "B2207 = pd.read_csv('/content/drive/MyDrive/DSL_EDA/BUS_STATION_BOARDING_MONTH_202207.csv', encoding = 'cp949')"
      ],
      "metadata": {
        "id": "E8U7CgI8zTWa"
      },
      "execution_count": 29,
      "outputs": []
    },
    {
      "cell_type": "code",
      "source": [
        "# 13145 정류장(타코벨 앞) 데이터프레임 만드는 함수\n",
        "def DF13145(df, num):\n",
        "  tt = df[df['노선번호']==num]\n",
        "  tt = tt[tt['버스정류장ARS번호']=='13145']\n",
        "  return tt\n",
        "\n",
        "dflist_13145 = []\n",
        "for df in [B2207, B2208, B2209, B2210, B2211, B2212]:\n",
        "  for num in ['171', '172', '173', '472', '674', '700', '7024', '서대문03', '서대문04', '서대문05']:\n",
        "    dflist_13145.append(DF13145(df,num).loc[:,['사용일자','노선번호','버스정류장ARS번호','승차총승객수','하차총승객수']])"
      ],
      "metadata": {
        "id": "jISBsITG5ZWi"
      },
      "execution_count": 30,
      "outputs": []
    },
    {
      "cell_type": "code",
      "source": [
        "# 13146 정류장(유플렉스 앞) 데이터프레임 만드는 함수\n",
        "def DF13146(df, num):\n",
        "  tt = df[df['노선번호']==num]\n",
        "  tt = tt[tt['버스정류장ARS번호']=='13146']\n",
        "  return tt\n",
        "\n",
        "dflist_13146 = []\n",
        "for df in [B2207, B2208, B2209, B2210, B2211, B2212]:\n",
        "  for num in ['7720', '7727', '7728', '72', '75']:\n",
        "    dflist_13146.append(DF13146(df,num).loc[:,['사용일자','노선번호','버스정류장ARS번호','승차총승객수','하차총승객수']])"
      ],
      "metadata": {
        "id": "yefPyNDU7loz"
      },
      "execution_count": 31,
      "outputs": []
    },
    {
      "cell_type": "code",
      "source": [
        "# 13324 정류장(playground 앞) 데이터프레임 만드는 함수\n",
        "def DF13324(df, num):\n",
        "  tt = df[df['노선번호']==num]\n",
        "  tt = tt[tt['버스정류장ARS번호']=='13324']\n",
        "  return tt\n",
        "\n",
        "dflist_13324 = []\n",
        "for df in [B2207, B2208, B2209, B2210, B2211, B2212]:\n",
        "  for num in ['171', '172', '173', '472', '674', '700', '7024']:\n",
        "    dflist_13324.append(DF13324(df,num).loc[:,['사용일자','노선번호','버스정류장ARS번호','승차총승객수','하차총승객수']])"
      ],
      "metadata": {
        "id": "RRdKAjF47uA0"
      },
      "execution_count": 32,
      "outputs": []
    },
    {
      "cell_type": "markdown",
      "source": [
        "사용일자를 datetime 패키지 사용해서 요일 입력 후, 금~일 제외해서(차 없는 거리 : 금요일 오후 2시부터 일요일 자정까지) df 새로 생성"
      ],
      "metadata": {
        "id": "x6JF3XJTfEyn"
      }
    },
    {
      "cell_type": "code",
      "source": [
        "import datetime\n",
        "days = ['Mon','Tue','Wed','Thu','Fri','Sat','Sun']"
      ],
      "metadata": {
        "id": "z1C4ukDpk2Yj"
      },
      "execution_count": 33,
      "outputs": []
    },
    {
      "cell_type": "code",
      "source": [
        "#13145 정류장 정리\n",
        "\n",
        "for k in range(0,len(dflist_13145)):\n",
        "  date = []\n",
        "  for i in range(0,len(dflist_13145[k].loc[:,'사용일자'])):\n",
        "    a = pd.DataFrame(dflist_13145[k].loc[:,'사용일자']).iat[i,0]\n",
        "    date.append(days[datetime.date(int(str(a)[0:4]),int(str(a)[4:6]),int(str(a)[6:8])).weekday()])\n",
        "  # 요일 칼럼 집어넣기\n",
        "  dflist_13145[k].insert(0,'요일',date)\n",
        "  # 금,토,일 삭제\n",
        "  dflist_13145[k] = dflist_13145[k][(dflist_13145[k]['요일']!='Fri')&(dflist_13145[k]['요일']!='Sat')&(dflist_13145[k]['요일']!='Sun')]"
      ],
      "metadata": {
        "id": "hLQ8xCIglvDP"
      },
      "execution_count": 34,
      "outputs": []
    },
    {
      "cell_type": "code",
      "source": [
        "#13146 정류장 정리\n",
        "\n",
        "for k in range(0,len(dflist_13146)):\n",
        "  date = []\n",
        "  for i in range(0,len(dflist_13146[k].loc[:,'사용일자'])):\n",
        "    a = pd.DataFrame(dflist_13146[k].loc[:,'사용일자']).iat[i,0]\n",
        "    date.append(days[datetime.date(int(str(a)[0:4]),int(str(a)[4:6]),int(str(a)[6:8])).weekday()])\n",
        "  # 요일 칼럼 집어넣기\n",
        "  dflist_13146[k].insert(0,'요일',date)\n",
        "  # 금,토,일 삭제\n",
        "  dflist_13146[k] = dflist_13146[k][(dflist_13146[k]['요일']!='Fri')&(dflist_13146[k]['요일']!='Sat')&(dflist_13146[k]['요일']!='Sun')]"
      ],
      "metadata": {
        "id": "yREyDC6jKP9Q"
      },
      "execution_count": 35,
      "outputs": []
    },
    {
      "cell_type": "code",
      "source": [
        "#13324 정류장 정리\n",
        "\n",
        "for k in range(0,len(dflist_13324)):\n",
        "  date = []\n",
        "  for i in range(0,len(dflist_13324[k].loc[:,'사용일자'])):\n",
        "    a = pd.DataFrame(dflist_13324[k].loc[:,'사용일자']).iat[i,0]\n",
        "    date.append(days[datetime.date(int(str(a)[0:4]),int(str(a)[4:6]),int(str(a)[6:8])).weekday()])\n",
        "  # 요일 칼럼 집어넣기\n",
        "  dflist_13324[k].insert(0,'요일',date)\n",
        "  # 금,토,일 삭제\n",
        "  dflist_13324[k] = dflist_13324[k][(dflist_13324[k]['요일']!='Fri')&(dflist_13324[k]['요일']!='Sat')&(dflist_13324[k]['요일']!='Sun')]"
      ],
      "metadata": {
        "id": "m4rquoPRKYec"
      },
      "execution_count": 36,
      "outputs": []
    },
    {
      "cell_type": "markdown",
      "source": [
        "서대문03 7월~12월 이용객수(13145) 모음"
      ],
      "metadata": {
        "id": "dcrcaW6wfvPU"
      }
    },
    {
      "cell_type": "code",
      "source": [
        "Data_13145_S03 = pd.concat([dflist_13145[7],dflist_13145[17],dflist_13145[27],dflist_13145[37],dflist_13145[47],dflist_13145[57]])\n",
        "Data_13145_S03"
      ],
      "metadata": {
        "id": "VzgBdj943n01",
        "colab": {
          "base_uri": "https://localhost:8080/",
          "height": 423
        },
        "outputId": "65312557-44ff-445b-afdb-b174144500c7"
      },
      "execution_count": 37,
      "outputs": [
        {
          "output_type": "execute_result",
          "data": {
            "text/plain": [
              "          요일      사용일자   노선번호 버스정류장ARS번호  승차총승객수  하차총승객수\n",
              "143555   Mon  20220704  서대문03      13145     609     299\n",
              "183199   Tue  20220705  서대문03      13145     620     269\n",
              "222880   Wed  20220706  서대문03      13145     628     246\n",
              "262331   Thu  20220707  서대문03      13145     582     225\n",
              "420400   Mon  20220711  서대문03      13145     511     224\n",
              "...      ...       ...    ...        ...     ...     ...\n",
              "872132   Thu  20221222  서대문03      13145     702     263\n",
              "1032129  Mon  20221226  서대문03      13145     637     246\n",
              "1072463  Tue  20221227  서대문03      13145     632     241\n",
              "1112864  Wed  20221228  서대문03      13145     679     233\n",
              "1153205  Thu  20221229  서대문03      13145     594     215\n",
              "\n",
              "[104 rows x 6 columns]"
            ],
            "text/html": [
              "\n",
              "  <div id=\"df-8cbe627f-a07a-4835-9278-01f634d0b69e\">\n",
              "    <div class=\"colab-df-container\">\n",
              "      <div>\n",
              "<style scoped>\n",
              "    .dataframe tbody tr th:only-of-type {\n",
              "        vertical-align: middle;\n",
              "    }\n",
              "\n",
              "    .dataframe tbody tr th {\n",
              "        vertical-align: top;\n",
              "    }\n",
              "\n",
              "    .dataframe thead th {\n",
              "        text-align: right;\n",
              "    }\n",
              "</style>\n",
              "<table border=\"1\" class=\"dataframe\">\n",
              "  <thead>\n",
              "    <tr style=\"text-align: right;\">\n",
              "      <th></th>\n",
              "      <th>요일</th>\n",
              "      <th>사용일자</th>\n",
              "      <th>노선번호</th>\n",
              "      <th>버스정류장ARS번호</th>\n",
              "      <th>승차총승객수</th>\n",
              "      <th>하차총승객수</th>\n",
              "    </tr>\n",
              "  </thead>\n",
              "  <tbody>\n",
              "    <tr>\n",
              "      <th>143555</th>\n",
              "      <td>Mon</td>\n",
              "      <td>20220704</td>\n",
              "      <td>서대문03</td>\n",
              "      <td>13145</td>\n",
              "      <td>609</td>\n",
              "      <td>299</td>\n",
              "    </tr>\n",
              "    <tr>\n",
              "      <th>183199</th>\n",
              "      <td>Tue</td>\n",
              "      <td>20220705</td>\n",
              "      <td>서대문03</td>\n",
              "      <td>13145</td>\n",
              "      <td>620</td>\n",
              "      <td>269</td>\n",
              "    </tr>\n",
              "    <tr>\n",
              "      <th>222880</th>\n",
              "      <td>Wed</td>\n",
              "      <td>20220706</td>\n",
              "      <td>서대문03</td>\n",
              "      <td>13145</td>\n",
              "      <td>628</td>\n",
              "      <td>246</td>\n",
              "    </tr>\n",
              "    <tr>\n",
              "      <th>262331</th>\n",
              "      <td>Thu</td>\n",
              "      <td>20220707</td>\n",
              "      <td>서대문03</td>\n",
              "      <td>13145</td>\n",
              "      <td>582</td>\n",
              "      <td>225</td>\n",
              "    </tr>\n",
              "    <tr>\n",
              "      <th>420400</th>\n",
              "      <td>Mon</td>\n",
              "      <td>20220711</td>\n",
              "      <td>서대문03</td>\n",
              "      <td>13145</td>\n",
              "      <td>511</td>\n",
              "      <td>224</td>\n",
              "    </tr>\n",
              "    <tr>\n",
              "      <th>...</th>\n",
              "      <td>...</td>\n",
              "      <td>...</td>\n",
              "      <td>...</td>\n",
              "      <td>...</td>\n",
              "      <td>...</td>\n",
              "      <td>...</td>\n",
              "    </tr>\n",
              "    <tr>\n",
              "      <th>872132</th>\n",
              "      <td>Thu</td>\n",
              "      <td>20221222</td>\n",
              "      <td>서대문03</td>\n",
              "      <td>13145</td>\n",
              "      <td>702</td>\n",
              "      <td>263</td>\n",
              "    </tr>\n",
              "    <tr>\n",
              "      <th>1032129</th>\n",
              "      <td>Mon</td>\n",
              "      <td>20221226</td>\n",
              "      <td>서대문03</td>\n",
              "      <td>13145</td>\n",
              "      <td>637</td>\n",
              "      <td>246</td>\n",
              "    </tr>\n",
              "    <tr>\n",
              "      <th>1072463</th>\n",
              "      <td>Tue</td>\n",
              "      <td>20221227</td>\n",
              "      <td>서대문03</td>\n",
              "      <td>13145</td>\n",
              "      <td>632</td>\n",
              "      <td>241</td>\n",
              "    </tr>\n",
              "    <tr>\n",
              "      <th>1112864</th>\n",
              "      <td>Wed</td>\n",
              "      <td>20221228</td>\n",
              "      <td>서대문03</td>\n",
              "      <td>13145</td>\n",
              "      <td>679</td>\n",
              "      <td>233</td>\n",
              "    </tr>\n",
              "    <tr>\n",
              "      <th>1153205</th>\n",
              "      <td>Thu</td>\n",
              "      <td>20221229</td>\n",
              "      <td>서대문03</td>\n",
              "      <td>13145</td>\n",
              "      <td>594</td>\n",
              "      <td>215</td>\n",
              "    </tr>\n",
              "  </tbody>\n",
              "</table>\n",
              "<p>104 rows × 6 columns</p>\n",
              "</div>\n",
              "      <button class=\"colab-df-convert\" onclick=\"convertToInteractive('df-8cbe627f-a07a-4835-9278-01f634d0b69e')\"\n",
              "              title=\"Convert this dataframe to an interactive table.\"\n",
              "              style=\"display:none;\">\n",
              "        \n",
              "  <svg xmlns=\"http://www.w3.org/2000/svg\" height=\"24px\"viewBox=\"0 0 24 24\"\n",
              "       width=\"24px\">\n",
              "    <path d=\"M0 0h24v24H0V0z\" fill=\"none\"/>\n",
              "    <path d=\"M18.56 5.44l.94 2.06.94-2.06 2.06-.94-2.06-.94-.94-2.06-.94 2.06-2.06.94zm-11 1L8.5 8.5l.94-2.06 2.06-.94-2.06-.94L8.5 2.5l-.94 2.06-2.06.94zm10 10l.94 2.06.94-2.06 2.06-.94-2.06-.94-.94-2.06-.94 2.06-2.06.94z\"/><path d=\"M17.41 7.96l-1.37-1.37c-.4-.4-.92-.59-1.43-.59-.52 0-1.04.2-1.43.59L10.3 9.45l-7.72 7.72c-.78.78-.78 2.05 0 2.83L4 21.41c.39.39.9.59 1.41.59.51 0 1.02-.2 1.41-.59l7.78-7.78 2.81-2.81c.8-.78.8-2.07 0-2.86zM5.41 20L4 18.59l7.72-7.72 1.47 1.35L5.41 20z\"/>\n",
              "  </svg>\n",
              "      </button>\n",
              "      \n",
              "  <style>\n",
              "    .colab-df-container {\n",
              "      display:flex;\n",
              "      flex-wrap:wrap;\n",
              "      gap: 12px;\n",
              "    }\n",
              "\n",
              "    .colab-df-convert {\n",
              "      background-color: #E8F0FE;\n",
              "      border: none;\n",
              "      border-radius: 50%;\n",
              "      cursor: pointer;\n",
              "      display: none;\n",
              "      fill: #1967D2;\n",
              "      height: 32px;\n",
              "      padding: 0 0 0 0;\n",
              "      width: 32px;\n",
              "    }\n",
              "\n",
              "    .colab-df-convert:hover {\n",
              "      background-color: #E2EBFA;\n",
              "      box-shadow: 0px 1px 2px rgba(60, 64, 67, 0.3), 0px 1px 3px 1px rgba(60, 64, 67, 0.15);\n",
              "      fill: #174EA6;\n",
              "    }\n",
              "\n",
              "    [theme=dark] .colab-df-convert {\n",
              "      background-color: #3B4455;\n",
              "      fill: #D2E3FC;\n",
              "    }\n",
              "\n",
              "    [theme=dark] .colab-df-convert:hover {\n",
              "      background-color: #434B5C;\n",
              "      box-shadow: 0px 1px 3px 1px rgba(0, 0, 0, 0.15);\n",
              "      filter: drop-shadow(0px 1px 2px rgba(0, 0, 0, 0.3));\n",
              "      fill: #FFFFFF;\n",
              "    }\n",
              "  </style>\n",
              "\n",
              "      <script>\n",
              "        const buttonEl =\n",
              "          document.querySelector('#df-8cbe627f-a07a-4835-9278-01f634d0b69e button.colab-df-convert');\n",
              "        buttonEl.style.display =\n",
              "          google.colab.kernel.accessAllowed ? 'block' : 'none';\n",
              "\n",
              "        async function convertToInteractive(key) {\n",
              "          const element = document.querySelector('#df-8cbe627f-a07a-4835-9278-01f634d0b69e');\n",
              "          const dataTable =\n",
              "            await google.colab.kernel.invokeFunction('convertToInteractive',\n",
              "                                                     [key], {});\n",
              "          if (!dataTable) return;\n",
              "\n",
              "          const docLinkHtml = 'Like what you see? Visit the ' +\n",
              "            '<a target=\"_blank\" href=https://colab.research.google.com/notebooks/data_table.ipynb>data table notebook</a>'\n",
              "            + ' to learn more about interactive tables.';\n",
              "          element.innerHTML = '';\n",
              "          dataTable['output_type'] = 'display_data';\n",
              "          await google.colab.output.renderOutput(dataTable, element);\n",
              "          const docLink = document.createElement('div');\n",
              "          docLink.innerHTML = docLinkHtml;\n",
              "          element.appendChild(docLink);\n",
              "        }\n",
              "      </script>\n",
              "    </div>\n",
              "  </div>\n",
              "  "
            ]
          },
          "metadata": {},
          "execution_count": 37
        }
      ]
    },
    {
      "cell_type": "markdown",
      "source": [
        "**시각화**"
      ],
      "metadata": {
        "id": "x46u7srrfaiv"
      }
    },
    {
      "cell_type": "code",
      "source": [
        "fig = plt.figure(figsize=(18, 5))\n",
        "ax1 = fig.add_subplot(1, 2, 1)\n",
        "ax2 = fig.add_subplot(1, 2, 2)\n",
        "\n",
        "ax1.plot(list(Data_13145_S03['승차총승객수']))\n",
        "ax2.plot(list(Data_13145_S03['하차총승객수']))\n",
        "\n",
        "fig.suptitle('[2022 July ~ December] Seodaemun03 (13145)')\n",
        "ax1.set_title('Take-on')\n",
        "ax2.set_title('Take-off')\n",
        "\n",
        "plt.show()"
      ],
      "metadata": {
        "colab": {
          "base_uri": "https://localhost:8080/",
          "height": 356
        },
        "id": "wJ99rS6B4x2U",
        "outputId": "22f69685-e105-4f10-ba36-edd27a7504c6"
      },
      "execution_count": 44,
      "outputs": [
        {
          "output_type": "display_data",
          "data": {
            "text/plain": [
              "<Figure size 1296x360 with 2 Axes>"
            ],
            "image/png": "[encoded data removed]"
          },
          "metadata": {
            "needs_background": "light"
          }
        }
      ]
    },
    {
      "cell_type": "markdown",
      "source": [
        "# **T-Test (유의수준 0.05)**\n",
        "시각화 목표:  \n",
        "1) 모든 노선 이용객수 추이(7월~12월)  \n",
        "2) t-검정 후 유의수준 0.05 넘는지 안넘는지에 따라 Heatmap 그리기"
      ],
      "metadata": {
        "id": "4DL7LKo3Npfv"
      }
    },
    {
      "cell_type": "code",
      "source": [
        "from scipy import stats"
      ],
      "metadata": {
        "id": "N2iy542cNtyN"
      },
      "execution_count": 45,
      "outputs": []
    },
    {
      "cell_type": "markdown",
      "source": [
        "타코벨 앞 정류장 - 서대문03 - 9월 vs. 11월 - 승차인원(월~목) 평균 차이가 유의미함"
      ],
      "metadata": {
        "id": "cuVre-EWdC3N"
      }
    },
    {
      "cell_type": "code",
      "source": [
        "t_stat, p_value = stats.ttest_ind(dflist_13145[27]['승차총승객수'], dflist_13145[47]['승차총승객수'], equal_var=False, alternative=\"two-sided\")\n",
        "print(\"t-statistics : {}, p-value : {}\".format(t_stat, p_value))"
      ],
      "metadata": {
        "colab": {
          "base_uri": "https://localhost:8080/"
        },
        "id": "Xy9k2aWFNvN-",
        "outputId": "83ae0080-0bb8-4323-9d72-c973f25d35b7"
      },
      "execution_count": 46,
      "outputs": [
        {
          "output_type": "stream",
          "name": "stdout",
          "text": [
            "t-statistics : -2.6146800394274208, p-value : 0.013609959936879221\n"
          ]
        }
      ]
    },
    {
      "cell_type": "markdown",
      "source": [
        "타코벨 앞 정류장 - 서대문03 - 9월 vs. 11월 - 하차인원(월~목) 평균 차이가 유의미하지 않음"
      ],
      "metadata": {
        "id": "ufuOM_iyPv4T"
      }
    },
    {
      "cell_type": "code",
      "source": [
        "t_stat, p_value = stats.ttest_ind(dflist_13145[27]['하차총승객수'], dflist_13145[47]['하차총승객수'], equal_var=False, alternative=\"two-sided\")\n",
        "print(\"t-statistics : {}, p-value : {}\".format(t_stat, p_value))"
      ],
      "metadata": {
        "colab": {
          "base_uri": "https://localhost:8080/"
        },
        "id": "HG0KsEonqmWF",
        "outputId": "e9d5c48c-2fb6-4bda-cbc6-fc3976aa3f39"
      },
      "execution_count": null,
      "outputs": [
        {
          "output_type": "stream",
          "name": "stdout",
          "text": [
            "t-statistics : 1.47915416366082, p-value : 0.15499285778528804\n"
          ]
        }
      ]
    },
    {
      "cell_type": "code",
      "source": [],
      "metadata": {
        "id": "85N9_sFpejZ6"
      },
      "execution_count": null,
      "outputs": []
    }
  ]
}